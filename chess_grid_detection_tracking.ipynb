{
  "nbformat": 4,
  "nbformat_minor": 0,
  "metadata": {
    "colab": {
      "provenance": [],
      "gpuType": "T4",
      "mount_file_id": "https://github.com/Savijapasandul/robo_chess/blob/main/chess_grid_detection_tracking.ipynb",
      "authorship_tag": "ABX9TyNJ9upZfNyFdSr42X8uJsy5",
      "include_colab_link": true
    },
    "kernelspec": {
      "name": "python3",
      "display_name": "Python 3"
    },
    "language_info": {
      "name": "python"
    },
    "accelerator": "GPU"
  },
  "cells": [
    {
      "cell_type": "markdown",
      "metadata": {
        "id": "view-in-github",
        "colab_type": "text"
      },
      "source": [
        "<a href=\"https://colab.research.google.com/github/Savijapasandul/robo_chess/blob/main/chess_grid_detection_tracking.ipynb\" target=\"_parent\"><img src=\"https://colab.research.google.com/assets/colab-badge.svg\" alt=\"Open In Colab\"/></a>"
      ]
    },
    {
      "cell_type": "code",
      "source": [
        "!pip install roboflow\n",
        "\n",
        "from roboflow import Roboflow\n",
        "rf = Roboflow(api_key=\"k3A3mnyIf2w3F2fjWMxG\")\n",
        "project = rf.workspace(\"savijas-workspace\").project(\"robo_chess\")\n",
        "version = project.version(2)\n",
        "dataset = version.download(\"yolov11\")\n"
      ],
      "metadata": {
        "colab": {
          "base_uri": "https://localhost:8080/"
        },
        "id": "j03qiEWKHwwC",
        "outputId": "e98c11a6-d078-416f-f5dd-4f22dfb73fa4"
      },
      "execution_count": null,
      "outputs": [
        {
          "output_type": "stream",
          "name": "stdout",
          "text": [
            "Collecting roboflow\n",
            "  Downloading roboflow-1.1.65-py3-none-any.whl.metadata (9.7 kB)\n",
            "Requirement already satisfied: certifi in /usr/local/lib/python3.11/dist-packages (from roboflow) (2025.4.26)\n",
            "Collecting idna==3.7 (from roboflow)\n",
            "  Downloading idna-3.7-py3-none-any.whl.metadata (9.9 kB)\n",
            "Requirement already satisfied: cycler in /usr/local/lib/python3.11/dist-packages (from roboflow) (0.12.1)\n",
            "Requirement already satisfied: kiwisolver>=1.3.1 in /usr/local/lib/python3.11/dist-packages (from roboflow) (1.4.8)\n",
            "Requirement already satisfied: matplotlib in /usr/local/lib/python3.11/dist-packages (from roboflow) (3.10.0)\n",
            "Requirement already satisfied: numpy>=1.18.5 in /usr/local/lib/python3.11/dist-packages (from roboflow) (2.0.2)\n",
            "Collecting opencv-python-headless==4.10.0.84 (from roboflow)\n",
            "  Downloading opencv_python_headless-4.10.0.84-cp37-abi3-manylinux_2_17_x86_64.manylinux2014_x86_64.whl.metadata (20 kB)\n",
            "Requirement already satisfied: Pillow>=7.1.2 in /usr/local/lib/python3.11/dist-packages (from roboflow) (11.2.1)\n",
            "Collecting pillow-heif>=0.18.0 (from roboflow)\n",
            "  Downloading pillow_heif-0.22.0-cp311-cp311-manylinux_2_17_x86_64.manylinux2014_x86_64.whl.metadata (9.6 kB)\n",
            "Requirement already satisfied: python-dateutil in /usr/local/lib/python3.11/dist-packages (from roboflow) (2.9.0.post0)\n",
            "Collecting python-dotenv (from roboflow)\n",
            "  Downloading python_dotenv-1.1.0-py3-none-any.whl.metadata (24 kB)\n",
            "Requirement already satisfied: requests in /usr/local/lib/python3.11/dist-packages (from roboflow) (2.32.3)\n",
            "Requirement already satisfied: six in /usr/local/lib/python3.11/dist-packages (from roboflow) (1.17.0)\n",
            "Requirement already satisfied: urllib3>=1.26.6 in /usr/local/lib/python3.11/dist-packages (from roboflow) (2.4.0)\n",
            "Requirement already satisfied: tqdm>=4.41.0 in /usr/local/lib/python3.11/dist-packages (from roboflow) (4.67.1)\n",
            "Requirement already satisfied: PyYAML>=5.3.1 in /usr/local/lib/python3.11/dist-packages (from roboflow) (6.0.2)\n",
            "Requirement already satisfied: requests-toolbelt in /usr/local/lib/python3.11/dist-packages (from roboflow) (1.0.0)\n",
            "Collecting filetype (from roboflow)\n",
            "  Downloading filetype-1.2.0-py2.py3-none-any.whl.metadata (6.5 kB)\n",
            "Requirement already satisfied: contourpy>=1.0.1 in /usr/local/lib/python3.11/dist-packages (from matplotlib->roboflow) (1.3.2)\n",
            "Requirement already satisfied: fonttools>=4.22.0 in /usr/local/lib/python3.11/dist-packages (from matplotlib->roboflow) (4.58.0)\n",
            "Requirement already satisfied: packaging>=20.0 in /usr/local/lib/python3.11/dist-packages (from matplotlib->roboflow) (24.2)\n",
            "Requirement already satisfied: pyparsing>=2.3.1 in /usr/local/lib/python3.11/dist-packages (from matplotlib->roboflow) (3.2.3)\n",
            "Requirement already satisfied: charset-normalizer<4,>=2 in /usr/local/lib/python3.11/dist-packages (from requests->roboflow) (3.4.2)\n",
            "Downloading roboflow-1.1.65-py3-none-any.whl (85 kB)\n",
            "\u001b[2K   \u001b[90m━━━━━━━━━━━━━━━━━━━━━━━━━━━━━━━━━━━━━━━━\u001b[0m \u001b[32m85.8/85.8 kB\u001b[0m \u001b[31m5.2 MB/s\u001b[0m eta \u001b[36m0:00:00\u001b[0m\n",
            "\u001b[?25hDownloading idna-3.7-py3-none-any.whl (66 kB)\n",
            "\u001b[2K   \u001b[90m━━━━━━━━━━━━━━━━━━━━━━━━━━━━━━━━━━━━━━━━\u001b[0m \u001b[32m66.8/66.8 kB\u001b[0m \u001b[31m6.1 MB/s\u001b[0m eta \u001b[36m0:00:00\u001b[0m\n",
            "\u001b[?25hDownloading opencv_python_headless-4.10.0.84-cp37-abi3-manylinux_2_17_x86_64.manylinux2014_x86_64.whl (49.9 MB)\n",
            "\u001b[2K   \u001b[90m━━━━━━━━━━━━━━━━━━━━━━━━━━━━━━━━━━━━━━━━\u001b[0m \u001b[32m49.9/49.9 MB\u001b[0m \u001b[31m17.4 MB/s\u001b[0m eta \u001b[36m0:00:00\u001b[0m\n",
            "\u001b[?25hDownloading pillow_heif-0.22.0-cp311-cp311-manylinux_2_17_x86_64.manylinux2014_x86_64.whl (7.8 MB)\n",
            "\u001b[2K   \u001b[90m━━━━━━━━━━━━━━━━━━━━━━━━━━━━━━━━━━━━━━━━\u001b[0m \u001b[32m7.8/7.8 MB\u001b[0m \u001b[31m85.1 MB/s\u001b[0m eta \u001b[36m0:00:00\u001b[0m\n",
            "\u001b[?25hDownloading filetype-1.2.0-py2.py3-none-any.whl (19 kB)\n",
            "Downloading python_dotenv-1.1.0-py3-none-any.whl (20 kB)\n",
            "Installing collected packages: filetype, python-dotenv, pillow-heif, opencv-python-headless, idna, roboflow\n",
            "  Attempting uninstall: opencv-python-headless\n",
            "    Found existing installation: opencv-python-headless 4.11.0.86\n",
            "    Uninstalling opencv-python-headless-4.11.0.86:\n",
            "      Successfully uninstalled opencv-python-headless-4.11.0.86\n",
            "  Attempting uninstall: idna\n",
            "    Found existing installation: idna 3.10\n",
            "    Uninstalling idna-3.10:\n",
            "      Successfully uninstalled idna-3.10\n",
            "Successfully installed filetype-1.2.0 idna-3.7 opencv-python-headless-4.10.0.84 pillow-heif-0.22.0 python-dotenv-1.1.0 roboflow-1.1.65\n",
            "loading Roboflow workspace...\n",
            "loading Roboflow project...\n"
          ]
        },
        {
          "output_type": "stream",
          "name": "stderr",
          "text": [
            "Downloading Dataset Version Zip in robo_chess-2 to yolov11:: 100%|██████████| 11801/11801 [00:00<00:00, 26659.14it/s]"
          ]
        },
        {
          "output_type": "stream",
          "name": "stdout",
          "text": [
            "\n"
          ]
        },
        {
          "output_type": "stream",
          "name": "stderr",
          "text": [
            "\n",
            "Extracting Dataset Version Zip to robo_chess-2 in yolov11:: 100%|██████████| 500/500 [00:00<00:00, 8455.99it/s]\n"
          ]
        }
      ]
    },
    {
      "cell_type": "code",
      "source": [
        "!pip install ultralytics"
      ],
      "metadata": {
        "colab": {
          "base_uri": "https://localhost:8080/"
        },
        "id": "i6xiOlHPHx9c",
        "outputId": "778fdf0c-e65c-41e7-c9c6-cb239f221024"
      },
      "execution_count": null,
      "outputs": [
        {
          "output_type": "stream",
          "name": "stdout",
          "text": [
            "Collecting ultralytics\n",
            "  Downloading ultralytics-8.3.147-py3-none-any.whl.metadata (37 kB)\n",
            "Requirement already satisfied: numpy>=1.23.0 in /usr/local/lib/python3.11/dist-packages (from ultralytics) (2.0.2)\n",
            "Requirement already satisfied: matplotlib>=3.3.0 in /usr/local/lib/python3.11/dist-packages (from ultralytics) (3.10.0)\n",
            "Requirement already satisfied: opencv-python>=4.6.0 in /usr/local/lib/python3.11/dist-packages (from ultralytics) (4.11.0.86)\n",
            "Requirement already satisfied: pillow>=7.1.2 in /usr/local/lib/python3.11/dist-packages (from ultralytics) (11.2.1)\n",
            "Requirement already satisfied: pyyaml>=5.3.1 in /usr/local/lib/python3.11/dist-packages (from ultralytics) (6.0.2)\n",
            "Requirement already satisfied: requests>=2.23.0 in /usr/local/lib/python3.11/dist-packages (from ultralytics) (2.32.3)\n",
            "Requirement already satisfied: scipy>=1.4.1 in /usr/local/lib/python3.11/dist-packages (from ultralytics) (1.15.3)\n",
            "Requirement already satisfied: torch>=1.8.0 in /usr/local/lib/python3.11/dist-packages (from ultralytics) (2.6.0+cu124)\n",
            "Requirement already satisfied: torchvision>=0.9.0 in /usr/local/lib/python3.11/dist-packages (from ultralytics) (0.21.0+cu124)\n",
            "Requirement already satisfied: tqdm>=4.64.0 in /usr/local/lib/python3.11/dist-packages (from ultralytics) (4.67.1)\n",
            "Requirement already satisfied: psutil in /usr/local/lib/python3.11/dist-packages (from ultralytics) (5.9.5)\n",
            "Requirement already satisfied: py-cpuinfo in /usr/local/lib/python3.11/dist-packages (from ultralytics) (9.0.0)\n",
            "Requirement already satisfied: pandas>=1.1.4 in /usr/local/lib/python3.11/dist-packages (from ultralytics) (2.2.2)\n",
            "Collecting ultralytics-thop>=2.0.0 (from ultralytics)\n",
            "  Downloading ultralytics_thop-2.0.14-py3-none-any.whl.metadata (9.4 kB)\n",
            "Requirement already satisfied: contourpy>=1.0.1 in /usr/local/lib/python3.11/dist-packages (from matplotlib>=3.3.0->ultralytics) (1.3.2)\n",
            "Requirement already satisfied: cycler>=0.10 in /usr/local/lib/python3.11/dist-packages (from matplotlib>=3.3.0->ultralytics) (0.12.1)\n",
            "Requirement already satisfied: fonttools>=4.22.0 in /usr/local/lib/python3.11/dist-packages (from matplotlib>=3.3.0->ultralytics) (4.58.0)\n",
            "Requirement already satisfied: kiwisolver>=1.3.1 in /usr/local/lib/python3.11/dist-packages (from matplotlib>=3.3.0->ultralytics) (1.4.8)\n",
            "Requirement already satisfied: packaging>=20.0 in /usr/local/lib/python3.11/dist-packages (from matplotlib>=3.3.0->ultralytics) (24.2)\n",
            "Requirement already satisfied: pyparsing>=2.3.1 in /usr/local/lib/python3.11/dist-packages (from matplotlib>=3.3.0->ultralytics) (3.2.3)\n",
            "Requirement already satisfied: python-dateutil>=2.7 in /usr/local/lib/python3.11/dist-packages (from matplotlib>=3.3.0->ultralytics) (2.9.0.post0)\n",
            "Requirement already satisfied: pytz>=2020.1 in /usr/local/lib/python3.11/dist-packages (from pandas>=1.1.4->ultralytics) (2025.2)\n",
            "Requirement already satisfied: tzdata>=2022.7 in /usr/local/lib/python3.11/dist-packages (from pandas>=1.1.4->ultralytics) (2025.2)\n",
            "Requirement already satisfied: charset-normalizer<4,>=2 in /usr/local/lib/python3.11/dist-packages (from requests>=2.23.0->ultralytics) (3.4.2)\n",
            "Requirement already satisfied: idna<4,>=2.5 in /usr/local/lib/python3.11/dist-packages (from requests>=2.23.0->ultralytics) (3.7)\n",
            "Requirement already satisfied: urllib3<3,>=1.21.1 in /usr/local/lib/python3.11/dist-packages (from requests>=2.23.0->ultralytics) (2.4.0)\n",
            "Requirement already satisfied: certifi>=2017.4.17 in /usr/local/lib/python3.11/dist-packages (from requests>=2.23.0->ultralytics) (2025.4.26)\n",
            "Requirement already satisfied: filelock in /usr/local/lib/python3.11/dist-packages (from torch>=1.8.0->ultralytics) (3.18.0)\n",
            "Requirement already satisfied: typing-extensions>=4.10.0 in /usr/local/lib/python3.11/dist-packages (from torch>=1.8.0->ultralytics) (4.13.2)\n",
            "Requirement already satisfied: networkx in /usr/local/lib/python3.11/dist-packages (from torch>=1.8.0->ultralytics) (3.4.2)\n",
            "Requirement already satisfied: jinja2 in /usr/local/lib/python3.11/dist-packages (from torch>=1.8.0->ultralytics) (3.1.6)\n",
            "Requirement already satisfied: fsspec in /usr/local/lib/python3.11/dist-packages (from torch>=1.8.0->ultralytics) (2025.3.2)\n",
            "Collecting nvidia-cuda-nvrtc-cu12==12.4.127 (from torch>=1.8.0->ultralytics)\n",
            "  Downloading nvidia_cuda_nvrtc_cu12-12.4.127-py3-none-manylinux2014_x86_64.whl.metadata (1.5 kB)\n",
            "Collecting nvidia-cuda-runtime-cu12==12.4.127 (from torch>=1.8.0->ultralytics)\n",
            "  Downloading nvidia_cuda_runtime_cu12-12.4.127-py3-none-manylinux2014_x86_64.whl.metadata (1.5 kB)\n",
            "Collecting nvidia-cuda-cupti-cu12==12.4.127 (from torch>=1.8.0->ultralytics)\n",
            "  Downloading nvidia_cuda_cupti_cu12-12.4.127-py3-none-manylinux2014_x86_64.whl.metadata (1.6 kB)\n",
            "Collecting nvidia-cudnn-cu12==9.1.0.70 (from torch>=1.8.0->ultralytics)\n",
            "  Downloading nvidia_cudnn_cu12-9.1.0.70-py3-none-manylinux2014_x86_64.whl.metadata (1.6 kB)\n",
            "Collecting nvidia-cublas-cu12==12.4.5.8 (from torch>=1.8.0->ultralytics)\n",
            "  Downloading nvidia_cublas_cu12-12.4.5.8-py3-none-manylinux2014_x86_64.whl.metadata (1.5 kB)\n",
            "Collecting nvidia-cufft-cu12==11.2.1.3 (from torch>=1.8.0->ultralytics)\n",
            "  Downloading nvidia_cufft_cu12-11.2.1.3-py3-none-manylinux2014_x86_64.whl.metadata (1.5 kB)\n",
            "Collecting nvidia-curand-cu12==10.3.5.147 (from torch>=1.8.0->ultralytics)\n",
            "  Downloading nvidia_curand_cu12-10.3.5.147-py3-none-manylinux2014_x86_64.whl.metadata (1.5 kB)\n",
            "Collecting nvidia-cusolver-cu12==11.6.1.9 (from torch>=1.8.0->ultralytics)\n",
            "  Downloading nvidia_cusolver_cu12-11.6.1.9-py3-none-manylinux2014_x86_64.whl.metadata (1.6 kB)\n",
            "Collecting nvidia-cusparse-cu12==12.3.1.170 (from torch>=1.8.0->ultralytics)\n",
            "  Downloading nvidia_cusparse_cu12-12.3.1.170-py3-none-manylinux2014_x86_64.whl.metadata (1.6 kB)\n",
            "Requirement already satisfied: nvidia-cusparselt-cu12==0.6.2 in /usr/local/lib/python3.11/dist-packages (from torch>=1.8.0->ultralytics) (0.6.2)\n",
            "Requirement already satisfied: nvidia-nccl-cu12==2.21.5 in /usr/local/lib/python3.11/dist-packages (from torch>=1.8.0->ultralytics) (2.21.5)\n",
            "Requirement already satisfied: nvidia-nvtx-cu12==12.4.127 in /usr/local/lib/python3.11/dist-packages (from torch>=1.8.0->ultralytics) (12.4.127)\n",
            "Collecting nvidia-nvjitlink-cu12==12.4.127 (from torch>=1.8.0->ultralytics)\n",
            "  Downloading nvidia_nvjitlink_cu12-12.4.127-py3-none-manylinux2014_x86_64.whl.metadata (1.5 kB)\n",
            "Requirement already satisfied: triton==3.2.0 in /usr/local/lib/python3.11/dist-packages (from torch>=1.8.0->ultralytics) (3.2.0)\n",
            "Requirement already satisfied: sympy==1.13.1 in /usr/local/lib/python3.11/dist-packages (from torch>=1.8.0->ultralytics) (1.13.1)\n",
            "Requirement already satisfied: mpmath<1.4,>=1.1.0 in /usr/local/lib/python3.11/dist-packages (from sympy==1.13.1->torch>=1.8.0->ultralytics) (1.3.0)\n",
            "Requirement already satisfied: six>=1.5 in /usr/local/lib/python3.11/dist-packages (from python-dateutil>=2.7->matplotlib>=3.3.0->ultralytics) (1.17.0)\n",
            "Requirement already satisfied: MarkupSafe>=2.0 in /usr/local/lib/python3.11/dist-packages (from jinja2->torch>=1.8.0->ultralytics) (3.0.2)\n",
            "Downloading ultralytics-8.3.147-py3-none-any.whl (1.0 MB)\n",
            "\u001b[2K   \u001b[90m━━━━━━━━━━━━━━━━━━━━━━━━━━━━━━━━━━━━━━━━\u001b[0m \u001b[32m1.0/1.0 MB\u001b[0m \u001b[31m28.4 MB/s\u001b[0m eta \u001b[36m0:00:00\u001b[0m\n",
            "\u001b[?25hDownloading nvidia_cublas_cu12-12.4.5.8-py3-none-manylinux2014_x86_64.whl (363.4 MB)\n",
            "\u001b[2K   \u001b[90m━━━━━━━━━━━━━━━━━━━━━━━━━━━━━━━━━━━━━━━━\u001b[0m \u001b[32m363.4/363.4 MB\u001b[0m \u001b[31m3.6 MB/s\u001b[0m eta \u001b[36m0:00:00\u001b[0m\n",
            "\u001b[?25hDownloading nvidia_cuda_cupti_cu12-12.4.127-py3-none-manylinux2014_x86_64.whl (13.8 MB)\n",
            "\u001b[2K   \u001b[90m━━━━━━━━━━━━━━━━━━━━━━━━━━━━━━━━━━━━━━━━\u001b[0m \u001b[32m13.8/13.8 MB\u001b[0m \u001b[31m68.8 MB/s\u001b[0m eta \u001b[36m0:00:00\u001b[0m\n",
            "\u001b[?25hDownloading nvidia_cuda_nvrtc_cu12-12.4.127-py3-none-manylinux2014_x86_64.whl (24.6 MB)\n",
            "\u001b[2K   \u001b[90m━━━━━━━━━━━━━━━━━━━━━━━━━━━━━━━━━━━━━━━━\u001b[0m \u001b[32m24.6/24.6 MB\u001b[0m \u001b[31m36.3 MB/s\u001b[0m eta \u001b[36m0:00:00\u001b[0m\n",
            "\u001b[?25hDownloading nvidia_cuda_runtime_cu12-12.4.127-py3-none-manylinux2014_x86_64.whl (883 kB)\n",
            "\u001b[2K   \u001b[90m━━━━━━━━━━━━━━━━━━━━━━━━━━━━━━━━━━━━━━━━\u001b[0m \u001b[32m883.7/883.7 kB\u001b[0m \u001b[31m60.4 MB/s\u001b[0m eta \u001b[36m0:00:00\u001b[0m\n",
            "\u001b[?25hDownloading nvidia_cudnn_cu12-9.1.0.70-py3-none-manylinux2014_x86_64.whl (664.8 MB)\n",
            "\u001b[2K   \u001b[90m━━━━━━━━━━━━━━━━━━━━━━━━━━━━━━━━━━━━━━━━\u001b[0m \u001b[32m664.8/664.8 MB\u001b[0m \u001b[31m1.2 MB/s\u001b[0m eta \u001b[36m0:00:00\u001b[0m\n",
            "\u001b[?25hDownloading nvidia_cufft_cu12-11.2.1.3-py3-none-manylinux2014_x86_64.whl (211.5 MB)\n",
            "\u001b[2K   \u001b[90m━━━━━━━━━━━━━━━━━━━━━━━━━━━━━━━━━━━━━━━━\u001b[0m \u001b[32m211.5/211.5 MB\u001b[0m \u001b[31m5.5 MB/s\u001b[0m eta \u001b[36m0:00:00\u001b[0m\n",
            "\u001b[?25hDownloading nvidia_curand_cu12-10.3.5.147-py3-none-manylinux2014_x86_64.whl (56.3 MB)\n",
            "\u001b[2K   \u001b[90m━━━━━━━━━━━━━━━━━━━━━━━━━━━━━━━━━━━━━━━━\u001b[0m \u001b[32m56.3/56.3 MB\u001b[0m \u001b[31m13.1 MB/s\u001b[0m eta \u001b[36m0:00:00\u001b[0m\n",
            "\u001b[?25hDownloading nvidia_cusolver_cu12-11.6.1.9-py3-none-manylinux2014_x86_64.whl (127.9 MB)\n",
            "\u001b[2K   \u001b[90m━━━━━━━━━━━━━━━━━━━━━━━━━━━━━━━━━━━━━━━━\u001b[0m \u001b[32m127.9/127.9 MB\u001b[0m \u001b[31m7.4 MB/s\u001b[0m eta \u001b[36m0:00:00\u001b[0m\n",
            "\u001b[?25hDownloading nvidia_cusparse_cu12-12.3.1.170-py3-none-manylinux2014_x86_64.whl (207.5 MB)\n",
            "\u001b[2K   \u001b[90m━━━━━━━━━━━━━━━━━━━━━━━━━━━━━━━━━━━━━━━━\u001b[0m \u001b[32m207.5/207.5 MB\u001b[0m \u001b[31m4.6 MB/s\u001b[0m eta \u001b[36m0:00:00\u001b[0m\n",
            "\u001b[?25hDownloading nvidia_nvjitlink_cu12-12.4.127-py3-none-manylinux2014_x86_64.whl (21.1 MB)\n",
            "\u001b[2K   \u001b[90m━━━━━━━━━━━━━━━━━━━━━━━━━━━━━━━━━━━━━━━━\u001b[0m \u001b[32m21.1/21.1 MB\u001b[0m \u001b[31m73.7 MB/s\u001b[0m eta \u001b[36m0:00:00\u001b[0m\n",
            "\u001b[?25hDownloading ultralytics_thop-2.0.14-py3-none-any.whl (26 kB)\n",
            "Installing collected packages: nvidia-nvjitlink-cu12, nvidia-curand-cu12, nvidia-cufft-cu12, nvidia-cuda-runtime-cu12, nvidia-cuda-nvrtc-cu12, nvidia-cuda-cupti-cu12, nvidia-cublas-cu12, nvidia-cusparse-cu12, nvidia-cudnn-cu12, nvidia-cusolver-cu12, ultralytics-thop, ultralytics\n",
            "  Attempting uninstall: nvidia-nvjitlink-cu12\n",
            "    Found existing installation: nvidia-nvjitlink-cu12 12.5.82\n",
            "    Uninstalling nvidia-nvjitlink-cu12-12.5.82:\n",
            "      Successfully uninstalled nvidia-nvjitlink-cu12-12.5.82\n",
            "  Attempting uninstall: nvidia-curand-cu12\n",
            "    Found existing installation: nvidia-curand-cu12 10.3.6.82\n",
            "    Uninstalling nvidia-curand-cu12-10.3.6.82:\n",
            "      Successfully uninstalled nvidia-curand-cu12-10.3.6.82\n",
            "  Attempting uninstall: nvidia-cufft-cu12\n",
            "    Found existing installation: nvidia-cufft-cu12 11.2.3.61\n",
            "    Uninstalling nvidia-cufft-cu12-11.2.3.61:\n",
            "      Successfully uninstalled nvidia-cufft-cu12-11.2.3.61\n",
            "  Attempting uninstall: nvidia-cuda-runtime-cu12\n",
            "    Found existing installation: nvidia-cuda-runtime-cu12 12.5.82\n",
            "    Uninstalling nvidia-cuda-runtime-cu12-12.5.82:\n",
            "      Successfully uninstalled nvidia-cuda-runtime-cu12-12.5.82\n",
            "  Attempting uninstall: nvidia-cuda-nvrtc-cu12\n",
            "    Found existing installation: nvidia-cuda-nvrtc-cu12 12.5.82\n",
            "    Uninstalling nvidia-cuda-nvrtc-cu12-12.5.82:\n",
            "      Successfully uninstalled nvidia-cuda-nvrtc-cu12-12.5.82\n",
            "  Attempting uninstall: nvidia-cuda-cupti-cu12\n",
            "    Found existing installation: nvidia-cuda-cupti-cu12 12.5.82\n",
            "    Uninstalling nvidia-cuda-cupti-cu12-12.5.82:\n",
            "      Successfully uninstalled nvidia-cuda-cupti-cu12-12.5.82\n",
            "  Attempting uninstall: nvidia-cublas-cu12\n",
            "    Found existing installation: nvidia-cublas-cu12 12.5.3.2\n",
            "    Uninstalling nvidia-cublas-cu12-12.5.3.2:\n",
            "      Successfully uninstalled nvidia-cublas-cu12-12.5.3.2\n",
            "  Attempting uninstall: nvidia-cusparse-cu12\n",
            "    Found existing installation: nvidia-cusparse-cu12 12.5.1.3\n",
            "    Uninstalling nvidia-cusparse-cu12-12.5.1.3:\n",
            "      Successfully uninstalled nvidia-cusparse-cu12-12.5.1.3\n",
            "  Attempting uninstall: nvidia-cudnn-cu12\n",
            "    Found existing installation: nvidia-cudnn-cu12 9.3.0.75\n",
            "    Uninstalling nvidia-cudnn-cu12-9.3.0.75:\n",
            "      Successfully uninstalled nvidia-cudnn-cu12-9.3.0.75\n",
            "  Attempting uninstall: nvidia-cusolver-cu12\n",
            "    Found existing installation: nvidia-cusolver-cu12 11.6.3.83\n",
            "    Uninstalling nvidia-cusolver-cu12-11.6.3.83:\n",
            "      Successfully uninstalled nvidia-cusolver-cu12-11.6.3.83\n",
            "Successfully installed nvidia-cublas-cu12-12.4.5.8 nvidia-cuda-cupti-cu12-12.4.127 nvidia-cuda-nvrtc-cu12-12.4.127 nvidia-cuda-runtime-cu12-12.4.127 nvidia-cudnn-cu12-9.1.0.70 nvidia-cufft-cu12-11.2.1.3 nvidia-curand-cu12-10.3.5.147 nvidia-cusolver-cu12-11.6.1.9 nvidia-cusparse-cu12-12.3.1.170 nvidia-nvjitlink-cu12-12.4.127 ultralytics-8.3.147 ultralytics-thop-2.0.14\n"
          ]
        }
      ]
    },
    {
      "cell_type": "markdown",
      "metadata": {
        "id": "bb63912a"
      },
      "source": [
        "## Load a pretrained model\n",
        "\n",
        "### Subtask:\n",
        "Load a pretrained model.\n"
      ]
    },
    {
      "cell_type": "markdown",
      "metadata": {
        "id": "a17ce546"
      },
      "source": [
        "**Reasoning**:\n",
        "Instantiate a YOLO model with the argument 'yolov8n.pt' and assign it to a variable named `model`.\n",
        "\n"
      ]
    },
    {
      "cell_type": "code",
      "metadata": {
        "id": "80773a5e",
        "colab": {
          "base_uri": "https://localhost:8080/"
        },
        "outputId": "0400e9ba-1a23-45df-e792-730e7b11ff2f"
      },
      "source": [
        "from ultralytics import YOLO\n",
        "\n",
        "model = YOLO('yolo11n.pt')"
      ],
      "execution_count": null,
      "outputs": [
        {
          "output_type": "stream",
          "name": "stdout",
          "text": [
            "Creating new Ultralytics Settings v0.0.6 file ✅ \n",
            "View Ultralytics Settings with 'yolo settings' or at '/root/.config/Ultralytics/settings.json'\n",
            "Update Settings with 'yolo settings key=value', i.e. 'yolo settings runs_dir=path/to/dir'. For help see https://docs.ultralytics.com/quickstart/#ultralytics-settings.\n",
            "Downloading https://github.com/ultralytics/assets/releases/download/v8.3.0/yolo11n.pt to 'yolo11n.pt'...\n"
          ]
        },
        {
          "output_type": "stream",
          "name": "stderr",
          "text": [
            "100%|██████████| 5.35M/5.35M [00:00<00:00, 78.8MB/s]\n"
          ]
        }
      ]
    },
    {
      "cell_type": "markdown",
      "metadata": {
        "id": "9b8540dc"
      },
      "source": [
        "## Train the model on your dataset\n",
        "\n",
        "### Subtask:\n",
        "Train the model on your dataset.\n"
      ]
    },
    {
      "cell_type": "code",
      "source": [
        "results = model.train(data='robo_chess-2/data.yaml', epochs=100, imgsz=640)"
      ],
      "metadata": {
        "colab": {
          "base_uri": "https://localhost:8080/"
        },
        "id": "vZH9-tiBBsrQ",
        "outputId": "7d196eb1-a410-4dc4-e8bd-fae801e5ef3d"
      },
      "execution_count": null,
      "outputs": [
        {
          "output_type": "stream",
          "name": "stdout",
          "text": [
            "Ultralytics 8.3.147 🚀 Python-3.11.12 torch-2.6.0+cu124 CUDA:0 (Tesla T4, 15095MiB)\n",
            "\u001b[34m\u001b[1mengine/trainer: \u001b[0magnostic_nms=False, amp=True, augment=False, auto_augment=randaugment, batch=16, bgr=0.0, box=7.5, cache=False, cfg=None, classes=None, close_mosaic=10, cls=0.5, conf=None, copy_paste=0.0, copy_paste_mode=flip, cos_lr=False, cutmix=0.0, data=robo_chess-2/data.yaml, degrees=0.0, deterministic=True, device=None, dfl=1.5, dnn=False, dropout=0.0, dynamic=False, embed=None, epochs=100, erasing=0.4, exist_ok=False, fliplr=0.5, flipud=0.0, format=torchscript, fraction=1.0, freeze=None, half=False, hsv_h=0.015, hsv_s=0.7, hsv_v=0.4, imgsz=640, int8=False, iou=0.7, keras=False, kobj=1.0, line_width=None, lr0=0.01, lrf=0.01, mask_ratio=4, max_det=300, mixup=0.0, mode=train, model=yolo11n.pt, momentum=0.937, mosaic=1.0, multi_scale=False, name=train2, nbs=64, nms=False, opset=None, optimize=False, optimizer=auto, overlap_mask=True, patience=100, perspective=0.0, plots=True, pose=12.0, pretrained=True, profile=False, project=None, rect=False, resume=False, retina_masks=False, save=True, save_conf=False, save_crop=False, save_dir=runs/detect/train2, save_frames=False, save_json=False, save_period=-1, save_txt=False, scale=0.5, seed=0, shear=0.0, show=False, show_boxes=True, show_conf=True, show_labels=True, simplify=True, single_cls=False, source=None, split=val, stream_buffer=False, task=detect, time=None, tracker=botsort.yaml, translate=0.1, val=True, verbose=True, vid_stride=1, visualize=False, warmup_bias_lr=0.1, warmup_epochs=3.0, warmup_momentum=0.8, weight_decay=0.0005, workers=8, workspace=None\n",
            "Downloading https://ultralytics.com/assets/Arial.ttf to '/root/.config/Ultralytics/Arial.ttf'...\n"
          ]
        },
        {
          "output_type": "stream",
          "name": "stderr",
          "text": [
            "100%|██████████| 755k/755k [00:00<00:00, 23.8MB/s]"
          ]
        },
        {
          "output_type": "stream",
          "name": "stdout",
          "text": [
            "Overriding model.yaml nc=80 with nc=6\n",
            "\n",
            "                   from  n    params  module                                       arguments                     \n",
            "  0                  -1  1       464  ultralytics.nn.modules.conv.Conv             [3, 16, 3, 2]                 \n",
            "  1                  -1  1      4672  ultralytics.nn.modules.conv.Conv             [16, 32, 3, 2]                \n",
            "  2                  -1  1      6640  ultralytics.nn.modules.block.C3k2            [32, 64, 1, False, 0.25]      \n",
            "  3                  -1  1     36992  ultralytics.nn.modules.conv.Conv             [64, 64, 3, 2]                \n",
            "  4                  -1  1     26080  ultralytics.nn.modules.block.C3k2            [64, 128, 1, False, 0.25]     \n",
            "  5                  -1  1    147712  ultralytics.nn.modules.conv.Conv             [128, 128, 3, 2]              \n"
          ]
        },
        {
          "output_type": "stream",
          "name": "stderr",
          "text": [
            "\n"
          ]
        },
        {
          "output_type": "stream",
          "name": "stdout",
          "text": [
            "  6                  -1  1     87040  ultralytics.nn.modules.block.C3k2            [128, 128, 1, True]           \n",
            "  7                  -1  1    295424  ultralytics.nn.modules.conv.Conv             [128, 256, 3, 2]              \n",
            "  8                  -1  1    346112  ultralytics.nn.modules.block.C3k2            [256, 256, 1, True]           \n",
            "  9                  -1  1    164608  ultralytics.nn.modules.block.SPPF            [256, 256, 5]                 \n",
            " 10                  -1  1    249728  ultralytics.nn.modules.block.C2PSA           [256, 256, 1]                 \n",
            " 11                  -1  1         0  torch.nn.modules.upsampling.Upsample         [None, 2, 'nearest']          \n",
            " 12             [-1, 6]  1         0  ultralytics.nn.modules.conv.Concat           [1]                           \n",
            " 13                  -1  1    111296  ultralytics.nn.modules.block.C3k2            [384, 128, 1, False]          \n",
            " 14                  -1  1         0  torch.nn.modules.upsampling.Upsample         [None, 2, 'nearest']          \n",
            " 15             [-1, 4]  1         0  ultralytics.nn.modules.conv.Concat           [1]                           \n",
            " 16                  -1  1     32096  ultralytics.nn.modules.block.C3k2            [256, 64, 1, False]           \n",
            " 17                  -1  1     36992  ultralytics.nn.modules.conv.Conv             [64, 64, 3, 2]                \n",
            " 18            [-1, 13]  1         0  ultralytics.nn.modules.conv.Concat           [1]                           \n",
            " 19                  -1  1     86720  ultralytics.nn.modules.block.C3k2            [192, 128, 1, False]          \n",
            " 20                  -1  1    147712  ultralytics.nn.modules.conv.Conv             [128, 128, 3, 2]              \n",
            " 21            [-1, 10]  1         0  ultralytics.nn.modules.conv.Concat           [1]                           \n",
            " 22                  -1  1    378880  ultralytics.nn.modules.block.C3k2            [384, 256, 1, True]           \n",
            " 23        [16, 19, 22]  1    431842  ultralytics.nn.modules.head.Detect           [6, [64, 128, 256]]           \n",
            "YOLO11n summary: 181 layers, 2,591,010 parameters, 2,590,994 gradients, 6.4 GFLOPs\n",
            "\n",
            "Transferred 448/499 items from pretrained weights\n",
            "Freezing layer 'model.23.dfl.conv.weight'\n",
            "\u001b[34m\u001b[1mAMP: \u001b[0mrunning Automatic Mixed Precision (AMP) checks...\n",
            "\u001b[34m\u001b[1mAMP: \u001b[0mchecks passed ✅\n",
            "\u001b[34m\u001b[1mtrain: \u001b[0mFast image access ✅ (ping: 0.0±0.0 ms, read: 294.3±201.7 MB/s, size: 52.3 KB)\n"
          ]
        },
        {
          "output_type": "stream",
          "name": "stderr",
          "text": [
            "\u001b[34m\u001b[1mtrain: \u001b[0mScanning /content/robo_chess-2/train/labels... 213 images, 0 backgrounds, 0 corrupt: 100%|██████████| 213/213 [00:00<00:00, 1090.37it/s]\n"
          ]
        },
        {
          "output_type": "stream",
          "name": "stdout",
          "text": [
            "\u001b[34m\u001b[1mtrain: \u001b[0mNew cache created: /content/robo_chess-2/train/labels.cache\n",
            "WARNING ⚠️ Box and segment counts should be equal, but got len(segments) = 90, len(boxes) = 673. To resolve this only boxes will be used and all segments will be removed. To avoid this please supply either a detect or segment dataset, not a detect-segment mixed dataset.\n",
            "\u001b[34m\u001b[1malbumentations: \u001b[0mBlur(p=0.01, blur_limit=(3, 7)), MedianBlur(p=0.01, blur_limit=(3, 7)), ToGray(p=0.01, method='weighted_average', num_output_channels=3), CLAHE(p=0.01, clip_limit=(1.0, 4.0), tile_grid_size=(8, 8))\n",
            "\u001b[34m\u001b[1mval: \u001b[0mFast image access ✅ (ping: 0.0±0.0 ms, read: 12.7±3.0 MB/s, size: 53.3 KB)\n"
          ]
        },
        {
          "output_type": "stream",
          "name": "stderr",
          "text": [
            "\u001b[34m\u001b[1mval: \u001b[0mScanning /content/robo_chess-2/valid/labels... 21 images, 0 backgrounds, 0 corrupt: 100%|██████████| 21/21 [00:00<00:00, 328.76it/s]"
          ]
        },
        {
          "output_type": "stream",
          "name": "stdout",
          "text": [
            "\u001b[34m\u001b[1mval: \u001b[0mNew cache created: /content/robo_chess-2/valid/labels.cache\n",
            "WARNING ⚠️ Box and segment counts should be equal, but got len(segments) = 24, len(boxes) = 41. To resolve this only boxes will be used and all segments will be removed. To avoid this please supply either a detect or segment dataset, not a detect-segment mixed dataset.\n"
          ]
        },
        {
          "output_type": "stream",
          "name": "stderr",
          "text": [
            "\n"
          ]
        },
        {
          "output_type": "stream",
          "name": "stdout",
          "text": [
            "Plotting labels to runs/detect/train2/labels.jpg... \n",
            "\u001b[34m\u001b[1moptimizer:\u001b[0m 'optimizer=auto' found, ignoring 'lr0=0.01' and 'momentum=0.937' and determining best 'optimizer', 'lr0' and 'momentum' automatically... \n",
            "\u001b[34m\u001b[1moptimizer:\u001b[0m AdamW(lr=0.001, momentum=0.9) with parameter groups 81 weight(decay=0.0), 88 weight(decay=0.0005), 87 bias(decay=0.0)\n",
            "Image sizes 640 train, 640 val\n",
            "Using 2 dataloader workers\n",
            "Logging results to \u001b[1mruns/detect/train2\u001b[0m\n",
            "Starting training for 100 epochs...\n",
            "\n",
            "      Epoch    GPU_mem   box_loss   cls_loss   dfl_loss  Instances       Size\n"
          ]
        },
        {
          "output_type": "stream",
          "name": "stderr",
          "text": [
            "      1/100      2.39G      1.846      4.081      1.616         17        640: 100%|██████████| 14/14 [00:06<00:00,  2.04it/s]\n",
            "                 Class     Images  Instances      Box(P          R      mAP50  mAP50-95): 100%|██████████| 1/1 [00:01<00:00,  1.18s/it]"
          ]
        },
        {
          "output_type": "stream",
          "name": "stdout",
          "text": [
            "                   all         21         41      0.125      0.437      0.137     0.0424\n"
          ]
        },
        {
          "output_type": "stream",
          "name": "stderr",
          "text": [
            "\n"
          ]
        },
        {
          "output_type": "stream",
          "name": "stdout",
          "text": [
            "\n",
            "      Epoch    GPU_mem   box_loss   cls_loss   dfl_loss  Instances       Size\n"
          ]
        },
        {
          "output_type": "stream",
          "name": "stderr",
          "text": [
            "      2/100      2.52G      1.862      3.726      1.607         41        640: 100%|██████████| 14/14 [00:03<00:00,  4.06it/s]\n",
            "                 Class     Images  Instances      Box(P          R      mAP50  mAP50-95): 100%|██████████| 1/1 [00:00<00:00,  3.06it/s]"
          ]
        },
        {
          "output_type": "stream",
          "name": "stdout",
          "text": [
            "                   all         21         41      0.037      0.679      0.205     0.0801\n"
          ]
        },
        {
          "output_type": "stream",
          "name": "stderr",
          "text": [
            "\n"
          ]
        },
        {
          "output_type": "stream",
          "name": "stdout",
          "text": [
            "\n",
            "      Epoch    GPU_mem   box_loss   cls_loss   dfl_loss  Instances       Size\n"
          ]
        },
        {
          "output_type": "stream",
          "name": "stderr",
          "text": [
            "      3/100      2.53G      1.698      3.313      1.505         14        640: 100%|██████████| 14/14 [00:03<00:00,  4.08it/s]\n",
            "                 Class     Images  Instances      Box(P          R      mAP50  mAP50-95): 100%|██████████| 1/1 [00:00<00:00,  3.74it/s]"
          ]
        },
        {
          "output_type": "stream",
          "name": "stdout",
          "text": [
            "                   all         21         41     0.0119      0.722      0.173     0.0898\n"
          ]
        },
        {
          "output_type": "stream",
          "name": "stderr",
          "text": [
            "\n"
          ]
        },
        {
          "output_type": "stream",
          "name": "stdout",
          "text": [
            "\n",
            "      Epoch    GPU_mem   box_loss   cls_loss   dfl_loss  Instances       Size\n"
          ]
        },
        {
          "output_type": "stream",
          "name": "stderr",
          "text": [
            "      4/100      2.55G      1.714      3.011      1.432         16        640: 100%|██████████| 14/14 [00:04<00:00,  3.02it/s]\n",
            "                 Class     Images  Instances      Box(P          R      mAP50  mAP50-95): 100%|██████████| 1/1 [00:00<00:00,  3.72it/s]"
          ]
        },
        {
          "output_type": "stream",
          "name": "stdout",
          "text": [
            "                   all         21         41    0.00632      0.601      0.196     0.0638\n"
          ]
        },
        {
          "output_type": "stream",
          "name": "stderr",
          "text": [
            "\n"
          ]
        },
        {
          "output_type": "stream",
          "name": "stdout",
          "text": [
            "\n",
            "      Epoch    GPU_mem   box_loss   cls_loss   dfl_loss  Instances       Size\n"
          ]
        },
        {
          "output_type": "stream",
          "name": "stderr",
          "text": [
            "      5/100      2.56G      1.724      2.876      1.474         12        640: 100%|██████████| 14/14 [00:03<00:00,  3.98it/s]\n",
            "                 Class     Images  Instances      Box(P          R      mAP50  mAP50-95): 100%|██████████| 1/1 [00:00<00:00,  4.51it/s]"
          ]
        },
        {
          "output_type": "stream",
          "name": "stdout",
          "text": [
            "                   all         21         41    0.00539      0.612      0.191     0.0645\n"
          ]
        },
        {
          "output_type": "stream",
          "name": "stderr",
          "text": [
            "\n"
          ]
        },
        {
          "output_type": "stream",
          "name": "stdout",
          "text": [
            "\n",
            "      Epoch    GPU_mem   box_loss   cls_loss   dfl_loss  Instances       Size\n"
          ]
        },
        {
          "output_type": "stream",
          "name": "stderr",
          "text": [
            "      6/100      2.58G      1.742      2.889      1.568         29        640: 100%|██████████| 14/14 [00:03<00:00,  4.06it/s]\n",
            "                 Class     Images  Instances      Box(P          R      mAP50  mAP50-95): 100%|██████████| 1/1 [00:00<00:00,  4.35it/s]"
          ]
        },
        {
          "output_type": "stream",
          "name": "stdout",
          "text": [
            "                   all         21         41      0.119      0.201      0.146     0.0635\n"
          ]
        },
        {
          "output_type": "stream",
          "name": "stderr",
          "text": [
            "\n"
          ]
        },
        {
          "output_type": "stream",
          "name": "stdout",
          "text": [
            "\n",
            "      Epoch    GPU_mem   box_loss   cls_loss   dfl_loss  Instances       Size\n"
          ]
        },
        {
          "output_type": "stream",
          "name": "stderr",
          "text": [
            "      7/100       2.6G       1.64       2.67      1.461         25        640: 100%|██████████| 14/14 [00:04<00:00,  3.19it/s]\n",
            "                 Class     Images  Instances      Box(P          R      mAP50  mAP50-95): 100%|██████████| 1/1 [00:00<00:00,  4.57it/s]"
          ]
        },
        {
          "output_type": "stream",
          "name": "stdout",
          "text": [
            "                   all         21         41      0.262      0.135       0.13     0.0556\n"
          ]
        },
        {
          "output_type": "stream",
          "name": "stderr",
          "text": [
            "\n"
          ]
        },
        {
          "output_type": "stream",
          "name": "stdout",
          "text": [
            "\n",
            "      Epoch    GPU_mem   box_loss   cls_loss   dfl_loss  Instances       Size\n"
          ]
        },
        {
          "output_type": "stream",
          "name": "stderr",
          "text": [
            "      8/100      2.61G      1.655      2.665      1.478         18        640: 100%|██████████| 14/14 [00:03<00:00,  4.17it/s]\n",
            "                 Class     Images  Instances      Box(P          R      mAP50  mAP50-95): 100%|██████████| 1/1 [00:00<00:00,  4.25it/s]"
          ]
        },
        {
          "output_type": "stream",
          "name": "stdout",
          "text": [
            "                   all         21         41      0.677      0.131      0.179     0.0633\n"
          ]
        },
        {
          "output_type": "stream",
          "name": "stderr",
          "text": [
            "\n"
          ]
        },
        {
          "output_type": "stream",
          "name": "stdout",
          "text": [
            "\n",
            "      Epoch    GPU_mem   box_loss   cls_loss   dfl_loss  Instances       Size\n"
          ]
        },
        {
          "output_type": "stream",
          "name": "stderr",
          "text": [
            "      9/100      2.63G      1.618       2.44      1.444         51        640: 100%|██████████| 14/14 [00:03<00:00,  4.22it/s]\n",
            "                 Class     Images  Instances      Box(P          R      mAP50  mAP50-95): 100%|██████████| 1/1 [00:00<00:00,  3.44it/s]"
          ]
        },
        {
          "output_type": "stream",
          "name": "stdout",
          "text": [
            "                   all         21         41      0.318      0.325      0.363       0.14\n"
          ]
        },
        {
          "output_type": "stream",
          "name": "stderr",
          "text": [
            "\n"
          ]
        },
        {
          "output_type": "stream",
          "name": "stdout",
          "text": [
            "\n",
            "      Epoch    GPU_mem   box_loss   cls_loss   dfl_loss  Instances       Size\n"
          ]
        },
        {
          "output_type": "stream",
          "name": "stderr",
          "text": [
            "     10/100      2.64G      1.614      2.539      1.455         46        640: 100%|██████████| 14/14 [00:05<00:00,  2.71it/s]\n",
            "                 Class     Images  Instances      Box(P          R      mAP50  mAP50-95): 100%|██████████| 1/1 [00:00<00:00,  5.22it/s]\n"
          ]
        },
        {
          "output_type": "stream",
          "name": "stdout",
          "text": [
            "                   all         21         41      0.167      0.296       0.21     0.0642\n",
            "\n",
            "      Epoch    GPU_mem   box_loss   cls_loss   dfl_loss  Instances       Size\n"
          ]
        },
        {
          "output_type": "stream",
          "name": "stderr",
          "text": [
            "     11/100      2.66G      1.561      2.306      1.421         45        640: 100%|██████████| 14/14 [00:03<00:00,  3.51it/s]\n",
            "                 Class     Images  Instances      Box(P          R      mAP50  mAP50-95): 100%|██████████| 1/1 [00:00<00:00,  4.30it/s]"
          ]
        },
        {
          "output_type": "stream",
          "name": "stdout",
          "text": [
            "                   all         21         41      0.308      0.409      0.306      0.163\n"
          ]
        },
        {
          "output_type": "stream",
          "name": "stderr",
          "text": [
            "\n"
          ]
        },
        {
          "output_type": "stream",
          "name": "stdout",
          "text": [
            "\n",
            "      Epoch    GPU_mem   box_loss   cls_loss   dfl_loss  Instances       Size\n"
          ]
        },
        {
          "output_type": "stream",
          "name": "stderr",
          "text": [
            "     12/100      2.67G      1.566      2.376      1.426         18        640: 100%|██████████| 14/14 [00:03<00:00,  3.56it/s]\n",
            "                 Class     Images  Instances      Box(P          R      mAP50  mAP50-95): 100%|██████████| 1/1 [00:00<00:00,  1.89it/s]"
          ]
        },
        {
          "output_type": "stream",
          "name": "stdout",
          "text": [
            "                   all         21         41      0.138      0.739      0.314      0.139\n"
          ]
        },
        {
          "output_type": "stream",
          "name": "stderr",
          "text": [
            "\n"
          ]
        },
        {
          "output_type": "stream",
          "name": "stdout",
          "text": [
            "\n",
            "      Epoch    GPU_mem   box_loss   cls_loss   dfl_loss  Instances       Size\n"
          ]
        },
        {
          "output_type": "stream",
          "name": "stderr",
          "text": [
            "     13/100      2.69G      1.575      2.283      1.434         19        640: 100%|██████████| 14/14 [00:03<00:00,  4.11it/s]\n",
            "                 Class     Images  Instances      Box(P          R      mAP50  mAP50-95): 100%|██████████| 1/1 [00:00<00:00,  3.96it/s]"
          ]
        },
        {
          "output_type": "stream",
          "name": "stdout",
          "text": [
            "                   all         21         41      0.515      0.354      0.363      0.171\n"
          ]
        },
        {
          "output_type": "stream",
          "name": "stderr",
          "text": [
            "\n"
          ]
        },
        {
          "output_type": "stream",
          "name": "stdout",
          "text": [
            "\n",
            "      Epoch    GPU_mem   box_loss   cls_loss   dfl_loss  Instances       Size\n"
          ]
        },
        {
          "output_type": "stream",
          "name": "stderr",
          "text": [
            "     14/100       2.7G      1.574      2.264      1.425         32        640: 100%|██████████| 14/14 [00:03<00:00,  4.04it/s]\n",
            "                 Class     Images  Instances      Box(P          R      mAP50  mAP50-95): 100%|██████████| 1/1 [00:00<00:00,  5.00it/s]"
          ]
        },
        {
          "output_type": "stream",
          "name": "stdout",
          "text": [
            "                   all         21         41       0.21       0.58      0.289      0.152\n"
          ]
        },
        {
          "output_type": "stream",
          "name": "stderr",
          "text": [
            "\n"
          ]
        },
        {
          "output_type": "stream",
          "name": "stdout",
          "text": [
            "\n",
            "      Epoch    GPU_mem   box_loss   cls_loss   dfl_loss  Instances       Size\n"
          ]
        },
        {
          "output_type": "stream",
          "name": "stderr",
          "text": [
            "     15/100      2.72G      1.544      2.301       1.44         25        640: 100%|██████████| 14/14 [00:04<00:00,  3.32it/s]\n",
            "                 Class     Images  Instances      Box(P          R      mAP50  mAP50-95): 100%|██████████| 1/1 [00:00<00:00,  1.98it/s]"
          ]
        },
        {
          "output_type": "stream",
          "name": "stdout",
          "text": [
            "                   all         21         41      0.404      0.383      0.428      0.176\n"
          ]
        },
        {
          "output_type": "stream",
          "name": "stderr",
          "text": [
            "\n"
          ]
        },
        {
          "output_type": "stream",
          "name": "stdout",
          "text": [
            "\n",
            "      Epoch    GPU_mem   box_loss   cls_loss   dfl_loss  Instances       Size\n"
          ]
        },
        {
          "output_type": "stream",
          "name": "stderr",
          "text": [
            "     16/100      2.73G      1.529      2.149      1.415         20        640: 100%|██████████| 14/14 [00:03<00:00,  4.10it/s]\n",
            "                 Class     Images  Instances      Box(P          R      mAP50  mAP50-95): 100%|██████████| 1/1 [00:00<00:00,  4.58it/s]"
          ]
        },
        {
          "output_type": "stream",
          "name": "stdout",
          "text": [
            "                   all         21         41      0.404       0.51      0.438      0.179\n"
          ]
        },
        {
          "output_type": "stream",
          "name": "stderr",
          "text": [
            "\n"
          ]
        },
        {
          "output_type": "stream",
          "name": "stdout",
          "text": [
            "\n",
            "      Epoch    GPU_mem   box_loss   cls_loss   dfl_loss  Instances       Size\n"
          ]
        },
        {
          "output_type": "stream",
          "name": "stderr",
          "text": [
            "     17/100      2.75G      1.569      2.167      1.441         24        640: 100%|██████████| 14/14 [00:03<00:00,  4.20it/s]\n",
            "                 Class     Images  Instances      Box(P          R      mAP50  mAP50-95): 100%|██████████| 1/1 [00:00<00:00,  4.26it/s]"
          ]
        },
        {
          "output_type": "stream",
          "name": "stdout",
          "text": [
            "                   all         21         41       0.38      0.637      0.478      0.205\n"
          ]
        },
        {
          "output_type": "stream",
          "name": "stderr",
          "text": [
            "\n"
          ]
        },
        {
          "output_type": "stream",
          "name": "stdout",
          "text": [
            "\n",
            "      Epoch    GPU_mem   box_loss   cls_loss   dfl_loss  Instances       Size\n"
          ]
        },
        {
          "output_type": "stream",
          "name": "stderr",
          "text": [
            "     18/100      2.76G      1.602       2.29       1.48          6        640: 100%|██████████| 14/14 [00:04<00:00,  3.25it/s]\n",
            "                 Class     Images  Instances      Box(P          R      mAP50  mAP50-95): 100%|██████████| 1/1 [00:00<00:00,  2.11it/s]"
          ]
        },
        {
          "output_type": "stream",
          "name": "stdout",
          "text": [
            "                   all         21         41      0.468      0.503      0.553      0.253\n"
          ]
        },
        {
          "output_type": "stream",
          "name": "stderr",
          "text": [
            "\n"
          ]
        },
        {
          "output_type": "stream",
          "name": "stdout",
          "text": [
            "\n",
            "      Epoch    GPU_mem   box_loss   cls_loss   dfl_loss  Instances       Size\n"
          ]
        },
        {
          "output_type": "stream",
          "name": "stderr",
          "text": [
            "     19/100      2.78G      1.562      2.181      1.488         28        640: 100%|██████████| 14/14 [00:03<00:00,  4.29it/s]\n",
            "                 Class     Images  Instances      Box(P          R      mAP50  mAP50-95): 100%|██████████| 1/1 [00:00<00:00,  3.29it/s]"
          ]
        },
        {
          "output_type": "stream",
          "name": "stdout",
          "text": [
            "                   all         21         41      0.561      0.529      0.579      0.214\n"
          ]
        },
        {
          "output_type": "stream",
          "name": "stderr",
          "text": [
            "\n"
          ]
        },
        {
          "output_type": "stream",
          "name": "stdout",
          "text": [
            "\n",
            "      Epoch    GPU_mem   box_loss   cls_loss   dfl_loss  Instances       Size\n"
          ]
        },
        {
          "output_type": "stream",
          "name": "stderr",
          "text": [
            "     20/100      2.79G      1.519      2.047      1.426         16        640: 100%|██████████| 14/14 [00:04<00:00,  3.47it/s]\n",
            "                 Class     Images  Instances      Box(P          R      mAP50  mAP50-95): 100%|██████████| 1/1 [00:00<00:00,  4.80it/s]"
          ]
        },
        {
          "output_type": "stream",
          "name": "stdout",
          "text": [
            "                   all         21         41      0.436      0.593       0.53      0.226\n"
          ]
        },
        {
          "output_type": "stream",
          "name": "stderr",
          "text": [
            "\n"
          ]
        },
        {
          "output_type": "stream",
          "name": "stdout",
          "text": [
            "\n",
            "      Epoch    GPU_mem   box_loss   cls_loss   dfl_loss  Instances       Size\n"
          ]
        },
        {
          "output_type": "stream",
          "name": "stderr",
          "text": [
            "     21/100       2.8G      1.514      2.013      1.403         44        640: 100%|██████████| 14/14 [00:04<00:00,  3.19it/s]\n",
            "                 Class     Images  Instances      Box(P          R      mAP50  mAP50-95): 100%|██████████| 1/1 [00:00<00:00,  2.75it/s]"
          ]
        },
        {
          "output_type": "stream",
          "name": "stdout",
          "text": [
            "                   all         21         41      0.778      0.401       0.58       0.22\n"
          ]
        },
        {
          "output_type": "stream",
          "name": "stderr",
          "text": [
            "\n"
          ]
        },
        {
          "output_type": "stream",
          "name": "stdout",
          "text": [
            "\n",
            "      Epoch    GPU_mem   box_loss   cls_loss   dfl_loss  Instances       Size\n"
          ]
        },
        {
          "output_type": "stream",
          "name": "stderr",
          "text": [
            "     22/100      2.82G      1.476      1.981      1.409         30        640: 100%|██████████| 14/14 [00:03<00:00,  4.10it/s]\n",
            "                 Class     Images  Instances      Box(P          R      mAP50  mAP50-95): 100%|██████████| 1/1 [00:00<00:00,  4.40it/s]"
          ]
        },
        {
          "output_type": "stream",
          "name": "stdout",
          "text": [
            "                   all         21         41      0.315      0.565      0.487      0.218\n"
          ]
        },
        {
          "output_type": "stream",
          "name": "stderr",
          "text": [
            "\n"
          ]
        },
        {
          "output_type": "stream",
          "name": "stdout",
          "text": [
            "\n",
            "      Epoch    GPU_mem   box_loss   cls_loss   dfl_loss  Instances       Size\n"
          ]
        },
        {
          "output_type": "stream",
          "name": "stderr",
          "text": [
            "     23/100      2.84G       1.41      1.943      1.383         33        640: 100%|██████████| 14/14 [00:03<00:00,  4.11it/s]\n",
            "                 Class     Images  Instances      Box(P          R      mAP50  mAP50-95): 100%|██████████| 1/1 [00:00<00:00,  4.10it/s]"
          ]
        },
        {
          "output_type": "stream",
          "name": "stdout",
          "text": [
            "                   all         21         41      0.509      0.761      0.642      0.294\n"
          ]
        },
        {
          "output_type": "stream",
          "name": "stderr",
          "text": [
            "\n"
          ]
        },
        {
          "output_type": "stream",
          "name": "stdout",
          "text": [
            "\n",
            "      Epoch    GPU_mem   box_loss   cls_loss   dfl_loss  Instances       Size\n"
          ]
        },
        {
          "output_type": "stream",
          "name": "stderr",
          "text": [
            "     24/100      2.85G      1.497      1.921      1.389         29        640: 100%|██████████| 14/14 [00:04<00:00,  3.20it/s]\n",
            "                 Class     Images  Instances      Box(P          R      mAP50  mAP50-95): 100%|██████████| 1/1 [00:00<00:00,  2.77it/s]"
          ]
        },
        {
          "output_type": "stream",
          "name": "stdout",
          "text": [
            "                   all         21         41      0.344      0.681      0.513      0.234\n"
          ]
        },
        {
          "output_type": "stream",
          "name": "stderr",
          "text": [
            "\n"
          ]
        },
        {
          "output_type": "stream",
          "name": "stdout",
          "text": [
            "\n",
            "      Epoch    GPU_mem   box_loss   cls_loss   dfl_loss  Instances       Size\n"
          ]
        },
        {
          "output_type": "stream",
          "name": "stderr",
          "text": [
            "     25/100      2.87G      1.497      1.929      1.395         23        640: 100%|██████████| 14/14 [00:03<00:00,  4.24it/s]\n",
            "                 Class     Images  Instances      Box(P          R      mAP50  mAP50-95): 100%|██████████| 1/1 [00:00<00:00,  3.90it/s]"
          ]
        },
        {
          "output_type": "stream",
          "name": "stdout",
          "text": [
            "                   all         21         41      0.408      0.583      0.546      0.195\n"
          ]
        },
        {
          "output_type": "stream",
          "name": "stderr",
          "text": [
            "\n"
          ]
        },
        {
          "output_type": "stream",
          "name": "stdout",
          "text": [
            "\n",
            "      Epoch    GPU_mem   box_loss   cls_loss   dfl_loss  Instances       Size\n"
          ]
        },
        {
          "output_type": "stream",
          "name": "stderr",
          "text": [
            "     26/100      2.88G      1.482      1.945      1.389          8        640: 100%|██████████| 14/14 [00:03<00:00,  4.05it/s]\n",
            "                 Class     Images  Instances      Box(P          R      mAP50  mAP50-95): 100%|██████████| 1/1 [00:00<00:00,  4.78it/s]"
          ]
        },
        {
          "output_type": "stream",
          "name": "stdout",
          "text": [
            "                   all         21         41      0.406      0.779      0.646       0.27\n"
          ]
        },
        {
          "output_type": "stream",
          "name": "stderr",
          "text": [
            "\n"
          ]
        },
        {
          "output_type": "stream",
          "name": "stdout",
          "text": [
            "\n",
            "      Epoch    GPU_mem   box_loss   cls_loss   dfl_loss  Instances       Size\n"
          ]
        },
        {
          "output_type": "stream",
          "name": "stderr",
          "text": [
            "     27/100      2.89G      1.448      1.932      1.403         25        640: 100%|██████████| 14/14 [00:04<00:00,  3.13it/s]\n",
            "                 Class     Images  Instances      Box(P          R      mAP50  mAP50-95): 100%|██████████| 1/1 [00:00<00:00,  3.14it/s]"
          ]
        },
        {
          "output_type": "stream",
          "name": "stdout",
          "text": [
            "                   all         21         41      0.377      0.532      0.465      0.202\n"
          ]
        },
        {
          "output_type": "stream",
          "name": "stderr",
          "text": [
            "\n"
          ]
        },
        {
          "output_type": "stream",
          "name": "stdout",
          "text": [
            "\n",
            "      Epoch    GPU_mem   box_loss   cls_loss   dfl_loss  Instances       Size\n"
          ]
        },
        {
          "output_type": "stream",
          "name": "stderr",
          "text": [
            "     28/100      2.91G      1.498      1.913      1.442         10        640: 100%|██████████| 14/14 [00:03<00:00,  3.88it/s]\n",
            "                 Class     Images  Instances      Box(P          R      mAP50  mAP50-95): 100%|██████████| 1/1 [00:00<00:00,  4.22it/s]"
          ]
        },
        {
          "output_type": "stream",
          "name": "stdout",
          "text": [
            "                   all         21         41      0.398      0.688       0.56      0.261\n"
          ]
        },
        {
          "output_type": "stream",
          "name": "stderr",
          "text": [
            "\n"
          ]
        },
        {
          "output_type": "stream",
          "name": "stdout",
          "text": [
            "\n",
            "      Epoch    GPU_mem   box_loss   cls_loss   dfl_loss  Instances       Size\n"
          ]
        },
        {
          "output_type": "stream",
          "name": "stderr",
          "text": [
            "     29/100      2.92G       1.45      1.772      1.372         21        640: 100%|██████████| 14/14 [00:03<00:00,  4.09it/s]\n",
            "                 Class     Images  Instances      Box(P          R      mAP50  mAP50-95): 100%|██████████| 1/1 [00:00<00:00,  4.21it/s]"
          ]
        },
        {
          "output_type": "stream",
          "name": "stdout",
          "text": [
            "                   all         21         41      0.356      0.646      0.416      0.175\n"
          ]
        },
        {
          "output_type": "stream",
          "name": "stderr",
          "text": [
            "\n"
          ]
        },
        {
          "output_type": "stream",
          "name": "stdout",
          "text": [
            "\n",
            "      Epoch    GPU_mem   box_loss   cls_loss   dfl_loss  Instances       Size\n"
          ]
        },
        {
          "output_type": "stream",
          "name": "stderr",
          "text": [
            "     30/100      2.94G      1.441      1.828      1.391         19        640: 100%|██████████| 14/14 [00:04<00:00,  3.11it/s]\n",
            "                 Class     Images  Instances      Box(P          R      mAP50  mAP50-95): 100%|██████████| 1/1 [00:00<00:00,  4.25it/s]"
          ]
        },
        {
          "output_type": "stream",
          "name": "stdout",
          "text": [
            "                   all         21         41      0.565      0.588        0.6      0.242\n"
          ]
        },
        {
          "output_type": "stream",
          "name": "stderr",
          "text": [
            "\n"
          ]
        },
        {
          "output_type": "stream",
          "name": "stdout",
          "text": [
            "\n",
            "      Epoch    GPU_mem   box_loss   cls_loss   dfl_loss  Instances       Size\n"
          ]
        },
        {
          "output_type": "stream",
          "name": "stderr",
          "text": [
            "     31/100      2.95G      1.456      1.772      1.377         14        640: 100%|██████████| 14/14 [00:03<00:00,  4.01it/s]\n",
            "                 Class     Images  Instances      Box(P          R      mAP50  mAP50-95): 100%|██████████| 1/1 [00:00<00:00,  3.80it/s]"
          ]
        },
        {
          "output_type": "stream",
          "name": "stdout",
          "text": [
            "                   all         21         41       0.42      0.595      0.553      0.217\n"
          ]
        },
        {
          "output_type": "stream",
          "name": "stderr",
          "text": [
            "\n"
          ]
        },
        {
          "output_type": "stream",
          "name": "stdout",
          "text": [
            "\n",
            "      Epoch    GPU_mem   box_loss   cls_loss   dfl_loss  Instances       Size\n"
          ]
        },
        {
          "output_type": "stream",
          "name": "stderr",
          "text": [
            "     32/100      2.97G      1.441      1.736      1.352         22        640: 100%|██████████| 14/14 [00:03<00:00,  4.18it/s]\n",
            "                 Class     Images  Instances      Box(P          R      mAP50  mAP50-95): 100%|██████████| 1/1 [00:00<00:00,  2.87it/s]"
          ]
        },
        {
          "output_type": "stream",
          "name": "stdout",
          "text": [
            "                   all         21         41      0.449       0.84      0.652      0.344\n"
          ]
        },
        {
          "output_type": "stream",
          "name": "stderr",
          "text": [
            "\n"
          ]
        },
        {
          "output_type": "stream",
          "name": "stdout",
          "text": [
            "\n",
            "      Epoch    GPU_mem   box_loss   cls_loss   dfl_loss  Instances       Size\n"
          ]
        },
        {
          "output_type": "stream",
          "name": "stderr",
          "text": [
            "     33/100      2.98G      1.466       1.82      1.391         14        640: 100%|██████████| 14/14 [00:04<00:00,  3.13it/s]\n",
            "                 Class     Images  Instances      Box(P          R      mAP50  mAP50-95): 100%|██████████| 1/1 [00:00<00:00,  3.17it/s]"
          ]
        },
        {
          "output_type": "stream",
          "name": "stdout",
          "text": [
            "                   all         21         41      0.472      0.735      0.659      0.334\n"
          ]
        },
        {
          "output_type": "stream",
          "name": "stderr",
          "text": [
            "\n"
          ]
        },
        {
          "output_type": "stream",
          "name": "stdout",
          "text": [
            "\n",
            "      Epoch    GPU_mem   box_loss   cls_loss   dfl_loss  Instances       Size\n"
          ]
        },
        {
          "output_type": "stream",
          "name": "stderr",
          "text": [
            "     34/100         3G      1.389      1.668      1.355         24        640: 100%|██████████| 14/14 [00:03<00:00,  4.03it/s]\n",
            "                 Class     Images  Instances      Box(P          R      mAP50  mAP50-95): 100%|██████████| 1/1 [00:00<00:00,  5.23it/s]\n"
          ]
        },
        {
          "output_type": "stream",
          "name": "stdout",
          "text": [
            "                   all         21         41      0.424      0.646      0.542      0.217\n",
            "\n",
            "      Epoch    GPU_mem   box_loss   cls_loss   dfl_loss  Instances       Size\n"
          ]
        },
        {
          "output_type": "stream",
          "name": "stderr",
          "text": [
            "     35/100      3.01G      1.426       1.64      1.347         21        640: 100%|██████████| 14/14 [00:03<00:00,  4.02it/s]\n",
            "                 Class     Images  Instances      Box(P          R      mAP50  mAP50-95): 100%|██████████| 1/1 [00:00<00:00,  2.82it/s]"
          ]
        },
        {
          "output_type": "stream",
          "name": "stdout",
          "text": [
            "                   all         21         41      0.456      0.621      0.571      0.237\n"
          ]
        },
        {
          "output_type": "stream",
          "name": "stderr",
          "text": [
            "\n"
          ]
        },
        {
          "output_type": "stream",
          "name": "stdout",
          "text": [
            "\n",
            "      Epoch    GPU_mem   box_loss   cls_loss   dfl_loss  Instances       Size\n"
          ]
        },
        {
          "output_type": "stream",
          "name": "stderr",
          "text": [
            "     36/100      3.03G      1.385      1.618      1.318         16        640: 100%|██████████| 14/14 [00:04<00:00,  3.04it/s]\n",
            "                 Class     Images  Instances      Box(P          R      mAP50  mAP50-95): 100%|██████████| 1/1 [00:00<00:00,  4.32it/s]"
          ]
        },
        {
          "output_type": "stream",
          "name": "stdout",
          "text": [
            "                   all         21         41      0.458      0.633      0.613      0.325\n"
          ]
        },
        {
          "output_type": "stream",
          "name": "stderr",
          "text": [
            "\n"
          ]
        },
        {
          "output_type": "stream",
          "name": "stdout",
          "text": [
            "\n",
            "      Epoch    GPU_mem   box_loss   cls_loss   dfl_loss  Instances       Size\n"
          ]
        },
        {
          "output_type": "stream",
          "name": "stderr",
          "text": [
            "     37/100      3.04G      1.381      1.669      1.338         29        640: 100%|██████████| 14/14 [00:03<00:00,  4.20it/s]\n",
            "                 Class     Images  Instances      Box(P          R      mAP50  mAP50-95): 100%|██████████| 1/1 [00:00<00:00,  3.45it/s]"
          ]
        },
        {
          "output_type": "stream",
          "name": "stdout",
          "text": [
            "                   all         21         41      0.519      0.839      0.643      0.324\n"
          ]
        },
        {
          "output_type": "stream",
          "name": "stderr",
          "text": [
            "\n"
          ]
        },
        {
          "output_type": "stream",
          "name": "stdout",
          "text": [
            "\n",
            "      Epoch    GPU_mem   box_loss   cls_loss   dfl_loss  Instances       Size\n"
          ]
        },
        {
          "output_type": "stream",
          "name": "stderr",
          "text": [
            "     38/100      3.06G      1.435      1.636      1.355         23        640: 100%|██████████| 14/14 [00:03<00:00,  4.07it/s]\n",
            "                 Class     Images  Instances      Box(P          R      mAP50  mAP50-95): 100%|██████████| 1/1 [00:00<00:00,  4.32it/s]"
          ]
        },
        {
          "output_type": "stream",
          "name": "stdout",
          "text": [
            "                   all         21         41      0.592      0.732      0.655      0.269\n"
          ]
        },
        {
          "output_type": "stream",
          "name": "stderr",
          "text": [
            "\n"
          ]
        },
        {
          "output_type": "stream",
          "name": "stdout",
          "text": [
            "\n",
            "      Epoch    GPU_mem   box_loss   cls_loss   dfl_loss  Instances       Size\n"
          ]
        },
        {
          "output_type": "stream",
          "name": "stderr",
          "text": [
            "     39/100      3.07G      1.384      1.649      1.376         12        640: 100%|██████████| 14/14 [00:04<00:00,  3.40it/s]\n",
            "                 Class     Images  Instances      Box(P          R      mAP50  mAP50-95): 100%|██████████| 1/1 [00:00<00:00,  3.27it/s]"
          ]
        },
        {
          "output_type": "stream",
          "name": "stdout",
          "text": [
            "                   all         21         41      0.392      0.559      0.525       0.22\n"
          ]
        },
        {
          "output_type": "stream",
          "name": "stderr",
          "text": [
            "\n"
          ]
        },
        {
          "output_type": "stream",
          "name": "stdout",
          "text": [
            "\n",
            "      Epoch    GPU_mem   box_loss   cls_loss   dfl_loss  Instances       Size\n"
          ]
        },
        {
          "output_type": "stream",
          "name": "stderr",
          "text": [
            "     40/100      3.09G       1.34       1.54      1.307         15        640: 100%|██████████| 14/14 [00:03<00:00,  4.13it/s]\n",
            "                 Class     Images  Instances      Box(P          R      mAP50  mAP50-95): 100%|██████████| 1/1 [00:00<00:00,  3.97it/s]"
          ]
        },
        {
          "output_type": "stream",
          "name": "stdout",
          "text": [
            "                   all         21         41      0.379      0.665      0.541      0.233\n"
          ]
        },
        {
          "output_type": "stream",
          "name": "stderr",
          "text": [
            "\n"
          ]
        },
        {
          "output_type": "stream",
          "name": "stdout",
          "text": [
            "\n",
            "      Epoch    GPU_mem   box_loss   cls_loss   dfl_loss  Instances       Size\n"
          ]
        },
        {
          "output_type": "stream",
          "name": "stderr",
          "text": [
            "     41/100       3.1G      1.365      1.488      1.311         24        640: 100%|██████████| 14/14 [00:03<00:00,  4.17it/s]\n",
            "                 Class     Images  Instances      Box(P          R      mAP50  mAP50-95): 100%|██████████| 1/1 [00:00<00:00,  3.43it/s]"
          ]
        },
        {
          "output_type": "stream",
          "name": "stdout",
          "text": [
            "                   all         21         41      0.469      0.735      0.609      0.276\n"
          ]
        },
        {
          "output_type": "stream",
          "name": "stderr",
          "text": [
            "\n"
          ]
        },
        {
          "output_type": "stream",
          "name": "stdout",
          "text": [
            "\n",
            "      Epoch    GPU_mem   box_loss   cls_loss   dfl_loss  Instances       Size\n"
          ]
        },
        {
          "output_type": "stream",
          "name": "stderr",
          "text": [
            "     42/100      3.12G      1.267      1.524      1.268         33        640: 100%|██████████| 14/14 [00:04<00:00,  3.21it/s]\n",
            "                 Class     Images  Instances      Box(P          R      mAP50  mAP50-95): 100%|██████████| 1/1 [00:00<00:00,  4.68it/s]"
          ]
        },
        {
          "output_type": "stream",
          "name": "stdout",
          "text": [
            "                   all         21         41      0.514       0.44      0.505      0.252\n"
          ]
        },
        {
          "output_type": "stream",
          "name": "stderr",
          "text": [
            "\n"
          ]
        },
        {
          "output_type": "stream",
          "name": "stdout",
          "text": [
            "\n",
            "      Epoch    GPU_mem   box_loss   cls_loss   dfl_loss  Instances       Size\n"
          ]
        },
        {
          "output_type": "stream",
          "name": "stderr",
          "text": [
            "     43/100      3.13G      1.365      1.548      1.358         37        640: 100%|██████████| 14/14 [00:03<00:00,  4.18it/s]\n",
            "                 Class     Images  Instances      Box(P          R      mAP50  mAP50-95): 100%|██████████| 1/1 [00:00<00:00,  3.23it/s]"
          ]
        },
        {
          "output_type": "stream",
          "name": "stdout",
          "text": [
            "                   all         21         41       0.42      0.805      0.532      0.271\n"
          ]
        },
        {
          "output_type": "stream",
          "name": "stderr",
          "text": [
            "\n"
          ]
        },
        {
          "output_type": "stream",
          "name": "stdout",
          "text": [
            "\n",
            "      Epoch    GPU_mem   box_loss   cls_loss   dfl_loss  Instances       Size\n"
          ]
        },
        {
          "output_type": "stream",
          "name": "stderr",
          "text": [
            "     44/100      3.15G      1.376      1.541      1.328         37        640: 100%|██████████| 14/14 [00:03<00:00,  4.11it/s]\n",
            "                 Class     Images  Instances      Box(P          R      mAP50  mAP50-95): 100%|██████████| 1/1 [00:00<00:00,  4.38it/s]"
          ]
        },
        {
          "output_type": "stream",
          "name": "stdout",
          "text": [
            "                   all         21         41      0.484      0.799      0.671       0.28\n"
          ]
        },
        {
          "output_type": "stream",
          "name": "stderr",
          "text": [
            "\n"
          ]
        },
        {
          "output_type": "stream",
          "name": "stdout",
          "text": [
            "\n",
            "      Epoch    GPU_mem   box_loss   cls_loss   dfl_loss  Instances       Size\n"
          ]
        },
        {
          "output_type": "stream",
          "name": "stderr",
          "text": [
            "     45/100      3.16G      1.288      1.447      1.272         22        640: 100%|██████████| 14/14 [00:04<00:00,  3.33it/s]\n",
            "                 Class     Images  Instances      Box(P          R      mAP50  mAP50-95): 100%|██████████| 1/1 [00:00<00:00,  3.08it/s]"
          ]
        },
        {
          "output_type": "stream",
          "name": "stdout",
          "text": [
            "                   all         21         41      0.423      0.669      0.535      0.245\n"
          ]
        },
        {
          "output_type": "stream",
          "name": "stderr",
          "text": [
            "\n"
          ]
        },
        {
          "output_type": "stream",
          "name": "stdout",
          "text": [
            "\n",
            "      Epoch    GPU_mem   box_loss   cls_loss   dfl_loss  Instances       Size\n"
          ]
        },
        {
          "output_type": "stream",
          "name": "stderr",
          "text": [
            "     46/100      3.18G      1.297      1.511        1.3         48        640: 100%|██████████| 14/14 [00:03<00:00,  4.01it/s]\n",
            "                 Class     Images  Instances      Box(P          R      mAP50  mAP50-95): 100%|██████████| 1/1 [00:00<00:00,  4.53it/s]"
          ]
        },
        {
          "output_type": "stream",
          "name": "stdout",
          "text": [
            "                   all         21         41      0.323      0.473      0.425      0.163\n"
          ]
        },
        {
          "output_type": "stream",
          "name": "stderr",
          "text": [
            "\n"
          ]
        },
        {
          "output_type": "stream",
          "name": "stdout",
          "text": [
            "\n",
            "      Epoch    GPU_mem   box_loss   cls_loss   dfl_loss  Instances       Size\n"
          ]
        },
        {
          "output_type": "stream",
          "name": "stderr",
          "text": [
            "     47/100      3.19G      1.328      1.571      1.329         35        640: 100%|██████████| 14/14 [00:03<00:00,  4.12it/s]\n",
            "                 Class     Images  Instances      Box(P          R      mAP50  mAP50-95): 100%|██████████| 1/1 [00:00<00:00,  2.96it/s]"
          ]
        },
        {
          "output_type": "stream",
          "name": "stdout",
          "text": [
            "                   all         21         41      0.361      0.697      0.566      0.246\n"
          ]
        },
        {
          "output_type": "stream",
          "name": "stderr",
          "text": [
            "\n"
          ]
        },
        {
          "output_type": "stream",
          "name": "stdout",
          "text": [
            "\n",
            "      Epoch    GPU_mem   box_loss   cls_loss   dfl_loss  Instances       Size\n"
          ]
        },
        {
          "output_type": "stream",
          "name": "stderr",
          "text": [
            "     48/100      3.21G      1.314      1.395      1.282         17        640: 100%|██████████| 14/14 [00:04<00:00,  3.39it/s]\n",
            "                 Class     Images  Instances      Box(P          R      mAP50  mAP50-95): 100%|██████████| 1/1 [00:00<00:00,  4.02it/s]"
          ]
        },
        {
          "output_type": "stream",
          "name": "stdout",
          "text": [
            "                   all         21         41      0.516      0.575      0.636      0.256\n"
          ]
        },
        {
          "output_type": "stream",
          "name": "stderr",
          "text": [
            "\n"
          ]
        },
        {
          "output_type": "stream",
          "name": "stdout",
          "text": [
            "\n",
            "      Epoch    GPU_mem   box_loss   cls_loss   dfl_loss  Instances       Size\n"
          ]
        },
        {
          "output_type": "stream",
          "name": "stderr",
          "text": [
            "     49/100      3.22G      1.286      1.385      1.274         22        640: 100%|██████████| 14/14 [00:03<00:00,  4.06it/s]\n",
            "                 Class     Images  Instances      Box(P          R      mAP50  mAP50-95): 100%|██████████| 1/1 [00:00<00:00,  4.70it/s]"
          ]
        },
        {
          "output_type": "stream",
          "name": "stdout",
          "text": [
            "                   all         21         41      0.454      0.663      0.588      0.269\n"
          ]
        },
        {
          "output_type": "stream",
          "name": "stderr",
          "text": [
            "\n"
          ]
        },
        {
          "output_type": "stream",
          "name": "stdout",
          "text": [
            "\n",
            "      Epoch    GPU_mem   box_loss   cls_loss   dfl_loss  Instances       Size\n"
          ]
        },
        {
          "output_type": "stream",
          "name": "stderr",
          "text": [
            "     50/100      3.23G       1.29      1.346      1.256         31        640: 100%|██████████| 14/14 [00:03<00:00,  3.84it/s]\n",
            "                 Class     Images  Instances      Box(P          R      mAP50  mAP50-95): 100%|██████████| 1/1 [00:00<00:00,  2.75it/s]"
          ]
        },
        {
          "output_type": "stream",
          "name": "stdout",
          "text": [
            "                   all         21         41      0.437      0.731      0.627      0.313\n"
          ]
        },
        {
          "output_type": "stream",
          "name": "stderr",
          "text": [
            "\n"
          ]
        },
        {
          "output_type": "stream",
          "name": "stdout",
          "text": [
            "\n",
            "      Epoch    GPU_mem   box_loss   cls_loss   dfl_loss  Instances       Size\n"
          ]
        },
        {
          "output_type": "stream",
          "name": "stderr",
          "text": [
            "     51/100      3.25G      1.289      1.342      1.262         26        640: 100%|██████████| 14/14 [00:03<00:00,  3.52it/s]\n",
            "                 Class     Images  Instances      Box(P          R      mAP50  mAP50-95): 100%|██████████| 1/1 [00:00<00:00,  4.14it/s]"
          ]
        },
        {
          "output_type": "stream",
          "name": "stdout",
          "text": [
            "                   all         21         41      0.476      0.648      0.625      0.275\n"
          ]
        },
        {
          "output_type": "stream",
          "name": "stderr",
          "text": [
            "\n"
          ]
        },
        {
          "output_type": "stream",
          "name": "stdout",
          "text": [
            "\n",
            "      Epoch    GPU_mem   box_loss   cls_loss   dfl_loss  Instances       Size\n"
          ]
        },
        {
          "output_type": "stream",
          "name": "stderr",
          "text": [
            "     52/100      3.27G      1.288      1.357      1.265         11        640: 100%|██████████| 14/14 [00:03<00:00,  4.00it/s]\n",
            "                 Class     Images  Instances      Box(P          R      mAP50  mAP50-95): 100%|██████████| 1/1 [00:00<00:00,  4.19it/s]"
          ]
        },
        {
          "output_type": "stream",
          "name": "stdout",
          "text": [
            "                   all         21         41      0.606      0.721      0.727      0.346\n"
          ]
        },
        {
          "output_type": "stream",
          "name": "stderr",
          "text": [
            "\n"
          ]
        },
        {
          "output_type": "stream",
          "name": "stdout",
          "text": [
            "\n",
            "      Epoch    GPU_mem   box_loss   cls_loss   dfl_loss  Instances       Size\n"
          ]
        },
        {
          "output_type": "stream",
          "name": "stderr",
          "text": [
            "     53/100      3.28G      1.229      1.314      1.236         12        640: 100%|██████████| 14/14 [00:03<00:00,  3.96it/s]\n",
            "                 Class     Images  Instances      Box(P          R      mAP50  mAP50-95): 100%|██████████| 1/1 [00:00<00:00,  2.06it/s]"
          ]
        },
        {
          "output_type": "stream",
          "name": "stdout",
          "text": [
            "                   all         21         41      0.558      0.678      0.678      0.328\n"
          ]
        },
        {
          "output_type": "stream",
          "name": "stderr",
          "text": [
            "\n"
          ]
        },
        {
          "output_type": "stream",
          "name": "stdout",
          "text": [
            "\n",
            "      Epoch    GPU_mem   box_loss   cls_loss   dfl_loss  Instances       Size\n"
          ]
        },
        {
          "output_type": "stream",
          "name": "stderr",
          "text": [
            "     54/100      3.29G      1.239      1.434       1.26          9        640: 100%|██████████| 14/14 [00:03<00:00,  3.56it/s]\n",
            "                 Class     Images  Instances      Box(P          R      mAP50  mAP50-95): 100%|██████████| 1/1 [00:00<00:00,  5.47it/s]\n"
          ]
        },
        {
          "output_type": "stream",
          "name": "stdout",
          "text": [
            "                   all         21         41      0.409      0.409      0.478      0.215\n",
            "\n",
            "      Epoch    GPU_mem   box_loss   cls_loss   dfl_loss  Instances       Size\n"
          ]
        },
        {
          "output_type": "stream",
          "name": "stderr",
          "text": [
            "     55/100      3.31G      1.222      1.312      1.229         22        640: 100%|██████████| 14/14 [00:03<00:00,  4.15it/s]\n",
            "                 Class     Images  Instances      Box(P          R      mAP50  mAP50-95): 100%|██████████| 1/1 [00:00<00:00,  4.39it/s]"
          ]
        },
        {
          "output_type": "stream",
          "name": "stdout",
          "text": [
            "                   all         21         41      0.633      0.609      0.698      0.295\n"
          ]
        },
        {
          "output_type": "stream",
          "name": "stderr",
          "text": [
            "\n"
          ]
        },
        {
          "output_type": "stream",
          "name": "stdout",
          "text": [
            "\n",
            "      Epoch    GPU_mem   box_loss   cls_loss   dfl_loss  Instances       Size\n"
          ]
        },
        {
          "output_type": "stream",
          "name": "stderr",
          "text": [
            "     56/100      3.32G      1.295      1.371      1.294         40        640: 100%|██████████| 14/14 [00:03<00:00,  3.90it/s]\n",
            "                 Class     Images  Instances      Box(P          R      mAP50  mAP50-95): 100%|██████████| 1/1 [00:00<00:00,  3.33it/s]"
          ]
        },
        {
          "output_type": "stream",
          "name": "stdout",
          "text": [
            "                   all         21         41      0.421      0.675      0.523      0.247\n"
          ]
        },
        {
          "output_type": "stream",
          "name": "stderr",
          "text": [
            "\n"
          ]
        },
        {
          "output_type": "stream",
          "name": "stdout",
          "text": [
            "\n",
            "      Epoch    GPU_mem   box_loss   cls_loss   dfl_loss  Instances       Size\n"
          ]
        },
        {
          "output_type": "stream",
          "name": "stderr",
          "text": [
            "     57/100      3.34G      1.221      1.295      1.257         12        640: 100%|██████████| 14/14 [00:03<00:00,  3.63it/s]\n",
            "                 Class     Images  Instances      Box(P          R      mAP50  mAP50-95): 100%|██████████| 1/1 [00:00<00:00,  3.44it/s]"
          ]
        },
        {
          "output_type": "stream",
          "name": "stdout",
          "text": [
            "                   all         21         41        0.6      0.778      0.729       0.29\n"
          ]
        },
        {
          "output_type": "stream",
          "name": "stderr",
          "text": [
            "\n"
          ]
        },
        {
          "output_type": "stream",
          "name": "stdout",
          "text": [
            "\n",
            "      Epoch    GPU_mem   box_loss   cls_loss   dfl_loss  Instances       Size\n"
          ]
        },
        {
          "output_type": "stream",
          "name": "stderr",
          "text": [
            "     58/100      3.35G      1.247      1.313      1.269         25        640: 100%|██████████| 14/14 [00:03<00:00,  4.05it/s]\n",
            "                 Class     Images  Instances      Box(P          R      mAP50  mAP50-95): 100%|██████████| 1/1 [00:00<00:00,  4.92it/s]"
          ]
        },
        {
          "output_type": "stream",
          "name": "stdout",
          "text": [
            "                   all         21         41      0.425      0.642       0.52      0.204\n"
          ]
        },
        {
          "output_type": "stream",
          "name": "stderr",
          "text": [
            "\n"
          ]
        },
        {
          "output_type": "stream",
          "name": "stdout",
          "text": [
            "\n",
            "      Epoch    GPU_mem   box_loss   cls_loss   dfl_loss  Instances       Size\n"
          ]
        },
        {
          "output_type": "stream",
          "name": "stderr",
          "text": [
            "     59/100      3.37G      1.275      1.345      1.271         13        640: 100%|██████████| 14/14 [00:03<00:00,  3.92it/s]\n",
            "                 Class     Images  Instances      Box(P          R      mAP50  mAP50-95): 100%|██████████| 1/1 [00:00<00:00,  2.88it/s]"
          ]
        },
        {
          "output_type": "stream",
          "name": "stdout",
          "text": [
            "                   all         21         41      0.699      0.708      0.808      0.326\n"
          ]
        },
        {
          "output_type": "stream",
          "name": "stderr",
          "text": [
            "\n"
          ]
        },
        {
          "output_type": "stream",
          "name": "stdout",
          "text": [
            "\n",
            "      Epoch    GPU_mem   box_loss   cls_loss   dfl_loss  Instances       Size\n"
          ]
        },
        {
          "output_type": "stream",
          "name": "stderr",
          "text": [
            "     60/100      3.38G      1.262      1.369      1.275         12        640: 100%|██████████| 14/14 [00:04<00:00,  3.47it/s]\n",
            "                 Class     Images  Instances      Box(P          R      mAP50  mAP50-95): 100%|██████████| 1/1 [00:00<00:00,  5.01it/s]"
          ]
        },
        {
          "output_type": "stream",
          "name": "stdout",
          "text": [
            "                   all         21         41      0.565      0.627      0.711      0.283\n"
          ]
        },
        {
          "output_type": "stream",
          "name": "stderr",
          "text": [
            "\n"
          ]
        },
        {
          "output_type": "stream",
          "name": "stdout",
          "text": [
            "\n",
            "      Epoch    GPU_mem   box_loss   cls_loss   dfl_loss  Instances       Size\n"
          ]
        },
        {
          "output_type": "stream",
          "name": "stderr",
          "text": [
            "     61/100       3.4G      1.305      1.388      1.286         30        640: 100%|██████████| 14/14 [00:03<00:00,  4.30it/s]\n",
            "                 Class     Images  Instances      Box(P          R      mAP50  mAP50-95): 100%|██████████| 1/1 [00:00<00:00,  3.25it/s]"
          ]
        },
        {
          "output_type": "stream",
          "name": "stdout",
          "text": [
            "                   all         21         41      0.662      0.621      0.716      0.304\n"
          ]
        },
        {
          "output_type": "stream",
          "name": "stderr",
          "text": [
            "\n"
          ]
        },
        {
          "output_type": "stream",
          "name": "stdout",
          "text": [
            "\n",
            "      Epoch    GPU_mem   box_loss   cls_loss   dfl_loss  Instances       Size\n"
          ]
        },
        {
          "output_type": "stream",
          "name": "stderr",
          "text": [
            "     62/100      3.41G      1.221      1.302      1.245         47        640: 100%|██████████| 14/14 [00:03<00:00,  3.92it/s]\n",
            "                 Class     Images  Instances      Box(P          R      mAP50  mAP50-95): 100%|██████████| 1/1 [00:00<00:00,  3.00it/s]"
          ]
        },
        {
          "output_type": "stream",
          "name": "stdout",
          "text": [
            "                   all         21         41      0.656      0.738      0.752      0.371\n"
          ]
        },
        {
          "output_type": "stream",
          "name": "stderr",
          "text": [
            "\n"
          ]
        },
        {
          "output_type": "stream",
          "name": "stdout",
          "text": [
            "\n",
            "      Epoch    GPU_mem   box_loss   cls_loss   dfl_loss  Instances       Size\n"
          ]
        },
        {
          "output_type": "stream",
          "name": "stderr",
          "text": [
            "     63/100      3.43G      1.192      1.274      1.214         17        640: 100%|██████████| 14/14 [00:03<00:00,  3.62it/s]\n",
            "                 Class     Images  Instances      Box(P          R      mAP50  mAP50-95): 100%|██████████| 1/1 [00:00<00:00,  3.36it/s]"
          ]
        },
        {
          "output_type": "stream",
          "name": "stdout",
          "text": [
            "                   all         21         41       0.56      0.673      0.652      0.276\n"
          ]
        },
        {
          "output_type": "stream",
          "name": "stderr",
          "text": [
            "\n"
          ]
        },
        {
          "output_type": "stream",
          "name": "stdout",
          "text": [
            "\n",
            "      Epoch    GPU_mem   box_loss   cls_loss   dfl_loss  Instances       Size\n"
          ]
        },
        {
          "output_type": "stream",
          "name": "stderr",
          "text": [
            "     64/100      3.44G      1.207      1.292      1.225         42        640: 100%|██████████| 14/14 [00:03<00:00,  4.10it/s]\n",
            "                 Class     Images  Instances      Box(P          R      mAP50  mAP50-95): 100%|██████████| 1/1 [00:00<00:00,  3.90it/s]"
          ]
        },
        {
          "output_type": "stream",
          "name": "stdout",
          "text": [
            "                   all         21         41      0.427      0.623      0.547      0.248\n"
          ]
        },
        {
          "output_type": "stream",
          "name": "stderr",
          "text": [
            "\n"
          ]
        },
        {
          "output_type": "stream",
          "name": "stdout",
          "text": [
            "\n",
            "      Epoch    GPU_mem   box_loss   cls_loss   dfl_loss  Instances       Size\n"
          ]
        },
        {
          "output_type": "stream",
          "name": "stderr",
          "text": [
            "     65/100      3.46G      1.205      1.323       1.23          8        640: 100%|██████████| 14/14 [00:03<00:00,  4.24it/s]\n",
            "                 Class     Images  Instances      Box(P          R      mAP50  mAP50-95): 100%|██████████| 1/1 [00:00<00:00,  2.14it/s]"
          ]
        },
        {
          "output_type": "stream",
          "name": "stdout",
          "text": [
            "                   all         21         41      0.616      0.692      0.703      0.337\n"
          ]
        },
        {
          "output_type": "stream",
          "name": "stderr",
          "text": [
            "\n"
          ]
        },
        {
          "output_type": "stream",
          "name": "stdout",
          "text": [
            "\n",
            "      Epoch    GPU_mem   box_loss   cls_loss   dfl_loss  Instances       Size\n"
          ]
        },
        {
          "output_type": "stream",
          "name": "stderr",
          "text": [
            "     66/100      3.47G      1.158      1.217      1.196         33        640: 100%|██████████| 14/14 [00:04<00:00,  3.29it/s]\n",
            "                 Class     Images  Instances      Box(P          R      mAP50  mAP50-95): 100%|██████████| 1/1 [00:00<00:00,  5.20it/s]\n"
          ]
        },
        {
          "output_type": "stream",
          "name": "stdout",
          "text": [
            "                   all         21         41      0.711      0.826      0.826      0.336\n",
            "\n",
            "      Epoch    GPU_mem   box_loss   cls_loss   dfl_loss  Instances       Size\n"
          ]
        },
        {
          "output_type": "stream",
          "name": "stderr",
          "text": [
            "     67/100      3.49G      1.306      1.306      1.268          8        640: 100%|██████████| 14/14 [00:03<00:00,  4.12it/s]\n",
            "                 Class     Images  Instances      Box(P          R      mAP50  mAP50-95): 100%|██████████| 1/1 [00:00<00:00,  4.11it/s]"
          ]
        },
        {
          "output_type": "stream",
          "name": "stdout",
          "text": [
            "                   all         21         41       0.55      0.734      0.683      0.255\n"
          ]
        },
        {
          "output_type": "stream",
          "name": "stderr",
          "text": [
            "\n"
          ]
        },
        {
          "output_type": "stream",
          "name": "stdout",
          "text": [
            "\n",
            "      Epoch    GPU_mem   box_loss   cls_loss   dfl_loss  Instances       Size\n"
          ]
        },
        {
          "output_type": "stream",
          "name": "stderr",
          "text": [
            "     68/100       3.5G      1.171      1.226      1.209         36        640: 100%|██████████| 14/14 [00:03<00:00,  3.81it/s]\n",
            "                 Class     Images  Instances      Box(P          R      mAP50  mAP50-95): 100%|██████████| 1/1 [00:00<00:00,  3.54it/s]"
          ]
        },
        {
          "output_type": "stream",
          "name": "stdout",
          "text": [
            "                   all         21         41      0.628      0.774      0.729      0.293\n"
          ]
        },
        {
          "output_type": "stream",
          "name": "stderr",
          "text": [
            "\n"
          ]
        },
        {
          "output_type": "stream",
          "name": "stdout",
          "text": [
            "\n",
            "      Epoch    GPU_mem   box_loss   cls_loss   dfl_loss  Instances       Size\n"
          ]
        },
        {
          "output_type": "stream",
          "name": "stderr",
          "text": [
            "     69/100      3.52G      1.125      1.173      1.181         39        640: 100%|██████████| 14/14 [00:04<00:00,  3.33it/s]\n",
            "                 Class     Images  Instances      Box(P          R      mAP50  mAP50-95): 100%|██████████| 1/1 [00:00<00:00,  3.59it/s]"
          ]
        },
        {
          "output_type": "stream",
          "name": "stdout",
          "text": [
            "                   all         21         41      0.668      0.754      0.745       0.35\n"
          ]
        },
        {
          "output_type": "stream",
          "name": "stderr",
          "text": [
            "\n"
          ]
        },
        {
          "output_type": "stream",
          "name": "stdout",
          "text": [
            "\n",
            "      Epoch    GPU_mem   box_loss   cls_loss   dfl_loss  Instances       Size\n"
          ]
        },
        {
          "output_type": "stream",
          "name": "stderr",
          "text": [
            "     70/100      3.53G      1.167      1.152      1.191         49        640: 100%|██████████| 14/14 [00:03<00:00,  3.89it/s]\n",
            "                 Class     Images  Instances      Box(P          R      mAP50  mAP50-95): 100%|██████████| 1/1 [00:00<00:00,  5.35it/s]"
          ]
        },
        {
          "output_type": "stream",
          "name": "stdout",
          "text": [
            "                   all         21         41      0.544      0.768       0.69       0.31\n"
          ]
        },
        {
          "output_type": "stream",
          "name": "stderr",
          "text": [
            "\n"
          ]
        },
        {
          "output_type": "stream",
          "name": "stdout",
          "text": [
            "\n",
            "      Epoch    GPU_mem   box_loss   cls_loss   dfl_loss  Instances       Size\n"
          ]
        },
        {
          "output_type": "stream",
          "name": "stderr",
          "text": [
            "     71/100      3.55G      1.162      1.214      1.203         21        640: 100%|██████████| 14/14 [00:03<00:00,  3.72it/s]\n",
            "                 Class     Images  Instances      Box(P          R      mAP50  mAP50-95): 100%|██████████| 1/1 [00:00<00:00,  2.58it/s]"
          ]
        },
        {
          "output_type": "stream",
          "name": "stdout",
          "text": [
            "                   all         21         41      0.598      0.707      0.698      0.318\n"
          ]
        },
        {
          "output_type": "stream",
          "name": "stderr",
          "text": [
            "\n"
          ]
        },
        {
          "output_type": "stream",
          "name": "stdout",
          "text": [
            "\n",
            "      Epoch    GPU_mem   box_loss   cls_loss   dfl_loss  Instances       Size\n"
          ]
        },
        {
          "output_type": "stream",
          "name": "stderr",
          "text": [
            "     72/100      3.56G      1.158      1.215      1.216         33        640: 100%|██████████| 14/14 [00:03<00:00,  3.76it/s]\n",
            "                 Class     Images  Instances      Box(P          R      mAP50  mAP50-95): 100%|██████████| 1/1 [00:00<00:00,  3.92it/s]"
          ]
        },
        {
          "output_type": "stream",
          "name": "stdout",
          "text": [
            "                   all         21         41      0.703      0.689      0.809      0.331\n"
          ]
        },
        {
          "output_type": "stream",
          "name": "stderr",
          "text": [
            "\n"
          ]
        },
        {
          "output_type": "stream",
          "name": "stdout",
          "text": [
            "\n",
            "      Epoch    GPU_mem   box_loss   cls_loss   dfl_loss  Instances       Size\n"
          ]
        },
        {
          "output_type": "stream",
          "name": "stderr",
          "text": [
            "     73/100      3.58G      1.136      1.163      1.177         36        640: 100%|██████████| 14/14 [00:03<00:00,  4.00it/s]\n",
            "                 Class     Images  Instances      Box(P          R      mAP50  mAP50-95): 100%|██████████| 1/1 [00:00<00:00,  4.43it/s]"
          ]
        },
        {
          "output_type": "stream",
          "name": "stdout",
          "text": [
            "                   all         21         41      0.747      0.711      0.819      0.315\n"
          ]
        },
        {
          "output_type": "stream",
          "name": "stderr",
          "text": [
            "\n"
          ]
        },
        {
          "output_type": "stream",
          "name": "stdout",
          "text": [
            "\n",
            "      Epoch    GPU_mem   box_loss   cls_loss   dfl_loss  Instances       Size\n"
          ]
        },
        {
          "output_type": "stream",
          "name": "stderr",
          "text": [
            "     74/100      3.59G       1.15      1.164      1.171         34        640: 100%|██████████| 14/14 [00:03<00:00,  4.05it/s]\n",
            "                 Class     Images  Instances      Box(P          R      mAP50  mAP50-95): 100%|██████████| 1/1 [00:00<00:00,  1.80it/s]"
          ]
        },
        {
          "output_type": "stream",
          "name": "stdout",
          "text": [
            "                   all         21         41      0.659      0.903      0.816      0.338\n"
          ]
        },
        {
          "output_type": "stream",
          "name": "stderr",
          "text": [
            "\n"
          ]
        },
        {
          "output_type": "stream",
          "name": "stdout",
          "text": [
            "\n",
            "      Epoch    GPU_mem   box_loss   cls_loss   dfl_loss  Instances       Size\n"
          ]
        },
        {
          "output_type": "stream",
          "name": "stderr",
          "text": [
            "     75/100      3.61G      1.171      1.154      1.203          9        640: 100%|██████████| 14/14 [00:03<00:00,  4.01it/s]\n",
            "                 Class     Images  Instances      Box(P          R      mAP50  mAP50-95): 100%|██████████| 1/1 [00:00<00:00,  3.31it/s]"
          ]
        },
        {
          "output_type": "stream",
          "name": "stdout",
          "text": [
            "                   all         21         41      0.703      0.793      0.813      0.368\n"
          ]
        },
        {
          "output_type": "stream",
          "name": "stderr",
          "text": [
            "\n"
          ]
        },
        {
          "output_type": "stream",
          "name": "stdout",
          "text": [
            "\n",
            "      Epoch    GPU_mem   box_loss   cls_loss   dfl_loss  Instances       Size\n"
          ]
        },
        {
          "output_type": "stream",
          "name": "stderr",
          "text": [
            "     76/100      3.62G      1.123      1.193      1.198         14        640: 100%|██████████| 14/14 [00:03<00:00,  4.03it/s]\n",
            "                 Class     Images  Instances      Box(P          R      mAP50  mAP50-95): 100%|██████████| 1/1 [00:00<00:00,  5.15it/s]\n"
          ]
        },
        {
          "output_type": "stream",
          "name": "stdout",
          "text": [
            "                   all         21         41      0.691      0.748       0.72      0.382\n",
            "\n",
            "      Epoch    GPU_mem   box_loss   cls_loss   dfl_loss  Instances       Size\n"
          ]
        },
        {
          "output_type": "stream",
          "name": "stderr",
          "text": [
            "     77/100      3.63G      1.146      1.144      1.175         29        640: 100%|██████████| 14/14 [00:03<00:00,  3.55it/s]\n",
            "                 Class     Images  Instances      Box(P          R      mAP50  mAP50-95): 100%|██████████| 1/1 [00:00<00:00,  2.76it/s]"
          ]
        },
        {
          "output_type": "stream",
          "name": "stdout",
          "text": [
            "                   all         21         41      0.661      0.741      0.753      0.353\n"
          ]
        },
        {
          "output_type": "stream",
          "name": "stderr",
          "text": [
            "\n"
          ]
        },
        {
          "output_type": "stream",
          "name": "stdout",
          "text": [
            "\n",
            "      Epoch    GPU_mem   box_loss   cls_loss   dfl_loss  Instances       Size\n"
          ]
        },
        {
          "output_type": "stream",
          "name": "stderr",
          "text": [
            "     78/100      3.65G      1.113       1.11      1.174         14        640: 100%|██████████| 14/14 [00:03<00:00,  3.96it/s]\n",
            "                 Class     Images  Instances      Box(P          R      mAP50  mAP50-95): 100%|██████████| 1/1 [00:00<00:00,  3.85it/s]"
          ]
        },
        {
          "output_type": "stream",
          "name": "stdout",
          "text": [
            "                   all         21         41      0.647      0.726       0.75      0.258\n"
          ]
        },
        {
          "output_type": "stream",
          "name": "stderr",
          "text": [
            "\n"
          ]
        },
        {
          "output_type": "stream",
          "name": "stdout",
          "text": [
            "\n",
            "      Epoch    GPU_mem   box_loss   cls_loss   dfl_loss  Instances       Size\n"
          ]
        },
        {
          "output_type": "stream",
          "name": "stderr",
          "text": [
            "     79/100      3.66G      1.148      1.141      1.209         20        640: 100%|██████████| 14/14 [00:03<00:00,  4.21it/s]\n",
            "                 Class     Images  Instances      Box(P          R      mAP50  mAP50-95): 100%|██████████| 1/1 [00:00<00:00,  3.86it/s]"
          ]
        },
        {
          "output_type": "stream",
          "name": "stdout",
          "text": [
            "                   all         21         41      0.676      0.782      0.766      0.297\n"
          ]
        },
        {
          "output_type": "stream",
          "name": "stderr",
          "text": [
            "\n"
          ]
        },
        {
          "output_type": "stream",
          "name": "stdout",
          "text": [
            "\n",
            "      Epoch    GPU_mem   box_loss   cls_loss   dfl_loss  Instances       Size\n"
          ]
        },
        {
          "output_type": "stream",
          "name": "stderr",
          "text": [
            "     80/100      3.68G      1.133      1.109      1.186         34        640: 100%|██████████| 14/14 [00:04<00:00,  3.28it/s]\n",
            "                 Class     Images  Instances      Box(P          R      mAP50  mAP50-95): 100%|██████████| 1/1 [00:00<00:00,  2.93it/s]"
          ]
        },
        {
          "output_type": "stream",
          "name": "stdout",
          "text": [
            "                   all         21         41       0.62      0.809      0.776      0.319\n"
          ]
        },
        {
          "output_type": "stream",
          "name": "stderr",
          "text": [
            "\n"
          ]
        },
        {
          "output_type": "stream",
          "name": "stdout",
          "text": [
            "\n",
            "      Epoch    GPU_mem   box_loss   cls_loss   dfl_loss  Instances       Size\n"
          ]
        },
        {
          "output_type": "stream",
          "name": "stderr",
          "text": [
            "     81/100      3.69G      1.092      1.044      1.147         30        640: 100%|██████████| 14/14 [00:03<00:00,  4.20it/s]\n",
            "                 Class     Images  Instances      Box(P          R      mAP50  mAP50-95): 100%|██████████| 1/1 [00:00<00:00,  4.06it/s]"
          ]
        },
        {
          "output_type": "stream",
          "name": "stdout",
          "text": [
            "                   all         21         41       0.64      0.819      0.793      0.351\n"
          ]
        },
        {
          "output_type": "stream",
          "name": "stderr",
          "text": [
            "\n"
          ]
        },
        {
          "output_type": "stream",
          "name": "stdout",
          "text": [
            "\n",
            "      Epoch    GPU_mem   box_loss   cls_loss   dfl_loss  Instances       Size\n"
          ]
        },
        {
          "output_type": "stream",
          "name": "stderr",
          "text": [
            "     82/100      3.71G       1.07      1.074      1.173         31        640: 100%|██████████| 14/14 [00:03<00:00,  4.04it/s]\n",
            "                 Class     Images  Instances      Box(P          R      mAP50  mAP50-95): 100%|██████████| 1/1 [00:00<00:00,  4.33it/s]"
          ]
        },
        {
          "output_type": "stream",
          "name": "stdout",
          "text": [
            "                   all         21         41      0.637      0.784      0.736      0.276\n"
          ]
        },
        {
          "output_type": "stream",
          "name": "stderr",
          "text": [
            "\n"
          ]
        },
        {
          "output_type": "stream",
          "name": "stdout",
          "text": [
            "\n",
            "      Epoch    GPU_mem   box_loss   cls_loss   dfl_loss  Instances       Size\n"
          ]
        },
        {
          "output_type": "stream",
          "name": "stderr",
          "text": [
            "     83/100      3.72G      1.071      1.022      1.124         22        640: 100%|██████████| 14/14 [00:04<00:00,  3.39it/s]\n",
            "                 Class     Images  Instances      Box(P          R      mAP50  mAP50-95): 100%|██████████| 1/1 [00:00<00:00,  2.52it/s]"
          ]
        },
        {
          "output_type": "stream",
          "name": "stdout",
          "text": [
            "                   all         21         41      0.657      0.755      0.756      0.292\n"
          ]
        },
        {
          "output_type": "stream",
          "name": "stderr",
          "text": [
            "\n"
          ]
        },
        {
          "output_type": "stream",
          "name": "stdout",
          "text": [
            "\n",
            "      Epoch    GPU_mem   box_loss   cls_loss   dfl_loss  Instances       Size\n"
          ]
        },
        {
          "output_type": "stream",
          "name": "stderr",
          "text": [
            "     84/100      3.74G      1.092      1.043      1.157         17        640: 100%|██████████| 14/14 [00:03<00:00,  4.07it/s]\n",
            "                 Class     Images  Instances      Box(P          R      mAP50  mAP50-95): 100%|██████████| 1/1 [00:00<00:00,  5.45it/s]\n"
          ]
        },
        {
          "output_type": "stream",
          "name": "stdout",
          "text": [
            "                   all         21         41      0.612      0.725       0.74      0.303\n",
            "\n",
            "      Epoch    GPU_mem   box_loss   cls_loss   dfl_loss  Instances       Size\n"
          ]
        },
        {
          "output_type": "stream",
          "name": "stderr",
          "text": [
            "     85/100      3.75G      1.046      1.065       1.16         33        640: 100%|██████████| 14/14 [00:03<00:00,  4.23it/s]\n",
            "                 Class     Images  Instances      Box(P          R      mAP50  mAP50-95): 100%|██████████| 1/1 [00:00<00:00,  2.81it/s]"
          ]
        },
        {
          "output_type": "stream",
          "name": "stdout",
          "text": [
            "                   all         21         41        0.6      0.815      0.745      0.289\n"
          ]
        },
        {
          "output_type": "stream",
          "name": "stderr",
          "text": [
            "\n"
          ]
        },
        {
          "output_type": "stream",
          "name": "stdout",
          "text": [
            "\n",
            "      Epoch    GPU_mem   box_loss   cls_loss   dfl_loss  Instances       Size\n"
          ]
        },
        {
          "output_type": "stream",
          "name": "stderr",
          "text": [
            "     86/100      3.77G      1.084       1.04      1.171         18        640: 100%|██████████| 14/14 [00:04<00:00,  3.40it/s]\n",
            "                 Class     Images  Instances      Box(P          R      mAP50  mAP50-95): 100%|██████████| 1/1 [00:00<00:00,  2.07it/s]"
          ]
        },
        {
          "output_type": "stream",
          "name": "stdout",
          "text": [
            "                   all         21         41      0.611      0.848      0.741       0.31\n"
          ]
        },
        {
          "output_type": "stream",
          "name": "stderr",
          "text": [
            "\n"
          ]
        },
        {
          "output_type": "stream",
          "name": "stdout",
          "text": [
            "\n",
            "      Epoch    GPU_mem   box_loss   cls_loss   dfl_loss  Instances       Size\n"
          ]
        },
        {
          "output_type": "stream",
          "name": "stderr",
          "text": [
            "     87/100      3.78G      1.065      1.032      1.151         21        640: 100%|██████████| 14/14 [00:03<00:00,  4.11it/s]\n",
            "                 Class     Images  Instances      Box(P          R      mAP50  mAP50-95): 100%|██████████| 1/1 [00:00<00:00,  3.66it/s]"
          ]
        },
        {
          "output_type": "stream",
          "name": "stdout",
          "text": [
            "                   all         21         41      0.714      0.685      0.768      0.308\n"
          ]
        },
        {
          "output_type": "stream",
          "name": "stderr",
          "text": [
            "\n"
          ]
        },
        {
          "output_type": "stream",
          "name": "stdout",
          "text": [
            "\n",
            "      Epoch    GPU_mem   box_loss   cls_loss   dfl_loss  Instances       Size\n"
          ]
        },
        {
          "output_type": "stream",
          "name": "stderr",
          "text": [
            "     88/100       3.8G      1.046      1.009      1.139         17        640: 100%|██████████| 14/14 [00:03<00:00,  4.09it/s]\n",
            "                 Class     Images  Instances      Box(P          R      mAP50  mAP50-95): 100%|██████████| 1/1 [00:00<00:00,  4.34it/s]"
          ]
        },
        {
          "output_type": "stream",
          "name": "stdout",
          "text": [
            "                   all         21         41      0.697       0.61       0.71      0.255\n"
          ]
        },
        {
          "output_type": "stream",
          "name": "stderr",
          "text": [
            "\n"
          ]
        },
        {
          "output_type": "stream",
          "name": "stdout",
          "text": [
            "\n",
            "      Epoch    GPU_mem   box_loss   cls_loss   dfl_loss  Instances       Size\n"
          ]
        },
        {
          "output_type": "stream",
          "name": "stderr",
          "text": [
            "     89/100      3.81G      1.055      1.043       1.15         17        640: 100%|██████████| 14/14 [00:04<00:00,  3.33it/s]\n",
            "                 Class     Images  Instances      Box(P          R      mAP50  mAP50-95): 100%|██████████| 1/1 [00:00<00:00,  2.55it/s]"
          ]
        },
        {
          "output_type": "stream",
          "name": "stdout",
          "text": [
            "                   all         21         41      0.816      0.707      0.834      0.308\n"
          ]
        },
        {
          "output_type": "stream",
          "name": "stderr",
          "text": [
            "\n"
          ]
        },
        {
          "output_type": "stream",
          "name": "stdout",
          "text": [
            "\n",
            "      Epoch    GPU_mem   box_loss   cls_loss   dfl_loss  Instances       Size\n"
          ]
        },
        {
          "output_type": "stream",
          "name": "stderr",
          "text": [
            "     90/100      3.83G      0.986      1.052      1.152          6        640: 100%|██████████| 14/14 [00:03<00:00,  4.13it/s]\n",
            "                 Class     Images  Instances      Box(P          R      mAP50  mAP50-95): 100%|██████████| 1/1 [00:00<00:00,  3.59it/s]"
          ]
        },
        {
          "output_type": "stream",
          "name": "stdout",
          "text": [
            "                   all         21         41      0.666      0.819      0.826      0.349\n"
          ]
        },
        {
          "output_type": "stream",
          "name": "stderr",
          "text": [
            "\n"
          ]
        },
        {
          "output_type": "stream",
          "name": "stdout",
          "text": [
            "Closing dataloader mosaic\n",
            "\u001b[34m\u001b[1malbumentations: \u001b[0mBlur(p=0.01, blur_limit=(3, 7)), MedianBlur(p=0.01, blur_limit=(3, 7)), ToGray(p=0.01, method='weighted_average', num_output_channels=3), CLAHE(p=0.01, clip_limit=(1.0, 4.0), tile_grid_size=(8, 8))\n",
            "\n",
            "      Epoch    GPU_mem   box_loss   cls_loss   dfl_loss  Instances       Size\n"
          ]
        },
        {
          "output_type": "stream",
          "name": "stderr",
          "text": [
            "     91/100      3.84G      0.962     0.9607      1.148          5        640: 100%|██████████| 14/14 [00:04<00:00,  2.86it/s]\n",
            "                 Class     Images  Instances      Box(P          R      mAP50  mAP50-95): 100%|██████████| 1/1 [00:00<00:00,  3.72it/s]"
          ]
        },
        {
          "output_type": "stream",
          "name": "stdout",
          "text": [
            "                   all         21         41      0.668      0.847      0.823      0.387\n"
          ]
        },
        {
          "output_type": "stream",
          "name": "stderr",
          "text": [
            "\n"
          ]
        },
        {
          "output_type": "stream",
          "name": "stdout",
          "text": [
            "\n",
            "      Epoch    GPU_mem   box_loss   cls_loss   dfl_loss  Instances       Size\n"
          ]
        },
        {
          "output_type": "stream",
          "name": "stderr",
          "text": [
            "     92/100      3.86G     0.9542     0.9152      1.115         13        640: 100%|██████████| 14/14 [00:04<00:00,  3.11it/s]\n",
            "                 Class     Images  Instances      Box(P          R      mAP50  mAP50-95): 100%|██████████| 1/1 [00:00<00:00,  4.60it/s]"
          ]
        },
        {
          "output_type": "stream",
          "name": "stdout",
          "text": [
            "                   all         21         41      0.691       0.81      0.808      0.434\n"
          ]
        },
        {
          "output_type": "stream",
          "name": "stderr",
          "text": [
            "\n"
          ]
        },
        {
          "output_type": "stream",
          "name": "stdout",
          "text": [
            "\n",
            "      Epoch    GPU_mem   box_loss   cls_loss   dfl_loss  Instances       Size\n"
          ]
        },
        {
          "output_type": "stream",
          "name": "stderr",
          "text": [
            "     93/100      3.87G     0.9358     0.9393      1.131         33        640: 100%|██████████| 14/14 [00:03<00:00,  4.09it/s]\n",
            "                 Class     Images  Instances      Box(P          R      mAP50  mAP50-95): 100%|██████████| 1/1 [00:00<00:00,  4.74it/s]"
          ]
        },
        {
          "output_type": "stream",
          "name": "stdout",
          "text": [
            "                   all         21         41      0.661      0.809      0.812      0.435\n"
          ]
        },
        {
          "output_type": "stream",
          "name": "stderr",
          "text": [
            "\n"
          ]
        },
        {
          "output_type": "stream",
          "name": "stdout",
          "text": [
            "\n",
            "      Epoch    GPU_mem   box_loss   cls_loss   dfl_loss  Instances       Size\n"
          ]
        },
        {
          "output_type": "stream",
          "name": "stderr",
          "text": [
            "     94/100      3.89G     0.9634     0.9396       1.14          5        640: 100%|██████████| 14/14 [00:03<00:00,  4.18it/s]\n",
            "                 Class     Images  Instances      Box(P          R      mAP50  mAP50-95): 100%|██████████| 1/1 [00:00<00:00,  4.86it/s]"
          ]
        },
        {
          "output_type": "stream",
          "name": "stdout",
          "text": [
            "                   all         21         41      0.691      0.854      0.869       0.45\n"
          ]
        },
        {
          "output_type": "stream",
          "name": "stderr",
          "text": [
            "\n"
          ]
        },
        {
          "output_type": "stream",
          "name": "stdout",
          "text": [
            "\n",
            "      Epoch    GPU_mem   box_loss   cls_loss   dfl_loss  Instances       Size\n"
          ]
        },
        {
          "output_type": "stream",
          "name": "stderr",
          "text": [
            "     95/100       3.9G     0.9543     0.9499      1.132          5        640: 100%|██████████| 14/14 [00:04<00:00,  3.17it/s]\n",
            "                 Class     Images  Instances      Box(P          R      mAP50  mAP50-95): 100%|██████████| 1/1 [00:00<00:00,  2.90it/s]"
          ]
        },
        {
          "output_type": "stream",
          "name": "stdout",
          "text": [
            "                   all         21         41      0.657      0.921       0.86      0.413\n"
          ]
        },
        {
          "output_type": "stream",
          "name": "stderr",
          "text": [
            "\n"
          ]
        },
        {
          "output_type": "stream",
          "name": "stdout",
          "text": [
            "\n",
            "      Epoch    GPU_mem   box_loss   cls_loss   dfl_loss  Instances       Size\n"
          ]
        },
        {
          "output_type": "stream",
          "name": "stderr",
          "text": [
            "     96/100      3.92G     0.9093     0.9195       1.12         27        640: 100%|██████████| 14/14 [00:03<00:00,  4.34it/s]\n",
            "                 Class     Images  Instances      Box(P          R      mAP50  mAP50-95): 100%|██████████| 1/1 [00:00<00:00,  3.13it/s]"
          ]
        },
        {
          "output_type": "stream",
          "name": "stdout",
          "text": [
            "                   all         21         41      0.695      0.879      0.844      0.417\n"
          ]
        },
        {
          "output_type": "stream",
          "name": "stderr",
          "text": [
            "\n"
          ]
        },
        {
          "output_type": "stream",
          "name": "stdout",
          "text": [
            "\n",
            "      Epoch    GPU_mem   box_loss   cls_loss   dfl_loss  Instances       Size\n"
          ]
        },
        {
          "output_type": "stream",
          "name": "stderr",
          "text": [
            "     97/100      3.93G     0.9074     0.8836      1.123         14        640: 100%|██████████| 14/14 [00:03<00:00,  4.20it/s]\n",
            "                 Class     Images  Instances      Box(P          R      mAP50  mAP50-95): 100%|██████████| 1/1 [00:00<00:00,  3.75it/s]"
          ]
        },
        {
          "output_type": "stream",
          "name": "stdout",
          "text": [
            "                   all         21         41        0.7      0.851      0.842      0.408\n"
          ]
        },
        {
          "output_type": "stream",
          "name": "stderr",
          "text": [
            "\n"
          ]
        },
        {
          "output_type": "stream",
          "name": "stdout",
          "text": [
            "\n",
            "      Epoch    GPU_mem   box_loss   cls_loss   dfl_loss  Instances       Size\n"
          ]
        },
        {
          "output_type": "stream",
          "name": "stderr",
          "text": [
            "     98/100      3.95G     0.9067      0.862      1.118         28        640: 100%|██████████| 14/14 [00:04<00:00,  3.42it/s]\n",
            "                 Class     Images  Instances      Box(P          R      mAP50  mAP50-95): 100%|██████████| 1/1 [00:00<00:00,  2.95it/s]"
          ]
        },
        {
          "output_type": "stream",
          "name": "stdout",
          "text": [
            "                   all         21         41      0.702      0.842      0.825      0.391\n"
          ]
        },
        {
          "output_type": "stream",
          "name": "stderr",
          "text": [
            "\n"
          ]
        },
        {
          "output_type": "stream",
          "name": "stdout",
          "text": [
            "\n",
            "      Epoch    GPU_mem   box_loss   cls_loss   dfl_loss  Instances       Size\n"
          ]
        },
        {
          "output_type": "stream",
          "name": "stderr",
          "text": [
            "     99/100      3.96G     0.9172     0.9124      1.136         13        640: 100%|██████████| 14/14 [00:03<00:00,  4.19it/s]\n",
            "                 Class     Images  Instances      Box(P          R      mAP50  mAP50-95): 100%|██████████| 1/1 [00:00<00:00,  6.04it/s]"
          ]
        },
        {
          "output_type": "stream",
          "name": "stdout",
          "text": [
            "                   all         21         41      0.686      0.812      0.827       0.37\n"
          ]
        },
        {
          "output_type": "stream",
          "name": "stderr",
          "text": [
            "\n"
          ]
        },
        {
          "output_type": "stream",
          "name": "stdout",
          "text": [
            "\n",
            "      Epoch    GPU_mem   box_loss   cls_loss   dfl_loss  Instances       Size\n"
          ]
        },
        {
          "output_type": "stream",
          "name": "stderr",
          "text": [
            "    100/100      3.97G     0.9241     0.8937      1.115          5        640: 100%|██████████| 14/14 [00:03<00:00,  4.24it/s]\n",
            "                 Class     Images  Instances      Box(P          R      mAP50  mAP50-95): 100%|██████████| 1/1 [00:00<00:00,  4.49it/s]"
          ]
        },
        {
          "output_type": "stream",
          "name": "stdout",
          "text": [
            "                   all         21         41      0.704      0.803      0.853      0.386\n"
          ]
        },
        {
          "output_type": "stream",
          "name": "stderr",
          "text": [
            "\n"
          ]
        },
        {
          "output_type": "stream",
          "name": "stdout",
          "text": [
            "\n",
            "100 epochs completed in 0.124 hours.\n",
            "Optimizer stripped from runs/detect/train2/weights/last.pt, 5.5MB\n",
            "Optimizer stripped from runs/detect/train2/weights/best.pt, 5.5MB\n",
            "\n",
            "Validating runs/detect/train2/weights/best.pt...\n",
            "Ultralytics 8.3.147 🚀 Python-3.11.12 torch-2.6.0+cu124 CUDA:0 (Tesla T4, 15095MiB)\n",
            "YOLO11n summary (fused): 100 layers, 2,583,322 parameters, 0 gradients, 6.3 GFLOPs\n"
          ]
        },
        {
          "output_type": "stream",
          "name": "stderr",
          "text": [
            "                 Class     Images  Instances      Box(P          R      mAP50  mAP50-95): 100%|██████████| 1/1 [00:00<00:00,  4.84it/s]\n"
          ]
        },
        {
          "output_type": "stream",
          "name": "stdout",
          "text": [
            "                   all         21         41      0.691      0.854      0.871      0.446\n",
            "          white-bishop          5          6      0.569      0.833      0.874      0.504\n",
            "            white-king          4          4      0.797      0.985      0.945      0.561\n",
            "          white-knight          4          5      0.667          1      0.898      0.429\n",
            "            white-pawn          8         15      0.807      0.558      0.759      0.499\n",
            "           white-queen          4          4      0.606       0.75      0.912      0.362\n",
            "            white-rook          5          7        0.7      0.998      0.839       0.32\n",
            "Speed: 0.2ms preprocess, 2.2ms inference, 0.0ms loss, 1.6ms postprocess per image\n",
            "Results saved to \u001b[1mruns/detect/train2\u001b[0m\n"
          ]
        }
      ]
    },
    {
      "cell_type": "markdown",
      "source": [
        "zipping to download"
      ],
      "metadata": {
        "id": "8F8MsnGCD-hi"
      }
    },
    {
      "cell_type": "code",
      "source": [
        "!zip -r /content/file.zip /content\n",
        "from google.colab import files\n",
        "files.download(\"/content/file.zip\")"
      ],
      "metadata": {
        "id": "_NP9SwRRD-MI"
      },
      "execution_count": null,
      "outputs": []
    },
    {
      "cell_type": "code",
      "source": [
        "!pip install roboflow\n",
        "\n",
        "from roboflow import Roboflow\n",
        "rf = Roboflow(api_key=\"k3A3mnyIf2w3F2fjWMxG\")\n",
        "project = rf.workspace(\"savijas-workspace\").project(\"robo_chess\")\n",
        "version = project.version(3)\n",
        "dataset = version.download(\"yolov11\")\n"
      ],
      "metadata": {
        "id": "_Sxon6zSE-CL",
        "outputId": "e031ca67-b25a-4bbe-cfe6-01e256eb898e",
        "colab": {
          "base_uri": "https://localhost:8080/"
        }
      },
      "execution_count": null,
      "outputs": [
        {
          "output_type": "stream",
          "name": "stdout",
          "text": [
            "Collecting roboflow\n",
            "  Downloading roboflow-1.1.65-py3-none-any.whl.metadata (9.7 kB)\n",
            "Requirement already satisfied: certifi in /usr/local/lib/python3.11/dist-packages (from roboflow) (2025.4.26)\n",
            "Collecting idna==3.7 (from roboflow)\n",
            "  Downloading idna-3.7-py3-none-any.whl.metadata (9.9 kB)\n",
            "Requirement already satisfied: cycler in /usr/local/lib/python3.11/dist-packages (from roboflow) (0.12.1)\n",
            "Requirement already satisfied: kiwisolver>=1.3.1 in /usr/local/lib/python3.11/dist-packages (from roboflow) (1.4.8)\n",
            "Requirement already satisfied: matplotlib in /usr/local/lib/python3.11/dist-packages (from roboflow) (3.10.0)\n",
            "Requirement already satisfied: numpy>=1.18.5 in /usr/local/lib/python3.11/dist-packages (from roboflow) (2.0.2)\n",
            "Collecting opencv-python-headless==4.10.0.84 (from roboflow)\n",
            "  Downloading opencv_python_headless-4.10.0.84-cp37-abi3-manylinux_2_17_x86_64.manylinux2014_x86_64.whl.metadata (20 kB)\n",
            "Requirement already satisfied: Pillow>=7.1.2 in /usr/local/lib/python3.11/dist-packages (from roboflow) (11.2.1)\n",
            "Collecting pillow-heif>=0.18.0 (from roboflow)\n",
            "  Downloading pillow_heif-0.22.0-cp311-cp311-manylinux_2_17_x86_64.manylinux2014_x86_64.whl.metadata (9.6 kB)\n",
            "Requirement already satisfied: python-dateutil in /usr/local/lib/python3.11/dist-packages (from roboflow) (2.9.0.post0)\n",
            "Collecting python-dotenv (from roboflow)\n",
            "  Downloading python_dotenv-1.1.0-py3-none-any.whl.metadata (24 kB)\n",
            "Requirement already satisfied: requests in /usr/local/lib/python3.11/dist-packages (from roboflow) (2.32.3)\n",
            "Requirement already satisfied: six in /usr/local/lib/python3.11/dist-packages (from roboflow) (1.17.0)\n",
            "Requirement already satisfied: urllib3>=1.26.6 in /usr/local/lib/python3.11/dist-packages (from roboflow) (2.4.0)\n",
            "Requirement already satisfied: tqdm>=4.41.0 in /usr/local/lib/python3.11/dist-packages (from roboflow) (4.67.1)\n",
            "Requirement already satisfied: PyYAML>=5.3.1 in /usr/local/lib/python3.11/dist-packages (from roboflow) (6.0.2)\n",
            "Requirement already satisfied: requests-toolbelt in /usr/local/lib/python3.11/dist-packages (from roboflow) (1.0.0)\n",
            "Collecting filetype (from roboflow)\n",
            "  Downloading filetype-1.2.0-py2.py3-none-any.whl.metadata (6.5 kB)\n",
            "Requirement already satisfied: contourpy>=1.0.1 in /usr/local/lib/python3.11/dist-packages (from matplotlib->roboflow) (1.3.2)\n",
            "Requirement already satisfied: fonttools>=4.22.0 in /usr/local/lib/python3.11/dist-packages (from matplotlib->roboflow) (4.58.0)\n",
            "Requirement already satisfied: packaging>=20.0 in /usr/local/lib/python3.11/dist-packages (from matplotlib->roboflow) (24.2)\n",
            "Requirement already satisfied: pyparsing>=2.3.1 in /usr/local/lib/python3.11/dist-packages (from matplotlib->roboflow) (3.2.3)\n",
            "Requirement already satisfied: charset-normalizer<4,>=2 in /usr/local/lib/python3.11/dist-packages (from requests->roboflow) (3.4.2)\n",
            "Downloading roboflow-1.1.65-py3-none-any.whl (85 kB)\n",
            "\u001b[2K   \u001b[90m━━━━━━━━━━━━━━━━━━━━━━━━━━━━━━━━━━━━━━━━\u001b[0m \u001b[32m85.8/85.8 kB\u001b[0m \u001b[31m9.3 MB/s\u001b[0m eta \u001b[36m0:00:00\u001b[0m\n",
            "\u001b[?25hDownloading idna-3.7-py3-none-any.whl (66 kB)\n",
            "\u001b[2K   \u001b[90m━━━━━━━━━━━━━━━━━━━━━━━━━━━━━━━━━━━━━━━━\u001b[0m \u001b[32m66.8/66.8 kB\u001b[0m \u001b[31m6.8 MB/s\u001b[0m eta \u001b[36m0:00:00\u001b[0m\n",
            "\u001b[?25hDownloading opencv_python_headless-4.10.0.84-cp37-abi3-manylinux_2_17_x86_64.manylinux2014_x86_64.whl (49.9 MB)\n",
            "\u001b[2K   \u001b[90m━━━━━━━━━━━━━━━━━━━━━━━━━━━━━━━━━━━━━━━━\u001b[0m \u001b[32m49.9/49.9 MB\u001b[0m \u001b[31m25.0 MB/s\u001b[0m eta \u001b[36m0:00:00\u001b[0m\n",
            "\u001b[?25hDownloading pillow_heif-0.22.0-cp311-cp311-manylinux_2_17_x86_64.manylinux2014_x86_64.whl (7.8 MB)\n",
            "\u001b[2K   \u001b[90m━━━━━━━━━━━━━━━━━━━━━━━━━━━━━━━━━━━━━━━━\u001b[0m \u001b[32m7.8/7.8 MB\u001b[0m \u001b[31m118.6 MB/s\u001b[0m eta \u001b[36m0:00:00\u001b[0m\n",
            "\u001b[?25hDownloading filetype-1.2.0-py2.py3-none-any.whl (19 kB)\n",
            "Downloading python_dotenv-1.1.0-py3-none-any.whl (20 kB)\n",
            "Installing collected packages: filetype, python-dotenv, pillow-heif, opencv-python-headless, idna, roboflow\n",
            "  Attempting uninstall: opencv-python-headless\n",
            "    Found existing installation: opencv-python-headless 4.11.0.86\n",
            "    Uninstalling opencv-python-headless-4.11.0.86:\n",
            "      Successfully uninstalled opencv-python-headless-4.11.0.86\n",
            "  Attempting uninstall: idna\n",
            "    Found existing installation: idna 3.10\n",
            "    Uninstalling idna-3.10:\n",
            "      Successfully uninstalled idna-3.10\n",
            "Successfully installed filetype-1.2.0 idna-3.7 opencv-python-headless-4.10.0.84 pillow-heif-0.22.0 python-dotenv-1.1.0 roboflow-1.1.65\n",
            "loading Roboflow workspace...\n",
            "loading Roboflow project...\n"
          ]
        },
        {
          "output_type": "stream",
          "name": "stderr",
          "text": [
            "Downloading Dataset Version Zip in robo_chess-3 to yolov11:: 100%|██████████| 21727/21727 [00:02<00:00, 7936.36it/s] "
          ]
        },
        {
          "output_type": "stream",
          "name": "stdout",
          "text": [
            "\n"
          ]
        },
        {
          "output_type": "stream",
          "name": "stderr",
          "text": [
            "\n",
            "Extracting Dataset Version Zip to robo_chess-3 in yolov11:: 100%|██████████| 744/744 [00:00<00:00, 7434.92it/s]\n"
          ]
        }
      ]
    },
    {
      "cell_type": "code",
      "source": [
        "!pip install ultralytics\n",
        "from ultralytics import YOLO\n",
        "\n",
        "model = YOLO('yolo11n.pt')\n",
        "\n",
        "results = model.train(data='robo_chess-3/data.yaml', epochs=200, imgsz=640)\n",
        "!zip -r /content/file.zip /content\n",
        "from google.colab import files\n",
        "files.download(\"/content/file.zip\")"
      ],
      "metadata": {
        "id": "DwuGOJl-FI73",
        "outputId": "58876618-e325-49bd-a8ad-f165a92568ea",
        "colab": {
          "base_uri": "https://localhost:8080/",
          "height": 1000
        }
      },
      "execution_count": null,
      "outputs": [
        {
          "output_type": "stream",
          "name": "stdout",
          "text": [
            "Requirement already satisfied: ultralytics in /usr/local/lib/python3.11/dist-packages (8.3.148)\n",
            "Requirement already satisfied: numpy>=1.23.0 in /usr/local/lib/python3.11/dist-packages (from ultralytics) (2.0.2)\n",
            "Requirement already satisfied: matplotlib>=3.3.0 in /usr/local/lib/python3.11/dist-packages (from ultralytics) (3.10.0)\n",
            "Requirement already satisfied: opencv-python>=4.6.0 in /usr/local/lib/python3.11/dist-packages (from ultralytics) (4.11.0.86)\n",
            "Requirement already satisfied: pillow>=7.1.2 in /usr/local/lib/python3.11/dist-packages (from ultralytics) (11.2.1)\n",
            "Requirement already satisfied: pyyaml>=5.3.1 in /usr/local/lib/python3.11/dist-packages (from ultralytics) (6.0.2)\n",
            "Requirement already satisfied: requests>=2.23.0 in /usr/local/lib/python3.11/dist-packages (from ultralytics) (2.32.3)\n",
            "Requirement already satisfied: scipy>=1.4.1 in /usr/local/lib/python3.11/dist-packages (from ultralytics) (1.15.3)\n",
            "Requirement already satisfied: torch>=1.8.0 in /usr/local/lib/python3.11/dist-packages (from ultralytics) (2.6.0+cu124)\n",
            "Requirement already satisfied: torchvision>=0.9.0 in /usr/local/lib/python3.11/dist-packages (from ultralytics) (0.21.0+cu124)\n",
            "Requirement already satisfied: tqdm>=4.64.0 in /usr/local/lib/python3.11/dist-packages (from ultralytics) (4.67.1)\n",
            "Requirement already satisfied: psutil in /usr/local/lib/python3.11/dist-packages (from ultralytics) (5.9.5)\n",
            "Requirement already satisfied: py-cpuinfo in /usr/local/lib/python3.11/dist-packages (from ultralytics) (9.0.0)\n",
            "Requirement already satisfied: pandas>=1.1.4 in /usr/local/lib/python3.11/dist-packages (from ultralytics) (2.2.2)\n",
            "Requirement already satisfied: ultralytics-thop>=2.0.0 in /usr/local/lib/python3.11/dist-packages (from ultralytics) (2.0.14)\n",
            "Requirement already satisfied: contourpy>=1.0.1 in /usr/local/lib/python3.11/dist-packages (from matplotlib>=3.3.0->ultralytics) (1.3.2)\n",
            "Requirement already satisfied: cycler>=0.10 in /usr/local/lib/python3.11/dist-packages (from matplotlib>=3.3.0->ultralytics) (0.12.1)\n",
            "Requirement already satisfied: fonttools>=4.22.0 in /usr/local/lib/python3.11/dist-packages (from matplotlib>=3.3.0->ultralytics) (4.58.0)\n",
            "Requirement already satisfied: kiwisolver>=1.3.1 in /usr/local/lib/python3.11/dist-packages (from matplotlib>=3.3.0->ultralytics) (1.4.8)\n",
            "Requirement already satisfied: packaging>=20.0 in /usr/local/lib/python3.11/dist-packages (from matplotlib>=3.3.0->ultralytics) (24.2)\n",
            "Requirement already satisfied: pyparsing>=2.3.1 in /usr/local/lib/python3.11/dist-packages (from matplotlib>=3.3.0->ultralytics) (3.2.3)\n",
            "Requirement already satisfied: python-dateutil>=2.7 in /usr/local/lib/python3.11/dist-packages (from matplotlib>=3.3.0->ultralytics) (2.9.0.post0)\n",
            "Requirement already satisfied: pytz>=2020.1 in /usr/local/lib/python3.11/dist-packages (from pandas>=1.1.4->ultralytics) (2025.2)\n",
            "Requirement already satisfied: tzdata>=2022.7 in /usr/local/lib/python3.11/dist-packages (from pandas>=1.1.4->ultralytics) (2025.2)\n",
            "Requirement already satisfied: charset-normalizer<4,>=2 in /usr/local/lib/python3.11/dist-packages (from requests>=2.23.0->ultralytics) (3.4.2)\n",
            "Requirement already satisfied: idna<4,>=2.5 in /usr/local/lib/python3.11/dist-packages (from requests>=2.23.0->ultralytics) (3.7)\n",
            "Requirement already satisfied: urllib3<3,>=1.21.1 in /usr/local/lib/python3.11/dist-packages (from requests>=2.23.0->ultralytics) (2.4.0)\n",
            "Requirement already satisfied: certifi>=2017.4.17 in /usr/local/lib/python3.11/dist-packages (from requests>=2.23.0->ultralytics) (2025.4.26)\n",
            "Requirement already satisfied: filelock in /usr/local/lib/python3.11/dist-packages (from torch>=1.8.0->ultralytics) (3.18.0)\n",
            "Requirement already satisfied: typing-extensions>=4.10.0 in /usr/local/lib/python3.11/dist-packages (from torch>=1.8.0->ultralytics) (4.13.2)\n",
            "Requirement already satisfied: networkx in /usr/local/lib/python3.11/dist-packages (from torch>=1.8.0->ultralytics) (3.4.2)\n",
            "Requirement already satisfied: jinja2 in /usr/local/lib/python3.11/dist-packages (from torch>=1.8.0->ultralytics) (3.1.6)\n",
            "Requirement already satisfied: fsspec in /usr/local/lib/python3.11/dist-packages (from torch>=1.8.0->ultralytics) (2025.3.2)\n",
            "Requirement already satisfied: nvidia-cuda-nvrtc-cu12==12.4.127 in /usr/local/lib/python3.11/dist-packages (from torch>=1.8.0->ultralytics) (12.4.127)\n",
            "Requirement already satisfied: nvidia-cuda-runtime-cu12==12.4.127 in /usr/local/lib/python3.11/dist-packages (from torch>=1.8.0->ultralytics) (12.4.127)\n",
            "Requirement already satisfied: nvidia-cuda-cupti-cu12==12.4.127 in /usr/local/lib/python3.11/dist-packages (from torch>=1.8.0->ultralytics) (12.4.127)\n",
            "Requirement already satisfied: nvidia-cudnn-cu12==9.1.0.70 in /usr/local/lib/python3.11/dist-packages (from torch>=1.8.0->ultralytics) (9.1.0.70)\n",
            "Requirement already satisfied: nvidia-cublas-cu12==12.4.5.8 in /usr/local/lib/python3.11/dist-packages (from torch>=1.8.0->ultralytics) (12.4.5.8)\n",
            "Requirement already satisfied: nvidia-cufft-cu12==11.2.1.3 in /usr/local/lib/python3.11/dist-packages (from torch>=1.8.0->ultralytics) (11.2.1.3)\n",
            "Requirement already satisfied: nvidia-curand-cu12==10.3.5.147 in /usr/local/lib/python3.11/dist-packages (from torch>=1.8.0->ultralytics) (10.3.5.147)\n",
            "Requirement already satisfied: nvidia-cusolver-cu12==11.6.1.9 in /usr/local/lib/python3.11/dist-packages (from torch>=1.8.0->ultralytics) (11.6.1.9)\n",
            "Requirement already satisfied: nvidia-cusparse-cu12==12.3.1.170 in /usr/local/lib/python3.11/dist-packages (from torch>=1.8.0->ultralytics) (12.3.1.170)\n",
            "Requirement already satisfied: nvidia-cusparselt-cu12==0.6.2 in /usr/local/lib/python3.11/dist-packages (from torch>=1.8.0->ultralytics) (0.6.2)\n",
            "Requirement already satisfied: nvidia-nccl-cu12==2.21.5 in /usr/local/lib/python3.11/dist-packages (from torch>=1.8.0->ultralytics) (2.21.5)\n",
            "Requirement already satisfied: nvidia-nvtx-cu12==12.4.127 in /usr/local/lib/python3.11/dist-packages (from torch>=1.8.0->ultralytics) (12.4.127)\n",
            "Requirement already satisfied: nvidia-nvjitlink-cu12==12.4.127 in /usr/local/lib/python3.11/dist-packages (from torch>=1.8.0->ultralytics) (12.4.127)\n",
            "Requirement already satisfied: triton==3.2.0 in /usr/local/lib/python3.11/dist-packages (from torch>=1.8.0->ultralytics) (3.2.0)\n",
            "Requirement already satisfied: sympy==1.13.1 in /usr/local/lib/python3.11/dist-packages (from torch>=1.8.0->ultralytics) (1.13.1)\n",
            "Requirement already satisfied: mpmath<1.4,>=1.1.0 in /usr/local/lib/python3.11/dist-packages (from sympy==1.13.1->torch>=1.8.0->ultralytics) (1.3.0)\n",
            "Requirement already satisfied: six>=1.5 in /usr/local/lib/python3.11/dist-packages (from python-dateutil>=2.7->matplotlib>=3.3.0->ultralytics) (1.17.0)\n",
            "Requirement already satisfied: MarkupSafe>=2.0 in /usr/local/lib/python3.11/dist-packages (from jinja2->torch>=1.8.0->ultralytics) (3.0.2)\n",
            "Ultralytics 8.3.148 🚀 Python-3.11.12 torch-2.6.0+cu124 CUDA:0 (Tesla T4, 15095MiB)\n",
            "\u001b[34m\u001b[1mengine/trainer: \u001b[0magnostic_nms=False, amp=True, augment=False, auto_augment=randaugment, batch=16, bgr=0.0, box=7.5, cache=False, cfg=None, classes=None, close_mosaic=10, cls=0.5, conf=None, copy_paste=0.0, copy_paste_mode=flip, cos_lr=False, cutmix=0.0, data=robo_chess-3/data.yaml, degrees=0.0, deterministic=True, device=None, dfl=1.5, dnn=False, dropout=0.0, dynamic=False, embed=None, epochs=200, erasing=0.4, exist_ok=False, fliplr=0.5, flipud=0.0, format=torchscript, fraction=1.0, freeze=None, half=False, hsv_h=0.015, hsv_s=0.7, hsv_v=0.4, imgsz=640, int8=False, iou=0.7, keras=False, kobj=1.0, line_width=None, lr0=0.01, lrf=0.01, mask_ratio=4, max_det=300, mixup=0.0, mode=train, model=yolo11n.pt, momentum=0.937, mosaic=1.0, multi_scale=False, name=train3, nbs=64, nms=False, opset=None, optimize=False, optimizer=auto, overlap_mask=True, patience=100, perspective=0.0, plots=True, pose=12.0, pretrained=True, profile=False, project=None, rect=False, resume=False, retina_masks=False, save=True, save_conf=False, save_crop=False, save_dir=runs/detect/train3, save_frames=False, save_json=False, save_period=-1, save_txt=False, scale=0.5, seed=0, shear=0.0, show=False, show_boxes=True, show_conf=True, show_labels=True, simplify=True, single_cls=False, source=None, split=val, stream_buffer=False, task=detect, time=None, tracker=botsort.yaml, translate=0.1, val=True, verbose=True, vid_stride=1, visualize=False, warmup_bias_lr=0.1, warmup_epochs=3.0, warmup_momentum=0.8, weight_decay=0.0005, workers=8, workspace=None\n",
            "Overriding model.yaml nc=80 with nc=13\n",
            "\n",
            "                   from  n    params  module                                       arguments                     \n",
            "  0                  -1  1       464  ultralytics.nn.modules.conv.Conv             [3, 16, 3, 2]                 \n",
            "  1                  -1  1      4672  ultralytics.nn.modules.conv.Conv             [16, 32, 3, 2]                \n",
            "  2                  -1  1      6640  ultralytics.nn.modules.block.C3k2            [32, 64, 1, False, 0.25]      \n",
            "  3                  -1  1     36992  ultralytics.nn.modules.conv.Conv             [64, 64, 3, 2]                \n",
            "  4                  -1  1     26080  ultralytics.nn.modules.block.C3k2            [64, 128, 1, False, 0.25]     \n",
            "  5                  -1  1    147712  ultralytics.nn.modules.conv.Conv             [128, 128, 3, 2]              \n",
            "  6                  -1  1     87040  ultralytics.nn.modules.block.C3k2            [128, 128, 1, True]           \n",
            "  7                  -1  1    295424  ultralytics.nn.modules.conv.Conv             [128, 256, 3, 2]              \n",
            "  8                  -1  1    346112  ultralytics.nn.modules.block.C3k2            [256, 256, 1, True]           \n",
            "  9                  -1  1    164608  ultralytics.nn.modules.block.SPPF            [256, 256, 5]                 \n",
            " 10                  -1  1    249728  ultralytics.nn.modules.block.C2PSA           [256, 256, 1]                 \n",
            " 11                  -1  1         0  torch.nn.modules.upsampling.Upsample         [None, 2, 'nearest']          \n",
            " 12             [-1, 6]  1         0  ultralytics.nn.modules.conv.Concat           [1]                           \n",
            " 13                  -1  1    111296  ultralytics.nn.modules.block.C3k2            [384, 128, 1, False]          \n",
            " 14                  -1  1         0  torch.nn.modules.upsampling.Upsample         [None, 2, 'nearest']          \n",
            " 15             [-1, 4]  1         0  ultralytics.nn.modules.conv.Concat           [1]                           \n",
            " 16                  -1  1     32096  ultralytics.nn.modules.block.C3k2            [256, 64, 1, False]           \n",
            " 17                  -1  1     36992  ultralytics.nn.modules.conv.Conv             [64, 64, 3, 2]                \n",
            " 18            [-1, 13]  1         0  ultralytics.nn.modules.conv.Concat           [1]                           \n",
            " 19                  -1  1     86720  ultralytics.nn.modules.block.C3k2            [192, 128, 1, False]          \n",
            " 20                  -1  1    147712  ultralytics.nn.modules.conv.Conv             [128, 128, 3, 2]              \n",
            " 21            [-1, 10]  1         0  ultralytics.nn.modules.conv.Concat           [1]                           \n",
            " 22                  -1  1    378880  ultralytics.nn.modules.block.C3k2            [384, 256, 1, True]           \n",
            " 23        [16, 19, 22]  1    433207  ultralytics.nn.modules.head.Detect           [13, [64, 128, 256]]          \n",
            "YOLO11n summary: 181 layers, 2,592,375 parameters, 2,592,359 gradients, 6.5 GFLOPs\n",
            "\n",
            "Transferred 448/499 items from pretrained weights\n",
            "Freezing layer 'model.23.dfl.conv.weight'\n",
            "\u001b[34m\u001b[1mAMP: \u001b[0mrunning Automatic Mixed Precision (AMP) checks...\n",
            "\u001b[34m\u001b[1mAMP: \u001b[0mchecks passed ✅\n",
            "\u001b[34m\u001b[1mtrain: \u001b[0mFast image access ✅ (ping: 0.0±0.0 ms, read: 1775.5±680.3 MB/s, size: 57.2 KB)\n"
          ]
        },
        {
          "output_type": "stream",
          "name": "stderr",
          "text": [
            "\u001b[34m\u001b[1mtrain: \u001b[0mScanning /content/robo_chess-3/train/labels.cache... 321 images, 0 backgrounds, 0 corrupt: 100%|██████████| 321/321 [00:00<?, ?it/s]"
          ]
        },
        {
          "output_type": "stream",
          "name": "stdout",
          "text": [
            "WARNING ⚠️ Box and segment counts should be equal, but got len(segments) = 102, len(boxes) = 3100. To resolve this only boxes will be used and all segments will be removed. To avoid this please supply either a detect or segment dataset, not a detect-segment mixed dataset.\n",
            "\u001b[34m\u001b[1malbumentations: \u001b[0mBlur(p=0.01, blur_limit=(3, 7)), MedianBlur(p=0.01, blur_limit=(3, 7)), ToGray(p=0.01, method='weighted_average', num_output_channels=3), CLAHE(p=0.01, clip_limit=(1.0, 4.0), tile_grid_size=(8, 8))\n"
          ]
        },
        {
          "output_type": "stream",
          "name": "stderr",
          "text": [
            "\n"
          ]
        },
        {
          "output_type": "stream",
          "name": "stdout",
          "text": [
            "\u001b[34m\u001b[1mval: \u001b[0mFast image access ✅ (ping: 0.0±0.0 ms, read: 345.4±45.5 MB/s, size: 54.6 KB)\n"
          ]
        },
        {
          "output_type": "stream",
          "name": "stderr",
          "text": [
            "\u001b[34m\u001b[1mval: \u001b[0mScanning /content/robo_chess-3/valid/labels.cache... 31 images, 0 backgrounds, 0 corrupt: 100%|██████████| 31/31 [00:00<?, ?it/s]"
          ]
        },
        {
          "output_type": "stream",
          "name": "stdout",
          "text": [
            "WARNING ⚠️ Box and segment counts should be equal, but got len(segments) = 24, len(boxes) = 298. To resolve this only boxes will be used and all segments will be removed. To avoid this please supply either a detect or segment dataset, not a detect-segment mixed dataset.\n"
          ]
        },
        {
          "output_type": "stream",
          "name": "stderr",
          "text": [
            "\n"
          ]
        },
        {
          "output_type": "stream",
          "name": "stdout",
          "text": [
            "Plotting labels to runs/detect/train3/labels.jpg... \n",
            "\u001b[34m\u001b[1moptimizer:\u001b[0m 'optimizer=auto' found, ignoring 'lr0=0.01' and 'momentum=0.937' and determining best 'optimizer', 'lr0' and 'momentum' automatically... \n",
            "\u001b[34m\u001b[1moptimizer:\u001b[0m AdamW(lr=0.000588, momentum=0.9) with parameter groups 81 weight(decay=0.0), 88 weight(decay=0.0005), 87 bias(decay=0.0)\n",
            "Image sizes 640 train, 640 val\n",
            "Using 2 dataloader workers\n",
            "Logging results to \u001b[1mruns/detect/train3\u001b[0m\n",
            "Starting training for 200 epochs...\n",
            "\n",
            "      Epoch    GPU_mem   box_loss   cls_loss   dfl_loss  Instances       Size\n"
          ]
        },
        {
          "output_type": "stream",
          "name": "stderr",
          "text": [
            "      1/200      5.06G      2.253      4.685      1.651          2        640: 100%|██████████| 21/21 [00:08<00:00,  2.61it/s]\n",
            "                 Class     Images  Instances      Box(P          R      mAP50  mAP50-95): 100%|██████████| 1/1 [00:00<00:00,  2.90it/s]"
          ]
        },
        {
          "output_type": "stream",
          "name": "stdout",
          "text": [
            "                   all         31        298    0.00981     0.0274    0.00781    0.00369\n"
          ]
        },
        {
          "output_type": "stream",
          "name": "stderr",
          "text": [
            "\n"
          ]
        },
        {
          "output_type": "stream",
          "name": "stdout",
          "text": [
            "\n",
            "      Epoch    GPU_mem   box_loss   cls_loss   dfl_loss  Instances       Size\n"
          ]
        },
        {
          "output_type": "stream",
          "name": "stderr",
          "text": [
            "      2/200      5.06G      2.026       4.41      1.312          0        640: 100%|██████████| 21/21 [00:05<00:00,  3.67it/s]\n",
            "                 Class     Images  Instances      Box(P          R      mAP50  mAP50-95): 100%|██████████| 1/1 [00:00<00:00,  1.72it/s]"
          ]
        },
        {
          "output_type": "stream",
          "name": "stdout",
          "text": [
            "                   all         31        298    0.00937      0.121     0.0247    0.00859\n"
          ]
        },
        {
          "output_type": "stream",
          "name": "stderr",
          "text": [
            "\n"
          ]
        },
        {
          "output_type": "stream",
          "name": "stdout",
          "text": [
            "\n",
            "      Epoch    GPU_mem   box_loss   cls_loss   dfl_loss  Instances       Size\n"
          ]
        },
        {
          "output_type": "stream",
          "name": "stderr",
          "text": [
            "      3/200      5.06G      2.071      3.649       1.37          2        640: 100%|██████████| 21/21 [00:06<00:00,  3.40it/s]\n",
            "                 Class     Images  Instances      Box(P          R      mAP50  mAP50-95): 100%|██████████| 1/1 [00:00<00:00,  2.59it/s]"
          ]
        },
        {
          "output_type": "stream",
          "name": "stdout",
          "text": [
            "                   all         31        298     0.0221      0.421     0.0567     0.0255\n"
          ]
        },
        {
          "output_type": "stream",
          "name": "stderr",
          "text": [
            "\n"
          ]
        },
        {
          "output_type": "stream",
          "name": "stdout",
          "text": [
            "\n",
            "      Epoch    GPU_mem   box_loss   cls_loss   dfl_loss  Instances       Size\n"
          ]
        },
        {
          "output_type": "stream",
          "name": "stderr",
          "text": [
            "      4/200      5.06G      2.019      3.168      1.311         15        640: 100%|██████████| 21/21 [00:05<00:00,  3.80it/s]\n",
            "                 Class     Images  Instances      Box(P          R      mAP50  mAP50-95): 100%|██████████| 1/1 [00:00<00:00,  1.89it/s]"
          ]
        },
        {
          "output_type": "stream",
          "name": "stdout",
          "text": [
            "                   all         31        298     0.0232      0.488     0.0851     0.0419\n"
          ]
        },
        {
          "output_type": "stream",
          "name": "stderr",
          "text": [
            "\n"
          ]
        },
        {
          "output_type": "stream",
          "name": "stdout",
          "text": [
            "\n",
            "      Epoch    GPU_mem   box_loss   cls_loss   dfl_loss  Instances       Size\n"
          ]
        },
        {
          "output_type": "stream",
          "name": "stderr",
          "text": [
            "      5/200      5.06G      2.097      2.956      1.338         35        640: 100%|██████████| 21/21 [00:06<00:00,  3.29it/s]\n",
            "                 Class     Images  Instances      Box(P          R      mAP50  mAP50-95): 100%|██████████| 1/1 [00:00<00:00,  2.95it/s]"
          ]
        },
        {
          "output_type": "stream",
          "name": "stdout",
          "text": [
            "                   all         31        298      0.591     0.0742      0.111     0.0525\n"
          ]
        },
        {
          "output_type": "stream",
          "name": "stderr",
          "text": [
            "\n"
          ]
        },
        {
          "output_type": "stream",
          "name": "stdout",
          "text": [
            "\n",
            "      Epoch    GPU_mem   box_loss   cls_loss   dfl_loss  Instances       Size\n"
          ]
        },
        {
          "output_type": "stream",
          "name": "stderr",
          "text": [
            "      6/200      5.06G      1.933      2.745      1.295         10        640: 100%|██████████| 21/21 [00:05<00:00,  3.62it/s]\n",
            "                 Class     Images  Instances      Box(P          R      mAP50  mAP50-95): 100%|██████████| 1/1 [00:00<00:00,  1.21it/s]"
          ]
        },
        {
          "output_type": "stream",
          "name": "stdout",
          "text": [
            "                   all         31        298      0.218       0.21      0.166      0.084\n"
          ]
        },
        {
          "output_type": "stream",
          "name": "stderr",
          "text": [
            "\n"
          ]
        },
        {
          "output_type": "stream",
          "name": "stdout",
          "text": [
            "\n",
            "      Epoch    GPU_mem   box_loss   cls_loss   dfl_loss  Instances       Size\n"
          ]
        },
        {
          "output_type": "stream",
          "name": "stderr",
          "text": [
            "      7/200      5.06G      1.893      2.581      1.267         38        640: 100%|██████████| 21/21 [00:06<00:00,  3.46it/s]\n",
            "                 Class     Images  Instances      Box(P          R      mAP50  mAP50-95): 100%|██████████| 1/1 [00:00<00:00,  2.48it/s]"
          ]
        },
        {
          "output_type": "stream",
          "name": "stdout",
          "text": [
            "                   all         31        298      0.243      0.267      0.175     0.0869\n"
          ]
        },
        {
          "output_type": "stream",
          "name": "stderr",
          "text": [
            "\n"
          ]
        },
        {
          "output_type": "stream",
          "name": "stdout",
          "text": [
            "\n",
            "      Epoch    GPU_mem   box_loss   cls_loss   dfl_loss  Instances       Size\n"
          ]
        },
        {
          "output_type": "stream",
          "name": "stderr",
          "text": [
            "      8/200      5.06G      1.871      2.458      1.266         24        640: 100%|██████████| 21/21 [00:05<00:00,  3.82it/s]\n",
            "                 Class     Images  Instances      Box(P          R      mAP50  mAP50-95): 100%|██████████| 1/1 [00:00<00:00,  2.03it/s]"
          ]
        },
        {
          "output_type": "stream",
          "name": "stdout",
          "text": [
            "                   all         31        298      0.192      0.371      0.233      0.119\n"
          ]
        },
        {
          "output_type": "stream",
          "name": "stderr",
          "text": [
            "\n"
          ]
        },
        {
          "output_type": "stream",
          "name": "stdout",
          "text": [
            "\n",
            "      Epoch    GPU_mem   box_loss   cls_loss   dfl_loss  Instances       Size\n"
          ]
        },
        {
          "output_type": "stream",
          "name": "stderr",
          "text": [
            "      9/200      5.06G      1.861      2.394      1.265         78        640: 100%|██████████| 21/21 [00:06<00:00,  3.25it/s]\n",
            "                 Class     Images  Instances      Box(P          R      mAP50  mAP50-95): 100%|██████████| 1/1 [00:00<00:00,  2.14it/s]"
          ]
        },
        {
          "output_type": "stream",
          "name": "stdout",
          "text": [
            "                   all         31        298      0.215      0.455      0.267      0.128\n"
          ]
        },
        {
          "output_type": "stream",
          "name": "stderr",
          "text": [
            "\n"
          ]
        },
        {
          "output_type": "stream",
          "name": "stdout",
          "text": [
            "\n",
            "      Epoch    GPU_mem   box_loss   cls_loss   dfl_loss  Instances       Size\n"
          ]
        },
        {
          "output_type": "stream",
          "name": "stderr",
          "text": [
            "     10/200      5.06G       1.83      2.292      1.267         18        640: 100%|██████████| 21/21 [00:05<00:00,  4.00it/s]\n",
            "                 Class     Images  Instances      Box(P          R      mAP50  mAP50-95): 100%|██████████| 1/1 [00:00<00:00,  2.37it/s]"
          ]
        },
        {
          "output_type": "stream",
          "name": "stdout",
          "text": [
            "                   all         31        298      0.248      0.544      0.301      0.144\n"
          ]
        },
        {
          "output_type": "stream",
          "name": "stderr",
          "text": [
            "\n"
          ]
        },
        {
          "output_type": "stream",
          "name": "stdout",
          "text": [
            "\n",
            "      Epoch    GPU_mem   box_loss   cls_loss   dfl_loss  Instances       Size\n"
          ]
        },
        {
          "output_type": "stream",
          "name": "stderr",
          "text": [
            "     11/200      5.06G      1.752      2.292      1.259          2        640: 100%|██████████| 21/21 [00:06<00:00,  3.03it/s]\n",
            "                 Class     Images  Instances      Box(P          R      mAP50  mAP50-95): 100%|██████████| 1/1 [00:00<00:00,  2.84it/s]"
          ]
        },
        {
          "output_type": "stream",
          "name": "stdout",
          "text": [
            "                   all         31        298      0.278      0.413      0.309      0.149\n"
          ]
        },
        {
          "output_type": "stream",
          "name": "stderr",
          "text": [
            "\n"
          ]
        },
        {
          "output_type": "stream",
          "name": "stdout",
          "text": [
            "\n",
            "      Epoch    GPU_mem   box_loss   cls_loss   dfl_loss  Instances       Size\n"
          ]
        },
        {
          "output_type": "stream",
          "name": "stderr",
          "text": [
            "     12/200      5.06G      1.752      2.207      1.247          2        640: 100%|██████████| 21/21 [00:05<00:00,  3.85it/s]\n",
            "                 Class     Images  Instances      Box(P          R      mAP50  mAP50-95): 100%|██████████| 1/1 [00:00<00:00,  2.76it/s]"
          ]
        },
        {
          "output_type": "stream",
          "name": "stdout",
          "text": [
            "                   all         31        298      0.289      0.457      0.315      0.155\n"
          ]
        },
        {
          "output_type": "stream",
          "name": "stderr",
          "text": [
            "\n"
          ]
        },
        {
          "output_type": "stream",
          "name": "stdout",
          "text": [
            "\n",
            "      Epoch    GPU_mem   box_loss   cls_loss   dfl_loss  Instances       Size\n"
          ]
        },
        {
          "output_type": "stream",
          "name": "stderr",
          "text": [
            "     13/200      5.06G      1.758      2.117      1.245         46        640: 100%|██████████| 21/21 [00:06<00:00,  3.16it/s]\n",
            "                 Class     Images  Instances      Box(P          R      mAP50  mAP50-95): 100%|██████████| 1/1 [00:00<00:00,  2.34it/s]"
          ]
        },
        {
          "output_type": "stream",
          "name": "stdout",
          "text": [
            "                   all         31        298      0.317      0.476      0.313      0.133\n"
          ]
        },
        {
          "output_type": "stream",
          "name": "stderr",
          "text": [
            "\n"
          ]
        },
        {
          "output_type": "stream",
          "name": "stdout",
          "text": [
            "\n",
            "      Epoch    GPU_mem   box_loss   cls_loss   dfl_loss  Instances       Size\n"
          ]
        },
        {
          "output_type": "stream",
          "name": "stderr",
          "text": [
            "     14/200      5.06G      1.774       2.11      1.245         16        640: 100%|██████████| 21/21 [00:05<00:00,  3.94it/s]\n",
            "                 Class     Images  Instances      Box(P          R      mAP50  mAP50-95): 100%|██████████| 1/1 [00:00<00:00,  2.29it/s]"
          ]
        },
        {
          "output_type": "stream",
          "name": "stdout",
          "text": [
            "                   all         31        298      0.334      0.428      0.361       0.18\n"
          ]
        },
        {
          "output_type": "stream",
          "name": "stderr",
          "text": [
            "\n"
          ]
        },
        {
          "output_type": "stream",
          "name": "stdout",
          "text": [
            "\n",
            "      Epoch    GPU_mem   box_loss   cls_loss   dfl_loss  Instances       Size\n"
          ]
        },
        {
          "output_type": "stream",
          "name": "stderr",
          "text": [
            "     15/200      5.06G      1.793      1.999      1.236         58        640: 100%|██████████| 21/21 [00:06<00:00,  3.11it/s]\n",
            "                 Class     Images  Instances      Box(P          R      mAP50  mAP50-95): 100%|██████████| 1/1 [00:00<00:00,  2.37it/s]"
          ]
        },
        {
          "output_type": "stream",
          "name": "stdout",
          "text": [
            "                   all         31        298      0.361      0.599      0.417      0.219\n"
          ]
        },
        {
          "output_type": "stream",
          "name": "stderr",
          "text": [
            "\n"
          ]
        },
        {
          "output_type": "stream",
          "name": "stdout",
          "text": [
            "\n",
            "      Epoch    GPU_mem   box_loss   cls_loss   dfl_loss  Instances       Size\n"
          ]
        },
        {
          "output_type": "stream",
          "name": "stderr",
          "text": [
            "     16/200      5.06G      1.752      1.922      1.234         35        640: 100%|██████████| 21/21 [00:05<00:00,  3.61it/s]\n",
            "                 Class     Images  Instances      Box(P          R      mAP50  mAP50-95): 100%|██████████| 1/1 [00:00<00:00,  2.47it/s]"
          ]
        },
        {
          "output_type": "stream",
          "name": "stdout",
          "text": [
            "                   all         31        298      0.418      0.458      0.439       0.22\n"
          ]
        },
        {
          "output_type": "stream",
          "name": "stderr",
          "text": [
            "\n"
          ]
        },
        {
          "output_type": "stream",
          "name": "stdout",
          "text": [
            "\n",
            "      Epoch    GPU_mem   box_loss   cls_loss   dfl_loss  Instances       Size\n"
          ]
        },
        {
          "output_type": "stream",
          "name": "stderr",
          "text": [
            "     17/200      5.06G      1.679      1.892       1.22          9        640: 100%|██████████| 21/21 [00:06<00:00,  3.02it/s]\n",
            "                 Class     Images  Instances      Box(P          R      mAP50  mAP50-95): 100%|██████████| 1/1 [00:00<00:00,  2.78it/s]"
          ]
        },
        {
          "output_type": "stream",
          "name": "stdout",
          "text": [
            "                   all         31        298       0.37      0.528      0.429      0.198\n"
          ]
        },
        {
          "output_type": "stream",
          "name": "stderr",
          "text": [
            "\n"
          ]
        },
        {
          "output_type": "stream",
          "name": "stdout",
          "text": [
            "\n",
            "      Epoch    GPU_mem   box_loss   cls_loss   dfl_loss  Instances       Size\n"
          ]
        },
        {
          "output_type": "stream",
          "name": "stderr",
          "text": [
            "     18/200      5.06G      1.598      2.254      1.137          0        640: 100%|██████████| 21/21 [00:05<00:00,  3.93it/s]\n",
            "                 Class     Images  Instances      Box(P          R      mAP50  mAP50-95): 100%|██████████| 1/1 [00:00<00:00,  2.42it/s]"
          ]
        },
        {
          "output_type": "stream",
          "name": "stdout",
          "text": [
            "                   all         31        298      0.381      0.614      0.493      0.252\n"
          ]
        },
        {
          "output_type": "stream",
          "name": "stderr",
          "text": [
            "\n"
          ]
        },
        {
          "output_type": "stream",
          "name": "stdout",
          "text": [
            "\n",
            "      Epoch    GPU_mem   box_loss   cls_loss   dfl_loss  Instances       Size\n"
          ]
        },
        {
          "output_type": "stream",
          "name": "stderr",
          "text": [
            "     19/200      5.06G       1.69       1.82      1.203          4        640: 100%|██████████| 21/21 [00:06<00:00,  3.07it/s]\n",
            "                 Class     Images  Instances      Box(P          R      mAP50  mAP50-95): 100%|██████████| 1/1 [00:00<00:00,  2.46it/s]"
          ]
        },
        {
          "output_type": "stream",
          "name": "stdout",
          "text": [
            "                   all         31        298      0.398      0.588      0.484      0.254\n"
          ]
        },
        {
          "output_type": "stream",
          "name": "stderr",
          "text": [
            "\n"
          ]
        },
        {
          "output_type": "stream",
          "name": "stdout",
          "text": [
            "\n",
            "      Epoch    GPU_mem   box_loss   cls_loss   dfl_loss  Instances       Size\n"
          ]
        },
        {
          "output_type": "stream",
          "name": "stderr",
          "text": [
            "     20/200      5.06G       1.67      1.797      1.226         48        640: 100%|██████████| 21/21 [00:05<00:00,  3.87it/s]\n",
            "                 Class     Images  Instances      Box(P          R      mAP50  mAP50-95): 100%|██████████| 1/1 [00:00<00:00,  3.43it/s]"
          ]
        },
        {
          "output_type": "stream",
          "name": "stdout",
          "text": [
            "                   all         31        298      0.379      0.641      0.508       0.27\n"
          ]
        },
        {
          "output_type": "stream",
          "name": "stderr",
          "text": [
            "\n"
          ]
        },
        {
          "output_type": "stream",
          "name": "stdout",
          "text": [
            "\n",
            "      Epoch    GPU_mem   box_loss   cls_loss   dfl_loss  Instances       Size\n"
          ]
        },
        {
          "output_type": "stream",
          "name": "stderr",
          "text": [
            "     21/200      5.06G      1.639      1.808      1.213          4        640: 100%|██████████| 21/21 [00:06<00:00,  3.12it/s]\n",
            "                 Class     Images  Instances      Box(P          R      mAP50  mAP50-95): 100%|██████████| 1/1 [00:00<00:00,  1.88it/s]"
          ]
        },
        {
          "output_type": "stream",
          "name": "stdout",
          "text": [
            "                   all         31        298      0.483      0.588      0.554      0.291\n"
          ]
        },
        {
          "output_type": "stream",
          "name": "stderr",
          "text": [
            "\n"
          ]
        },
        {
          "output_type": "stream",
          "name": "stdout",
          "text": [
            "\n",
            "      Epoch    GPU_mem   box_loss   cls_loss   dfl_loss  Instances       Size\n"
          ]
        },
        {
          "output_type": "stream",
          "name": "stderr",
          "text": [
            "     22/200      5.06G      1.685      1.825      1.207         22        640: 100%|██████████| 21/21 [00:05<00:00,  3.90it/s]\n",
            "                 Class     Images  Instances      Box(P          R      mAP50  mAP50-95): 100%|██████████| 1/1 [00:00<00:00,  2.96it/s]"
          ]
        },
        {
          "output_type": "stream",
          "name": "stdout",
          "text": [
            "                   all         31        298      0.473      0.599      0.537      0.277\n"
          ]
        },
        {
          "output_type": "stream",
          "name": "stderr",
          "text": [
            "\n"
          ]
        },
        {
          "output_type": "stream",
          "name": "stdout",
          "text": [
            "\n",
            "      Epoch    GPU_mem   box_loss   cls_loss   dfl_loss  Instances       Size\n"
          ]
        },
        {
          "output_type": "stream",
          "name": "stderr",
          "text": [
            "     23/200      5.06G      1.596        1.7      1.184          5        640: 100%|██████████| 21/21 [00:06<00:00,  3.11it/s]\n",
            "                 Class     Images  Instances      Box(P          R      mAP50  mAP50-95): 100%|██████████| 1/1 [00:00<00:00,  2.79it/s]"
          ]
        },
        {
          "output_type": "stream",
          "name": "stdout",
          "text": [
            "                   all         31        298      0.407      0.607      0.485      0.243\n"
          ]
        },
        {
          "output_type": "stream",
          "name": "stderr",
          "text": [
            "\n"
          ]
        },
        {
          "output_type": "stream",
          "name": "stdout",
          "text": [
            "\n",
            "      Epoch    GPU_mem   box_loss   cls_loss   dfl_loss  Instances       Size\n"
          ]
        },
        {
          "output_type": "stream",
          "name": "stderr",
          "text": [
            "     24/200      5.06G      1.569       1.69      1.187          2        640: 100%|██████████| 21/21 [00:05<00:00,  3.92it/s]\n",
            "                 Class     Images  Instances      Box(P          R      mAP50  mAP50-95): 100%|██████████| 1/1 [00:00<00:00,  2.90it/s]"
          ]
        },
        {
          "output_type": "stream",
          "name": "stdout",
          "text": [
            "                   all         31        298      0.493      0.578      0.566      0.282\n"
          ]
        },
        {
          "output_type": "stream",
          "name": "stderr",
          "text": [
            "\n"
          ]
        },
        {
          "output_type": "stream",
          "name": "stdout",
          "text": [
            "\n",
            "      Epoch    GPU_mem   box_loss   cls_loss   dfl_loss  Instances       Size\n"
          ]
        },
        {
          "output_type": "stream",
          "name": "stderr",
          "text": [
            "     25/200      5.06G      1.647      1.676      1.196         33        640: 100%|██████████| 21/21 [00:06<00:00,  3.00it/s]\n",
            "                 Class     Images  Instances      Box(P          R      mAP50  mAP50-95): 100%|██████████| 1/1 [00:00<00:00,  3.19it/s]"
          ]
        },
        {
          "output_type": "stream",
          "name": "stdout",
          "text": [
            "                   all         31        298      0.488      0.676      0.579      0.299\n"
          ]
        },
        {
          "output_type": "stream",
          "name": "stderr",
          "text": [
            "\n"
          ]
        },
        {
          "output_type": "stream",
          "name": "stdout",
          "text": [
            "\n",
            "      Epoch    GPU_mem   box_loss   cls_loss   dfl_loss  Instances       Size\n"
          ]
        },
        {
          "output_type": "stream",
          "name": "stderr",
          "text": [
            "     26/200      5.06G      1.628      1.658       1.19         48        640: 100%|██████████| 21/21 [00:05<00:00,  3.61it/s]\n",
            "                 Class     Images  Instances      Box(P          R      mAP50  mAP50-95): 100%|██████████| 1/1 [00:00<00:00,  2.83it/s]"
          ]
        },
        {
          "output_type": "stream",
          "name": "stdout",
          "text": [
            "                   all         31        298      0.458      0.613      0.567      0.306\n"
          ]
        },
        {
          "output_type": "stream",
          "name": "stderr",
          "text": [
            "\n"
          ]
        },
        {
          "output_type": "stream",
          "name": "stdout",
          "text": [
            "\n",
            "      Epoch    GPU_mem   box_loss   cls_loss   dfl_loss  Instances       Size\n"
          ]
        },
        {
          "output_type": "stream",
          "name": "stderr",
          "text": [
            "     27/200      5.06G      1.604      1.567      1.188         26        640: 100%|██████████| 21/21 [00:06<00:00,  3.14it/s]\n",
            "                 Class     Images  Instances      Box(P          R      mAP50  mAP50-95): 100%|██████████| 1/1 [00:00<00:00,  1.66it/s]"
          ]
        },
        {
          "output_type": "stream",
          "name": "stdout",
          "text": [
            "                   all         31        298      0.515      0.723      0.609      0.314\n"
          ]
        },
        {
          "output_type": "stream",
          "name": "stderr",
          "text": [
            "\n"
          ]
        },
        {
          "output_type": "stream",
          "name": "stdout",
          "text": [
            "\n",
            "      Epoch    GPU_mem   box_loss   cls_loss   dfl_loss  Instances       Size\n"
          ]
        },
        {
          "output_type": "stream",
          "name": "stderr",
          "text": [
            "     28/200      5.06G      1.568      1.578      1.166          6        640: 100%|██████████| 21/21 [00:05<00:00,  3.96it/s]\n",
            "                 Class     Images  Instances      Box(P          R      mAP50  mAP50-95): 100%|██████████| 1/1 [00:00<00:00,  3.51it/s]"
          ]
        },
        {
          "output_type": "stream",
          "name": "stdout",
          "text": [
            "                   all         31        298      0.507       0.66      0.597      0.312\n"
          ]
        },
        {
          "output_type": "stream",
          "name": "stderr",
          "text": [
            "\n"
          ]
        },
        {
          "output_type": "stream",
          "name": "stdout",
          "text": [
            "\n",
            "      Epoch    GPU_mem   box_loss   cls_loss   dfl_loss  Instances       Size\n"
          ]
        },
        {
          "output_type": "stream",
          "name": "stderr",
          "text": [
            "     29/200      5.06G        1.6      1.565      1.182         35        640: 100%|██████████| 21/21 [00:05<00:00,  3.55it/s]\n",
            "                 Class     Images  Instances      Box(P          R      mAP50  mAP50-95): 100%|██████████| 1/1 [00:00<00:00,  1.24it/s]"
          ]
        },
        {
          "output_type": "stream",
          "name": "stdout",
          "text": [
            "                   all         31        298      0.473      0.689      0.548      0.271\n"
          ]
        },
        {
          "output_type": "stream",
          "name": "stderr",
          "text": [
            "\n"
          ]
        },
        {
          "output_type": "stream",
          "name": "stdout",
          "text": [
            "\n",
            "      Epoch    GPU_mem   box_loss   cls_loss   dfl_loss  Instances       Size\n"
          ]
        },
        {
          "output_type": "stream",
          "name": "stderr",
          "text": [
            "     30/200      5.06G      1.481      2.013      1.107          0        640: 100%|██████████| 21/21 [00:06<00:00,  3.39it/s]\n",
            "                 Class     Images  Instances      Box(P          R      mAP50  mAP50-95): 100%|██████████| 1/1 [00:00<00:00,  1.47it/s]"
          ]
        },
        {
          "output_type": "stream",
          "name": "stdout",
          "text": [
            "                   all         31        298       0.53      0.657      0.626       0.31\n"
          ]
        },
        {
          "output_type": "stream",
          "name": "stderr",
          "text": [
            "\n"
          ]
        },
        {
          "output_type": "stream",
          "name": "stdout",
          "text": [
            "\n",
            "      Epoch    GPU_mem   box_loss   cls_loss   dfl_loss  Instances       Size\n"
          ]
        },
        {
          "output_type": "stream",
          "name": "stderr",
          "text": [
            "     31/200      5.06G      1.483      1.608      1.157          1        640: 100%|██████████| 21/21 [00:06<00:00,  3.07it/s]\n",
            "                 Class     Images  Instances      Box(P          R      mAP50  mAP50-95): 100%|██████████| 1/1 [00:00<00:00,  2.43it/s]"
          ]
        },
        {
          "output_type": "stream",
          "name": "stdout",
          "text": [
            "                   all         31        298      0.481      0.726      0.624      0.325\n"
          ]
        },
        {
          "output_type": "stream",
          "name": "stderr",
          "text": [
            "\n"
          ]
        },
        {
          "output_type": "stream",
          "name": "stdout",
          "text": [
            "\n",
            "      Epoch    GPU_mem   box_loss   cls_loss   dfl_loss  Instances       Size\n"
          ]
        },
        {
          "output_type": "stream",
          "name": "stderr",
          "text": [
            "     32/200      5.06G      1.668      1.606      1.274          2        640: 100%|██████████| 21/21 [00:05<00:00,  3.86it/s]\n",
            "                 Class     Images  Instances      Box(P          R      mAP50  mAP50-95): 100%|██████████| 1/1 [00:00<00:00,  3.26it/s]"
          ]
        },
        {
          "output_type": "stream",
          "name": "stdout",
          "text": [
            "                   all         31        298      0.511      0.684      0.649      0.356\n"
          ]
        },
        {
          "output_type": "stream",
          "name": "stderr",
          "text": [
            "\n"
          ]
        },
        {
          "output_type": "stream",
          "name": "stdout",
          "text": [
            "\n",
            "      Epoch    GPU_mem   box_loss   cls_loss   dfl_loss  Instances       Size\n"
          ]
        },
        {
          "output_type": "stream",
          "name": "stderr",
          "text": [
            "     33/200      5.06G      1.544      1.468      1.158         15        640: 100%|██████████| 21/21 [00:06<00:00,  3.22it/s]\n",
            "                 Class     Images  Instances      Box(P          R      mAP50  mAP50-95): 100%|██████████| 1/1 [00:00<00:00,  1.57it/s]"
          ]
        },
        {
          "output_type": "stream",
          "name": "stdout",
          "text": [
            "                   all         31        298      0.601      0.731      0.676      0.359\n"
          ]
        },
        {
          "output_type": "stream",
          "name": "stderr",
          "text": [
            "\n"
          ]
        },
        {
          "output_type": "stream",
          "name": "stdout",
          "text": [
            "\n",
            "      Epoch    GPU_mem   box_loss   cls_loss   dfl_loss  Instances       Size\n"
          ]
        },
        {
          "output_type": "stream",
          "name": "stderr",
          "text": [
            "     34/200      5.06G      1.535      1.719      1.213          1        640: 100%|██████████| 21/21 [00:05<00:00,  3.88it/s]\n",
            "                 Class     Images  Instances      Box(P          R      mAP50  mAP50-95): 100%|██████████| 1/1 [00:00<00:00,  2.74it/s]"
          ]
        },
        {
          "output_type": "stream",
          "name": "stdout",
          "text": [
            "                   all         31        298      0.581      0.684      0.667      0.358\n"
          ]
        },
        {
          "output_type": "stream",
          "name": "stderr",
          "text": [
            "\n"
          ]
        },
        {
          "output_type": "stream",
          "name": "stdout",
          "text": [
            "\n",
            "      Epoch    GPU_mem   box_loss   cls_loss   dfl_loss  Instances       Size\n"
          ]
        },
        {
          "output_type": "stream",
          "name": "stderr",
          "text": [
            "     35/200      5.06G      1.515      1.491      1.148          2        640: 100%|██████████| 21/21 [00:06<00:00,  3.13it/s]\n",
            "                 Class     Images  Instances      Box(P          R      mAP50  mAP50-95): 100%|██████████| 1/1 [00:00<00:00,  1.84it/s]"
          ]
        },
        {
          "output_type": "stream",
          "name": "stdout",
          "text": [
            "                   all         31        298      0.569      0.739      0.679      0.362\n"
          ]
        },
        {
          "output_type": "stream",
          "name": "stderr",
          "text": [
            "\n"
          ]
        },
        {
          "output_type": "stream",
          "name": "stdout",
          "text": [
            "\n",
            "      Epoch    GPU_mem   box_loss   cls_loss   dfl_loss  Instances       Size\n"
          ]
        },
        {
          "output_type": "stream",
          "name": "stderr",
          "text": [
            "     36/200      5.06G      1.531      1.467      1.157          4        640: 100%|██████████| 21/21 [00:05<00:00,  3.78it/s]\n",
            "                 Class     Images  Instances      Box(P          R      mAP50  mAP50-95): 100%|██████████| 1/1 [00:00<00:00,  3.12it/s]"
          ]
        },
        {
          "output_type": "stream",
          "name": "stdout",
          "text": [
            "                   all         31        298      0.564      0.718      0.656      0.349\n"
          ]
        },
        {
          "output_type": "stream",
          "name": "stderr",
          "text": [
            "\n"
          ]
        },
        {
          "output_type": "stream",
          "name": "stdout",
          "text": [
            "\n",
            "      Epoch    GPU_mem   box_loss   cls_loss   dfl_loss  Instances       Size\n"
          ]
        },
        {
          "output_type": "stream",
          "name": "stderr",
          "text": [
            "     37/200      5.06G      1.496       1.45      1.151         18        640: 100%|██████████| 21/21 [00:06<00:00,  3.43it/s]\n",
            "                 Class     Images  Instances      Box(P          R      mAP50  mAP50-95): 100%|██████████| 1/1 [00:00<00:00,  1.50it/s]"
          ]
        },
        {
          "output_type": "stream",
          "name": "stdout",
          "text": [
            "                   all         31        298      0.567      0.632      0.653       0.35\n"
          ]
        },
        {
          "output_type": "stream",
          "name": "stderr",
          "text": [
            "\n"
          ]
        },
        {
          "output_type": "stream",
          "name": "stdout",
          "text": [
            "\n",
            "      Epoch    GPU_mem   box_loss   cls_loss   dfl_loss  Instances       Size\n"
          ]
        },
        {
          "output_type": "stream",
          "name": "stderr",
          "text": [
            "     38/200      5.06G      1.532      1.472      1.151         83        640: 100%|██████████| 21/21 [00:05<00:00,  3.97it/s]\n",
            "                 Class     Images  Instances      Box(P          R      mAP50  mAP50-95): 100%|██████████| 1/1 [00:00<00:00,  2.45it/s]"
          ]
        },
        {
          "output_type": "stream",
          "name": "stdout",
          "text": [
            "                   all         31        298       0.54      0.746      0.684      0.372\n"
          ]
        },
        {
          "output_type": "stream",
          "name": "stderr",
          "text": [
            "\n"
          ]
        },
        {
          "output_type": "stream",
          "name": "stdout",
          "text": [
            "\n",
            "      Epoch    GPU_mem   box_loss   cls_loss   dfl_loss  Instances       Size\n"
          ]
        },
        {
          "output_type": "stream",
          "name": "stderr",
          "text": [
            "     39/200      5.06G      1.524      1.386      1.154          7        640: 100%|██████████| 21/21 [00:05<00:00,  3.72it/s]\n",
            "                 Class     Images  Instances      Box(P          R      mAP50  mAP50-95): 100%|██████████| 1/1 [00:00<00:00,  1.55it/s]"
          ]
        },
        {
          "output_type": "stream",
          "name": "stdout",
          "text": [
            "                   all         31        298      0.598      0.738       0.71      0.389\n"
          ]
        },
        {
          "output_type": "stream",
          "name": "stderr",
          "text": [
            "\n"
          ]
        },
        {
          "output_type": "stream",
          "name": "stdout",
          "text": [
            "\n",
            "      Epoch    GPU_mem   box_loss   cls_loss   dfl_loss  Instances       Size\n"
          ]
        },
        {
          "output_type": "stream",
          "name": "stderr",
          "text": [
            "     40/200      5.06G      1.594      1.631      1.276          1        640: 100%|██████████| 21/21 [00:06<00:00,  3.47it/s]\n",
            "                 Class     Images  Instances      Box(P          R      mAP50  mAP50-95): 100%|██████████| 1/1 [00:00<00:00,  3.68it/s]"
          ]
        },
        {
          "output_type": "stream",
          "name": "stdout",
          "text": [
            "                   all         31        298      0.609      0.714      0.704      0.393\n"
          ]
        },
        {
          "output_type": "stream",
          "name": "stderr",
          "text": [
            "\n"
          ]
        },
        {
          "output_type": "stream",
          "name": "stdout",
          "text": [
            "\n",
            "      Epoch    GPU_mem   box_loss   cls_loss   dfl_loss  Instances       Size\n"
          ]
        },
        {
          "output_type": "stream",
          "name": "stderr",
          "text": [
            "     41/200      5.06G      1.504      1.358      1.147         33        640: 100%|██████████| 21/21 [00:05<00:00,  3.89it/s]\n",
            "                 Class     Images  Instances      Box(P          R      mAP50  mAP50-95): 100%|██████████| 1/1 [00:00<00:00,  1.86it/s]"
          ]
        },
        {
          "output_type": "stream",
          "name": "stdout",
          "text": [
            "                   all         31        298      0.576      0.705      0.713      0.356\n"
          ]
        },
        {
          "output_type": "stream",
          "name": "stderr",
          "text": [
            "\n"
          ]
        },
        {
          "output_type": "stream",
          "name": "stdout",
          "text": [
            "\n",
            "      Epoch    GPU_mem   box_loss   cls_loss   dfl_loss  Instances       Size\n"
          ]
        },
        {
          "output_type": "stream",
          "name": "stderr",
          "text": [
            "     42/200      5.06G      1.499      1.355      1.149         32        640: 100%|██████████| 21/21 [00:06<00:00,  3.33it/s]\n",
            "                 Class     Images  Instances      Box(P          R      mAP50  mAP50-95): 100%|██████████| 1/1 [00:00<00:00,  3.24it/s]"
          ]
        },
        {
          "output_type": "stream",
          "name": "stdout",
          "text": [
            "                   all         31        298      0.596      0.722      0.695      0.369\n"
          ]
        },
        {
          "output_type": "stream",
          "name": "stderr",
          "text": [
            "\n"
          ]
        },
        {
          "output_type": "stream",
          "name": "stdout",
          "text": [
            "\n",
            "      Epoch    GPU_mem   box_loss   cls_loss   dfl_loss  Instances       Size\n"
          ]
        },
        {
          "output_type": "stream",
          "name": "stderr",
          "text": [
            "     43/200      5.06G      1.537      1.357      1.157         16        640: 100%|██████████| 21/21 [00:05<00:00,  3.88it/s]\n",
            "                 Class     Images  Instances      Box(P          R      mAP50  mAP50-95): 100%|██████████| 1/1 [00:00<00:00,  1.80it/s]"
          ]
        },
        {
          "output_type": "stream",
          "name": "stdout",
          "text": [
            "                   all         31        298      0.635      0.733      0.731      0.404\n"
          ]
        },
        {
          "output_type": "stream",
          "name": "stderr",
          "text": [
            "\n"
          ]
        },
        {
          "output_type": "stream",
          "name": "stdout",
          "text": [
            "\n",
            "      Epoch    GPU_mem   box_loss   cls_loss   dfl_loss  Instances       Size\n"
          ]
        },
        {
          "output_type": "stream",
          "name": "stderr",
          "text": [
            "     44/200      5.06G      1.515      1.382      1.147          4        640: 100%|██████████| 21/21 [00:06<00:00,  3.19it/s]\n",
            "                 Class     Images  Instances      Box(P          R      mAP50  mAP50-95): 100%|██████████| 1/1 [00:00<00:00,  3.17it/s]"
          ]
        },
        {
          "output_type": "stream",
          "name": "stdout",
          "text": [
            "                   all         31        298      0.677       0.63      0.727      0.404\n"
          ]
        },
        {
          "output_type": "stream",
          "name": "stderr",
          "text": [
            "\n"
          ]
        },
        {
          "output_type": "stream",
          "name": "stdout",
          "text": [
            "\n",
            "      Epoch    GPU_mem   box_loss   cls_loss   dfl_loss  Instances       Size\n"
          ]
        },
        {
          "output_type": "stream",
          "name": "stderr",
          "text": [
            "     45/200      5.06G      1.467      1.302      1.119         27        640: 100%|██████████| 21/21 [00:05<00:00,  3.94it/s]\n",
            "                 Class     Images  Instances      Box(P          R      mAP50  mAP50-95): 100%|██████████| 1/1 [00:00<00:00,  2.62it/s]"
          ]
        },
        {
          "output_type": "stream",
          "name": "stdout",
          "text": [
            "                   all         31        298      0.619      0.791      0.736      0.401\n"
          ]
        },
        {
          "output_type": "stream",
          "name": "stderr",
          "text": [
            "\n"
          ]
        },
        {
          "output_type": "stream",
          "name": "stdout",
          "text": [
            "\n",
            "      Epoch    GPU_mem   box_loss   cls_loss   dfl_loss  Instances       Size\n"
          ]
        },
        {
          "output_type": "stream",
          "name": "stderr",
          "text": [
            "     46/200      5.06G       1.43      1.319      1.139          4        640: 100%|██████████| 21/21 [00:06<00:00,  3.09it/s]\n",
            "                 Class     Images  Instances      Box(P          R      mAP50  mAP50-95): 100%|██████████| 1/1 [00:00<00:00,  2.24it/s]"
          ]
        },
        {
          "output_type": "stream",
          "name": "stdout",
          "text": [
            "                   all         31        298      0.606      0.761      0.716      0.396\n"
          ]
        },
        {
          "output_type": "stream",
          "name": "stderr",
          "text": [
            "\n"
          ]
        },
        {
          "output_type": "stream",
          "name": "stdout",
          "text": [
            "\n",
            "      Epoch    GPU_mem   box_loss   cls_loss   dfl_loss  Instances       Size\n"
          ]
        },
        {
          "output_type": "stream",
          "name": "stderr",
          "text": [
            "     47/200      5.06G      1.489      1.352      1.124          1        640: 100%|██████████| 21/21 [00:05<00:00,  3.86it/s]\n",
            "                 Class     Images  Instances      Box(P          R      mAP50  mAP50-95): 100%|██████████| 1/1 [00:00<00:00,  2.72it/s]"
          ]
        },
        {
          "output_type": "stream",
          "name": "stdout",
          "text": [
            "                   all         31        298       0.56      0.721      0.692      0.362\n"
          ]
        },
        {
          "output_type": "stream",
          "name": "stderr",
          "text": [
            "\n"
          ]
        },
        {
          "output_type": "stream",
          "name": "stdout",
          "text": [
            "\n",
            "      Epoch    GPU_mem   box_loss   cls_loss   dfl_loss  Instances       Size\n"
          ]
        },
        {
          "output_type": "stream",
          "name": "stderr",
          "text": [
            "     48/200      5.06G      1.439      1.373      1.168          1        640: 100%|██████████| 21/21 [00:07<00:00,  2.99it/s]\n",
            "                 Class     Images  Instances      Box(P          R      mAP50  mAP50-95): 100%|██████████| 1/1 [00:00<00:00,  2.35it/s]"
          ]
        },
        {
          "output_type": "stream",
          "name": "stdout",
          "text": [
            "                   all         31        298      0.654      0.735      0.753      0.406\n"
          ]
        },
        {
          "output_type": "stream",
          "name": "stderr",
          "text": [
            "\n"
          ]
        },
        {
          "output_type": "stream",
          "name": "stdout",
          "text": [
            "\n",
            "      Epoch    GPU_mem   box_loss   cls_loss   dfl_loss  Instances       Size\n"
          ]
        },
        {
          "output_type": "stream",
          "name": "stderr",
          "text": [
            "     49/200      5.06G      1.477      1.303      1.144          2        640: 100%|██████████| 21/21 [00:05<00:00,  3.95it/s]\n",
            "                 Class     Images  Instances      Box(P          R      mAP50  mAP50-95): 100%|██████████| 1/1 [00:00<00:00,  2.57it/s]"
          ]
        },
        {
          "output_type": "stream",
          "name": "stdout",
          "text": [
            "                   all         31        298       0.62      0.723      0.741      0.417\n"
          ]
        },
        {
          "output_type": "stream",
          "name": "stderr",
          "text": [
            "\n"
          ]
        },
        {
          "output_type": "stream",
          "name": "stdout",
          "text": [
            "\n",
            "      Epoch    GPU_mem   box_loss   cls_loss   dfl_loss  Instances       Size\n"
          ]
        },
        {
          "output_type": "stream",
          "name": "stderr",
          "text": [
            "     50/200      5.06G      1.457      1.235      1.128         26        640: 100%|██████████| 21/21 [00:07<00:00,  2.82it/s]\n",
            "                 Class     Images  Instances      Box(P          R      mAP50  mAP50-95): 100%|██████████| 1/1 [00:00<00:00,  2.83it/s]"
          ]
        },
        {
          "output_type": "stream",
          "name": "stdout",
          "text": [
            "                   all         31        298      0.641      0.756      0.759      0.426\n"
          ]
        },
        {
          "output_type": "stream",
          "name": "stderr",
          "text": [
            "\n"
          ]
        },
        {
          "output_type": "stream",
          "name": "stdout",
          "text": [
            "\n",
            "      Epoch    GPU_mem   box_loss   cls_loss   dfl_loss  Instances       Size\n"
          ]
        },
        {
          "output_type": "stream",
          "name": "stderr",
          "text": [
            "     51/200      5.06G      1.472      1.378      1.147          4        640: 100%|██████████| 21/21 [00:05<00:00,  3.54it/s]\n",
            "                 Class     Images  Instances      Box(P          R      mAP50  mAP50-95): 100%|██████████| 1/1 [00:00<00:00,  3.33it/s]"
          ]
        },
        {
          "output_type": "stream",
          "name": "stdout",
          "text": [
            "                   all         31        298      0.611      0.793      0.734      0.369\n"
          ]
        },
        {
          "output_type": "stream",
          "name": "stderr",
          "text": [
            "\n"
          ]
        },
        {
          "output_type": "stream",
          "name": "stdout",
          "text": [
            "\n",
            "      Epoch    GPU_mem   box_loss   cls_loss   dfl_loss  Instances       Size\n"
          ]
        },
        {
          "output_type": "stream",
          "name": "stderr",
          "text": [
            "     52/200      5.06G      1.452      1.329       1.12          1        640: 100%|██████████| 21/21 [00:07<00:00,  2.99it/s]\n",
            "                 Class     Images  Instances      Box(P          R      mAP50  mAP50-95): 100%|██████████| 1/1 [00:00<00:00,  2.61it/s]"
          ]
        },
        {
          "output_type": "stream",
          "name": "stdout",
          "text": [
            "                   all         31        298      0.599      0.682      0.707      0.375\n"
          ]
        },
        {
          "output_type": "stream",
          "name": "stderr",
          "text": [
            "\n"
          ]
        },
        {
          "output_type": "stream",
          "name": "stdout",
          "text": [
            "\n",
            "      Epoch    GPU_mem   box_loss   cls_loss   dfl_loss  Instances       Size\n"
          ]
        },
        {
          "output_type": "stream",
          "name": "stderr",
          "text": [
            "     53/200      5.06G      1.469      1.381      1.189          2        640: 100%|██████████| 21/21 [00:05<00:00,  3.84it/s]\n",
            "                 Class     Images  Instances      Box(P          R      mAP50  mAP50-95): 100%|██████████| 1/1 [00:00<00:00,  2.79it/s]"
          ]
        },
        {
          "output_type": "stream",
          "name": "stdout",
          "text": [
            "                   all         31        298       0.69      0.665       0.72      0.412\n"
          ]
        },
        {
          "output_type": "stream",
          "name": "stderr",
          "text": [
            "\n"
          ]
        },
        {
          "output_type": "stream",
          "name": "stdout",
          "text": [
            "\n",
            "      Epoch    GPU_mem   box_loss   cls_loss   dfl_loss  Instances       Size\n"
          ]
        },
        {
          "output_type": "stream",
          "name": "stderr",
          "text": [
            "     54/200      5.06G      1.463      1.206      1.106         16        640: 100%|██████████| 21/21 [00:07<00:00,  2.99it/s]\n",
            "                 Class     Images  Instances      Box(P          R      mAP50  mAP50-95): 100%|██████████| 1/1 [00:00<00:00,  3.20it/s]"
          ]
        },
        {
          "output_type": "stream",
          "name": "stdout",
          "text": [
            "                   all         31        298      0.643      0.712      0.738      0.389\n"
          ]
        },
        {
          "output_type": "stream",
          "name": "stderr",
          "text": [
            "\n"
          ]
        },
        {
          "output_type": "stream",
          "name": "stdout",
          "text": [
            "\n",
            "      Epoch    GPU_mem   box_loss   cls_loss   dfl_loss  Instances       Size\n"
          ]
        },
        {
          "output_type": "stream",
          "name": "stderr",
          "text": [
            "     55/200      5.06G      1.426      1.184      1.125         18        640: 100%|██████████| 21/21 [00:05<00:00,  3.93it/s]\n",
            "                 Class     Images  Instances      Box(P          R      mAP50  mAP50-95): 100%|██████████| 1/1 [00:00<00:00,  2.47it/s]"
          ]
        },
        {
          "output_type": "stream",
          "name": "stdout",
          "text": [
            "                   all         31        298      0.652       0.76      0.766      0.428\n"
          ]
        },
        {
          "output_type": "stream",
          "name": "stderr",
          "text": [
            "\n"
          ]
        },
        {
          "output_type": "stream",
          "name": "stdout",
          "text": [
            "\n",
            "      Epoch    GPU_mem   box_loss   cls_loss   dfl_loss  Instances       Size\n"
          ]
        },
        {
          "output_type": "stream",
          "name": "stderr",
          "text": [
            "     56/200      5.06G      1.433      1.227      1.111         31        640: 100%|██████████| 21/21 [00:08<00:00,  2.56it/s]\n",
            "                 Class     Images  Instances      Box(P          R      mAP50  mAP50-95): 100%|██████████| 1/1 [00:00<00:00,  3.73it/s]"
          ]
        },
        {
          "output_type": "stream",
          "name": "stdout",
          "text": [
            "                   all         31        298      0.721       0.74      0.769      0.425\n"
          ]
        },
        {
          "output_type": "stream",
          "name": "stderr",
          "text": [
            "\n"
          ]
        },
        {
          "output_type": "stream",
          "name": "stdout",
          "text": [
            "\n",
            "      Epoch    GPU_mem   box_loss   cls_loss   dfl_loss  Instances       Size\n"
          ]
        },
        {
          "output_type": "stream",
          "name": "stderr",
          "text": [
            "     57/200      5.06G      1.503      1.228      1.152         42        640: 100%|██████████| 21/21 [00:05<00:00,  3.66it/s]\n",
            "                 Class     Images  Instances      Box(P          R      mAP50  mAP50-95): 100%|██████████| 1/1 [00:00<00:00,  2.98it/s]"
          ]
        },
        {
          "output_type": "stream",
          "name": "stdout",
          "text": [
            "                   all         31        298      0.655       0.84       0.78      0.445\n"
          ]
        },
        {
          "output_type": "stream",
          "name": "stderr",
          "text": [
            "\n"
          ]
        },
        {
          "output_type": "stream",
          "name": "stdout",
          "text": [
            "\n",
            "      Epoch    GPU_mem   box_loss   cls_loss   dfl_loss  Instances       Size\n"
          ]
        },
        {
          "output_type": "stream",
          "name": "stderr",
          "text": [
            "     58/200      5.06G      1.412      1.238      1.116          6        640: 100%|██████████| 21/21 [00:06<00:00,  3.02it/s]\n",
            "                 Class     Images  Instances      Box(P          R      mAP50  mAP50-95): 100%|██████████| 1/1 [00:00<00:00,  1.97it/s]"
          ]
        },
        {
          "output_type": "stream",
          "name": "stdout",
          "text": [
            "                   all         31        298      0.635      0.753      0.766      0.393\n"
          ]
        },
        {
          "output_type": "stream",
          "name": "stderr",
          "text": [
            "\n"
          ]
        },
        {
          "output_type": "stream",
          "name": "stdout",
          "text": [
            "\n",
            "      Epoch    GPU_mem   box_loss   cls_loss   dfl_loss  Instances       Size\n"
          ]
        },
        {
          "output_type": "stream",
          "name": "stderr",
          "text": [
            "     59/200      5.06G      1.459       1.21      1.125         36        640: 100%|██████████| 21/21 [00:05<00:00,  3.83it/s]\n",
            "                 Class     Images  Instances      Box(P          R      mAP50  mAP50-95): 100%|██████████| 1/1 [00:00<00:00,  3.85it/s]"
          ]
        },
        {
          "output_type": "stream",
          "name": "stdout",
          "text": [
            "                   all         31        298      0.697      0.742      0.761      0.429\n"
          ]
        },
        {
          "output_type": "stream",
          "name": "stderr",
          "text": [
            "\n"
          ]
        },
        {
          "output_type": "stream",
          "name": "stdout",
          "text": [
            "\n",
            "      Epoch    GPU_mem   box_loss   cls_loss   dfl_loss  Instances       Size\n"
          ]
        },
        {
          "output_type": "stream",
          "name": "stderr",
          "text": [
            "     60/200      5.06G      1.455      1.231      1.136          9        640: 100%|██████████| 21/21 [00:07<00:00,  2.98it/s]\n",
            "                 Class     Images  Instances      Box(P          R      mAP50  mAP50-95): 100%|██████████| 1/1 [00:00<00:00,  2.83it/s]"
          ]
        },
        {
          "output_type": "stream",
          "name": "stdout",
          "text": [
            "                   all         31        298      0.606      0.783      0.763      0.407\n"
          ]
        },
        {
          "output_type": "stream",
          "name": "stderr",
          "text": [
            "\n"
          ]
        },
        {
          "output_type": "stream",
          "name": "stdout",
          "text": [
            "\n",
            "      Epoch    GPU_mem   box_loss   cls_loss   dfl_loss  Instances       Size\n"
          ]
        },
        {
          "output_type": "stream",
          "name": "stderr",
          "text": [
            "     61/200      5.06G      1.443      1.175      1.109         33        640: 100%|██████████| 21/21 [00:05<00:00,  3.97it/s]\n",
            "                 Class     Images  Instances      Box(P          R      mAP50  mAP50-95): 100%|██████████| 1/1 [00:00<00:00,  3.28it/s]"
          ]
        },
        {
          "output_type": "stream",
          "name": "stdout",
          "text": [
            "                   all         31        298      0.627      0.757      0.757       0.39\n"
          ]
        },
        {
          "output_type": "stream",
          "name": "stderr",
          "text": [
            "\n"
          ]
        },
        {
          "output_type": "stream",
          "name": "stdout",
          "text": [
            "\n",
            "      Epoch    GPU_mem   box_loss   cls_loss   dfl_loss  Instances       Size\n"
          ]
        },
        {
          "output_type": "stream",
          "name": "stderr",
          "text": [
            "     62/200      5.06G      1.309      1.455      1.065          0        640: 100%|██████████| 21/21 [00:08<00:00,  2.61it/s]\n",
            "                 Class     Images  Instances      Box(P          R      mAP50  mAP50-95): 100%|██████████| 1/1 [00:00<00:00,  3.11it/s]"
          ]
        },
        {
          "output_type": "stream",
          "name": "stdout",
          "text": [
            "                   all         31        298      0.671      0.762      0.772      0.436\n"
          ]
        },
        {
          "output_type": "stream",
          "name": "stderr",
          "text": [
            "\n"
          ]
        },
        {
          "output_type": "stream",
          "name": "stdout",
          "text": [
            "\n",
            "      Epoch    GPU_mem   box_loss   cls_loss   dfl_loss  Instances       Size\n"
          ]
        },
        {
          "output_type": "stream",
          "name": "stderr",
          "text": [
            "     63/200      5.06G      1.435      1.167      1.117         30        640: 100%|██████████| 21/21 [00:05<00:00,  3.88it/s]\n",
            "                 Class     Images  Instances      Box(P          R      mAP50  mAP50-95): 100%|██████████| 1/1 [00:00<00:00,  2.19it/s]"
          ]
        },
        {
          "output_type": "stream",
          "name": "stdout",
          "text": [
            "                   all         31        298       0.72      0.731      0.777      0.442\n"
          ]
        },
        {
          "output_type": "stream",
          "name": "stderr",
          "text": [
            "\n"
          ]
        },
        {
          "output_type": "stream",
          "name": "stdout",
          "text": [
            "\n",
            "      Epoch    GPU_mem   box_loss   cls_loss   dfl_loss  Instances       Size\n"
          ]
        },
        {
          "output_type": "stream",
          "name": "stderr",
          "text": [
            "     64/200      5.06G      1.472       1.23      1.108         96        640: 100%|██████████| 21/21 [00:07<00:00,  2.75it/s]\n",
            "                 Class     Images  Instances      Box(P          R      mAP50  mAP50-95): 100%|██████████| 1/1 [00:00<00:00,  3.31it/s]"
          ]
        },
        {
          "output_type": "stream",
          "name": "stdout",
          "text": [
            "                   all         31        298      0.666      0.764      0.762      0.388\n"
          ]
        },
        {
          "output_type": "stream",
          "name": "stderr",
          "text": [
            "\n"
          ]
        },
        {
          "output_type": "stream",
          "name": "stdout",
          "text": [
            "\n",
            "      Epoch    GPU_mem   box_loss   cls_loss   dfl_loss  Instances       Size\n"
          ]
        },
        {
          "output_type": "stream",
          "name": "stderr",
          "text": [
            "     65/200      5.06G      1.409      1.284      1.111          2        640: 100%|██████████| 21/21 [00:05<00:00,  3.88it/s]\n",
            "                 Class     Images  Instances      Box(P          R      mAP50  mAP50-95): 100%|██████████| 1/1 [00:00<00:00,  2.81it/s]"
          ]
        },
        {
          "output_type": "stream",
          "name": "stdout",
          "text": [
            "                   all         31        298      0.686      0.795      0.788      0.445\n"
          ]
        },
        {
          "output_type": "stream",
          "name": "stderr",
          "text": [
            "\n"
          ]
        },
        {
          "output_type": "stream",
          "name": "stdout",
          "text": [
            "\n",
            "      Epoch    GPU_mem   box_loss   cls_loss   dfl_loss  Instances       Size\n"
          ]
        },
        {
          "output_type": "stream",
          "name": "stderr",
          "text": [
            "     66/200      5.06G      1.388      1.081      1.097         12        640: 100%|██████████| 21/21 [00:06<00:00,  3.03it/s]\n",
            "                 Class     Images  Instances      Box(P          R      mAP50  mAP50-95): 100%|██████████| 1/1 [00:00<00:00,  2.45it/s]"
          ]
        },
        {
          "output_type": "stream",
          "name": "stdout",
          "text": [
            "                   all         31        298      0.693      0.728      0.779      0.403\n"
          ]
        },
        {
          "output_type": "stream",
          "name": "stderr",
          "text": [
            "\n"
          ]
        },
        {
          "output_type": "stream",
          "name": "stdout",
          "text": [
            "\n",
            "      Epoch    GPU_mem   box_loss   cls_loss   dfl_loss  Instances       Size\n"
          ]
        },
        {
          "output_type": "stream",
          "name": "stderr",
          "text": [
            "     67/200      5.06G      1.375      1.117        1.1         32        640: 100%|██████████| 21/21 [00:05<00:00,  3.67it/s]\n",
            "                 Class     Images  Instances      Box(P          R      mAP50  mAP50-95): 100%|██████████| 1/1 [00:00<00:00,  2.33it/s]"
          ]
        },
        {
          "output_type": "stream",
          "name": "stdout",
          "text": [
            "                   all         31        298      0.656      0.855      0.776      0.414\n"
          ]
        },
        {
          "output_type": "stream",
          "name": "stderr",
          "text": [
            "\n"
          ]
        },
        {
          "output_type": "stream",
          "name": "stdout",
          "text": [
            "\n",
            "      Epoch    GPU_mem   box_loss   cls_loss   dfl_loss  Instances       Size\n"
          ]
        },
        {
          "output_type": "stream",
          "name": "stderr",
          "text": [
            "     68/200      5.06G      1.329      1.126       1.08          2        640: 100%|██████████| 21/21 [00:07<00:00,  2.94it/s]\n",
            "                 Class     Images  Instances      Box(P          R      mAP50  mAP50-95): 100%|██████████| 1/1 [00:00<00:00,  2.30it/s]"
          ]
        },
        {
          "output_type": "stream",
          "name": "stdout",
          "text": [
            "                   all         31        298      0.637      0.744      0.743      0.399\n"
          ]
        },
        {
          "output_type": "stream",
          "name": "stderr",
          "text": [
            "\n"
          ]
        },
        {
          "output_type": "stream",
          "name": "stdout",
          "text": [
            "\n",
            "      Epoch    GPU_mem   box_loss   cls_loss   dfl_loss  Instances       Size\n"
          ]
        },
        {
          "output_type": "stream",
          "name": "stderr",
          "text": [
            "     69/200      5.06G      1.374      1.198      1.107          1        640: 100%|██████████| 21/21 [00:06<00:00,  3.27it/s]\n",
            "                 Class     Images  Instances      Box(P          R      mAP50  mAP50-95): 100%|██████████| 1/1 [00:00<00:00,  2.14it/s]"
          ]
        },
        {
          "output_type": "stream",
          "name": "stdout",
          "text": [
            "                   all         31        298      0.642      0.724      0.737      0.403\n"
          ]
        },
        {
          "output_type": "stream",
          "name": "stderr",
          "text": [
            "\n"
          ]
        },
        {
          "output_type": "stream",
          "name": "stdout",
          "text": [
            "\n",
            "      Epoch    GPU_mem   box_loss   cls_loss   dfl_loss  Instances       Size\n"
          ]
        },
        {
          "output_type": "stream",
          "name": "stderr",
          "text": [
            "     70/200      5.06G      1.355      1.112       1.09          9        640: 100%|██████████| 21/21 [00:06<00:00,  3.17it/s]\n",
            "                 Class     Images  Instances      Box(P          R      mAP50  mAP50-95): 100%|██████████| 1/1 [00:00<00:00,  2.65it/s]"
          ]
        },
        {
          "output_type": "stream",
          "name": "stdout",
          "text": [
            "                   all         31        298      0.663      0.714       0.74        0.4\n"
          ]
        },
        {
          "output_type": "stream",
          "name": "stderr",
          "text": [
            "\n"
          ]
        },
        {
          "output_type": "stream",
          "name": "stdout",
          "text": [
            "\n",
            "      Epoch    GPU_mem   box_loss   cls_loss   dfl_loss  Instances       Size\n"
          ]
        },
        {
          "output_type": "stream",
          "name": "stderr",
          "text": [
            "     71/200      5.06G      1.322      1.047      1.093         33        640: 100%|██████████| 21/21 [00:05<00:00,  3.62it/s]\n",
            "                 Class     Images  Instances      Box(P          R      mAP50  mAP50-95): 100%|██████████| 1/1 [00:00<00:00,  2.65it/s]"
          ]
        },
        {
          "output_type": "stream",
          "name": "stdout",
          "text": [
            "                   all         31        298      0.671      0.787      0.779       0.44\n"
          ]
        },
        {
          "output_type": "stream",
          "name": "stderr",
          "text": [
            "\n"
          ]
        },
        {
          "output_type": "stream",
          "name": "stdout",
          "text": [
            "\n",
            "      Epoch    GPU_mem   box_loss   cls_loss   dfl_loss  Instances       Size\n"
          ]
        },
        {
          "output_type": "stream",
          "name": "stderr",
          "text": [
            "     72/200      5.06G      1.326      1.075      1.079          6        640: 100%|██████████| 21/21 [00:06<00:00,  3.10it/s]\n",
            "                 Class     Images  Instances      Box(P          R      mAP50  mAP50-95): 100%|██████████| 1/1 [00:00<00:00,  3.57it/s]"
          ]
        },
        {
          "output_type": "stream",
          "name": "stdout",
          "text": [
            "                   all         31        298      0.654      0.785      0.748      0.424\n"
          ]
        },
        {
          "output_type": "stream",
          "name": "stderr",
          "text": [
            "\n"
          ]
        },
        {
          "output_type": "stream",
          "name": "stdout",
          "text": [
            "\n",
            "      Epoch    GPU_mem   box_loss   cls_loss   dfl_loss  Instances       Size\n"
          ]
        },
        {
          "output_type": "stream",
          "name": "stderr",
          "text": [
            "     73/200      5.06G      1.392      1.111      1.101         39        640: 100%|██████████| 21/21 [00:05<00:00,  3.75it/s]\n",
            "                 Class     Images  Instances      Box(P          R      mAP50  mAP50-95): 100%|██████████| 1/1 [00:00<00:00,  2.76it/s]"
          ]
        },
        {
          "output_type": "stream",
          "name": "stdout",
          "text": [
            "                   all         31        298      0.686      0.761       0.78      0.418\n"
          ]
        },
        {
          "output_type": "stream",
          "name": "stderr",
          "text": [
            "\n"
          ]
        },
        {
          "output_type": "stream",
          "name": "stdout",
          "text": [
            "\n",
            "      Epoch    GPU_mem   box_loss   cls_loss   dfl_loss  Instances       Size\n"
          ]
        },
        {
          "output_type": "stream",
          "name": "stderr",
          "text": [
            "     74/200      5.06G      1.343      1.125       1.09          3        640: 100%|██████████| 21/21 [00:06<00:00,  3.04it/s]\n",
            "                 Class     Images  Instances      Box(P          R      mAP50  mAP50-95): 100%|██████████| 1/1 [00:00<00:00,  2.56it/s]"
          ]
        },
        {
          "output_type": "stream",
          "name": "stdout",
          "text": [
            "                   all         31        298      0.716      0.771      0.787      0.424\n"
          ]
        },
        {
          "output_type": "stream",
          "name": "stderr",
          "text": [
            "\n"
          ]
        },
        {
          "output_type": "stream",
          "name": "stdout",
          "text": [
            "\n",
            "      Epoch    GPU_mem   box_loss   cls_loss   dfl_loss  Instances       Size\n"
          ]
        },
        {
          "output_type": "stream",
          "name": "stderr",
          "text": [
            "     75/200      5.06G      1.369      1.118      1.127          3        640: 100%|██████████| 21/21 [00:05<00:00,  3.83it/s]\n",
            "                 Class     Images  Instances      Box(P          R      mAP50  mAP50-95): 100%|██████████| 1/1 [00:00<00:00,  2.96it/s]"
          ]
        },
        {
          "output_type": "stream",
          "name": "stdout",
          "text": [
            "                   all         31        298        0.7      0.797      0.796      0.444\n"
          ]
        },
        {
          "output_type": "stream",
          "name": "stderr",
          "text": [
            "\n"
          ]
        },
        {
          "output_type": "stream",
          "name": "stdout",
          "text": [
            "\n",
            "      Epoch    GPU_mem   box_loss   cls_loss   dfl_loss  Instances       Size\n"
          ]
        },
        {
          "output_type": "stream",
          "name": "stderr",
          "text": [
            "     76/200      5.06G       1.35      1.094      1.091         43        640: 100%|██████████| 21/21 [00:07<00:00,  2.80it/s]\n",
            "                 Class     Images  Instances      Box(P          R      mAP50  mAP50-95): 100%|██████████| 1/1 [00:00<00:00,  3.33it/s]"
          ]
        },
        {
          "output_type": "stream",
          "name": "stdout",
          "text": [
            "                   all         31        298      0.706      0.766       0.79      0.415\n"
          ]
        },
        {
          "output_type": "stream",
          "name": "stderr",
          "text": [
            "\n"
          ]
        },
        {
          "output_type": "stream",
          "name": "stdout",
          "text": [
            "\n",
            "      Epoch    GPU_mem   box_loss   cls_loss   dfl_loss  Instances       Size\n"
          ]
        },
        {
          "output_type": "stream",
          "name": "stderr",
          "text": [
            "     77/200      5.06G      1.316      1.062       1.08         16        640: 100%|██████████| 21/21 [00:05<00:00,  3.84it/s]\n",
            "                 Class     Images  Instances      Box(P          R      mAP50  mAP50-95): 100%|██████████| 1/1 [00:00<00:00,  3.16it/s]"
          ]
        },
        {
          "output_type": "stream",
          "name": "stdout",
          "text": [
            "                   all         31        298       0.69      0.807       0.78      0.443\n"
          ]
        },
        {
          "output_type": "stream",
          "name": "stderr",
          "text": [
            "\n"
          ]
        },
        {
          "output_type": "stream",
          "name": "stdout",
          "text": [
            "\n",
            "      Epoch    GPU_mem   box_loss   cls_loss   dfl_loss  Instances       Size\n"
          ]
        },
        {
          "output_type": "stream",
          "name": "stderr",
          "text": [
            "     78/200      5.06G      1.379       1.14      1.109          2        640: 100%|██████████| 21/21 [00:07<00:00,  2.93it/s]\n",
            "                 Class     Images  Instances      Box(P          R      mAP50  mAP50-95): 100%|██████████| 1/1 [00:00<00:00,  3.20it/s]"
          ]
        },
        {
          "output_type": "stream",
          "name": "stdout",
          "text": [
            "                   all         31        298      0.639      0.813      0.782       0.42\n"
          ]
        },
        {
          "output_type": "stream",
          "name": "stderr",
          "text": [
            "\n"
          ]
        },
        {
          "output_type": "stream",
          "name": "stdout",
          "text": [
            "\n",
            "      Epoch    GPU_mem   box_loss   cls_loss   dfl_loss  Instances       Size\n"
          ]
        },
        {
          "output_type": "stream",
          "name": "stderr",
          "text": [
            "     79/200      5.06G      1.287      1.047      1.081         42        640: 100%|██████████| 21/21 [00:05<00:00,  3.98it/s]\n",
            "                 Class     Images  Instances      Box(P          R      mAP50  mAP50-95): 100%|██████████| 1/1 [00:00<00:00,  2.94it/s]"
          ]
        },
        {
          "output_type": "stream",
          "name": "stdout",
          "text": [
            "                   all         31        298      0.702      0.786      0.795      0.426\n"
          ]
        },
        {
          "output_type": "stream",
          "name": "stderr",
          "text": [
            "\n"
          ]
        },
        {
          "output_type": "stream",
          "name": "stdout",
          "text": [
            "\n",
            "      Epoch    GPU_mem   box_loss   cls_loss   dfl_loss  Instances       Size\n"
          ]
        },
        {
          "output_type": "stream",
          "name": "stderr",
          "text": [
            "     80/200      5.06G      1.332      1.037      1.088         14        640: 100%|██████████| 21/21 [00:06<00:00,  3.06it/s]\n",
            "                 Class     Images  Instances      Box(P          R      mAP50  mAP50-95): 100%|██████████| 1/1 [00:00<00:00,  1.11it/s]"
          ]
        },
        {
          "output_type": "stream",
          "name": "stdout",
          "text": [
            "                   all         31        298      0.714      0.705      0.768      0.426\n"
          ]
        },
        {
          "output_type": "stream",
          "name": "stderr",
          "text": [
            "\n"
          ]
        },
        {
          "output_type": "stream",
          "name": "stdout",
          "text": [
            "\n",
            "      Epoch    GPU_mem   box_loss   cls_loss   dfl_loss  Instances       Size\n"
          ]
        },
        {
          "output_type": "stream",
          "name": "stderr",
          "text": [
            "     81/200      5.06G      1.389      1.067      1.096         11        640: 100%|██████████| 21/21 [00:06<00:00,  3.15it/s]\n",
            "                 Class     Images  Instances      Box(P          R      mAP50  mAP50-95): 100%|██████████| 1/1 [00:00<00:00,  2.86it/s]"
          ]
        },
        {
          "output_type": "stream",
          "name": "stdout",
          "text": [
            "                   all         31        298      0.645      0.845      0.792      0.441\n"
          ]
        },
        {
          "output_type": "stream",
          "name": "stderr",
          "text": [
            "\n"
          ]
        },
        {
          "output_type": "stream",
          "name": "stdout",
          "text": [
            "\n",
            "      Epoch    GPU_mem   box_loss   cls_loss   dfl_loss  Instances       Size\n"
          ]
        },
        {
          "output_type": "stream",
          "name": "stderr",
          "text": [
            "     82/200      5.06G      1.336      1.028        1.1          5        640: 100%|██████████| 21/21 [00:06<00:00,  3.15it/s]\n",
            "                 Class     Images  Instances      Box(P          R      mAP50  mAP50-95): 100%|██████████| 1/1 [00:00<00:00,  3.20it/s]"
          ]
        },
        {
          "output_type": "stream",
          "name": "stdout",
          "text": [
            "                   all         31        298      0.725      0.782      0.805      0.422\n"
          ]
        },
        {
          "output_type": "stream",
          "name": "stderr",
          "text": [
            "\n"
          ]
        },
        {
          "output_type": "stream",
          "name": "stdout",
          "text": [
            "\n",
            "      Epoch    GPU_mem   box_loss   cls_loss   dfl_loss  Instances       Size\n"
          ]
        },
        {
          "output_type": "stream",
          "name": "stderr",
          "text": [
            "     83/200      5.06G      1.344       1.04      1.081         28        640: 100%|██████████| 21/21 [00:05<00:00,  3.96it/s]\n",
            "                 Class     Images  Instances      Box(P          R      mAP50  mAP50-95): 100%|██████████| 1/1 [00:00<00:00,  2.63it/s]"
          ]
        },
        {
          "output_type": "stream",
          "name": "stdout",
          "text": [
            "                   all         31        298      0.696      0.789      0.782      0.407\n"
          ]
        },
        {
          "output_type": "stream",
          "name": "stderr",
          "text": [
            "\n"
          ]
        },
        {
          "output_type": "stream",
          "name": "stdout",
          "text": [
            "\n",
            "      Epoch    GPU_mem   box_loss   cls_loss   dfl_loss  Instances       Size\n"
          ]
        },
        {
          "output_type": "stream",
          "name": "stderr",
          "text": [
            "     84/200      5.06G       1.36      1.072      1.092          4        640: 100%|██████████| 21/21 [00:07<00:00,  2.98it/s]\n",
            "                 Class     Images  Instances      Box(P          R      mAP50  mAP50-95): 100%|██████████| 1/1 [00:00<00:00,  2.16it/s]"
          ]
        },
        {
          "output_type": "stream",
          "name": "stdout",
          "text": [
            "                   all         31        298      0.768      0.744      0.808      0.433\n"
          ]
        },
        {
          "output_type": "stream",
          "name": "stderr",
          "text": [
            "\n"
          ]
        },
        {
          "output_type": "stream",
          "name": "stdout",
          "text": [
            "\n",
            "      Epoch    GPU_mem   box_loss   cls_loss   dfl_loss  Instances       Size\n"
          ]
        },
        {
          "output_type": "stream",
          "name": "stderr",
          "text": [
            "     85/200      5.06G      1.297      1.024      1.068         24        640: 100%|██████████| 21/21 [00:05<00:00,  3.84it/s]\n",
            "                 Class     Images  Instances      Box(P          R      mAP50  mAP50-95): 100%|██████████| 1/1 [00:00<00:00,  1.55it/s]"
          ]
        },
        {
          "output_type": "stream",
          "name": "stdout",
          "text": [
            "                   all         31        298      0.694      0.851      0.809      0.459\n"
          ]
        },
        {
          "output_type": "stream",
          "name": "stderr",
          "text": [
            "\n"
          ]
        },
        {
          "output_type": "stream",
          "name": "stdout",
          "text": [
            "\n",
            "      Epoch    GPU_mem   box_loss   cls_loss   dfl_loss  Instances       Size\n"
          ]
        },
        {
          "output_type": "stream",
          "name": "stderr",
          "text": [
            "     86/200      5.06G      1.293      1.014      1.091          6        640: 100%|██████████| 21/21 [00:06<00:00,  3.13it/s]\n",
            "                 Class     Images  Instances      Box(P          R      mAP50  mAP50-95): 100%|██████████| 1/1 [00:00<00:00,  2.79it/s]"
          ]
        },
        {
          "output_type": "stream",
          "name": "stdout",
          "text": [
            "                   all         31        298      0.708      0.766      0.777      0.438\n"
          ]
        },
        {
          "output_type": "stream",
          "name": "stderr",
          "text": [
            "\n"
          ]
        },
        {
          "output_type": "stream",
          "name": "stdout",
          "text": [
            "\n",
            "      Epoch    GPU_mem   box_loss   cls_loss   dfl_loss  Instances       Size\n"
          ]
        },
        {
          "output_type": "stream",
          "name": "stderr",
          "text": [
            "     87/200      5.06G      1.332      1.109      1.141          3        640: 100%|██████████| 21/21 [00:05<00:00,  3.92it/s]\n",
            "                 Class     Images  Instances      Box(P          R      mAP50  mAP50-95): 100%|██████████| 1/1 [00:00<00:00,  3.10it/s]"
          ]
        },
        {
          "output_type": "stream",
          "name": "stdout",
          "text": [
            "                   all         31        298        0.7      0.785      0.778      0.436\n"
          ]
        },
        {
          "output_type": "stream",
          "name": "stderr",
          "text": [
            "\n"
          ]
        },
        {
          "output_type": "stream",
          "name": "stdout",
          "text": [
            "\n",
            "      Epoch    GPU_mem   box_loss   cls_loss   dfl_loss  Instances       Size\n"
          ]
        },
        {
          "output_type": "stream",
          "name": "stderr",
          "text": [
            "     88/200      5.06G      1.242      1.236      1.016          0        640: 100%|██████████| 21/21 [00:07<00:00,  2.98it/s]\n",
            "                 Class     Images  Instances      Box(P          R      mAP50  mAP50-95): 100%|██████████| 1/1 [00:00<00:00,  2.95it/s]"
          ]
        },
        {
          "output_type": "stream",
          "name": "stdout",
          "text": [
            "                   all         31        298      0.699      0.792      0.786      0.428\n"
          ]
        },
        {
          "output_type": "stream",
          "name": "stderr",
          "text": [
            "\n"
          ]
        },
        {
          "output_type": "stream",
          "name": "stdout",
          "text": [
            "\n",
            "      Epoch    GPU_mem   box_loss   cls_loss   dfl_loss  Instances       Size\n"
          ]
        },
        {
          "output_type": "stream",
          "name": "stderr",
          "text": [
            "     89/200      5.06G      1.308      1.009      1.075         25        640: 100%|██████████| 21/21 [00:05<00:00,  3.95it/s]\n",
            "                 Class     Images  Instances      Box(P          R      mAP50  mAP50-95): 100%|██████████| 1/1 [00:00<00:00,  2.92it/s]"
          ]
        },
        {
          "output_type": "stream",
          "name": "stdout",
          "text": [
            "                   all         31        298       0.75      0.717      0.769      0.415\n"
          ]
        },
        {
          "output_type": "stream",
          "name": "stderr",
          "text": [
            "\n"
          ]
        },
        {
          "output_type": "stream",
          "name": "stdout",
          "text": [
            "\n",
            "      Epoch    GPU_mem   box_loss   cls_loss   dfl_loss  Instances       Size\n"
          ]
        },
        {
          "output_type": "stream",
          "name": "stderr",
          "text": [
            "     90/200      5.06G      1.281     0.9946      1.061          8        640: 100%|██████████| 21/21 [00:07<00:00,  2.84it/s]\n",
            "                 Class     Images  Instances      Box(P          R      mAP50  mAP50-95): 100%|██████████| 1/1 [00:00<00:00,  2.86it/s]"
          ]
        },
        {
          "output_type": "stream",
          "name": "stdout",
          "text": [
            "                   all         31        298      0.683      0.831      0.799      0.423\n"
          ]
        },
        {
          "output_type": "stream",
          "name": "stderr",
          "text": [
            "\n"
          ]
        },
        {
          "output_type": "stream",
          "name": "stdout",
          "text": [
            "\n",
            "      Epoch    GPU_mem   box_loss   cls_loss   dfl_loss  Instances       Size\n"
          ]
        },
        {
          "output_type": "stream",
          "name": "stderr",
          "text": [
            "     91/200      5.06G      1.317      1.059      1.087          3        640: 100%|██████████| 21/21 [00:05<00:00,  3.97it/s]\n",
            "                 Class     Images  Instances      Box(P          R      mAP50  mAP50-95): 100%|██████████| 1/1 [00:00<00:00,  2.99it/s]"
          ]
        },
        {
          "output_type": "stream",
          "name": "stdout",
          "text": [
            "                   all         31        298      0.734      0.764      0.806      0.436\n"
          ]
        },
        {
          "output_type": "stream",
          "name": "stderr",
          "text": [
            "\n"
          ]
        },
        {
          "output_type": "stream",
          "name": "stdout",
          "text": [
            "\n",
            "      Epoch    GPU_mem   box_loss   cls_loss   dfl_loss  Instances       Size\n"
          ]
        },
        {
          "output_type": "stream",
          "name": "stderr",
          "text": [
            "     92/200      5.06G      1.282      1.003      1.069          3        640: 100%|██████████| 21/21 [00:06<00:00,  3.03it/s]\n",
            "                 Class     Images  Instances      Box(P          R      mAP50  mAP50-95): 100%|██████████| 1/1 [00:00<00:00,  2.86it/s]"
          ]
        },
        {
          "output_type": "stream",
          "name": "stdout",
          "text": [
            "                   all         31        298       0.74      0.781      0.815      0.453\n"
          ]
        },
        {
          "output_type": "stream",
          "name": "stderr",
          "text": [
            "\n"
          ]
        },
        {
          "output_type": "stream",
          "name": "stdout",
          "text": [
            "\n",
            "      Epoch    GPU_mem   box_loss   cls_loss   dfl_loss  Instances       Size\n"
          ]
        },
        {
          "output_type": "stream",
          "name": "stderr",
          "text": [
            "     93/200      5.06G      1.233     0.9931      1.069          3        640: 100%|██████████| 21/21 [00:05<00:00,  3.92it/s]\n",
            "                 Class     Images  Instances      Box(P          R      mAP50  mAP50-95): 100%|██████████| 1/1 [00:00<00:00,  3.15it/s]"
          ]
        },
        {
          "output_type": "stream",
          "name": "stdout",
          "text": [
            "                   all         31        298       0.75        0.8      0.815      0.436\n"
          ]
        },
        {
          "output_type": "stream",
          "name": "stderr",
          "text": [
            "\n"
          ]
        },
        {
          "output_type": "stream",
          "name": "stdout",
          "text": [
            "\n",
            "      Epoch    GPU_mem   box_loss   cls_loss   dfl_loss  Instances       Size\n"
          ]
        },
        {
          "output_type": "stream",
          "name": "stderr",
          "text": [
            "     94/200      5.06G       1.29     0.9942      1.068         13        640: 100%|██████████| 21/21 [00:06<00:00,  3.01it/s]\n",
            "                 Class     Images  Instances      Box(P          R      mAP50  mAP50-95): 100%|██████████| 1/1 [00:00<00:00,  2.52it/s]"
          ]
        },
        {
          "output_type": "stream",
          "name": "stdout",
          "text": [
            "                   all         31        298      0.743      0.774      0.813      0.451\n"
          ]
        },
        {
          "output_type": "stream",
          "name": "stderr",
          "text": [
            "\n"
          ]
        },
        {
          "output_type": "stream",
          "name": "stdout",
          "text": [
            "\n",
            "      Epoch    GPU_mem   box_loss   cls_loss   dfl_loss  Instances       Size\n"
          ]
        },
        {
          "output_type": "stream",
          "name": "stderr",
          "text": [
            "     95/200      5.06G      1.284     0.9813      1.065          7        640: 100%|██████████| 21/21 [00:07<00:00,  2.91it/s]\n",
            "                 Class     Images  Instances      Box(P          R      mAP50  mAP50-95): 100%|██████████| 1/1 [00:00<00:00,  3.02it/s]"
          ]
        },
        {
          "output_type": "stream",
          "name": "stdout",
          "text": [
            "                   all         31        298      0.716      0.816      0.816      0.454\n"
          ]
        },
        {
          "output_type": "stream",
          "name": "stderr",
          "text": [
            "\n"
          ]
        },
        {
          "output_type": "stream",
          "name": "stdout",
          "text": [
            "\n",
            "      Epoch    GPU_mem   box_loss   cls_loss   dfl_loss  Instances       Size\n"
          ]
        },
        {
          "output_type": "stream",
          "name": "stderr",
          "text": [
            "     96/200      5.06G      1.232      1.001       1.05          3        640: 100%|██████████| 21/21 [00:07<00:00,  3.00it/s]\n",
            "                 Class     Images  Instances      Box(P          R      mAP50  mAP50-95): 100%|██████████| 1/1 [00:00<00:00,  3.52it/s]"
          ]
        },
        {
          "output_type": "stream",
          "name": "stdout",
          "text": [
            "                   all         31        298       0.74      0.811      0.817      0.484\n"
          ]
        },
        {
          "output_type": "stream",
          "name": "stderr",
          "text": [
            "\n"
          ]
        },
        {
          "output_type": "stream",
          "name": "stdout",
          "text": [
            "\n",
            "      Epoch    GPU_mem   box_loss   cls_loss   dfl_loss  Instances       Size\n"
          ]
        },
        {
          "output_type": "stream",
          "name": "stderr",
          "text": [
            "     97/200      5.06G      1.277      0.992       1.09          2        640: 100%|██████████| 21/21 [00:05<00:00,  3.86it/s]\n",
            "                 Class     Images  Instances      Box(P          R      mAP50  mAP50-95): 100%|██████████| 1/1 [00:00<00:00,  3.25it/s]"
          ]
        },
        {
          "output_type": "stream",
          "name": "stdout",
          "text": [
            "                   all         31        298      0.697      0.861      0.814      0.426\n"
          ]
        },
        {
          "output_type": "stream",
          "name": "stderr",
          "text": [
            "\n"
          ]
        },
        {
          "output_type": "stream",
          "name": "stdout",
          "text": [
            "\n",
            "      Epoch    GPU_mem   box_loss   cls_loss   dfl_loss  Instances       Size\n"
          ]
        },
        {
          "output_type": "stream",
          "name": "stderr",
          "text": [
            "     98/200      5.06G      1.271     0.9945      1.052          2        640: 100%|██████████| 21/21 [00:07<00:00,  2.88it/s]\n",
            "                 Class     Images  Instances      Box(P          R      mAP50  mAP50-95): 100%|██████████| 1/1 [00:00<00:00,  2.91it/s]"
          ]
        },
        {
          "output_type": "stream",
          "name": "stdout",
          "text": [
            "                   all         31        298      0.724      0.839      0.817      0.457\n"
          ]
        },
        {
          "output_type": "stream",
          "name": "stderr",
          "text": [
            "\n"
          ]
        },
        {
          "output_type": "stream",
          "name": "stdout",
          "text": [
            "\n",
            "      Epoch    GPU_mem   box_loss   cls_loss   dfl_loss  Instances       Size\n"
          ]
        },
        {
          "output_type": "stream",
          "name": "stderr",
          "text": [
            "     99/200      5.06G       1.29     0.9656      1.056          9        640: 100%|██████████| 21/21 [00:05<00:00,  3.82it/s]\n",
            "                 Class     Images  Instances      Box(P          R      mAP50  mAP50-95): 100%|██████████| 1/1 [00:00<00:00,  2.29it/s]"
          ]
        },
        {
          "output_type": "stream",
          "name": "stdout",
          "text": [
            "                   all         31        298       0.79      0.783      0.822      0.463\n"
          ]
        },
        {
          "output_type": "stream",
          "name": "stderr",
          "text": [
            "\n"
          ]
        },
        {
          "output_type": "stream",
          "name": "stdout",
          "text": [
            "\n",
            "      Epoch    GPU_mem   box_loss   cls_loss   dfl_loss  Instances       Size\n"
          ]
        },
        {
          "output_type": "stream",
          "name": "stderr",
          "text": [
            "    100/200      5.06G      1.275     0.9398      1.072         25        640: 100%|██████████| 21/21 [00:07<00:00,  2.90it/s]\n",
            "                 Class     Images  Instances      Box(P          R      mAP50  mAP50-95): 100%|██████████| 1/1 [00:00<00:00,  3.00it/s]"
          ]
        },
        {
          "output_type": "stream",
          "name": "stdout",
          "text": [
            "                   all         31        298      0.727      0.822      0.815       0.46\n"
          ]
        },
        {
          "output_type": "stream",
          "name": "stderr",
          "text": [
            "\n"
          ]
        },
        {
          "output_type": "stream",
          "name": "stdout",
          "text": [
            "\n",
            "      Epoch    GPU_mem   box_loss   cls_loss   dfl_loss  Instances       Size\n"
          ]
        },
        {
          "output_type": "stream",
          "name": "stderr",
          "text": [
            "    101/200      5.06G      1.321     0.9889      1.077         21        640: 100%|██████████| 21/21 [00:05<00:00,  3.81it/s]\n",
            "                 Class     Images  Instances      Box(P          R      mAP50  mAP50-95): 100%|██████████| 1/1 [00:00<00:00,  3.16it/s]"
          ]
        },
        {
          "output_type": "stream",
          "name": "stdout",
          "text": [
            "                   all         31        298      0.747      0.793       0.82      0.457\n"
          ]
        },
        {
          "output_type": "stream",
          "name": "stderr",
          "text": [
            "\n"
          ]
        },
        {
          "output_type": "stream",
          "name": "stdout",
          "text": [
            "\n",
            "      Epoch    GPU_mem   box_loss   cls_loss   dfl_loss  Instances       Size\n"
          ]
        },
        {
          "output_type": "stream",
          "name": "stderr",
          "text": [
            "    102/200      5.06G      1.278     0.9772      1.068         19        640: 100%|██████████| 21/21 [00:07<00:00,  2.95it/s]\n",
            "                 Class     Images  Instances      Box(P          R      mAP50  mAP50-95): 100%|██████████| 1/1 [00:00<00:00,  2.30it/s]"
          ]
        },
        {
          "output_type": "stream",
          "name": "stdout",
          "text": [
            "                   all         31        298      0.726      0.848      0.829      0.443\n"
          ]
        },
        {
          "output_type": "stream",
          "name": "stderr",
          "text": [
            "\n"
          ]
        },
        {
          "output_type": "stream",
          "name": "stdout",
          "text": [
            "\n",
            "      Epoch    GPU_mem   box_loss   cls_loss   dfl_loss  Instances       Size\n"
          ]
        },
        {
          "output_type": "stream",
          "name": "stderr",
          "text": [
            "    103/200      5.06G      1.278     0.9998       1.06          1        640: 100%|██████████| 21/21 [00:05<00:00,  3.84it/s]\n",
            "                 Class     Images  Instances      Box(P          R      mAP50  mAP50-95): 100%|██████████| 1/1 [00:00<00:00,  3.33it/s]"
          ]
        },
        {
          "output_type": "stream",
          "name": "stdout",
          "text": [
            "                   all         31        298      0.743      0.801      0.793      0.435\n"
          ]
        },
        {
          "output_type": "stream",
          "name": "stderr",
          "text": [
            "\n"
          ]
        },
        {
          "output_type": "stream",
          "name": "stdout",
          "text": [
            "\n",
            "      Epoch    GPU_mem   box_loss   cls_loss   dfl_loss  Instances       Size\n"
          ]
        },
        {
          "output_type": "stream",
          "name": "stderr",
          "text": [
            "    104/200      5.06G      1.265     0.9333      1.071          7        640: 100%|██████████| 21/21 [00:07<00:00,  2.83it/s]\n",
            "                 Class     Images  Instances      Box(P          R      mAP50  mAP50-95): 100%|██████████| 1/1 [00:00<00:00,  3.41it/s]"
          ]
        },
        {
          "output_type": "stream",
          "name": "stdout",
          "text": [
            "                   all         31        298      0.764      0.836      0.825      0.466\n"
          ]
        },
        {
          "output_type": "stream",
          "name": "stderr",
          "text": [
            "\n"
          ]
        },
        {
          "output_type": "stream",
          "name": "stdout",
          "text": [
            "\n",
            "      Epoch    GPU_mem   box_loss   cls_loss   dfl_loss  Instances       Size\n"
          ]
        },
        {
          "output_type": "stream",
          "name": "stderr",
          "text": [
            "    105/200      5.06G       1.21     0.9238      1.036          6        640: 100%|██████████| 21/21 [00:05<00:00,  3.87it/s]\n",
            "                 Class     Images  Instances      Box(P          R      mAP50  mAP50-95): 100%|██████████| 1/1 [00:00<00:00,  3.15it/s]"
          ]
        },
        {
          "output_type": "stream",
          "name": "stdout",
          "text": [
            "                   all         31        298      0.771      0.808      0.843      0.459\n"
          ]
        },
        {
          "output_type": "stream",
          "name": "stderr",
          "text": [
            "\n"
          ]
        },
        {
          "output_type": "stream",
          "name": "stdout",
          "text": [
            "\n",
            "      Epoch    GPU_mem   box_loss   cls_loss   dfl_loss  Instances       Size\n"
          ]
        },
        {
          "output_type": "stream",
          "name": "stderr",
          "text": [
            "    106/200      5.32G      1.266      0.992      1.064         19        640: 100%|██████████| 21/21 [00:08<00:00,  2.54it/s]\n",
            "                 Class     Images  Instances      Box(P          R      mAP50  mAP50-95): 100%|██████████| 1/1 [00:00<00:00,  1.30it/s]"
          ]
        },
        {
          "output_type": "stream",
          "name": "stdout",
          "text": [
            "                   all         31        298      0.711      0.867      0.824      0.449\n"
          ]
        },
        {
          "output_type": "stream",
          "name": "stderr",
          "text": [
            "\n"
          ]
        },
        {
          "output_type": "stream",
          "name": "stdout",
          "text": [
            "\n",
            "      Epoch    GPU_mem   box_loss   cls_loss   dfl_loss  Instances       Size\n"
          ]
        },
        {
          "output_type": "stream",
          "name": "stderr",
          "text": [
            "    107/200      5.32G      1.207     0.9588      1.076          1        640: 100%|██████████| 21/21 [00:05<00:00,  3.74it/s]\n",
            "                 Class     Images  Instances      Box(P          R      mAP50  mAP50-95): 100%|██████████| 1/1 [00:00<00:00,  3.17it/s]"
          ]
        },
        {
          "output_type": "stream",
          "name": "stdout",
          "text": [
            "                   all         31        298      0.706      0.838      0.808      0.448\n"
          ]
        },
        {
          "output_type": "stream",
          "name": "stderr",
          "text": [
            "\n"
          ]
        },
        {
          "output_type": "stream",
          "name": "stdout",
          "text": [
            "\n",
            "      Epoch    GPU_mem   box_loss   cls_loss   dfl_loss  Instances       Size\n"
          ]
        },
        {
          "output_type": "stream",
          "name": "stderr",
          "text": [
            "    108/200      5.32G      1.207     0.9281      1.046          3        640: 100%|██████████| 21/21 [00:07<00:00,  2.91it/s]\n",
            "                 Class     Images  Instances      Box(P          R      mAP50  mAP50-95): 100%|██████████| 1/1 [00:00<00:00,  3.27it/s]"
          ]
        },
        {
          "output_type": "stream",
          "name": "stdout",
          "text": [
            "                   all         31        298      0.716      0.814      0.832      0.449\n"
          ]
        },
        {
          "output_type": "stream",
          "name": "stderr",
          "text": [
            "\n"
          ]
        },
        {
          "output_type": "stream",
          "name": "stdout",
          "text": [
            "\n",
            "      Epoch    GPU_mem   box_loss   cls_loss   dfl_loss  Instances       Size\n"
          ]
        },
        {
          "output_type": "stream",
          "name": "stderr",
          "text": [
            "    109/200      5.32G       1.28     0.9353       1.05         35        640: 100%|██████████| 21/21 [00:05<00:00,  3.65it/s]\n",
            "                 Class     Images  Instances      Box(P          R      mAP50  mAP50-95): 100%|██████████| 1/1 [00:00<00:00,  3.58it/s]"
          ]
        },
        {
          "output_type": "stream",
          "name": "stdout",
          "text": [
            "                   all         31        298      0.687      0.853      0.823      0.412\n"
          ]
        },
        {
          "output_type": "stream",
          "name": "stderr",
          "text": [
            "\n"
          ]
        },
        {
          "output_type": "stream",
          "name": "stdout",
          "text": [
            "\n",
            "      Epoch    GPU_mem   box_loss   cls_loss   dfl_loss  Instances       Size\n"
          ]
        },
        {
          "output_type": "stream",
          "name": "stderr",
          "text": [
            "    110/200      5.32G        1.2     0.9215      1.031          3        640: 100%|██████████| 21/21 [00:07<00:00,  2.98it/s]\n",
            "                 Class     Images  Instances      Box(P          R      mAP50  mAP50-95): 100%|██████████| 1/1 [00:00<00:00,  2.48it/s]"
          ]
        },
        {
          "output_type": "stream",
          "name": "stdout",
          "text": [
            "                   all         31        298      0.753      0.778      0.821      0.471\n"
          ]
        },
        {
          "output_type": "stream",
          "name": "stderr",
          "text": [
            "\n"
          ]
        },
        {
          "output_type": "stream",
          "name": "stdout",
          "text": [
            "\n",
            "      Epoch    GPU_mem   box_loss   cls_loss   dfl_loss  Instances       Size\n"
          ]
        },
        {
          "output_type": "stream",
          "name": "stderr",
          "text": [
            "    111/200      5.32G      1.132      1.076     0.9807          0        640: 100%|██████████| 21/21 [00:05<00:00,  3.95it/s]\n",
            "                 Class     Images  Instances      Box(P          R      mAP50  mAP50-95): 100%|██████████| 1/1 [00:00<00:00,  2.32it/s]"
          ]
        },
        {
          "output_type": "stream",
          "name": "stdout",
          "text": [
            "                   all         31        298      0.741      0.838      0.837      0.473\n"
          ]
        },
        {
          "output_type": "stream",
          "name": "stderr",
          "text": [
            "\n"
          ]
        },
        {
          "output_type": "stream",
          "name": "stdout",
          "text": [
            "\n",
            "      Epoch    GPU_mem   box_loss   cls_loss   dfl_loss  Instances       Size\n"
          ]
        },
        {
          "output_type": "stream",
          "name": "stderr",
          "text": [
            "    112/200      5.32G      1.259     0.9868      1.116          2        640: 100%|██████████| 21/21 [00:07<00:00,  2.96it/s]\n",
            "                 Class     Images  Instances      Box(P          R      mAP50  mAP50-95): 100%|██████████| 1/1 [00:00<00:00,  2.70it/s]"
          ]
        },
        {
          "output_type": "stream",
          "name": "stdout",
          "text": [
            "                   all         31        298      0.794      0.777      0.835      0.464\n"
          ]
        },
        {
          "output_type": "stream",
          "name": "stderr",
          "text": [
            "\n"
          ]
        },
        {
          "output_type": "stream",
          "name": "stdout",
          "text": [
            "\n",
            "      Epoch    GPU_mem   box_loss   cls_loss   dfl_loss  Instances       Size\n"
          ]
        },
        {
          "output_type": "stream",
          "name": "stderr",
          "text": [
            "    113/200      5.32G      1.231     0.9211      1.036         33        640: 100%|██████████| 21/21 [00:05<00:00,  3.79it/s]\n",
            "                 Class     Images  Instances      Box(P          R      mAP50  mAP50-95): 100%|██████████| 1/1 [00:00<00:00,  1.65it/s]"
          ]
        },
        {
          "output_type": "stream",
          "name": "stdout",
          "text": [
            "                   all         31        298      0.743      0.827      0.841      0.474\n"
          ]
        },
        {
          "output_type": "stream",
          "name": "stderr",
          "text": [
            "\n"
          ]
        },
        {
          "output_type": "stream",
          "name": "stdout",
          "text": [
            "\n",
            "      Epoch    GPU_mem   box_loss   cls_loss   dfl_loss  Instances       Size\n"
          ]
        },
        {
          "output_type": "stream",
          "name": "stderr",
          "text": [
            "    114/200      5.32G      1.246     0.9415      1.068         11        640: 100%|██████████| 21/21 [00:07<00:00,  2.80it/s]\n",
            "                 Class     Images  Instances      Box(P          R      mAP50  mAP50-95): 100%|██████████| 1/1 [00:00<00:00,  2.62it/s]"
          ]
        },
        {
          "output_type": "stream",
          "name": "stdout",
          "text": [
            "                   all         31        298      0.752      0.808      0.823      0.448\n"
          ]
        },
        {
          "output_type": "stream",
          "name": "stderr",
          "text": [
            "\n"
          ]
        },
        {
          "output_type": "stream",
          "name": "stdout",
          "text": [
            "\n",
            "      Epoch    GPU_mem   box_loss   cls_loss   dfl_loss  Instances       Size\n"
          ]
        },
        {
          "output_type": "stream",
          "name": "stderr",
          "text": [
            "    115/200      5.32G      1.201     0.8878      1.034         32        640: 100%|██████████| 21/21 [00:05<00:00,  3.87it/s]\n",
            "                 Class     Images  Instances      Box(P          R      mAP50  mAP50-95): 100%|██████████| 1/1 [00:00<00:00,  2.61it/s]"
          ]
        },
        {
          "output_type": "stream",
          "name": "stdout",
          "text": [
            "                   all         31        298      0.754      0.846      0.834      0.441\n"
          ]
        },
        {
          "output_type": "stream",
          "name": "stderr",
          "text": [
            "\n"
          ]
        },
        {
          "output_type": "stream",
          "name": "stdout",
          "text": [
            "\n",
            "      Epoch    GPU_mem   box_loss   cls_loss   dfl_loss  Instances       Size\n"
          ]
        },
        {
          "output_type": "stream",
          "name": "stderr",
          "text": [
            "    116/200      5.32G      1.224     0.8929      1.036          8        640: 100%|██████████| 21/21 [00:06<00:00,  3.04it/s]\n",
            "                 Class     Images  Instances      Box(P          R      mAP50  mAP50-95): 100%|██████████| 1/1 [00:00<00:00,  2.18it/s]"
          ]
        },
        {
          "output_type": "stream",
          "name": "stdout",
          "text": [
            "                   all         31        298      0.774      0.848      0.852      0.472\n"
          ]
        },
        {
          "output_type": "stream",
          "name": "stderr",
          "text": [
            "\n"
          ]
        },
        {
          "output_type": "stream",
          "name": "stdout",
          "text": [
            "\n",
            "      Epoch    GPU_mem   box_loss   cls_loss   dfl_loss  Instances       Size\n"
          ]
        },
        {
          "output_type": "stream",
          "name": "stderr",
          "text": [
            "    117/200      5.32G      1.217     0.8773      1.031         24        640: 100%|██████████| 21/21 [00:05<00:00,  3.90it/s]\n",
            "                 Class     Images  Instances      Box(P          R      mAP50  mAP50-95): 100%|██████████| 1/1 [00:00<00:00,  2.89it/s]"
          ]
        },
        {
          "output_type": "stream",
          "name": "stdout",
          "text": [
            "                   all         31        298      0.768      0.831      0.857      0.481\n"
          ]
        },
        {
          "output_type": "stream",
          "name": "stderr",
          "text": [
            "\n"
          ]
        },
        {
          "output_type": "stream",
          "name": "stdout",
          "text": [
            "\n",
            "      Epoch    GPU_mem   box_loss   cls_loss   dfl_loss  Instances       Size\n"
          ]
        },
        {
          "output_type": "stream",
          "name": "stderr",
          "text": [
            "    118/200      5.32G      1.192     0.8632      1.027         16        640: 100%|██████████| 21/21 [00:08<00:00,  2.61it/s]\n",
            "                 Class     Images  Instances      Box(P          R      mAP50  mAP50-95): 100%|██████████| 1/1 [00:00<00:00,  3.01it/s]"
          ]
        },
        {
          "output_type": "stream",
          "name": "stdout",
          "text": [
            "                   all         31        298      0.721      0.852       0.84      0.444\n"
          ]
        },
        {
          "output_type": "stream",
          "name": "stderr",
          "text": [
            "\n"
          ]
        },
        {
          "output_type": "stream",
          "name": "stdout",
          "text": [
            "\n",
            "      Epoch    GPU_mem   box_loss   cls_loss   dfl_loss  Instances       Size\n"
          ]
        },
        {
          "output_type": "stream",
          "name": "stderr",
          "text": [
            "    119/200      5.32G      1.143     0.9233      1.019          1        640: 100%|██████████| 21/21 [00:05<00:00,  3.82it/s]\n",
            "                 Class     Images  Instances      Box(P          R      mAP50  mAP50-95): 100%|██████████| 1/1 [00:00<00:00,  3.08it/s]"
          ]
        },
        {
          "output_type": "stream",
          "name": "stdout",
          "text": [
            "                   all         31        298      0.705      0.854      0.827      0.455\n"
          ]
        },
        {
          "output_type": "stream",
          "name": "stderr",
          "text": [
            "\n"
          ]
        },
        {
          "output_type": "stream",
          "name": "stdout",
          "text": [
            "\n",
            "      Epoch    GPU_mem   box_loss   cls_loss   dfl_loss  Instances       Size\n"
          ]
        },
        {
          "output_type": "stream",
          "name": "stderr",
          "text": [
            "    120/200      5.32G      1.215     0.8806      1.029         29        640: 100%|██████████| 21/21 [00:07<00:00,  2.97it/s]\n",
            "                 Class     Images  Instances      Box(P          R      mAP50  mAP50-95): 100%|██████████| 1/1 [00:00<00:00,  2.88it/s]"
          ]
        },
        {
          "output_type": "stream",
          "name": "stdout",
          "text": [
            "                   all         31        298      0.737      0.798      0.813      0.443\n"
          ]
        },
        {
          "output_type": "stream",
          "name": "stderr",
          "text": [
            "\n"
          ]
        },
        {
          "output_type": "stream",
          "name": "stdout",
          "text": [
            "\n",
            "      Epoch    GPU_mem   box_loss   cls_loss   dfl_loss  Instances       Size\n"
          ]
        },
        {
          "output_type": "stream",
          "name": "stderr",
          "text": [
            "    121/200      5.32G      1.185     0.8676      1.032         15        640: 100%|██████████| 21/21 [00:05<00:00,  3.97it/s]\n",
            "                 Class     Images  Instances      Box(P          R      mAP50  mAP50-95): 100%|██████████| 1/1 [00:00<00:00,  2.69it/s]"
          ]
        },
        {
          "output_type": "stream",
          "name": "stdout",
          "text": [
            "                   all         31        298      0.731       0.87      0.829      0.429\n"
          ]
        },
        {
          "output_type": "stream",
          "name": "stderr",
          "text": [
            "\n"
          ]
        },
        {
          "output_type": "stream",
          "name": "stdout",
          "text": [
            "\n",
            "      Epoch    GPU_mem   box_loss   cls_loss   dfl_loss  Instances       Size\n"
          ]
        },
        {
          "output_type": "stream",
          "name": "stderr",
          "text": [
            "    122/200      5.32G      1.215     0.9818      1.084          1        640: 100%|██████████| 21/21 [00:06<00:00,  3.09it/s]\n",
            "                 Class     Images  Instances      Box(P          R      mAP50  mAP50-95): 100%|██████████| 1/1 [00:00<00:00,  2.32it/s]"
          ]
        },
        {
          "output_type": "stream",
          "name": "stdout",
          "text": [
            "                   all         31        298      0.795      0.808      0.822      0.447\n"
          ]
        },
        {
          "output_type": "stream",
          "name": "stderr",
          "text": [
            "\n"
          ]
        },
        {
          "output_type": "stream",
          "name": "stdout",
          "text": [
            "\n",
            "      Epoch    GPU_mem   box_loss   cls_loss   dfl_loss  Instances       Size\n"
          ]
        },
        {
          "output_type": "stream",
          "name": "stderr",
          "text": [
            "    123/200      5.32G      1.165     0.8613      1.025         16        640: 100%|██████████| 21/21 [00:05<00:00,  3.60it/s]\n",
            "                 Class     Images  Instances      Box(P          R      mAP50  mAP50-95): 100%|██████████| 1/1 [00:00<00:00,  2.88it/s]"
          ]
        },
        {
          "output_type": "stream",
          "name": "stdout",
          "text": [
            "                   all         31        298      0.762      0.829      0.839      0.453\n"
          ]
        },
        {
          "output_type": "stream",
          "name": "stderr",
          "text": [
            "\n"
          ]
        },
        {
          "output_type": "stream",
          "name": "stdout",
          "text": [
            "\n",
            "      Epoch    GPU_mem   box_loss   cls_loss   dfl_loss  Instances       Size\n"
          ]
        },
        {
          "output_type": "stream",
          "name": "stderr",
          "text": [
            "    124/200      5.32G      1.235     0.9128      1.034         45        640: 100%|██████████| 21/21 [00:06<00:00,  3.04it/s]\n",
            "                 Class     Images  Instances      Box(P          R      mAP50  mAP50-95): 100%|██████████| 1/1 [00:00<00:00,  2.75it/s]"
          ]
        },
        {
          "output_type": "stream",
          "name": "stdout",
          "text": [
            "                   all         31        298      0.769      0.795      0.819      0.449\n"
          ]
        },
        {
          "output_type": "stream",
          "name": "stderr",
          "text": [
            "\n"
          ]
        },
        {
          "output_type": "stream",
          "name": "stdout",
          "text": [
            "\n",
            "      Epoch    GPU_mem   box_loss   cls_loss   dfl_loss  Instances       Size\n"
          ]
        },
        {
          "output_type": "stream",
          "name": "stderr",
          "text": [
            "    125/200      5.32G      1.204     0.9172      1.035          1        640: 100%|██████████| 21/21 [00:05<00:00,  3.91it/s]\n",
            "                 Class     Images  Instances      Box(P          R      mAP50  mAP50-95): 100%|██████████| 1/1 [00:00<00:00,  3.39it/s]"
          ]
        },
        {
          "output_type": "stream",
          "name": "stdout",
          "text": [
            "                   all         31        298      0.737      0.833      0.829      0.455\n"
          ]
        },
        {
          "output_type": "stream",
          "name": "stderr",
          "text": [
            "\n"
          ]
        },
        {
          "output_type": "stream",
          "name": "stdout",
          "text": [
            "\n",
            "      Epoch    GPU_mem   box_loss   cls_loss   dfl_loss  Instances       Size\n"
          ]
        },
        {
          "output_type": "stream",
          "name": "stderr",
          "text": [
            "    126/200      5.32G      1.179     0.8779      1.037         17        640: 100%|██████████| 21/21 [00:06<00:00,  3.08it/s]\n",
            "                 Class     Images  Instances      Box(P          R      mAP50  mAP50-95): 100%|██████████| 1/1 [00:00<00:00,  2.57it/s]"
          ]
        },
        {
          "output_type": "stream",
          "name": "stdout",
          "text": [
            "                   all         31        298      0.737      0.817      0.834      0.446\n"
          ]
        },
        {
          "output_type": "stream",
          "name": "stderr",
          "text": [
            "\n"
          ]
        },
        {
          "output_type": "stream",
          "name": "stdout",
          "text": [
            "\n",
            "      Epoch    GPU_mem   box_loss   cls_loss   dfl_loss  Instances       Size\n"
          ]
        },
        {
          "output_type": "stream",
          "name": "stderr",
          "text": [
            "    127/200      5.32G      1.158     0.8668      1.019          4        640: 100%|██████████| 21/21 [00:05<00:00,  3.98it/s]\n",
            "                 Class     Images  Instances      Box(P          R      mAP50  mAP50-95): 100%|██████████| 1/1 [00:00<00:00,  2.47it/s]"
          ]
        },
        {
          "output_type": "stream",
          "name": "stdout",
          "text": [
            "                   all         31        298       0.76      0.815      0.841      0.443\n"
          ]
        },
        {
          "output_type": "stream",
          "name": "stderr",
          "text": [
            "\n"
          ]
        },
        {
          "output_type": "stream",
          "name": "stdout",
          "text": [
            "\n",
            "      Epoch    GPU_mem   box_loss   cls_loss   dfl_loss  Instances       Size\n"
          ]
        },
        {
          "output_type": "stream",
          "name": "stderr",
          "text": [
            "    128/200      5.32G      1.235     0.8949      1.029         14        640: 100%|██████████| 21/21 [00:07<00:00,  2.83it/s]\n",
            "                 Class     Images  Instances      Box(P          R      mAP50  mAP50-95): 100%|██████████| 1/1 [00:00<00:00,  2.06it/s]"
          ]
        },
        {
          "output_type": "stream",
          "name": "stdout",
          "text": [
            "                   all         31        298       0.77      0.798      0.833      0.459\n"
          ]
        },
        {
          "output_type": "stream",
          "name": "stderr",
          "text": [
            "\n"
          ]
        },
        {
          "output_type": "stream",
          "name": "stdout",
          "text": [
            "\n",
            "      Epoch    GPU_mem   box_loss   cls_loss   dfl_loss  Instances       Size\n"
          ]
        },
        {
          "output_type": "stream",
          "name": "stderr",
          "text": [
            "    129/200      5.32G      1.188      0.881       1.07          1        640: 100%|██████████| 21/21 [00:05<00:00,  3.83it/s]\n",
            "                 Class     Images  Instances      Box(P          R      mAP50  mAP50-95): 100%|██████████| 1/1 [00:00<00:00,  2.69it/s]"
          ]
        },
        {
          "output_type": "stream",
          "name": "stdout",
          "text": [
            "                   all         31        298      0.732      0.839      0.831       0.43\n"
          ]
        },
        {
          "output_type": "stream",
          "name": "stderr",
          "text": [
            "\n"
          ]
        },
        {
          "output_type": "stream",
          "name": "stdout",
          "text": [
            "\n",
            "      Epoch    GPU_mem   box_loss   cls_loss   dfl_loss  Instances       Size\n"
          ]
        },
        {
          "output_type": "stream",
          "name": "stderr",
          "text": [
            "    130/200      5.32G      1.155      0.878      1.021         15        640: 100%|██████████| 21/21 [00:06<00:00,  3.29it/s]\n",
            "                 Class     Images  Instances      Box(P          R      mAP50  mAP50-95): 100%|██████████| 1/1 [00:00<00:00,  1.41it/s]"
          ]
        },
        {
          "output_type": "stream",
          "name": "stdout",
          "text": [
            "                   all         31        298      0.723      0.842      0.829      0.443\n"
          ]
        },
        {
          "output_type": "stream",
          "name": "stderr",
          "text": [
            "\n"
          ]
        },
        {
          "output_type": "stream",
          "name": "stdout",
          "text": [
            "\n",
            "      Epoch    GPU_mem   box_loss   cls_loss   dfl_loss  Instances       Size\n"
          ]
        },
        {
          "output_type": "stream",
          "name": "stderr",
          "text": [
            "    131/200      5.32G      1.186     0.8858      1.026         63        640: 100%|██████████| 21/21 [00:05<00:00,  3.87it/s]\n",
            "                 Class     Images  Instances      Box(P          R      mAP50  mAP50-95): 100%|██████████| 1/1 [00:00<00:00,  3.11it/s]"
          ]
        },
        {
          "output_type": "stream",
          "name": "stdout",
          "text": [
            "                   all         31        298      0.786      0.797       0.85      0.446\n"
          ]
        },
        {
          "output_type": "stream",
          "name": "stderr",
          "text": [
            "\n"
          ]
        },
        {
          "output_type": "stream",
          "name": "stdout",
          "text": [
            "\n",
            "      Epoch    GPU_mem   box_loss   cls_loss   dfl_loss  Instances       Size\n"
          ]
        },
        {
          "output_type": "stream",
          "name": "stderr",
          "text": [
            "    132/200      5.32G      1.163     0.8753      1.044          1        640: 100%|██████████| 21/21 [00:06<00:00,  3.36it/s]\n",
            "                 Class     Images  Instances      Box(P          R      mAP50  mAP50-95): 100%|██████████| 1/1 [00:00<00:00,  1.56it/s]"
          ]
        },
        {
          "output_type": "stream",
          "name": "stdout",
          "text": [
            "                   all         31        298      0.743      0.849      0.846      0.456\n"
          ]
        },
        {
          "output_type": "stream",
          "name": "stderr",
          "text": [
            "\n"
          ]
        },
        {
          "output_type": "stream",
          "name": "stdout",
          "text": [
            "\n",
            "      Epoch    GPU_mem   box_loss   cls_loss   dfl_loss  Instances       Size\n"
          ]
        },
        {
          "output_type": "stream",
          "name": "stderr",
          "text": [
            "    133/200      5.32G      1.172     0.8582      1.018         14        640: 100%|██████████| 21/21 [00:05<00:00,  3.99it/s]\n",
            "                 Class     Images  Instances      Box(P          R      mAP50  mAP50-95): 100%|██████████| 1/1 [00:00<00:00,  2.55it/s]"
          ]
        },
        {
          "output_type": "stream",
          "name": "stdout",
          "text": [
            "                   all         31        298      0.806      0.822      0.847      0.466\n"
          ]
        },
        {
          "output_type": "stream",
          "name": "stderr",
          "text": [
            "\n"
          ]
        },
        {
          "output_type": "stream",
          "name": "stdout",
          "text": [
            "\n",
            "      Epoch    GPU_mem   box_loss   cls_loss   dfl_loss  Instances       Size\n"
          ]
        },
        {
          "output_type": "stream",
          "name": "stderr",
          "text": [
            "    134/200      5.32G      1.185     0.8703      1.038          4        640: 100%|██████████| 21/21 [00:06<00:00,  3.20it/s]\n",
            "                 Class     Images  Instances      Box(P          R      mAP50  mAP50-95): 100%|██████████| 1/1 [00:00<00:00,  1.81it/s]"
          ]
        },
        {
          "output_type": "stream",
          "name": "stdout",
          "text": [
            "                   all         31        298      0.773      0.821       0.86      0.471\n"
          ]
        },
        {
          "output_type": "stream",
          "name": "stderr",
          "text": [
            "\n"
          ]
        },
        {
          "output_type": "stream",
          "name": "stdout",
          "text": [
            "\n",
            "      Epoch    GPU_mem   box_loss   cls_loss   dfl_loss  Instances       Size\n"
          ]
        },
        {
          "output_type": "stream",
          "name": "stderr",
          "text": [
            "    135/200      5.32G       1.15     0.8104      1.001          7        640: 100%|██████████| 21/21 [00:05<00:00,  3.99it/s]\n",
            "                 Class     Images  Instances      Box(P          R      mAP50  mAP50-95): 100%|██████████| 1/1 [00:00<00:00,  2.85it/s]"
          ]
        },
        {
          "output_type": "stream",
          "name": "stdout",
          "text": [
            "                   all         31        298      0.713       0.89       0.85       0.47\n"
          ]
        },
        {
          "output_type": "stream",
          "name": "stderr",
          "text": [
            "\n"
          ]
        },
        {
          "output_type": "stream",
          "name": "stdout",
          "text": [
            "\n",
            "      Epoch    GPU_mem   box_loss   cls_loss   dfl_loss  Instances       Size\n"
          ]
        },
        {
          "output_type": "stream",
          "name": "stderr",
          "text": [
            "    136/200      5.32G      1.128     0.8461      1.017         31        640: 100%|██████████| 21/21 [00:06<00:00,  3.47it/s]\n",
            "                 Class     Images  Instances      Box(P          R      mAP50  mAP50-95): 100%|██████████| 1/1 [00:00<00:00,  1.56it/s]"
          ]
        },
        {
          "output_type": "stream",
          "name": "stdout",
          "text": [
            "                   all         31        298      0.714       0.87      0.843      0.447\n"
          ]
        },
        {
          "output_type": "stream",
          "name": "stderr",
          "text": [
            "\n"
          ]
        },
        {
          "output_type": "stream",
          "name": "stdout",
          "text": [
            "\n",
            "      Epoch    GPU_mem   box_loss   cls_loss   dfl_loss  Instances       Size\n"
          ]
        },
        {
          "output_type": "stream",
          "name": "stderr",
          "text": [
            "    137/200      5.32G      1.154     0.8249      1.006         35        640: 100%|██████████| 21/21 [00:05<00:00,  3.80it/s]\n",
            "                 Class     Images  Instances      Box(P          R      mAP50  mAP50-95): 100%|██████████| 1/1 [00:00<00:00,  2.09it/s]"
          ]
        },
        {
          "output_type": "stream",
          "name": "stdout",
          "text": [
            "                   all         31        298      0.774      0.817      0.852      0.449\n"
          ]
        },
        {
          "output_type": "stream",
          "name": "stderr",
          "text": [
            "\n"
          ]
        },
        {
          "output_type": "stream",
          "name": "stdout",
          "text": [
            "\n",
            "      Epoch    GPU_mem   box_loss   cls_loss   dfl_loss  Instances       Size\n"
          ]
        },
        {
          "output_type": "stream",
          "name": "stderr",
          "text": [
            "    138/200      5.32G      1.132     0.8411      1.001         39        640: 100%|██████████| 21/21 [00:05<00:00,  3.54it/s]\n",
            "                 Class     Images  Instances      Box(P          R      mAP50  mAP50-95): 100%|██████████| 1/1 [00:00<00:00,  1.55it/s]"
          ]
        },
        {
          "output_type": "stream",
          "name": "stdout",
          "text": [
            "                   all         31        298      0.762      0.872      0.857      0.465\n"
          ]
        },
        {
          "output_type": "stream",
          "name": "stderr",
          "text": [
            "\n"
          ]
        },
        {
          "output_type": "stream",
          "name": "stdout",
          "text": [
            "\n",
            "      Epoch    GPU_mem   box_loss   cls_loss   dfl_loss  Instances       Size\n"
          ]
        },
        {
          "output_type": "stream",
          "name": "stderr",
          "text": [
            "    139/200      5.32G      1.131     0.8397     0.9957         44        640: 100%|██████████| 21/21 [00:05<00:00,  3.57it/s]\n",
            "                 Class     Images  Instances      Box(P          R      mAP50  mAP50-95): 100%|██████████| 1/1 [00:00<00:00,  3.66it/s]"
          ]
        },
        {
          "output_type": "stream",
          "name": "stdout",
          "text": [
            "                   all         31        298      0.766       0.85      0.853      0.447\n"
          ]
        },
        {
          "output_type": "stream",
          "name": "stderr",
          "text": [
            "\n"
          ]
        },
        {
          "output_type": "stream",
          "name": "stdout",
          "text": [
            "\n",
            "      Epoch    GPU_mem   box_loss   cls_loss   dfl_loss  Instances       Size\n"
          ]
        },
        {
          "output_type": "stream",
          "name": "stderr",
          "text": [
            "    140/200      5.32G      1.144     0.8693      1.037          1        640: 100%|██████████| 21/21 [00:05<00:00,  3.77it/s]\n",
            "                 Class     Images  Instances      Box(P          R      mAP50  mAP50-95): 100%|██████████| 1/1 [00:00<00:00,  1.56it/s]"
          ]
        },
        {
          "output_type": "stream",
          "name": "stdout",
          "text": [
            "                   all         31        298      0.733      0.849       0.82       0.44\n"
          ]
        },
        {
          "output_type": "stream",
          "name": "stderr",
          "text": [
            "\n"
          ]
        },
        {
          "output_type": "stream",
          "name": "stdout",
          "text": [
            "\n",
            "      Epoch    GPU_mem   box_loss   cls_loss   dfl_loss  Instances       Size\n"
          ]
        },
        {
          "output_type": "stream",
          "name": "stderr",
          "text": [
            "    141/200      5.32G      1.132     0.9168      1.021         11        640: 100%|██████████| 21/21 [00:06<00:00,  3.36it/s]\n",
            "                 Class     Images  Instances      Box(P          R      mAP50  mAP50-95): 100%|██████████| 1/1 [00:00<00:00,  2.85it/s]"
          ]
        },
        {
          "output_type": "stream",
          "name": "stdout",
          "text": [
            "                   all         31        298      0.759      0.837      0.844      0.446\n"
          ]
        },
        {
          "output_type": "stream",
          "name": "stderr",
          "text": [
            "\n"
          ]
        },
        {
          "output_type": "stream",
          "name": "stdout",
          "text": [
            "\n",
            "      Epoch    GPU_mem   box_loss   cls_loss   dfl_loss  Instances       Size\n"
          ]
        },
        {
          "output_type": "stream",
          "name": "stderr",
          "text": [
            "    142/200      5.32G      1.175     0.9612      1.046          1        640: 100%|██████████| 21/21 [00:06<00:00,  3.24it/s]\n",
            "                 Class     Images  Instances      Box(P          R      mAP50  mAP50-95): 100%|██████████| 1/1 [00:00<00:00,  1.55it/s]"
          ]
        },
        {
          "output_type": "stream",
          "name": "stdout",
          "text": [
            "                   all         31        298      0.764       0.84      0.839      0.461\n"
          ]
        },
        {
          "output_type": "stream",
          "name": "stderr",
          "text": [
            "\n"
          ]
        },
        {
          "output_type": "stream",
          "name": "stdout",
          "text": [
            "\n",
            "      Epoch    GPU_mem   box_loss   cls_loss   dfl_loss  Instances       Size\n"
          ]
        },
        {
          "output_type": "stream",
          "name": "stderr",
          "text": [
            "    143/200      5.32G      1.126     0.8218      1.012         49        640: 100%|██████████| 21/21 [00:06<00:00,  3.45it/s]\n",
            "                 Class     Images  Instances      Box(P          R      mAP50  mAP50-95): 100%|██████████| 1/1 [00:00<00:00,  3.03it/s]"
          ]
        },
        {
          "output_type": "stream",
          "name": "stdout",
          "text": [
            "                   all         31        298      0.731      0.853      0.854      0.486\n"
          ]
        },
        {
          "output_type": "stream",
          "name": "stderr",
          "text": [
            "\n"
          ]
        },
        {
          "output_type": "stream",
          "name": "stdout",
          "text": [
            "\n",
            "      Epoch    GPU_mem   box_loss   cls_loss   dfl_loss  Instances       Size\n"
          ]
        },
        {
          "output_type": "stream",
          "name": "stderr",
          "text": [
            "    144/200      5.32G      1.145     0.9232      1.005          4        640: 100%|██████████| 21/21 [00:05<00:00,  3.54it/s]\n",
            "                 Class     Images  Instances      Box(P          R      mAP50  mAP50-95): 100%|██████████| 1/1 [00:00<00:00,  1.62it/s]"
          ]
        },
        {
          "output_type": "stream",
          "name": "stdout",
          "text": [
            "                   all         31        298      0.765      0.868      0.849      0.444\n"
          ]
        },
        {
          "output_type": "stream",
          "name": "stderr",
          "text": [
            "\n"
          ]
        },
        {
          "output_type": "stream",
          "name": "stdout",
          "text": [
            "\n",
            "      Epoch    GPU_mem   box_loss   cls_loss   dfl_loss  Instances       Size\n"
          ]
        },
        {
          "output_type": "stream",
          "name": "stderr",
          "text": [
            "    145/200      5.32G       1.12     0.7798      1.005         17        640: 100%|██████████| 21/21 [00:07<00:00,  2.90it/s]\n",
            "                 Class     Images  Instances      Box(P          R      mAP50  mAP50-95): 100%|██████████| 1/1 [00:00<00:00,  2.64it/s]"
          ]
        },
        {
          "output_type": "stream",
          "name": "stdout",
          "text": [
            "                   all         31        298      0.787      0.848      0.836      0.448\n"
          ]
        },
        {
          "output_type": "stream",
          "name": "stderr",
          "text": [
            "\n"
          ]
        },
        {
          "output_type": "stream",
          "name": "stdout",
          "text": [
            "\n",
            "      Epoch    GPU_mem   box_loss   cls_loss   dfl_loss  Instances       Size\n"
          ]
        },
        {
          "output_type": "stream",
          "name": "stderr",
          "text": [
            "    146/200      5.32G        1.1     0.8322     0.9949          3        640: 100%|██████████| 21/21 [00:05<00:00,  3.93it/s]\n",
            "                 Class     Images  Instances      Box(P          R      mAP50  mAP50-95): 100%|██████████| 1/1 [00:00<00:00,  2.53it/s]"
          ]
        },
        {
          "output_type": "stream",
          "name": "stdout",
          "text": [
            "                   all         31        298      0.781      0.826      0.837      0.432\n"
          ]
        },
        {
          "output_type": "stream",
          "name": "stderr",
          "text": [
            "\n"
          ]
        },
        {
          "output_type": "stream",
          "name": "stdout",
          "text": [
            "\n",
            "      Epoch    GPU_mem   box_loss   cls_loss   dfl_loss  Instances       Size\n"
          ]
        },
        {
          "output_type": "stream",
          "name": "stderr",
          "text": [
            "    147/200      5.32G      1.083     0.8124       1.02          1        640: 100%|██████████| 21/21 [00:07<00:00,  2.86it/s]\n",
            "                 Class     Images  Instances      Box(P          R      mAP50  mAP50-95): 100%|██████████| 1/1 [00:00<00:00,  2.11it/s]"
          ]
        },
        {
          "output_type": "stream",
          "name": "stdout",
          "text": [
            "                   all         31        298      0.806      0.784      0.832      0.448\n"
          ]
        },
        {
          "output_type": "stream",
          "name": "stderr",
          "text": [
            "\n"
          ]
        },
        {
          "output_type": "stream",
          "name": "stdout",
          "text": [
            "\n",
            "      Epoch    GPU_mem   box_loss   cls_loss   dfl_loss  Instances       Size\n"
          ]
        },
        {
          "output_type": "stream",
          "name": "stderr",
          "text": [
            "    148/200      5.32G      1.122      0.862      1.006          1        640: 100%|██████████| 21/21 [00:05<00:00,  3.80it/s]\n",
            "                 Class     Images  Instances      Box(P          R      mAP50  mAP50-95): 100%|██████████| 1/1 [00:00<00:00,  3.76it/s]"
          ]
        },
        {
          "output_type": "stream",
          "name": "stdout",
          "text": [
            "                   all         31        298      0.771      0.806      0.842      0.471\n"
          ]
        },
        {
          "output_type": "stream",
          "name": "stderr",
          "text": [
            "\n"
          ]
        },
        {
          "output_type": "stream",
          "name": "stdout",
          "text": [
            "\n",
            "      Epoch    GPU_mem   box_loss   cls_loss   dfl_loss  Instances       Size\n"
          ]
        },
        {
          "output_type": "stream",
          "name": "stderr",
          "text": [
            "    149/200      5.32G      1.116     0.7977     0.9947         33        640: 100%|██████████| 21/21 [00:06<00:00,  3.00it/s]\n",
            "                 Class     Images  Instances      Box(P          R      mAP50  mAP50-95): 100%|██████████| 1/1 [00:00<00:00,  2.70it/s]"
          ]
        },
        {
          "output_type": "stream",
          "name": "stdout",
          "text": [
            "                   all         31        298      0.765      0.868       0.85      0.459\n"
          ]
        },
        {
          "output_type": "stream",
          "name": "stderr",
          "text": [
            "\n"
          ]
        },
        {
          "output_type": "stream",
          "name": "stdout",
          "text": [
            "\n",
            "      Epoch    GPU_mem   box_loss   cls_loss   dfl_loss  Instances       Size\n"
          ]
        },
        {
          "output_type": "stream",
          "name": "stderr",
          "text": [
            "    150/200      5.32G       1.14     0.8201      1.005         41        640: 100%|██████████| 21/21 [00:05<00:00,  3.93it/s]\n",
            "                 Class     Images  Instances      Box(P          R      mAP50  mAP50-95): 100%|██████████| 1/1 [00:00<00:00,  2.72it/s]"
          ]
        },
        {
          "output_type": "stream",
          "name": "stdout",
          "text": [
            "                   all         31        298      0.763      0.851      0.854      0.462\n"
          ]
        },
        {
          "output_type": "stream",
          "name": "stderr",
          "text": [
            "\n"
          ]
        },
        {
          "output_type": "stream",
          "name": "stdout",
          "text": [
            "\n",
            "      Epoch    GPU_mem   box_loss   cls_loss   dfl_loss  Instances       Size\n"
          ]
        },
        {
          "output_type": "stream",
          "name": "stderr",
          "text": [
            "    151/200      5.32G      1.063     0.7832     0.9861          1        640: 100%|██████████| 21/21 [00:06<00:00,  3.08it/s]\n",
            "                 Class     Images  Instances      Box(P          R      mAP50  mAP50-95): 100%|██████████| 1/1 [00:00<00:00,  1.81it/s]"
          ]
        },
        {
          "output_type": "stream",
          "name": "stdout",
          "text": [
            "                   all         31        298      0.775      0.811      0.853      0.465\n"
          ]
        },
        {
          "output_type": "stream",
          "name": "stderr",
          "text": [
            "\n"
          ]
        },
        {
          "output_type": "stream",
          "name": "stdout",
          "text": [
            "\n",
            "      Epoch    GPU_mem   box_loss   cls_loss   dfl_loss  Instances       Size\n"
          ]
        },
        {
          "output_type": "stream",
          "name": "stderr",
          "text": [
            "    152/200      5.32G      1.127     0.8341      1.015          3        640: 100%|██████████| 21/21 [00:05<00:00,  3.51it/s]\n",
            "                 Class     Images  Instances      Box(P          R      mAP50  mAP50-95): 100%|██████████| 1/1 [00:00<00:00,  2.26it/s]"
          ]
        },
        {
          "output_type": "stream",
          "name": "stdout",
          "text": [
            "                   all         31        298      0.774      0.834      0.839      0.458\n"
          ]
        },
        {
          "output_type": "stream",
          "name": "stderr",
          "text": [
            "\n"
          ]
        },
        {
          "output_type": "stream",
          "name": "stdout",
          "text": [
            "\n",
            "      Epoch    GPU_mem   box_loss   cls_loss   dfl_loss  Instances       Size\n"
          ]
        },
        {
          "output_type": "stream",
          "name": "stderr",
          "text": [
            "    153/200      5.32G      1.106     0.7939     0.9994         18        640: 100%|██████████| 21/21 [00:06<00:00,  3.19it/s]\n",
            "                 Class     Images  Instances      Box(P          R      mAP50  mAP50-95): 100%|██████████| 1/1 [00:00<00:00,  2.69it/s]"
          ]
        },
        {
          "output_type": "stream",
          "name": "stdout",
          "text": [
            "                   all         31        298      0.779      0.846       0.84      0.454\n"
          ]
        },
        {
          "output_type": "stream",
          "name": "stderr",
          "text": [
            "\n"
          ]
        },
        {
          "output_type": "stream",
          "name": "stdout",
          "text": [
            "\n",
            "      Epoch    GPU_mem   box_loss   cls_loss   dfl_loss  Instances       Size\n"
          ]
        },
        {
          "output_type": "stream",
          "name": "stderr",
          "text": [
            "    154/200      5.32G      1.139     0.9832      1.049          1        640: 100%|██████████| 21/21 [00:05<00:00,  3.85it/s]\n",
            "                 Class     Images  Instances      Box(P          R      mAP50  mAP50-95): 100%|██████████| 1/1 [00:00<00:00,  2.67it/s]"
          ]
        },
        {
          "output_type": "stream",
          "name": "stdout",
          "text": [
            "                   all         31        298      0.783      0.839      0.861      0.462\n"
          ]
        },
        {
          "output_type": "stream",
          "name": "stderr",
          "text": [
            "\n"
          ]
        },
        {
          "output_type": "stream",
          "name": "stdout",
          "text": [
            "\n",
            "      Epoch    GPU_mem   box_loss   cls_loss   dfl_loss  Instances       Size\n"
          ]
        },
        {
          "output_type": "stream",
          "name": "stderr",
          "text": [
            "    155/200      5.32G      1.085     0.7667     0.9852         24        640: 100%|██████████| 21/21 [00:06<00:00,  3.04it/s]\n",
            "                 Class     Images  Instances      Box(P          R      mAP50  mAP50-95): 100%|██████████| 1/1 [00:00<00:00,  2.37it/s]"
          ]
        },
        {
          "output_type": "stream",
          "name": "stdout",
          "text": [
            "                   all         31        298      0.805      0.837      0.871      0.477\n"
          ]
        },
        {
          "output_type": "stream",
          "name": "stderr",
          "text": [
            "\n"
          ]
        },
        {
          "output_type": "stream",
          "name": "stdout",
          "text": [
            "\n",
            "      Epoch    GPU_mem   box_loss   cls_loss   dfl_loss  Instances       Size\n"
          ]
        },
        {
          "output_type": "stream",
          "name": "stderr",
          "text": [
            "    156/200      5.32G      1.086     0.7939     0.9983         33        640: 100%|██████████| 21/21 [00:06<00:00,  3.39it/s]\n",
            "                 Class     Images  Instances      Box(P          R      mAP50  mAP50-95): 100%|██████████| 1/1 [00:00<00:00,  2.62it/s]"
          ]
        },
        {
          "output_type": "stream",
          "name": "stdout",
          "text": [
            "                   all         31        298      0.831        0.8      0.864      0.449\n"
          ]
        },
        {
          "output_type": "stream",
          "name": "stderr",
          "text": [
            "\n"
          ]
        },
        {
          "output_type": "stream",
          "name": "stdout",
          "text": [
            "\n",
            "      Epoch    GPU_mem   box_loss   cls_loss   dfl_loss  Instances       Size\n"
          ]
        },
        {
          "output_type": "stream",
          "name": "stderr",
          "text": [
            "    157/200      5.32G      1.159     0.8194     0.9989         46        640: 100%|██████████| 21/21 [00:07<00:00,  2.86it/s]\n",
            "                 Class     Images  Instances      Box(P          R      mAP50  mAP50-95): 100%|██████████| 1/1 [00:00<00:00,  2.44it/s]"
          ]
        },
        {
          "output_type": "stream",
          "name": "stdout",
          "text": [
            "                   all         31        298      0.793      0.833      0.864      0.432\n"
          ]
        },
        {
          "output_type": "stream",
          "name": "stderr",
          "text": [
            "\n"
          ]
        },
        {
          "output_type": "stream",
          "name": "stdout",
          "text": [
            "\n",
            "      Epoch    GPU_mem   box_loss   cls_loss   dfl_loss  Instances       Size\n"
          ]
        },
        {
          "output_type": "stream",
          "name": "stderr",
          "text": [
            "    158/200      5.32G      1.134     0.8206       1.02          1        640: 100%|██████████| 21/21 [00:05<00:00,  3.70it/s]\n",
            "                 Class     Images  Instances      Box(P          R      mAP50  mAP50-95): 100%|██████████| 1/1 [00:00<00:00,  1.36it/s]"
          ]
        },
        {
          "output_type": "stream",
          "name": "stdout",
          "text": [
            "                   all         31        298       0.76      0.827       0.85      0.458\n"
          ]
        },
        {
          "output_type": "stream",
          "name": "stderr",
          "text": [
            "\n"
          ]
        },
        {
          "output_type": "stream",
          "name": "stdout",
          "text": [
            "\n",
            "      Epoch    GPU_mem   box_loss   cls_loss   dfl_loss  Instances       Size\n"
          ]
        },
        {
          "output_type": "stream",
          "name": "stderr",
          "text": [
            "    159/200      5.32G      1.077     0.7756      1.002          5        640: 100%|██████████| 21/21 [00:06<00:00,  3.29it/s]\n",
            "                 Class     Images  Instances      Box(P          R      mAP50  mAP50-95): 100%|██████████| 1/1 [00:00<00:00,  2.58it/s]"
          ]
        },
        {
          "output_type": "stream",
          "name": "stdout",
          "text": [
            "                   all         31        298      0.742      0.834      0.851      0.462\n"
          ]
        },
        {
          "output_type": "stream",
          "name": "stderr",
          "text": [
            "\n"
          ]
        },
        {
          "output_type": "stream",
          "name": "stdout",
          "text": [
            "\n",
            "      Epoch    GPU_mem   box_loss   cls_loss   dfl_loss  Instances       Size\n"
          ]
        },
        {
          "output_type": "stream",
          "name": "stderr",
          "text": [
            "    160/200      5.32G      1.103     0.7952     0.9805         34        640: 100%|██████████| 21/21 [00:05<00:00,  3.63it/s]\n",
            "                 Class     Images  Instances      Box(P          R      mAP50  mAP50-95): 100%|██████████| 1/1 [00:00<00:00,  2.20it/s]"
          ]
        },
        {
          "output_type": "stream",
          "name": "stdout",
          "text": [
            "                   all         31        298      0.703      0.886      0.867      0.457\n"
          ]
        },
        {
          "output_type": "stream",
          "name": "stderr",
          "text": [
            "\n"
          ]
        },
        {
          "output_type": "stream",
          "name": "stdout",
          "text": [
            "\n",
            "      Epoch    GPU_mem   box_loss   cls_loss   dfl_loss  Instances       Size\n"
          ]
        },
        {
          "output_type": "stream",
          "name": "stderr",
          "text": [
            "    161/200      5.32G      1.076      0.788     0.9895          3        640: 100%|██████████| 21/21 [00:07<00:00,  2.88it/s]\n",
            "                 Class     Images  Instances      Box(P          R      mAP50  mAP50-95): 100%|██████████| 1/1 [00:00<00:00,  2.19it/s]"
          ]
        },
        {
          "output_type": "stream",
          "name": "stdout",
          "text": [
            "                   all         31        298      0.819      0.767      0.865      0.474\n"
          ]
        },
        {
          "output_type": "stream",
          "name": "stderr",
          "text": [
            "\n"
          ]
        },
        {
          "output_type": "stream",
          "name": "stdout",
          "text": [
            "\n",
            "      Epoch    GPU_mem   box_loss   cls_loss   dfl_loss  Instances       Size\n"
          ]
        },
        {
          "output_type": "stream",
          "name": "stderr",
          "text": [
            "    162/200      5.32G      1.088     0.7943       1.04          5        640: 100%|██████████| 21/21 [00:07<00:00,  2.90it/s]\n",
            "                 Class     Images  Instances      Box(P          R      mAP50  mAP50-95): 100%|██████████| 1/1 [00:00<00:00,  1.46it/s]"
          ]
        },
        {
          "output_type": "stream",
          "name": "stdout",
          "text": [
            "                   all         31        298      0.839       0.76      0.865      0.459\n"
          ]
        },
        {
          "output_type": "stream",
          "name": "stderr",
          "text": [
            "\n"
          ]
        },
        {
          "output_type": "stream",
          "name": "stdout",
          "text": [
            "\n",
            "      Epoch    GPU_mem   box_loss   cls_loss   dfl_loss  Instances       Size\n"
          ]
        },
        {
          "output_type": "stream",
          "name": "stderr",
          "text": [
            "    163/200      5.32G      1.118     0.8722      1.052          1        640: 100%|██████████| 21/21 [00:05<00:00,  3.57it/s]\n",
            "                 Class     Images  Instances      Box(P          R      mAP50  mAP50-95): 100%|██████████| 1/1 [00:00<00:00,  2.92it/s]"
          ]
        },
        {
          "output_type": "stream",
          "name": "stdout",
          "text": [
            "                   all         31        298      0.867      0.757      0.858      0.466\n"
          ]
        },
        {
          "output_type": "stream",
          "name": "stderr",
          "text": [
            "\n"
          ]
        },
        {
          "output_type": "stream",
          "name": "stdout",
          "text": [
            "\n",
            "      Epoch    GPU_mem   box_loss   cls_loss   dfl_loss  Instances       Size\n"
          ]
        },
        {
          "output_type": "stream",
          "name": "stderr",
          "text": [
            "    164/200      5.32G       1.09      0.835     0.9973          2        640: 100%|██████████| 21/21 [00:07<00:00,  2.89it/s]\n",
            "                 Class     Images  Instances      Box(P          R      mAP50  mAP50-95): 100%|██████████| 1/1 [00:00<00:00,  2.49it/s]"
          ]
        },
        {
          "output_type": "stream",
          "name": "stdout",
          "text": [
            "                   all         31        298      0.767      0.842      0.865      0.457\n"
          ]
        },
        {
          "output_type": "stream",
          "name": "stderr",
          "text": [
            "\n"
          ]
        },
        {
          "output_type": "stream",
          "name": "stdout",
          "text": [
            "\n",
            "      Epoch    GPU_mem   box_loss   cls_loss   dfl_loss  Instances       Size\n"
          ]
        },
        {
          "output_type": "stream",
          "name": "stderr",
          "text": [
            "    165/200      5.32G      1.026     0.8342      1.003          1        640: 100%|██████████| 21/21 [00:05<00:00,  3.85it/s]\n",
            "                 Class     Images  Instances      Box(P          R      mAP50  mAP50-95): 100%|██████████| 1/1 [00:00<00:00,  2.13it/s]"
          ]
        },
        {
          "output_type": "stream",
          "name": "stdout",
          "text": [
            "                   all         31        298      0.754      0.832      0.861      0.474\n"
          ]
        },
        {
          "output_type": "stream",
          "name": "stderr",
          "text": [
            "\n"
          ]
        },
        {
          "output_type": "stream",
          "name": "stdout",
          "text": [
            "\n",
            "      Epoch    GPU_mem   box_loss   cls_loss   dfl_loss  Instances       Size\n"
          ]
        },
        {
          "output_type": "stream",
          "name": "stderr",
          "text": [
            "    166/200      5.32G      1.068     0.7619      0.987         18        640: 100%|██████████| 21/21 [00:07<00:00,  2.85it/s]\n",
            "                 Class     Images  Instances      Box(P          R      mAP50  mAP50-95): 100%|██████████| 1/1 [00:00<00:00,  2.44it/s]"
          ]
        },
        {
          "output_type": "stream",
          "name": "stdout",
          "text": [
            "                   all         31        298      0.795      0.788      0.849      0.468\n"
          ]
        },
        {
          "output_type": "stream",
          "name": "stderr",
          "text": [
            "\n"
          ]
        },
        {
          "output_type": "stream",
          "name": "stdout",
          "text": [
            "\n",
            "      Epoch    GPU_mem   box_loss   cls_loss   dfl_loss  Instances       Size\n"
          ]
        },
        {
          "output_type": "stream",
          "name": "stderr",
          "text": [
            "    167/200      5.32G      1.145     0.8516      1.061          1        640: 100%|██████████| 21/21 [00:05<00:00,  3.98it/s]\n",
            "                 Class     Images  Instances      Box(P          R      mAP50  mAP50-95): 100%|██████████| 1/1 [00:00<00:00,  2.53it/s]"
          ]
        },
        {
          "output_type": "stream",
          "name": "stdout",
          "text": [
            "                   all         31        298       0.79      0.785      0.848      0.465\n"
          ]
        },
        {
          "output_type": "stream",
          "name": "stderr",
          "text": [
            "\n"
          ]
        },
        {
          "output_type": "stream",
          "name": "stdout",
          "text": [
            "\n",
            "      Epoch    GPU_mem   box_loss   cls_loss   dfl_loss  Instances       Size\n"
          ]
        },
        {
          "output_type": "stream",
          "name": "stderr",
          "text": [
            "    168/200      5.32G      1.076      0.788      0.991          2        640: 100%|██████████| 21/21 [00:06<00:00,  3.10it/s]\n",
            "                 Class     Images  Instances      Box(P          R      mAP50  mAP50-95): 100%|██████████| 1/1 [00:00<00:00,  1.52it/s]"
          ]
        },
        {
          "output_type": "stream",
          "name": "stdout",
          "text": [
            "                   all         31        298       0.75      0.846       0.85      0.457\n"
          ]
        },
        {
          "output_type": "stream",
          "name": "stderr",
          "text": [
            "\n"
          ]
        },
        {
          "output_type": "stream",
          "name": "stdout",
          "text": [
            "\n",
            "      Epoch    GPU_mem   box_loss   cls_loss   dfl_loss  Instances       Size\n"
          ]
        },
        {
          "output_type": "stream",
          "name": "stderr",
          "text": [
            "    169/200      5.32G      1.102     0.7769     0.9816         34        640: 100%|██████████| 21/21 [00:05<00:00,  3.82it/s]\n",
            "                 Class     Images  Instances      Box(P          R      mAP50  mAP50-95): 100%|██████████| 1/1 [00:00<00:00,  2.85it/s]"
          ]
        },
        {
          "output_type": "stream",
          "name": "stdout",
          "text": [
            "                   all         31        298      0.796      0.813      0.869      0.466\n"
          ]
        },
        {
          "output_type": "stream",
          "name": "stderr",
          "text": [
            "\n"
          ]
        },
        {
          "output_type": "stream",
          "name": "stdout",
          "text": [
            "\n",
            "      Epoch    GPU_mem   box_loss   cls_loss   dfl_loss  Instances       Size\n"
          ]
        },
        {
          "output_type": "stream",
          "name": "stderr",
          "text": [
            "    170/200      5.32G      1.068     0.7992     0.9849          7        640: 100%|██████████| 21/21 [00:06<00:00,  3.20it/s]\n",
            "                 Class     Images  Instances      Box(P          R      mAP50  mAP50-95): 100%|██████████| 1/1 [00:01<00:00,  1.27s/it]"
          ]
        },
        {
          "output_type": "stream",
          "name": "stdout",
          "text": [
            "                   all         31        298      0.762      0.835      0.863      0.461\n"
          ]
        },
        {
          "output_type": "stream",
          "name": "stderr",
          "text": [
            "\n"
          ]
        },
        {
          "output_type": "stream",
          "name": "stdout",
          "text": [
            "\n",
            "      Epoch    GPU_mem   box_loss   cls_loss   dfl_loss  Instances       Size\n"
          ]
        },
        {
          "output_type": "stream",
          "name": "stderr",
          "text": [
            "    171/200      5.32G      1.082     0.7593      1.015         13        640: 100%|██████████| 21/21 [00:05<00:00,  3.89it/s]\n",
            "                 Class     Images  Instances      Box(P          R      mAP50  mAP50-95): 100%|██████████| 1/1 [00:00<00:00,  3.21it/s]"
          ]
        },
        {
          "output_type": "stream",
          "name": "stdout",
          "text": [
            "                   all         31        298      0.849      0.797      0.866      0.478\n"
          ]
        },
        {
          "output_type": "stream",
          "name": "stderr",
          "text": [
            "\n"
          ]
        },
        {
          "output_type": "stream",
          "name": "stdout",
          "text": [
            "\n",
            "      Epoch    GPU_mem   box_loss   cls_loss   dfl_loss  Instances       Size\n"
          ]
        },
        {
          "output_type": "stream",
          "name": "stderr",
          "text": [
            "    172/200      5.32G      1.032     0.7313     0.9736         29        640: 100%|██████████| 21/21 [00:06<00:00,  3.32it/s]\n",
            "                 Class     Images  Instances      Box(P          R      mAP50  mAP50-95): 100%|██████████| 1/1 [00:00<00:00,  1.56it/s]"
          ]
        },
        {
          "output_type": "stream",
          "name": "stdout",
          "text": [
            "                   all         31        298      0.807      0.798      0.855      0.478\n"
          ]
        },
        {
          "output_type": "stream",
          "name": "stderr",
          "text": [
            "\n"
          ]
        },
        {
          "output_type": "stream",
          "name": "stdout",
          "text": [
            "\n",
            "      Epoch    GPU_mem   box_loss   cls_loss   dfl_loss  Instances       Size\n"
          ]
        },
        {
          "output_type": "stream",
          "name": "stderr",
          "text": [
            "    173/200      5.32G      1.075     0.7693     0.9869         17        640: 100%|██████████| 21/21 [00:05<00:00,  3.81it/s]\n",
            "                 Class     Images  Instances      Box(P          R      mAP50  mAP50-95): 100%|██████████| 1/1 [00:00<00:00,  2.94it/s]"
          ]
        },
        {
          "output_type": "stream",
          "name": "stdout",
          "text": [
            "                   all         31        298       0.73      0.873      0.858      0.477\n"
          ]
        },
        {
          "output_type": "stream",
          "name": "stderr",
          "text": [
            "\n"
          ]
        },
        {
          "output_type": "stream",
          "name": "stdout",
          "text": [
            "\n",
            "      Epoch    GPU_mem   box_loss   cls_loss   dfl_loss  Instances       Size\n"
          ]
        },
        {
          "output_type": "stream",
          "name": "stderr",
          "text": [
            "    174/200      5.32G      1.059      0.753     0.9648         35        640: 100%|██████████| 21/21 [00:06<00:00,  3.37it/s]\n",
            "                 Class     Images  Instances      Box(P          R      mAP50  mAP50-95): 100%|██████████| 1/1 [00:00<00:00,  1.53it/s]"
          ]
        },
        {
          "output_type": "stream",
          "name": "stdout",
          "text": [
            "                   all         31        298      0.737      0.849      0.853      0.459\n"
          ]
        },
        {
          "output_type": "stream",
          "name": "stderr",
          "text": [
            "\n"
          ]
        },
        {
          "output_type": "stream",
          "name": "stdout",
          "text": [
            "\n",
            "      Epoch    GPU_mem   box_loss   cls_loss   dfl_loss  Instances       Size\n"
          ]
        },
        {
          "output_type": "stream",
          "name": "stderr",
          "text": [
            "    175/200      5.32G      1.058     0.7756     0.9831         29        640: 100%|██████████| 21/21 [00:06<00:00,  3.47it/s]\n",
            "                 Class     Images  Instances      Box(P          R      mAP50  mAP50-95): 100%|██████████| 1/1 [00:00<00:00,  2.72it/s]"
          ]
        },
        {
          "output_type": "stream",
          "name": "stdout",
          "text": [
            "                   all         31        298      0.815      0.808      0.853      0.474\n"
          ]
        },
        {
          "output_type": "stream",
          "name": "stderr",
          "text": [
            "\n"
          ]
        },
        {
          "output_type": "stream",
          "name": "stdout",
          "text": [
            "\n",
            "      Epoch    GPU_mem   box_loss   cls_loss   dfl_loss  Instances       Size\n"
          ]
        },
        {
          "output_type": "stream",
          "name": "stderr",
          "text": [
            "    176/200      5.32G      1.078     0.7558     0.9815          1        640: 100%|██████████| 21/21 [00:06<00:00,  3.28it/s]\n",
            "                 Class     Images  Instances      Box(P          R      mAP50  mAP50-95): 100%|██████████| 1/1 [00:00<00:00,  1.45it/s]"
          ]
        },
        {
          "output_type": "stream",
          "name": "stdout",
          "text": [
            "                   all         31        298      0.775      0.834      0.857      0.484\n"
          ]
        },
        {
          "output_type": "stream",
          "name": "stderr",
          "text": [
            "\n"
          ]
        },
        {
          "output_type": "stream",
          "name": "stdout",
          "text": [
            "\n",
            "      Epoch    GPU_mem   box_loss   cls_loss   dfl_loss  Instances       Size\n"
          ]
        },
        {
          "output_type": "stream",
          "name": "stderr",
          "text": [
            "    177/200      5.32G      1.078     0.7738     0.9914         47        640: 100%|██████████| 21/21 [00:05<00:00,  3.83it/s]\n",
            "                 Class     Images  Instances      Box(P          R      mAP50  mAP50-95): 100%|██████████| 1/1 [00:00<00:00,  3.62it/s]"
          ]
        },
        {
          "output_type": "stream",
          "name": "stdout",
          "text": [
            "                   all         31        298      0.783      0.846       0.86      0.485\n"
          ]
        },
        {
          "output_type": "stream",
          "name": "stderr",
          "text": [
            "\n"
          ]
        },
        {
          "output_type": "stream",
          "name": "stdout",
          "text": [
            "\n",
            "      Epoch    GPU_mem   box_loss   cls_loss   dfl_loss  Instances       Size\n"
          ]
        },
        {
          "output_type": "stream",
          "name": "stderr",
          "text": [
            "    178/200      5.32G      1.026     0.7406     0.9638         14        640: 100%|██████████| 21/21 [00:06<00:00,  3.42it/s]\n",
            "                 Class     Images  Instances      Box(P          R      mAP50  mAP50-95): 100%|██████████| 1/1 [00:00<00:00,  1.61it/s]"
          ]
        },
        {
          "output_type": "stream",
          "name": "stdout",
          "text": [
            "                   all         31        298      0.789      0.813      0.863      0.471\n"
          ]
        },
        {
          "output_type": "stream",
          "name": "stderr",
          "text": [
            "\n"
          ]
        },
        {
          "output_type": "stream",
          "name": "stdout",
          "text": [
            "\n",
            "      Epoch    GPU_mem   box_loss   cls_loss   dfl_loss  Instances       Size\n"
          ]
        },
        {
          "output_type": "stream",
          "name": "stderr",
          "text": [
            "    179/200      5.32G     0.9708       0.81     0.9277          0        640: 100%|██████████| 21/21 [00:05<00:00,  3.75it/s]\n",
            "                 Class     Images  Instances      Box(P          R      mAP50  mAP50-95): 100%|██████████| 1/1 [00:00<00:00,  3.44it/s]"
          ]
        },
        {
          "output_type": "stream",
          "name": "stdout",
          "text": [
            "                   all         31        298      0.817      0.797      0.869      0.472\n"
          ]
        },
        {
          "output_type": "stream",
          "name": "stderr",
          "text": [
            "\n"
          ]
        },
        {
          "output_type": "stream",
          "name": "stdout",
          "text": [
            "\n",
            "      Epoch    GPU_mem   box_loss   cls_loss   dfl_loss  Instances       Size\n"
          ]
        },
        {
          "output_type": "stream",
          "name": "stderr",
          "text": [
            "    180/200      5.32G      1.033     0.7893      0.963          1        640: 100%|██████████| 21/21 [00:06<00:00,  3.24it/s]\n",
            "                 Class     Images  Instances      Box(P          R      mAP50  mAP50-95): 100%|██████████| 1/1 [00:00<00:00,  1.48it/s]"
          ]
        },
        {
          "output_type": "stream",
          "name": "stdout",
          "text": [
            "                   all         31        298      0.834       0.78      0.869      0.462\n"
          ]
        },
        {
          "output_type": "stream",
          "name": "stderr",
          "text": [
            "\n"
          ]
        },
        {
          "output_type": "stream",
          "name": "stdout",
          "text": [
            "\n",
            "      Epoch    GPU_mem   box_loss   cls_loss   dfl_loss  Instances       Size\n"
          ]
        },
        {
          "output_type": "stream",
          "name": "stderr",
          "text": [
            "    181/200      5.32G      1.056     0.7494     0.9655         30        640: 100%|██████████| 21/21 [00:06<00:00,  3.25it/s]\n",
            "                 Class     Images  Instances      Box(P          R      mAP50  mAP50-95): 100%|██████████| 1/1 [00:00<00:00,  1.79it/s]"
          ]
        },
        {
          "output_type": "stream",
          "name": "stdout",
          "text": [
            "                   all         31        298      0.783      0.839      0.862      0.465\n"
          ]
        },
        {
          "output_type": "stream",
          "name": "stderr",
          "text": [
            "\n"
          ]
        },
        {
          "output_type": "stream",
          "name": "stdout",
          "text": [
            "\n",
            "      Epoch    GPU_mem   box_loss   cls_loss   dfl_loss  Instances       Size\n"
          ]
        },
        {
          "output_type": "stream",
          "name": "stderr",
          "text": [
            "    182/200      5.32G      1.027     0.7687     0.9641          8        640: 100%|██████████| 21/21 [00:08<00:00,  2.62it/s]\n",
            "                 Class     Images  Instances      Box(P          R      mAP50  mAP50-95): 100%|██████████| 1/1 [00:00<00:00,  2.52it/s]"
          ]
        },
        {
          "output_type": "stream",
          "name": "stdout",
          "text": [
            "                   all         31        298      0.794      0.841      0.868      0.465\n"
          ]
        },
        {
          "output_type": "stream",
          "name": "stderr",
          "text": [
            "\n"
          ]
        },
        {
          "output_type": "stream",
          "name": "stdout",
          "text": [
            "\n",
            "      Epoch    GPU_mem   box_loss   cls_loss   dfl_loss  Instances       Size\n"
          ]
        },
        {
          "output_type": "stream",
          "name": "stderr",
          "text": [
            "    183/200      5.32G      1.107     0.8954      1.005          1        640: 100%|██████████| 21/21 [00:05<00:00,  3.80it/s]\n",
            "                 Class     Images  Instances      Box(P          R      mAP50  mAP50-95): 100%|██████████| 1/1 [00:00<00:00,  3.10it/s]"
          ]
        },
        {
          "output_type": "stream",
          "name": "stdout",
          "text": [
            "                   all         31        298      0.772      0.855      0.863      0.465\n"
          ]
        },
        {
          "output_type": "stream",
          "name": "stderr",
          "text": [
            "\n"
          ]
        },
        {
          "output_type": "stream",
          "name": "stdout",
          "text": [
            "\n",
            "      Epoch    GPU_mem   box_loss   cls_loss   dfl_loss  Instances       Size\n"
          ]
        },
        {
          "output_type": "stream",
          "name": "stderr",
          "text": [
            "    184/200      5.32G      1.047     0.9847      1.031          1        640: 100%|██████████| 21/21 [00:06<00:00,  3.01it/s]\n",
            "                 Class     Images  Instances      Box(P          R      mAP50  mAP50-95): 100%|██████████| 1/1 [00:00<00:00,  2.80it/s]"
          ]
        },
        {
          "output_type": "stream",
          "name": "stdout",
          "text": [
            "                   all         31        298      0.757      0.851      0.862       0.46\n"
          ]
        },
        {
          "output_type": "stream",
          "name": "stderr",
          "text": [
            "\n"
          ]
        },
        {
          "output_type": "stream",
          "name": "stdout",
          "text": [
            "\n",
            "      Epoch    GPU_mem   box_loss   cls_loss   dfl_loss  Instances       Size\n"
          ]
        },
        {
          "output_type": "stream",
          "name": "stderr",
          "text": [
            "    185/200      5.32G     0.9923     0.7208     0.9617         11        640: 100%|██████████| 21/21 [00:05<00:00,  3.74it/s]\n",
            "                 Class     Images  Instances      Box(P          R      mAP50  mAP50-95): 100%|██████████| 1/1 [00:00<00:00,  2.77it/s]"
          ]
        },
        {
          "output_type": "stream",
          "name": "stdout",
          "text": [
            "                   all         31        298      0.831      0.784      0.863      0.478\n"
          ]
        },
        {
          "output_type": "stream",
          "name": "stderr",
          "text": [
            "\n"
          ]
        },
        {
          "output_type": "stream",
          "name": "stdout",
          "text": [
            "\n",
            "      Epoch    GPU_mem   box_loss   cls_loss   dfl_loss  Instances       Size\n"
          ]
        },
        {
          "output_type": "stream",
          "name": "stderr",
          "text": [
            "    186/200      5.32G      0.986     0.7416     0.9688          1        640: 100%|██████████| 21/21 [00:07<00:00,  2.85it/s]\n",
            "                 Class     Images  Instances      Box(P          R      mAP50  mAP50-95): 100%|██████████| 1/1 [00:00<00:00,  2.38it/s]"
          ]
        },
        {
          "output_type": "stream",
          "name": "stdout",
          "text": [
            "                   all         31        298      0.842      0.778      0.863      0.471\n"
          ]
        },
        {
          "output_type": "stream",
          "name": "stderr",
          "text": [
            "\n"
          ]
        },
        {
          "output_type": "stream",
          "name": "stdout",
          "text": [
            "\n",
            "      Epoch    GPU_mem   box_loss   cls_loss   dfl_loss  Instances       Size\n"
          ]
        },
        {
          "output_type": "stream",
          "name": "stderr",
          "text": [
            "    187/200      5.32G      1.013     0.7174     0.9729          2        640: 100%|██████████| 21/21 [00:05<00:00,  3.91it/s]\n",
            "                 Class     Images  Instances      Box(P          R      mAP50  mAP50-95): 100%|██████████| 1/1 [00:00<00:00,  2.26it/s]"
          ]
        },
        {
          "output_type": "stream",
          "name": "stdout",
          "text": [
            "                   all         31        298      0.831      0.785      0.862      0.468\n"
          ]
        },
        {
          "output_type": "stream",
          "name": "stderr",
          "text": [
            "\n"
          ]
        },
        {
          "output_type": "stream",
          "name": "stdout",
          "text": [
            "\n",
            "      Epoch    GPU_mem   box_loss   cls_loss   dfl_loss  Instances       Size\n"
          ]
        },
        {
          "output_type": "stream",
          "name": "stderr",
          "text": [
            "    188/200      5.32G      1.034     0.8194     0.9827          2        640: 100%|██████████| 21/21 [00:07<00:00,  2.86it/s]\n",
            "                 Class     Images  Instances      Box(P          R      mAP50  mAP50-95): 100%|██████████| 1/1 [00:00<00:00,  2.21it/s]"
          ]
        },
        {
          "output_type": "stream",
          "name": "stdout",
          "text": [
            "                   all         31        298      0.859      0.773      0.865      0.468\n"
          ]
        },
        {
          "output_type": "stream",
          "name": "stderr",
          "text": [
            "\n"
          ]
        },
        {
          "output_type": "stream",
          "name": "stdout",
          "text": [
            "\n",
            "      Epoch    GPU_mem   box_loss   cls_loss   dfl_loss  Instances       Size\n"
          ]
        },
        {
          "output_type": "stream",
          "name": "stderr",
          "text": [
            "    189/200      5.32G      1.027      0.742     0.9667          9        640: 100%|██████████| 21/21 [00:05<00:00,  3.66it/s]\n",
            "                 Class     Images  Instances      Box(P          R      mAP50  mAP50-95): 100%|██████████| 1/1 [00:00<00:00,  3.17it/s]"
          ]
        },
        {
          "output_type": "stream",
          "name": "stdout",
          "text": [
            "                   all         31        298      0.843      0.771      0.866       0.47\n"
          ]
        },
        {
          "output_type": "stream",
          "name": "stderr",
          "text": [
            "\n"
          ]
        },
        {
          "output_type": "stream",
          "name": "stdout",
          "text": [
            "\n",
            "      Epoch    GPU_mem   box_loss   cls_loss   dfl_loss  Instances       Size\n"
          ]
        },
        {
          "output_type": "stream",
          "name": "stderr",
          "text": [
            "    190/200      5.32G      1.045     0.7347     0.9765         15        640: 100%|██████████| 21/21 [00:07<00:00,  2.77it/s]\n",
            "                 Class     Images  Instances      Box(P          R      mAP50  mAP50-95): 100%|██████████| 1/1 [00:00<00:00,  2.29it/s]"
          ]
        },
        {
          "output_type": "stream",
          "name": "stdout",
          "text": [
            "                   all         31        298      0.854      0.759      0.859      0.472\n"
          ]
        },
        {
          "output_type": "stream",
          "name": "stderr",
          "text": [
            "\n"
          ]
        },
        {
          "output_type": "stream",
          "name": "stdout",
          "text": [
            "Closing dataloader mosaic\n",
            "\u001b[34m\u001b[1malbumentations: \u001b[0mBlur(p=0.01, blur_limit=(3, 7)), MedianBlur(p=0.01, blur_limit=(3, 7)), ToGray(p=0.01, method='weighted_average', num_output_channels=3), CLAHE(p=0.01, clip_limit=(1.0, 4.0), tile_grid_size=(8, 8))\n",
            "\n",
            "      Epoch    GPU_mem   box_loss   cls_loss   dfl_loss  Instances       Size\n"
          ]
        },
        {
          "output_type": "stream",
          "name": "stderr",
          "text": [
            "    191/200      5.32G      1.018     0.6588      1.005          9        640: 100%|██████████| 21/21 [00:07<00:00,  2.99it/s]\n",
            "                 Class     Images  Instances      Box(P          R      mAP50  mAP50-95): 100%|██████████| 1/1 [00:00<00:00,  2.09it/s]"
          ]
        },
        {
          "output_type": "stream",
          "name": "stdout",
          "text": [
            "                   all         31        298      0.858      0.758      0.868      0.469\n"
          ]
        },
        {
          "output_type": "stream",
          "name": "stderr",
          "text": [
            "\n"
          ]
        },
        {
          "output_type": "stream",
          "name": "stdout",
          "text": [
            "\n",
            "      Epoch    GPU_mem   box_loss   cls_loss   dfl_loss  Instances       Size\n"
          ]
        },
        {
          "output_type": "stream",
          "name": "stderr",
          "text": [
            "    192/200      5.32G      1.003     0.7297     0.9986          1        640: 100%|██████████| 21/21 [00:06<00:00,  3.01it/s]\n",
            "                 Class     Images  Instances      Box(P          R      mAP50  mAP50-95): 100%|██████████| 1/1 [00:00<00:00,  3.30it/s]"
          ]
        },
        {
          "output_type": "stream",
          "name": "stdout",
          "text": [
            "                   all         31        298      0.762      0.823       0.86      0.469\n"
          ]
        },
        {
          "output_type": "stream",
          "name": "stderr",
          "text": [
            "\n"
          ]
        },
        {
          "output_type": "stream",
          "name": "stdout",
          "text": [
            "\n",
            "      Epoch    GPU_mem   box_loss   cls_loss   dfl_loss  Instances       Size\n"
          ]
        },
        {
          "output_type": "stream",
          "name": "stderr",
          "text": [
            "    193/200      5.32G     0.9338     0.7188     0.9749          1        640: 100%|██████████| 21/21 [00:05<00:00,  3.87it/s]\n",
            "                 Class     Images  Instances      Box(P          R      mAP50  mAP50-95): 100%|██████████| 1/1 [00:00<00:00,  2.16it/s]"
          ]
        },
        {
          "output_type": "stream",
          "name": "stdout",
          "text": [
            "                   all         31        298      0.722      0.874      0.863      0.469\n"
          ]
        },
        {
          "output_type": "stream",
          "name": "stderr",
          "text": [
            "\n"
          ]
        },
        {
          "output_type": "stream",
          "name": "stdout",
          "text": [
            "\n",
            "      Epoch    GPU_mem   box_loss   cls_loss   dfl_loss  Instances       Size\n"
          ]
        },
        {
          "output_type": "stream",
          "name": "stderr",
          "text": [
            "    194/200      5.32G     0.9374     0.6958     0.9745          1        640: 100%|██████████| 21/21 [00:06<00:00,  3.04it/s]\n",
            "                 Class     Images  Instances      Box(P          R      mAP50  mAP50-95): 100%|██████████| 1/1 [00:00<00:00,  2.70it/s]"
          ]
        },
        {
          "output_type": "stream",
          "name": "stdout",
          "text": [
            "                   all         31        298      0.739       0.87      0.872      0.476\n"
          ]
        },
        {
          "output_type": "stream",
          "name": "stderr",
          "text": [
            "\n"
          ]
        },
        {
          "output_type": "stream",
          "name": "stdout",
          "text": [
            "\n",
            "      Epoch    GPU_mem   box_loss   cls_loss   dfl_loss  Instances       Size\n"
          ]
        },
        {
          "output_type": "stream",
          "name": "stderr",
          "text": [
            "    195/200      5.32G     0.9279     0.6782     0.9646          1        640: 100%|██████████| 21/21 [00:05<00:00,  3.93it/s]\n",
            "                 Class     Images  Instances      Box(P          R      mAP50  mAP50-95): 100%|██████████| 1/1 [00:00<00:00,  3.19it/s]"
          ]
        },
        {
          "output_type": "stream",
          "name": "stdout",
          "text": [
            "                   all         31        298      0.745      0.863       0.87      0.472\n"
          ]
        },
        {
          "output_type": "stream",
          "name": "stderr",
          "text": [
            "\n"
          ]
        },
        {
          "output_type": "stream",
          "name": "stdout",
          "text": [
            "\n",
            "      Epoch    GPU_mem   box_loss   cls_loss   dfl_loss  Instances       Size\n"
          ]
        },
        {
          "output_type": "stream",
          "name": "stderr",
          "text": [
            "    196/200      5.32G     0.9651     0.6874      1.017          1        640: 100%|██████████| 21/21 [00:06<00:00,  3.01it/s]\n",
            "                 Class     Images  Instances      Box(P          R      mAP50  mAP50-95): 100%|██████████| 1/1 [00:00<00:00,  3.00it/s]"
          ]
        },
        {
          "output_type": "stream",
          "name": "stdout",
          "text": [
            "                   all         31        298      0.741      0.871      0.865      0.464\n"
          ]
        },
        {
          "output_type": "stream",
          "name": "stderr",
          "text": [
            "\n"
          ]
        },
        {
          "output_type": "stream",
          "name": "stdout",
          "text": [
            "\n",
            "      Epoch    GPU_mem   box_loss   cls_loss   dfl_loss  Instances       Size\n"
          ]
        },
        {
          "output_type": "stream",
          "name": "stderr",
          "text": [
            "    197/200      5.32G     0.9356     0.6485     0.9524         14        640: 100%|██████████| 21/21 [00:05<00:00,  3.90it/s]\n",
            "                 Class     Images  Instances      Box(P          R      mAP50  mAP50-95): 100%|██████████| 1/1 [00:00<00:00,  3.08it/s]"
          ]
        },
        {
          "output_type": "stream",
          "name": "stdout",
          "text": [
            "                   all         31        298      0.748      0.858      0.864      0.458\n"
          ]
        },
        {
          "output_type": "stream",
          "name": "stderr",
          "text": [
            "\n"
          ]
        },
        {
          "output_type": "stream",
          "name": "stdout",
          "text": [
            "\n",
            "      Epoch    GPU_mem   box_loss   cls_loss   dfl_loss  Instances       Size\n"
          ]
        },
        {
          "output_type": "stream",
          "name": "stderr",
          "text": [
            "    198/200      5.32G      0.979     0.6859     0.9787         10        640: 100%|██████████| 21/21 [00:07<00:00,  2.98it/s]\n",
            "                 Class     Images  Instances      Box(P          R      mAP50  mAP50-95): 100%|██████████| 1/1 [00:00<00:00,  2.79it/s]"
          ]
        },
        {
          "output_type": "stream",
          "name": "stdout",
          "text": [
            "                   all         31        298      0.742      0.856      0.865       0.46\n"
          ]
        },
        {
          "output_type": "stream",
          "name": "stderr",
          "text": [
            "\n"
          ]
        },
        {
          "output_type": "stream",
          "name": "stdout",
          "text": [
            "\n",
            "      Epoch    GPU_mem   box_loss   cls_loss   dfl_loss  Instances       Size\n"
          ]
        },
        {
          "output_type": "stream",
          "name": "stderr",
          "text": [
            "    199/200      5.32G     0.9142     0.7196     0.9484          1        640: 100%|██████████| 21/21 [00:05<00:00,  3.82it/s]\n",
            "                 Class     Images  Instances      Box(P          R      mAP50  mAP50-95): 100%|██████████| 1/1 [00:00<00:00,  2.92it/s]"
          ]
        },
        {
          "output_type": "stream",
          "name": "stdout",
          "text": [
            "                   all         31        298      0.747      0.867      0.868      0.462\n"
          ]
        },
        {
          "output_type": "stream",
          "name": "stderr",
          "text": [
            "\n"
          ]
        },
        {
          "output_type": "stream",
          "name": "stdout",
          "text": [
            "\n",
            "      Epoch    GPU_mem   box_loss   cls_loss   dfl_loss  Instances       Size\n"
          ]
        },
        {
          "output_type": "stream",
          "name": "stderr",
          "text": [
            "    200/200      5.32G      0.932      0.638     0.9765          1        640: 100%|██████████| 21/21 [00:06<00:00,  3.00it/s]\n",
            "                 Class     Images  Instances      Box(P          R      mAP50  mAP50-95): 100%|██████████| 1/1 [00:00<00:00,  2.83it/s]"
          ]
        },
        {
          "output_type": "stream",
          "name": "stdout",
          "text": [
            "                   all         31        298      0.738      0.873      0.872      0.466\n"
          ]
        },
        {
          "output_type": "stream",
          "name": "stderr",
          "text": [
            "\n"
          ]
        },
        {
          "output_type": "stream",
          "name": "stdout",
          "text": [
            "\n",
            "200 epochs completed in 0.398 hours.\n",
            "Optimizer stripped from runs/detect/train3/weights/last.pt, 5.5MB\n",
            "Optimizer stripped from runs/detect/train3/weights/best.pt, 5.5MB\n",
            "\n",
            "Validating runs/detect/train3/weights/best.pt...\n",
            "Ultralytics 8.3.148 🚀 Python-3.11.12 torch-2.6.0+cu124 CUDA:0 (Tesla T4, 15095MiB)\n",
            "YOLO11n summary (fused): 100 layers, 2,584,687 parameters, 0 gradients, 6.3 GFLOPs\n"
          ]
        },
        {
          "output_type": "stream",
          "name": "stderr",
          "text": [
            "                 Class     Images  Instances      Box(P          R      mAP50  mAP50-95): 100%|██████████| 1/1 [00:00<00:00,  3.23it/s]\n"
          ]
        },
        {
          "output_type": "stream",
          "name": "stdout",
          "text": [
            "                   all         31        298      0.782      0.847      0.862      0.486\n",
            "          black-bishop          8         15      0.926      0.867      0.975      0.574\n",
            "            black-king          8          8      0.388      0.875      0.635      0.308\n",
            "          black-knight          8         16      0.882          1      0.995      0.641\n",
            "            black-pawn          8         64      0.967          1      0.995      0.606\n",
            "           black-queen          8          8      0.551        0.5      0.585      0.337\n",
            "            black-rook          8         16      0.844      0.938      0.963      0.557\n",
            "          white-bishop         13         22       0.79      0.909      0.933      0.576\n",
            "            white-king         12         12      0.664      0.824       0.73      0.406\n",
            "          white-knight         13         22      0.954      0.949      0.982       0.49\n",
            "            white-pawn         17         80      0.922      0.888      0.955      0.519\n",
            "           white-queen         12         12      0.628      0.583      0.757      0.376\n",
            "            white-rook         13         23       0.87      0.826      0.835      0.442\n",
            "Speed: 0.4ms preprocess, 2.3ms inference, 0.0ms loss, 1.4ms postprocess per image\n",
            "Results saved to \u001b[1mruns/detect/train3\u001b[0m\n",
            "  adding: content/ (stored 0%)\n",
            "  adding: content/.config/ (stored 0%)\n",
            "  adding: content/.config/.last_opt_in_prompt.yaml (stored 0%)\n",
            "  adding: content/.config/gce (stored 0%)\n",
            "  adding: content/.config/.last_update_check.json (deflated 22%)\n",
            "  adding: content/.config/configurations/ (stored 0%)\n",
            "  adding: content/.config/configurations/config_default (deflated 15%)\n",
            "  adding: content/.config/hidden_gcloud_config_universe_descriptor_data_cache_configs.db (deflated 97%)\n",
            "  adding: content/.config/config_sentinel (stored 0%)\n",
            "  adding: content/.config/default_configs.db (deflated 98%)\n",
            "  adding: content/.config/logs/ (stored 0%)\n",
            "  adding: content/.config/logs/2025.05.29/ (stored 0%)\n",
            "  adding: content/.config/logs/2025.05.29/14.01.02.146440.log (deflated 56%)\n",
            "  adding: content/.config/logs/2025.05.29/14.01.01.430943.log (deflated 58%)\n",
            "  adding: content/.config/logs/2025.05.29/14.00.52.256341.log (deflated 58%)\n",
            "  adding: content/.config/logs/2025.05.29/14.00.20.854017.log (deflated 92%)\n",
            "  adding: content/.config/logs/2025.05.29/14.00.51.008524.log (deflated 86%)\n",
            "  adding: content/.config/logs/2025.05.29/14.00.41.804176.log (deflated 58%)\n",
            "  adding: content/.config/active_config (stored 0%)\n",
            "  adding: content/.config/.last_survey_prompt.yaml (stored 0%)\n",
            "  adding: content/robo_chess-3/ (stored 0%)\n",
            "  adding: content/robo_chess-3/README.dataset.txt (deflated 14%)\n",
            "  adding: content/robo_chess-3/data.yaml (deflated 49%)\n",
            "  adding: content/robo_chess-3/README.roboflow.txt (deflated 52%)\n",
            "  adding: content/robo_chess-3/train/ (stored 0%)\n",
            "  adding: content/robo_chess-3/train/labels/ (stored 0%)\n",
            "  adding: content/robo_chess-3/train/labels/20250602_131615_mp4-0012_jpg.rf.9818ab3558f38c247fe16787cf1e7885.txt (deflated 65%)\n",
            "  adding: content/robo_chess-3/train/labels/20250602_131352_mp4-0011_jpg.rf.110d5c4f08039bc885dbe47b10b71833.txt (deflated 31%)\n",
            "  adding: content/robo_chess-3/train/labels/20250602_131448_mp4-0010_jpg.rf.e7b50e83e99bf232b038ec1d2fc85837.txt (deflated 20%)\n",
            "  adding: content/robo_chess-3/train/labels/20250602_131320_mp4-0013_jpg.rf.89052095fb93c74fe9a6f61b09d2fa6c.txt (deflated 71%)\n",
            "  adding: content/robo_chess-3/train/labels/20250530_145439_jpg.rf.3a061e126344286114e179a2a431239e.txt (deflated 49%)\n",
            "  adding: content/robo_chess-3/train/labels/20250530_145405_jpg.rf.9a078edeefda129b9b19d9d5e087df46.txt (deflated 68%)\n",
            "  adding: content/robo_chess-3/train/labels/20250601_124025_jpg.rf.736f4b7647aead72a47b6b47b362b99e.txt (deflated 69%)\n",
            "  adding: content/robo_chess-3/train/labels/20250602_131517_mp4-0001_jpg.rf.cea97e3639845c78f96881b07ae28ccc.txt (deflated 42%)\n",
            "  adding: content/robo_chess-3/train/labels/20250602_131517_mp4-0012_jpg.rf.ee31b3206d6d6cbd3687c9c478805329.txt (deflated 16%)\n",
            "  adding: content/robo_chess-3/train/labels/20250602_131448_mp4-0007_jpg.rf.e178ad174b85aa366aa29ffc741e280f.txt (deflated 60%)\n",
            "  adding: content/robo_chess-3/train/labels/20250602_131257_mp4-0010_jpg.rf.c1b5cb71586c53b54c35050404252367.txt (deflated 11%)\n",
            "  adding: content/robo_chess-3/train/labels/20250602_131427_mp4-0012_jpg.rf.c14b876b1124af97158323618a1c7f78.txt (deflated 19%)\n",
            "  adding: content/robo_chess-3/train/labels/20250530_145430_jpg.rf.71c468d9cdb8214c720dd99a52da9623.txt (deflated 52%)\n",
            "  adding: content/robo_chess-3/train/labels/20250602_131320_mp4-0015_jpg.rf.8f2181d4b2afb4d2b01eda89db6a5901.txt (deflated 36%)\n",
            "  adding: content/robo_chess-3/train/labels/20250602_131257_mp4-0011_jpg.rf.33b10c9b3077a45f075908d342af7da7.txt (deflated 36%)\n",
            "  adding: content/robo_chess-3/train/labels/20250602_131448_mp4-0003_jpg.rf.f9ef4236f7a7a237141ea9d8e07335cd.txt (deflated 35%)\n",
            "  adding: content/robo_chess-3/train/labels/20250530_145412_jpg.rf.73dc9330ada2358a5843437c6a6562f1.txt (deflated 72%)\n",
            "  adding: content/robo_chess-3/train/labels/20250602_131257_mp4-0004_jpg.rf.d0c71d97d5423818c6b5c7d42effad4f.txt (deflated 37%)\n",
            "  adding: content/robo_chess-3/train/labels/20250602_131517_mp4-0011_jpg.rf.b6ed5fcf8094e8091b1e31b719c389e1.txt (deflated 19%)\n",
            "  adding: content/robo_chess-3/train/labels/20250602_131352_mp4-0012_jpg.rf.ff66cccb62a530dd3bb21236bc758578.txt (deflated 33%)\n",
            "  adding: content/robo_chess-3/train/labels/20250601_123954_jpg.rf.2a75ef5f5e0d60d9fbc9de2d01ec425b.txt (deflated 69%)\n",
            "  adding: content/robo_chess-3/train/labels/20250602_131427_mp4-0006_jpg.rf.4b195b292c17576ddd4897eba99c1da7.txt (deflated 60%)\n",
            "  adding: content/robo_chess-3/train/labels/20250601_123841_jpg.rf.e9c2752e23e8b8812a08ba8b404c098a.txt (deflated 69%)\n",
            "  adding: content/robo_chess-3/train/labels/20250530_145430_jpg.rf.519122e7980028bae25aeb4d7b331792.txt (deflated 54%)\n",
            "  adding: content/robo_chess-3/train/labels/20250602_131320_mp4-0008_jpg.rf.9ff934978cc50e604b9f34787fa686d1.txt (deflated 33%)\n",
            "  adding: content/robo_chess-3/train/labels/20250601_123954_jpg.rf.eb46973d63a04aad24dd26316eab26b0.txt (deflated 73%)\n",
            "  adding: content/robo_chess-3/train/labels/20250602_131427_mp4-0004_jpg.rf.b462de55d19158e4048e135bfb0bde2f.txt (deflated 28%)\n",
            "  adding: content/robo_chess-3/train/labels/20250602_131427_mp4-0005_jpg.rf.445e696b62ebfb6bb24531df7a4d3de4.txt (deflated 18%)\n",
            "  adding: content/robo_chess-3/train/labels/20250602_131615_mp4-0015_jpg.rf.ca81bd1837b5886a8b3e4d878bf3a633.txt (deflated 67%)\n",
            "  adding: content/robo_chess-3/train/labels/20250530_145552_jpg.rf.44163af240d3d52fac256b9e812f95f4.txt (deflated 35%)\n",
            "  adding: content/robo_chess-3/train/labels/20250602_131615_mp4-0002_jpg.rf.629672489582349697f75ebbdc7fe48e.txt (deflated 67%)\n",
            "  adding: content/robo_chess-3/train/labels/20250530_145447_jpg.rf.a48d68aff25748db7fa7e3f1690b5e84.txt (deflated 52%)\n",
            "  adding: content/robo_chess-3/train/labels/20250602_131615_mp4-0014_jpg.rf.ff4b1ee858cb70d742732d81be992366.txt (deflated 66%)\n",
            "  adding: content/robo_chess-3/train/labels/20250602_131427_mp4-0012_jpg.rf.38afaa56cce42f3bc4ae9d5f4d254528.txt (deflated 27%)\n",
            "  adding: content/robo_chess-3/train/labels/20250602_131352_mp4-0013_jpg.rf.8f7da5373513d5f4101fa75fb1694166.txt (deflated 39%)\n",
            "  adding: content/robo_chess-3/train/labels/20250602_131352_mp4-0011_jpg.rf.3a2b6c81fb9683786be0b3cbd8ffc72d.txt (deflated 32%)\n",
            "  adding: content/robo_chess-3/train/labels/20250601_124022_jpg.rf.422ee62e91bcc1e6e2b51e809495ddfa.txt (deflated 68%)\n",
            "  adding: content/robo_chess-3/train/labels/20250530_145520_jpg.rf.d9352a4deb453a8a9611f088f89e9d0e.txt (deflated 36%)\n",
            "  adding: content/robo_chess-3/train/labels/20250601_123826_jpg.rf.416756c59a4f2c991b627edc93179492.txt (deflated 69%)\n",
            "  adding: content/robo_chess-3/train/labels/20250602_131427_mp4-0011_jpg.rf.d8ed43df473b2497e90124aae8ae236e.txt (deflated 40%)\n",
            "  adding: content/robo_chess-3/train/labels/20250602_131352_mp4-0000_jpg.rf.cf5f18dd42732574ad053c2cd1b00dda.txt (deflated 62%)\n",
            "  adding: content/robo_chess-3/train/labels/20250602_131448_mp4-0009_jpg.rf.8afe0ced8394f95d91c092c011b6d601.txt (deflated 67%)\n",
            "  adding: content/robo_chess-3/train/labels/20250602_131517_mp4-0003_jpg.rf.deeb65b7199a91d1d992ee4c2c055ffa.txt (deflated 36%)\n",
            "  adding: content/robo_chess-3/train/labels/20250602_131320_mp4-0008_jpg.rf.d6af6068e1520442836256fd3fae2ffb.txt (deflated 42%)\n",
            "  adding: content/robo_chess-3/train/labels/20250602_131427_mp4-0005_jpg.rf.8c567832d9ef19176c1ddc02a5db1452.txt (deflated 39%)\n",
            "  adding: content/robo_chess-3/train/labels/20250601_123816_jpg.rf.5d4b670d4b249daf99f15dc1b4954591.txt (deflated 72%)\n",
            "  adding: content/robo_chess-3/train/labels/20250602_131257_mp4-0008_jpg.rf.88bd588cbd1f6d61c984a1a5526930b1.txt (deflated 34%)\n",
            "  adding: content/robo_chess-3/train/labels/20250602_131320_mp4-0014_jpg.rf.cc886bb08d7e43faba5735c68e88e1cc.txt (deflated 24%)\n",
            "  adding: content/robo_chess-3/train/labels/20250530_145447_jpg.rf.0cd13bfbca80acca1b881a2d1797695c.txt (deflated 49%)\n",
            "  adding: content/robo_chess-3/train/labels/20250602_131320_mp4-0011_jpg.rf.cdcadac828c4c9301fd5202e5580ea06.txt (deflated 36%)\n",
            "  adding: content/robo_chess-3/train/labels/20250602_131352_mp4-0001_jpg.rf.afa3e35047ed46f59b518bf128a47b93.txt (deflated 62%)\n",
            "  adding: content/robo_chess-3/train/labels/20250601_123828_jpg.rf.f6c5aafe5a2589442364ba7bdbc3849b.txt (deflated 73%)\n",
            "  adding: content/robo_chess-3/train/labels/20250602_131257_mp4-0003_jpg.rf.238e2220e89186dba3e40be89fe29856.txt (deflated 69%)\n",
            "  adding: content/robo_chess-3/train/labels/20250602_131615_mp4-0002_jpg.rf.201a80ffd44c1aa7cd4900fb52ecd0a0.txt (deflated 68%)\n",
            "  adding: content/robo_chess-3/train/labels/20250602_131320_mp4-0015_jpg.rf.3e4de7fcdd5f4c228bf7e4deaaf29dbd.txt (deflated 15%)\n",
            "  adding: content/robo_chess-3/train/labels/20250530_145457_jpg.rf.03696ad742953b8819411b4228cb7824.txt (deflated 28%)\n",
            "  adding: content/robo_chess-3/train/labels/20250602_131352_mp4-0006_jpg.rf.5a7b6fc4f8ed21719e90cde017ca170a.txt (deflated 60%)\n",
            "  adding: content/robo_chess-3/train/labels/20250602_131257_mp4-0013_jpg.rf.68ee4fce99b566ab65f4ab779627ab35.txt (deflated 73%)\n",
            "  adding: content/robo_chess-3/train/labels/20250530_145520_jpg.rf.9860f5c1039698a7199f2162aafb9aab.txt (deflated 20%)\n",
            "  adding: content/robo_chess-3/train/labels/20250602_131352_mp4-0006_jpg.rf.c6d5a115eaf44aceac6a461f09815786.txt (deflated 60%)\n",
            "  adding: content/robo_chess-3/train/labels/20250602_131517_mp4-0013_jpg.rf.4d7a2e6351f7c685e2f1f1e6eb90963a.txt (deflated 32%)\n",
            "  adding: content/robo_chess-3/train/labels/20250530_145517_jpg.rf.5e13e641c41b4f54d6a81e3bb95283ee.txt (deflated 30%)\n",
            "  adding: content/robo_chess-3/train/labels/20250530_145340_jpg.rf.441444583b9551a2e0762696c5b60d1e.txt (deflated 70%)\n",
            "  adding: content/robo_chess-3/train/labels/20250602_131427_mp4-0007_jpg.rf.79b1fc42b713632943c0551b79f53cc6.txt (deflated 37%)\n",
            "  adding: content/robo_chess-3/train/labels/20250602_131427_mp4-0000_jpg.rf.9cf7b7c83608ed7d603aa6ebbda1d286.txt (deflated 26%)\n",
            "  adding: content/robo_chess-3/train/labels/20250601_124022_jpg.rf.5745f240b8be4776da72318e486ec72d.txt (deflated 70%)\n",
            "  adding: content/robo_chess-3/train/labels/20250602_131517_mp4-0012_jpg.rf.e1375c740a95fc442961dacba3c7b582.txt (deflated 35%)\n",
            "  adding: content/robo_chess-3/train/labels/20250602_131427_mp4-0006_jpg.rf.38fc8afe239dff6addd1fa6243bc49dd.txt (deflated 68%)\n",
            "  adding: content/robo_chess-3/train/labels/20250601_123828_jpg.rf.3d532af9cd60327c342837090cbaf171.txt (deflated 71%)\n",
            "  adding: content/robo_chess-3/train/labels/20250602_131427_mp4-0005_jpg.rf.e58f44bd519c5646485c2a2750371a5a.txt (deflated 35%)\n",
            "  adding: content/robo_chess-3/train/labels/20250602_131320_mp4-0007_jpg.rf.85e5a49c99a3f2068a6195c1f9bf44eb.txt (deflated 39%)\n",
            "  adding: content/robo_chess-3/train/labels/20250602_131427_mp4-0000_jpg.rf.8cfb2a2857e4fce8bcc5c92543f2402a.txt (deflated 29%)\n",
            "  adding: content/robo_chess-3/train/labels/20250602_131615_mp4-0011_jpg.rf.974112bce0da9851956a00bf357a22de.txt (deflated 63%)\n",
            "  adding: content/robo_chess-3/train/labels/20250602_131320_mp4-0007_jpg.rf.6bec5d928616c62f3eab062d8037ef77.txt (deflated 38%)\n",
            "  adding: content/robo_chess-3/train/labels/20250602_131615_mp4-0001_jpg.rf.b1c4bf2f2a133537ae03377d501b0dfd.txt (deflated 65%)\n",
            "  adding: content/robo_chess-3/train/labels/20250602_131517_mp4-0008_jpg.rf.671c928d6a53e651b75626cee9600e74.txt (deflated 16%)\n",
            "  adding: content/robo_chess-3/train/labels/20250601_124022_jpg.rf.989c6b1ddc139c377ae72e0fee137682.txt (deflated 73%)\n",
            "  adding: content/robo_chess-3/train/labels/20250602_131257_mp4-0003_jpg.rf.a2da4507fe3aadda2b875430ffc73f53.txt (deflated 61%)\n",
            "  adding: content/robo_chess-3/train/labels/20250602_131615_mp4-0006_jpg.rf.e1a8ebf51f08397f13c36eb00f05b1fb.txt (deflated 65%)\n",
            "  adding: content/robo_chess-3/train/labels/20250601_124001_jpg.rf.934315736a161b2cdcfb58a9e6fafe22.txt (deflated 70%)\n",
            "  adding: content/robo_chess-3/train/labels/20250530_145608_jpg.rf.331e7d89e3e844f1a1f64f4e09601010.txt (deflated 36%)\n",
            "  adding: content/robo_chess-3/train/labels/20250602_131448_mp4-0009_jpg.rf.21fe5797431f74a12e54f025a7d4c445.txt (deflated 61%)\n",
            "  adding: content/robo_chess-3/train/labels/20250602_131320_mp4-0016_jpg.rf.beb560fc17b88d73b884140357275d5f.txt (deflated 23%)\n",
            "  adding: content/robo_chess-3/train/labels/20250602_131427_mp4-0011_jpg.rf.07c791c019252e76a46214c6439c417b.txt (deflated 19%)\n",
            "  adding: content/robo_chess-3/train/labels/20250602_131517_mp4-0008_jpg.rf.5e793704621cecfad889bb415505d005.txt (deflated 38%)\n",
            "  adding: content/robo_chess-3/train/labels/20250602_131257_mp4-0014_jpg.rf.7c5cdb5a48b7da16e16cd94741bf9313.txt (deflated 40%)\n",
            "  adding: content/robo_chess-3/train/labels/20250602_131320_mp4-0011_jpg.rf.6b08885ef468b47b373ca03b691fb60c.txt (deflated 23%)\n",
            "  adding: content/robo_chess-3/train/labels/20250602_131615_mp4-0010_jpg.rf.eab5fbec0b82e697abc9a38b381bd587.txt (deflated 62%)\n",
            "  adding: content/robo_chess-3/train/labels/20250602_131427_mp4-0004_jpg.rf.b20890cff79f2f61fa7780afe2366e66.txt (deflated 27%)\n",
            "  adding: content/robo_chess-3/train/labels/20250602_131352_mp4-0005_jpg.rf.7d2bf8f93e971a5e8f499d49428785f9.txt (deflated 29%)\n",
            "  adding: content/robo_chess-3/train/labels/20250602_131517_mp4-0003_jpg.rf.f7fb2b5c586cea30d8ca659a05900f3a.txt (deflated 42%)\n",
            "  adding: content/robo_chess-3/train/labels/20250602_131448_mp4-0002_jpg.rf.868dcfd5bdfbed26d8c4742341b87ef0.txt (deflated 48%)\n",
            "  adding: content/robo_chess-3/train/labels/20250601_123845_jpg.rf.deb7cef998a80317bd054b81f9df6a31.txt (deflated 73%)\n",
            "  adding: content/robo_chess-3/train/labels/20250602_131320_mp4-0013_jpg.rf.1aa195ac31ea9d5490b66dfac1b64040.txt (deflated 61%)\n",
            "  adding: content/robo_chess-3/train/labels/20250601_124005_jpg.rf.b5ca7a34c677f08e15135f520f0f170b.txt (deflated 72%)\n",
            "  adding: content/robo_chess-3/train/labels/20250601_123855_jpg.rf.eab028c74d86dacf684c02e6d4a3f841.txt (deflated 72%)\n",
            "  adding: content/robo_chess-3/train/labels/20250530_145405_jpg.rf.4937ff8a6535d275910e5686c3b193ea.txt (deflated 71%)\n",
            "  adding: content/robo_chess-3/train/labels/20250530_145408_jpg.rf.4bf07bb7be87f6a7427cca7b7cf4b55b.txt (deflated 69%)\n",
            "  adding: content/robo_chess-3/train/labels/20250601_123831_jpg.rf.0888e3547dd8cdaed916bce8d385da4a.txt (deflated 73%)\n",
            "  adding: content/robo_chess-3/train/labels/20250602_131615_mp4-0011_jpg.rf.1f50d8b7ba7a17cdacb8aad93ca9a398.txt (deflated 76%)\n",
            "  adding: content/robo_chess-3/train/labels/20250530_145347_jpg.rf.87c674c59d8cb834a065385935f9351e.txt (deflated 69%)\n",
            "  adding: content/robo_chess-3/train/labels/20250602_131257_mp4-0003_jpg.rf.f626eb7249fe0c6c3e39cde31d69e509.txt (deflated 61%)\n",
            "  adding: content/robo_chess-3/train/labels/20250602_131615_mp4-0015_jpg.rf.544ca7b09cd1db0dd5feb4162181ebc9.txt (deflated 66%)\n",
            "  adding: content/robo_chess-3/train/labels/20250530_145340_jpg.rf.17dd60cc522442c27ae273ccab554e6c.txt (deflated 69%)\n",
            "  adding: content/robo_chess-3/train/labels/20250601_123845_jpg.rf.59e8dc57f1677874b8ce31a541eae982.txt (deflated 69%)\n",
            "  adding: content/robo_chess-3/train/labels/20250602_131427_mp4-0007_jpg.rf.25a8b565ff0496d2525325931416828c.txt (deflated 18%)\n",
            "  adding: content/robo_chess-3/train/labels/20250601_124001_jpg.rf.4635cdc54791c31c492561ed150c53cb.txt (deflated 68%)\n",
            "  adding: content/robo_chess-3/train/labels/20250602_131352_mp4-0013_jpg.rf.72ebd24df09be77c93c22ca39bc53a50.txt (deflated 14%)\n",
            "  adding: content/robo_chess-3/train/labels/20250601_124015_jpg.rf.8d2c18e0693018a4b949d6224b815507.txt (deflated 70%)\n",
            "  adding: content/robo_chess-3/train/labels/20250602_131257_mp4-0013_jpg.rf.998ae22223cdb2317ff852890d8c7e71.txt (deflated 61%)\n",
            "  adding: content/robo_chess-3/train/labels/20250602_131352_mp4-0003_jpg.rf.1ac54055724eabd00403f79b692d9877.txt (deflated 18%)\n",
            "  adding: content/robo_chess-3/train/labels/20250601_124025_jpg.rf.06703bb093fc2a7a4d974648abca8b9b.txt (deflated 72%)\n",
            "  adding: content/robo_chess-3/train/labels/20250602_131615_mp4-0006_jpg.rf.9833b71fc25e7f038960a21cbebe37db.txt (deflated 63%)\n",
            "  adding: content/robo_chess-3/train/labels/20250530_145445_jpg.rf.20805dbff53086f36a1fb00ad463e2c7.txt (deflated 47%)\n",
            "  adding: content/robo_chess-3/train/labels/20250530_145315_jpg.rf.1c554a6640696065c9bffad13a78d5f5.txt (deflated 69%)\n",
            "  adding: content/robo_chess-3/train/labels/20250601_124015_jpg.rf.9e2a734aba1e9294ab0749ef56666d1f.txt (deflated 72%)\n",
            "  adding: content/robo_chess-3/train/labels/20250602_131352_mp4-0000_jpg.rf.9a86707fcf7c0081daebe1a0811886f2.txt (deflated 72%)\n",
            "  adding: content/robo_chess-3/train/labels/20250602_131352_mp4-0006_jpg.rf.77b87cc2c4ef444e5bbd5879b2670795.txt (deflated 69%)\n",
            "  adding: content/robo_chess-3/train/labels/20250602_131427_mp4-0010_jpg.rf.ac8f6720892c7de67a4378f4fc34d9d3.txt (deflated 66%)\n",
            "  adding: content/robo_chess-3/train/labels/20250602_131615_mp4-0003_jpg.rf.49026bc928692c5e4fe308f59de80d6e.txt (deflated 68%)\n",
            "  adding: content/robo_chess-3/train/labels/20250602_131257_mp4-0011_jpg.rf.18845103b05cdf73628eddde90a5a225.txt (deflated 41%)\n",
            "  adding: content/robo_chess-3/train/labels/20250602_131320_mp4-0009_jpg.rf.c2f8d2fa81098f9b0058a9d8b95b950e.txt (deflated 41%)\n",
            "  adding: content/robo_chess-3/train/labels/20250602_131615_mp4-0008_jpg.rf.77988df26d195448813a550f19df313e.txt (deflated 62%)\n",
            "  adding: content/robo_chess-3/train/labels/20250602_131448_mp4-0003_jpg.rf.881639602d1fdfa75cf88a7794cf34b8.txt (deflated 37%)\n",
            "  adding: content/robo_chess-3/train/labels/20250602_131517_mp4-0006_jpg.rf.fcd706e73970c59a9c13eb194008dc98.txt (deflated 33%)\n",
            "  adding: content/robo_chess-3/train/labels/20250530_145525_jpg.rf.8d54ebda0e3c056e64551450a18223f1.txt (deflated 18%)\n",
            "  adding: content/robo_chess-3/train/labels/20250602_131615_mp4-0010_jpg.rf.655e6971062bed60eef165da58a42009.txt (deflated 63%)\n",
            "  adding: content/robo_chess-3/train/labels/20250602_131448_mp4-0005_jpg.rf.89f3d482f5875143efddb00cacdd58a8.txt (deflated 32%)\n",
            "  adding: content/robo_chess-3/train/labels/20250602_131448_mp4-0002_jpg.rf.30f39e0f4114491dfa8a19ebcb0f125b.txt (deflated 42%)\n",
            "  adding: content/robo_chess-3/train/labels/20250530_145520_jpg.rf.3130b131618c0b61b1ff3561cfdae65b.txt (deflated 30%)\n",
            "  adding: content/robo_chess-3/train/labels/20250601_124005_jpg.rf.81723644ac23cf92bfbfc6db2afa7afe.txt (deflated 71%)\n",
            "  adding: content/robo_chess-3/train/labels/20250602_131352_mp4-0002_jpg.rf.8e4cf4ed00a18fc04768923c938f6c63.txt (deflated 61%)\n",
            "  adding: content/robo_chess-3/train/labels/20250602_131320_mp4-0014_jpg.rf.0eaad7876ec3d26b99d54b197d63728a.txt (deflated 39%)\n",
            "  adding: content/robo_chess-3/train/labels/20250602_131257_mp4-0009_jpg.rf.3bc203e4b557ef5369f3ac244681d67e.txt (deflated 62%)\n",
            "  adding: content/robo_chess-3/train/labels/20250602_131352_mp4-0005_jpg.rf.41761914e28ca1821cec004acdaab57a.txt (deflated 23%)\n",
            "  adding: content/robo_chess-3/train/labels/20250602_131615_mp4-0015_jpg.rf.d329eb833b4ae116dc3590943ae38b8e.txt (deflated 65%)\n",
            "  adding: content/robo_chess-3/train/labels/20250602_131517_mp4-0006_jpg.rf.e610a5caf39f6ff7fa45193b16432b02.txt (deflated 18%)\n",
            "  adding: content/robo_chess-3/train/labels/20250601_123841_jpg.rf.d42d7334110c9ed28d0aaf6bfaa5891a.txt (deflated 68%)\n",
            "  adding: content/robo_chess-3/train/labels/20250602_131448_mp4-0010_jpg.rf.319bfda1c3c7bdfb1a241b0bdac721ae.txt (deflated 39%)\n",
            "  adding: content/robo_chess-3/train/labels/20250601_123950_jpg.rf.7bb2cbfeab0bf11cd64f5031ddee9abe.txt (deflated 67%)\n",
            "  adding: content/robo_chess-3/train/labels/20250530_145347_jpg.rf.0d9ccf21b9469251f1280ba2feab4b00.txt (deflated 69%)\n",
            "  adding: content/robo_chess-3/train/labels/20250602_131615_mp4-0013_jpg.rf.d2b4174efee427cb1d0ccdf69edde688.txt (deflated 67%)\n",
            "  adding: content/robo_chess-3/train/labels/20250602_131352_mp4-0003_jpg.rf.310e5466ee74b138fbfbfcd426dc04aa.txt (deflated 39%)\n",
            "  adding: content/robo_chess-3/train/labels/20250602_131257_mp4-0000_jpg.rf.fe6cb42d03a34607fb56249981c60ca8.txt (deflated 60%)\n",
            "  adding: content/robo_chess-3/train/labels/20250602_131615_mp4-0008_jpg.rf.b2ef8612aae92648d8f3fa2cb521a670.txt (deflated 75%)\n",
            "  adding: content/robo_chess-3/train/labels/20250602_131615_mp4-0013_jpg.rf.36733980d5c72e1f784625c79fdac053.txt (deflated 65%)\n",
            "  adding: content/robo_chess-3/train/labels/20250602_131352_mp4-0013_jpg.rf.64a366594fe77365f82f2fd209edf068.txt (deflated 41%)\n",
            "  adding: content/robo_chess-3/train/labels/20250601_123958_jpg.rf.48b4f25e077ad852ada53625447be958.txt (deflated 71%)\n",
            "  adding: content/robo_chess-3/train/labels/20250602_131352_mp4-0015_jpg.rf.4a93d089723cbff40e1511189709a4dc.txt (deflated 33%)\n",
            "  adding: content/robo_chess-3/train/labels/20250602_131448_mp4-0005_jpg.rf.f5b8ce8c41c7f9f74411ddc860324ac8.txt (deflated 32%)\n",
            "  adding: content/robo_chess-3/train/labels/20250530_145525_jpg.rf.9fa88f20965ef9666ece37644438144d.txt (deflated 30%)\n",
            "  adding: content/robo_chess-3/train/labels/20250602_131320_mp4-0016_jpg.rf.1e225cc74a117443f7d55234d15aefdd.txt (deflated 36%)\n",
            "  adding: content/robo_chess-3/train/labels/20250602_131427_mp4-0011_jpg.rf.918c6bea9435e0bed25730f697f28ff1.txt (deflated 38%)\n",
            "  adding: content/robo_chess-3/train/labels/20250601_124019_jpg.rf.06bd209e9e33c29c081fc8a264f7f1bb.txt (deflated 69%)\n",
            "  adding: content/robo_chess-3/train/labels/20250602_131427_mp4-0012_jpg.rf.bf345b34369ac1e30a9c55071a245214.txt (deflated 38%)\n",
            "  adding: content/robo_chess-3/train/labels/20250602_131615_mp4-0001_jpg.rf.9d0632681b7caa593ab197d26a7c889e.txt (deflated 66%)\n",
            "  adding: content/robo_chess-3/train/labels/20250602_131352_mp4-0012_jpg.rf.4c653b8105609146baeac3824726abf4.txt (deflated 38%)\n",
            "  adding: content/robo_chess-3/train/labels/20250602_131320_mp4-0012_jpg.rf.bebb64e2ef6b29db93110328b1a24ae5.txt (deflated 38%)\n",
            "  adding: content/robo_chess-3/train/labels/20250602_131320_mp4-0003_jpg.rf.00b7fb2ac46e42f7da2568bf43dc626a.txt (deflated 36%)\n",
            "  adding: content/robo_chess-3/train/labels/20250602_131615_mp4-0016_jpg.rf.db238d60e31ce921a1d9db54514f8833.txt (deflated 65%)\n",
            "  adding: content/robo_chess-3/train/labels/20250602_131257_mp4-0007_jpg.rf.4a108cd1665dedfbf58ecb19fdd3b04d.txt (deflated 62%)\n",
            "  adding: content/robo_chess-3/train/labels/20250530_145408_jpg.rf.1617bc8d275b8b9990de1b1fc2e2fdc7.txt (deflated 70%)\n",
            "  adding: content/robo_chess-3/train/labels/20250602_131615_mp4-0016_jpg.rf.66559bca17bafbd5a99c6336f34cd4cb.txt (deflated 65%)\n",
            "  adding: content/robo_chess-3/train/labels/20250602_131517_mp4-0008_jpg.rf.816ddaa3046f9cbde2e99e25fb7fc37c.txt (deflated 38%)\n",
            "  adding: content/robo_chess-3/train/labels/20250602_131427_mp4-0000_jpg.rf.6de53546757859e1719faf38b9062a84.txt (deflated 39%)\n",
            "  adding: content/robo_chess-3/train/labels/20250602_131448_mp4-0007_jpg.rf.dde096874791f78507539653c282ab67.txt (deflated 71%)\n",
            "  adding: content/robo_chess-3/train/labels/20250602_131320_mp4-0012_jpg.rf.8a713fd543d764a93454051d69decd7a.txt (deflated 30%)\n",
            "  adding: content/robo_chess-3/train/labels/20250602_131448_mp4-0007_jpg.rf.cdacee4566687ac4d2711a8973b02e84.txt (deflated 61%)\n",
            "  adding: content/robo_chess-3/train/labels/20250530_145439_jpg.rf.59e7d0b481a9805806560a7d603469e4.txt (deflated 50%)\n",
            "  adding: content/robo_chess-3/train/labels/20250602_131352_mp4-0010_jpg.rf.4ca98c4b5ea3003c7c0560ed756045f5.txt (deflated 36%)\n",
            "  adding: content/robo_chess-3/train/labels/20250602_131615_mp4-0016_jpg.rf.867fb2a6b5b4c6de7759d14db22bcec9.txt (deflated 67%)\n",
            "  adding: content/robo_chess-3/train/labels/20250602_131448_mp4-0008_jpg.rf.8649a78a3b6659934595d6321f44f6f2.txt (deflated 61%)\n",
            "  adding: content/robo_chess-3/train/labels/20250601_124015_jpg.rf.25548a1c76ff6e6cf12c1ae39976a12b.txt (deflated 68%)\n",
            "  adding: content/robo_chess-3/train/labels/20250602_131517_mp4-0006_jpg.rf.58e242ff0741fcb87c7150bc07eb73b4.txt (deflated 36%)\n",
            "  adding: content/robo_chess-3/train/labels/20250530_145445_jpg.rf.2011bc6c7b13afba3ea0ae9a54cc72b5.txt (deflated 53%)\n",
            "  adding: content/robo_chess-3/train/labels/20250530_145517_jpg.rf.2e6ead44d9b8f6348665e6632af6c6ff.txt (deflated 35%)\n",
            "  adding: content/robo_chess-3/train/labels/20250602_131427_mp4-0007_jpg.rf.5ecc16fb03df00b5ba3f9b48fb059587.txt (deflated 21%)\n",
            "  adding: content/robo_chess-3/train/labels/20250602_131517_mp4-0009_jpg.rf.5f6668ca8a209db8b7c42d85c277f131.txt (deflated 36%)\n",
            "  adding: content/robo_chess-3/train/labels/20250530_145517_jpg.rf.fe9089f4380198228fa02e4e6adbedcb.txt (deflated 17%)\n",
            "  adding: content/robo_chess-3/train/labels/20250602_131352_mp4-0011_jpg.rf.2d19e0321215d95871a1734b4067aa25.txt (deflated 23%)\n",
            "  adding: content/robo_chess-3/train/labels/20250602_131320_mp4-0011_jpg.rf.9e8d9c7060bd05edff416266d198d15e.txt (deflated 37%)\n",
            "  adding: content/robo_chess-3/train/labels/20250530_145457_jpg.rf.959a9cbf97e4a268763deb614e2d5207.txt (deflated 32%)\n",
            "  adding: content/robo_chess-3/train/labels/20250530_145445_jpg.rf.d89893e1328dcd37e48c8cae060bd676.txt (deflated 51%)\n",
            "  adding: content/robo_chess-3/train/labels/20250602_131615_mp4-0013_jpg.rf.1250044ba32f2e3d7b0fd7f5897b6484.txt (deflated 66%)\n",
            "  adding: content/robo_chess-3/train/labels/20250602_131257_mp4-0009_jpg.rf.663e00f8f2125e71cf0c1ffd4eb75470.txt (deflated 62%)\n",
            "  adding: content/robo_chess-3/train/labels/20250602_131517_mp4-0013_jpg.rf.a3333f339ccb6d23a63dcb06c588270b.txt (deflated 32%)\n",
            "  adding: content/robo_chess-3/train/labels/20250602_131257_mp4-0004_jpg.rf.cf261d73f4382835609d0467e520b470.txt (deflated 25%)\n",
            "  adding: content/robo_chess-3/train/labels/20250602_131427_mp4-0010_jpg.rf.3d0cee925f3cdbaa2688a45162241051.txt (deflated 60%)\n",
            "  adding: content/robo_chess-3/train/labels/20250601_123855_jpg.rf.7a705444454174c6f1e4d46e49ed46c4.txt (deflated 68%)\n",
            "  adding: content/robo_chess-3/train/labels/20250530_145552_jpg.rf.deeb8959b4f3c0aa3e2af59f07344b41.txt (deflated 41%)\n",
            "  adding: content/robo_chess-3/train/labels/20250530_145552_jpg.rf.fd99931ee91640373b7507f894d18def.txt (deflated 18%)\n",
            "  adding: content/robo_chess-3/train/labels/20250602_131615_mp4-0008_jpg.rf.4f69de17506860424cee467f5f51e478.txt (deflated 63%)\n",
            "  adding: content/robo_chess-3/train/labels/20250530_145327_jpg.rf.15ea50b6ae221bddd6bc8f022f418096.txt (deflated 70%)\n",
            "  adding: content/robo_chess-3/train/labels/20250601_123831_jpg.rf.faafa063bdf3efb64cad4ac6085950db.txt (deflated 70%)\n",
            "  adding: content/robo_chess-3/train/labels/20250602_131517_mp4-0013_jpg.rf.10b77c3756be4c63bb0b5a217b87f331.txt (deflated 15%)\n",
            "  adding: content/robo_chess-3/train/labels/20250530_145525_jpg.rf.da0e7aeea64605d4b825a6953e1828f0.txt (deflated 34%)\n",
            "  adding: content/robo_chess-3/train/labels/20250602_131352_mp4-0000_jpg.rf.0891770607826c384cd45952983560a2.txt (deflated 62%)\n",
            "  adding: content/robo_chess-3/train/labels/20250602_131615_mp4-0004_jpg.rf.0910394dcaebf823a25b730ecffd616f.txt (deflated 66%)\n",
            "  adding: content/robo_chess-3/train/labels/20250601_123831_jpg.rf.42083aa532f3379a7bd7c09e00fcd588.txt (deflated 69%)\n",
            "  adding: content/robo_chess-3/train/labels/20250601_123822_jpg.rf.89d47f06291381eb7d4480d55edc578b.txt (deflated 69%)\n",
            "  adding: content/robo_chess-3/train/labels/20250602_131427_mp4-0010_jpg.rf.b5bbd146200c4055d931eadcfaa8bac9.txt (deflated 61%)\n",
            "  adding: content/robo_chess-3/train/labels/20250602_131615_mp4-0003_jpg.rf.98095bc057f479d5f240c8a3762de742.txt (deflated 66%)\n",
            "  adding: content/robo_chess-3/train/labels/20250602_131427_mp4-0003_jpg.rf.adf0079cd94d0df914f629f902a0dba6.txt (deflated 23%)\n",
            "  adding: content/robo_chess-3/train/labels/20250602_131615_mp4-0012_jpg.rf.2e165116cf047848de3aaf7a5aebf84e.txt (deflated 63%)\n",
            "  adding: content/robo_chess-3/train/labels/20250601_123822_jpg.rf.76b07f41b1fd90aa57dea2831f81ac09.txt (deflated 69%)\n",
            "  adding: content/robo_chess-3/train/labels/20250602_131257_mp4-0007_jpg.rf.364da5eebb1c98be182b9853879c54b6.txt (deflated 69%)\n",
            "  adding: content/robo_chess-3/train/labels/20250602_131448_mp4-0003_jpg.rf.b547b7ea49acf377714b30091cc9a1a6.txt (deflated 15%)\n",
            "  adding: content/robo_chess-3/train/labels/20250602_131448_mp4-0005_jpg.rf.94c54695dd57c395fdb25129510c4104.txt (deflated 25%)\n",
            "  adding: content/robo_chess-3/train/labels/20250602_131615_mp4-0004_jpg.rf.9fad5c46abca78d844d9dfda57360b35.txt (deflated 64%)\n",
            "  adding: content/robo_chess-3/train/labels/20250602_131257_mp4-0010_jpg.rf.68c8135cd462f9c576051b2506bbd51d.txt (deflated 38%)\n",
            "  adding: content/robo_chess-3/train/labels/20250602_131517_mp4-0007_jpg.rf.c76611478329f94a9bf52bf8ee330860.txt (deflated 33%)\n",
            "  adding: content/robo_chess-3/train/labels/20250601_123954_jpg.rf.21248c4f81afff2efe806fd0c89a676b.txt (deflated 68%)\n",
            "  adding: content/robo_chess-3/train/labels/20250530_145412_jpg.rf.ff6d81277de02f084eeadabd8a3c3b9a.txt (deflated 68%)\n",
            "  adding: content/robo_chess-3/train/labels/20250602_131615_mp4-0005_jpg.rf.f58db40efeba9ef9bfb1c4b8f9596513.txt (deflated 65%)\n",
            "  adding: content/robo_chess-3/train/labels/20250602_131517_mp4-0001_jpg.rf.2f6dacc2f8d6a2f986027db3fda2a1f3.txt (deflated 21%)\n",
            "  adding: content/robo_chess-3/train/labels/20250601_123855_jpg.rf.4dd5621d383f15549507ebe6802d129e.txt (deflated 68%)\n",
            "  adding: content/robo_chess-3/train/labels/20250602_131517_mp4-0007_jpg.rf.1eb3a9047b0b2cd491b4135cee799179.txt (deflated 24%)\n",
            "  adding: content/robo_chess-3/train/labels/20250602_131320_mp4-0016_jpg.rf.4ecc7b0b735a175c33f340c8bce7611c.txt (deflated 38%)\n",
            "  adding: content/robo_chess-3/train/labels/20250602_131257_mp4-0000_jpg.rf.f2f10bb72d2c9f4ba062bf46e5501840.txt (deflated 70%)\n",
            "  adding: content/robo_chess-3/train/labels/20250602_131615_mp4-0014_jpg.rf.0bd4fefec4d9b91f90f5ab45879444ee.txt (deflated 67%)\n",
            "  adding: content/robo_chess-3/train/labels/20250601_123828_jpg.rf.0c9b8e9b9952a9a4d471e4406aabc1e0.txt (deflated 70%)\n",
            "  adding: content/robo_chess-3/train/labels/20250602_131352_mp4-0014_jpg.rf.03da59741d00e74fe39b3b8e1f4c856f.txt (deflated 44%)\n",
            "  adding: content/robo_chess-3/train/labels/20250602_131320_mp4-0003_jpg.rf.dc6ed7292a7159a76dfb217a023267e1.txt (deflated 30%)\n",
            "  adding: content/robo_chess-3/train/labels/20250530_145439_jpg.rf.639e480cfa4e0a526ae3d6e40bd6739c.txt (deflated 52%)\n",
            "  adding: content/robo_chess-3/train/labels/20250602_131448_mp4-0009_jpg.rf.c19c1d31e44edb44bd52e79150b0db0e.txt (deflated 59%)\n",
            "  adding: content/robo_chess-3/train/labels/20250530_145608_jpg.rf.870893b455d8ff87a34b94e91b3c9d7e.txt (deflated 36%)\n",
            "  adding: content/robo_chess-3/train/labels/20250602_131320_mp4-0014_jpg.rf.3f81b0498091358a6ce32f39b281a036.txt (deflated 18%)\n",
            "  adding: content/robo_chess-3/train/labels/20250601_123816_jpg.rf.974286e88ca0c0b85d7ce0ab064059e0.txt (deflated 69%)\n",
            "  adding: content/robo_chess-3/train/labels/20250601_123958_jpg.rf.f7133dc4f1f7fc6c9ce6c32ba14e975c.txt (deflated 72%)\n",
            "  adding: content/robo_chess-3/train/labels/20250530_145504_jpg.rf.0f574d9ee779451f0adf09595fc8fc6a.txt (deflated 38%)\n",
            "  adding: content/robo_chess-3/train/labels/20250602_131352_mp4-0001_jpg.rf.e41c375d56dca5bf74bb72c32e91326b.txt (deflated 61%)\n",
            "  adding: content/robo_chess-3/train/labels/20250530_145337_jpg.rf.afc9a19c7e1421b7d429ad5139b232b3.txt (deflated 69%)\n",
            "  adding: content/robo_chess-3/train/labels/20250530_145347_jpg.rf.5859deeba2cf7604540506652caed531.txt (deflated 72%)\n",
            "  adding: content/robo_chess-3/train/labels/20250602_131257_mp4-0007_jpg.rf.d8471a9c5a4c45de47f1bc0fb4de8308.txt (deflated 60%)\n",
            "  adding: content/robo_chess-3/train/labels/20250530_145430_jpg.rf.eeb01b5827c2b51620ff1bb3923ada4f.txt (deflated 52%)\n",
            "  adding: content/robo_chess-3/train/labels/20250602_131352_mp4-0002_jpg.rf.9b5835172babfb69d99718d06a213760.txt (deflated 71%)\n",
            "  adding: content/robo_chess-3/train/labels/20250602_131320_mp4-0008_jpg.rf.740841847edda99ab29768b83f26279c.txt (deflated 13%)\n",
            "  adding: content/robo_chess-3/train/labels/20250601_123958_jpg.rf.443428477ebd5399f4402288d520d4e5.txt (deflated 71%)\n",
            "  adding: content/robo_chess-3/train/labels/20250602_131320_mp4-0009_jpg.rf.2b393087d3dec2ae9ed84a3d3aeabd05.txt (deflated 19%)\n",
            "  adding: content/robo_chess-3/train/labels/20250601_124025_jpg.rf.c94d8fb3198baa73baa9d178bcd8d88b.txt (deflated 72%)\n",
            "  adding: content/robo_chess-3/train/labels/20250602_131320_mp4-0015_jpg.rf.2a7636de0079b17596c14d82a1ed9b19.txt (deflated 36%)\n",
            "  adding: content/robo_chess-3/train/labels/20250602_131448_mp4-0008_jpg.rf.15a29503b8f274628bd17b1f3ae5987a.txt (deflated 71%)\n",
            "  adding: content/robo_chess-3/train/labels/20250602_131352_mp4-0014_jpg.rf.8e5d9a6be53f33f62e129e21f416add5.txt (deflated 22%)\n",
            "  adding: content/robo_chess-3/train/labels/20250602_131448_mp4-0010_jpg.rf.900b172d56de656aec7a3170b7c86828.txt (deflated 35%)\n",
            "  adding: content/robo_chess-3/train/labels/20250530_145447_jpg.rf.ba5096482a2d8f05686ba4d42879aded.txt (deflated 54%)\n",
            "  adding: content/robo_chess-3/train/labels/20250601_124005_jpg.rf.ff5164f38a9d9e476c77ce3815d4574b.txt (deflated 68%)\n",
            "  adding: content/robo_chess-3/train/labels/20250530_145504_jpg.rf.8b70ff09d89cd51b279fa962f4b2c3fb.txt (deflated 33%)\n",
            "  adding: content/robo_chess-3/train/labels/20250602_131615_mp4-0005_jpg.rf.560cb16662a6e6a432b951fdf1a188a4.txt (deflated 63%)\n",
            "  adding: content/robo_chess-3/train/labels/20250602_131615_mp4-0004_jpg.rf.668f66e7f715728f7f05b1167285bd62.txt (deflated 69%)\n",
            "  adding: content/robo_chess-3/train/labels/20250602_131320_mp4-0003_jpg.rf.2ae214ed9d892efbf575f741bc75a54d.txt (deflated 15%)\n",
            "  adding: content/robo_chess-3/train/labels/20250530_145327_jpg.rf.1fe5631b93384f2b3de7313ef8f5f215.txt (deflated 72%)\n",
            "  adding: content/robo_chess-3/train/labels/20250602_131320_mp4-0007_jpg.rf.978c33766a80d8df4ab15315f20b944d.txt (deflated 18%)\n",
            "  adding: content/robo_chess-3/train/labels/20250602_131517_mp4-0011_jpg.rf.81dcf0223f371eacf2a718b86a65c54e.txt (deflated 36%)\n",
            "  adding: content/robo_chess-3/train/labels/20250602_131257_mp4-0008_jpg.rf.8041c4a0a07732f6893ba253aad0fd19.txt (deflated 16%)\n",
            "  adding: content/robo_chess-3/train/labels/20250601_123950_jpg.rf.8a78e99e9e21e319993b4bf8f2c100bd.txt (deflated 72%)\n",
            "  adding: content/robo_chess-3/train/labels/20250530_145457_jpg.rf.1931a1caa9c991134c8d9bc4e7d9eb9d.txt (deflated 34%)\n",
            "  adding: content/robo_chess-3/train/labels/20250602_131257_mp4-0013_jpg.rf.b1e76304668bf87d3ada82b0f6f05eb5.txt (deflated 63%)\n",
            "  adding: content/robo_chess-3/train/labels/20250530_145337_jpg.rf.72fea33f7d1acdcaa4d7e5eb7726f223.txt (deflated 68%)\n",
            "  adding: content/robo_chess-3/train/labels/20250602_131320_mp4-0012_jpg.rf.ef6bd3bec4c9e66fe863154437268ec6.txt (deflated 20%)\n",
            "  adding: content/robo_chess-3/train/labels/20250602_131517_mp4-0007_jpg.rf.c4f9b829ab833f9bcca256f5e070f036.txt (deflated 36%)\n",
            "  adding: content/robo_chess-3/train/labels/20250602_131257_mp4-0010_jpg.rf.f92fd9c08abc7bc6445638215faffbba.txt (deflated 35%)\n",
            "  adding: content/robo_chess-3/train/labels/20250602_131517_mp4-0001_jpg.rf.249cbd0af93e4e057724e3ea25ce7c35.txt (deflated 36%)\n",
            "  adding: content/robo_chess-3/train/labels/20250601_124019_jpg.rf.bcdaa1704a76fb7ecaa5654c95d14bab.txt (deflated 68%)\n",
            "  adding: content/robo_chess-3/train/labels/20250602_131320_mp4-0013_jpg.rf.b4cd4e940ccd01d5e5bf78611b8f80a8.txt (deflated 61%)\n",
            "  adding: content/robo_chess-3/train/labels/20250602_131615_mp4-0002_jpg.rf.f11dd0d73821ec37845032d1745a7c80.txt (deflated 66%)\n",
            "  adding: content/robo_chess-3/train/labels/20250602_131257_mp4-0011_jpg.rf.6b6b48f8f13c82c05e4d06de7b7095a7.txt (deflated 20%)\n",
            "  adding: content/robo_chess-3/train/labels/20250602_131615_mp4-0006_jpg.rf.1ca8e8667b7e8b489eb237121db31cb9.txt (deflated 63%)\n",
            "  adding: content/robo_chess-3/train/labels/20250602_131517_mp4-0011_jpg.rf.3a3734d38603bbbb562debdda50c250c.txt (deflated 35%)\n",
            "  adding: content/robo_chess-3/train/labels/20250601_124001_jpg.rf.4cae51227962acc055db234345f4dd8f.txt (deflated 73%)\n",
            "  adding: content/robo_chess-3/train/labels/20250602_131257_mp4-0004_jpg.rf.c4779ad0baef6100508a864cdbc6c020.txt (deflated 35%)\n",
            "  adding: content/robo_chess-3/train/labels/20250602_131615_mp4-0012_jpg.rf.60ad2523ae25e887d1238a9ef8f5deed.txt (deflated 65%)\n",
            "  adding: content/robo_chess-3/train/labels/20250602_131427_mp4-0003_jpg.rf.578555e70143cb20ff4aa5350825e1a1.txt (deflated 40%)\n",
            "  adding: content/robo_chess-3/train/labels/20250530_145337_jpg.rf.8a7111e234504a951ec65d5b4fc4be9b.txt (deflated 72%)\n",
            "  adding: content/robo_chess-3/train/labels/20250530_145405_jpg.rf.eea6c64d287e8d3f89c76a5bdfd8247c.txt (deflated 71%)\n",
            "  adding: content/robo_chess-3/train/labels/20250602_131427_mp4-0003_jpg.rf.d3de28975080b63548d901e86e4acd5b.txt (deflated 26%)\n",
            "  adding: content/robo_chess-3/train/labels/20250530_145608_jpg.rf.952cf4bfd692942f0313c86f47695d6e.txt (deflated 27%)\n",
            "  adding: content/robo_chess-3/train/labels/20250602_131615_mp4-0003_jpg.rf.a3123c256f8f36ad7c5f3c8ef6a9f2a5.txt (deflated 67%)\n",
            "  adding: content/robo_chess-3/train/labels/20250530_145340_jpg.rf.925c6bb6e90591c682c9203b9f9f039a.txt (deflated 72%)\n",
            "  adding: content/robo_chess-3/train/labels/20250602_131352_mp4-0014_jpg.rf.c9f3a41b738466874dace2cbf79f22af.txt (deflated 36%)\n",
            "  adding: content/robo_chess-3/train/labels/20250602_131257_mp4-0014_jpg.rf.2aa7e61d46a1eb9e46ecd08504434fa8.txt (deflated 16%)\n",
            "  adding: content/robo_chess-3/train/labels/20250602_131257_mp4-0014_jpg.rf.d89a8fa1fad14ff9dd9d42a06c624131.txt (deflated 25%)\n",
            "  adding: content/robo_chess-3/train/labels/20250602_131352_mp4-0010_jpg.rf.343703b55e4faaa8491009f421216fba.txt (deflated 18%)\n",
            "  adding: content/robo_chess-3/train/labels/20250601_123950_jpg.rf.622de8a960e7a19f43aeeb9008decf62.txt (deflated 68%)\n",
            "  adding: content/robo_chess-3/train/labels/20250602_131615_mp4-0010_jpg.rf.6e630c99f3343751b3abd48ddda80206.txt (deflated 64%)\n",
            "  adding: content/robo_chess-3/train/labels/20250602_131517_mp4-0009_jpg.rf.3362c782141f82f1633b7abbe1390b7a.txt (deflated 13%)\n",
            "  adding: content/robo_chess-3/train/labels/20250530_145408_jpg.rf.84de1f52423ddbfbbd5d57335a847fb5.txt (deflated 72%)\n",
            "  adding: content/robo_chess-3/train/labels/20250601_124019_jpg.rf.9fed76d60d27d38c3ed9d446a0a17ef1.txt (deflated 72%)\n",
            "  adding: content/robo_chess-3/train/labels/20250601_123841_jpg.rf.4f2469b418fa695c1bf717d3a952970e.txt (deflated 71%)\n",
            "  adding: content/robo_chess-3/train/labels/20250601_123845_jpg.rf.0bae973db3bd612e3aab07c9fd20b057.txt (deflated 69%)\n",
            "  adding: content/robo_chess-3/train/labels/20250602_131517_mp4-0009_jpg.rf.10b44ba70d8ecd55c9459d88de725b75.txt (deflated 38%)\n",
            "  adding: content/robo_chess-3/train/labels/20250530_145315_jpg.rf.e85025e7e1b4c444cbfe2644c135c209.txt (deflated 69%)\n",
            "  adding: content/robo_chess-3/train/labels/20250602_131352_mp4-0003_jpg.rf.8b97196f24d5fd95250bd57d78d07dc1.txt (deflated 32%)\n",
            "  adding: content/robo_chess-3/train/labels/20250602_131352_mp4-0010_jpg.rf.f069df15fefec0f2e250db5d713c241d.txt (deflated 35%)\n",
            "  adding: content/robo_chess-3/train/labels/20250602_131427_mp4-0004_jpg.rf.379b221989b91dc19337d3a899cd8763.txt (deflated 18%)\n",
            "  adding: content/robo_chess-3/train/labels/20250602_131517_mp4-0012_jpg.rf.c0bd321555196158b6960cd828226e02.txt (deflated 38%)\n",
            "  adding: content/robo_chess-3/train/labels/20250601_123816_jpg.rf.f966a92497ac49255e32826e57f1d7d3.txt (deflated 73%)\n",
            "  adding: content/robo_chess-3/train/labels/20250601_123822_jpg.rf.7c1dfd1d31b9c3b6605145a0e7bc1374.txt (deflated 73%)\n",
            "  adding: content/robo_chess-3/train/labels/20250530_145315_jpg.rf.0e73df1676898ccb556f77e2a51a0d94.txt (deflated 74%)\n",
            "  adding: content/robo_chess-3/train/labels/20250602_131448_mp4-0008_jpg.rf.82c540342719b00678b03b794fc9b086.txt (deflated 61%)\n",
            "  adding: content/robo_chess-3/train/labels/20250602_131615_mp4-0014_jpg.rf.95941f40b0ca533d7e4dba690836b107.txt (deflated 65%)\n",
            "  adding: content/robo_chess-3/train/labels/20250530_145412_jpg.rf.64452bfb3de4b33b7be8fec89d50ec5f.txt (deflated 68%)\n",
            "  adding: content/robo_chess-3/train/labels/20250602_131257_mp4-0008_jpg.rf.682523eaf336aaade22518f011ac5d96.txt (deflated 35%)\n",
            "  adding: content/robo_chess-3/train/labels/20250602_131427_mp4-0006_jpg.rf.e9d250f8f854e1bc7f02a42aad07b17d.txt (deflated 60%)\n",
            "  adding: content/robo_chess-3/train/labels/20250602_131352_mp4-0015_jpg.rf.f753b2ce2a8028285d3cd6528d5f8ba0.txt (deflated 36%)\n",
            "  adding: content/robo_chess-3/train/labels/20250530_145504_jpg.rf.1a8cecf7afe88df7859aa3c68292f3e1.txt (deflated 33%)\n",
            "  adding: content/robo_chess-3/train/labels/20250602_131257_mp4-0000_jpg.rf.6bef853c7ac772c24de3959327d8bc16.txt (deflated 60%)\n",
            "  adding: content/robo_chess-3/train/labels/20250601_123826_jpg.rf.3ba1d57ff2a516fb874e7733b7363df5.txt (deflated 69%)\n",
            "  adding: content/robo_chess-3/train/labels/20250602_131615_mp4-0011_jpg.rf.a71783d818dc8c3104a0454d83d0951e.txt (deflated 63%)\n",
            "  adding: content/robo_chess-3/train/labels/20250601_123826_jpg.rf.030810dbe0db5fa765dc6bbbdf8bef04.txt (deflated 73%)\n",
            "  adding: content/robo_chess-3/train/labels/20250602_131615_mp4-0001_jpg.rf.e3b0446dcabcd5cfe21cae04cfedcacb.txt (deflated 69%)\n",
            "  adding: content/robo_chess-3/train/labels/20250602_131257_mp4-0009_jpg.rf.9320342af73cd2f4d8d7a43b58fd9604.txt (deflated 73%)\n",
            "  adding: content/robo_chess-3/train/labels/20250602_131615_mp4-0005_jpg.rf.0abac8430701d1c94d4adf6b3ddab01b.txt (deflated 64%)\n",
            "  adding: content/robo_chess-3/train/labels/20250602_131352_mp4-0001_jpg.rf.979da706445c8ff3b4d9dce43e8f7906.txt (deflated 71%)\n",
            "  adding: content/robo_chess-3/train/labels/20250602_131352_mp4-0012_jpg.rf.083c59c7dfd2fcf1528b109412e53888.txt (deflated 22%)\n",
            "  adding: content/robo_chess-3/train/labels/20250530_145327_jpg.rf.bf93512a1094a6d9494ab1d2b4cfcd01.txt (deflated 69%)\n",
            "  adding: content/robo_chess-3/train/labels/20250602_131320_mp4-0009_jpg.rf.3865e9a623d7e5b1229db57b380de77e.txt (deflated 41%)\n",
            "  adding: content/robo_chess-3/train/labels/20250602_131352_mp4-0015_jpg.rf.499eee2f876fccd8e981186cee117df0.txt (deflated 18%)\n",
            "  adding: content/robo_chess-3/train/labels/20250602_131448_mp4-0002_jpg.rf.768af1aa340aece8847cefa8f7b724b1.txt (deflated 24%)\n",
            "  adding: content/robo_chess-3/train/labels/20250602_131352_mp4-0005_jpg.rf.01e92bc5a365c36c7c3985a65dd021ed.txt (deflated 28%)\n",
            "  adding: content/robo_chess-3/train/labels/20250602_131517_mp4-0003_jpg.rf.c9b45af8cdb92e0b1f62b4ec93e9ca4d.txt (deflated 12%)\n",
            "  adding: content/robo_chess-3/train/labels/20250602_131352_mp4-0002_jpg.rf.7a6e4fc72e932f428e2a485e3a2ef6b0.txt (deflated 61%)\n",
            "  adding: content/robo_chess-3/train/images/ (stored 0%)\n",
            "  adding: content/robo_chess-3/train/images/20250602_131615_mp4-0015_jpg.rf.544ca7b09cd1db0dd5feb4162181ebc9.jpg (deflated 1%)\n",
            "  adding: content/robo_chess-3/train/images/20250530_145430_jpg.rf.eeb01b5827c2b51620ff1bb3923ada4f.jpg (deflated 1%)\n",
            "  adding: content/robo_chess-3/train/images/20250602_131320_mp4-0014_jpg.rf.0eaad7876ec3d26b99d54b197d63728a.jpg (deflated 2%)\n",
            "  adding: content/robo_chess-3/train/images/20250530_145439_jpg.rf.639e480cfa4e0a526ae3d6e40bd6739c.jpg (deflated 1%)\n",
            "  adding: content/robo_chess-3/train/images/20250602_131257_mp4-0010_jpg.rf.c1b5cb71586c53b54c35050404252367.jpg (deflated 1%)\n",
            "  adding: content/robo_chess-3/train/images/20250530_145504_jpg.rf.1a8cecf7afe88df7859aa3c68292f3e1.jpg (deflated 0%)\n",
            "  adding: content/robo_chess-3/train/images/20250602_131427_mp4-0004_jpg.rf.379b221989b91dc19337d3a899cd8763.jpg (deflated 1%)\n",
            "  adding: content/robo_chess-3/train/images/20250602_131615_mp4-0015_jpg.rf.d329eb833b4ae116dc3590943ae38b8e.jpg (deflated 1%)\n",
            "  adding: content/robo_chess-3/train/images/20250602_131320_mp4-0007_jpg.rf.6bec5d928616c62f3eab062d8037ef77.jpg (deflated 2%)\n",
            "  adding: content/robo_chess-3/train/images/20250601_123855_jpg.rf.4dd5621d383f15549507ebe6802d129e.jpg (deflated 0%)\n",
            "  adding: content/robo_chess-3/train/images/20250602_131615_mp4-0008_jpg.rf.77988df26d195448813a550f19df313e.jpg (deflated 2%)\n",
            "  adding: content/robo_chess-3/train/images/20250601_124005_jpg.rf.ff5164f38a9d9e476c77ce3815d4574b.jpg (deflated 1%)\n",
            "  adding: content/robo_chess-3/train/images/20250602_131615_mp4-0003_jpg.rf.a3123c256f8f36ad7c5f3c8ef6a9f2a5.jpg (deflated 2%)\n",
            "  adding: content/robo_chess-3/train/images/20250602_131320_mp4-0003_jpg.rf.dc6ed7292a7159a76dfb217a023267e1.jpg (deflated 1%)\n",
            "  adding: content/robo_chess-3/train/images/20250602_131517_mp4-0001_jpg.rf.cea97e3639845c78f96881b07ae28ccc.jpg (deflated 2%)\n",
            "  adding: content/robo_chess-3/train/images/20250602_131517_mp4-0008_jpg.rf.5e793704621cecfad889bb415505d005.jpg (deflated 1%)\n",
            "  adding: content/robo_chess-3/train/images/20250530_145447_jpg.rf.0cd13bfbca80acca1b881a2d1797695c.jpg (deflated 1%)\n",
            "  adding: content/robo_chess-3/train/images/20250602_131257_mp4-0007_jpg.rf.d8471a9c5a4c45de47f1bc0fb4de8308.jpg (deflated 1%)\n",
            "  adding: content/robo_chess-3/train/images/20250602_131615_mp4-0012_jpg.rf.60ad2523ae25e887d1238a9ef8f5deed.jpg (deflated 1%)\n",
            "  adding: content/robo_chess-3/train/images/20250602_131257_mp4-0004_jpg.rf.cf261d73f4382835609d0467e520b470.jpg (deflated 1%)\n",
            "  adding: content/robo_chess-3/train/images/20250530_145457_jpg.rf.1931a1caa9c991134c8d9bc4e7d9eb9d.jpg (deflated 1%)\n",
            "  adding: content/robo_chess-3/train/images/20250602_131517_mp4-0003_jpg.rf.f7fb2b5c586cea30d8ca659a05900f3a.jpg (deflated 1%)\n",
            "  adding: content/robo_chess-3/train/images/20250530_145447_jpg.rf.ba5096482a2d8f05686ba4d42879aded.jpg (deflated 1%)\n",
            "  adding: content/robo_chess-3/train/images/20250602_131352_mp4-0002_jpg.rf.7a6e4fc72e932f428e2a485e3a2ef6b0.jpg (deflated 2%)\n",
            "  adding: content/robo_chess-3/train/images/20250602_131352_mp4-0005_jpg.rf.41761914e28ca1821cec004acdaab57a.jpg (deflated 2%)\n",
            "  adding: content/robo_chess-3/train/images/20250530_145430_jpg.rf.519122e7980028bae25aeb4d7b331792.jpg (deflated 0%)\n",
            "  adding: content/robo_chess-3/train/images/20250602_131517_mp4-0013_jpg.rf.a3333f339ccb6d23a63dcb06c588270b.jpg (deflated 2%)\n",
            "  adding: content/robo_chess-3/train/images/20250530_145504_jpg.rf.8b70ff09d89cd51b279fa962f4b2c3fb.jpg (deflated 0%)\n",
            "  adding: content/robo_chess-3/train/images/20250602_131320_mp4-0013_jpg.rf.89052095fb93c74fe9a6f61b09d2fa6c.jpg (deflated 1%)\n",
            "  adding: content/robo_chess-3/train/images/20250601_123841_jpg.rf.d42d7334110c9ed28d0aaf6bfaa5891a.jpg (deflated 0%)\n",
            "  adding: content/robo_chess-3/train/images/20250602_131615_mp4-0016_jpg.rf.db238d60e31ce921a1d9db54514f8833.jpg (deflated 1%)\n",
            "  adding: content/robo_chess-3/train/images/20250601_124015_jpg.rf.25548a1c76ff6e6cf12c1ae39976a12b.jpg (deflated 1%)\n",
            "  adding: content/robo_chess-3/train/images/20250601_123822_jpg.rf.7c1dfd1d31b9c3b6605145a0e7bc1374.jpg (deflated 0%)\n",
            "  adding: content/robo_chess-3/train/images/20250602_131427_mp4-0012_jpg.rf.c14b876b1124af97158323618a1c7f78.jpg (deflated 1%)\n",
            "  adding: content/robo_chess-3/train/images/20250601_124005_jpg.rf.b5ca7a34c677f08e15135f520f0f170b.jpg (deflated 0%)\n",
            "  adding: content/robo_chess-3/train/images/20250602_131257_mp4-0000_jpg.rf.fe6cb42d03a34607fb56249981c60ca8.jpg (deflated 2%)\n",
            "  adding: content/robo_chess-3/train/images/20250602_131517_mp4-0008_jpg.rf.671c928d6a53e651b75626cee9600e74.jpg (deflated 1%)\n",
            "  adding: content/robo_chess-3/train/images/20250602_131257_mp4-0000_jpg.rf.6bef853c7ac772c24de3959327d8bc16.jpg (deflated 1%)\n",
            "  adding: content/robo_chess-3/train/images/20250602_131320_mp4-0009_jpg.rf.2b393087d3dec2ae9ed84a3d3aeabd05.jpg (deflated 1%)\n",
            "  adding: content/robo_chess-3/train/images/20250602_131517_mp4-0011_jpg.rf.3a3734d38603bbbb562debdda50c250c.jpg (deflated 2%)\n",
            "  adding: content/robo_chess-3/train/images/20250602_131352_mp4-0006_jpg.rf.77b87cc2c4ef444e5bbd5879b2670795.jpg (deflated 1%)\n",
            "  adding: content/robo_chess-3/train/images/20250602_131517_mp4-0007_jpg.rf.c4f9b829ab833f9bcca256f5e070f036.jpg (deflated 1%)\n",
            "  adding: content/robo_chess-3/train/images/20250602_131448_mp4-0007_jpg.rf.dde096874791f78507539653c282ab67.jpg (deflated 1%)\n",
            "  adding: content/robo_chess-3/train/images/20250602_131517_mp4-0001_jpg.rf.2f6dacc2f8d6a2f986027db3fda2a1f3.jpg (deflated 1%)\n",
            "  adding: content/robo_chess-3/train/images/20250602_131257_mp4-0009_jpg.rf.663e00f8f2125e71cf0c1ffd4eb75470.jpg (deflated 2%)\n",
            "  adding: content/robo_chess-3/train/images/20250601_123855_jpg.rf.eab028c74d86dacf684c02e6d4a3f841.jpg (deflated 0%)\n",
            "  adding: content/robo_chess-3/train/images/20250601_123954_jpg.rf.21248c4f81afff2efe806fd0c89a676b.jpg (deflated 1%)\n",
            "  adding: content/robo_chess-3/train/images/20250530_145405_jpg.rf.eea6c64d287e8d3f89c76a5bdfd8247c.jpg (deflated 0%)\n",
            "  adding: content/robo_chess-3/train/images/20250601_124001_jpg.rf.934315736a161b2cdcfb58a9e6fafe22.jpg (deflated 1%)\n",
            "  adding: content/robo_chess-3/train/images/20250601_123831_jpg.rf.42083aa532f3379a7bd7c09e00fcd588.jpg (deflated 1%)\n",
            "  adding: content/robo_chess-3/train/images/20250602_131352_mp4-0011_jpg.rf.2d19e0321215d95871a1734b4067aa25.jpg (deflated 1%)\n",
            "  adding: content/robo_chess-3/train/images/20250602_131615_mp4-0003_jpg.rf.49026bc928692c5e4fe308f59de80d6e.jpg (deflated 1%)\n",
            "  adding: content/robo_chess-3/train/images/20250602_131352_mp4-0010_jpg.rf.343703b55e4faaa8491009f421216fba.jpg (deflated 1%)\n",
            "  adding: content/robo_chess-3/train/images/20250602_131257_mp4-0011_jpg.rf.6b6b48f8f13c82c05e4d06de7b7095a7.jpg (deflated 2%)\n",
            "  adding: content/robo_chess-3/train/images/20250602_131517_mp4-0012_jpg.rf.c0bd321555196158b6960cd828226e02.jpg (deflated 2%)\n",
            "  adding: content/robo_chess-3/train/images/20250602_131615_mp4-0011_jpg.rf.974112bce0da9851956a00bf357a22de.jpg (deflated 1%)\n",
            "  adding: content/robo_chess-3/train/images/20250602_131448_mp4-0009_jpg.rf.c19c1d31e44edb44bd52e79150b0db0e.jpg (deflated 1%)\n",
            "  adding: content/robo_chess-3/train/images/20250530_145517_jpg.rf.5e13e641c41b4f54d6a81e3bb95283ee.jpg (deflated 1%)\n",
            "  adding: content/robo_chess-3/train/images/20250602_131615_mp4-0006_jpg.rf.e1a8ebf51f08397f13c36eb00f05b1fb.jpg (deflated 1%)\n",
            "  adding: content/robo_chess-3/train/images/20250530_145337_jpg.rf.72fea33f7d1acdcaa4d7e5eb7726f223.jpg (deflated 1%)\n",
            "  adding: content/robo_chess-3/train/images/20250601_123828_jpg.rf.3d532af9cd60327c342837090cbaf171.jpg (deflated 0%)\n",
            "  adding: content/robo_chess-3/train/images/20250601_123828_jpg.rf.f6c5aafe5a2589442364ba7bdbc3849b.jpg (deflated 0%)\n",
            "  adding: content/robo_chess-3/train/images/20250602_131320_mp4-0014_jpg.rf.3f81b0498091358a6ce32f39b281a036.jpg (deflated 1%)\n",
            "  adding: content/robo_chess-3/train/images/20250602_131615_mp4-0011_jpg.rf.a71783d818dc8c3104a0454d83d0951e.jpg (deflated 1%)\n",
            "  adding: content/robo_chess-3/train/images/20250530_145337_jpg.rf.8a7111e234504a951ec65d5b4fc4be9b.jpg (deflated 0%)\n",
            "  adding: content/robo_chess-3/train/images/20250530_145405_jpg.rf.4937ff8a6535d275910e5686c3b193ea.jpg (deflated 0%)\n",
            "  adding: content/robo_chess-3/train/images/20250602_131257_mp4-0008_jpg.rf.682523eaf336aaade22518f011ac5d96.jpg (deflated 1%)\n",
            "  adding: content/robo_chess-3/train/images/20250601_123958_jpg.rf.f7133dc4f1f7fc6c9ce6c32ba14e975c.jpg (deflated 0%)\n",
            "  adding: content/robo_chess-3/train/images/20250530_145445_jpg.rf.d89893e1328dcd37e48c8cae060bd676.jpg (deflated 1%)\n",
            "  adding: content/robo_chess-3/train/images/20250602_131427_mp4-0005_jpg.rf.8c567832d9ef19176c1ddc02a5db1452.jpg (deflated 2%)\n",
            "  adding: content/robo_chess-3/train/images/20250602_131257_mp4-0014_jpg.rf.2aa7e61d46a1eb9e46ecd08504434fa8.jpg (deflated 1%)\n",
            "  adding: content/robo_chess-3/train/images/20250530_145608_jpg.rf.952cf4bfd692942f0313c86f47695d6e.jpg (deflated 0%)\n",
            "  adding: content/robo_chess-3/train/images/20250602_131320_mp4-0008_jpg.rf.d6af6068e1520442836256fd3fae2ffb.jpg (deflated 2%)\n",
            "  adding: content/robo_chess-3/train/images/20250602_131615_mp4-0016_jpg.rf.867fb2a6b5b4c6de7759d14db22bcec9.jpg (deflated 1%)\n",
            "  adding: content/robo_chess-3/train/images/20250602_131615_mp4-0003_jpg.rf.98095bc057f479d5f240c8a3762de742.jpg (deflated 2%)\n",
            "  adding: content/robo_chess-3/train/images/20250602_131517_mp4-0009_jpg.rf.5f6668ca8a209db8b7c42d85c277f131.jpg (deflated 2%)\n",
            "  adding: content/robo_chess-3/train/images/20250602_131448_mp4-0008_jpg.rf.8649a78a3b6659934595d6321f44f6f2.jpg (deflated 1%)\n",
            "  adding: content/robo_chess-3/train/images/20250530_145552_jpg.rf.deeb8959b4f3c0aa3e2af59f07344b41.jpg (deflated 1%)\n",
            "  adding: content/robo_chess-3/train/images/20250602_131615_mp4-0012_jpg.rf.9818ab3558f38c247fe16787cf1e7885.jpg (deflated 1%)\n",
            "  adding: content/robo_chess-3/train/images/20250530_145439_jpg.rf.3a061e126344286114e179a2a431239e.jpg (deflated 1%)\n",
            "  adding: content/robo_chess-3/train/images/20250602_131257_mp4-0003_jpg.rf.a2da4507fe3aadda2b875430ffc73f53.jpg (deflated 2%)\n",
            "  adding: content/robo_chess-3/train/images/20250602_131352_mp4-0000_jpg.rf.0891770607826c384cd45952983560a2.jpg (deflated 2%)\n",
            "  adding: content/robo_chess-3/train/images/20250602_131448_mp4-0005_jpg.rf.94c54695dd57c395fdb25129510c4104.jpg (deflated 1%)\n",
            "  adding: content/robo_chess-3/train/images/20250602_131352_mp4-0015_jpg.rf.4a93d089723cbff40e1511189709a4dc.jpg (deflated 3%)\n",
            "  adding: content/robo_chess-3/train/images/20250602_131615_mp4-0001_jpg.rf.b1c4bf2f2a133537ae03377d501b0dfd.jpg (deflated 1%)\n",
            "  adding: content/robo_chess-3/train/images/20250602_131448_mp4-0002_jpg.rf.868dcfd5bdfbed26d8c4742341b87ef0.jpg (deflated 1%)\n",
            "  adding: content/robo_chess-3/train/images/20250602_131615_mp4-0012_jpg.rf.2e165116cf047848de3aaf7a5aebf84e.jpg (deflated 1%)\n",
            "  adding: content/robo_chess-3/train/images/20250602_131352_mp4-0001_jpg.rf.e41c375d56dca5bf74bb72c32e91326b.jpg (deflated 2%)\n",
            "  adding: content/robo_chess-3/train/images/20250602_131427_mp4-0006_jpg.rf.38fc8afe239dff6addd1fa6243bc49dd.jpg (deflated 1%)\n",
            "  adding: content/robo_chess-3/train/images/20250602_131320_mp4-0008_jpg.rf.740841847edda99ab29768b83f26279c.jpg (deflated 1%)\n",
            "  adding: content/robo_chess-3/train/images/20250602_131615_mp4-0006_jpg.rf.1ca8e8667b7e8b489eb237121db31cb9.jpg (deflated 1%)\n",
            "  adding: content/robo_chess-3/train/images/20250602_131615_mp4-0002_jpg.rf.201a80ffd44c1aa7cd4900fb52ecd0a0.jpg (deflated 1%)\n",
            "  adding: content/robo_chess-3/train/images/20250602_131257_mp4-0014_jpg.rf.7c5cdb5a48b7da16e16cd94741bf9313.jpg (deflated 1%)\n",
            "  adding: content/robo_chess-3/train/images/20250602_131352_mp4-0015_jpg.rf.f753b2ce2a8028285d3cd6528d5f8ba0.jpg (deflated 2%)\n",
            "  adding: content/robo_chess-3/train/images/20250530_145520_jpg.rf.3130b131618c0b61b1ff3561cfdae65b.jpg (deflated 0%)\n",
            "  adding: content/robo_chess-3/train/images/20250601_124001_jpg.rf.4cae51227962acc055db234345f4dd8f.jpg (deflated 0%)\n",
            "  adding: content/robo_chess-3/train/images/20250530_145405_jpg.rf.9a078edeefda129b9b19d9d5e087df46.jpg (deflated 1%)\n",
            "  adding: content/robo_chess-3/train/images/20250602_131448_mp4-0009_jpg.rf.21fe5797431f74a12e54f025a7d4c445.jpg (deflated 2%)\n",
            "  adding: content/robo_chess-3/train/images/20250602_131427_mp4-0004_jpg.rf.b20890cff79f2f61fa7780afe2366e66.jpg (deflated 2%)\n",
            "  adding: content/robo_chess-3/train/images/20250602_131448_mp4-0003_jpg.rf.b547b7ea49acf377714b30091cc9a1a6.jpg (deflated 1%)\n",
            "  adding: content/robo_chess-3/train/images/20250602_131615_mp4-0010_jpg.rf.6e630c99f3343751b3abd48ddda80206.jpg (deflated 1%)\n",
            "  adding: content/robo_chess-3/train/images/20250602_131257_mp4-0013_jpg.rf.b1e76304668bf87d3ada82b0f6f05eb5.jpg (deflated 2%)\n",
            "  adding: content/robo_chess-3/train/images/20250602_131257_mp4-0009_jpg.rf.9320342af73cd2f4d8d7a43b58fd9604.jpg (deflated 1%)\n",
            "  adding: content/robo_chess-3/train/images/20250602_131257_mp4-0007_jpg.rf.364da5eebb1c98be182b9853879c54b6.jpg (deflated 1%)\n",
            "  adding: content/robo_chess-3/train/images/20250602_131352_mp4-0015_jpg.rf.499eee2f876fccd8e981186cee117df0.jpg (deflated 2%)\n",
            "  adding: content/robo_chess-3/train/images/20250602_131615_mp4-0005_jpg.rf.f58db40efeba9ef9bfb1c4b8f9596513.jpg (deflated 1%)\n",
            "  adding: content/robo_chess-3/train/images/20250602_131257_mp4-0013_jpg.rf.998ae22223cdb2317ff852890d8c7e71.jpg (deflated 2%)\n",
            "  adding: content/robo_chess-3/train/images/20250530_145457_jpg.rf.03696ad742953b8819411b4228cb7824.jpg (deflated 0%)\n",
            "  adding: content/robo_chess-3/train/images/20250601_123831_jpg.rf.0888e3547dd8cdaed916bce8d385da4a.jpg (deflated 0%)\n",
            "  adding: content/robo_chess-3/train/images/20250602_131517_mp4-0012_jpg.rf.e1375c740a95fc442961dacba3c7b582.jpg (deflated 2%)\n",
            "  adding: content/robo_chess-3/train/images/20250602_131352_mp4-0010_jpg.rf.f069df15fefec0f2e250db5d713c241d.jpg (deflated 2%)\n",
            "  adding: content/robo_chess-3/train/images/20250530_145327_jpg.rf.1fe5631b93384f2b3de7313ef8f5f215.jpg (deflated 0%)\n",
            "  adding: content/robo_chess-3/train/images/20250602_131352_mp4-0000_jpg.rf.9a86707fcf7c0081daebe1a0811886f2.jpg (deflated 1%)\n",
            "  adding: content/robo_chess-3/train/images/20250602_131427_mp4-0005_jpg.rf.e58f44bd519c5646485c2a2750371a5a.jpg (deflated 1%)\n",
            "  adding: content/robo_chess-3/train/images/20250602_131352_mp4-0000_jpg.rf.cf5f18dd42732574ad053c2cd1b00dda.jpg (deflated 1%)\n",
            "  adding: content/robo_chess-3/train/images/20250602_131427_mp4-0003_jpg.rf.578555e70143cb20ff4aa5350825e1a1.jpg (deflated 2%)\n",
            "  adding: content/robo_chess-3/train/images/20250602_131352_mp4-0001_jpg.rf.afa3e35047ed46f59b518bf128a47b93.jpg (deflated 1%)\n",
            "  adding: content/robo_chess-3/train/images/20250602_131448_mp4-0010_jpg.rf.900b172d56de656aec7a3170b7c86828.jpg (deflated 2%)\n",
            "  adding: content/robo_chess-3/train/images/20250602_131257_mp4-0009_jpg.rf.3bc203e4b557ef5369f3ac244681d67e.jpg (deflated 1%)\n",
            "  adding: content/robo_chess-3/train/images/20250602_131448_mp4-0003_jpg.rf.881639602d1fdfa75cf88a7794cf34b8.jpg (deflated 1%)\n",
            "  adding: content/robo_chess-3/train/images/20250530_145552_jpg.rf.44163af240d3d52fac256b9e812f95f4.jpg (deflated 1%)\n",
            "  adding: content/robo_chess-3/train/images/20250602_131427_mp4-0003_jpg.rf.d3de28975080b63548d901e86e4acd5b.jpg (deflated 1%)\n",
            "  adding: content/robo_chess-3/train/images/20250601_123826_jpg.rf.030810dbe0db5fa765dc6bbbdf8bef04.jpg (deflated 0%)\n",
            "  adding: content/robo_chess-3/train/images/20250601_123950_jpg.rf.8a78e99e9e21e319993b4bf8f2c100bd.jpg (deflated 0%)\n",
            "  adding: content/robo_chess-3/train/images/20250602_131427_mp4-0000_jpg.rf.6de53546757859e1719faf38b9062a84.jpg (deflated 1%)\n",
            "  adding: content/robo_chess-3/train/images/20250530_145340_jpg.rf.17dd60cc522442c27ae273ccab554e6c.jpg (deflated 1%)\n",
            "  adding: content/robo_chess-3/train/images/20250602_131427_mp4-0006_jpg.rf.4b195b292c17576ddd4897eba99c1da7.jpg (deflated 1%)\n",
            "  adding: content/robo_chess-3/train/images/20250602_131352_mp4-0005_jpg.rf.01e92bc5a365c36c7c3985a65dd021ed.jpg (deflated 2%)\n",
            "  adding: content/robo_chess-3/train/images/20250602_131517_mp4-0011_jpg.rf.81dcf0223f371eacf2a718b86a65c54e.jpg (deflated 1%)\n",
            "  adding: content/robo_chess-3/train/images/20250601_124022_jpg.rf.989c6b1ddc139c377ae72e0fee137682.jpg (deflated 0%)\n",
            "  adding: content/robo_chess-3/train/images/20250530_145517_jpg.rf.2e6ead44d9b8f6348665e6632af6c6ff.jpg (deflated 1%)\n",
            "  adding: content/robo_chess-3/train/images/20250602_131427_mp4-0010_jpg.rf.3d0cee925f3cdbaa2688a45162241051.jpg (deflated 2%)\n",
            "  adding: content/robo_chess-3/train/images/20250602_131615_mp4-0013_jpg.rf.1250044ba32f2e3d7b0fd7f5897b6484.jpg (deflated 1%)\n",
            "  adding: content/robo_chess-3/train/images/20250602_131615_mp4-0014_jpg.rf.0bd4fefec4d9b91f90f5ab45879444ee.jpg (deflated 1%)\n",
            "  adding: content/robo_chess-3/train/images/20250602_131615_mp4-0014_jpg.rf.ff4b1ee858cb70d742732d81be992366.jpg (deflated 1%)\n",
            "  adding: content/robo_chess-3/train/images/20250530_145347_jpg.rf.5859deeba2cf7604540506652caed531.jpg (deflated 0%)\n",
            "  adding: content/robo_chess-3/train/images/20250602_131320_mp4-0008_jpg.rf.9ff934978cc50e604b9f34787fa686d1.jpg (deflated 1%)\n",
            "  adding: content/robo_chess-3/train/images/20250602_131257_mp4-0007_jpg.rf.4a108cd1665dedfbf58ecb19fdd3b04d.jpg (deflated 1%)\n",
            "  adding: content/robo_chess-3/train/images/20250602_131615_mp4-0008_jpg.rf.4f69de17506860424cee467f5f51e478.jpg (deflated 1%)\n",
            "  adding: content/robo_chess-3/train/images/20250530_145520_jpg.rf.9860f5c1039698a7199f2162aafb9aab.jpg (deflated 0%)\n",
            "  adding: content/robo_chess-3/train/images/20250530_145412_jpg.rf.64452bfb3de4b33b7be8fec89d50ec5f.jpg (deflated 1%)\n",
            "  adding: content/robo_chess-3/train/images/20250602_131517_mp4-0007_jpg.rf.c76611478329f94a9bf52bf8ee330860.jpg (deflated 1%)\n",
            "  adding: content/robo_chess-3/train/images/20250601_123828_jpg.rf.0c9b8e9b9952a9a4d471e4406aabc1e0.jpg (deflated 0%)\n",
            "  adding: content/robo_chess-3/train/images/20250601_124005_jpg.rf.81723644ac23cf92bfbfc6db2afa7afe.jpg (deflated 1%)\n",
            "  adding: content/robo_chess-3/train/images/20250602_131615_mp4-0001_jpg.rf.e3b0446dcabcd5cfe21cae04cfedcacb.jpg (deflated 1%)\n",
            "  adding: content/robo_chess-3/train/images/20250601_123822_jpg.rf.76b07f41b1fd90aa57dea2831f81ac09.jpg (deflated 0%)\n",
            "  adding: content/robo_chess-3/train/images/20250602_131320_mp4-0013_jpg.rf.1aa195ac31ea9d5490b66dfac1b64040.jpg (deflated 2%)\n",
            "  adding: content/robo_chess-3/train/images/20250602_131320_mp4-0003_jpg.rf.2ae214ed9d892efbf575f741bc75a54d.jpg (deflated 1%)\n",
            "  adding: content/robo_chess-3/train/images/20250530_145408_jpg.rf.84de1f52423ddbfbbd5d57335a847fb5.jpg (deflated 0%)\n",
            "  adding: content/robo_chess-3/train/images/20250602_131448_mp4-0009_jpg.rf.8afe0ced8394f95d91c092c011b6d601.jpg (deflated 1%)\n",
            "  adding: content/robo_chess-3/train/images/20250602_131615_mp4-0005_jpg.rf.560cb16662a6e6a432b951fdf1a188a4.jpg (deflated 1%)\n",
            "  adding: content/robo_chess-3/train/images/20250602_131320_mp4-0014_jpg.rf.cc886bb08d7e43faba5735c68e88e1cc.jpg (deflated 1%)\n",
            "  adding: content/robo_chess-3/train/images/20250601_123845_jpg.rf.deb7cef998a80317bd054b81f9df6a31.jpg (deflated 0%)\n",
            "  adding: content/robo_chess-3/train/images/20250602_131352_mp4-0010_jpg.rf.4ca98c4b5ea3003c7c0560ed756045f5.jpg (deflated 2%)\n",
            "  adding: content/robo_chess-3/train/images/20250602_131352_mp4-0013_jpg.rf.72ebd24df09be77c93c22ca39bc53a50.jpg (deflated 1%)\n",
            "  adding: content/robo_chess-3/train/images/20250602_131615_mp4-0008_jpg.rf.b2ef8612aae92648d8f3fa2cb521a670.jpg (deflated 1%)\n",
            "  adding: content/robo_chess-3/train/images/20250602_131320_mp4-0013_jpg.rf.b4cd4e940ccd01d5e5bf78611b8f80a8.jpg (deflated 2%)\n",
            "  adding: content/robo_chess-3/train/images/20250601_123831_jpg.rf.faafa063bdf3efb64cad4ac6085950db.jpg (deflated 0%)\n",
            "  adding: content/robo_chess-3/train/images/20250602_131427_mp4-0012_jpg.rf.38afaa56cce42f3bc4ae9d5f4d254528.jpg (deflated 1%)\n",
            "  adding: content/robo_chess-3/train/images/20250602_131615_mp4-0004_jpg.rf.0910394dcaebf823a25b730ecffd616f.jpg (deflated 1%)\n",
            "  adding: content/robo_chess-3/train/images/20250530_145315_jpg.rf.1c554a6640696065c9bffad13a78d5f5.jpg (deflated 1%)\n",
            "  adding: content/robo_chess-3/train/images/20250602_131448_mp4-0008_jpg.rf.82c540342719b00678b03b794fc9b086.jpg (deflated 1%)\n",
            "  adding: content/robo_chess-3/train/images/20250530_145412_jpg.rf.ff6d81277de02f084eeadabd8a3c3b9a.jpg (deflated 1%)\n",
            "  adding: content/robo_chess-3/train/images/20250602_131517_mp4-0006_jpg.rf.fcd706e73970c59a9c13eb194008dc98.jpg (deflated 1%)\n",
            "  adding: content/robo_chess-3/train/images/20250602_131427_mp4-0003_jpg.rf.adf0079cd94d0df914f629f902a0dba6.jpg (deflated 2%)\n",
            "  adding: content/robo_chess-3/train/images/20250602_131320_mp4-0015_jpg.rf.8f2181d4b2afb4d2b01eda89db6a5901.jpg (deflated 2%)\n",
            "  adding: content/robo_chess-3/train/images/20250602_131448_mp4-0007_jpg.rf.e178ad174b85aa366aa29ffc741e280f.jpg (deflated 1%)\n",
            "  adding: content/robo_chess-3/train/images/20250601_124015_jpg.rf.8d2c18e0693018a4b949d6224b815507.jpg (deflated 0%)\n",
            "  adding: content/robo_chess-3/train/images/20250602_131320_mp4-0015_jpg.rf.3e4de7fcdd5f4c228bf7e4deaaf29dbd.jpg (deflated 1%)\n",
            "  adding: content/robo_chess-3/train/images/20250602_131257_mp4-0004_jpg.rf.d0c71d97d5423818c6b5c7d42effad4f.jpg (deflated 2%)\n",
            "  adding: content/robo_chess-3/train/images/20250602_131448_mp4-0010_jpg.rf.e7b50e83e99bf232b038ec1d2fc85837.jpg (deflated 1%)\n",
            "  adding: content/robo_chess-3/train/images/20250602_131352_mp4-0014_jpg.rf.c9f3a41b738466874dace2cbf79f22af.jpg (deflated 2%)\n",
            "  adding: content/robo_chess-3/train/images/20250602_131615_mp4-0013_jpg.rf.d2b4174efee427cb1d0ccdf69edde688.jpg (deflated 1%)\n",
            "  adding: content/robo_chess-3/train/images/20250601_124019_jpg.rf.06bd209e9e33c29c081fc8a264f7f1bb.jpg (deflated 0%)\n",
            "  adding: content/robo_chess-3/train/images/20250602_131427_mp4-0010_jpg.rf.b5bbd146200c4055d931eadcfaa8bac9.jpg (deflated 1%)\n",
            "  adding: content/robo_chess-3/train/images/20250601_123816_jpg.rf.974286e88ca0c0b85d7ce0ab064059e0.jpg (deflated 0%)\n",
            "  adding: content/robo_chess-3/train/images/20250602_131448_mp4-0005_jpg.rf.f5b8ce8c41c7f9f74411ddc860324ac8.jpg (deflated 2%)\n",
            "  adding: content/robo_chess-3/train/images/20250601_123822_jpg.rf.89d47f06291381eb7d4480d55edc578b.jpg (deflated 0%)\n",
            "  adding: content/robo_chess-3/train/images/20250601_123816_jpg.rf.f966a92497ac49255e32826e57f1d7d3.jpg (deflated 0%)\n",
            "  adding: content/robo_chess-3/train/images/20250602_131320_mp4-0011_jpg.rf.9e8d9c7060bd05edff416266d198d15e.jpg (deflated 2%)\n",
            "  adding: content/robo_chess-3/train/images/20250602_131352_mp4-0006_jpg.rf.c6d5a115eaf44aceac6a461f09815786.jpg (deflated 1%)\n",
            "  adding: content/robo_chess-3/train/images/20250602_131320_mp4-0007_jpg.rf.85e5a49c99a3f2068a6195c1f9bf44eb.jpg (deflated 1%)\n",
            "  adding: content/robo_chess-3/train/images/20250601_123845_jpg.rf.59e8dc57f1677874b8ce31a541eae982.jpg (deflated 0%)\n",
            "  adding: content/robo_chess-3/train/images/20250602_131352_mp4-0014_jpg.rf.8e5d9a6be53f33f62e129e21f416add5.jpg (deflated 1%)\n",
            "  adding: content/robo_chess-3/train/images/20250602_131517_mp4-0003_jpg.rf.deeb65b7199a91d1d992ee4c2c055ffa.jpg (deflated 2%)\n",
            "  adding: content/robo_chess-3/train/images/20250602_131615_mp4-0002_jpg.rf.f11dd0d73821ec37845032d1745a7c80.jpg (deflated 1%)\n",
            "  adding: content/robo_chess-3/train/images/20250602_131427_mp4-0005_jpg.rf.445e696b62ebfb6bb24531df7a4d3de4.jpg (deflated 1%)\n",
            "  adding: content/robo_chess-3/train/images/20250602_131615_mp4-0001_jpg.rf.9d0632681b7caa593ab197d26a7c889e.jpg (deflated 1%)\n",
            "  adding: content/robo_chess-3/train/images/20250602_131427_mp4-0010_jpg.rf.ac8f6720892c7de67a4378f4fc34d9d3.jpg (deflated 1%)\n",
            "  adding: content/robo_chess-3/train/images/20250602_131352_mp4-0006_jpg.rf.5a7b6fc4f8ed21719e90cde017ca170a.jpg (deflated 2%)\n",
            "  adding: content/robo_chess-3/train/images/20250602_131615_mp4-0016_jpg.rf.66559bca17bafbd5a99c6336f34cd4cb.jpg (deflated 1%)\n",
            "  adding: content/robo_chess-3/train/images/20250602_131257_mp4-0013_jpg.rf.68ee4fce99b566ab65f4ab779627ab35.jpg (deflated 1%)\n",
            "  adding: content/robo_chess-3/train/images/20250530_145408_jpg.rf.1617bc8d275b8b9990de1b1fc2e2fdc7.jpg (deflated 1%)\n",
            "  adding: content/robo_chess-3/train/images/20250601_124025_jpg.rf.736f4b7647aead72a47b6b47b362b99e.jpg (deflated 0%)\n",
            "  adding: content/robo_chess-3/train/images/20250530_145430_jpg.rf.71c468d9cdb8214c720dd99a52da9623.jpg (deflated 0%)\n",
            "  adding: content/robo_chess-3/train/images/20250602_131615_mp4-0005_jpg.rf.0abac8430701d1c94d4adf6b3ddab01b.jpg (deflated 1%)\n",
            "  adding: content/robo_chess-3/train/images/20250602_131615_mp4-0010_jpg.rf.655e6971062bed60eef165da58a42009.jpg (deflated 1%)\n",
            "  adding: content/robo_chess-3/train/images/20250601_123958_jpg.rf.443428477ebd5399f4402288d520d4e5.jpg (deflated 0%)\n",
            "  adding: content/robo_chess-3/train/images/20250602_131615_mp4-0006_jpg.rf.9833b71fc25e7f038960a21cbebe37db.jpg (deflated 1%)\n",
            "  adding: content/robo_chess-3/train/images/20250602_131427_mp4-0006_jpg.rf.e9d250f8f854e1bc7f02a42aad07b17d.jpg (deflated 1%)\n",
            "  adding: content/robo_chess-3/train/images/20250601_123855_jpg.rf.7a705444454174c6f1e4d46e49ed46c4.jpg (deflated 0%)\n",
            "  adding: content/robo_chess-3/train/images/20250602_131257_mp4-0011_jpg.rf.33b10c9b3077a45f075908d342af7da7.jpg (deflated 3%)\n",
            "  adding: content/robo_chess-3/train/images/20250601_123845_jpg.rf.0bae973db3bd612e3aab07c9fd20b057.jpg (deflated 0%)\n",
            "  adding: content/robo_chess-3/train/images/20250602_131257_mp4-0014_jpg.rf.d89a8fa1fad14ff9dd9d42a06c624131.jpg (deflated 1%)\n",
            "  adding: content/robo_chess-3/train/images/20250602_131448_mp4-0002_jpg.rf.768af1aa340aece8847cefa8f7b724b1.jpg (deflated 1%)\n",
            "  adding: content/robo_chess-3/train/images/20250530_145445_jpg.rf.2011bc6c7b13afba3ea0ae9a54cc72b5.jpg (deflated 0%)\n",
            "  adding: content/robo_chess-3/train/images/20250530_145520_jpg.rf.d9352a4deb453a8a9611f088f89e9d0e.jpg (deflated 1%)\n",
            "  adding: content/robo_chess-3/train/images/20250601_123816_jpg.rf.5d4b670d4b249daf99f15dc1b4954591.jpg (deflated 0%)\n",
            "  adding: content/robo_chess-3/train/images/20250602_131320_mp4-0009_jpg.rf.c2f8d2fa81098f9b0058a9d8b95b950e.jpg (deflated 1%)\n",
            "  adding: content/robo_chess-3/train/images/20250602_131320_mp4-0016_jpg.rf.4ecc7b0b735a175c33f340c8bce7611c.jpg (deflated 2%)\n",
            "  adding: content/robo_chess-3/train/images/20250530_145347_jpg.rf.0d9ccf21b9469251f1280ba2feab4b00.jpg (deflated 1%)\n",
            "  adding: content/robo_chess-3/train/images/20250602_131517_mp4-0013_jpg.rf.4d7a2e6351f7c685e2f1f1e6eb90963a.jpg (deflated 2%)\n",
            "  adding: content/robo_chess-3/train/images/20250601_124022_jpg.rf.422ee62e91bcc1e6e2b51e809495ddfa.jpg (deflated 0%)\n",
            "  adding: content/robo_chess-3/train/images/20250602_131517_mp4-0008_jpg.rf.816ddaa3046f9cbde2e99e25fb7fc37c.jpg (deflated 1%)\n",
            "  adding: content/robo_chess-3/train/images/20250602_131257_mp4-0004_jpg.rf.c4779ad0baef6100508a864cdbc6c020.jpg (deflated 2%)\n",
            "  adding: content/robo_chess-3/train/images/20250602_131352_mp4-0002_jpg.rf.8e4cf4ed00a18fc04768923c938f6c63.jpg (deflated 1%)\n",
            "  adding: content/robo_chess-3/train/images/20250530_145525_jpg.rf.da0e7aeea64605d4b825a6953e1828f0.jpg (deflated 1%)\n",
            "  adding: content/robo_chess-3/train/images/20250530_145327_jpg.rf.bf93512a1094a6d9494ab1d2b4cfcd01.jpg (deflated 1%)\n",
            "  adding: content/robo_chess-3/train/images/20250530_145517_jpg.rf.fe9089f4380198228fa02e4e6adbedcb.jpg (deflated 0%)\n",
            "  adding: content/robo_chess-3/train/images/20250602_131615_mp4-0014_jpg.rf.95941f40b0ca533d7e4dba690836b107.jpg (deflated 1%)\n",
            "  adding: content/robo_chess-3/train/images/20250601_123826_jpg.rf.416756c59a4f2c991b627edc93179492.jpg (deflated 1%)\n",
            "  adding: content/robo_chess-3/train/images/20250602_131427_mp4-0007_jpg.rf.25a8b565ff0496d2525325931416828c.jpg (deflated 1%)\n",
            "  adding: content/robo_chess-3/train/images/20250530_145447_jpg.rf.a48d68aff25748db7fa7e3f1690b5e84.jpg (deflated 0%)\n",
            "  adding: content/robo_chess-3/train/images/20250602_131517_mp4-0012_jpg.rf.ee31b3206d6d6cbd3687c9c478805329.jpg (deflated 1%)\n",
            "  adding: content/robo_chess-3/train/images/20250602_131352_mp4-0005_jpg.rf.7d2bf8f93e971a5e8f499d49428785f9.jpg (deflated 2%)\n",
            "  adding: content/robo_chess-3/train/images/20250602_131615_mp4-0011_jpg.rf.1f50d8b7ba7a17cdacb8aad93ca9a398.jpg (deflated 1%)\n",
            "  adding: content/robo_chess-3/train/images/20250602_131517_mp4-0006_jpg.rf.e610a5caf39f6ff7fa45193b16432b02.jpg (deflated 1%)\n",
            "  adding: content/robo_chess-3/train/images/20250602_131615_mp4-0010_jpg.rf.eab5fbec0b82e697abc9a38b381bd587.jpg (deflated 1%)\n",
            "  adding: content/robo_chess-3/train/images/20250602_131427_mp4-0007_jpg.rf.5ecc16fb03df00b5ba3f9b48fb059587.jpg (deflated 1%)\n",
            "  adding: content/robo_chess-3/train/images/20250602_131352_mp4-0013_jpg.rf.64a366594fe77365f82f2fd209edf068.jpg (deflated 2%)\n",
            "  adding: content/robo_chess-3/train/images/20250602_131427_mp4-0012_jpg.rf.bf345b34369ac1e30a9c55071a245214.jpg (deflated 2%)\n",
            "  adding: content/robo_chess-3/train/images/20250602_131427_mp4-0004_jpg.rf.b462de55d19158e4048e135bfb0bde2f.jpg (deflated 2%)\n",
            "  adding: content/robo_chess-3/train/images/20250602_131320_mp4-0012_jpg.rf.bebb64e2ef6b29db93110328b1a24ae5.jpg (deflated 2%)\n",
            "  adding: content/robo_chess-3/train/images/20250530_145504_jpg.rf.0f574d9ee779451f0adf09595fc8fc6a.jpg (deflated 1%)\n",
            "  adding: content/robo_chess-3/train/images/20250530_145412_jpg.rf.73dc9330ada2358a5843437c6a6562f1.jpg (deflated 1%)\n",
            "  adding: content/robo_chess-3/train/images/20250602_131517_mp4-0003_jpg.rf.c9b45af8cdb92e0b1f62b4ec93e9ca4d.jpg (deflated 1%)\n",
            "  adding: content/robo_chess-3/train/images/20250602_131352_mp4-0012_jpg.rf.ff66cccb62a530dd3bb21236bc758578.jpg (deflated 2%)\n",
            "  adding: content/robo_chess-3/train/images/20250602_131320_mp4-0003_jpg.rf.00b7fb2ac46e42f7da2568bf43dc626a.jpg (deflated 1%)\n",
            "  adding: content/robo_chess-3/train/images/20250602_131320_mp4-0012_jpg.rf.8a713fd543d764a93454051d69decd7a.jpg (deflated 2%)\n",
            "  adding: content/robo_chess-3/train/images/20250602_131615_mp4-0013_jpg.rf.36733980d5c72e1f784625c79fdac053.jpg (deflated 2%)\n",
            "  adding: content/robo_chess-3/train/images/20250602_131352_mp4-0012_jpg.rf.4c653b8105609146baeac3824726abf4.jpg (deflated 5%)\n",
            "  adding: content/robo_chess-3/train/images/20250602_131352_mp4-0014_jpg.rf.03da59741d00e74fe39b3b8e1f4c856f.jpg (deflated 2%)\n",
            "  adding: content/robo_chess-3/train/images/20250602_131517_mp4-0006_jpg.rf.58e242ff0741fcb87c7150bc07eb73b4.jpg (deflated 1%)\n",
            "  adding: content/robo_chess-3/train/images/20250602_131352_mp4-0003_jpg.rf.310e5466ee74b138fbfbfcd426dc04aa.jpg (deflated 1%)\n",
            "  adding: content/robo_chess-3/train/images/20250601_124025_jpg.rf.06703bb093fc2a7a4d974648abca8b9b.jpg (deflated 0%)\n",
            "  adding: content/robo_chess-3/train/images/20250602_131257_mp4-0008_jpg.rf.88bd588cbd1f6d61c984a1a5526930b1.jpg (deflated 2%)\n",
            "  adding: content/robo_chess-3/train/images/20250602_131320_mp4-0016_jpg.rf.1e225cc74a117443f7d55234d15aefdd.jpg (deflated 2%)\n",
            "  adding: content/robo_chess-3/train/images/20250602_131257_mp4-0003_jpg.rf.f626eb7249fe0c6c3e39cde31d69e509.jpg (deflated 2%)\n",
            "  adding: content/robo_chess-3/train/images/20250602_131320_mp4-0015_jpg.rf.2a7636de0079b17596c14d82a1ed9b19.jpg (deflated 2%)\n",
            "  adding: content/robo_chess-3/train/images/20250602_131448_mp4-0003_jpg.rf.f9ef4236f7a7a237141ea9d8e07335cd.jpg (deflated 2%)\n",
            "  adding: content/robo_chess-3/train/images/20250602_131517_mp4-0007_jpg.rf.1eb3a9047b0b2cd491b4135cee799179.jpg (deflated 1%)\n",
            "  adding: content/robo_chess-3/train/images/20250602_131427_mp4-0011_jpg.rf.d8ed43df473b2497e90124aae8ae236e.jpg (deflated 1%)\n",
            "  adding: content/robo_chess-3/train/images/20250602_131448_mp4-0008_jpg.rf.15a29503b8f274628bd17b1f3ae5987a.jpg (deflated 1%)\n",
            "  adding: content/robo_chess-3/train/images/20250530_145445_jpg.rf.20805dbff53086f36a1fb00ad463e2c7.jpg (deflated 1%)\n",
            "  adding: content/robo_chess-3/train/images/20250602_131517_mp4-0011_jpg.rf.b6ed5fcf8094e8091b1e31b719c389e1.jpg (deflated 1%)\n",
            "  adding: content/robo_chess-3/train/images/20250602_131257_mp4-0003_jpg.rf.238e2220e89186dba3e40be89fe29856.jpg (deflated 1%)\n",
            "  adding: content/robo_chess-3/train/images/20250602_131352_mp4-0001_jpg.rf.979da706445c8ff3b4d9dce43e8f7906.jpg (deflated 1%)\n",
            "  adding: content/robo_chess-3/train/images/20250602_131517_mp4-0009_jpg.rf.3362c782141f82f1633b7abbe1390b7a.jpg (deflated 1%)\n",
            "  adding: content/robo_chess-3/train/images/20250602_131448_mp4-0005_jpg.rf.89f3d482f5875143efddb00cacdd58a8.jpg (deflated 1%)\n",
            "  adding: content/robo_chess-3/train/images/20250602_131320_mp4-0016_jpg.rf.beb560fc17b88d73b884140357275d5f.jpg (deflated 2%)\n",
            "  adding: content/robo_chess-3/train/images/20250601_124019_jpg.rf.bcdaa1704a76fb7ecaa5654c95d14bab.jpg (deflated 0%)\n",
            "  adding: content/robo_chess-3/train/images/20250602_131427_mp4-0007_jpg.rf.79b1fc42b713632943c0551b79f53cc6.jpg (deflated 1%)\n",
            "  adding: content/robo_chess-3/train/images/20250530_145525_jpg.rf.9fa88f20965ef9666ece37644438144d.jpg (deflated 1%)\n",
            "  adding: content/robo_chess-3/train/images/20250602_131427_mp4-0011_jpg.rf.918c6bea9435e0bed25730f697f28ff1.jpg (deflated 1%)\n",
            "  adding: content/robo_chess-3/train/images/20250602_131448_mp4-0007_jpg.rf.cdacee4566687ac4d2711a8973b02e84.jpg (deflated 2%)\n",
            "  adding: content/robo_chess-3/train/images/20250530_145439_jpg.rf.59e7d0b481a9805806560a7d603469e4.jpg (deflated 0%)\n",
            "  adding: content/robo_chess-3/train/images/20250601_123826_jpg.rf.3ba1d57ff2a516fb874e7733b7363df5.jpg (deflated 0%)\n",
            "  adding: content/robo_chess-3/train/images/20250602_131427_mp4-0011_jpg.rf.07c791c019252e76a46214c6439c417b.jpg (deflated 1%)\n",
            "  adding: content/robo_chess-3/train/images/20250602_131352_mp4-0011_jpg.rf.3a2b6c81fb9683786be0b3cbd8ffc72d.jpg (deflated 1%)\n",
            "  adding: content/robo_chess-3/train/images/20250602_131615_mp4-0015_jpg.rf.ca81bd1837b5886a8b3e4d878bf3a633.jpg (deflated 1%)\n",
            "  adding: content/robo_chess-3/train/images/20250601_124015_jpg.rf.9e2a734aba1e9294ab0749ef56666d1f.jpg (deflated 0%)\n",
            "  adding: content/robo_chess-3/train/images/20250602_131448_mp4-0002_jpg.rf.30f39e0f4114491dfa8a19ebcb0f125b.jpg (deflated 1%)\n",
            "  adding: content/robo_chess-3/train/images/20250601_123958_jpg.rf.48b4f25e077ad852ada53625447be958.jpg (deflated 0%)\n",
            "  adding: content/robo_chess-3/train/images/20250602_131352_mp4-0012_jpg.rf.083c59c7dfd2fcf1528b109412e53888.jpg (deflated 1%)\n",
            "  adding: content/robo_chess-3/train/images/20250601_123841_jpg.rf.e9c2752e23e8b8812a08ba8b404c098a.jpg (deflated 0%)\n",
            "  adding: content/robo_chess-3/train/images/20250602_131427_mp4-0000_jpg.rf.8cfb2a2857e4fce8bcc5c92543f2402a.jpg (deflated 2%)\n",
            "  adding: content/robo_chess-3/train/images/20250601_124022_jpg.rf.5745f240b8be4776da72318e486ec72d.jpg (deflated 0%)\n",
            "  adding: content/robo_chess-3/train/images/20250601_124025_jpg.rf.c94d8fb3198baa73baa9d178bcd8d88b.jpg (deflated 1%)\n",
            "  adding: content/robo_chess-3/train/images/20250601_123950_jpg.rf.7bb2cbfeab0bf11cd64f5031ddee9abe.jpg (deflated 1%)\n",
            "  adding: content/robo_chess-3/train/images/20250602_131448_mp4-0010_jpg.rf.319bfda1c3c7bdfb1a241b0bdac721ae.jpg (deflated 1%)\n",
            "  adding: content/robo_chess-3/train/images/20250601_123954_jpg.rf.eb46973d63a04aad24dd26316eab26b0.jpg (deflated 0%)\n",
            "  adding: content/robo_chess-3/train/images/20250530_145337_jpg.rf.afc9a19c7e1421b7d429ad5139b232b3.jpg (deflated 1%)\n",
            "  adding: content/robo_chess-3/train/images/20250602_131352_mp4-0003_jpg.rf.1ac54055724eabd00403f79b692d9877.jpg (deflated 1%)\n",
            "  adding: content/robo_chess-3/train/images/20250530_145457_jpg.rf.959a9cbf97e4a268763deb614e2d5207.jpg (deflated 1%)\n",
            "  adding: content/robo_chess-3/train/images/20250602_131427_mp4-0000_jpg.rf.9cf7b7c83608ed7d603aa6ebbda1d286.jpg (deflated 1%)\n",
            "  adding: content/robo_chess-3/train/images/20250530_145340_jpg.rf.441444583b9551a2e0762696c5b60d1e.jpg (deflated 1%)\n",
            "  adding: content/robo_chess-3/train/images/20250602_131257_mp4-0011_jpg.rf.18845103b05cdf73628eddde90a5a225.jpg (deflated 3%)\n",
            "  adding: content/robo_chess-3/train/images/20250602_131517_mp4-0013_jpg.rf.10b77c3756be4c63bb0b5a217b87f331.jpg (deflated 2%)\n",
            "  adding: content/robo_chess-3/train/images/20250601_123954_jpg.rf.2a75ef5f5e0d60d9fbc9de2d01ec425b.jpg (deflated 0%)\n",
            "  adding: content/robo_chess-3/train/images/20250602_131352_mp4-0013_jpg.rf.8f7da5373513d5f4101fa75fb1694166.jpg (deflated 2%)\n",
            "  adding: content/robo_chess-3/train/images/20250601_124019_jpg.rf.9fed76d60d27d38c3ed9d446a0a17ef1.jpg (deflated 0%)\n",
            "  adding: content/robo_chess-3/train/images/20250602_131352_mp4-0011_jpg.rf.110d5c4f08039bc885dbe47b10b71833.jpg (deflated 1%)\n",
            "  adding: content/robo_chess-3/train/images/20250601_123841_jpg.rf.4f2469b418fa695c1bf717d3a952970e.jpg (deflated 0%)\n",
            "  adding: content/robo_chess-3/train/images/20250602_131320_mp4-0007_jpg.rf.978c33766a80d8df4ab15315f20b944d.jpg (deflated 1%)\n",
            "  adding: content/robo_chess-3/train/images/20250602_131320_mp4-0012_jpg.rf.ef6bd3bec4c9e66fe863154437268ec6.jpg (deflated 1%)\n",
            "  adding: content/robo_chess-3/train/images/20250601_124001_jpg.rf.4635cdc54791c31c492561ed150c53cb.jpg (deflated 0%)\n",
            "  adding: content/robo_chess-3/train/images/20250602_131615_mp4-0002_jpg.rf.629672489582349697f75ebbdc7fe48e.jpg (deflated 1%)\n",
            "  adding: content/robo_chess-3/train/images/20250602_131257_mp4-0010_jpg.rf.68c8135cd462f9c576051b2506bbd51d.jpg (deflated 2%)\n",
            "  adding: content/robo_chess-3/train/images/20250530_145347_jpg.rf.87c674c59d8cb834a065385935f9351e.jpg (deflated 1%)\n",
            "  adding: content/robo_chess-3/train/images/20250602_131257_mp4-0000_jpg.rf.f2f10bb72d2c9f4ba062bf46e5501840.jpg (deflated 1%)\n",
            "  adding: content/robo_chess-3/train/images/20250530_145608_jpg.rf.870893b455d8ff87a34b94e91b3c9d7e.jpg (deflated 1%)\n",
            "  adding: content/robo_chess-3/train/images/20250602_131517_mp4-0001_jpg.rf.249cbd0af93e4e057724e3ea25ce7c35.jpg (deflated 2%)\n",
            "  adding: content/robo_chess-3/train/images/20250602_131320_mp4-0011_jpg.rf.cdcadac828c4c9301fd5202e5580ea06.jpg (deflated 2%)\n",
            "  adding: content/robo_chess-3/train/images/20250530_145315_jpg.rf.e85025e7e1b4c444cbfe2644c135c209.jpg (deflated 1%)\n",
            "  adding: content/robo_chess-3/train/images/20250602_131320_mp4-0011_jpg.rf.6b08885ef468b47b373ca03b691fb60c.jpg (deflated 2%)\n",
            "  adding: content/robo_chess-3/train/images/20250530_145552_jpg.rf.fd99931ee91640373b7507f894d18def.jpg (deflated 0%)\n",
            "  adding: content/robo_chess-3/train/images/20250602_131352_mp4-0003_jpg.rf.8b97196f24d5fd95250bd57d78d07dc1.jpg (deflated 1%)\n",
            "  adding: content/robo_chess-3/train/images/20250530_145525_jpg.rf.8d54ebda0e3c056e64551450a18223f1.jpg (deflated 0%)\n",
            "  adding: content/robo_chess-3/train/images/20250602_131615_mp4-0004_jpg.rf.9fad5c46abca78d844d9dfda57360b35.jpg (deflated 1%)\n",
            "  adding: content/robo_chess-3/train/images/20250530_145315_jpg.rf.0e73df1676898ccb556f77e2a51a0d94.jpg (deflated 0%)\n",
            "  adding: content/robo_chess-3/train/images/20250602_131257_mp4-0010_jpg.rf.f92fd9c08abc7bc6445638215faffbba.jpg (deflated 2%)\n",
            "  adding: content/robo_chess-3/train/images/20250530_145408_jpg.rf.4bf07bb7be87f6a7427cca7b7cf4b55b.jpg (deflated 1%)\n",
            "  adding: content/robo_chess-3/train/images/20250530_145340_jpg.rf.925c6bb6e90591c682c9203b9f9f039a.jpg (deflated 0%)\n",
            "  adding: content/robo_chess-3/train/images/20250602_131352_mp4-0002_jpg.rf.9b5835172babfb69d99718d06a213760.jpg (deflated 1%)\n",
            "  adding: content/robo_chess-3/train/images/20250601_123950_jpg.rf.622de8a960e7a19f43aeeb9008decf62.jpg (deflated 0%)\n",
            "  adding: content/robo_chess-3/train/images/20250602_131320_mp4-0009_jpg.rf.3865e9a623d7e5b1229db57b380de77e.jpg (deflated 2%)\n",
            "  adding: content/robo_chess-3/train/images/20250602_131615_mp4-0004_jpg.rf.668f66e7f715728f7f05b1167285bd62.jpg (deflated 1%)\n",
            "  adding: content/robo_chess-3/train/images/20250602_131517_mp4-0009_jpg.rf.10b44ba70d8ecd55c9459d88de725b75.jpg (deflated 1%)\n",
            "  adding: content/robo_chess-3/train/images/20250530_145608_jpg.rf.331e7d89e3e844f1a1f64f4e09601010.jpg (deflated 1%)\n",
            "  adding: content/robo_chess-3/train/images/20250602_131257_mp4-0008_jpg.rf.8041c4a0a07732f6893ba253aad0fd19.jpg (deflated 1%)\n",
            "  adding: content/robo_chess-3/train/images/20250530_145327_jpg.rf.15ea50b6ae221bddd6bc8f022f418096.jpg (deflated 1%)\n",
            "  adding: content/robo_chess-3/train/labels.cache (deflated 55%)\n",
            "  adding: content/robo_chess-3/test/ (stored 0%)\n",
            "  adding: content/robo_chess-3/test/labels/ (stored 0%)\n",
            "  adding: content/robo_chess-3/test/labels/20250530_145331_jpg.rf.0a6322fefe1cc406b48ca0c517821834.txt (deflated 73%)\n",
            "  adding: content/robo_chess-3/test/labels/20250602_131517_mp4-0004_jpg.rf.4f7b7f49320c3ae68d0ecac840d02abf.txt (deflated 26%)\n",
            "  adding: content/robo_chess-3/test/labels/20250530_145612_jpg.rf.6bea3c3775c8137b018372449f96eb12.txt (deflated 14%)\n",
            "  adding: content/robo_chess-3/test/labels/20250530_145548_jpg.rf.92903f3225d8e05410fb872f42df2f36.txt (deflated 26%)\n",
            "  adding: content/robo_chess-3/test/labels/20250602_131517_mp4-0002_jpg.rf.070815310b7f6706d8a896e7906192aa.txt (deflated 20%)\n",
            "  adding: content/robo_chess-3/test/labels/20250602_131257_mp4-0001_jpg.rf.2a03df09d030370a88f162cf5bb82c83.txt (deflated 22%)\n",
            "  adding: content/robo_chess-3/test/labels/20250530_145531_jpg.rf.9e8945a33f9b392f831b05abbb16630d.txt (deflated 25%)\n",
            "  adding: content/robo_chess-3/test/labels/20250602_131517_mp4-0000_jpg.rf.7b516c2b851d1d5fa3f14209181d9f52.txt (deflated 24%)\n",
            "  adding: content/robo_chess-3/test/labels/20250602_131427_mp4-0008_jpg.rf.2725f5a3aa757f61491061884263e92e.txt (deflated 18%)\n",
            "  adding: content/robo_chess-3/test/labels/20250602_131257_mp4-0006_jpg.rf.1ea705985b42835cdd4cc54b32d8c411.txt (deflated 69%)\n",
            "  adding: content/robo_chess-3/test/labels/20250602_131448_mp4-0001_jpg.rf.5208fa00ec570a4e392cfd6a160dc1ff.txt (deflated 18%)\n",
            "  adding: content/robo_chess-3/test/labels/20250602_131448_mp4-0004_jpg.rf.21dda4bf9ba54280493a77ebbd8f93f8.txt (deflated 71%)\n",
            "  adding: content/robo_chess-3/test/labels/20250602_131427_mp4-0009_jpg.rf.103039c4df3500e2f520bf35cd2c41a4.txt (deflated 15%)\n",
            "  adding: content/robo_chess-3/test/labels/20250602_131615_mp4-0009_jpg.rf.6f35f44990abe314cf2d6e980a9d95f4.txt (deflated 60%)\n",
            "  adding: content/robo_chess-3/test/images/ (stored 0%)\n",
            "  adding: content/robo_chess-3/test/images/20250602_131517_mp4-0004_jpg.rf.4f7b7f49320c3ae68d0ecac840d02abf.jpg (deflated 1%)\n",
            "  adding: content/robo_chess-3/test/images/20250602_131448_mp4-0001_jpg.rf.5208fa00ec570a4e392cfd6a160dc1ff.jpg (deflated 1%)\n",
            "  adding: content/robo_chess-3/test/images/20250602_131427_mp4-0009_jpg.rf.103039c4df3500e2f520bf35cd2c41a4.jpg (deflated 1%)\n",
            "  adding: content/robo_chess-3/test/images/20250530_145531_jpg.rf.9e8945a33f9b392f831b05abbb16630d.jpg (deflated 0%)\n",
            "  adding: content/robo_chess-3/test/images/20250602_131257_mp4-0001_jpg.rf.2a03df09d030370a88f162cf5bb82c83.jpg (deflated 1%)\n",
            "  adding: content/robo_chess-3/test/images/20250530_145548_jpg.rf.92903f3225d8e05410fb872f42df2f36.jpg (deflated 0%)\n",
            "  adding: content/robo_chess-3/test/images/20250530_145612_jpg.rf.6bea3c3775c8137b018372449f96eb12.jpg (deflated 0%)\n",
            "  adding: content/robo_chess-3/test/images/20250602_131517_mp4-0000_jpg.rf.7b516c2b851d1d5fa3f14209181d9f52.jpg (deflated 1%)\n",
            "  adding: content/robo_chess-3/test/images/20250602_131517_mp4-0002_jpg.rf.070815310b7f6706d8a896e7906192aa.jpg (deflated 1%)\n",
            "  adding: content/robo_chess-3/test/images/20250602_131615_mp4-0009_jpg.rf.6f35f44990abe314cf2d6e980a9d95f4.jpg (deflated 1%)\n",
            "  adding: content/robo_chess-3/test/images/20250602_131257_mp4-0006_jpg.rf.1ea705985b42835cdd4cc54b32d8c411.jpg (deflated 1%)\n",
            "  adding: content/robo_chess-3/test/images/20250602_131448_mp4-0004_jpg.rf.21dda4bf9ba54280493a77ebbd8f93f8.jpg (deflated 1%)\n",
            "  adding: content/robo_chess-3/test/images/20250530_145331_jpg.rf.0a6322fefe1cc406b48ca0c517821834.jpg (deflated 0%)\n",
            "  adding: content/robo_chess-3/test/images/20250602_131427_mp4-0008_jpg.rf.2725f5a3aa757f61491061884263e92e.jpg (deflated 1%)\n",
            "  adding: content/robo_chess-3/valid/ (stored 0%)\n",
            "  adding: content/robo_chess-3/valid/labels/ (stored 0%)\n",
            "  adding: content/robo_chess-3/valid/labels/20250602_131257_mp4-0002_jpg.rf.c2f3c7d04ebafed63d3709e258793b8b.txt (deflated 11%)\n",
            "  adding: content/robo_chess-3/valid/labels/20250602_131320_mp4-0001_jpg.rf.cdef65482a73e97c3d8ed8411a4ed403.txt (deflated 20%)\n",
            "  adding: content/robo_chess-3/valid/labels/20250602_131615_mp4-0000_jpg.rf.732919cf5c931e6a2e939d2a026e286c.txt (deflated 78%)\n",
            "  adding: content/robo_chess-3/valid/labels/20250601_123857_jpg.rf.1bce65e662f2f862e59ae05da571b01b.txt (deflated 72%)\n",
            "  adding: content/robo_chess-3/valid/labels/20250602_131320_mp4-0005_jpg.rf.5ea0fdb17084db48a82a03786520b9c0.txt (deflated 71%)\n",
            "  adding: content/robo_chess-3/valid/labels/20250602_131615_mp4-0007_jpg.rf.0273171674acf498debcd9920d5983b6.txt (deflated 58%)\n",
            "  adding: content/robo_chess-3/valid/labels/20250602_131448_mp4-0006_jpg.rf.8b108ff4576850580f1fb711982f9845.txt (deflated 18%)\n",
            "  adding: content/robo_chess-3/valid/labels/20250602_131320_mp4-0010_jpg.rf.e98c71d857a17f3989a910965887ff6e.txt (deflated 16%)\n",
            "  adding: content/robo_chess-3/valid/labels/20250530_145353_jpg.rf.3d9f4af9a658dc8ccc426538651b9940.txt (deflated 72%)\n",
            "  adding: content/robo_chess-3/valid/labels/20250530_145601_jpg.rf.dc5ebed177fd5434c06eb05ff9604f4b.txt (deflated 29%)\n",
            "  adding: content/robo_chess-3/valid/labels/20250602_131517_mp4-0005_jpg.rf.6a3232157f416bca8b05f5923f5e2731.txt (deflated 17%)\n",
            "  adding: content/robo_chess-3/valid/labels/20250602_131352_mp4-0004_jpg.rf.bc4fc7ee868daca0f61a581541a92784.txt (deflated 17%)\n",
            "  adding: content/robo_chess-3/valid/labels/20250602_131427_mp4-0001_jpg.rf.690705f83db9a49712f59be7655b06b6.txt (deflated 22%)\n",
            "  adding: content/robo_chess-3/valid/labels/20250530_145510_jpg.rf.2f5578f97696182ab09590e8792c05a4.txt (deflated 19%)\n",
            "  adding: content/robo_chess-3/valid/labels/20250602_131352_mp4-0009_jpg.rf.59769b65f8ac94256b4784da620de935.txt (deflated 14%)\n",
            "  adding: content/robo_chess-3/valid/labels/20250602_131352_mp4-0008_jpg.rf.8dd762e01d47aa7e5e58adb2056b32c8.txt (deflated 70%)\n",
            "  adding: content/robo_chess-3/valid/labels/20250602_131517_mp4-0010_jpg.rf.bb04a4333648e05607b4119bbd46164f.txt (deflated 25%)\n",
            "  adding: content/robo_chess-3/valid/labels/20250602_131257_mp4-0005_jpg.rf.26c3cfe8f69bc00f150a68bdeb2b93b5.txt (deflated 72%)\n",
            "  adding: content/robo_chess-3/valid/labels/20250601_123811_jpg.rf.2bc092393ac2aabf8835fe7f5032d8f8.txt (deflated 73%)\n",
            "  adding: content/robo_chess-3/valid/labels/20250601_123853_jpg.rf.409bc11befa2e686a6e951dfe2880afd.txt (deflated 72%)\n",
            "  adding: content/robo_chess-3/valid/labels/20250530_145403_jpg.rf.9e21fadc8ee7f1fed34c2933356b0660.txt (deflated 72%)\n",
            "  adding: content/robo_chess-3/valid/labels/20250601_123819_jpg.rf.948ac6891f7558218cfccfab360256f6.txt (deflated 73%)\n",
            "  adding: content/robo_chess-3/valid/labels/20250602_131320_mp4-0000_jpg.rf.8d8c628579f24564472e1ac0eabae1e7.txt (deflated 67%)\n",
            "  adding: content/robo_chess-3/valid/labels/20250602_131257_mp4-0012_jpg.rf.1fedb80bcff8b49c355f9f2e2963b714.txt (deflated 67%)\n",
            "  adding: content/robo_chess-3/valid/labels/20250602_131448_mp4-0000_jpg.rf.1ea338e2815e72ea266f652b6c5c40c8.txt (deflated 19%)\n",
            "  adding: content/robo_chess-3/valid/labels/20250602_131320_mp4-0002_jpg.rf.93255425f0b9310eaa28953ecd955353.txt (deflated 68%)\n",
            "  adding: content/robo_chess-3/valid/labels/20250602_131427_mp4-0002_jpg.rf.7012986f685844605bc7b900eddeeb8e.txt (deflated 26%)\n",
            "  adding: content/robo_chess-3/valid/labels/20250530_145409_jpg.rf.d5e41b88a46282cb504fa322762fbe82.txt (deflated 72%)\n",
            "  adding: content/robo_chess-3/valid/labels/20250602_131352_mp4-0007_jpg.rf.4b93fa20fcfe644eb913620789ac074f.txt (deflated 69%)\n",
            "  adding: content/robo_chess-3/valid/labels/20250530_145336_jpg.rf.76dc91608b02d9bccb1aa30843e675c7.txt (deflated 72%)\n",
            "  adding: content/robo_chess-3/valid/labels/20250602_131320_mp4-0004_jpg.rf.dbe2b6af8ddc6a11e18f666fc6641fb9.txt (deflated 71%)\n",
            "  adding: content/robo_chess-3/valid/images/ (stored 0%)\n",
            "  adding: content/robo_chess-3/valid/images/20250602_131615_mp4-0007_jpg.rf.0273171674acf498debcd9920d5983b6.jpg (deflated 1%)\n",
            "  adding: content/robo_chess-3/valid/images/20250602_131320_mp4-0001_jpg.rf.cdef65482a73e97c3d8ed8411a4ed403.jpg (deflated 1%)\n",
            "  adding: content/robo_chess-3/valid/images/20250530_145353_jpg.rf.3d9f4af9a658dc8ccc426538651b9940.jpg (deflated 0%)\n",
            "  adding: content/robo_chess-3/valid/images/20250530_145510_jpg.rf.2f5578f97696182ab09590e8792c05a4.jpg (deflated 0%)\n",
            "  adding: content/robo_chess-3/valid/images/20250602_131320_mp4-0002_jpg.rf.93255425f0b9310eaa28953ecd955353.jpg (deflated 1%)\n",
            "  adding: content/robo_chess-3/valid/images/20250602_131257_mp4-0012_jpg.rf.1fedb80bcff8b49c355f9f2e2963b714.jpg (deflated 1%)\n",
            "  adding: content/robo_chess-3/valid/images/20250602_131352_mp4-0007_jpg.rf.4b93fa20fcfe644eb913620789ac074f.jpg (deflated 1%)\n",
            "  adding: content/robo_chess-3/valid/images/20250602_131352_mp4-0004_jpg.rf.bc4fc7ee868daca0f61a581541a92784.jpg (deflated 1%)\n",
            "  adding: content/robo_chess-3/valid/images/20250602_131257_mp4-0005_jpg.rf.26c3cfe8f69bc00f150a68bdeb2b93b5.jpg (deflated 1%)\n",
            "  adding: content/robo_chess-3/valid/images/20250602_131320_mp4-0005_jpg.rf.5ea0fdb17084db48a82a03786520b9c0.jpg (deflated 1%)\n",
            "  adding: content/robo_chess-3/valid/images/20250602_131615_mp4-0000_jpg.rf.732919cf5c931e6a2e939d2a026e286c.jpg (deflated 1%)\n",
            "  adding: content/robo_chess-3/valid/images/20250530_145336_jpg.rf.76dc91608b02d9bccb1aa30843e675c7.jpg (deflated 0%)\n",
            "  adding: content/robo_chess-3/valid/images/20250602_131448_mp4-0000_jpg.rf.1ea338e2815e72ea266f652b6c5c40c8.jpg (deflated 1%)\n",
            "  adding: content/robo_chess-3/valid/images/20250530_145601_jpg.rf.dc5ebed177fd5434c06eb05ff9604f4b.jpg (deflated 0%)\n",
            "  adding: content/robo_chess-3/valid/images/20250602_131320_mp4-0004_jpg.rf.dbe2b6af8ddc6a11e18f666fc6641fb9.jpg (deflated 1%)\n",
            "  adding: content/robo_chess-3/valid/images/20250601_123857_jpg.rf.1bce65e662f2f862e59ae05da571b01b.jpg (deflated 0%)\n",
            "  adding: content/robo_chess-3/valid/images/20250601_123819_jpg.rf.948ac6891f7558218cfccfab360256f6.jpg (deflated 0%)\n",
            "  adding: content/robo_chess-3/valid/images/20250602_131352_mp4-0009_jpg.rf.59769b65f8ac94256b4784da620de935.jpg (deflated 1%)\n",
            "  adding: content/robo_chess-3/valid/images/20250602_131448_mp4-0006_jpg.rf.8b108ff4576850580f1fb711982f9845.jpg (deflated 1%)\n",
            "  adding: content/robo_chess-3/valid/images/20250602_131427_mp4-0001_jpg.rf.690705f83db9a49712f59be7655b06b6.jpg (deflated 1%)\n",
            "  adding: content/robo_chess-3/valid/images/20250602_131427_mp4-0002_jpg.rf.7012986f685844605bc7b900eddeeb8e.jpg (deflated 1%)\n",
            "  adding: content/robo_chess-3/valid/images/20250602_131257_mp4-0002_jpg.rf.c2f3c7d04ebafed63d3709e258793b8b.jpg (deflated 1%)\n",
            "  adding: content/robo_chess-3/valid/images/20250530_145403_jpg.rf.9e21fadc8ee7f1fed34c2933356b0660.jpg (deflated 0%)\n",
            "  adding: content/robo_chess-3/valid/images/20250602_131517_mp4-0005_jpg.rf.6a3232157f416bca8b05f5923f5e2731.jpg (deflated 2%)\n",
            "  adding: content/robo_chess-3/valid/images/20250602_131320_mp4-0000_jpg.rf.8d8c628579f24564472e1ac0eabae1e7.jpg (deflated 1%)\n",
            "  adding: content/robo_chess-3/valid/images/20250530_145409_jpg.rf.d5e41b88a46282cb504fa322762fbe82.jpg (deflated 1%)\n",
            "  adding: content/robo_chess-3/valid/images/20250601_123811_jpg.rf.2bc092393ac2aabf8835fe7f5032d8f8.jpg (deflated 0%)\n",
            "  adding: content/robo_chess-3/valid/images/20250602_131320_mp4-0010_jpg.rf.e98c71d857a17f3989a910965887ff6e.jpg (deflated 1%)\n",
            "  adding: content/robo_chess-3/valid/images/20250602_131517_mp4-0010_jpg.rf.bb04a4333648e05607b4119bbd46164f.jpg (deflated 1%)\n",
            "  adding: content/robo_chess-3/valid/images/20250601_123853_jpg.rf.409bc11befa2e686a6e951dfe2880afd.jpg (deflated 0%)\n",
            "  adding: content/robo_chess-3/valid/images/20250602_131352_mp4-0008_jpg.rf.8dd762e01d47aa7e5e58adb2056b32c8.jpg (deflated 1%)\n",
            "  adding: content/robo_chess-3/valid/labels.cache (deflated 55%)\n",
            "  adding: content/runs/ (stored 0%)\n",
            "  adding: content/runs/detect/ (stored 0%)\n",
            "  adding: content/runs/detect/train2/ (stored 0%)\n",
            "  adding: content/runs/detect/train2/train_batch1.jpg (deflated 3%)\n",
            "  adding: content/runs/detect/train2/results.csv (deflated 61%)\n",
            "  adding: content/runs/detect/train2/weights/ (stored 0%)\n",
            "  adding: content/runs/detect/train2/weights/last.pt (deflated 23%)\n",
            "  adding: content/runs/detect/train2/weights/best.pt (deflated 23%)\n",
            "  adding: content/runs/detect/train2/labels.jpg (deflated 28%)\n",
            "  adding: content/runs/detect/train2/labels_correlogram.jpg (deflated 38%)\n",
            "  adding: content/runs/detect/train2/train_batch2.jpg (deflated 2%)\n",
            "  adding: content/runs/detect/train2/args.yaml (deflated 53%)\n",
            "  adding: content/runs/detect/train2/train_batch0.jpg (deflated 2%)\n",
            "  adding: content/runs/detect/train/ (stored 0%)\n",
            "  adding: content/runs/detect/train/weights/ (stored 0%)\n",
            "  adding: content/runs/detect/train/args.yaml (deflated 53%)\n",
            "  adding: content/runs/detect/train3/ (stored 0%)\n",
            "  adding: content/runs/detect/train3/train_batch1.jpg (deflated 3%)\n",
            "  adding: content/runs/detect/train3/train_batch3992.jpg (deflated 5%)\n",
            "  adding: content/runs/detect/train3/train_batch3991.jpg (deflated 8%)\n",
            "  adding: content/runs/detect/train3/results.csv (deflated 62%)\n",
            "  adding: content/runs/detect/train3/weights/ (stored 0%)\n",
            "  adding: content/runs/detect/train3/weights/last.pt (deflated 10%)\n",
            "  adding: content/runs/detect/train3/weights/best.pt (deflated 10%)\n",
            "  adding: content/runs/detect/train3/R_curve.png (deflated 6%)\n",
            "  adding: content/runs/detect/train3/labels.jpg (deflated 28%)\n",
            "  adding: content/runs/detect/train3/val_batch0_labels.jpg (deflated 5%)\n",
            "  adding: content/runs/detect/train3/confusion_matrix_normalized.png (deflated 15%)\n",
            "  adding: content/runs/detect/train3/PR_curve.png (deflated 12%)\n",
            "  adding: content/runs/detect/train3/labels_correlogram.jpg (deflated 38%)\n",
            "  adding: content/runs/detect/train3/train_batch2.jpg (deflated 2%)\n",
            "  adding: content/runs/detect/train3/results.png (deflated 7%)\n",
            "  adding: content/runs/detect/train3/F1_curve.png (deflated 4%)\n",
            "  adding: content/runs/detect/train3/confusion_matrix.png (deflated 20%)\n",
            "  adding: content/runs/detect/train3/args.yaml (deflated 53%)\n",
            "  adding: content/runs/detect/train3/val_batch0_pred.jpg (deflated 5%)\n",
            "  adding: content/runs/detect/train3/P_curve.png (deflated 4%)\n",
            "  adding: content/runs/detect/train3/train_batch3990.jpg (deflated 8%)\n",
            "  adding: content/runs/detect/train3/train_batch0.jpg (deflated 2%)\n",
            "  adding: content/yolo11n.pt (deflated 11%)\n",
            "  adding: content/drive/ (stored 0%)\n",
            "  adding: content/drive/MyDrive/ (stored 0%)\n",
            "  adding: content/drive/MyDrive/Colab Notebooks/ (stored 0%)\n",
            "  adding: content/drive/.file-revisions-by-id/ (stored 0%)\n",
            "  adding: content/drive/.shortcut-targets-by-id/ (stored 0%)\n",
            "  adding: content/drive/.Trash-0/ (stored 0%)\n",
            "  adding: content/drive/.Trash-0/files/ (stored 0%)\n",
            "  adding: content/drive/.Trash-0/info/ (stored 0%)\n",
            "  adding: content/drive/.Encrypted/ (stored 0%)\n",
            "  adding: content/drive/.Encrypted/MyDrive/ (stored 0%)\n",
            "  adding: content/drive/.Encrypted/MyDrive/Colab Notebooks/ (stored 0%)\n",
            "  adding: content/drive/.Encrypted/.shortcut-targets-by-id/ (stored 0%)\n",
            "  adding: content/sample_data/ (stored 0%)\n",
            "  adding: content/sample_data/anscombe.json (deflated 83%)\n",
            "  adding: content/sample_data/README.md (deflated 39%)\n",
            "  adding: content/sample_data/california_housing_train.csv (deflated 79%)\n",
            "  adding: content/sample_data/mnist_train_small.csv (deflated 88%)\n",
            "  adding: content/sample_data/mnist_test.csv (deflated 88%)\n",
            "  adding: content/sample_data/california_housing_test.csv (deflated 76%)\n"
          ]
        },
        {
          "output_type": "display_data",
          "data": {
            "text/plain": [
              "<IPython.core.display.Javascript object>"
            ],
            "application/javascript": [
              "\n",
              "    async function download(id, filename, size) {\n",
              "      if (!google.colab.kernel.accessAllowed) {\n",
              "        return;\n",
              "      }\n",
              "      const div = document.createElement('div');\n",
              "      const label = document.createElement('label');\n",
              "      label.textContent = `Downloading \"${filename}\": `;\n",
              "      div.appendChild(label);\n",
              "      const progress = document.createElement('progress');\n",
              "      progress.max = size;\n",
              "      div.appendChild(progress);\n",
              "      document.body.appendChild(div);\n",
              "\n",
              "      const buffers = [];\n",
              "      let downloaded = 0;\n",
              "\n",
              "      const channel = await google.colab.kernel.comms.open(id);\n",
              "      // Send a message to notify the kernel that we're ready.\n",
              "      channel.send({})\n",
              "\n",
              "      for await (const message of channel.messages) {\n",
              "        // Send a message to notify the kernel that we're ready.\n",
              "        channel.send({})\n",
              "        if (message.buffers) {\n",
              "          for (const buffer of message.buffers) {\n",
              "            buffers.push(buffer);\n",
              "            downloaded += buffer.byteLength;\n",
              "            progress.value = downloaded;\n",
              "          }\n",
              "        }\n",
              "      }\n",
              "      const blob = new Blob(buffers, {type: 'application/binary'});\n",
              "      const a = document.createElement('a');\n",
              "      a.href = window.URL.createObjectURL(blob);\n",
              "      a.download = filename;\n",
              "      div.appendChild(a);\n",
              "      a.click();\n",
              "      div.remove();\n",
              "    }\n",
              "  "
            ]
          },
          "metadata": {}
        },
        {
          "output_type": "display_data",
          "data": {
            "text/plain": [
              "<IPython.core.display.Javascript object>"
            ],
            "application/javascript": [
              "download(\"download_d63a94af-a5d9-443c-9043-e547f71b597a\", \"file.zip\", 78564522)"
            ]
          },
          "metadata": {}
        }
      ]
    },
    {
      "cell_type": "code",
      "source": [
        "!pip install roboflow\n",
        "\n",
        "from roboflow import Roboflow\n",
        "rf = Roboflow(api_key=\"k3A3mnyIf2w3F2fjWMxG\")\n",
        "project = rf.workspace(\"savijas-workspace\").project(\"robo_chess\")\n",
        "version = project.version(4)\n",
        "dataset = version.download(\"yolov11\")\n",
        ""
      ],
      "metadata": {
        "id": "8Cg6DHTjHi5X",
        "outputId": "ed58ed03-f69f-4e4d-e96e-cdc532ee01cf",
        "colab": {
          "base_uri": "https://localhost:8080/"
        }
      },
      "execution_count": 1,
      "outputs": [
        {
          "output_type": "stream",
          "name": "stdout",
          "text": [
            "Collecting roboflow\n",
            "  Downloading roboflow-1.1.66-py3-none-any.whl.metadata (9.7 kB)\n",
            "Requirement already satisfied: certifi in /usr/local/lib/python3.11/dist-packages (from roboflow) (2025.4.26)\n",
            "Collecting idna==3.7 (from roboflow)\n",
            "  Downloading idna-3.7-py3-none-any.whl.metadata (9.9 kB)\n",
            "Requirement already satisfied: cycler in /usr/local/lib/python3.11/dist-packages (from roboflow) (0.12.1)\n",
            "Requirement already satisfied: kiwisolver>=1.3.1 in /usr/local/lib/python3.11/dist-packages (from roboflow) (1.4.8)\n",
            "Requirement already satisfied: matplotlib in /usr/local/lib/python3.11/dist-packages (from roboflow) (3.10.0)\n",
            "Requirement already satisfied: numpy>=1.18.5 in /usr/local/lib/python3.11/dist-packages (from roboflow) (2.0.2)\n",
            "Collecting opencv-python-headless==4.10.0.84 (from roboflow)\n",
            "  Downloading opencv_python_headless-4.10.0.84-cp37-abi3-manylinux_2_17_x86_64.manylinux2014_x86_64.whl.metadata (20 kB)\n",
            "Requirement already satisfied: Pillow>=7.1.2 in /usr/local/lib/python3.11/dist-packages (from roboflow) (11.2.1)\n",
            "Collecting pillow-heif>=0.18.0 (from roboflow)\n",
            "  Downloading pillow_heif-0.22.0-cp311-cp311-manylinux_2_17_x86_64.manylinux2014_x86_64.whl.metadata (9.6 kB)\n",
            "Requirement already satisfied: python-dateutil in /usr/local/lib/python3.11/dist-packages (from roboflow) (2.9.0.post0)\n",
            "Collecting python-dotenv (from roboflow)\n",
            "  Downloading python_dotenv-1.1.0-py3-none-any.whl.metadata (24 kB)\n",
            "Requirement already satisfied: requests in /usr/local/lib/python3.11/dist-packages (from roboflow) (2.32.3)\n",
            "Requirement already satisfied: six in /usr/local/lib/python3.11/dist-packages (from roboflow) (1.17.0)\n",
            "Requirement already satisfied: urllib3>=1.26.6 in /usr/local/lib/python3.11/dist-packages (from roboflow) (2.4.0)\n",
            "Requirement already satisfied: tqdm>=4.41.0 in /usr/local/lib/python3.11/dist-packages (from roboflow) (4.67.1)\n",
            "Requirement already satisfied: PyYAML>=5.3.1 in /usr/local/lib/python3.11/dist-packages (from roboflow) (6.0.2)\n",
            "Requirement already satisfied: requests-toolbelt in /usr/local/lib/python3.11/dist-packages (from roboflow) (1.0.0)\n",
            "Collecting filetype (from roboflow)\n",
            "  Downloading filetype-1.2.0-py2.py3-none-any.whl.metadata (6.5 kB)\n",
            "Requirement already satisfied: contourpy>=1.0.1 in /usr/local/lib/python3.11/dist-packages (from matplotlib->roboflow) (1.3.2)\n",
            "Requirement already satisfied: fonttools>=4.22.0 in /usr/local/lib/python3.11/dist-packages (from matplotlib->roboflow) (4.58.1)\n",
            "Requirement already satisfied: packaging>=20.0 in /usr/local/lib/python3.11/dist-packages (from matplotlib->roboflow) (24.2)\n",
            "Requirement already satisfied: pyparsing>=2.3.1 in /usr/local/lib/python3.11/dist-packages (from matplotlib->roboflow) (3.2.3)\n",
            "Requirement already satisfied: charset-normalizer<4,>=2 in /usr/local/lib/python3.11/dist-packages (from requests->roboflow) (3.4.2)\n",
            "Downloading roboflow-1.1.66-py3-none-any.whl (86 kB)\n",
            "\u001b[2K   \u001b[90m━━━━━━━━━━━━━━━━━━━━━━━━━━━━━━━━━━━━━━━━\u001b[0m \u001b[32m86.7/86.7 kB\u001b[0m \u001b[31m3.6 MB/s\u001b[0m eta \u001b[36m0:00:00\u001b[0m\n",
            "\u001b[?25hDownloading idna-3.7-py3-none-any.whl (66 kB)\n",
            "\u001b[2K   \u001b[90m━━━━━━━━━━━━━━━━━━━━━━━━━━━━━━━━━━━━━━━━\u001b[0m \u001b[32m66.8/66.8 kB\u001b[0m \u001b[31m5.4 MB/s\u001b[0m eta \u001b[36m0:00:00\u001b[0m\n",
            "\u001b[?25hDownloading opencv_python_headless-4.10.0.84-cp37-abi3-manylinux_2_17_x86_64.manylinux2014_x86_64.whl (49.9 MB)\n",
            "\u001b[2K   \u001b[90m━━━━━━━━━━━━━━━━━━━━━━━━━━━━━━━━━━━━━━━━\u001b[0m \u001b[32m49.9/49.9 MB\u001b[0m \u001b[31m13.5 MB/s\u001b[0m eta \u001b[36m0:00:00\u001b[0m\n",
            "\u001b[?25hDownloading pillow_heif-0.22.0-cp311-cp311-manylinux_2_17_x86_64.manylinux2014_x86_64.whl (7.8 MB)\n",
            "\u001b[2K   \u001b[90m━━━━━━━━━━━━━━━━━━━━━━━━━━━━━━━━━━━━━━━━\u001b[0m \u001b[32m7.8/7.8 MB\u001b[0m \u001b[31m94.1 MB/s\u001b[0m eta \u001b[36m0:00:00\u001b[0m\n",
            "\u001b[?25hDownloading filetype-1.2.0-py2.py3-none-any.whl (19 kB)\n",
            "Downloading python_dotenv-1.1.0-py3-none-any.whl (20 kB)\n",
            "Installing collected packages: filetype, python-dotenv, pillow-heif, opencv-python-headless, idna, roboflow\n",
            "  Attempting uninstall: opencv-python-headless\n",
            "    Found existing installation: opencv-python-headless 4.11.0.86\n",
            "    Uninstalling opencv-python-headless-4.11.0.86:\n",
            "      Successfully uninstalled opencv-python-headless-4.11.0.86\n",
            "  Attempting uninstall: idna\n",
            "    Found existing installation: idna 3.10\n",
            "    Uninstalling idna-3.10:\n",
            "      Successfully uninstalled idna-3.10\n",
            "Successfully installed filetype-1.2.0 idna-3.7 opencv-python-headless-4.10.0.84 pillow-heif-0.22.0 python-dotenv-1.1.0 roboflow-1.1.66\n",
            "loading Roboflow workspace...\n",
            "loading Roboflow project...\n"
          ]
        },
        {
          "output_type": "stream",
          "name": "stderr",
          "text": [
            "Downloading Dataset Version Zip in robo_chess-4 to yolov11:: 100%|██████████| 37625/37625 [00:00<00:00, 42957.36it/s]"
          ]
        },
        {
          "output_type": "stream",
          "name": "stdout",
          "text": [
            "\n"
          ]
        },
        {
          "output_type": "stream",
          "name": "stderr",
          "text": [
            "\n",
            "Extracting Dataset Version Zip to robo_chess-4 in yolov11:: 100%|██████████| 1348/1348 [00:00<00:00, 7324.02it/s]\n"
          ]
        }
      ]
    },
    {
      "cell_type": "code",
      "source": [],
      "metadata": {
        "id": "JdERRD9B4rFD"
      },
      "execution_count": null,
      "outputs": []
    },
    {
      "cell_type": "code",
      "source": [
        "!pip install ultralytics\n",
        "from ultralytics import YOLO\n",
        "\n",
        "model = YOLO('yolo11n.pt')\n",
        "\n",
        "results = model.train(data='robo_chess-4/data.yaml', epochs=200, imgsz=640)\n",
        "!zip -r /content/file.zip /content\n",
        "from google.colab import files\n",
        "files.download(\"/content/file.zip\")"
      ],
      "metadata": {
        "outputId": "6d6f6719-7597-4f84-9602-4cb498af6033",
        "colab": {
          "base_uri": "https://localhost:8080/",
          "height": 1000
        },
        "id": "f8mBcvya46B3"
      },
      "execution_count": 2,
      "outputs": [
        {
          "output_type": "stream",
          "name": "stdout",
          "text": [
            "Collecting ultralytics\n",
            "  Downloading ultralytics-8.3.153-py3-none-any.whl.metadata (37 kB)\n",
            "Requirement already satisfied: numpy>=1.23.0 in /usr/local/lib/python3.11/dist-packages (from ultralytics) (2.0.2)\n",
            "Requirement already satisfied: matplotlib>=3.3.0 in /usr/local/lib/python3.11/dist-packages (from ultralytics) (3.10.0)\n",
            "Requirement already satisfied: opencv-python>=4.6.0 in /usr/local/lib/python3.11/dist-packages (from ultralytics) (4.11.0.86)\n",
            "Requirement already satisfied: pillow>=7.1.2 in /usr/local/lib/python3.11/dist-packages (from ultralytics) (11.2.1)\n",
            "Requirement already satisfied: pyyaml>=5.3.1 in /usr/local/lib/python3.11/dist-packages (from ultralytics) (6.0.2)\n",
            "Requirement already satisfied: requests>=2.23.0 in /usr/local/lib/python3.11/dist-packages (from ultralytics) (2.32.3)\n",
            "Requirement already satisfied: scipy>=1.4.1 in /usr/local/lib/python3.11/dist-packages (from ultralytics) (1.15.3)\n",
            "Requirement already satisfied: torch>=1.8.0 in /usr/local/lib/python3.11/dist-packages (from ultralytics) (2.6.0+cu124)\n",
            "Requirement already satisfied: torchvision>=0.9.0 in /usr/local/lib/python3.11/dist-packages (from ultralytics) (0.21.0+cu124)\n",
            "Requirement already satisfied: tqdm>=4.64.0 in /usr/local/lib/python3.11/dist-packages (from ultralytics) (4.67.1)\n",
            "Requirement already satisfied: psutil in /usr/local/lib/python3.11/dist-packages (from ultralytics) (5.9.5)\n",
            "Requirement already satisfied: py-cpuinfo in /usr/local/lib/python3.11/dist-packages (from ultralytics) (9.0.0)\n",
            "Requirement already satisfied: pandas>=1.1.4 in /usr/local/lib/python3.11/dist-packages (from ultralytics) (2.2.2)\n",
            "Collecting ultralytics-thop>=2.0.0 (from ultralytics)\n",
            "  Downloading ultralytics_thop-2.0.14-py3-none-any.whl.metadata (9.4 kB)\n",
            "Requirement already satisfied: contourpy>=1.0.1 in /usr/local/lib/python3.11/dist-packages (from matplotlib>=3.3.0->ultralytics) (1.3.2)\n",
            "Requirement already satisfied: cycler>=0.10 in /usr/local/lib/python3.11/dist-packages (from matplotlib>=3.3.0->ultralytics) (0.12.1)\n",
            "Requirement already satisfied: fonttools>=4.22.0 in /usr/local/lib/python3.11/dist-packages (from matplotlib>=3.3.0->ultralytics) (4.58.1)\n",
            "Requirement already satisfied: kiwisolver>=1.3.1 in /usr/local/lib/python3.11/dist-packages (from matplotlib>=3.3.0->ultralytics) (1.4.8)\n",
            "Requirement already satisfied: packaging>=20.0 in /usr/local/lib/python3.11/dist-packages (from matplotlib>=3.3.0->ultralytics) (24.2)\n",
            "Requirement already satisfied: pyparsing>=2.3.1 in /usr/local/lib/python3.11/dist-packages (from matplotlib>=3.3.0->ultralytics) (3.2.3)\n",
            "Requirement already satisfied: python-dateutil>=2.7 in /usr/local/lib/python3.11/dist-packages (from matplotlib>=3.3.0->ultralytics) (2.9.0.post0)\n",
            "Requirement already satisfied: pytz>=2020.1 in /usr/local/lib/python3.11/dist-packages (from pandas>=1.1.4->ultralytics) (2025.2)\n",
            "Requirement already satisfied: tzdata>=2022.7 in /usr/local/lib/python3.11/dist-packages (from pandas>=1.1.4->ultralytics) (2025.2)\n",
            "Requirement already satisfied: charset-normalizer<4,>=2 in /usr/local/lib/python3.11/dist-packages (from requests>=2.23.0->ultralytics) (3.4.2)\n",
            "Requirement already satisfied: idna<4,>=2.5 in /usr/local/lib/python3.11/dist-packages (from requests>=2.23.0->ultralytics) (3.7)\n",
            "Requirement already satisfied: urllib3<3,>=1.21.1 in /usr/local/lib/python3.11/dist-packages (from requests>=2.23.0->ultralytics) (2.4.0)\n",
            "Requirement already satisfied: certifi>=2017.4.17 in /usr/local/lib/python3.11/dist-packages (from requests>=2.23.0->ultralytics) (2025.4.26)\n",
            "Requirement already satisfied: filelock in /usr/local/lib/python3.11/dist-packages (from torch>=1.8.0->ultralytics) (3.18.0)\n",
            "Requirement already satisfied: typing-extensions>=4.10.0 in /usr/local/lib/python3.11/dist-packages (from torch>=1.8.0->ultralytics) (4.14.0)\n",
            "Requirement already satisfied: networkx in /usr/local/lib/python3.11/dist-packages (from torch>=1.8.0->ultralytics) (3.5)\n",
            "Requirement already satisfied: jinja2 in /usr/local/lib/python3.11/dist-packages (from torch>=1.8.0->ultralytics) (3.1.6)\n",
            "Requirement already satisfied: fsspec in /usr/local/lib/python3.11/dist-packages (from torch>=1.8.0->ultralytics) (2025.3.2)\n",
            "Collecting nvidia-cuda-nvrtc-cu12==12.4.127 (from torch>=1.8.0->ultralytics)\n",
            "  Downloading nvidia_cuda_nvrtc_cu12-12.4.127-py3-none-manylinux2014_x86_64.whl.metadata (1.5 kB)\n",
            "Collecting nvidia-cuda-runtime-cu12==12.4.127 (from torch>=1.8.0->ultralytics)\n",
            "  Downloading nvidia_cuda_runtime_cu12-12.4.127-py3-none-manylinux2014_x86_64.whl.metadata (1.5 kB)\n",
            "Collecting nvidia-cuda-cupti-cu12==12.4.127 (from torch>=1.8.0->ultralytics)\n",
            "  Downloading nvidia_cuda_cupti_cu12-12.4.127-py3-none-manylinux2014_x86_64.whl.metadata (1.6 kB)\n",
            "Collecting nvidia-cudnn-cu12==9.1.0.70 (from torch>=1.8.0->ultralytics)\n",
            "  Downloading nvidia_cudnn_cu12-9.1.0.70-py3-none-manylinux2014_x86_64.whl.metadata (1.6 kB)\n",
            "Collecting nvidia-cublas-cu12==12.4.5.8 (from torch>=1.8.0->ultralytics)\n",
            "  Downloading nvidia_cublas_cu12-12.4.5.8-py3-none-manylinux2014_x86_64.whl.metadata (1.5 kB)\n",
            "Collecting nvidia-cufft-cu12==11.2.1.3 (from torch>=1.8.0->ultralytics)\n",
            "  Downloading nvidia_cufft_cu12-11.2.1.3-py3-none-manylinux2014_x86_64.whl.metadata (1.5 kB)\n",
            "Collecting nvidia-curand-cu12==10.3.5.147 (from torch>=1.8.0->ultralytics)\n",
            "  Downloading nvidia_curand_cu12-10.3.5.147-py3-none-manylinux2014_x86_64.whl.metadata (1.5 kB)\n",
            "Collecting nvidia-cusolver-cu12==11.6.1.9 (from torch>=1.8.0->ultralytics)\n",
            "  Downloading nvidia_cusolver_cu12-11.6.1.9-py3-none-manylinux2014_x86_64.whl.metadata (1.6 kB)\n",
            "Collecting nvidia-cusparse-cu12==12.3.1.170 (from torch>=1.8.0->ultralytics)\n",
            "  Downloading nvidia_cusparse_cu12-12.3.1.170-py3-none-manylinux2014_x86_64.whl.metadata (1.6 kB)\n",
            "Requirement already satisfied: nvidia-cusparselt-cu12==0.6.2 in /usr/local/lib/python3.11/dist-packages (from torch>=1.8.0->ultralytics) (0.6.2)\n",
            "Requirement already satisfied: nvidia-nccl-cu12==2.21.5 in /usr/local/lib/python3.11/dist-packages (from torch>=1.8.0->ultralytics) (2.21.5)\n",
            "Requirement already satisfied: nvidia-nvtx-cu12==12.4.127 in /usr/local/lib/python3.11/dist-packages (from torch>=1.8.0->ultralytics) (12.4.127)\n",
            "Collecting nvidia-nvjitlink-cu12==12.4.127 (from torch>=1.8.0->ultralytics)\n",
            "  Downloading nvidia_nvjitlink_cu12-12.4.127-py3-none-manylinux2014_x86_64.whl.metadata (1.5 kB)\n",
            "Requirement already satisfied: triton==3.2.0 in /usr/local/lib/python3.11/dist-packages (from torch>=1.8.0->ultralytics) (3.2.0)\n",
            "Requirement already satisfied: sympy==1.13.1 in /usr/local/lib/python3.11/dist-packages (from torch>=1.8.0->ultralytics) (1.13.1)\n",
            "Requirement already satisfied: mpmath<1.4,>=1.1.0 in /usr/local/lib/python3.11/dist-packages (from sympy==1.13.1->torch>=1.8.0->ultralytics) (1.3.0)\n",
            "Requirement already satisfied: six>=1.5 in /usr/local/lib/python3.11/dist-packages (from python-dateutil>=2.7->matplotlib>=3.3.0->ultralytics) (1.17.0)\n",
            "Requirement already satisfied: MarkupSafe>=2.0 in /usr/local/lib/python3.11/dist-packages (from jinja2->torch>=1.8.0->ultralytics) (3.0.2)\n",
            "Downloading ultralytics-8.3.153-py3-none-any.whl (1.0 MB)\n",
            "\u001b[2K   \u001b[90m━━━━━━━━━━━━━━━━━━━━━━━━━━━━━━━━━━━━━━━━\u001b[0m \u001b[32m1.0/1.0 MB\u001b[0m \u001b[31m27.0 MB/s\u001b[0m eta \u001b[36m0:00:00\u001b[0m\n",
            "\u001b[?25hDownloading nvidia_cublas_cu12-12.4.5.8-py3-none-manylinux2014_x86_64.whl (363.4 MB)\n",
            "\u001b[2K   \u001b[90m━━━━━━━━━━━━━━━━━━━━━━━━━━━━━━━━━━━━━━━━\u001b[0m \u001b[32m363.4/363.4 MB\u001b[0m \u001b[31m5.0 MB/s\u001b[0m eta \u001b[36m0:00:00\u001b[0m\n",
            "\u001b[?25hDownloading nvidia_cuda_cupti_cu12-12.4.127-py3-none-manylinux2014_x86_64.whl (13.8 MB)\n",
            "\u001b[2K   \u001b[90m━━━━━━━━━━━━━━━━━━━━━━━━━━━━━━━━━━━━━━━━\u001b[0m \u001b[32m13.8/13.8 MB\u001b[0m \u001b[31m51.5 MB/s\u001b[0m eta \u001b[36m0:00:00\u001b[0m\n",
            "\u001b[?25hDownloading nvidia_cuda_nvrtc_cu12-12.4.127-py3-none-manylinux2014_x86_64.whl (24.6 MB)\n",
            "\u001b[2K   \u001b[90m━━━━━━━━━━━━━━━━━━━━━━━━━━━━━━━━━━━━━━━━\u001b[0m \u001b[32m24.6/24.6 MB\u001b[0m \u001b[31m47.1 MB/s\u001b[0m eta \u001b[36m0:00:00\u001b[0m\n",
            "\u001b[?25hDownloading nvidia_cuda_runtime_cu12-12.4.127-py3-none-manylinux2014_x86_64.whl (883 kB)\n",
            "\u001b[2K   \u001b[90m━━━━━━━━━━━━━━━━━━━━━━━━━━━━━━━━━━━━━━━━\u001b[0m \u001b[32m883.7/883.7 kB\u001b[0m \u001b[31m39.1 MB/s\u001b[0m eta \u001b[36m0:00:00\u001b[0m\n",
            "\u001b[?25hDownloading nvidia_cudnn_cu12-9.1.0.70-py3-none-manylinux2014_x86_64.whl (664.8 MB)\n",
            "\u001b[2K   \u001b[90m━━━━━━━━━━━━━━━━━━━━━━━━━━━━━━━━━━━━━━━━\u001b[0m \u001b[32m664.8/664.8 MB\u001b[0m \u001b[31m1.3 MB/s\u001b[0m eta \u001b[36m0:00:00\u001b[0m\n",
            "\u001b[?25hDownloading nvidia_cufft_cu12-11.2.1.3-py3-none-manylinux2014_x86_64.whl (211.5 MB)\n",
            "\u001b[2K   \u001b[90m━━━━━━━━━━━━━━━━━━━━━━━━━━━━━━━━━━━━━━━━\u001b[0m \u001b[32m211.5/211.5 MB\u001b[0m \u001b[31m5.7 MB/s\u001b[0m eta \u001b[36m0:00:00\u001b[0m\n",
            "\u001b[?25hDownloading nvidia_curand_cu12-10.3.5.147-py3-none-manylinux2014_x86_64.whl (56.3 MB)\n",
            "\u001b[2K   \u001b[90m━━━━━━━━━━━━━━━━━━━━━━━━━━━━━━━━━━━━━━━━\u001b[0m \u001b[32m56.3/56.3 MB\u001b[0m \u001b[31m10.9 MB/s\u001b[0m eta \u001b[36m0:00:00\u001b[0m\n",
            "\u001b[?25hDownloading nvidia_cusolver_cu12-11.6.1.9-py3-none-manylinux2014_x86_64.whl (127.9 MB)\n",
            "\u001b[2K   \u001b[90m━━━━━━━━━━━━━━━━━━━━━━━━━━━━━━━━━━━━━━━━\u001b[0m \u001b[32m127.9/127.9 MB\u001b[0m \u001b[31m9.8 MB/s\u001b[0m eta \u001b[36m0:00:00\u001b[0m\n",
            "\u001b[?25hDownloading nvidia_cusparse_cu12-12.3.1.170-py3-none-manylinux2014_x86_64.whl (207.5 MB)\n",
            "\u001b[2K   \u001b[90m━━━━━━━━━━━━━━━━━━━━━━━━━━━━━━━━━━━━━━━━\u001b[0m \u001b[32m207.5/207.5 MB\u001b[0m \u001b[31m7.7 MB/s\u001b[0m eta \u001b[36m0:00:00\u001b[0m\n",
            "\u001b[?25hDownloading nvidia_nvjitlink_cu12-12.4.127-py3-none-manylinux2014_x86_64.whl (21.1 MB)\n",
            "\u001b[2K   \u001b[90m━━━━━━━━━━━━━━━━━━━━━━━━━━━━━━━━━━━━━━━━\u001b[0m \u001b[32m21.1/21.1 MB\u001b[0m \u001b[31m36.3 MB/s\u001b[0m eta \u001b[36m0:00:00\u001b[0m\n",
            "\u001b[?25hDownloading ultralytics_thop-2.0.14-py3-none-any.whl (26 kB)\n",
            "Installing collected packages: nvidia-nvjitlink-cu12, nvidia-curand-cu12, nvidia-cufft-cu12, nvidia-cuda-runtime-cu12, nvidia-cuda-nvrtc-cu12, nvidia-cuda-cupti-cu12, nvidia-cublas-cu12, nvidia-cusparse-cu12, nvidia-cudnn-cu12, nvidia-cusolver-cu12, ultralytics-thop, ultralytics\n",
            "  Attempting uninstall: nvidia-nvjitlink-cu12\n",
            "    Found existing installation: nvidia-nvjitlink-cu12 12.5.82\n",
            "    Uninstalling nvidia-nvjitlink-cu12-12.5.82:\n",
            "      Successfully uninstalled nvidia-nvjitlink-cu12-12.5.82\n",
            "  Attempting uninstall: nvidia-curand-cu12\n",
            "    Found existing installation: nvidia-curand-cu12 10.3.6.82\n",
            "    Uninstalling nvidia-curand-cu12-10.3.6.82:\n",
            "      Successfully uninstalled nvidia-curand-cu12-10.3.6.82\n",
            "  Attempting uninstall: nvidia-cufft-cu12\n",
            "    Found existing installation: nvidia-cufft-cu12 11.2.3.61\n",
            "    Uninstalling nvidia-cufft-cu12-11.2.3.61:\n",
            "      Successfully uninstalled nvidia-cufft-cu12-11.2.3.61\n",
            "  Attempting uninstall: nvidia-cuda-runtime-cu12\n",
            "    Found existing installation: nvidia-cuda-runtime-cu12 12.5.82\n",
            "    Uninstalling nvidia-cuda-runtime-cu12-12.5.82:\n",
            "      Successfully uninstalled nvidia-cuda-runtime-cu12-12.5.82\n",
            "  Attempting uninstall: nvidia-cuda-nvrtc-cu12\n",
            "    Found existing installation: nvidia-cuda-nvrtc-cu12 12.5.82\n",
            "    Uninstalling nvidia-cuda-nvrtc-cu12-12.5.82:\n",
            "      Successfully uninstalled nvidia-cuda-nvrtc-cu12-12.5.82\n",
            "  Attempting uninstall: nvidia-cuda-cupti-cu12\n",
            "    Found existing installation: nvidia-cuda-cupti-cu12 12.5.82\n",
            "    Uninstalling nvidia-cuda-cupti-cu12-12.5.82:\n",
            "      Successfully uninstalled nvidia-cuda-cupti-cu12-12.5.82\n",
            "  Attempting uninstall: nvidia-cublas-cu12\n",
            "    Found existing installation: nvidia-cublas-cu12 12.5.3.2\n",
            "    Uninstalling nvidia-cublas-cu12-12.5.3.2:\n",
            "      Successfully uninstalled nvidia-cublas-cu12-12.5.3.2\n",
            "  Attempting uninstall: nvidia-cusparse-cu12\n",
            "    Found existing installation: nvidia-cusparse-cu12 12.5.1.3\n",
            "    Uninstalling nvidia-cusparse-cu12-12.5.1.3:\n",
            "      Successfully uninstalled nvidia-cusparse-cu12-12.5.1.3\n",
            "  Attempting uninstall: nvidia-cudnn-cu12\n",
            "    Found existing installation: nvidia-cudnn-cu12 9.3.0.75\n",
            "    Uninstalling nvidia-cudnn-cu12-9.3.0.75:\n",
            "      Successfully uninstalled nvidia-cudnn-cu12-9.3.0.75\n",
            "  Attempting uninstall: nvidia-cusolver-cu12\n",
            "    Found existing installation: nvidia-cusolver-cu12 11.6.3.83\n",
            "    Uninstalling nvidia-cusolver-cu12-11.6.3.83:\n",
            "      Successfully uninstalled nvidia-cusolver-cu12-11.6.3.83\n",
            "Successfully installed nvidia-cublas-cu12-12.4.5.8 nvidia-cuda-cupti-cu12-12.4.127 nvidia-cuda-nvrtc-cu12-12.4.127 nvidia-cuda-runtime-cu12-12.4.127 nvidia-cudnn-cu12-9.1.0.70 nvidia-cufft-cu12-11.2.1.3 nvidia-curand-cu12-10.3.5.147 nvidia-cusolver-cu12-11.6.1.9 nvidia-cusparse-cu12-12.3.1.170 nvidia-nvjitlink-cu12-12.4.127 ultralytics-8.3.153 ultralytics-thop-2.0.14\n",
            "Creating new Ultralytics Settings v0.0.6 file ✅ \n",
            "View Ultralytics Settings with 'yolo settings' or at '/root/.config/Ultralytics/settings.json'\n",
            "Update Settings with 'yolo settings key=value', i.e. 'yolo settings runs_dir=path/to/dir'. For help see https://docs.ultralytics.com/quickstart/#ultralytics-settings.\n",
            "Downloading https://github.com/ultralytics/assets/releases/download/v8.3.0/yolo11n.pt to 'yolo11n.pt'...\n"
          ]
        },
        {
          "output_type": "stream",
          "name": "stderr",
          "text": [
            "100%|██████████| 5.35M/5.35M [00:00<00:00, 89.2MB/s]\n"
          ]
        },
        {
          "output_type": "stream",
          "name": "stdout",
          "text": [
            "Ultralytics 8.3.153 🚀 Python-3.11.13 torch-2.6.0+cu124 CUDA:0 (Tesla T4, 15095MiB)\n",
            "\u001b[34m\u001b[1mengine/trainer: \u001b[0magnostic_nms=False, amp=True, augment=False, auto_augment=randaugment, batch=16, bgr=0.0, box=7.5, cache=False, cfg=None, classes=None, close_mosaic=10, cls=0.5, conf=None, copy_paste=0.0, copy_paste_mode=flip, cos_lr=False, cutmix=0.0, data=robo_chess-4/data.yaml, degrees=0.0, deterministic=True, device=None, dfl=1.5, dnn=False, dropout=0.0, dynamic=False, embed=None, epochs=200, erasing=0.4, exist_ok=False, fliplr=0.5, flipud=0.0, format=torchscript, fraction=1.0, freeze=None, half=False, hsv_h=0.015, hsv_s=0.7, hsv_v=0.4, imgsz=640, int8=False, iou=0.7, keras=False, kobj=1.0, line_width=None, lr0=0.01, lrf=0.01, mask_ratio=4, max_det=300, mixup=0.0, mode=train, model=yolo11n.pt, momentum=0.937, mosaic=1.0, multi_scale=False, name=train, nbs=64, nms=False, opset=None, optimize=False, optimizer=auto, overlap_mask=True, patience=100, perspective=0.0, plots=True, pose=12.0, pretrained=True, profile=False, project=None, rect=False, resume=False, retina_masks=False, save=True, save_conf=False, save_crop=False, save_dir=runs/detect/train, save_frames=False, save_json=False, save_period=-1, save_txt=False, scale=0.5, seed=0, shear=0.0, show=False, show_boxes=True, show_conf=True, show_labels=True, simplify=True, single_cls=False, source=None, split=val, stream_buffer=False, task=detect, time=None, tracker=botsort.yaml, translate=0.1, val=True, verbose=True, vid_stride=1, visualize=False, warmup_bias_lr=0.1, warmup_epochs=3.0, warmup_momentum=0.8, weight_decay=0.0005, workers=8, workspace=None\n",
            "Downloading https://ultralytics.com/assets/Arial.ttf to '/root/.config/Ultralytics/Arial.ttf'...\n"
          ]
        },
        {
          "output_type": "stream",
          "name": "stderr",
          "text": [
            "100%|██████████| 755k/755k [00:00<00:00, 21.8MB/s]"
          ]
        },
        {
          "output_type": "stream",
          "name": "stdout",
          "text": [
            "Overriding model.yaml nc=80 with nc=13\n",
            "\n",
            "                   from  n    params  module                                       arguments                     \n",
            "  0                  -1  1       464  ultralytics.nn.modules.conv.Conv             [3, 16, 3, 2]                 \n",
            "  1                  -1  1      4672  ultralytics.nn.modules.conv.Conv             [16, 32, 3, 2]                \n",
            "  2                  -1  1      6640  ultralytics.nn.modules.block.C3k2            [32, 64, 1, False, 0.25]      \n",
            "  3                  -1  1     36992  ultralytics.nn.modules.conv.Conv             [64, 64, 3, 2]                \n",
            "  4                  -1  1     26080  ultralytics.nn.modules.block.C3k2            [64, 128, 1, False, 0.25]     \n",
            "  5                  -1  1    147712  ultralytics.nn.modules.conv.Conv             [128, 128, 3, 2]              \n",
            "  6                  -1  1     87040  ultralytics.nn.modules.block.C3k2            [128, 128, 1, True]           \n",
            "  7                  -1  1    295424  ultralytics.nn.modules.conv.Conv             [128, 256, 3, 2]              \n",
            "  8                  -1  1    346112  ultralytics.nn.modules.block.C3k2            [256, 256, 1, True]           \n",
            "  9                  -1  1    164608  ultralytics.nn.modules.block.SPPF            [256, 256, 5]                 \n",
            " 10                  -1  1    249728  ultralytics.nn.modules.block.C2PSA           [256, 256, 1]                 \n",
            " 11                  -1  1         0  torch.nn.modules.upsampling.Upsample         [None, 2, 'nearest']          \n",
            " 12             [-1, 6]  1         0  ultralytics.nn.modules.conv.Concat           [1]                           \n",
            " 13                  -1  1    111296  ultralytics.nn.modules.block.C3k2            [384, 128, 1, False]          \n",
            " 14                  -1  1         0  torch.nn.modules.upsampling.Upsample         [None, 2, 'nearest']          \n",
            " 15             [-1, 4]  1         0  ultralytics.nn.modules.conv.Concat           [1]                           \n",
            " 16                  -1  1     32096  ultralytics.nn.modules.block.C3k2            [256, 64, 1, False]           \n",
            " 17                  -1  1     36992  ultralytics.nn.modules.conv.Conv             [64, 64, 3, 2]                \n",
            " 18            [-1, 13]  1         0  ultralytics.nn.modules.conv.Concat           [1]                           \n",
            " 19                  -1  1     86720  ultralytics.nn.modules.block.C3k2            [192, 128, 1, False]          \n",
            " 20                  -1  1    147712  ultralytics.nn.modules.conv.Conv             [128, 128, 3, 2]              \n",
            " 21            [-1, 10]  1         0  ultralytics.nn.modules.conv.Concat           [1]                           \n",
            " 22                  -1  1    378880  ultralytics.nn.modules.block.C3k2            [384, 256, 1, True]           \n",
            " 23        [16, 19, 22]  1    433207  ultralytics.nn.modules.head.Detect           [13, [64, 128, 256]]          \n"
          ]
        },
        {
          "output_type": "stream",
          "name": "stderr",
          "text": [
            "\n"
          ]
        },
        {
          "output_type": "stream",
          "name": "stdout",
          "text": [
            "YOLO11n summary: 181 layers, 2,592,375 parameters, 2,592,359 gradients, 6.5 GFLOPs\n",
            "\n",
            "Transferred 448/499 items from pretrained weights\n",
            "Freezing layer 'model.23.dfl.conv.weight'\n",
            "\u001b[34m\u001b[1mAMP: \u001b[0mrunning Automatic Mixed Precision (AMP) checks...\n",
            "\u001b[34m\u001b[1mAMP: \u001b[0mchecks passed ✅\n",
            "\u001b[34m\u001b[1mtrain: \u001b[0mFast image access ✅ (ping: 0.0±0.0 ms, read: 19.2±1.8 MB/s, size: 44.0 KB)\n"
          ]
        },
        {
          "output_type": "stream",
          "name": "stderr",
          "text": [
            "\u001b[34m\u001b[1mtrain: \u001b[0mScanning /content/robo_chess-4/train/labels... 585 images, 6 backgrounds, 0 corrupt: 100%|██████████| 585/585 [00:00<00:00, 675.85it/s]"
          ]
        },
        {
          "output_type": "stream",
          "name": "stdout",
          "text": [
            "\u001b[34m\u001b[1mtrain: \u001b[0mNew cache created: /content/robo_chess-4/train/labels.cache\n",
            "WARNING ⚠️ Box and segment counts should be equal, but got len(segments) = 114, len(boxes) = 4310. To resolve this only boxes will be used and all segments will be removed. To avoid this please supply either a detect or segment dataset, not a detect-segment mixed dataset.\n"
          ]
        },
        {
          "output_type": "stream",
          "name": "stderr",
          "text": [
            "\n"
          ]
        },
        {
          "output_type": "stream",
          "name": "stdout",
          "text": [
            "\u001b[34m\u001b[1malbumentations: \u001b[0mBlur(p=0.01, blur_limit=(3, 7)), MedianBlur(p=0.01, blur_limit=(3, 7)), ToGray(p=0.01, method='weighted_average', num_output_channels=3), CLAHE(p=0.01, clip_limit=(1.0, 4.0), tile_grid_size=(8, 8))\n",
            "\u001b[34m\u001b[1mval: \u001b[0mFast image access ✅ (ping: 0.0±0.0 ms, read: 17.9±5.6 MB/s, size: 51.2 KB)\n"
          ]
        },
        {
          "output_type": "stream",
          "name": "stderr",
          "text": [
            "\u001b[34m\u001b[1mval: \u001b[0mScanning /content/robo_chess-4/valid/labels... 56 images, 0 backgrounds, 0 corrupt: 100%|██████████| 56/56 [00:00<00:00, 400.08it/s]"
          ]
        },
        {
          "output_type": "stream",
          "name": "stdout",
          "text": [
            "\u001b[34m\u001b[1mval: \u001b[0mNew cache created: /content/robo_chess-4/valid/labels.cache\n",
            "WARNING ⚠️ Box and segment counts should be equal, but got len(segments) = 24, len(boxes) = 444. To resolve this only boxes will be used and all segments will be removed. To avoid this please supply either a detect or segment dataset, not a detect-segment mixed dataset.\n"
          ]
        },
        {
          "output_type": "stream",
          "name": "stderr",
          "text": [
            "\n"
          ]
        },
        {
          "output_type": "stream",
          "name": "stdout",
          "text": [
            "Plotting labels to runs/detect/train/labels.jpg... \n",
            "\u001b[34m\u001b[1moptimizer:\u001b[0m 'optimizer=auto' found, ignoring 'lr0=0.01' and 'momentum=0.937' and determining best 'optimizer', 'lr0' and 'momentum' automatically... \n",
            "\u001b[34m\u001b[1moptimizer:\u001b[0m AdamW(lr=0.000588, momentum=0.9) with parameter groups 81 weight(decay=0.0), 88 weight(decay=0.0005), 87 bias(decay=0.0)\n",
            "Image sizes 640 train, 640 val\n",
            "Using 2 dataloader workers\n",
            "Logging results to \u001b[1mruns/detect/train\u001b[0m\n",
            "Starting training for 200 epochs...\n",
            "\n",
            "      Epoch    GPU_mem   box_loss   cls_loss   dfl_loss  Instances       Size\n"
          ]
        },
        {
          "output_type": "stream",
          "name": "stderr",
          "text": [
            "      1/200      2.81G      2.261      4.458      1.575        178        640: 100%|██████████| 37/37 [00:13<00:00,  2.69it/s]\n",
            "                 Class     Images  Instances      Box(P          R      mAP50  mAP50-95): 100%|██████████| 2/2 [00:01<00:00,  1.31it/s]"
          ]
        },
        {
          "output_type": "stream",
          "name": "stdout",
          "text": [
            "                   all         56        444     0.0132       0.14     0.0353     0.0195\n"
          ]
        },
        {
          "output_type": "stream",
          "name": "stderr",
          "text": [
            "\n"
          ]
        },
        {
          "output_type": "stream",
          "name": "stdout",
          "text": [
            "\n",
            "      Epoch    GPU_mem   box_loss   cls_loss   dfl_loss  Instances       Size\n"
          ]
        },
        {
          "output_type": "stream",
          "name": "stderr",
          "text": [
            "      2/200      3.15G      1.944      3.677      1.334         79        640: 100%|██████████| 37/37 [00:11<00:00,  3.32it/s]\n",
            "                 Class     Images  Instances      Box(P          R      mAP50  mAP50-95): 100%|██████████| 2/2 [00:00<00:00,  3.25it/s]"
          ]
        },
        {
          "output_type": "stream",
          "name": "stdout",
          "text": [
            "                   all         56        444     0.0181      0.481       0.05     0.0193\n"
          ]
        },
        {
          "output_type": "stream",
          "name": "stderr",
          "text": [
            "\n"
          ]
        },
        {
          "output_type": "stream",
          "name": "stdout",
          "text": [
            "\n",
            "      Epoch    GPU_mem   box_loss   cls_loss   dfl_loss  Instances       Size\n"
          ]
        },
        {
          "output_type": "stream",
          "name": "stderr",
          "text": [
            "      3/200      3.18G      1.954      3.125      1.325         58        640: 100%|██████████| 37/37 [00:10<00:00,  3.40it/s]\n",
            "                 Class     Images  Instances      Box(P          R      mAP50  mAP50-95): 100%|██████████| 2/2 [00:00<00:00,  3.14it/s]\n"
          ]
        },
        {
          "output_type": "stream",
          "name": "stdout",
          "text": [
            "                   all         56        444      0.262     0.0913     0.0882      0.036\n",
            "\n",
            "      Epoch    GPU_mem   box_loss   cls_loss   dfl_loss  Instances       Size\n"
          ]
        },
        {
          "output_type": "stream",
          "name": "stderr",
          "text": [
            "      4/200      3.18G      1.912      2.851      1.345         56        640: 100%|██████████| 37/37 [00:09<00:00,  3.81it/s]\n",
            "                 Class     Images  Instances      Box(P          R      mAP50  mAP50-95): 100%|██████████| 2/2 [00:00<00:00,  2.10it/s]"
          ]
        },
        {
          "output_type": "stream",
          "name": "stdout",
          "text": [
            "                   all         56        444      0.124      0.268      0.144     0.0698\n"
          ]
        },
        {
          "output_type": "stream",
          "name": "stderr",
          "text": [
            "\n"
          ]
        },
        {
          "output_type": "stream",
          "name": "stdout",
          "text": [
            "\n",
            "      Epoch    GPU_mem   box_loss   cls_loss   dfl_loss  Instances       Size\n"
          ]
        },
        {
          "output_type": "stream",
          "name": "stderr",
          "text": [
            "      5/200      3.39G      1.836      2.645      1.299         88        640: 100%|██████████| 37/37 [00:10<00:00,  3.66it/s]\n",
            "                 Class     Images  Instances      Box(P          R      mAP50  mAP50-95): 100%|██████████| 2/2 [00:00<00:00,  3.17it/s]"
          ]
        },
        {
          "output_type": "stream",
          "name": "stdout",
          "text": [
            "                   all         56        444      0.211       0.28      0.212     0.0992\n"
          ]
        },
        {
          "output_type": "stream",
          "name": "stderr",
          "text": [
            "\n"
          ]
        },
        {
          "output_type": "stream",
          "name": "stdout",
          "text": [
            "\n",
            "      Epoch    GPU_mem   box_loss   cls_loss   dfl_loss  Instances       Size\n"
          ]
        },
        {
          "output_type": "stream",
          "name": "stderr",
          "text": [
            "      6/200      3.59G      1.812      2.506      1.289         63        640: 100%|██████████| 37/37 [00:10<00:00,  3.40it/s]\n",
            "                 Class     Images  Instances      Box(P          R      mAP50  mAP50-95): 100%|██████████| 2/2 [00:00<00:00,  2.09it/s]"
          ]
        },
        {
          "output_type": "stream",
          "name": "stdout",
          "text": [
            "                   all         56        444      0.172      0.328       0.19     0.0901\n"
          ]
        },
        {
          "output_type": "stream",
          "name": "stderr",
          "text": [
            "\n"
          ]
        },
        {
          "output_type": "stream",
          "name": "stdout",
          "text": [
            "\n",
            "      Epoch    GPU_mem   box_loss   cls_loss   dfl_loss  Instances       Size\n"
          ]
        },
        {
          "output_type": "stream",
          "name": "stderr",
          "text": [
            "      7/200      3.61G      1.773      2.357      1.309         59        640: 100%|██████████| 37/37 [00:10<00:00,  3.36it/s]\n",
            "                 Class     Images  Instances      Box(P          R      mAP50  mAP50-95): 100%|██████████| 2/2 [00:00<00:00,  3.09it/s]"
          ]
        },
        {
          "output_type": "stream",
          "name": "stdout",
          "text": [
            "                   all         56        444      0.285       0.43      0.319       0.15\n"
          ]
        },
        {
          "output_type": "stream",
          "name": "stderr",
          "text": [
            "\n"
          ]
        },
        {
          "output_type": "stream",
          "name": "stdout",
          "text": [
            "\n",
            "      Epoch    GPU_mem   box_loss   cls_loss   dfl_loss  Instances       Size\n"
          ]
        },
        {
          "output_type": "stream",
          "name": "stderr",
          "text": [
            "      8/200      3.61G      1.742      2.228      1.273         62        640: 100%|██████████| 37/37 [00:11<00:00,  3.36it/s]\n",
            "                 Class     Images  Instances      Box(P          R      mAP50  mAP50-95): 100%|██████████| 2/2 [00:00<00:00,  3.03it/s]\n"
          ]
        },
        {
          "output_type": "stream",
          "name": "stdout",
          "text": [
            "                   all         56        444      0.233      0.436       0.28       0.13\n",
            "\n",
            "      Epoch    GPU_mem   box_loss   cls_loss   dfl_loss  Instances       Size\n"
          ]
        },
        {
          "output_type": "stream",
          "name": "stderr",
          "text": [
            "      9/200      3.64G      1.745       2.19      1.272        210        640: 100%|██████████| 37/37 [00:10<00:00,  3.49it/s]\n",
            "                 Class     Images  Instances      Box(P          R      mAP50  mAP50-95): 100%|██████████| 2/2 [00:00<00:00,  2.26it/s]"
          ]
        },
        {
          "output_type": "stream",
          "name": "stdout",
          "text": [
            "                   all         56        444       0.34      0.438      0.357      0.169\n"
          ]
        },
        {
          "output_type": "stream",
          "name": "stderr",
          "text": [
            "\n"
          ]
        },
        {
          "output_type": "stream",
          "name": "stdout",
          "text": [
            "\n",
            "      Epoch    GPU_mem   box_loss   cls_loss   dfl_loss  Instances       Size\n"
          ]
        },
        {
          "output_type": "stream",
          "name": "stderr",
          "text": [
            "     10/200      3.65G      1.724      2.058      1.263        109        640: 100%|██████████| 37/37 [00:09<00:00,  3.91it/s]\n",
            "                 Class     Images  Instances      Box(P          R      mAP50  mAP50-95): 100%|██████████| 2/2 [00:01<00:00,  1.95it/s]"
          ]
        },
        {
          "output_type": "stream",
          "name": "stdout",
          "text": [
            "                   all         56        444      0.394      0.477      0.397      0.178\n"
          ]
        },
        {
          "output_type": "stream",
          "name": "stderr",
          "text": [
            "\n"
          ]
        },
        {
          "output_type": "stream",
          "name": "stdout",
          "text": [
            "\n",
            "      Epoch    GPU_mem   box_loss   cls_loss   dfl_loss  Instances       Size\n"
          ]
        },
        {
          "output_type": "stream",
          "name": "stderr",
          "text": [
            "     11/200      3.66G       1.72      2.048      1.292        107        640: 100%|██████████| 37/37 [00:10<00:00,  3.62it/s]\n",
            "                 Class     Images  Instances      Box(P          R      mAP50  mAP50-95): 100%|██████████| 2/2 [00:00<00:00,  4.03it/s]\n"
          ]
        },
        {
          "output_type": "stream",
          "name": "stdout",
          "text": [
            "                   all         56        444      0.333      0.532      0.404      0.207\n",
            "\n",
            "      Epoch    GPU_mem   box_loss   cls_loss   dfl_loss  Instances       Size\n"
          ]
        },
        {
          "output_type": "stream",
          "name": "stderr",
          "text": [
            "     12/200      3.67G       1.66      1.974      1.252         71        640: 100%|██████████| 37/37 [00:11<00:00,  3.32it/s]\n",
            "                 Class     Images  Instances      Box(P          R      mAP50  mAP50-95): 100%|██████████| 2/2 [00:00<00:00,  3.69it/s]\n"
          ]
        },
        {
          "output_type": "stream",
          "name": "stdout",
          "text": [
            "                   all         56        444      0.394      0.554      0.464      0.237\n",
            "\n",
            "      Epoch    GPU_mem   box_loss   cls_loss   dfl_loss  Instances       Size\n"
          ]
        },
        {
          "output_type": "stream",
          "name": "stderr",
          "text": [
            "     13/200       3.7G      1.666      1.931      1.262         56        640: 100%|██████████| 37/37 [00:10<00:00,  3.41it/s]\n",
            "                 Class     Images  Instances      Box(P          R      mAP50  mAP50-95): 100%|██████████| 2/2 [00:00<00:00,  3.11it/s]"
          ]
        },
        {
          "output_type": "stream",
          "name": "stdout",
          "text": [
            "                   all         56        444      0.407      0.609       0.48      0.241\n"
          ]
        },
        {
          "output_type": "stream",
          "name": "stderr",
          "text": [
            "\n"
          ]
        },
        {
          "output_type": "stream",
          "name": "stdout",
          "text": [
            "\n",
            "      Epoch    GPU_mem   box_loss   cls_loss   dfl_loss  Instances       Size\n"
          ]
        },
        {
          "output_type": "stream",
          "name": "stderr",
          "text": [
            "     14/200      3.71G      1.675      1.847      1.258         90        640: 100%|██████████| 37/37 [00:10<00:00,  3.38it/s]\n",
            "                 Class     Images  Instances      Box(P          R      mAP50  mAP50-95): 100%|██████████| 2/2 [00:00<00:00,  3.54it/s]"
          ]
        },
        {
          "output_type": "stream",
          "name": "stdout",
          "text": [
            "                   all         56        444      0.413      0.568       0.45      0.236\n"
          ]
        },
        {
          "output_type": "stream",
          "name": "stderr",
          "text": [
            "\n"
          ]
        },
        {
          "output_type": "stream",
          "name": "stdout",
          "text": [
            "\n",
            "      Epoch    GPU_mem   box_loss   cls_loss   dfl_loss  Instances       Size\n"
          ]
        },
        {
          "output_type": "stream",
          "name": "stderr",
          "text": [
            "     15/200      3.72G      1.604       1.84      1.233        113        640: 100%|██████████| 37/37 [00:09<00:00,  3.90it/s]\n",
            "                 Class     Images  Instances      Box(P          R      mAP50  mAP50-95): 100%|██████████| 2/2 [00:00<00:00,  2.05it/s]"
          ]
        },
        {
          "output_type": "stream",
          "name": "stdout",
          "text": [
            "                   all         56        444      0.441      0.605      0.485      0.234\n"
          ]
        },
        {
          "output_type": "stream",
          "name": "stderr",
          "text": [
            "\n"
          ]
        },
        {
          "output_type": "stream",
          "name": "stdout",
          "text": [
            "\n",
            "      Epoch    GPU_mem   box_loss   cls_loss   dfl_loss  Instances       Size\n"
          ]
        },
        {
          "output_type": "stream",
          "name": "stderr",
          "text": [
            "     16/200      3.98G      1.675       1.82      1.237        134        640: 100%|██████████| 37/37 [00:09<00:00,  3.72it/s]\n",
            "                 Class     Images  Instances      Box(P          R      mAP50  mAP50-95): 100%|██████████| 2/2 [00:00<00:00,  3.77it/s]"
          ]
        },
        {
          "output_type": "stream",
          "name": "stdout",
          "text": [
            "                   all         56        444      0.507      0.556      0.552      0.289\n"
          ]
        },
        {
          "output_type": "stream",
          "name": "stderr",
          "text": [
            "\n"
          ]
        },
        {
          "output_type": "stream",
          "name": "stdout",
          "text": [
            "\n",
            "      Epoch    GPU_mem   box_loss   cls_loss   dfl_loss  Instances       Size\n"
          ]
        },
        {
          "output_type": "stream",
          "name": "stderr",
          "text": [
            "     17/200      4.01G      1.651      1.744      1.242         89        640: 100%|██████████| 37/37 [00:10<00:00,  3.41it/s]\n",
            "                 Class     Images  Instances      Box(P          R      mAP50  mAP50-95): 100%|██████████| 2/2 [00:00<00:00,  3.19it/s]\n"
          ]
        },
        {
          "output_type": "stream",
          "name": "stdout",
          "text": [
            "                   all         56        444      0.455        0.6      0.561      0.297\n",
            "\n",
            "      Epoch    GPU_mem   box_loss   cls_loss   dfl_loss  Instances       Size\n"
          ]
        },
        {
          "output_type": "stream",
          "name": "stderr",
          "text": [
            "     18/200      4.02G      1.597       1.68      1.234         83        640: 100%|██████████| 37/37 [00:11<00:00,  3.36it/s]\n",
            "                 Class     Images  Instances      Box(P          R      mAP50  mAP50-95): 100%|██████████| 2/2 [00:00<00:00,  3.69it/s]"
          ]
        },
        {
          "output_type": "stream",
          "name": "stdout",
          "text": [
            "                   all         56        444      0.519      0.636      0.614      0.327\n"
          ]
        },
        {
          "output_type": "stream",
          "name": "stderr",
          "text": [
            "\n"
          ]
        },
        {
          "output_type": "stream",
          "name": "stdout",
          "text": [
            "\n",
            "      Epoch    GPU_mem   box_loss   cls_loss   dfl_loss  Instances       Size\n"
          ]
        },
        {
          "output_type": "stream",
          "name": "stderr",
          "text": [
            "     19/200      4.04G      1.605      1.637      1.225         71        640: 100%|██████████| 37/37 [00:10<00:00,  3.36it/s]\n",
            "                 Class     Images  Instances      Box(P          R      mAP50  mAP50-95): 100%|██████████| 2/2 [00:00<00:00,  2.71it/s]"
          ]
        },
        {
          "output_type": "stream",
          "name": "stdout",
          "text": [
            "                   all         56        444      0.438       0.63      0.522      0.273\n"
          ]
        },
        {
          "output_type": "stream",
          "name": "stderr",
          "text": [
            "\n"
          ]
        },
        {
          "output_type": "stream",
          "name": "stdout",
          "text": [
            "\n",
            "      Epoch    GPU_mem   box_loss   cls_loss   dfl_loss  Instances       Size\n"
          ]
        },
        {
          "output_type": "stream",
          "name": "stderr",
          "text": [
            "     20/200      4.04G      1.588      1.621      1.219         59        640: 100%|██████████| 37/37 [00:10<00:00,  3.66it/s]\n",
            "                 Class     Images  Instances      Box(P          R      mAP50  mAP50-95): 100%|██████████| 2/2 [00:01<00:00,  1.88it/s]"
          ]
        },
        {
          "output_type": "stream",
          "name": "stdout",
          "text": [
            "                   all         56        444       0.54      0.636      0.615      0.329\n"
          ]
        },
        {
          "output_type": "stream",
          "name": "stderr",
          "text": [
            "\n"
          ]
        },
        {
          "output_type": "stream",
          "name": "stdout",
          "text": [
            "\n",
            "      Epoch    GPU_mem   box_loss   cls_loss   dfl_loss  Instances       Size\n"
          ]
        },
        {
          "output_type": "stream",
          "name": "stderr",
          "text": [
            "     21/200      4.07G      1.548      1.601      1.199        183        640: 100%|██████████| 37/37 [00:09<00:00,  3.88it/s]\n",
            "                 Class     Images  Instances      Box(P          R      mAP50  mAP50-95): 100%|██████████| 2/2 [00:00<00:00,  3.46it/s]"
          ]
        },
        {
          "output_type": "stream",
          "name": "stdout",
          "text": [
            "                   all         56        444      0.528      0.591      0.578      0.312\n"
          ]
        },
        {
          "output_type": "stream",
          "name": "stderr",
          "text": [
            "\n"
          ]
        },
        {
          "output_type": "stream",
          "name": "stdout",
          "text": [
            "\n",
            "      Epoch    GPU_mem   box_loss   cls_loss   dfl_loss  Instances       Size\n"
          ]
        },
        {
          "output_type": "stream",
          "name": "stderr",
          "text": [
            "     22/200      4.08G      1.574      1.563      1.214         85        640: 100%|██████████| 37/37 [00:10<00:00,  3.38it/s]\n",
            "                 Class     Images  Instances      Box(P          R      mAP50  mAP50-95): 100%|██████████| 2/2 [00:00<00:00,  4.00it/s]\n"
          ]
        },
        {
          "output_type": "stream",
          "name": "stdout",
          "text": [
            "                   all         56        444       0.47      0.687      0.581      0.302\n",
            "\n",
            "      Epoch    GPU_mem   box_loss   cls_loss   dfl_loss  Instances       Size\n"
          ]
        },
        {
          "output_type": "stream",
          "name": "stderr",
          "text": [
            "     23/200       4.1G      1.565      1.502      1.198         90        640: 100%|██████████| 37/37 [00:10<00:00,  3.41it/s]\n",
            "                 Class     Images  Instances      Box(P          R      mAP50  mAP50-95): 100%|██████████| 2/2 [00:00<00:00,  3.47it/s]"
          ]
        },
        {
          "output_type": "stream",
          "name": "stdout",
          "text": [
            "                   all         56        444      0.502       0.73      0.627      0.358\n"
          ]
        },
        {
          "output_type": "stream",
          "name": "stderr",
          "text": [
            "\n"
          ]
        },
        {
          "output_type": "stream",
          "name": "stdout",
          "text": [
            "\n",
            "      Epoch    GPU_mem   box_loss   cls_loss   dfl_loss  Instances       Size\n"
          ]
        },
        {
          "output_type": "stream",
          "name": "stderr",
          "text": [
            "     24/200       4.1G      1.554      1.489      1.192         96        640: 100%|██████████| 37/37 [00:11<00:00,  3.34it/s]\n",
            "                 Class     Images  Instances      Box(P          R      mAP50  mAP50-95): 100%|██████████| 2/2 [00:00<00:00,  3.04it/s]"
          ]
        },
        {
          "output_type": "stream",
          "name": "stdout",
          "text": [
            "                   all         56        444       0.54       0.68      0.635      0.331\n"
          ]
        },
        {
          "output_type": "stream",
          "name": "stderr",
          "text": [
            "\n"
          ]
        },
        {
          "output_type": "stream",
          "name": "stdout",
          "text": [
            "\n",
            "      Epoch    GPU_mem   box_loss   cls_loss   dfl_loss  Instances       Size\n"
          ]
        },
        {
          "output_type": "stream",
          "name": "stderr",
          "text": [
            "     25/200      4.12G      1.556      1.539      1.211         82        640: 100%|██████████| 37/37 [00:10<00:00,  3.53it/s]\n",
            "                 Class     Images  Instances      Box(P          R      mAP50  mAP50-95): 100%|██████████| 2/2 [00:00<00:00,  2.17it/s]"
          ]
        },
        {
          "output_type": "stream",
          "name": "stdout",
          "text": [
            "                   all         56        444      0.567      0.637      0.664      0.353\n"
          ]
        },
        {
          "output_type": "stream",
          "name": "stderr",
          "text": [
            "\n"
          ]
        },
        {
          "output_type": "stream",
          "name": "stdout",
          "text": [
            "\n",
            "      Epoch    GPU_mem   box_loss   cls_loss   dfl_loss  Instances       Size\n"
          ]
        },
        {
          "output_type": "stream",
          "name": "stderr",
          "text": [
            "     26/200      4.14G      1.541      1.439      1.183         80        640: 100%|██████████| 37/37 [00:09<00:00,  3.96it/s]\n",
            "                 Class     Images  Instances      Box(P          R      mAP50  mAP50-95): 100%|██████████| 2/2 [00:00<00:00,  2.38it/s]"
          ]
        },
        {
          "output_type": "stream",
          "name": "stdout",
          "text": [
            "                   all         56        444      0.638      0.664      0.682      0.361\n"
          ]
        },
        {
          "output_type": "stream",
          "name": "stderr",
          "text": [
            "\n"
          ]
        },
        {
          "output_type": "stream",
          "name": "stdout",
          "text": [
            "\n",
            "      Epoch    GPU_mem   box_loss   cls_loss   dfl_loss  Instances       Size\n"
          ]
        },
        {
          "output_type": "stream",
          "name": "stderr",
          "text": [
            "     27/200      4.15G      1.524      1.468      1.196         70        640: 100%|██████████| 37/37 [00:10<00:00,  3.57it/s]\n",
            "                 Class     Images  Instances      Box(P          R      mAP50  mAP50-95): 100%|██████████| 2/2 [00:00<00:00,  4.16it/s]"
          ]
        },
        {
          "output_type": "stream",
          "name": "stdout",
          "text": [
            "                   all         56        444      0.662      0.665      0.721      0.396\n"
          ]
        },
        {
          "output_type": "stream",
          "name": "stderr",
          "text": [
            "\n"
          ]
        },
        {
          "output_type": "stream",
          "name": "stdout",
          "text": [
            "\n",
            "      Epoch    GPU_mem   box_loss   cls_loss   dfl_loss  Instances       Size\n"
          ]
        },
        {
          "output_type": "stream",
          "name": "stderr",
          "text": [
            "     28/200      4.16G      1.516      1.412      1.183         82        640: 100%|██████████| 37/37 [00:11<00:00,  3.35it/s]\n",
            "                 Class     Images  Instances      Box(P          R      mAP50  mAP50-95): 100%|██████████| 2/2 [00:00<00:00,  3.61it/s]"
          ]
        },
        {
          "output_type": "stream",
          "name": "stdout",
          "text": [
            "                   all         56        444      0.547      0.671      0.703      0.391\n"
          ]
        },
        {
          "output_type": "stream",
          "name": "stderr",
          "text": [
            "\n"
          ]
        },
        {
          "output_type": "stream",
          "name": "stdout",
          "text": [
            "\n",
            "      Epoch    GPU_mem   box_loss   cls_loss   dfl_loss  Instances       Size\n"
          ]
        },
        {
          "output_type": "stream",
          "name": "stderr",
          "text": [
            "     29/200      4.19G       1.51      1.395      1.191        147        640: 100%|██████████| 37/37 [00:11<00:00,  3.36it/s]\n",
            "                 Class     Images  Instances      Box(P          R      mAP50  mAP50-95): 100%|██████████| 2/2 [00:00<00:00,  3.72it/s]"
          ]
        },
        {
          "output_type": "stream",
          "name": "stdout",
          "text": [
            "                   all         56        444      0.579      0.695       0.64      0.323\n"
          ]
        },
        {
          "output_type": "stream",
          "name": "stderr",
          "text": [
            "\n"
          ]
        },
        {
          "output_type": "stream",
          "name": "stdout",
          "text": [
            "\n",
            "      Epoch    GPU_mem   box_loss   cls_loss   dfl_loss  Instances       Size\n"
          ]
        },
        {
          "output_type": "stream",
          "name": "stderr",
          "text": [
            "     30/200       4.2G      1.512      1.386      1.187         51        640: 100%|██████████| 37/37 [00:10<00:00,  3.39it/s]\n",
            "                 Class     Images  Instances      Box(P          R      mAP50  mAP50-95): 100%|██████████| 2/2 [00:00<00:00,  3.18it/s]"
          ]
        },
        {
          "output_type": "stream",
          "name": "stdout",
          "text": [
            "                   all         56        444      0.668       0.62      0.697      0.386\n"
          ]
        },
        {
          "output_type": "stream",
          "name": "stderr",
          "text": [
            "\n"
          ]
        },
        {
          "output_type": "stream",
          "name": "stdout",
          "text": [
            "\n",
            "      Epoch    GPU_mem   box_loss   cls_loss   dfl_loss  Instances       Size\n"
          ]
        },
        {
          "output_type": "stream",
          "name": "stderr",
          "text": [
            "     31/200      4.21G       1.54      1.367      1.194        118        640: 100%|██████████| 37/37 [00:10<00:00,  3.65it/s]\n",
            "                 Class     Images  Instances      Box(P          R      mAP50  mAP50-95): 100%|██████████| 2/2 [00:00<00:00,  2.02it/s]"
          ]
        },
        {
          "output_type": "stream",
          "name": "stdout",
          "text": [
            "                   all         56        444      0.596      0.724      0.682      0.359\n"
          ]
        },
        {
          "output_type": "stream",
          "name": "stderr",
          "text": [
            "\n"
          ]
        },
        {
          "output_type": "stream",
          "name": "stdout",
          "text": [
            "\n",
            "      Epoch    GPU_mem   box_loss   cls_loss   dfl_loss  Instances       Size\n"
          ]
        },
        {
          "output_type": "stream",
          "name": "stderr",
          "text": [
            "     32/200      4.22G      1.538      1.403      1.189        154        640: 100%|██████████| 37/37 [00:09<00:00,  3.88it/s]\n",
            "                 Class     Images  Instances      Box(P          R      mAP50  mAP50-95): 100%|██████████| 2/2 [00:00<00:00,  3.35it/s]"
          ]
        },
        {
          "output_type": "stream",
          "name": "stdout",
          "text": [
            "                   all         56        444      0.595       0.64       0.68      0.355\n"
          ]
        },
        {
          "output_type": "stream",
          "name": "stderr",
          "text": [
            "\n"
          ]
        },
        {
          "output_type": "stream",
          "name": "stdout",
          "text": [
            "\n",
            "      Epoch    GPU_mem   box_loss   cls_loss   dfl_loss  Instances       Size\n"
          ]
        },
        {
          "output_type": "stream",
          "name": "stderr",
          "text": [
            "     33/200      4.25G      1.506       1.33      1.169        110        640: 100%|██████████| 37/37 [00:10<00:00,  3.45it/s]\n",
            "                 Class     Images  Instances      Box(P          R      mAP50  mAP50-95): 100%|██████████| 2/2 [00:00<00:00,  3.87it/s]"
          ]
        },
        {
          "output_type": "stream",
          "name": "stdout",
          "text": [
            "                   all         56        444      0.555      0.692      0.658      0.327\n"
          ]
        },
        {
          "output_type": "stream",
          "name": "stderr",
          "text": [
            "\n"
          ]
        },
        {
          "output_type": "stream",
          "name": "stdout",
          "text": [
            "\n",
            "      Epoch    GPU_mem   box_loss   cls_loss   dfl_loss  Instances       Size\n"
          ]
        },
        {
          "output_type": "stream",
          "name": "stderr",
          "text": [
            "     34/200      4.26G      1.517      1.325      1.172         70        640: 100%|██████████| 37/37 [00:10<00:00,  3.41it/s]\n",
            "                 Class     Images  Instances      Box(P          R      mAP50  mAP50-95): 100%|██████████| 2/2 [00:00<00:00,  3.62it/s]"
          ]
        },
        {
          "output_type": "stream",
          "name": "stdout",
          "text": [
            "                   all         56        444      0.628      0.707      0.732      0.401\n"
          ]
        },
        {
          "output_type": "stream",
          "name": "stderr",
          "text": [
            "\n"
          ]
        },
        {
          "output_type": "stream",
          "name": "stdout",
          "text": [
            "\n",
            "      Epoch    GPU_mem   box_loss   cls_loss   dfl_loss  Instances       Size\n"
          ]
        },
        {
          "output_type": "stream",
          "name": "stderr",
          "text": [
            "     35/200      4.27G      1.463      1.277      1.163        136        640: 100%|██████████| 37/37 [00:11<00:00,  3.31it/s]\n",
            "                 Class     Images  Instances      Box(P          R      mAP50  mAP50-95): 100%|██████████| 2/2 [00:00<00:00,  3.26it/s]"
          ]
        },
        {
          "output_type": "stream",
          "name": "stdout",
          "text": [
            "                   all         56        444      0.656      0.664       0.71      0.357\n"
          ]
        },
        {
          "output_type": "stream",
          "name": "stderr",
          "text": [
            "\n"
          ]
        },
        {
          "output_type": "stream",
          "name": "stdout",
          "text": [
            "\n",
            "      Epoch    GPU_mem   box_loss   cls_loss   dfl_loss  Instances       Size\n"
          ]
        },
        {
          "output_type": "stream",
          "name": "stderr",
          "text": [
            "     36/200      4.28G      1.482      1.287      1.162         73        640: 100%|██████████| 37/37 [00:10<00:00,  3.44it/s]\n",
            "                 Class     Images  Instances      Box(P          R      mAP50  mAP50-95): 100%|██████████| 2/2 [00:00<00:00,  2.79it/s]"
          ]
        },
        {
          "output_type": "stream",
          "name": "stdout",
          "text": [
            "                   all         56        444      0.573      0.709      0.678      0.344\n"
          ]
        },
        {
          "output_type": "stream",
          "name": "stderr",
          "text": [
            "\n"
          ]
        },
        {
          "output_type": "stream",
          "name": "stdout",
          "text": [
            "\n",
            "      Epoch    GPU_mem   box_loss   cls_loss   dfl_loss  Instances       Size\n"
          ]
        },
        {
          "output_type": "stream",
          "name": "stderr",
          "text": [
            "     37/200       4.3G       1.47      1.272       1.17        234        640: 100%|██████████| 37/37 [00:09<00:00,  3.89it/s]\n",
            "                 Class     Images  Instances      Box(P          R      mAP50  mAP50-95): 100%|██████████| 2/2 [00:00<00:00,  2.25it/s]"
          ]
        },
        {
          "output_type": "stream",
          "name": "stdout",
          "text": [
            "                   all         56        444      0.684      0.693      0.754      0.386\n"
          ]
        },
        {
          "output_type": "stream",
          "name": "stderr",
          "text": [
            "\n"
          ]
        },
        {
          "output_type": "stream",
          "name": "stdout",
          "text": [
            "\n",
            "      Epoch    GPU_mem   box_loss   cls_loss   dfl_loss  Instances       Size\n"
          ]
        },
        {
          "output_type": "stream",
          "name": "stderr",
          "text": [
            "     38/200      4.32G      1.461      1.245      1.178         39        640: 100%|██████████| 37/37 [00:10<00:00,  3.66it/s]\n",
            "                 Class     Images  Instances      Box(P          R      mAP50  mAP50-95): 100%|██████████| 2/2 [00:00<00:00,  3.69it/s]\n"
          ]
        },
        {
          "output_type": "stream",
          "name": "stdout",
          "text": [
            "                   all         56        444      0.643      0.722      0.751      0.396\n",
            "\n",
            "      Epoch    GPU_mem   box_loss   cls_loss   dfl_loss  Instances       Size\n"
          ]
        },
        {
          "output_type": "stream",
          "name": "stderr",
          "text": [
            "     39/200      4.33G      1.455      1.238       1.16        136        640: 100%|██████████| 37/37 [00:10<00:00,  3.38it/s]\n",
            "                 Class     Images  Instances      Box(P          R      mAP50  mAP50-95): 100%|██████████| 2/2 [00:00<00:00,  3.83it/s]\n"
          ]
        },
        {
          "output_type": "stream",
          "name": "stdout",
          "text": [
            "                   all         56        444      0.601      0.646      0.706      0.344\n",
            "\n",
            "      Epoch    GPU_mem   box_loss   cls_loss   dfl_loss  Instances       Size\n"
          ]
        },
        {
          "output_type": "stream",
          "name": "stderr",
          "text": [
            "     40/200      4.34G      1.463      1.266      1.185         58        640: 100%|██████████| 37/37 [00:11<00:00,  3.35it/s]\n",
            "                 Class     Images  Instances      Box(P          R      mAP50  mAP50-95): 100%|██████████| 2/2 [00:00<00:00,  2.99it/s]"
          ]
        },
        {
          "output_type": "stream",
          "name": "stdout",
          "text": [
            "                   all         56        444      0.708      0.749      0.769      0.412\n"
          ]
        },
        {
          "output_type": "stream",
          "name": "stderr",
          "text": [
            "\n"
          ]
        },
        {
          "output_type": "stream",
          "name": "stdout",
          "text": [
            "\n",
            "      Epoch    GPU_mem   box_loss   cls_loss   dfl_loss  Instances       Size\n"
          ]
        },
        {
          "output_type": "stream",
          "name": "stderr",
          "text": [
            "     41/200      4.36G      1.494      1.254      1.175        194        640: 100%|██████████| 37/37 [00:10<00:00,  3.42it/s]\n",
            "                 Class     Images  Instances      Box(P          R      mAP50  mAP50-95): 100%|██████████| 2/2 [00:00<00:00,  3.32it/s]"
          ]
        },
        {
          "output_type": "stream",
          "name": "stdout",
          "text": [
            "                   all         56        444      0.695       0.77      0.776       0.43\n"
          ]
        },
        {
          "output_type": "stream",
          "name": "stderr",
          "text": [
            "\n"
          ]
        },
        {
          "output_type": "stream",
          "name": "stdout",
          "text": [
            "\n",
            "      Epoch    GPU_mem   box_loss   cls_loss   dfl_loss  Instances       Size\n"
          ]
        },
        {
          "output_type": "stream",
          "name": "stderr",
          "text": [
            "     42/200      4.38G      1.432      1.233      1.162         85        640: 100%|██████████| 37/37 [00:09<00:00,  3.73it/s]\n",
            "                 Class     Images  Instances      Box(P          R      mAP50  mAP50-95): 100%|██████████| 2/2 [00:01<00:00,  1.66it/s]"
          ]
        },
        {
          "output_type": "stream",
          "name": "stdout",
          "text": [
            "                   all         56        444      0.709      0.693      0.759      0.444\n"
          ]
        },
        {
          "output_type": "stream",
          "name": "stderr",
          "text": [
            "\n"
          ]
        },
        {
          "output_type": "stream",
          "name": "stdout",
          "text": [
            "\n",
            "      Epoch    GPU_mem   box_loss   cls_loss   dfl_loss  Instances       Size\n"
          ]
        },
        {
          "output_type": "stream",
          "name": "stderr",
          "text": [
            "     43/200      4.39G      1.421      1.206       1.16         56        640: 100%|██████████| 37/37 [00:09<00:00,  3.95it/s]\n",
            "                 Class     Images  Instances      Box(P          R      mAP50  mAP50-95): 100%|██████████| 2/2 [00:00<00:00,  4.00it/s]\n"
          ]
        },
        {
          "output_type": "stream",
          "name": "stdout",
          "text": [
            "                   all         56        444      0.705      0.703      0.756      0.413\n",
            "\n",
            "      Epoch    GPU_mem   box_loss   cls_loss   dfl_loss  Instances       Size\n"
          ]
        },
        {
          "output_type": "stream",
          "name": "stderr",
          "text": [
            "     44/200       4.4G      1.443       1.15      1.144        117        640: 100%|██████████| 37/37 [00:10<00:00,  3.47it/s]\n",
            "                 Class     Images  Instances      Box(P          R      mAP50  mAP50-95): 100%|██████████| 2/2 [00:00<00:00,  3.76it/s]"
          ]
        },
        {
          "output_type": "stream",
          "name": "stdout",
          "text": [
            "                   all         56        444      0.727      0.724      0.758      0.413\n"
          ]
        },
        {
          "output_type": "stream",
          "name": "stderr",
          "text": [
            "\n"
          ]
        },
        {
          "output_type": "stream",
          "name": "stdout",
          "text": [
            "\n",
            "      Epoch    GPU_mem   box_loss   cls_loss   dfl_loss  Instances       Size\n"
          ]
        },
        {
          "output_type": "stream",
          "name": "stderr",
          "text": [
            "     45/200      4.42G      1.439      1.157       1.15         53        640: 100%|██████████| 37/37 [00:10<00:00,  3.40it/s]\n",
            "                 Class     Images  Instances      Box(P          R      mAP50  mAP50-95): 100%|██████████| 2/2 [00:00<00:00,  3.69it/s]\n"
          ]
        },
        {
          "output_type": "stream",
          "name": "stdout",
          "text": [
            "                   all         56        444      0.673      0.806       0.79      0.429\n",
            "\n",
            "      Epoch    GPU_mem   box_loss   cls_loss   dfl_loss  Instances       Size\n"
          ]
        },
        {
          "output_type": "stream",
          "name": "stderr",
          "text": [
            "     46/200      4.44G       1.41      1.196      1.145         16        640: 100%|██████████| 37/37 [00:10<00:00,  3.45it/s]\n",
            "                 Class     Images  Instances      Box(P          R      mAP50  mAP50-95): 100%|██████████| 2/2 [00:00<00:00,  2.68it/s]"
          ]
        },
        {
          "output_type": "stream",
          "name": "stdout",
          "text": [
            "                   all         56        444      0.681      0.793      0.759      0.418\n"
          ]
        },
        {
          "output_type": "stream",
          "name": "stderr",
          "text": [
            "\n"
          ]
        },
        {
          "output_type": "stream",
          "name": "stdout",
          "text": [
            "\n",
            "      Epoch    GPU_mem   box_loss   cls_loss   dfl_loss  Instances       Size\n"
          ]
        },
        {
          "output_type": "stream",
          "name": "stderr",
          "text": [
            "     47/200      4.45G      1.418      1.216      1.153         29        640: 100%|██████████| 37/37 [00:10<00:00,  3.39it/s]\n",
            "                 Class     Images  Instances      Box(P          R      mAP50  mAP50-95): 100%|██████████| 2/2 [00:00<00:00,  3.47it/s]"
          ]
        },
        {
          "output_type": "stream",
          "name": "stdout",
          "text": [
            "                   all         56        444      0.662      0.786      0.766      0.416\n"
          ]
        },
        {
          "output_type": "stream",
          "name": "stderr",
          "text": [
            "\n"
          ]
        },
        {
          "output_type": "stream",
          "name": "stdout",
          "text": [
            "\n",
            "      Epoch    GPU_mem   box_loss   cls_loss   dfl_loss  Instances       Size\n"
          ]
        },
        {
          "output_type": "stream",
          "name": "stderr",
          "text": [
            "     48/200      4.46G      1.413      1.185      1.159         52        640: 100%|██████████| 37/37 [00:09<00:00,  3.85it/s]\n",
            "                 Class     Images  Instances      Box(P          R      mAP50  mAP50-95): 100%|██████████| 2/2 [00:00<00:00,  2.30it/s]"
          ]
        },
        {
          "output_type": "stream",
          "name": "stdout",
          "text": [
            "                   all         56        444      0.673      0.778       0.77      0.443\n"
          ]
        },
        {
          "output_type": "stream",
          "name": "stderr",
          "text": [
            "\n"
          ]
        },
        {
          "output_type": "stream",
          "name": "stdout",
          "text": [
            "\n",
            "      Epoch    GPU_mem   box_loss   cls_loss   dfl_loss  Instances       Size\n"
          ]
        },
        {
          "output_type": "stream",
          "name": "stderr",
          "text": [
            "     49/200      4.48G      1.415      1.156      1.149         38        640: 100%|██████████| 37/37 [00:10<00:00,  3.69it/s]\n",
            "                 Class     Images  Instances      Box(P          R      mAP50  mAP50-95): 100%|██████████| 2/2 [00:00<00:00,  3.74it/s]"
          ]
        },
        {
          "output_type": "stream",
          "name": "stdout",
          "text": [
            "                   all         56        444      0.699      0.745      0.762      0.421\n"
          ]
        },
        {
          "output_type": "stream",
          "name": "stderr",
          "text": [
            "\n"
          ]
        },
        {
          "output_type": "stream",
          "name": "stdout",
          "text": [
            "\n",
            "      Epoch    GPU_mem   box_loss   cls_loss   dfl_loss  Instances       Size\n"
          ]
        },
        {
          "output_type": "stream",
          "name": "stderr",
          "text": [
            "     50/200       4.5G      1.469      1.187      1.152        130        640: 100%|██████████| 37/37 [00:10<00:00,  3.42it/s]\n",
            "                 Class     Images  Instances      Box(P          R      mAP50  mAP50-95): 100%|██████████| 2/2 [00:00<00:00,  3.67it/s]\n"
          ]
        },
        {
          "output_type": "stream",
          "name": "stdout",
          "text": [
            "                   all         56        444       0.63      0.751      0.737      0.403\n",
            "\n",
            "      Epoch    GPU_mem   box_loss   cls_loss   dfl_loss  Instances       Size\n"
          ]
        },
        {
          "output_type": "stream",
          "name": "stderr",
          "text": [
            "     51/200      4.51G      1.398      1.114      1.143         90        640: 100%|██████████| 37/37 [00:10<00:00,  3.40it/s]\n",
            "                 Class     Images  Instances      Box(P          R      mAP50  mAP50-95): 100%|██████████| 2/2 [00:00<00:00,  3.30it/s]"
          ]
        },
        {
          "output_type": "stream",
          "name": "stdout",
          "text": [
            "                   all         56        444      0.712      0.698      0.768      0.404\n"
          ]
        },
        {
          "output_type": "stream",
          "name": "stderr",
          "text": [
            "\n"
          ]
        },
        {
          "output_type": "stream",
          "name": "stdout",
          "text": [
            "\n",
            "      Epoch    GPU_mem   box_loss   cls_loss   dfl_loss  Instances       Size\n"
          ]
        },
        {
          "output_type": "stream",
          "name": "stderr",
          "text": [
            "     52/200      4.52G      1.396      1.136      1.164         47        640: 100%|██████████| 37/37 [00:10<00:00,  3.43it/s]\n",
            "                 Class     Images  Instances      Box(P          R      mAP50  mAP50-95): 100%|██████████| 2/2 [00:00<00:00,  2.88it/s]"
          ]
        },
        {
          "output_type": "stream",
          "name": "stdout",
          "text": [
            "                   all         56        444      0.707      0.737       0.77      0.426\n"
          ]
        },
        {
          "output_type": "stream",
          "name": "stderr",
          "text": [
            "\n"
          ]
        },
        {
          "output_type": "stream",
          "name": "stdout",
          "text": [
            "\n",
            "      Epoch    GPU_mem   box_loss   cls_loss   dfl_loss  Instances       Size\n"
          ]
        },
        {
          "output_type": "stream",
          "name": "stderr",
          "text": [
            "     53/200      4.54G      1.403      1.129      1.136        110        640: 100%|██████████| 37/37 [00:10<00:00,  3.68it/s]\n",
            "                 Class     Images  Instances      Box(P          R      mAP50  mAP50-95): 100%|██████████| 2/2 [00:01<00:00,  2.00it/s]"
          ]
        },
        {
          "output_type": "stream",
          "name": "stdout",
          "text": [
            "                   all         56        444      0.632      0.791      0.716      0.387\n"
          ]
        },
        {
          "output_type": "stream",
          "name": "stderr",
          "text": [
            "\n"
          ]
        },
        {
          "output_type": "stream",
          "name": "stdout",
          "text": [
            "\n",
            "      Epoch    GPU_mem   box_loss   cls_loss   dfl_loss  Instances       Size\n"
          ]
        },
        {
          "output_type": "stream",
          "name": "stderr",
          "text": [
            "     54/200      4.55G      1.379      1.065      1.133        128        640: 100%|██████████| 37/37 [00:09<00:00,  3.97it/s]\n",
            "                 Class     Images  Instances      Box(P          R      mAP50  mAP50-95): 100%|██████████| 2/2 [00:00<00:00,  3.92it/s]"
          ]
        },
        {
          "output_type": "stream",
          "name": "stdout",
          "text": [
            "                   all         56        444      0.625      0.785      0.749      0.365\n"
          ]
        },
        {
          "output_type": "stream",
          "name": "stderr",
          "text": [
            "\n"
          ]
        },
        {
          "output_type": "stream",
          "name": "stdout",
          "text": [
            "\n",
            "      Epoch    GPU_mem   box_loss   cls_loss   dfl_loss  Instances       Size\n"
          ]
        },
        {
          "output_type": "stream",
          "name": "stderr",
          "text": [
            "     55/200      4.57G      1.427      1.107      1.149         85        640: 100%|██████████| 37/37 [00:10<00:00,  3.42it/s]\n",
            "                 Class     Images  Instances      Box(P          R      mAP50  mAP50-95): 100%|██████████| 2/2 [00:00<00:00,  4.05it/s]\n"
          ]
        },
        {
          "output_type": "stream",
          "name": "stdout",
          "text": [
            "                   all         56        444      0.665      0.789      0.771      0.434\n",
            "\n",
            "      Epoch    GPU_mem   box_loss   cls_loss   dfl_loss  Instances       Size\n"
          ]
        },
        {
          "output_type": "stream",
          "name": "stderr",
          "text": [
            "     56/200      4.58G      1.383      1.077      1.132         64        640: 100%|██████████| 37/37 [00:10<00:00,  3.40it/s]\n",
            "                 Class     Images  Instances      Box(P          R      mAP50  mAP50-95): 100%|██████████| 2/2 [00:00<00:00,  2.99it/s]\n"
          ]
        },
        {
          "output_type": "stream",
          "name": "stdout",
          "text": [
            "                   all         56        444      0.711      0.742       0.76      0.423\n",
            "\n",
            "      Epoch    GPU_mem   box_loss   cls_loss   dfl_loss  Instances       Size\n"
          ]
        },
        {
          "output_type": "stream",
          "name": "stderr",
          "text": [
            "     57/200       4.6G      1.348      1.044      1.132        199        640: 100%|██████████| 37/37 [00:11<00:00,  3.33it/s]\n",
            "                 Class     Images  Instances      Box(P          R      mAP50  mAP50-95): 100%|██████████| 2/2 [00:00<00:00,  3.98it/s]"
          ]
        },
        {
          "output_type": "stream",
          "name": "stdout",
          "text": [
            "                   all         56        444      0.669      0.795      0.778      0.433\n"
          ]
        },
        {
          "output_type": "stream",
          "name": "stderr",
          "text": [
            "\n"
          ]
        },
        {
          "output_type": "stream",
          "name": "stdout",
          "text": [
            "\n",
            "      Epoch    GPU_mem   box_loss   cls_loss   dfl_loss  Instances       Size\n"
          ]
        },
        {
          "output_type": "stream",
          "name": "stderr",
          "text": [
            "     58/200      4.62G      1.356      1.049      1.127        163        640: 100%|██████████| 37/37 [00:10<00:00,  3.50it/s]\n",
            "                 Class     Images  Instances      Box(P          R      mAP50  mAP50-95): 100%|██████████| 2/2 [00:00<00:00,  2.57it/s]"
          ]
        },
        {
          "output_type": "stream",
          "name": "stdout",
          "text": [
            "                   all         56        444      0.679      0.731      0.742      0.405\n"
          ]
        },
        {
          "output_type": "stream",
          "name": "stderr",
          "text": [
            "\n"
          ]
        },
        {
          "output_type": "stream",
          "name": "stdout",
          "text": [
            "\n",
            "      Epoch    GPU_mem   box_loss   cls_loss   dfl_loss  Instances       Size\n"
          ]
        },
        {
          "output_type": "stream",
          "name": "stderr",
          "text": [
            "     59/200      4.63G      1.384      1.068      1.131         68        640: 100%|██████████| 37/37 [00:09<00:00,  3.76it/s]\n",
            "                 Class     Images  Instances      Box(P          R      mAP50  mAP50-95): 100%|██████████| 2/2 [00:00<00:00,  2.55it/s]"
          ]
        },
        {
          "output_type": "stream",
          "name": "stdout",
          "text": [
            "                   all         56        444      0.695      0.773      0.793      0.417\n"
          ]
        },
        {
          "output_type": "stream",
          "name": "stderr",
          "text": [
            "\n"
          ]
        },
        {
          "output_type": "stream",
          "name": "stdout",
          "text": [
            "\n",
            "      Epoch    GPU_mem   box_loss   cls_loss   dfl_loss  Instances       Size\n"
          ]
        },
        {
          "output_type": "stream",
          "name": "stderr",
          "text": [
            "     60/200      4.63G      1.351      1.039      1.114         77        640: 100%|██████████| 37/37 [00:09<00:00,  3.70it/s]\n",
            "                 Class     Images  Instances      Box(P          R      mAP50  mAP50-95): 100%|██████████| 2/2 [00:00<00:00,  3.72it/s]\n"
          ]
        },
        {
          "output_type": "stream",
          "name": "stdout",
          "text": [
            "                   all         56        444      0.706      0.785      0.783      0.447\n",
            "\n",
            "      Epoch    GPU_mem   box_loss   cls_loss   dfl_loss  Instances       Size\n"
          ]
        },
        {
          "output_type": "stream",
          "name": "stderr",
          "text": [
            "     61/200      4.66G       1.37      1.039      1.117        130        640: 100%|██████████| 37/37 [00:10<00:00,  3.39it/s]\n",
            "                 Class     Images  Instances      Box(P          R      mAP50  mAP50-95): 100%|██████████| 2/2 [00:00<00:00,  3.67it/s]"
          ]
        },
        {
          "output_type": "stream",
          "name": "stdout",
          "text": [
            "                   all         56        444      0.719      0.811      0.821      0.453\n"
          ]
        },
        {
          "output_type": "stream",
          "name": "stderr",
          "text": [
            "\n"
          ]
        },
        {
          "output_type": "stream",
          "name": "stdout",
          "text": [
            "\n",
            "      Epoch    GPU_mem   box_loss   cls_loss   dfl_loss  Instances       Size\n"
          ]
        },
        {
          "output_type": "stream",
          "name": "stderr",
          "text": [
            "     62/200      4.68G      1.359      1.028       1.13         47        640: 100%|██████████| 37/37 [00:10<00:00,  3.37it/s]\n",
            "                 Class     Images  Instances      Box(P          R      mAP50  mAP50-95): 100%|██████████| 2/2 [00:00<00:00,  3.42it/s]"
          ]
        },
        {
          "output_type": "stream",
          "name": "stdout",
          "text": [
            "                   all         56        444      0.742      0.741      0.798      0.455\n"
          ]
        },
        {
          "output_type": "stream",
          "name": "stderr",
          "text": [
            "\n"
          ]
        },
        {
          "output_type": "stream",
          "name": "stdout",
          "text": [
            "\n",
            "      Epoch    GPU_mem   box_loss   cls_loss   dfl_loss  Instances       Size\n"
          ]
        },
        {
          "output_type": "stream",
          "name": "stderr",
          "text": [
            "     63/200      4.69G      1.389      1.053      1.129         54        640: 100%|██████████| 37/37 [00:11<00:00,  3.36it/s]\n",
            "                 Class     Images  Instances      Box(P          R      mAP50  mAP50-95): 100%|██████████| 2/2 [00:00<00:00,  3.49it/s]\n"
          ]
        },
        {
          "output_type": "stream",
          "name": "stdout",
          "text": [
            "                   all         56        444      0.632      0.777      0.732      0.388\n",
            "\n",
            "      Epoch    GPU_mem   box_loss   cls_loss   dfl_loss  Instances       Size\n"
          ]
        },
        {
          "output_type": "stream",
          "name": "stderr",
          "text": [
            "     64/200      4.69G      1.371       1.03      1.112        144        640: 100%|██████████| 37/37 [00:10<00:00,  3.64it/s]\n",
            "                 Class     Images  Instances      Box(P          R      mAP50  mAP50-95): 100%|██████████| 2/2 [00:01<00:00,  1.85it/s]"
          ]
        },
        {
          "output_type": "stream",
          "name": "stdout",
          "text": [
            "                   all         56        444      0.716      0.768      0.808      0.452\n"
          ]
        },
        {
          "output_type": "stream",
          "name": "stderr",
          "text": [
            "\n"
          ]
        },
        {
          "output_type": "stream",
          "name": "stdout",
          "text": [
            "\n",
            "      Epoch    GPU_mem   box_loss   cls_loss   dfl_loss  Instances       Size\n"
          ]
        },
        {
          "output_type": "stream",
          "name": "stderr",
          "text": [
            "     65/200      4.72G      1.341      1.032      1.119         35        640: 100%|██████████| 37/37 [00:09<00:00,  3.95it/s]\n",
            "                 Class     Images  Instances      Box(P          R      mAP50  mAP50-95): 100%|██████████| 2/2 [00:00<00:00,  3.00it/s]"
          ]
        },
        {
          "output_type": "stream",
          "name": "stdout",
          "text": [
            "                   all         56        444      0.731      0.768      0.798      0.419\n"
          ]
        },
        {
          "output_type": "stream",
          "name": "stderr",
          "text": [
            "\n"
          ]
        },
        {
          "output_type": "stream",
          "name": "stdout",
          "text": [
            "\n",
            "      Epoch    GPU_mem   box_loss   cls_loss   dfl_loss  Instances       Size\n"
          ]
        },
        {
          "output_type": "stream",
          "name": "stderr",
          "text": [
            "     66/200      4.73G      1.326     0.9921      1.109        135        640: 100%|██████████| 37/37 [00:10<00:00,  3.46it/s]\n",
            "                 Class     Images  Instances      Box(P          R      mAP50  mAP50-95): 100%|██████████| 2/2 [00:00<00:00,  3.87it/s]"
          ]
        },
        {
          "output_type": "stream",
          "name": "stdout",
          "text": [
            "                   all         56        444      0.695      0.806      0.791      0.447\n"
          ]
        },
        {
          "output_type": "stream",
          "name": "stderr",
          "text": [
            "\n"
          ]
        },
        {
          "output_type": "stream",
          "name": "stdout",
          "text": [
            "\n",
            "      Epoch    GPU_mem   box_loss   cls_loss   dfl_loss  Instances       Size\n"
          ]
        },
        {
          "output_type": "stream",
          "name": "stderr",
          "text": [
            "     67/200      4.75G        1.3      1.012      1.128         84        640: 100%|██████████| 37/37 [00:10<00:00,  3.39it/s]\n",
            "                 Class     Images  Instances      Box(P          R      mAP50  mAP50-95): 100%|██████████| 2/2 [00:00<00:00,  4.07it/s]\n"
          ]
        },
        {
          "output_type": "stream",
          "name": "stdout",
          "text": [
            "                   all         56        444      0.702       0.79      0.811       0.44\n",
            "\n",
            "      Epoch    GPU_mem   box_loss   cls_loss   dfl_loss  Instances       Size\n"
          ]
        },
        {
          "output_type": "stream",
          "name": "stderr",
          "text": [
            "     68/200      4.75G      1.322      1.005       1.13         84        640: 100%|██████████| 37/37 [00:10<00:00,  3.41it/s]\n",
            "                 Class     Images  Instances      Box(P          R      mAP50  mAP50-95): 100%|██████████| 2/2 [00:00<00:00,  3.75it/s]"
          ]
        },
        {
          "output_type": "stream",
          "name": "stdout",
          "text": [
            "                   all         56        444      0.619      0.833      0.784       0.43\n"
          ]
        },
        {
          "output_type": "stream",
          "name": "stderr",
          "text": [
            "\n"
          ]
        },
        {
          "output_type": "stream",
          "name": "stdout",
          "text": [
            "\n",
            "      Epoch    GPU_mem   box_loss   cls_loss   dfl_loss  Instances       Size\n"
          ]
        },
        {
          "output_type": "stream",
          "name": "stderr",
          "text": [
            "     69/200      4.78G      1.328     0.9865      1.106        126        640: 100%|██████████| 37/37 [00:10<00:00,  3.41it/s]\n",
            "                 Class     Images  Instances      Box(P          R      mAP50  mAP50-95): 100%|██████████| 2/2 [00:00<00:00,  3.08it/s]"
          ]
        },
        {
          "output_type": "stream",
          "name": "stdout",
          "text": [
            "                   all         56        444      0.705      0.775      0.776      0.439\n"
          ]
        },
        {
          "output_type": "stream",
          "name": "stderr",
          "text": [
            "\n"
          ]
        },
        {
          "output_type": "stream",
          "name": "stdout",
          "text": [
            "\n",
            "      Epoch    GPU_mem   box_loss   cls_loss   dfl_loss  Instances       Size\n"
          ]
        },
        {
          "output_type": "stream",
          "name": "stderr",
          "text": [
            "     70/200      4.79G      1.342      0.977      1.112        173        640: 100%|██████████| 37/37 [00:09<00:00,  3.87it/s]\n",
            "                 Class     Images  Instances      Box(P          R      mAP50  mAP50-95): 100%|██████████| 2/2 [00:00<00:00,  2.38it/s]"
          ]
        },
        {
          "output_type": "stream",
          "name": "stdout",
          "text": [
            "                   all         56        444      0.701      0.821       0.81      0.459\n"
          ]
        },
        {
          "output_type": "stream",
          "name": "stderr",
          "text": [
            "\n"
          ]
        },
        {
          "output_type": "stream",
          "name": "stdout",
          "text": [
            "\n",
            "      Epoch    GPU_mem   box_loss   cls_loss   dfl_loss  Instances       Size\n"
          ]
        },
        {
          "output_type": "stream",
          "name": "stderr",
          "text": [
            "     71/200      4.81G      1.345       0.98      1.107        171        640: 100%|██████████| 37/37 [00:10<00:00,  3.62it/s]\n",
            "                 Class     Images  Instances      Box(P          R      mAP50  mAP50-95): 100%|██████████| 2/2 [00:00<00:00,  3.99it/s]\n"
          ]
        },
        {
          "output_type": "stream",
          "name": "stdout",
          "text": [
            "                   all         56        444      0.714      0.836      0.812      0.442\n",
            "\n",
            "      Epoch    GPU_mem   box_loss   cls_loss   dfl_loss  Instances       Size\n"
          ]
        },
        {
          "output_type": "stream",
          "name": "stderr",
          "text": [
            "     72/200      4.81G      1.313     0.9561      1.108         80        640: 100%|██████████| 37/37 [00:11<00:00,  3.34it/s]\n",
            "                 Class     Images  Instances      Box(P          R      mAP50  mAP50-95): 100%|██████████| 2/2 [00:00<00:00,  3.91it/s]\n"
          ]
        },
        {
          "output_type": "stream",
          "name": "stdout",
          "text": [
            "                   all         56        444      0.743      0.767      0.822      0.461\n",
            "\n",
            "      Epoch    GPU_mem   box_loss   cls_loss   dfl_loss  Instances       Size\n"
          ]
        },
        {
          "output_type": "stream",
          "name": "stderr",
          "text": [
            "     73/200      4.84G      1.311     0.9717      1.098         80        640: 100%|██████████| 37/37 [00:10<00:00,  3.37it/s]\n",
            "                 Class     Images  Instances      Box(P          R      mAP50  mAP50-95): 100%|██████████| 2/2 [00:00<00:00,  3.90it/s]\n"
          ]
        },
        {
          "output_type": "stream",
          "name": "stdout",
          "text": [
            "                   all         56        444       0.76      0.772      0.822      0.452\n",
            "\n",
            "      Epoch    GPU_mem   box_loss   cls_loss   dfl_loss  Instances       Size\n"
          ]
        },
        {
          "output_type": "stream",
          "name": "stderr",
          "text": [
            "     74/200      4.85G      1.324     0.9631      1.087        116        640: 100%|██████████| 37/37 [00:10<00:00,  3.43it/s]\n",
            "                 Class     Images  Instances      Box(P          R      mAP50  mAP50-95): 100%|██████████| 2/2 [00:00<00:00,  3.07it/s]"
          ]
        },
        {
          "output_type": "stream",
          "name": "stdout",
          "text": [
            "                   all         56        444      0.741      0.773      0.811       0.43\n"
          ]
        },
        {
          "output_type": "stream",
          "name": "stderr",
          "text": [
            "\n"
          ]
        },
        {
          "output_type": "stream",
          "name": "stdout",
          "text": [
            "\n",
            "      Epoch    GPU_mem   box_loss   cls_loss   dfl_loss  Instances       Size\n"
          ]
        },
        {
          "output_type": "stream",
          "name": "stderr",
          "text": [
            "     75/200      4.87G      1.299     0.9672      1.103         54        640: 100%|██████████| 37/37 [00:09<00:00,  3.72it/s]\n",
            "                 Class     Images  Instances      Box(P          R      mAP50  mAP50-95): 100%|██████████| 2/2 [00:00<00:00,  2.33it/s]"
          ]
        },
        {
          "output_type": "stream",
          "name": "stdout",
          "text": [
            "                   all         56        444      0.752      0.772      0.799      0.434\n"
          ]
        },
        {
          "output_type": "stream",
          "name": "stderr",
          "text": [
            "\n"
          ]
        },
        {
          "output_type": "stream",
          "name": "stdout",
          "text": [
            "\n",
            "      Epoch    GPU_mem   box_loss   cls_loss   dfl_loss  Instances       Size\n"
          ]
        },
        {
          "output_type": "stream",
          "name": "stderr",
          "text": [
            "     76/200      4.87G      1.303     0.9892      1.112         74        640: 100%|██████████| 37/37 [00:10<00:00,  3.68it/s]\n",
            "                 Class     Images  Instances      Box(P          R      mAP50  mAP50-95): 100%|██████████| 2/2 [00:00<00:00,  3.69it/s]\n"
          ]
        },
        {
          "output_type": "stream",
          "name": "stdout",
          "text": [
            "                   all         56        444      0.709      0.828      0.825      0.458\n",
            "\n",
            "      Epoch    GPU_mem   box_loss   cls_loss   dfl_loss  Instances       Size\n"
          ]
        },
        {
          "output_type": "stream",
          "name": "stderr",
          "text": [
            "     77/200       4.9G      1.257     0.9658      1.104         54        640: 100%|██████████| 37/37 [00:10<00:00,  3.37it/s]\n",
            "                 Class     Images  Instances      Box(P          R      mAP50  mAP50-95): 100%|██████████| 2/2 [00:00<00:00,  4.11it/s]"
          ]
        },
        {
          "output_type": "stream",
          "name": "stdout",
          "text": [
            "                   all         56        444      0.728      0.817      0.821      0.465\n"
          ]
        },
        {
          "output_type": "stream",
          "name": "stderr",
          "text": [
            "\n"
          ]
        },
        {
          "output_type": "stream",
          "name": "stdout",
          "text": [
            "\n",
            "      Epoch    GPU_mem   box_loss   cls_loss   dfl_loss  Instances       Size\n"
          ]
        },
        {
          "output_type": "stream",
          "name": "stderr",
          "text": [
            "     78/200      4.91G      1.286     0.9274      1.081        144        640: 100%|██████████| 37/37 [00:10<00:00,  3.38it/s]\n",
            "                 Class     Images  Instances      Box(P          R      mAP50  mAP50-95): 100%|██████████| 2/2 [00:00<00:00,  3.14it/s]\n"
          ]
        },
        {
          "output_type": "stream",
          "name": "stdout",
          "text": [
            "                   all         56        444      0.724      0.828      0.821      0.464\n",
            "\n",
            "      Epoch    GPU_mem   box_loss   cls_loss   dfl_loss  Instances       Size\n"
          ]
        },
        {
          "output_type": "stream",
          "name": "stderr",
          "text": [
            "     79/200      4.93G      1.294     0.9672        1.1        188        640: 100%|██████████| 37/37 [00:10<00:00,  3.37it/s]\n",
            "                 Class     Images  Instances      Box(P          R      mAP50  mAP50-95): 100%|██████████| 2/2 [00:00<00:00,  3.69it/s]"
          ]
        },
        {
          "output_type": "stream",
          "name": "stdout",
          "text": [
            "                   all         56        444      0.744      0.808      0.828      0.439\n"
          ]
        },
        {
          "output_type": "stream",
          "name": "stderr",
          "text": [
            "\n"
          ]
        },
        {
          "output_type": "stream",
          "name": "stdout",
          "text": [
            "\n",
            "      Epoch    GPU_mem   box_loss   cls_loss   dfl_loss  Instances       Size\n"
          ]
        },
        {
          "output_type": "stream",
          "name": "stderr",
          "text": [
            "     80/200      4.93G      1.307     0.9453      1.087        130        640: 100%|██████████| 37/37 [00:10<00:00,  3.61it/s]\n",
            "                 Class     Images  Instances      Box(P          R      mAP50  mAP50-95): 100%|██████████| 2/2 [00:01<00:00,  1.82it/s]"
          ]
        },
        {
          "output_type": "stream",
          "name": "stdout",
          "text": [
            "                   all         56        444      0.721      0.759      0.792      0.441\n"
          ]
        },
        {
          "output_type": "stream",
          "name": "stderr",
          "text": [
            "\n"
          ]
        },
        {
          "output_type": "stream",
          "name": "stdout",
          "text": [
            "\n",
            "      Epoch    GPU_mem   box_loss   cls_loss   dfl_loss  Instances       Size\n"
          ]
        },
        {
          "output_type": "stream",
          "name": "stderr",
          "text": [
            "     81/200      4.96G      1.276     0.9415      1.106        110        640: 100%|██████████| 37/37 [00:09<00:00,  3.93it/s]\n",
            "                 Class     Images  Instances      Box(P          R      mAP50  mAP50-95): 100%|██████████| 2/2 [00:00<00:00,  2.26it/s]"
          ]
        },
        {
          "output_type": "stream",
          "name": "stdout",
          "text": [
            "                   all         56        444      0.733      0.823      0.826      0.449\n"
          ]
        },
        {
          "output_type": "stream",
          "name": "stderr",
          "text": [
            "\n"
          ]
        },
        {
          "output_type": "stream",
          "name": "stdout",
          "text": [
            "\n",
            "      Epoch    GPU_mem   box_loss   cls_loss   dfl_loss  Instances       Size\n"
          ]
        },
        {
          "output_type": "stream",
          "name": "stderr",
          "text": [
            "     82/200      4.97G      1.294     0.9223      1.095         82        640: 100%|██████████| 37/37 [00:10<00:00,  3.56it/s]\n",
            "                 Class     Images  Instances      Box(P          R      mAP50  mAP50-95): 100%|██████████| 2/2 [00:00<00:00,  3.56it/s]"
          ]
        },
        {
          "output_type": "stream",
          "name": "stdout",
          "text": [
            "                   all         56        444      0.738      0.837       0.84      0.473\n"
          ]
        },
        {
          "output_type": "stream",
          "name": "stderr",
          "text": [
            "\n"
          ]
        },
        {
          "output_type": "stream",
          "name": "stdout",
          "text": [
            "\n",
            "      Epoch    GPU_mem   box_loss   cls_loss   dfl_loss  Instances       Size\n"
          ]
        },
        {
          "output_type": "stream",
          "name": "stderr",
          "text": [
            "     83/200      4.98G      1.291     0.9321      1.094         43        640: 100%|██████████| 37/37 [00:10<00:00,  3.38it/s]\n",
            "                 Class     Images  Instances      Box(P          R      mAP50  mAP50-95): 100%|██████████| 2/2 [00:00<00:00,  4.14it/s]\n"
          ]
        },
        {
          "output_type": "stream",
          "name": "stdout",
          "text": [
            "                   all         56        444      0.729      0.796      0.826      0.444\n",
            "\n",
            "      Epoch    GPU_mem   box_loss   cls_loss   dfl_loss  Instances       Size\n"
          ]
        },
        {
          "output_type": "stream",
          "name": "stderr",
          "text": [
            "     84/200      4.99G      1.326     0.9436      1.096         49        640: 100%|██████████| 37/37 [00:11<00:00,  3.34it/s]\n",
            "                 Class     Images  Instances      Box(P          R      mAP50  mAP50-95): 100%|██████████| 2/2 [00:00<00:00,  3.95it/s]"
          ]
        },
        {
          "output_type": "stream",
          "name": "stdout",
          "text": [
            "                   all         56        444      0.758      0.788      0.828      0.459\n"
          ]
        },
        {
          "output_type": "stream",
          "name": "stderr",
          "text": [
            "\n"
          ]
        },
        {
          "output_type": "stream",
          "name": "stdout",
          "text": [
            "\n",
            "      Epoch    GPU_mem   box_loss   cls_loss   dfl_loss  Instances       Size\n"
          ]
        },
        {
          "output_type": "stream",
          "name": "stderr",
          "text": [
            "     85/200      5.02G      1.289     0.8992      1.075        103        640: 100%|██████████| 37/37 [00:10<00:00,  3.40it/s]\n",
            "                 Class     Images  Instances      Box(P          R      mAP50  mAP50-95): 100%|██████████| 2/2 [00:00<00:00,  3.26it/s]"
          ]
        },
        {
          "output_type": "stream",
          "name": "stdout",
          "text": [
            "                   all         56        444      0.742      0.792       0.83      0.472\n"
          ]
        },
        {
          "output_type": "stream",
          "name": "stderr",
          "text": [
            "\n"
          ]
        },
        {
          "output_type": "stream",
          "name": "stdout",
          "text": [
            "\n",
            "      Epoch    GPU_mem   box_loss   cls_loss   dfl_loss  Instances       Size\n"
          ]
        },
        {
          "output_type": "stream",
          "name": "stderr",
          "text": [
            "     86/200      5.03G      1.247     0.8839       1.06        183        640: 100%|██████████| 37/37 [00:10<00:00,  3.61it/s]\n",
            "                 Class     Images  Instances      Box(P          R      mAP50  mAP50-95): 100%|██████████| 2/2 [00:01<00:00,  1.94it/s]"
          ]
        },
        {
          "output_type": "stream",
          "name": "stdout",
          "text": [
            "                   all         56        444      0.758      0.787      0.837      0.458\n"
          ]
        },
        {
          "output_type": "stream",
          "name": "stderr",
          "text": [
            "\n"
          ]
        },
        {
          "output_type": "stream",
          "name": "stdout",
          "text": [
            "\n",
            "      Epoch    GPU_mem   box_loss   cls_loss   dfl_loss  Instances       Size\n"
          ]
        },
        {
          "output_type": "stream",
          "name": "stderr",
          "text": [
            "     87/200      5.04G      1.241     0.8962      1.089         75        640: 100%|██████████| 37/37 [00:09<00:00,  3.90it/s]\n",
            "                 Class     Images  Instances      Box(P          R      mAP50  mAP50-95): 100%|██████████| 2/2 [00:00<00:00,  3.53it/s]"
          ]
        },
        {
          "output_type": "stream",
          "name": "stdout",
          "text": [
            "                   all         56        444      0.777      0.792      0.828      0.459\n"
          ]
        },
        {
          "output_type": "stream",
          "name": "stderr",
          "text": [
            "\n"
          ]
        },
        {
          "output_type": "stream",
          "name": "stdout",
          "text": [
            "\n",
            "      Epoch    GPU_mem   box_loss   cls_loss   dfl_loss  Instances       Size\n"
          ]
        },
        {
          "output_type": "stream",
          "name": "stderr",
          "text": [
            "     88/200      5.05G       1.24     0.8812      1.066         54        640: 100%|██████████| 37/37 [00:10<00:00,  3.46it/s]\n",
            "                 Class     Images  Instances      Box(P          R      mAP50  mAP50-95): 100%|██████████| 2/2 [00:00<00:00,  3.89it/s]"
          ]
        },
        {
          "output_type": "stream",
          "name": "stdout",
          "text": [
            "                   all         56        444      0.788      0.785      0.847      0.468\n"
          ]
        },
        {
          "output_type": "stream",
          "name": "stderr",
          "text": [
            "\n"
          ]
        },
        {
          "output_type": "stream",
          "name": "stdout",
          "text": [
            "\n",
            "      Epoch    GPU_mem   box_loss   cls_loss   dfl_loss  Instances       Size\n"
          ]
        },
        {
          "output_type": "stream",
          "name": "stderr",
          "text": [
            "     89/200      5.07G       1.28     0.9208      1.075        151        640: 100%|██████████| 37/37 [00:10<00:00,  3.37it/s]\n",
            "                 Class     Images  Instances      Box(P          R      mAP50  mAP50-95): 100%|██████████| 2/2 [00:00<00:00,  3.67it/s]"
          ]
        },
        {
          "output_type": "stream",
          "name": "stdout",
          "text": [
            "                   all         56        444      0.767      0.818      0.837      0.475\n"
          ]
        },
        {
          "output_type": "stream",
          "name": "stderr",
          "text": [
            "\n"
          ]
        },
        {
          "output_type": "stream",
          "name": "stdout",
          "text": [
            "\n",
            "      Epoch    GPU_mem   box_loss   cls_loss   dfl_loss  Instances       Size\n"
          ]
        },
        {
          "output_type": "stream",
          "name": "stderr",
          "text": [
            "     90/200      5.09G      1.308     0.9021      1.103         92        640: 100%|██████████| 37/37 [00:10<00:00,  3.41it/s]\n",
            "                 Class     Images  Instances      Box(P          R      mAP50  mAP50-95): 100%|██████████| 2/2 [00:00<00:00,  3.35it/s]"
          ]
        },
        {
          "output_type": "stream",
          "name": "stdout",
          "text": [
            "                   all         56        444      0.715      0.867      0.835      0.473\n"
          ]
        },
        {
          "output_type": "stream",
          "name": "stderr",
          "text": [
            "\n"
          ]
        },
        {
          "output_type": "stream",
          "name": "stdout",
          "text": [
            "\n",
            "      Epoch    GPU_mem   box_loss   cls_loss   dfl_loss  Instances       Size\n"
          ]
        },
        {
          "output_type": "stream",
          "name": "stderr",
          "text": [
            "     91/200      5.11G      1.242     0.8955      1.088        152        640: 100%|██████████| 37/37 [00:10<00:00,  3.38it/s]\n",
            "                 Class     Images  Instances      Box(P          R      mAP50  mAP50-95): 100%|██████████| 2/2 [00:00<00:00,  3.16it/s]"
          ]
        },
        {
          "output_type": "stream",
          "name": "stdout",
          "text": [
            "                   all         56        444      0.728      0.833      0.822      0.463\n"
          ]
        },
        {
          "output_type": "stream",
          "name": "stderr",
          "text": [
            "\n"
          ]
        },
        {
          "output_type": "stream",
          "name": "stdout",
          "text": [
            "\n",
            "      Epoch    GPU_mem   box_loss   cls_loss   dfl_loss  Instances       Size\n"
          ]
        },
        {
          "output_type": "stream",
          "name": "stderr",
          "text": [
            "     92/200      5.11G      1.219     0.8691      1.063         28        640: 100%|██████████| 37/37 [00:09<00:00,  3.72it/s]\n",
            "                 Class     Images  Instances      Box(P          R      mAP50  mAP50-95): 100%|██████████| 2/2 [00:00<00:00,  2.04it/s]"
          ]
        },
        {
          "output_type": "stream",
          "name": "stdout",
          "text": [
            "                   all         56        444      0.748       0.83       0.83      0.444\n"
          ]
        },
        {
          "output_type": "stream",
          "name": "stderr",
          "text": [
            "\n"
          ]
        },
        {
          "output_type": "stream",
          "name": "stdout",
          "text": [
            "\n",
            "      Epoch    GPU_mem   box_loss   cls_loss   dfl_loss  Instances       Size\n"
          ]
        },
        {
          "output_type": "stream",
          "name": "stderr",
          "text": [
            "     93/200      5.13G      1.222     0.8807      1.081         52        640: 100%|██████████| 37/37 [00:09<00:00,  3.89it/s]\n",
            "                 Class     Images  Instances      Box(P          R      mAP50  mAP50-95): 100%|██████████| 2/2 [00:00<00:00,  3.58it/s]"
          ]
        },
        {
          "output_type": "stream",
          "name": "stdout",
          "text": [
            "                   all         56        444      0.769      0.802      0.842      0.474\n"
          ]
        },
        {
          "output_type": "stream",
          "name": "stderr",
          "text": [
            "\n"
          ]
        },
        {
          "output_type": "stream",
          "name": "stdout",
          "text": [
            "\n",
            "      Epoch    GPU_mem   box_loss   cls_loss   dfl_loss  Instances       Size\n"
          ]
        },
        {
          "output_type": "stream",
          "name": "stderr",
          "text": [
            "     94/200      5.15G      1.271     0.8961      1.074         89        640: 100%|██████████| 37/37 [00:10<00:00,  3.44it/s]\n",
            "                 Class     Images  Instances      Box(P          R      mAP50  mAP50-95): 100%|██████████| 2/2 [00:00<00:00,  3.38it/s]"
          ]
        },
        {
          "output_type": "stream",
          "name": "stdout",
          "text": [
            "                   all         56        444       0.73      0.816      0.824      0.457\n"
          ]
        },
        {
          "output_type": "stream",
          "name": "stderr",
          "text": [
            "\n"
          ]
        },
        {
          "output_type": "stream",
          "name": "stdout",
          "text": [
            "\n",
            "      Epoch    GPU_mem   box_loss   cls_loss   dfl_loss  Instances       Size\n"
          ]
        },
        {
          "output_type": "stream",
          "name": "stderr",
          "text": [
            "     95/200      5.16G      1.222     0.8579      1.053         58        640: 100%|██████████| 37/37 [00:10<00:00,  3.39it/s]\n",
            "                 Class     Images  Instances      Box(P          R      mAP50  mAP50-95): 100%|██████████| 2/2 [00:00<00:00,  4.22it/s]"
          ]
        },
        {
          "output_type": "stream",
          "name": "stdout",
          "text": [
            "                   all         56        444      0.721      0.851      0.827      0.438\n"
          ]
        },
        {
          "output_type": "stream",
          "name": "stderr",
          "text": [
            "\n"
          ]
        },
        {
          "output_type": "stream",
          "name": "stdout",
          "text": [
            "\n",
            "      Epoch    GPU_mem   box_loss   cls_loss   dfl_loss  Instances       Size\n"
          ]
        },
        {
          "output_type": "stream",
          "name": "stderr",
          "text": [
            "     96/200      5.17G       1.22     0.8591      1.069        140        640: 100%|██████████| 37/37 [00:10<00:00,  3.38it/s]\n",
            "                 Class     Images  Instances      Box(P          R      mAP50  mAP50-95): 100%|██████████| 2/2 [00:00<00:00,  3.66it/s]"
          ]
        },
        {
          "output_type": "stream",
          "name": "stdout",
          "text": [
            "                   all         56        444       0.72       0.76      0.791      0.413\n"
          ]
        },
        {
          "output_type": "stream",
          "name": "stderr",
          "text": [
            "\n"
          ]
        },
        {
          "output_type": "stream",
          "name": "stdout",
          "text": [
            "\n",
            "      Epoch    GPU_mem   box_loss   cls_loss   dfl_loss  Instances       Size\n"
          ]
        },
        {
          "output_type": "stream",
          "name": "stderr",
          "text": [
            "     97/200      5.19G      1.213     0.8528      1.052        171        640: 100%|██████████| 37/37 [00:10<00:00,  3.43it/s]\n",
            "                 Class     Images  Instances      Box(P          R      mAP50  mAP50-95): 100%|██████████| 2/2 [00:00<00:00,  2.47it/s]"
          ]
        },
        {
          "output_type": "stream",
          "name": "stdout",
          "text": [
            "                   all         56        444       0.72      0.837       0.83      0.451\n"
          ]
        },
        {
          "output_type": "stream",
          "name": "stderr",
          "text": [
            "\n"
          ]
        },
        {
          "output_type": "stream",
          "name": "stdout",
          "text": [
            "\n",
            "      Epoch    GPU_mem   box_loss   cls_loss   dfl_loss  Instances       Size\n"
          ]
        },
        {
          "output_type": "stream",
          "name": "stderr",
          "text": [
            "     98/200      5.21G      1.202     0.8453      1.059         54        640: 100%|██████████| 37/37 [00:09<00:00,  3.95it/s]\n",
            "                 Class     Images  Instances      Box(P          R      mAP50  mAP50-95): 100%|██████████| 2/2 [00:00<00:00,  2.35it/s]"
          ]
        },
        {
          "output_type": "stream",
          "name": "stdout",
          "text": [
            "                   all         56        444      0.794      0.752      0.842      0.476\n"
          ]
        },
        {
          "output_type": "stream",
          "name": "stderr",
          "text": [
            "\n"
          ]
        },
        {
          "output_type": "stream",
          "name": "stdout",
          "text": [
            "\n",
            "      Epoch    GPU_mem   box_loss   cls_loss   dfl_loss  Instances       Size\n"
          ]
        },
        {
          "output_type": "stream",
          "name": "stderr",
          "text": [
            "     99/200      5.22G      1.218     0.8353       1.05        184        640: 100%|██████████| 37/37 [00:10<00:00,  3.52it/s]\n",
            "                 Class     Images  Instances      Box(P          R      mAP50  mAP50-95): 100%|██████████| 2/2 [00:00<00:00,  3.75it/s]"
          ]
        },
        {
          "output_type": "stream",
          "name": "stdout",
          "text": [
            "                   all         56        444       0.74      0.848      0.856      0.486\n"
          ]
        },
        {
          "output_type": "stream",
          "name": "stderr",
          "text": [
            "\n"
          ]
        },
        {
          "output_type": "stream",
          "name": "stdout",
          "text": [
            "\n",
            "      Epoch    GPU_mem   box_loss   cls_loss   dfl_loss  Instances       Size\n"
          ]
        },
        {
          "output_type": "stream",
          "name": "stderr",
          "text": [
            "    100/200      5.23G      1.195     0.8412      1.056         76        640: 100%|██████████| 37/37 [00:10<00:00,  3.39it/s]\n",
            "                 Class     Images  Instances      Box(P          R      mAP50  mAP50-95): 100%|██████████| 2/2 [00:00<00:00,  3.89it/s]"
          ]
        },
        {
          "output_type": "stream",
          "name": "stdout",
          "text": [
            "                   all         56        444      0.707      0.832       0.82      0.454\n"
          ]
        },
        {
          "output_type": "stream",
          "name": "stderr",
          "text": [
            "\n"
          ]
        },
        {
          "output_type": "stream",
          "name": "stdout",
          "text": [
            "\n",
            "      Epoch    GPU_mem   box_loss   cls_loss   dfl_loss  Instances       Size\n"
          ]
        },
        {
          "output_type": "stream",
          "name": "stderr",
          "text": [
            "    101/200      5.25G      1.222     0.8507       1.06        239        640: 100%|██████████| 37/37 [00:11<00:00,  3.35it/s]\n",
            "                 Class     Images  Instances      Box(P          R      mAP50  mAP50-95): 100%|██████████| 2/2 [00:00<00:00,  3.81it/s]\n"
          ]
        },
        {
          "output_type": "stream",
          "name": "stdout",
          "text": [
            "                   all         56        444      0.747      0.819      0.834      0.467\n",
            "\n",
            "      Epoch    GPU_mem   box_loss   cls_loss   dfl_loss  Instances       Size\n"
          ]
        },
        {
          "output_type": "stream",
          "name": "stderr",
          "text": [
            "    102/200      5.27G      1.209     0.8292      1.058         36        640: 100%|██████████| 37/37 [00:10<00:00,  3.41it/s]\n",
            "                 Class     Images  Instances      Box(P          R      mAP50  mAP50-95): 100%|██████████| 2/2 [00:00<00:00,  2.77it/s]"
          ]
        },
        {
          "output_type": "stream",
          "name": "stdout",
          "text": [
            "                   all         56        444      0.747      0.802      0.834      0.476\n"
          ]
        },
        {
          "output_type": "stream",
          "name": "stderr",
          "text": [
            "\n"
          ]
        },
        {
          "output_type": "stream",
          "name": "stdout",
          "text": [
            "\n",
            "      Epoch    GPU_mem   box_loss   cls_loss   dfl_loss  Instances       Size\n"
          ]
        },
        {
          "output_type": "stream",
          "name": "stderr",
          "text": [
            "    103/200      5.28G      1.211     0.8451      1.057        170        640: 100%|██████████| 37/37 [00:10<00:00,  3.67it/s]\n",
            "                 Class     Images  Instances      Box(P          R      mAP50  mAP50-95): 100%|██████████| 2/2 [00:01<00:00,  1.68it/s]"
          ]
        },
        {
          "output_type": "stream",
          "name": "stdout",
          "text": [
            "                   all         56        444      0.717      0.837      0.821      0.464\n"
          ]
        },
        {
          "output_type": "stream",
          "name": "stderr",
          "text": [
            "\n"
          ]
        },
        {
          "output_type": "stream",
          "name": "stdout",
          "text": [
            "\n",
            "      Epoch    GPU_mem   box_loss   cls_loss   dfl_loss  Instances       Size\n"
          ]
        },
        {
          "output_type": "stream",
          "name": "stderr",
          "text": [
            "    104/200      5.29G      1.233     0.8576       1.07         54        640: 100%|██████████| 37/37 [00:09<00:00,  3.92it/s]\n",
            "                 Class     Images  Instances      Box(P          R      mAP50  mAP50-95): 100%|██████████| 2/2 [00:00<00:00,  2.98it/s]"
          ]
        },
        {
          "output_type": "stream",
          "name": "stdout",
          "text": [
            "                   all         56        444       0.71       0.85      0.823      0.464\n"
          ]
        },
        {
          "output_type": "stream",
          "name": "stderr",
          "text": [
            "\n"
          ]
        },
        {
          "output_type": "stream",
          "name": "stdout",
          "text": [
            "\n",
            "      Epoch    GPU_mem   box_loss   cls_loss   dfl_loss  Instances       Size\n"
          ]
        },
        {
          "output_type": "stream",
          "name": "stderr",
          "text": [
            "    105/200      5.31G      1.226     0.8633      1.087         41        640: 100%|██████████| 37/37 [00:10<00:00,  3.47it/s]\n",
            "                 Class     Images  Instances      Box(P          R      mAP50  mAP50-95): 100%|██████████| 2/2 [00:00<00:00,  3.80it/s]"
          ]
        },
        {
          "output_type": "stream",
          "name": "stdout",
          "text": [
            "                   all         56        444      0.759      0.738      0.801      0.424\n"
          ]
        },
        {
          "output_type": "stream",
          "name": "stderr",
          "text": [
            "\n"
          ]
        },
        {
          "output_type": "stream",
          "name": "stdout",
          "text": [
            "\n",
            "      Epoch    GPU_mem   box_loss   cls_loss   dfl_loss  Instances       Size\n"
          ]
        },
        {
          "output_type": "stream",
          "name": "stderr",
          "text": [
            "    106/200      5.33G      1.197     0.8144      1.056         96        640: 100%|██████████| 37/37 [00:10<00:00,  3.38it/s]\n",
            "                 Class     Images  Instances      Box(P          R      mAP50  mAP50-95): 100%|██████████| 2/2 [00:00<00:00,  3.51it/s]\n"
          ]
        },
        {
          "output_type": "stream",
          "name": "stdout",
          "text": [
            "                   all         56        444      0.797      0.796      0.841      0.456\n",
            "\n",
            "      Epoch    GPU_mem   box_loss   cls_loss   dfl_loss  Instances       Size\n"
          ]
        },
        {
          "output_type": "stream",
          "name": "stderr",
          "text": [
            "    107/200      5.34G      1.181     0.8119      1.044         72        640: 100%|██████████| 37/37 [00:11<00:00,  3.24it/s]\n",
            "                 Class     Images  Instances      Box(P          R      mAP50  mAP50-95): 100%|██████████| 2/2 [00:00<00:00,  3.81it/s]\n"
          ]
        },
        {
          "output_type": "stream",
          "name": "stdout",
          "text": [
            "                   all         56        444       0.71      0.837      0.841      0.463\n",
            "\n",
            "      Epoch    GPU_mem   box_loss   cls_loss   dfl_loss  Instances       Size\n"
          ]
        },
        {
          "output_type": "stream",
          "name": "stderr",
          "text": [
            "    108/200      5.35G      1.208     0.8143      1.055         74        640: 100%|██████████| 37/37 [00:10<00:00,  3.42it/s]\n",
            "                 Class     Images  Instances      Box(P          R      mAP50  mAP50-95): 100%|██████████| 2/2 [00:00<00:00,  2.70it/s]"
          ]
        },
        {
          "output_type": "stream",
          "name": "stdout",
          "text": [
            "                   all         56        444      0.746       0.81      0.848      0.466\n"
          ]
        },
        {
          "output_type": "stream",
          "name": "stderr",
          "text": [
            "\n"
          ]
        },
        {
          "output_type": "stream",
          "name": "stdout",
          "text": [
            "\n",
            "      Epoch    GPU_mem   box_loss   cls_loss   dfl_loss  Instances       Size\n"
          ]
        },
        {
          "output_type": "stream",
          "name": "stderr",
          "text": [
            "    109/200      5.37G      1.169     0.8008      1.053         76        640: 100%|██████████| 37/37 [00:09<00:00,  3.78it/s]\n",
            "                 Class     Images  Instances      Box(P          R      mAP50  mAP50-95): 100%|██████████| 2/2 [00:01<00:00,  1.89it/s]"
          ]
        },
        {
          "output_type": "stream",
          "name": "stdout",
          "text": [
            "                   all         56        444      0.767      0.799      0.836      0.463\n"
          ]
        },
        {
          "output_type": "stream",
          "name": "stderr",
          "text": [
            "\n"
          ]
        },
        {
          "output_type": "stream",
          "name": "stdout",
          "text": [
            "\n",
            "      Epoch    GPU_mem   box_loss   cls_loss   dfl_loss  Instances       Size\n"
          ]
        },
        {
          "output_type": "stream",
          "name": "stderr",
          "text": [
            "    110/200      5.38G      1.188     0.8269      1.067        102        640: 100%|██████████| 37/37 [00:10<00:00,  3.68it/s]\n",
            "                 Class     Images  Instances      Box(P          R      mAP50  mAP50-95): 100%|██████████| 2/2 [00:00<00:00,  4.00it/s]"
          ]
        },
        {
          "output_type": "stream",
          "name": "stdout",
          "text": [
            "                   all         56        444      0.746      0.809      0.823      0.448\n"
          ]
        },
        {
          "output_type": "stream",
          "name": "stderr",
          "text": [
            "\n"
          ]
        },
        {
          "output_type": "stream",
          "name": "stdout",
          "text": [
            "\n",
            "      Epoch    GPU_mem   box_loss   cls_loss   dfl_loss  Instances       Size\n"
          ]
        },
        {
          "output_type": "stream",
          "name": "stderr",
          "text": [
            "    111/200       5.4G      1.219     0.8111      1.045        141        640: 100%|██████████| 37/37 [00:11<00:00,  3.33it/s]\n",
            "                 Class     Images  Instances      Box(P          R      mAP50  mAP50-95): 100%|██████████| 2/2 [00:00<00:00,  4.31it/s]\n"
          ]
        },
        {
          "output_type": "stream",
          "name": "stdout",
          "text": [
            "                   all         56        444      0.715      0.849      0.843      0.469\n",
            "\n",
            "      Epoch    GPU_mem   box_loss   cls_loss   dfl_loss  Instances       Size\n"
          ]
        },
        {
          "output_type": "stream",
          "name": "stderr",
          "text": [
            "    112/200      5.41G      1.195     0.8039       1.05        175        640: 100%|██████████| 37/37 [00:10<00:00,  3.36it/s]\n",
            "                 Class     Images  Instances      Box(P          R      mAP50  mAP50-95): 100%|██████████| 2/2 [00:00<00:00,  3.85it/s]\n"
          ]
        },
        {
          "output_type": "stream",
          "name": "stdout",
          "text": [
            "                   all         56        444       0.71      0.811      0.801      0.426\n",
            "\n",
            "      Epoch    GPU_mem   box_loss   cls_loss   dfl_loss  Instances       Size\n"
          ]
        },
        {
          "output_type": "stream",
          "name": "stderr",
          "text": [
            "    113/200      5.43G      1.171     0.7969      1.053         56        640: 100%|██████████| 37/37 [00:11<00:00,  3.33it/s]\n",
            "                 Class     Images  Instances      Box(P          R      mAP50  mAP50-95): 100%|██████████| 2/2 [00:00<00:00,  3.23it/s]"
          ]
        },
        {
          "output_type": "stream",
          "name": "stdout",
          "text": [
            "                   all         56        444      0.813      0.739       0.82       0.46\n"
          ]
        },
        {
          "output_type": "stream",
          "name": "stderr",
          "text": [
            "\n"
          ]
        },
        {
          "output_type": "stream",
          "name": "stdout",
          "text": [
            "\n",
            "      Epoch    GPU_mem   box_loss   cls_loss   dfl_loss  Instances       Size\n"
          ]
        },
        {
          "output_type": "stream",
          "name": "stderr",
          "text": [
            "    114/200      5.45G      1.176     0.7939      1.041         79        640: 100%|██████████| 37/37 [00:10<00:00,  3.49it/s]\n",
            "                 Class     Images  Instances      Box(P          R      mAP50  mAP50-95): 100%|██████████| 2/2 [00:01<00:00,  1.84it/s]"
          ]
        },
        {
          "output_type": "stream",
          "name": "stdout",
          "text": [
            "                   all         56        444      0.744      0.832      0.846      0.471\n"
          ]
        },
        {
          "output_type": "stream",
          "name": "stderr",
          "text": [
            "\n"
          ]
        },
        {
          "output_type": "stream",
          "name": "stdout",
          "text": [
            "\n",
            "      Epoch    GPU_mem   box_loss   cls_loss   dfl_loss  Instances       Size\n"
          ]
        },
        {
          "output_type": "stream",
          "name": "stderr",
          "text": [
            "    115/200      5.46G      1.145     0.7826      1.046         84        640: 100%|██████████| 37/37 [00:10<00:00,  3.70it/s]\n",
            "                 Class     Images  Instances      Box(P          R      mAP50  mAP50-95): 100%|██████████| 2/2 [00:00<00:00,  2.27it/s]"
          ]
        },
        {
          "output_type": "stream",
          "name": "stdout",
          "text": [
            "                   all         56        444       0.74      0.852      0.826      0.473\n"
          ]
        },
        {
          "output_type": "stream",
          "name": "stderr",
          "text": [
            "\n"
          ]
        },
        {
          "output_type": "stream",
          "name": "stdout",
          "text": [
            "\n",
            "      Epoch    GPU_mem   box_loss   cls_loss   dfl_loss  Instances       Size\n"
          ]
        },
        {
          "output_type": "stream",
          "name": "stderr",
          "text": [
            "    116/200      5.46G      1.191     0.8151      1.053        108        640: 100%|██████████| 37/37 [00:10<00:00,  3.57it/s]\n",
            "                 Class     Images  Instances      Box(P          R      mAP50  mAP50-95): 100%|██████████| 2/2 [00:00<00:00,  3.92it/s]"
          ]
        },
        {
          "output_type": "stream",
          "name": "stdout",
          "text": [
            "                   all         56        444      0.789      0.768      0.836      0.459\n"
          ]
        },
        {
          "output_type": "stream",
          "name": "stderr",
          "text": [
            "\n"
          ]
        },
        {
          "output_type": "stream",
          "name": "stdout",
          "text": [
            "\n",
            "      Epoch    GPU_mem   box_loss   cls_loss   dfl_loss  Instances       Size\n"
          ]
        },
        {
          "output_type": "stream",
          "name": "stderr",
          "text": [
            "    117/200      5.49G      1.175     0.7974      1.039        119        640: 100%|██████████| 37/37 [00:11<00:00,  3.29it/s]\n",
            "                 Class     Images  Instances      Box(P          R      mAP50  mAP50-95): 100%|██████████| 2/2 [00:00<00:00,  3.49it/s]"
          ]
        },
        {
          "output_type": "stream",
          "name": "stdout",
          "text": [
            "                   all         56        444      0.814       0.82      0.876      0.487\n"
          ]
        },
        {
          "output_type": "stream",
          "name": "stderr",
          "text": [
            "\n"
          ]
        },
        {
          "output_type": "stream",
          "name": "stdout",
          "text": [
            "\n",
            "      Epoch    GPU_mem   box_loss   cls_loss   dfl_loss  Instances       Size\n"
          ]
        },
        {
          "output_type": "stream",
          "name": "stderr",
          "text": [
            "    118/200       5.5G      1.148     0.7662      1.032         80        640: 100%|██████████| 37/37 [00:10<00:00,  3.36it/s]\n",
            "                 Class     Images  Instances      Box(P          R      mAP50  mAP50-95): 100%|██████████| 2/2 [00:00<00:00,  3.68it/s]\n"
          ]
        },
        {
          "output_type": "stream",
          "name": "stdout",
          "text": [
            "                   all         56        444      0.873      0.758       0.86      0.463\n",
            "\n",
            "      Epoch    GPU_mem   box_loss   cls_loss   dfl_loss  Instances       Size\n"
          ]
        },
        {
          "output_type": "stream",
          "name": "stderr",
          "text": [
            "    119/200      5.52G      1.139     0.7834      1.043         63        640: 100%|██████████| 37/37 [00:11<00:00,  3.34it/s]\n",
            "                 Class     Images  Instances      Box(P          R      mAP50  mAP50-95): 100%|██████████| 2/2 [00:00<00:00,  3.61it/s]"
          ]
        },
        {
          "output_type": "stream",
          "name": "stdout",
          "text": [
            "                   all         56        444      0.815       0.75       0.85      0.468\n"
          ]
        },
        {
          "output_type": "stream",
          "name": "stderr",
          "text": [
            "\n"
          ]
        },
        {
          "output_type": "stream",
          "name": "stdout",
          "text": [
            "\n",
            "      Epoch    GPU_mem   box_loss   cls_loss   dfl_loss  Instances       Size\n"
          ]
        },
        {
          "output_type": "stream",
          "name": "stderr",
          "text": [
            "    120/200      5.52G      1.172     0.7873      1.056         66        640: 100%|██████████| 37/37 [00:10<00:00,  3.50it/s]\n",
            "                 Class     Images  Instances      Box(P          R      mAP50  mAP50-95): 100%|██████████| 2/2 [00:00<00:00,  2.09it/s]"
          ]
        },
        {
          "output_type": "stream",
          "name": "stdout",
          "text": [
            "                   all         56        444      0.818      0.795      0.847      0.476\n"
          ]
        },
        {
          "output_type": "stream",
          "name": "stderr",
          "text": [
            "\n"
          ]
        },
        {
          "output_type": "stream",
          "name": "stdout",
          "text": [
            "\n",
            "      Epoch    GPU_mem   box_loss   cls_loss   dfl_loss  Instances       Size\n"
          ]
        },
        {
          "output_type": "stream",
          "name": "stderr",
          "text": [
            "    121/200      5.55G      1.154     0.7681      1.029        189        640: 100%|██████████| 37/37 [00:09<00:00,  3.93it/s]\n",
            "                 Class     Images  Instances      Box(P          R      mAP50  mAP50-95): 100%|██████████| 2/2 [00:00<00:00,  3.55it/s]"
          ]
        },
        {
          "output_type": "stream",
          "name": "stdout",
          "text": [
            "                   all         56        444      0.775       0.79      0.834      0.471\n"
          ]
        },
        {
          "output_type": "stream",
          "name": "stderr",
          "text": [
            "\n"
          ]
        },
        {
          "output_type": "stream",
          "name": "stdout",
          "text": [
            "\n",
            "      Epoch    GPU_mem   box_loss   cls_loss   dfl_loss  Instances       Size\n"
          ]
        },
        {
          "output_type": "stream",
          "name": "stderr",
          "text": [
            "    122/200      5.56G      1.147     0.7796      1.041         86        640: 100%|██████████| 37/37 [00:10<00:00,  3.51it/s]\n",
            "                 Class     Images  Instances      Box(P          R      mAP50  mAP50-95): 100%|██████████| 2/2 [00:00<00:00,  3.70it/s]\n"
          ]
        },
        {
          "output_type": "stream",
          "name": "stdout",
          "text": [
            "                   all         56        444      0.853      0.739      0.838      0.462\n",
            "\n",
            "      Epoch    GPU_mem   box_loss   cls_loss   dfl_loss  Instances       Size\n"
          ]
        },
        {
          "output_type": "stream",
          "name": "stderr",
          "text": [
            "    123/200      5.58G       1.15     0.7625      1.018         74        640: 100%|██████████| 37/37 [00:11<00:00,  3.36it/s]\n",
            "                 Class     Images  Instances      Box(P          R      mAP50  mAP50-95): 100%|██████████| 2/2 [00:00<00:00,  3.23it/s]"
          ]
        },
        {
          "output_type": "stream",
          "name": "stdout",
          "text": [
            "                   all         56        444      0.848      0.783      0.873      0.495\n"
          ]
        },
        {
          "output_type": "stream",
          "name": "stderr",
          "text": [
            "\n"
          ]
        },
        {
          "output_type": "stream",
          "name": "stdout",
          "text": [
            "\n",
            "      Epoch    GPU_mem   box_loss   cls_loss   dfl_loss  Instances       Size\n"
          ]
        },
        {
          "output_type": "stream",
          "name": "stderr",
          "text": [
            "    124/200      5.58G      1.137     0.7733      1.031        123        640: 100%|██████████| 37/37 [00:10<00:00,  3.43it/s]\n",
            "                 Class     Images  Instances      Box(P          R      mAP50  mAP50-95): 100%|██████████| 2/2 [00:00<00:00,  3.42it/s]"
          ]
        },
        {
          "output_type": "stream",
          "name": "stdout",
          "text": [
            "                   all         56        444      0.787       0.79      0.847      0.462\n"
          ]
        },
        {
          "output_type": "stream",
          "name": "stderr",
          "text": [
            "\n"
          ]
        },
        {
          "output_type": "stream",
          "name": "stdout",
          "text": [
            "\n",
            "      Epoch    GPU_mem   box_loss   cls_loss   dfl_loss  Instances       Size\n"
          ]
        },
        {
          "output_type": "stream",
          "name": "stderr",
          "text": [
            "    125/200      5.61G      1.133     0.7664      1.018        114        640: 100%|██████████| 37/37 [00:10<00:00,  3.39it/s]\n",
            "                 Class     Images  Instances      Box(P          R      mAP50  mAP50-95): 100%|██████████| 2/2 [00:00<00:00,  2.96it/s]"
          ]
        },
        {
          "output_type": "stream",
          "name": "stdout",
          "text": [
            "                   all         56        444      0.791      0.798      0.833      0.472\n"
          ]
        },
        {
          "output_type": "stream",
          "name": "stderr",
          "text": [
            "\n"
          ]
        },
        {
          "output_type": "stream",
          "name": "stdout",
          "text": [
            "\n",
            "      Epoch    GPU_mem   box_loss   cls_loss   dfl_loss  Instances       Size\n"
          ]
        },
        {
          "output_type": "stream",
          "name": "stderr",
          "text": [
            "    126/200      5.62G      1.137     0.7669      1.013        119        640: 100%|██████████| 37/37 [00:09<00:00,  3.78it/s]\n",
            "                 Class     Images  Instances      Box(P          R      mAP50  mAP50-95): 100%|██████████| 2/2 [00:01<00:00,  1.73it/s]"
          ]
        },
        {
          "output_type": "stream",
          "name": "stdout",
          "text": [
            "                   all         56        444      0.777      0.802      0.847      0.476\n"
          ]
        },
        {
          "output_type": "stream",
          "name": "stderr",
          "text": [
            "\n"
          ]
        },
        {
          "output_type": "stream",
          "name": "stdout",
          "text": [
            "\n",
            "      Epoch    GPU_mem   box_loss   cls_loss   dfl_loss  Instances       Size\n"
          ]
        },
        {
          "output_type": "stream",
          "name": "stderr",
          "text": [
            "    127/200      5.64G      1.126     0.7631      1.033        254        640: 100%|██████████| 37/37 [00:09<00:00,  3.75it/s]\n",
            "                 Class     Images  Instances      Box(P          R      mAP50  mAP50-95): 100%|██████████| 2/2 [00:00<00:00,  3.87it/s]"
          ]
        },
        {
          "output_type": "stream",
          "name": "stdout",
          "text": [
            "                   all         56        444      0.801      0.816      0.854      0.479\n"
          ]
        },
        {
          "output_type": "stream",
          "name": "stderr",
          "text": [
            "\n"
          ]
        },
        {
          "output_type": "stream",
          "name": "stdout",
          "text": [
            "\n",
            "      Epoch    GPU_mem   box_loss   cls_loss   dfl_loss  Instances       Size\n"
          ]
        },
        {
          "output_type": "stream",
          "name": "stderr",
          "text": [
            "    128/200      5.64G      1.143     0.7464      1.029        109        640: 100%|██████████| 37/37 [00:11<00:00,  3.36it/s]\n",
            "                 Class     Images  Instances      Box(P          R      mAP50  mAP50-95): 100%|██████████| 2/2 [00:00<00:00,  3.72it/s]"
          ]
        },
        {
          "output_type": "stream",
          "name": "stdout",
          "text": [
            "                   all         56        444      0.821      0.803      0.866      0.486\n"
          ]
        },
        {
          "output_type": "stream",
          "name": "stderr",
          "text": [
            "\n"
          ]
        },
        {
          "output_type": "stream",
          "name": "stdout",
          "text": [
            "\n",
            "      Epoch    GPU_mem   box_loss   cls_loss   dfl_loss  Instances       Size\n"
          ]
        },
        {
          "output_type": "stream",
          "name": "stderr",
          "text": [
            "    129/200      5.67G      1.122     0.7567      1.018         33        640: 100%|██████████| 37/37 [00:10<00:00,  3.42it/s]\n",
            "                 Class     Images  Instances      Box(P          R      mAP50  mAP50-95): 100%|██████████| 2/2 [00:00<00:00,  3.57it/s]"
          ]
        },
        {
          "output_type": "stream",
          "name": "stdout",
          "text": [
            "                   all         56        444      0.798      0.816      0.869       0.47\n"
          ]
        },
        {
          "output_type": "stream",
          "name": "stderr",
          "text": [
            "\n"
          ]
        },
        {
          "output_type": "stream",
          "name": "stdout",
          "text": [
            "\n",
            "      Epoch    GPU_mem   box_loss   cls_loss   dfl_loss  Instances       Size\n"
          ]
        },
        {
          "output_type": "stream",
          "name": "stderr",
          "text": [
            "    130/200      5.68G      1.118     0.7439      1.022        145        640: 100%|██████████| 37/37 [00:11<00:00,  3.35it/s]\n",
            "                 Class     Images  Instances      Box(P          R      mAP50  mAP50-95): 100%|██████████| 2/2 [00:00<00:00,  3.46it/s]"
          ]
        },
        {
          "output_type": "stream",
          "name": "stdout",
          "text": [
            "                   all         56        444      0.782       0.79      0.844      0.472\n"
          ]
        },
        {
          "output_type": "stream",
          "name": "stderr",
          "text": [
            "\n"
          ]
        },
        {
          "output_type": "stream",
          "name": "stdout",
          "text": [
            "\n",
            "      Epoch    GPU_mem   box_loss   cls_loss   dfl_loss  Instances       Size\n"
          ]
        },
        {
          "output_type": "stream",
          "name": "stderr",
          "text": [
            "    131/200       5.7G      1.143     0.7673      1.052         28        640: 100%|██████████| 37/37 [00:10<00:00,  3.44it/s]\n",
            "                 Class     Images  Instances      Box(P          R      mAP50  mAP50-95): 100%|██████████| 2/2 [00:00<00:00,  2.10it/s]"
          ]
        },
        {
          "output_type": "stream",
          "name": "stdout",
          "text": [
            "                   all         56        444      0.774      0.834      0.849       0.48\n"
          ]
        },
        {
          "output_type": "stream",
          "name": "stderr",
          "text": [
            "\n"
          ]
        },
        {
          "output_type": "stream",
          "name": "stdout",
          "text": [
            "\n",
            "      Epoch    GPU_mem   box_loss   cls_loss   dfl_loss  Instances       Size\n"
          ]
        },
        {
          "output_type": "stream",
          "name": "stderr",
          "text": [
            "    132/200       5.7G      1.151     0.7502      1.011        108        640: 100%|██████████| 37/37 [00:09<00:00,  3.87it/s]\n",
            "                 Class     Images  Instances      Box(P          R      mAP50  mAP50-95): 100%|██████████| 2/2 [00:00<00:00,  2.74it/s]"
          ]
        },
        {
          "output_type": "stream",
          "name": "stdout",
          "text": [
            "                   all         56        444      0.837      0.757      0.853      0.487\n"
          ]
        },
        {
          "output_type": "stream",
          "name": "stderr",
          "text": [
            "\n"
          ]
        },
        {
          "output_type": "stream",
          "name": "stdout",
          "text": [
            "\n",
            "      Epoch    GPU_mem   box_loss   cls_loss   dfl_loss  Instances       Size\n"
          ]
        },
        {
          "output_type": "stream",
          "name": "stderr",
          "text": [
            "    133/200      5.73G      1.117     0.7542      1.026         93        640: 100%|██████████| 37/37 [00:10<00:00,  3.50it/s]\n",
            "                 Class     Images  Instances      Box(P          R      mAP50  mAP50-95): 100%|██████████| 2/2 [00:00<00:00,  3.68it/s]"
          ]
        },
        {
          "output_type": "stream",
          "name": "stdout",
          "text": [
            "                   all         56        444      0.834      0.766      0.846      0.473\n"
          ]
        },
        {
          "output_type": "stream",
          "name": "stderr",
          "text": [
            "\n"
          ]
        },
        {
          "output_type": "stream",
          "name": "stdout",
          "text": [
            "\n",
            "      Epoch    GPU_mem   box_loss   cls_loss   dfl_loss  Instances       Size\n"
          ]
        },
        {
          "output_type": "stream",
          "name": "stderr",
          "text": [
            "    134/200      5.74G      1.118     0.7547      1.028        228        640: 100%|██████████| 37/37 [00:10<00:00,  3.36it/s]\n",
            "                 Class     Images  Instances      Box(P          R      mAP50  mAP50-95): 100%|██████████| 2/2 [00:00<00:00,  3.60it/s]"
          ]
        },
        {
          "output_type": "stream",
          "name": "stdout",
          "text": [
            "                   all         56        444      0.831      0.779       0.85      0.473\n"
          ]
        },
        {
          "output_type": "stream",
          "name": "stderr",
          "text": [
            "\n"
          ]
        },
        {
          "output_type": "stream",
          "name": "stdout",
          "text": [
            "\n",
            "      Epoch    GPU_mem   box_loss   cls_loss   dfl_loss  Instances       Size\n"
          ]
        },
        {
          "output_type": "stream",
          "name": "stderr",
          "text": [
            "    135/200      5.76G      1.105     0.7319      1.014         84        640: 100%|██████████| 37/37 [00:10<00:00,  3.37it/s]\n",
            "                 Class     Images  Instances      Box(P          R      mAP50  mAP50-95): 100%|██████████| 2/2 [00:00<00:00,  3.12it/s]"
          ]
        },
        {
          "output_type": "stream",
          "name": "stdout",
          "text": [
            "                   all         56        444      0.719      0.852      0.836      0.453\n"
          ]
        },
        {
          "output_type": "stream",
          "name": "stderr",
          "text": [
            "\n"
          ]
        },
        {
          "output_type": "stream",
          "name": "stdout",
          "text": [
            "\n",
            "      Epoch    GPU_mem   box_loss   cls_loss   dfl_loss  Instances       Size\n"
          ]
        },
        {
          "output_type": "stream",
          "name": "stderr",
          "text": [
            "    136/200      5.76G      1.126     0.7391      1.006         78        640: 100%|██████████| 37/37 [00:10<00:00,  3.41it/s]\n",
            "                 Class     Images  Instances      Box(P          R      mAP50  mAP50-95): 100%|██████████| 2/2 [00:00<00:00,  3.32it/s]"
          ]
        },
        {
          "output_type": "stream",
          "name": "stdout",
          "text": [
            "                   all         56        444      0.811      0.761       0.85      0.474\n"
          ]
        },
        {
          "output_type": "stream",
          "name": "stderr",
          "text": [
            "\n"
          ]
        },
        {
          "output_type": "stream",
          "name": "stdout",
          "text": [
            "\n",
            "      Epoch    GPU_mem   box_loss   cls_loss   dfl_loss  Instances       Size\n"
          ]
        },
        {
          "output_type": "stream",
          "name": "stderr",
          "text": [
            "    137/200      5.79G      1.128     0.7461      1.029         49        640: 100%|██████████| 37/37 [00:09<00:00,  3.83it/s]\n",
            "                 Class     Images  Instances      Box(P          R      mAP50  mAP50-95): 100%|██████████| 2/2 [00:00<00:00,  2.02it/s]"
          ]
        },
        {
          "output_type": "stream",
          "name": "stdout",
          "text": [
            "                   all         56        444       0.82      0.792      0.849      0.482\n"
          ]
        },
        {
          "output_type": "stream",
          "name": "stderr",
          "text": [
            "\n"
          ]
        },
        {
          "output_type": "stream",
          "name": "stdout",
          "text": [
            "\n",
            "      Epoch    GPU_mem   box_loss   cls_loss   dfl_loss  Instances       Size\n"
          ]
        },
        {
          "output_type": "stream",
          "name": "stderr",
          "text": [
            "    138/200       5.8G      1.073     0.7336      1.026        123        640: 100%|██████████| 37/37 [00:09<00:00,  3.70it/s]\n",
            "                 Class     Images  Instances      Box(P          R      mAP50  mAP50-95): 100%|██████████| 2/2 [00:00<00:00,  3.83it/s]"
          ]
        },
        {
          "output_type": "stream",
          "name": "stdout",
          "text": [
            "                   all         56        444      0.824      0.806      0.867      0.496\n"
          ]
        },
        {
          "output_type": "stream",
          "name": "stderr",
          "text": [
            "\n"
          ]
        },
        {
          "output_type": "stream",
          "name": "stdout",
          "text": [
            "\n",
            "      Epoch    GPU_mem   box_loss   cls_loss   dfl_loss  Instances       Size\n"
          ]
        },
        {
          "output_type": "stream",
          "name": "stderr",
          "text": [
            "    139/200      5.82G      1.104     0.7313      1.025        106        640: 100%|██████████| 37/37 [00:11<00:00,  3.36it/s]\n",
            "                 Class     Images  Instances      Box(P          R      mAP50  mAP50-95): 100%|██████████| 2/2 [00:00<00:00,  3.49it/s]"
          ]
        },
        {
          "output_type": "stream",
          "name": "stdout",
          "text": [
            "                   all         56        444      0.797       0.78      0.845      0.469\n"
          ]
        },
        {
          "output_type": "stream",
          "name": "stderr",
          "text": [
            "\n"
          ]
        },
        {
          "output_type": "stream",
          "name": "stdout",
          "text": [
            "\n",
            "      Epoch    GPU_mem   box_loss   cls_loss   dfl_loss  Instances       Size\n"
          ]
        },
        {
          "output_type": "stream",
          "name": "stderr",
          "text": [
            "    140/200      5.82G      1.098     0.7233      1.008        183        640: 100%|██████████| 37/37 [00:11<00:00,  3.34it/s]\n",
            "                 Class     Images  Instances      Box(P          R      mAP50  mAP50-95): 100%|██████████| 2/2 [00:00<00:00,  3.75it/s]"
          ]
        },
        {
          "output_type": "stream",
          "name": "stdout",
          "text": [
            "                   all         56        444      0.781      0.784      0.848      0.482\n"
          ]
        },
        {
          "output_type": "stream",
          "name": "stderr",
          "text": [
            "\n"
          ]
        },
        {
          "output_type": "stream",
          "name": "stdout",
          "text": [
            "\n",
            "      Epoch    GPU_mem   box_loss   cls_loss   dfl_loss  Instances       Size\n"
          ]
        },
        {
          "output_type": "stream",
          "name": "stderr",
          "text": [
            "    141/200      5.85G      1.082     0.7134      1.002         57        640: 100%|██████████| 37/37 [00:10<00:00,  3.38it/s]\n",
            "                 Class     Images  Instances      Box(P          R      mAP50  mAP50-95): 100%|██████████| 2/2 [00:00<00:00,  2.58it/s]"
          ]
        },
        {
          "output_type": "stream",
          "name": "stdout",
          "text": [
            "                   all         56        444      0.828      0.789      0.861       0.46\n"
          ]
        },
        {
          "output_type": "stream",
          "name": "stderr",
          "text": [
            "\n"
          ]
        },
        {
          "output_type": "stream",
          "name": "stdout",
          "text": [
            "\n",
            "      Epoch    GPU_mem   box_loss   cls_loss   dfl_loss  Instances       Size\n"
          ]
        },
        {
          "output_type": "stream",
          "name": "stderr",
          "text": [
            "    142/200      5.86G      1.099     0.7273      1.016        128        640: 100%|██████████| 37/37 [00:11<00:00,  3.29it/s]\n",
            "                 Class     Images  Instances      Box(P          R      mAP50  mAP50-95): 100%|██████████| 2/2 [00:00<00:00,  2.63it/s]"
          ]
        },
        {
          "output_type": "stream",
          "name": "stdout",
          "text": [
            "                   all         56        444      0.831      0.764      0.848      0.481\n"
          ]
        },
        {
          "output_type": "stream",
          "name": "stderr",
          "text": [
            "\n"
          ]
        },
        {
          "output_type": "stream",
          "name": "stdout",
          "text": [
            "\n",
            "      Epoch    GPU_mem   box_loss   cls_loss   dfl_loss  Instances       Size\n"
          ]
        },
        {
          "output_type": "stream",
          "name": "stderr",
          "text": [
            "    143/200      5.88G      1.069     0.7021          1         50        640: 100%|██████████| 37/37 [00:10<00:00,  3.68it/s]\n",
            "                 Class     Images  Instances      Box(P          R      mAP50  mAP50-95): 100%|██████████| 2/2 [00:00<00:00,  2.41it/s]"
          ]
        },
        {
          "output_type": "stream",
          "name": "stdout",
          "text": [
            "                   all         56        444      0.816      0.774      0.847      0.451\n"
          ]
        },
        {
          "output_type": "stream",
          "name": "stderr",
          "text": [
            "\n"
          ]
        },
        {
          "output_type": "stream",
          "name": "stdout",
          "text": [
            "\n",
            "      Epoch    GPU_mem   box_loss   cls_loss   dfl_loss  Instances       Size\n"
          ]
        },
        {
          "output_type": "stream",
          "name": "stderr",
          "text": [
            "    144/200      5.88G      1.075     0.7086          1        154        640: 100%|██████████| 37/37 [00:10<00:00,  3.62it/s]\n",
            "                 Class     Images  Instances      Box(P          R      mAP50  mAP50-95): 100%|██████████| 2/2 [00:00<00:00,  3.96it/s]"
          ]
        },
        {
          "output_type": "stream",
          "name": "stdout",
          "text": [
            "                   all         56        444      0.854      0.784      0.868      0.477\n"
          ]
        },
        {
          "output_type": "stream",
          "name": "stderr",
          "text": [
            "\n"
          ]
        },
        {
          "output_type": "stream",
          "name": "stdout",
          "text": [
            "\n",
            "      Epoch    GPU_mem   box_loss   cls_loss   dfl_loss  Instances       Size\n"
          ]
        },
        {
          "output_type": "stream",
          "name": "stderr",
          "text": [
            "    145/200       5.9G       1.07     0.7051      1.009        117        640: 100%|██████████| 37/37 [00:11<00:00,  3.31it/s]\n",
            "                 Class     Images  Instances      Box(P          R      mAP50  mAP50-95): 100%|██████████| 2/2 [00:00<00:00,  4.28it/s]\n"
          ]
        },
        {
          "output_type": "stream",
          "name": "stdout",
          "text": [
            "                   all         56        444      0.855      0.793      0.881      0.494\n",
            "\n",
            "      Epoch    GPU_mem   box_loss   cls_loss   dfl_loss  Instances       Size\n"
          ]
        },
        {
          "output_type": "stream",
          "name": "stderr",
          "text": [
            "    146/200      5.92G      1.084     0.7268      1.011         73        640: 100%|██████████| 37/37 [00:11<00:00,  3.32it/s]\n",
            "                 Class     Images  Instances      Box(P          R      mAP50  mAP50-95): 100%|██████████| 2/2 [00:00<00:00,  3.02it/s]"
          ]
        },
        {
          "output_type": "stream",
          "name": "stdout",
          "text": [
            "                   all         56        444      0.843      0.807       0.88      0.488\n"
          ]
        },
        {
          "output_type": "stream",
          "name": "stderr",
          "text": [
            "\n"
          ]
        },
        {
          "output_type": "stream",
          "name": "stdout",
          "text": [
            "\n",
            "      Epoch    GPU_mem   box_loss   cls_loss   dfl_loss  Instances       Size\n"
          ]
        },
        {
          "output_type": "stream",
          "name": "stderr",
          "text": [
            "    147/200      5.93G      1.061        0.7     0.9942         92        640: 100%|██████████| 37/37 [00:10<00:00,  3.38it/s]\n",
            "                 Class     Images  Instances      Box(P          R      mAP50  mAP50-95): 100%|██████████| 2/2 [00:00<00:00,  3.57it/s]"
          ]
        },
        {
          "output_type": "stream",
          "name": "stdout",
          "text": [
            "                   all         56        444      0.828      0.802      0.878       0.49\n"
          ]
        },
        {
          "output_type": "stream",
          "name": "stderr",
          "text": [
            "\n"
          ]
        },
        {
          "output_type": "stream",
          "name": "stdout",
          "text": [
            "\n",
            "      Epoch    GPU_mem   box_loss   cls_loss   dfl_loss  Instances       Size\n"
          ]
        },
        {
          "output_type": "stream",
          "name": "stderr",
          "text": [
            "    148/200      5.94G       1.09     0.6997          1        115        640: 100%|██████████| 37/37 [00:10<00:00,  3.43it/s]\n",
            "                 Class     Images  Instances      Box(P          R      mAP50  mAP50-95): 100%|██████████| 2/2 [00:00<00:00,  2.50it/s]"
          ]
        },
        {
          "output_type": "stream",
          "name": "stdout",
          "text": [
            "                   all         56        444      0.828      0.807      0.877      0.484\n"
          ]
        },
        {
          "output_type": "stream",
          "name": "stderr",
          "text": [
            "\n"
          ]
        },
        {
          "output_type": "stream",
          "name": "stdout",
          "text": [
            "\n",
            "      Epoch    GPU_mem   box_loss   cls_loss   dfl_loss  Instances       Size\n"
          ]
        },
        {
          "output_type": "stream",
          "name": "stderr",
          "text": [
            "    149/200      5.96G       1.06     0.6948      1.002         85        640: 100%|██████████| 37/37 [00:09<00:00,  3.84it/s]\n",
            "                 Class     Images  Instances      Box(P          R      mAP50  mAP50-95): 100%|██████████| 2/2 [00:00<00:00,  2.58it/s]"
          ]
        },
        {
          "output_type": "stream",
          "name": "stdout",
          "text": [
            "                   all         56        444      0.802      0.821      0.872      0.492\n"
          ]
        },
        {
          "output_type": "stream",
          "name": "stderr",
          "text": [
            "\n"
          ]
        },
        {
          "output_type": "stream",
          "name": "stdout",
          "text": [
            "\n",
            "      Epoch    GPU_mem   box_loss   cls_loss   dfl_loss  Instances       Size\n"
          ]
        },
        {
          "output_type": "stream",
          "name": "stderr",
          "text": [
            "    150/200      5.98G      1.076     0.7137      1.009         28        640: 100%|██████████| 37/37 [00:10<00:00,  3.62it/s]\n",
            "                 Class     Images  Instances      Box(P          R      mAP50  mAP50-95): 100%|██████████| 2/2 [00:00<00:00,  3.69it/s]"
          ]
        },
        {
          "output_type": "stream",
          "name": "stdout",
          "text": [
            "                   all         56        444       0.81      0.852      0.892      0.499\n"
          ]
        },
        {
          "output_type": "stream",
          "name": "stderr",
          "text": [
            "\n"
          ]
        },
        {
          "output_type": "stream",
          "name": "stdout",
          "text": [
            "\n",
            "      Epoch    GPU_mem   box_loss   cls_loss   dfl_loss  Instances       Size\n"
          ]
        },
        {
          "output_type": "stream",
          "name": "stderr",
          "text": [
            "    151/200      5.99G      1.043      0.689     0.9995        105        640: 100%|██████████| 37/37 [00:11<00:00,  3.35it/s]\n",
            "                 Class     Images  Instances      Box(P          R      mAP50  mAP50-95): 100%|██████████| 2/2 [00:00<00:00,  3.66it/s]"
          ]
        },
        {
          "output_type": "stream",
          "name": "stdout",
          "text": [
            "                   all         56        444        0.8      0.884      0.887       0.49\n"
          ]
        },
        {
          "output_type": "stream",
          "name": "stderr",
          "text": [
            "\n"
          ]
        },
        {
          "output_type": "stream",
          "name": "stdout",
          "text": [
            "\n",
            "      Epoch    GPU_mem   box_loss   cls_loss   dfl_loss  Instances       Size\n"
          ]
        },
        {
          "output_type": "stream",
          "name": "stderr",
          "text": [
            "    152/200         6G      1.076     0.7159      1.002         57        640: 100%|██████████| 37/37 [00:11<00:00,  3.25it/s]\n",
            "                 Class     Images  Instances      Box(P          R      mAP50  mAP50-95): 100%|██████████| 2/2 [00:00<00:00,  3.98it/s]\n"
          ]
        },
        {
          "output_type": "stream",
          "name": "stdout",
          "text": [
            "                   all         56        444      0.826      0.816       0.87      0.481\n",
            "\n",
            "      Epoch    GPU_mem   box_loss   cls_loss   dfl_loss  Instances       Size\n"
          ]
        },
        {
          "output_type": "stream",
          "name": "stderr",
          "text": [
            "    153/200      6.02G      1.043      0.693     0.9957         48        640: 100%|██████████| 37/37 [00:10<00:00,  3.39it/s]\n",
            "                 Class     Images  Instances      Box(P          R      mAP50  mAP50-95): 100%|██████████| 2/2 [00:00<00:00,  3.22it/s]"
          ]
        },
        {
          "output_type": "stream",
          "name": "stdout",
          "text": [
            "                   all         56        444      0.822      0.805      0.859      0.464\n"
          ]
        },
        {
          "output_type": "stream",
          "name": "stderr",
          "text": [
            "\n"
          ]
        },
        {
          "output_type": "stream",
          "name": "stdout",
          "text": [
            "\n",
            "      Epoch    GPU_mem   box_loss   cls_loss   dfl_loss  Instances       Size\n"
          ]
        },
        {
          "output_type": "stream",
          "name": "stderr",
          "text": [
            "    154/200      6.04G      1.053     0.7001      1.004        208        640: 100%|██████████| 37/37 [00:10<00:00,  3.41it/s]\n",
            "                 Class     Images  Instances      Box(P          R      mAP50  mAP50-95): 100%|██████████| 2/2 [00:01<00:00,  1.90it/s]"
          ]
        },
        {
          "output_type": "stream",
          "name": "stdout",
          "text": [
            "                   all         56        444      0.861      0.793      0.882      0.487\n"
          ]
        },
        {
          "output_type": "stream",
          "name": "stderr",
          "text": [
            "\n"
          ]
        },
        {
          "output_type": "stream",
          "name": "stdout",
          "text": [
            "\n",
            "      Epoch    GPU_mem   box_loss   cls_loss   dfl_loss  Instances       Size\n"
          ]
        },
        {
          "output_type": "stream",
          "name": "stderr",
          "text": [
            "    155/200      6.05G      1.061     0.6872     0.9926         44        640: 100%|██████████| 37/37 [00:09<00:00,  3.77it/s]\n",
            "                 Class     Images  Instances      Box(P          R      mAP50  mAP50-95): 100%|██████████| 2/2 [00:00<00:00,  2.69it/s]"
          ]
        },
        {
          "output_type": "stream",
          "name": "stdout",
          "text": [
            "                   all         56        444      0.777      0.828      0.859      0.469\n"
          ]
        },
        {
          "output_type": "stream",
          "name": "stderr",
          "text": [
            "\n"
          ]
        },
        {
          "output_type": "stream",
          "name": "stdout",
          "text": [
            "\n",
            "      Epoch    GPU_mem   box_loss   cls_loss   dfl_loss  Instances       Size\n"
          ]
        },
        {
          "output_type": "stream",
          "name": "stderr",
          "text": [
            "    156/200      6.06G      1.052     0.6989     0.9859         74        640: 100%|██████████| 37/37 [00:10<00:00,  3.51it/s]\n",
            "                 Class     Images  Instances      Box(P          R      mAP50  mAP50-95): 100%|██████████| 2/2 [00:00<00:00,  4.02it/s]"
          ]
        },
        {
          "output_type": "stream",
          "name": "stdout",
          "text": [
            "                   all         56        444      0.799      0.783      0.858      0.482\n"
          ]
        },
        {
          "output_type": "stream",
          "name": "stderr",
          "text": [
            "\n"
          ]
        },
        {
          "output_type": "stream",
          "name": "stdout",
          "text": [
            "\n",
            "      Epoch    GPU_mem   box_loss   cls_loss   dfl_loss  Instances       Size\n"
          ]
        },
        {
          "output_type": "stream",
          "name": "stderr",
          "text": [
            "    157/200      6.08G      1.055     0.6917     0.9938        131        640: 100%|██████████| 37/37 [00:10<00:00,  3.37it/s]\n",
            "                 Class     Images  Instances      Box(P          R      mAP50  mAP50-95): 100%|██████████| 2/2 [00:00<00:00,  3.83it/s]"
          ]
        },
        {
          "output_type": "stream",
          "name": "stdout",
          "text": [
            "                   all         56        444      0.769      0.857      0.864      0.473\n"
          ]
        },
        {
          "output_type": "stream",
          "name": "stderr",
          "text": [
            "\n"
          ]
        },
        {
          "output_type": "stream",
          "name": "stdout",
          "text": [
            "\n",
            "      Epoch    GPU_mem   box_loss   cls_loss   dfl_loss  Instances       Size\n"
          ]
        },
        {
          "output_type": "stream",
          "name": "stderr",
          "text": [
            "    158/200       6.1G      1.066     0.6828      1.002         88        640: 100%|██████████| 37/37 [00:11<00:00,  3.36it/s]\n",
            "                 Class     Images  Instances      Box(P          R      mAP50  mAP50-95): 100%|██████████| 2/2 [00:00<00:00,  4.04it/s]\n"
          ]
        },
        {
          "output_type": "stream",
          "name": "stdout",
          "text": [
            "                   all         56        444      0.834      0.794      0.871      0.488\n",
            "\n",
            "      Epoch    GPU_mem   box_loss   cls_loss   dfl_loss  Instances       Size\n"
          ]
        },
        {
          "output_type": "stream",
          "name": "stderr",
          "text": [
            "    159/200      6.11G      1.022     0.6803     0.9796        114        640: 100%|██████████| 37/37 [00:11<00:00,  3.32it/s]\n",
            "                 Class     Images  Instances      Box(P          R      mAP50  mAP50-95): 100%|██████████| 2/2 [00:00<00:00,  3.45it/s]\n"
          ]
        },
        {
          "output_type": "stream",
          "name": "stdout",
          "text": [
            "                   all         56        444      0.826      0.818      0.861      0.463\n",
            "\n",
            "      Epoch    GPU_mem   box_loss   cls_loss   dfl_loss  Instances       Size\n"
          ]
        },
        {
          "output_type": "stream",
          "name": "stderr",
          "text": [
            "    160/200      6.12G      1.047     0.6835     0.9878        129        640: 100%|██████████| 37/37 [00:09<00:00,  3.72it/s]\n",
            "                 Class     Images  Instances      Box(P          R      mAP50  mAP50-95): 100%|██████████| 2/2 [00:00<00:00,  2.13it/s]"
          ]
        },
        {
          "output_type": "stream",
          "name": "stdout",
          "text": [
            "                   all         56        444      0.843      0.804      0.866      0.483\n"
          ]
        },
        {
          "output_type": "stream",
          "name": "stderr",
          "text": [
            "\n"
          ]
        },
        {
          "output_type": "stream",
          "name": "stdout",
          "text": [
            "\n",
            "      Epoch    GPU_mem   box_loss   cls_loss   dfl_loss  Instances       Size\n"
          ]
        },
        {
          "output_type": "stream",
          "name": "stderr",
          "text": [
            "    161/200      6.14G      1.063     0.6934     0.9987         41        640: 100%|██████████| 37/37 [00:09<00:00,  3.81it/s]\n",
            "                 Class     Images  Instances      Box(P          R      mAP50  mAP50-95): 100%|██████████| 2/2 [00:00<00:00,  3.28it/s]\n"
          ]
        },
        {
          "output_type": "stream",
          "name": "stdout",
          "text": [
            "                   all         56        444      0.832      0.809      0.872      0.487\n",
            "\n",
            "      Epoch    GPU_mem   box_loss   cls_loss   dfl_loss  Instances       Size\n"
          ]
        },
        {
          "output_type": "stream",
          "name": "stderr",
          "text": [
            "    162/200      6.16G      1.013      0.677     0.9929         64        640: 100%|██████████| 37/37 [00:11<00:00,  3.32it/s]\n",
            "                 Class     Images  Instances      Box(P          R      mAP50  mAP50-95): 100%|██████████| 2/2 [00:00<00:00,  3.71it/s]\n"
          ]
        },
        {
          "output_type": "stream",
          "name": "stdout",
          "text": [
            "                   all         56        444      0.834      0.801      0.866      0.471\n",
            "\n",
            "      Epoch    GPU_mem   box_loss   cls_loss   dfl_loss  Instances       Size\n"
          ]
        },
        {
          "output_type": "stream",
          "name": "stderr",
          "text": [
            "    163/200      6.17G      1.026     0.6728     0.9923         99        640: 100%|██████████| 37/37 [00:11<00:00,  3.32it/s]\n",
            "                 Class     Images  Instances      Box(P          R      mAP50  mAP50-95): 100%|██████████| 2/2 [00:00<00:00,  3.03it/s]"
          ]
        },
        {
          "output_type": "stream",
          "name": "stdout",
          "text": [
            "                   all         56        444      0.816      0.815      0.871      0.499\n"
          ]
        },
        {
          "output_type": "stream",
          "name": "stderr",
          "text": [
            "\n"
          ]
        },
        {
          "output_type": "stream",
          "name": "stdout",
          "text": [
            "\n",
            "      Epoch    GPU_mem   box_loss   cls_loss   dfl_loss  Instances       Size\n"
          ]
        },
        {
          "output_type": "stream",
          "name": "stderr",
          "text": [
            "    164/200      6.18G      1.027     0.6754     0.9891         45        640: 100%|██████████| 37/37 [00:11<00:00,  3.34it/s]\n",
            "                 Class     Images  Instances      Box(P          R      mAP50  mAP50-95): 100%|██████████| 2/2 [00:00<00:00,  4.25it/s]\n"
          ]
        },
        {
          "output_type": "stream",
          "name": "stdout",
          "text": [
            "                   all         56        444      0.801        0.8      0.866      0.475\n",
            "\n",
            "      Epoch    GPU_mem   box_loss   cls_loss   dfl_loss  Instances       Size\n"
          ]
        },
        {
          "output_type": "stream",
          "name": "stderr",
          "text": [
            "    165/200       6.2G      1.022     0.6899          1         86        640: 100%|██████████| 37/37 [00:10<00:00,  3.51it/s]\n",
            "                 Class     Images  Instances      Box(P          R      mAP50  mAP50-95): 100%|██████████| 2/2 [00:00<00:00,  2.24it/s]"
          ]
        },
        {
          "output_type": "stream",
          "name": "stdout",
          "text": [
            "                   all         56        444      0.788       0.84      0.863      0.479\n"
          ]
        },
        {
          "output_type": "stream",
          "name": "stderr",
          "text": [
            "\n"
          ]
        },
        {
          "output_type": "stream",
          "name": "stdout",
          "text": [
            "\n",
            "      Epoch    GPU_mem   box_loss   cls_loss   dfl_loss  Instances       Size\n"
          ]
        },
        {
          "output_type": "stream",
          "name": "stderr",
          "text": [
            "    166/200      6.22G     0.9924     0.6562     0.9817        127        640: 100%|██████████| 37/37 [00:09<00:00,  3.88it/s]\n",
            "                 Class     Images  Instances      Box(P          R      mAP50  mAP50-95): 100%|██████████| 2/2 [00:00<00:00,  2.69it/s]"
          ]
        },
        {
          "output_type": "stream",
          "name": "stdout",
          "text": [
            "                   all         56        444      0.789      0.819      0.857      0.476\n"
          ]
        },
        {
          "output_type": "stream",
          "name": "stderr",
          "text": [
            "\n"
          ]
        },
        {
          "output_type": "stream",
          "name": "stdout",
          "text": [
            "\n",
            "      Epoch    GPU_mem   box_loss   cls_loss   dfl_loss  Instances       Size\n"
          ]
        },
        {
          "output_type": "stream",
          "name": "stderr",
          "text": [
            "    167/200      6.23G      1.018     0.6699     0.9865        113        640: 100%|██████████| 37/37 [00:10<00:00,  3.58it/s]\n",
            "                 Class     Images  Instances      Box(P          R      mAP50  mAP50-95): 100%|██████████| 2/2 [00:00<00:00,  3.98it/s]\n"
          ]
        },
        {
          "output_type": "stream",
          "name": "stdout",
          "text": [
            "                   all         56        444       0.79      0.845      0.874      0.492\n",
            "\n",
            "      Epoch    GPU_mem   box_loss   cls_loss   dfl_loss  Instances       Size\n"
          ]
        },
        {
          "output_type": "stream",
          "name": "stderr",
          "text": [
            "    168/200      6.24G      1.002     0.6585     0.9799         97        640: 100%|██████████| 37/37 [00:10<00:00,  3.37it/s]\n",
            "                 Class     Images  Instances      Box(P          R      mAP50  mAP50-95): 100%|██████████| 2/2 [00:00<00:00,  3.73it/s]"
          ]
        },
        {
          "output_type": "stream",
          "name": "stdout",
          "text": [
            "                   all         56        444      0.835      0.799      0.868      0.488\n"
          ]
        },
        {
          "output_type": "stream",
          "name": "stderr",
          "text": [
            "\n"
          ]
        },
        {
          "output_type": "stream",
          "name": "stdout",
          "text": [
            "\n",
            "      Epoch    GPU_mem   box_loss   cls_loss   dfl_loss  Instances       Size\n"
          ]
        },
        {
          "output_type": "stream",
          "name": "stderr",
          "text": [
            "    169/200      6.26G      1.034     0.6803     0.9863        113        640: 100%|██████████| 37/37 [00:10<00:00,  3.37it/s]\n",
            "                 Class     Images  Instances      Box(P          R      mAP50  mAP50-95): 100%|██████████| 2/2 [00:00<00:00,  3.51it/s]\n"
          ]
        },
        {
          "output_type": "stream",
          "name": "stdout",
          "text": [
            "                   all         56        444      0.844      0.813      0.881      0.492\n",
            "\n",
            "      Epoch    GPU_mem   box_loss   cls_loss   dfl_loss  Instances       Size\n"
          ]
        },
        {
          "output_type": "stream",
          "name": "stderr",
          "text": [
            "    170/200      6.28G      1.026     0.6601     0.9826        107        640: 100%|██████████| 37/37 [00:10<00:00,  3.38it/s]\n",
            "                 Class     Images  Instances      Box(P          R      mAP50  mAP50-95): 100%|██████████| 2/2 [00:00<00:00,  3.39it/s]"
          ]
        },
        {
          "output_type": "stream",
          "name": "stdout",
          "text": [
            "                   all         56        444      0.796      0.832      0.878      0.497\n"
          ]
        },
        {
          "output_type": "stream",
          "name": "stderr",
          "text": [
            "\n"
          ]
        },
        {
          "output_type": "stream",
          "name": "stdout",
          "text": [
            "\n",
            "      Epoch    GPU_mem   box_loss   cls_loss   dfl_loss  Instances       Size\n"
          ]
        },
        {
          "output_type": "stream",
          "name": "stderr",
          "text": [
            "    171/200      6.29G      1.015     0.6765     0.9831        109        640: 100%|██████████| 37/37 [00:10<00:00,  3.62it/s]\n",
            "                 Class     Images  Instances      Box(P          R      mAP50  mAP50-95): 100%|██████████| 2/2 [00:01<00:00,  1.78it/s]"
          ]
        },
        {
          "output_type": "stream",
          "name": "stdout",
          "text": [
            "                   all         56        444      0.801      0.834      0.874      0.499\n"
          ]
        },
        {
          "output_type": "stream",
          "name": "stderr",
          "text": [
            "\n"
          ]
        },
        {
          "output_type": "stream",
          "name": "stdout",
          "text": [
            "\n",
            "      Epoch    GPU_mem   box_loss   cls_loss   dfl_loss  Instances       Size\n"
          ]
        },
        {
          "output_type": "stream",
          "name": "stderr",
          "text": [
            "    172/200      6.29G      1.014     0.6678     0.9967         37        640: 100%|██████████| 37/37 [00:09<00:00,  3.87it/s]\n",
            "                 Class     Images  Instances      Box(P          R      mAP50  mAP50-95): 100%|██████████| 2/2 [00:00<00:00,  3.73it/s]"
          ]
        },
        {
          "output_type": "stream",
          "name": "stdout",
          "text": [
            "                   all         56        444      0.813      0.832      0.871       0.49\n"
          ]
        },
        {
          "output_type": "stream",
          "name": "stderr",
          "text": [
            "\n"
          ]
        },
        {
          "output_type": "stream",
          "name": "stdout",
          "text": [
            "\n",
            "      Epoch    GPU_mem   box_loss   cls_loss   dfl_loss  Instances       Size\n"
          ]
        },
        {
          "output_type": "stream",
          "name": "stderr",
          "text": [
            "    173/200      6.32G       1.03     0.6696     0.9701         49        640: 100%|██████████| 37/37 [00:10<00:00,  3.46it/s]\n",
            "                 Class     Images  Instances      Box(P          R      mAP50  mAP50-95): 100%|██████████| 2/2 [00:00<00:00,  3.04it/s]"
          ]
        },
        {
          "output_type": "stream",
          "name": "stdout",
          "text": [
            "                   all         56        444       0.82      0.815      0.858      0.478\n"
          ]
        },
        {
          "output_type": "stream",
          "name": "stderr",
          "text": [
            "\n"
          ]
        },
        {
          "output_type": "stream",
          "name": "stdout",
          "text": [
            "\n",
            "      Epoch    GPU_mem   box_loss   cls_loss   dfl_loss  Instances       Size\n"
          ]
        },
        {
          "output_type": "stream",
          "name": "stderr",
          "text": [
            "    174/200      6.33G      1.016     0.6493     0.9686        127        640: 100%|██████████| 37/37 [00:11<00:00,  3.32it/s]\n",
            "                 Class     Images  Instances      Box(P          R      mAP50  mAP50-95): 100%|██████████| 2/2 [00:00<00:00,  4.16it/s]"
          ]
        },
        {
          "output_type": "stream",
          "name": "stdout",
          "text": [
            "                   all         56        444      0.797      0.828      0.856      0.481\n"
          ]
        },
        {
          "output_type": "stream",
          "name": "stderr",
          "text": [
            "\n"
          ]
        },
        {
          "output_type": "stream",
          "name": "stdout",
          "text": [
            "\n",
            "      Epoch    GPU_mem   box_loss   cls_loss   dfl_loss  Instances       Size\n"
          ]
        },
        {
          "output_type": "stream",
          "name": "stderr",
          "text": [
            "    175/200      6.35G      1.003     0.6587     0.9715        114        640: 100%|██████████| 37/37 [00:11<00:00,  3.33it/s]\n",
            "                 Class     Images  Instances      Box(P          R      mAP50  mAP50-95): 100%|██████████| 2/2 [00:00<00:00,  4.37it/s]\n"
          ]
        },
        {
          "output_type": "stream",
          "name": "stdout",
          "text": [
            "                   all         56        444      0.771      0.865      0.871      0.474\n",
            "\n",
            "      Epoch    GPU_mem   box_loss   cls_loss   dfl_loss  Instances       Size\n"
          ]
        },
        {
          "output_type": "stream",
          "name": "stderr",
          "text": [
            "    176/200      6.35G          1     0.6478     0.9773         39        640: 100%|██████████| 37/37 [00:11<00:00,  3.35it/s]\n",
            "                 Class     Images  Instances      Box(P          R      mAP50  mAP50-95): 100%|██████████| 2/2 [00:00<00:00,  3.41it/s]\n"
          ]
        },
        {
          "output_type": "stream",
          "name": "stdout",
          "text": [
            "                   all         56        444      0.811      0.821      0.871      0.474\n",
            "\n",
            "      Epoch    GPU_mem   box_loss   cls_loss   dfl_loss  Instances       Size\n"
          ]
        },
        {
          "output_type": "stream",
          "name": "stderr",
          "text": [
            "    177/200      6.38G     0.9933      0.647      0.975         95        640: 100%|██████████| 37/37 [00:10<00:00,  3.57it/s]\n",
            "                 Class     Images  Instances      Box(P          R      mAP50  mAP50-95): 100%|██████████| 2/2 [00:01<00:00,  1.90it/s]"
          ]
        },
        {
          "output_type": "stream",
          "name": "stdout",
          "text": [
            "                   all         56        444      0.785      0.846      0.866      0.481\n"
          ]
        },
        {
          "output_type": "stream",
          "name": "stderr",
          "text": [
            "\n"
          ]
        },
        {
          "output_type": "stream",
          "name": "stdout",
          "text": [
            "\n",
            "      Epoch    GPU_mem   box_loss   cls_loss   dfl_loss  Instances       Size\n"
          ]
        },
        {
          "output_type": "stream",
          "name": "stderr",
          "text": [
            "    178/200      6.39G       1.01     0.6418     0.9678        100        640: 100%|██████████| 37/37 [00:09<00:00,  3.82it/s]\n",
            "                 Class     Images  Instances      Box(P          R      mAP50  mAP50-95): 100%|██████████| 2/2 [00:00<00:00,  3.77it/s]"
          ]
        },
        {
          "output_type": "stream",
          "name": "stdout",
          "text": [
            "                   all         56        444      0.763      0.865      0.868       0.48\n"
          ]
        },
        {
          "output_type": "stream",
          "name": "stderr",
          "text": [
            "\n"
          ]
        },
        {
          "output_type": "stream",
          "name": "stdout",
          "text": [
            "\n",
            "      Epoch    GPU_mem   box_loss   cls_loss   dfl_loss  Instances       Size\n"
          ]
        },
        {
          "output_type": "stream",
          "name": "stderr",
          "text": [
            "    179/200      6.41G     0.9796     0.6496     0.9865         65        640: 100%|██████████| 37/37 [00:11<00:00,  3.36it/s]\n",
            "                 Class     Images  Instances      Box(P          R      mAP50  mAP50-95): 100%|██████████| 2/2 [00:00<00:00,  4.09it/s]"
          ]
        },
        {
          "output_type": "stream",
          "name": "stdout",
          "text": [
            "                   all         56        444      0.851      0.813      0.873      0.488\n"
          ]
        },
        {
          "output_type": "stream",
          "name": "stderr",
          "text": [
            "\n"
          ]
        },
        {
          "output_type": "stream",
          "name": "stdout",
          "text": [
            "\n",
            "      Epoch    GPU_mem   box_loss   cls_loss   dfl_loss  Instances       Size\n"
          ]
        },
        {
          "output_type": "stream",
          "name": "stderr",
          "text": [
            "    180/200      6.41G     0.9933     0.6589     0.9773         42        640: 100%|██████████| 37/37 [00:11<00:00,  3.34it/s]\n",
            "                 Class     Images  Instances      Box(P          R      mAP50  mAP50-95): 100%|██████████| 2/2 [00:00<00:00,  3.86it/s]"
          ]
        },
        {
          "output_type": "stream",
          "name": "stdout",
          "text": [
            "                   all         56        444      0.791      0.846      0.864      0.487\n"
          ]
        },
        {
          "output_type": "stream",
          "name": "stderr",
          "text": [
            "\n"
          ]
        },
        {
          "output_type": "stream",
          "name": "stdout",
          "text": [
            "\n",
            "      Epoch    GPU_mem   box_loss   cls_loss   dfl_loss  Instances       Size\n"
          ]
        },
        {
          "output_type": "stream",
          "name": "stderr",
          "text": [
            "    181/200      6.44G      1.001     0.6502     0.9671         46        640: 100%|██████████| 37/37 [00:11<00:00,  3.35it/s]\n",
            "                 Class     Images  Instances      Box(P          R      mAP50  mAP50-95): 100%|██████████| 2/2 [00:00<00:00,  2.95it/s]"
          ]
        },
        {
          "output_type": "stream",
          "name": "stdout",
          "text": [
            "                   all         56        444      0.801      0.829      0.867      0.482\n"
          ]
        },
        {
          "output_type": "stream",
          "name": "stderr",
          "text": [
            "\n"
          ]
        },
        {
          "output_type": "stream",
          "name": "stdout",
          "text": [
            "\n",
            "      Epoch    GPU_mem   box_loss   cls_loss   dfl_loss  Instances       Size\n"
          ]
        },
        {
          "output_type": "stream",
          "name": "stderr",
          "text": [
            "    182/200      6.45G      1.001     0.6454     0.9791        125        640: 100%|██████████| 37/37 [00:10<00:00,  3.37it/s]\n",
            "                 Class     Images  Instances      Box(P          R      mAP50  mAP50-95): 100%|██████████| 2/2 [00:00<00:00,  2.79it/s]"
          ]
        },
        {
          "output_type": "stream",
          "name": "stdout",
          "text": [
            "                   all         56        444      0.818      0.819      0.871      0.491\n"
          ]
        },
        {
          "output_type": "stream",
          "name": "stderr",
          "text": [
            "\n"
          ]
        },
        {
          "output_type": "stream",
          "name": "stdout",
          "text": [
            "\n",
            "      Epoch    GPU_mem   box_loss   cls_loss   dfl_loss  Instances       Size\n"
          ]
        },
        {
          "output_type": "stream",
          "name": "stderr",
          "text": [
            "    183/200      6.47G     0.9912     0.6476     0.9678         76        640: 100%|██████████| 37/37 [00:09<00:00,  3.78it/s]\n",
            "                 Class     Images  Instances      Box(P          R      mAP50  mAP50-95): 100%|██████████| 2/2 [00:00<00:00,  2.03it/s]"
          ]
        },
        {
          "output_type": "stream",
          "name": "stdout",
          "text": [
            "                   all         56        444      0.817      0.802      0.862      0.489\n"
          ]
        },
        {
          "output_type": "stream",
          "name": "stderr",
          "text": [
            "\n"
          ]
        },
        {
          "output_type": "stream",
          "name": "stdout",
          "text": [
            "\n",
            "      Epoch    GPU_mem   box_loss   cls_loss   dfl_loss  Instances       Size\n"
          ]
        },
        {
          "output_type": "stream",
          "name": "stderr",
          "text": [
            "    184/200      6.47G     0.9839     0.6444     0.9659        138        640: 100%|██████████| 37/37 [00:09<00:00,  3.75it/s]\n",
            "                 Class     Images  Instances      Box(P          R      mAP50  mAP50-95): 100%|██████████| 2/2 [00:00<00:00,  3.45it/s]"
          ]
        },
        {
          "output_type": "stream",
          "name": "stdout",
          "text": [
            "                   all         56        444      0.839      0.781      0.858      0.483\n"
          ]
        },
        {
          "output_type": "stream",
          "name": "stderr",
          "text": [
            "\n"
          ]
        },
        {
          "output_type": "stream",
          "name": "stdout",
          "text": [
            "\n",
            "      Epoch    GPU_mem   box_loss   cls_loss   dfl_loss  Instances       Size\n"
          ]
        },
        {
          "output_type": "stream",
          "name": "stderr",
          "text": [
            "    185/200       6.5G     0.9841     0.6355      0.974        134        640: 100%|██████████| 37/37 [00:11<00:00,  3.27it/s]\n",
            "                 Class     Images  Instances      Box(P          R      mAP50  mAP50-95): 100%|██████████| 2/2 [00:00<00:00,  3.93it/s]\n"
          ]
        },
        {
          "output_type": "stream",
          "name": "stdout",
          "text": [
            "                   all         56        444       0.88      0.759      0.867      0.491\n",
            "\n",
            "      Epoch    GPU_mem   box_loss   cls_loss   dfl_loss  Instances       Size\n"
          ]
        },
        {
          "output_type": "stream",
          "name": "stderr",
          "text": [
            "    186/200      6.51G      1.007      0.652     0.9775        128        640: 100%|██████████| 37/37 [00:10<00:00,  3.38it/s]\n",
            "                 Class     Images  Instances      Box(P          R      mAP50  mAP50-95): 100%|██████████| 2/2 [00:00<00:00,  4.00it/s]"
          ]
        },
        {
          "output_type": "stream",
          "name": "stdout",
          "text": [
            "                   all         56        444      0.836      0.781      0.871      0.485\n"
          ]
        },
        {
          "output_type": "stream",
          "name": "stderr",
          "text": [
            "\n"
          ]
        },
        {
          "output_type": "stream",
          "name": "stdout",
          "text": [
            "\n",
            "      Epoch    GPU_mem   box_loss   cls_loss   dfl_loss  Instances       Size\n"
          ]
        },
        {
          "output_type": "stream",
          "name": "stderr",
          "text": [
            "    187/200      6.53G     0.9733     0.6422     0.9661        186        640: 100%|██████████| 37/37 [00:11<00:00,  3.32it/s]\n",
            "                 Class     Images  Instances      Box(P          R      mAP50  mAP50-95): 100%|██████████| 2/2 [00:00<00:00,  3.36it/s]"
          ]
        },
        {
          "output_type": "stream",
          "name": "stdout",
          "text": [
            "                   all         56        444      0.831        0.8      0.873      0.491\n"
          ]
        },
        {
          "output_type": "stream",
          "name": "stderr",
          "text": [
            "\n"
          ]
        },
        {
          "output_type": "stream",
          "name": "stdout",
          "text": [
            "\n",
            "      Epoch    GPU_mem   box_loss   cls_loss   dfl_loss  Instances       Size\n"
          ]
        },
        {
          "output_type": "stream",
          "name": "stderr",
          "text": [
            "    188/200      6.53G     0.9982     0.6542     0.9667         87        640: 100%|██████████| 37/37 [00:10<00:00,  3.60it/s]\n",
            "                 Class     Images  Instances      Box(P          R      mAP50  mAP50-95): 100%|██████████| 2/2 [00:01<00:00,  1.83it/s]"
          ]
        },
        {
          "output_type": "stream",
          "name": "stdout",
          "text": [
            "                   all         56        444      0.824      0.791      0.873      0.488\n"
          ]
        },
        {
          "output_type": "stream",
          "name": "stderr",
          "text": [
            "\n"
          ]
        },
        {
          "output_type": "stream",
          "name": "stdout",
          "text": [
            "\n",
            "      Epoch    GPU_mem   box_loss   cls_loss   dfl_loss  Instances       Size\n"
          ]
        },
        {
          "output_type": "stream",
          "name": "stderr",
          "text": [
            "    189/200      6.56G     0.9893     0.6368     0.9719         81        640: 100%|██████████| 37/37 [00:09<00:00,  3.84it/s]\n",
            "                 Class     Images  Instances      Box(P          R      mAP50  mAP50-95): 100%|██████████| 2/2 [00:00<00:00,  2.58it/s]"
          ]
        },
        {
          "output_type": "stream",
          "name": "stdout",
          "text": [
            "                   all         56        444      0.787      0.833      0.872      0.483\n"
          ]
        },
        {
          "output_type": "stream",
          "name": "stderr",
          "text": [
            "\n"
          ]
        },
        {
          "output_type": "stream",
          "name": "stdout",
          "text": [
            "\n",
            "      Epoch    GPU_mem   box_loss   cls_loss   dfl_loss  Instances       Size\n"
          ]
        },
        {
          "output_type": "stream",
          "name": "stderr",
          "text": [
            "    190/200      6.57G     0.9899     0.6475     0.9656        149        640: 100%|██████████| 37/37 [00:10<00:00,  3.38it/s]\n",
            "                 Class     Images  Instances      Box(P          R      mAP50  mAP50-95): 100%|██████████| 2/2 [00:00<00:00,  4.26it/s]\n"
          ]
        },
        {
          "output_type": "stream",
          "name": "stdout",
          "text": [
            "                   all         56        444      0.858      0.784      0.871      0.493\n",
            "Closing dataloader mosaic\n",
            "\u001b[34m\u001b[1malbumentations: \u001b[0mBlur(p=0.01, blur_limit=(3, 7)), MedianBlur(p=0.01, blur_limit=(3, 7)), ToGray(p=0.01, method='weighted_average', num_output_channels=3), CLAHE(p=0.01, clip_limit=(1.0, 4.0), tile_grid_size=(8, 8))\n",
            "\n",
            "      Epoch    GPU_mem   box_loss   cls_loss   dfl_loss  Instances       Size\n"
          ]
        },
        {
          "output_type": "stream",
          "name": "stderr",
          "text": [
            "    191/200      6.59G     0.9476      0.564     0.9783         88        640: 100%|██████████| 37/37 [00:12<00:00,  2.99it/s]\n",
            "                 Class     Images  Instances      Box(P          R      mAP50  mAP50-95): 100%|██████████| 2/2 [00:00<00:00,  4.27it/s]\n"
          ]
        },
        {
          "output_type": "stream",
          "name": "stdout",
          "text": [
            "                   all         56        444      0.836      0.801      0.872      0.497\n",
            "\n",
            "      Epoch    GPU_mem   box_loss   cls_loss   dfl_loss  Instances       Size\n"
          ]
        },
        {
          "output_type": "stream",
          "name": "stderr",
          "text": [
            "    192/200      6.59G     0.9546     0.5643     0.9736         18        640: 100%|██████████| 37/37 [00:10<00:00,  3.39it/s]\n",
            "                 Class     Images  Instances      Box(P          R      mAP50  mAP50-95): 100%|██████████| 2/2 [00:00<00:00,  3.32it/s]\n"
          ]
        },
        {
          "output_type": "stream",
          "name": "stdout",
          "text": [
            "                   all         56        444      0.843      0.807       0.87      0.486\n",
            "\n",
            "      Epoch    GPU_mem   box_loss   cls_loss   dfl_loss  Instances       Size\n"
          ]
        },
        {
          "output_type": "stream",
          "name": "stderr",
          "text": [
            "    193/200      6.62G     0.9374     0.5624     0.9717         71        640: 100%|██████████| 37/37 [00:10<00:00,  3.52it/s]\n",
            "                 Class     Images  Instances      Box(P          R      mAP50  mAP50-95): 100%|██████████| 2/2 [00:00<00:00,  4.17it/s]"
          ]
        },
        {
          "output_type": "stream",
          "name": "stdout",
          "text": [
            "                   all         56        444       0.83      0.798      0.867      0.483\n"
          ]
        },
        {
          "output_type": "stream",
          "name": "stderr",
          "text": [
            "\n"
          ]
        },
        {
          "output_type": "stream",
          "name": "stdout",
          "text": [
            "\n",
            "      Epoch    GPU_mem   box_loss   cls_loss   dfl_loss  Instances       Size\n"
          ]
        },
        {
          "output_type": "stream",
          "name": "stderr",
          "text": [
            "    194/200      6.63G     0.9086     0.5493      0.962         92        640: 100%|██████████| 37/37 [00:09<00:00,  3.72it/s]\n",
            "                 Class     Images  Instances      Box(P          R      mAP50  mAP50-95): 100%|██████████| 2/2 [00:00<00:00,  2.53it/s]"
          ]
        },
        {
          "output_type": "stream",
          "name": "stdout",
          "text": [
            "                   all         56        444      0.782      0.824       0.86      0.477\n"
          ]
        },
        {
          "output_type": "stream",
          "name": "stderr",
          "text": [
            "\n"
          ]
        },
        {
          "output_type": "stream",
          "name": "stdout",
          "text": [
            "\n",
            "      Epoch    GPU_mem   box_loss   cls_loss   dfl_loss  Instances       Size\n"
          ]
        },
        {
          "output_type": "stream",
          "name": "stderr",
          "text": [
            "    195/200      6.65G     0.9312     0.5515     0.9585         71        640: 100%|██████████| 37/37 [00:09<00:00,  3.99it/s]\n",
            "                 Class     Images  Instances      Box(P          R      mAP50  mAP50-95): 100%|██████████| 2/2 [00:00<00:00,  3.35it/s]"
          ]
        },
        {
          "output_type": "stream",
          "name": "stdout",
          "text": [
            "                   all         56        444      0.824      0.796       0.87      0.484\n"
          ]
        },
        {
          "output_type": "stream",
          "name": "stderr",
          "text": [
            "\n"
          ]
        },
        {
          "output_type": "stream",
          "name": "stdout",
          "text": [
            "\n",
            "      Epoch    GPU_mem   box_loss   cls_loss   dfl_loss  Instances       Size\n"
          ]
        },
        {
          "output_type": "stream",
          "name": "stderr",
          "text": [
            "    196/200      6.65G     0.9072     0.5411     0.9553         86        640: 100%|██████████| 37/37 [00:10<00:00,  3.49it/s]\n",
            "                 Class     Images  Instances      Box(P          R      mAP50  mAP50-95): 100%|██████████| 2/2 [00:00<00:00,  3.92it/s]"
          ]
        },
        {
          "output_type": "stream",
          "name": "stdout",
          "text": [
            "                   all         56        444      0.827      0.805      0.875      0.484\n"
          ]
        },
        {
          "output_type": "stream",
          "name": "stderr",
          "text": [
            "\n"
          ]
        },
        {
          "output_type": "stream",
          "name": "stdout",
          "text": [
            "\n",
            "      Epoch    GPU_mem   box_loss   cls_loss   dfl_loss  Instances       Size\n"
          ]
        },
        {
          "output_type": "stream",
          "name": "stderr",
          "text": [
            "    197/200      6.68G     0.9089     0.5389     0.9662          8        640: 100%|██████████| 37/37 [00:10<00:00,  3.49it/s]\n",
            "                 Class     Images  Instances      Box(P          R      mAP50  mAP50-95): 100%|██████████| 2/2 [00:00<00:00,  3.51it/s]"
          ]
        },
        {
          "output_type": "stream",
          "name": "stdout",
          "text": [
            "                   all         56        444      0.812      0.814       0.87      0.485\n"
          ]
        },
        {
          "output_type": "stream",
          "name": "stderr",
          "text": [
            "\n"
          ]
        },
        {
          "output_type": "stream",
          "name": "stdout",
          "text": [
            "\n",
            "      Epoch    GPU_mem   box_loss   cls_loss   dfl_loss  Instances       Size\n"
          ]
        },
        {
          "output_type": "stream",
          "name": "stderr",
          "text": [
            "    198/200      6.69G     0.8886     0.5361     0.9594          9        640: 100%|██████████| 37/37 [00:10<00:00,  3.45it/s]\n",
            "                 Class     Images  Instances      Box(P          R      mAP50  mAP50-95): 100%|██████████| 2/2 [00:00<00:00,  4.08it/s]"
          ]
        },
        {
          "output_type": "stream",
          "name": "stdout",
          "text": [
            "                   all         56        444      0.814      0.808      0.868      0.484\n"
          ]
        },
        {
          "output_type": "stream",
          "name": "stderr",
          "text": [
            "\n"
          ]
        },
        {
          "output_type": "stream",
          "name": "stdout",
          "text": [
            "\n",
            "      Epoch    GPU_mem   box_loss   cls_loss   dfl_loss  Instances       Size\n"
          ]
        },
        {
          "output_type": "stream",
          "name": "stderr",
          "text": [
            "    199/200      6.71G     0.9043     0.5316       0.96         71        640: 100%|██████████| 37/37 [00:09<00:00,  3.82it/s]\n",
            "                 Class     Images  Instances      Box(P          R      mAP50  mAP50-95): 100%|██████████| 2/2 [00:00<00:00,  2.75it/s]"
          ]
        },
        {
          "output_type": "stream",
          "name": "stdout",
          "text": [
            "                   all         56        444       0.81       0.81      0.868      0.481\n"
          ]
        },
        {
          "output_type": "stream",
          "name": "stderr",
          "text": [
            "\n"
          ]
        },
        {
          "output_type": "stream",
          "name": "stdout",
          "text": [
            "\n",
            "      Epoch    GPU_mem   box_loss   cls_loss   dfl_loss  Instances       Size\n"
          ]
        },
        {
          "output_type": "stream",
          "name": "stderr",
          "text": [
            "    200/200      6.71G     0.8869     0.5365     0.9608         19        640: 100%|██████████| 37/37 [00:09<00:00,  3.85it/s]\n",
            "                 Class     Images  Instances      Box(P          R      mAP50  mAP50-95): 100%|██████████| 2/2 [00:00<00:00,  3.55it/s]\n"
          ]
        },
        {
          "output_type": "stream",
          "name": "stdout",
          "text": [
            "                   all         56        444      0.806      0.816      0.869      0.484\n",
            "\n",
            "200 epochs completed in 0.645 hours.\n",
            "Optimizer stripped from runs/detect/train/weights/last.pt, 5.5MB\n",
            "Optimizer stripped from runs/detect/train/weights/best.pt, 5.5MB\n",
            "\n",
            "Validating runs/detect/train/weights/best.pt...\n",
            "Ultralytics 8.3.153 🚀 Python-3.11.13 torch-2.6.0+cu124 CUDA:0 (Tesla T4, 15095MiB)\n",
            "YOLO11n summary (fused): 100 layers, 2,584,687 parameters, 0 gradients, 6.3 GFLOPs\n"
          ]
        },
        {
          "output_type": "stream",
          "name": "stderr",
          "text": [
            "                 Class     Images  Instances      Box(P          R      mAP50  mAP50-95): 100%|██████████| 2/2 [00:00<00:00,  2.14it/s]\n"
          ]
        },
        {
          "output_type": "stream",
          "name": "stdout",
          "text": [
            "                   all         56        444      0.807      0.853      0.892        0.5\n",
            "          black-bishop         16         28      0.704      0.893      0.885       0.53\n",
            "            black-king         15         15      0.655        0.6      0.713      0.433\n",
            "          black-knight         16         29      0.841      0.931      0.981       0.58\n",
            "            black-pawn         18        106      0.982      0.991      0.995      0.579\n",
            "           black-queen         17         17      0.693      0.664      0.737      0.507\n",
            "            black-rook         17         30      0.967      0.971       0.99      0.598\n",
            "          white-bishop         16         28      0.753      0.964      0.893      0.457\n",
            "            white-king         15         15      0.722      0.867      0.865      0.447\n",
            "          white-knight         16         28      0.883      0.929      0.968      0.504\n",
            "            white-pawn         20        104      0.939      0.887      0.923       0.45\n",
            "           white-queen         15         15      0.716      0.672      0.834      0.384\n",
            "            white-rook         16         29      0.827      0.862      0.918       0.53\n",
            "Speed: 0.3ms preprocess, 2.8ms inference, 0.0ms loss, 4.0ms postprocess per image\n",
            "Results saved to \u001b[1mruns/detect/train\u001b[0m\n",
            "  adding: content/ (stored 0%)\n",
            "  adding: content/.config/ (stored 0%)\n",
            "  adding: content/.config/hidden_gcloud_config_universe_descriptor_data_cache_configs.db (deflated 97%)\n",
            "  adding: content/.config/.last_update_check.json (deflated 22%)\n",
            "  adding: content/.config/.last_survey_prompt.yaml (stored 0%)\n",
            "  adding: content/.config/default_configs.db (deflated 98%)\n",
            "  adding: content/.config/active_config (stored 0%)\n",
            "  adding: content/.config/config_sentinel (stored 0%)\n",
            "  adding: content/.config/.last_opt_in_prompt.yaml (stored 0%)\n",
            "  adding: content/.config/logs/ (stored 0%)\n",
            "  adding: content/.config/logs/2025.06.10/ (stored 0%)\n",
            "  adding: content/.config/logs/2025.06.10/13.38.39.932121.log (deflated 57%)\n",
            "  adding: content/.config/logs/2025.06.10/13.37.49.970559.log (deflated 92%)\n",
            "  adding: content/.config/logs/2025.06.10/13.38.40.725142.log (deflated 56%)\n",
            "  adding: content/.config/logs/2025.06.10/13.38.25.668080.log (deflated 86%)\n",
            "  adding: content/.config/logs/2025.06.10/13.38.13.158746.log (deflated 58%)\n",
            "  adding: content/.config/logs/2025.06.10/13.38.28.244858.log (deflated 58%)\n",
            "  adding: content/.config/gce (stored 0%)\n",
            "  adding: content/.config/configurations/ (stored 0%)\n",
            "  adding: content/.config/configurations/config_default (deflated 15%)\n",
            "  adding: content/yolo11n.pt (deflated 11%)\n",
            "  adding: content/runs/ (stored 0%)\n",
            "  adding: content/runs/detect/ (stored 0%)\n",
            "  adding: content/runs/detect/train/ (stored 0%)\n",
            "  adding: content/runs/detect/train/confusion_matrix.png (deflated 18%)\n",
            "  adding: content/runs/detect/train/PR_curve.png (deflated 12%)\n",
            "  adding: content/runs/detect/train/results.csv (deflated 62%)\n",
            "  adding: content/runs/detect/train/args.yaml (deflated 53%)\n",
            "  adding: content/runs/detect/train/P_curve.png (deflated 5%)\n",
            "  adding: content/runs/detect/train/train_batch7031.jpg (deflated 5%)\n",
            "  adding: content/runs/detect/train/labels.jpg (deflated 28%)\n",
            "  adding: content/runs/detect/train/val_batch0_pred.jpg (deflated 5%)\n",
            "  adding: content/runs/detect/train/train_batch0.jpg (deflated 2%)\n",
            "  adding: content/runs/detect/train/results.png (deflated 6%)\n",
            "  adding: content/runs/detect/train/weights/ (stored 0%)\n",
            "  adding: content/runs/detect/train/weights/best.pt (deflated 10%)\n",
            "  adding: content/runs/detect/train/weights/last.pt (deflated 10%)\n",
            "  adding: content/runs/detect/train/F1_curve.png (deflated 4%)\n",
            "  adding: content/runs/detect/train/train_batch1.jpg (deflated 3%)\n",
            "  adding: content/runs/detect/train/train_batch7030.jpg (deflated 10%)\n",
            "  adding: content/runs/detect/train/labels_correlogram.jpg (deflated 37%)\n",
            "  adding: content/runs/detect/train/train_batch2.jpg (deflated 2%)\n",
            "  adding: content/runs/detect/train/confusion_matrix_normalized.png (deflated 15%)\n",
            "  adding: content/runs/detect/train/val_batch1_labels.jpg (deflated 7%)\n",
            "  adding: content/runs/detect/train/val_batch1_pred.jpg (deflated 7%)\n",
            "  adding: content/runs/detect/train/R_curve.png (deflated 6%)\n",
            "  adding: content/runs/detect/train/val_batch0_labels.jpg (deflated 5%)\n",
            "  adding: content/runs/detect/train/train_batch7032.jpg (deflated 9%)\n",
            "  adding: content/robo_chess-4/ (stored 0%)\n",
            "  adding: content/robo_chess-4/data.yaml (deflated 49%)\n",
            "  adding: content/robo_chess-4/test/ (stored 0%)\n",
            "  adding: content/robo_chess-4/test/labels/ (stored 0%)\n",
            "  adding: content/robo_chess-4/test/labels/20250602_140741_mp4-0000_jpg.rf.30ecd9208f49dd6cf554d7c761e96025.txt (deflated 18%)\n",
            "  adding: content/robo_chess-4/test/labels/20250530_145331_jpg.rf.0a6322fefe1cc406b48ca0c517821834.txt (deflated 73%)\n",
            "  adding: content/robo_chess-4/test/labels/20250601_123850_jpg.rf.ac1b5c9e027c8c740da710842cc840b3.txt (deflated 72%)\n",
            "  adding: content/robo_chess-4/test/labels/20250601_123843_jpg.rf.a6766786252556e002068b7ccfe62673.txt (deflated 72%)\n",
            "  adding: content/robo_chess-4/test/labels/20250602_140614_mp4-0014_jpg.rf.0e05b79055ff2bf3213b288a7e6d6292.txt (deflated 19%)\n",
            "  adding: content/robo_chess-4/test/labels/20250602_131427_mp4-0009_jpg.rf.103039c4df3500e2f520bf35cd2c41a4.txt (deflated 15%)\n",
            "  adding: content/robo_chess-4/test/labels/20250602_131448_mp4-0004_jpg.rf.21dda4bf9ba54280493a77ebbd8f93f8.txt (deflated 71%)\n",
            "  adding: content/robo_chess-4/test/labels/20250602_131517_mp4-0000_jpg.rf.7b516c2b851d1d5fa3f14209181d9f52.txt (deflated 24%)\n",
            "  adding: content/robo_chess-4/test/labels/20250602_140812_mp4-0018_jpg.rf.03f8851d8cf5ade31799526a139d3ae8.txt (deflated 18%)\n",
            "  adding: content/robo_chess-4/test/labels/20250602_131517_mp4-0002_jpg.rf.070815310b7f6706d8a896e7906192aa.txt (deflated 20%)\n",
            "  adding: content/robo_chess-4/test/labels/20250602_140905_mp4-0009_jpg.rf.ab55439b56a8a521a1f39893520ee2f6.txt (deflated 59%)\n",
            "  adding: content/robo_chess-4/test/labels/20250602_140905_mp4-0011_jpg.rf.ba6972fe5913709ffe442b9d0ba49b29.txt (deflated 60%)\n",
            "  adding: content/robo_chess-4/test/labels/20250602_131257_mp4-0006_jpg.rf.1ea705985b42835cdd4cc54b32d8c411.txt (deflated 69%)\n",
            "  adding: content/robo_chess-4/test/labels/20250602_140716_mp4-0008_jpg.rf.5e7f9c1e006b3d9664ade2c367773aac.txt (deflated 19%)\n",
            "  adding: content/robo_chess-4/test/labels/20250530_145612_jpg.rf.6bea3c3775c8137b018372449f96eb12.txt (deflated 14%)\n",
            "  adding: content/robo_chess-4/test/labels/20250602_131448_mp4-0001_jpg.rf.5208fa00ec570a4e392cfd6a160dc1ff.txt (deflated 18%)\n",
            "  adding: content/robo_chess-4/test/labels/20250602_131517_mp4-0004_jpg.rf.4f7b7f49320c3ae68d0ecac840d02abf.txt (deflated 26%)\n",
            "  adding: content/robo_chess-4/test/labels/20250530_145531_jpg.rf.9e8945a33f9b392f831b05abbb16630d.txt (deflated 25%)\n",
            "  adding: content/robo_chess-4/test/labels/20250602_140812_mp4-0004_jpg.rf.22b5bf2a3dd542b8065955195700631e.txt (deflated 27%)\n",
            "  adding: content/robo_chess-4/test/labels/20250602_140716_mp4-0010_jpg.rf.382f52d74970b1fab55a78a76cec63af.txt (deflated 28%)\n",
            "  adding: content/robo_chess-4/test/labels/20250602_140716_mp4-0009_jpg.rf.febba448e2218cf826403637d82ff0e5.txt (deflated 23%)\n",
            "  adding: content/robo_chess-4/test/labels/20250602_131615_mp4-0009_jpg.rf.6f35f44990abe314cf2d6e980a9d95f4.txt (deflated 60%)\n",
            "  adding: content/robo_chess-4/test/labels/20250602_131257_mp4-0001_jpg.rf.2a03df09d030370a88f162cf5bb82c83.txt (deflated 22%)\n",
            "  adding: content/robo_chess-4/test/labels/20250602_131427_mp4-0008_jpg.rf.2725f5a3aa757f61491061884263e92e.txt (deflated 18%)\n",
            "  adding: content/robo_chess-4/test/labels/20250602_140614_mp4-0000_jpg.rf.eb44f1f261e7bd4459a690fb39a6fb3b.txt (deflated 26%)\n",
            "  adding: content/robo_chess-4/test/labels/20250530_145548_jpg.rf.92903f3225d8e05410fb872f42df2f36.txt (deflated 26%)\n",
            "  adding: content/robo_chess-4/test/labels/20250602_140812_mp4-0006_jpg.rf.36ae23aba7b41bd38058f98dce9931f9.txt (deflated 23%)\n",
            "  adding: content/robo_chess-4/test/images/ (stored 0%)\n",
            "  adding: content/robo_chess-4/test/images/20250602_140716_mp4-0009_jpg.rf.febba448e2218cf826403637d82ff0e5.jpg (deflated 1%)\n",
            "  adding: content/robo_chess-4/test/images/20250530_145531_jpg.rf.9e8945a33f9b392f831b05abbb16630d.jpg (deflated 0%)\n",
            "  adding: content/robo_chess-4/test/images/20250602_140812_mp4-0018_jpg.rf.03f8851d8cf5ade31799526a139d3ae8.jpg (deflated 1%)\n",
            "  adding: content/robo_chess-4/test/images/20250602_131448_mp4-0004_jpg.rf.21dda4bf9ba54280493a77ebbd8f93f8.jpg (deflated 1%)\n",
            "  adding: content/robo_chess-4/test/images/20250602_140614_mp4-0000_jpg.rf.eb44f1f261e7bd4459a690fb39a6fb3b.jpg (deflated 0%)\n",
            "  adding: content/robo_chess-4/test/images/20250602_140905_mp4-0011_jpg.rf.ba6972fe5913709ffe442b9d0ba49b29.jpg (deflated 1%)\n",
            "  adding: content/robo_chess-4/test/images/20250601_123850_jpg.rf.ac1b5c9e027c8c740da710842cc840b3.jpg (deflated 0%)\n",
            "  adding: content/robo_chess-4/test/images/20250602_131517_mp4-0002_jpg.rf.070815310b7f6706d8a896e7906192aa.jpg (deflated 1%)\n",
            "  adding: content/robo_chess-4/test/images/20250601_123843_jpg.rf.a6766786252556e002068b7ccfe62673.jpg (deflated 0%)\n",
            "  adding: content/robo_chess-4/test/images/20250602_131427_mp4-0008_jpg.rf.2725f5a3aa757f61491061884263e92e.jpg (deflated 1%)\n",
            "  adding: content/robo_chess-4/test/images/20250602_140741_mp4-0000_jpg.rf.30ecd9208f49dd6cf554d7c761e96025.jpg (deflated 1%)\n",
            "  adding: content/robo_chess-4/test/images/20250602_140905_mp4-0009_jpg.rf.ab55439b56a8a521a1f39893520ee2f6.jpg (deflated 1%)\n",
            "  adding: content/robo_chess-4/test/images/20250530_145331_jpg.rf.0a6322fefe1cc406b48ca0c517821834.jpg (deflated 0%)\n",
            "  adding: content/robo_chess-4/test/images/20250602_140716_mp4-0010_jpg.rf.382f52d74970b1fab55a78a76cec63af.jpg (deflated 2%)\n",
            "  adding: content/robo_chess-4/test/images/20250602_131257_mp4-0001_jpg.rf.2a03df09d030370a88f162cf5bb82c83.jpg (deflated 1%)\n",
            "  adding: content/robo_chess-4/test/images/20250602_131517_mp4-0000_jpg.rf.7b516c2b851d1d5fa3f14209181d9f52.jpg (deflated 1%)\n",
            "  adding: content/robo_chess-4/test/images/20250602_131257_mp4-0006_jpg.rf.1ea705985b42835cdd4cc54b32d8c411.jpg (deflated 1%)\n",
            "  adding: content/robo_chess-4/test/images/20250602_131427_mp4-0009_jpg.rf.103039c4df3500e2f520bf35cd2c41a4.jpg (deflated 1%)\n",
            "  adding: content/robo_chess-4/test/images/20250530_145612_jpg.rf.6bea3c3775c8137b018372449f96eb12.jpg (deflated 0%)\n",
            "  adding: content/robo_chess-4/test/images/20250602_131615_mp4-0009_jpg.rf.6f35f44990abe314cf2d6e980a9d95f4.jpg (deflated 1%)\n",
            "  adding: content/robo_chess-4/test/images/20250602_140716_mp4-0008_jpg.rf.5e7f9c1e006b3d9664ade2c367773aac.jpg (deflated 1%)\n",
            "  adding: content/robo_chess-4/test/images/20250602_131448_mp4-0001_jpg.rf.5208fa00ec570a4e392cfd6a160dc1ff.jpg (deflated 1%)\n",
            "  adding: content/robo_chess-4/test/images/20250602_140812_mp4-0006_jpg.rf.36ae23aba7b41bd38058f98dce9931f9.jpg (deflated 1%)\n",
            "  adding: content/robo_chess-4/test/images/20250602_131517_mp4-0004_jpg.rf.4f7b7f49320c3ae68d0ecac840d02abf.jpg (deflated 1%)\n",
            "  adding: content/robo_chess-4/test/images/20250602_140614_mp4-0014_jpg.rf.0e05b79055ff2bf3213b288a7e6d6292.jpg (deflated 1%)\n",
            "  adding: content/robo_chess-4/test/images/20250530_145548_jpg.rf.92903f3225d8e05410fb872f42df2f36.jpg (deflated 0%)\n",
            "  adding: content/robo_chess-4/test/images/20250602_140812_mp4-0004_jpg.rf.22b5bf2a3dd542b8065955195700631e.jpg (deflated 1%)\n",
            "  adding: content/robo_chess-4/README.dataset.txt (deflated 14%)\n",
            "  adding: content/robo_chess-4/valid/ (stored 0%)\n",
            "  adding: content/robo_chess-4/valid/labels/ (stored 0%)\n",
            "  adding: content/robo_chess-4/valid/labels/20250602_131517_mp4-0005_jpg.rf.6a3232157f416bca8b05f5923f5e2731.txt (deflated 17%)\n",
            "  adding: content/robo_chess-4/valid/labels/20250530_145409_jpg.rf.d5e41b88a46282cb504fa322762fbe82.txt (deflated 72%)\n",
            "  adding: content/robo_chess-4/valid/labels/20250602_131615_mp4-0007_jpg.rf.0273171674acf498debcd9920d5983b6.txt (deflated 58%)\n",
            "  adding: content/robo_chess-4/valid/labels/20250602_140905_mp4-0017_jpg.rf.2415eab97319f1d49d880be990aa8ce5.txt (deflated 64%)\n",
            "  adding: content/robo_chess-4/valid/labels/20250602_131257_mp4-0002_jpg.rf.c2f3c7d04ebafed63d3709e258793b8b.txt (deflated 11%)\n",
            "  adding: content/robo_chess-4/valid/labels/20250602_140812_mp4-0010_jpg.rf.bc576a2f63ec6e0f377b89821f1898c8.txt (deflated 17%)\n",
            "  adding: content/robo_chess-4/valid/labels/20250602_131320_mp4-0005_jpg.rf.5ea0fdb17084db48a82a03786520b9c0.txt (deflated 71%)\n",
            "  adding: content/robo_chess-4/valid/labels/20250602_140812_mp4-0008_jpg.rf.76cb2e6df4f5f6f98b60f6bbc619d631.txt (deflated 24%)\n",
            "  adding: content/robo_chess-4/valid/labels/20250602_140847_mp4-0012_jpg.rf.198a18df026c534c451240d4e469a927.txt (deflated 19%)\n",
            "  adding: content/robo_chess-4/valid/labels/20250601_123905_jpg.rf.3790f1f384f71613d3c1653604a97550.txt (deflated 72%)\n",
            "  adding: content/robo_chess-4/valid/labels/20250602_131320_mp4-0002_jpg.rf.93255425f0b9310eaa28953ecd955353.txt (deflated 68%)\n",
            "  adding: content/robo_chess-4/valid/labels/20250602_131320_mp4-0010_jpg.rf.e98c71d857a17f3989a910965887ff6e.txt (deflated 16%)\n",
            "  adding: content/robo_chess-4/valid/labels/20250602_140614_mp4-0001_jpg.rf.27761fb6dde332785958503620ad067a.txt (deflated 22%)\n",
            "  adding: content/robo_chess-4/valid/labels/20250602_140847_mp4-0000_jpg.rf.6951a7c293747b05a60af300ab7de5f9.txt (deflated 14%)\n",
            "  adding: content/robo_chess-4/valid/labels/20250602_140812_mp4-0012_jpg.rf.1eeac87a8ded30e2b4200bc70ecf60cc.txt (deflated 14%)\n",
            "  adding: content/robo_chess-4/valid/labels/20250601_123819_jpg.rf.948ac6891f7558218cfccfab360256f6.txt (deflated 73%)\n",
            "  adding: content/robo_chess-4/valid/labels/20250602_140716_mp4-0006_jpg.rf.96405aa51bb07a7901c970d8dbda4061.txt (deflated 20%)\n",
            "  adding: content/robo_chess-4/valid/labels/20250601_123811_jpg.rf.2bc092393ac2aabf8835fe7f5032d8f8.txt (deflated 73%)\n",
            "  adding: content/robo_chess-4/valid/labels/20250602_131427_mp4-0002_jpg.rf.7012986f685844605bc7b900eddeeb8e.txt (deflated 26%)\n",
            "  adding: content/robo_chess-4/valid/labels/20250602_140652_mp4-0015_jpg.rf.6671b121299c493314b7cbcb09433e94.txt (deflated 20%)\n",
            "  adding: content/robo_chess-4/valid/labels/20250602_140741_mp4-0002_jpg.rf.a06b627fee67db59c9cf9d58ae69248f.txt (deflated 17%)\n",
            "  adding: content/robo_chess-4/valid/labels/20250602_140905_mp4-0007_jpg.rf.8fb4d2e2e49aa7261d491eaadac02ffc.txt (deflated 59%)\n",
            "  adding: content/robo_chess-4/valid/labels/20250601_123857_jpg.rf.1bce65e662f2f862e59ae05da571b01b.txt (deflated 72%)\n",
            "  adding: content/robo_chess-4/valid/labels/20250602_140614_mp4-0004_jpg.rf.b4fe6cb2dcd4448f885fb0a4226f915f.txt (deflated 22%)\n",
            "  adding: content/robo_chess-4/valid/labels/20250530_145403_jpg.rf.9e21fadc8ee7f1fed34c2933356b0660.txt (deflated 72%)\n",
            "  adding: content/robo_chess-4/valid/labels/20250602_131352_mp4-0009_jpg.rf.59769b65f8ac94256b4784da620de935.txt (deflated 14%)\n",
            "  adding: content/robo_chess-4/valid/labels/20250602_140614_mp4-0008_jpg.rf.257c9da245949b20ee467d52bfdbba31.txt (deflated 17%)\n",
            "  adding: content/robo_chess-4/valid/labels/20250602_140716_mp4-0003_jpg.rf.dadff1f21a326bf947cabff760193fbf.txt (deflated 14%)\n",
            "  adding: content/robo_chess-4/valid/labels/20250602_131257_mp4-0012_jpg.rf.1fedb80bcff8b49c355f9f2e2963b714.txt (deflated 67%)\n",
            "  adding: content/robo_chess-4/valid/labels/20250602_140716_mp4-0002_jpg.rf.b202759b8de6fa785f9796d7919a571c.txt (deflated 14%)\n",
            "  adding: content/robo_chess-4/valid/labels/20250530_145336_jpg.rf.76dc91608b02d9bccb1aa30843e675c7.txt (deflated 72%)\n",
            "  adding: content/robo_chess-4/valid/labels/20250530_145510_jpg.rf.2f5578f97696182ab09590e8792c05a4.txt (deflated 19%)\n",
            "  adding: content/robo_chess-4/valid/labels/20250602_131427_mp4-0001_jpg.rf.690705f83db9a49712f59be7655b06b6.txt (deflated 22%)\n",
            "  adding: content/robo_chess-4/valid/labels/20250602_140741_mp4-0006_jpg.rf.c9eb1060cb075fd65696eaa02ffdd584.txt (deflated 30%)\n",
            "  adding: content/robo_chess-4/valid/labels/20250602_131320_mp4-0001_jpg.rf.cdef65482a73e97c3d8ed8411a4ed403.txt (deflated 20%)\n",
            "  adding: content/robo_chess-4/valid/labels/20250530_145601_jpg.rf.dc5ebed177fd5434c06eb05ff9604f4b.txt (deflated 29%)\n",
            "  adding: content/robo_chess-4/valid/labels/20250602_140905_mp4-0016_jpg.rf.193572fa3b662acc9e3892f67387d923.txt (deflated 63%)\n",
            "  adding: content/robo_chess-4/valid/labels/20250602_131352_mp4-0004_jpg.rf.bc4fc7ee868daca0f61a581541a92784.txt (deflated 17%)\n",
            "  adding: content/robo_chess-4/valid/labels/20250530_145416_jpg.rf.262fae2ab93a59362ef9e2d0f955db04.txt (deflated 74%)\n",
            "  adding: content/robo_chess-4/valid/labels/20250602_140847_mp4-0011_jpg.rf.3ecf267cde41d394c066f045578d7243.txt (deflated 19%)\n",
            "  adding: content/robo_chess-4/valid/labels/20250530_145353_jpg.rf.3d9f4af9a658dc8ccc426538651b9940.txt (deflated 72%)\n",
            "  adding: content/robo_chess-4/valid/labels/20250602_131615_mp4-0000_jpg.rf.732919cf5c931e6a2e939d2a026e286c.txt (deflated 78%)\n",
            "  adding: content/robo_chess-4/valid/labels/20250602_131352_mp4-0007_jpg.rf.4b93fa20fcfe644eb913620789ac074f.txt (deflated 69%)\n",
            "  adding: content/robo_chess-4/valid/labels/20250602_140614_mp4-0006_jpg.rf.41bad97e1e71fd5e26ac9a7e6c027615.txt (deflated 26%)\n",
            "  adding: content/robo_chess-4/valid/labels/20250602_140812_mp4-0017_jpg.rf.f22c45d9d9328df70492259b6cf3d253.txt (deflated 29%)\n",
            "  adding: content/robo_chess-4/valid/labels/20250602_131517_mp4-0010_jpg.rf.bb04a4333648e05607b4119bbd46164f.txt (deflated 25%)\n",
            "  adding: content/robo_chess-4/valid/labels/20250602_131257_mp4-0005_jpg.rf.26c3cfe8f69bc00f150a68bdeb2b93b5.txt (deflated 72%)\n",
            "  adding: content/robo_chess-4/valid/labels/20250602_131448_mp4-0000_jpg.rf.1ea338e2815e72ea266f652b6c5c40c8.txt (deflated 19%)\n",
            "  adding: content/robo_chess-4/valid/labels/20250602_131448_mp4-0006_jpg.rf.8b108ff4576850580f1fb711982f9845.txt (deflated 18%)\n",
            "  adding: content/robo_chess-4/valid/labels/20250602_131320_mp4-0000_jpg.rf.8d8c628579f24564472e1ac0eabae1e7.txt (deflated 67%)\n",
            "  adding: content/robo_chess-4/valid/labels/20250601_124017_jpg.rf.959fd82690aaca815f43d01bba75d341.txt (deflated 72%)\n",
            "  adding: content/robo_chess-4/valid/labels/20250602_131352_mp4-0008_jpg.rf.8dd762e01d47aa7e5e58adb2056b32c8.txt (deflated 70%)\n",
            "  adding: content/robo_chess-4/valid/labels/20250602_131320_mp4-0004_jpg.rf.dbe2b6af8ddc6a11e18f666fc6641fb9.txt (deflated 71%)\n",
            "  adding: content/robo_chess-4/valid/labels/20250602_140652_mp4-0010_jpg.rf.3f9cece687444a52c86b7abbb0f560e6.txt (deflated 33%)\n",
            "  adding: content/robo_chess-4/valid/labels/20250601_123853_jpg.rf.409bc11befa2e686a6e951dfe2880afd.txt (deflated 72%)\n",
            "  adding: content/robo_chess-4/valid/labels/20250602_140847_mp4-0006_jpg.rf.47ebfb0ec7a075b5088d7f875436595e.txt (deflated 26%)\n",
            "  adding: content/robo_chess-4/valid/labels.cache (deflated 61%)\n",
            "  adding: content/robo_chess-4/valid/images/ (stored 0%)\n",
            "  adding: content/robo_chess-4/valid/images/20250601_123819_jpg.rf.948ac6891f7558218cfccfab360256f6.jpg (deflated 0%)\n",
            "  adding: content/robo_chess-4/valid/images/20250601_123811_jpg.rf.2bc092393ac2aabf8835fe7f5032d8f8.jpg (deflated 0%)\n",
            "  adding: content/robo_chess-4/valid/images/20250602_140652_mp4-0015_jpg.rf.6671b121299c493314b7cbcb09433e94.jpg (deflated 1%)\n",
            "  adding: content/robo_chess-4/valid/images/20250602_131320_mp4-0010_jpg.rf.e98c71d857a17f3989a910965887ff6e.jpg (deflated 1%)\n",
            "  adding: content/robo_chess-4/valid/images/20250530_145353_jpg.rf.3d9f4af9a658dc8ccc426538651b9940.jpg (deflated 0%)\n",
            "  adding: content/robo_chess-4/valid/images/20250530_145601_jpg.rf.dc5ebed177fd5434c06eb05ff9604f4b.jpg (deflated 0%)\n",
            "  adding: content/robo_chess-4/valid/images/20250602_131320_mp4-0004_jpg.rf.dbe2b6af8ddc6a11e18f666fc6641fb9.jpg (deflated 1%)\n",
            "  adding: content/robo_chess-4/valid/images/20250530_145409_jpg.rf.d5e41b88a46282cb504fa322762fbe82.jpg (deflated 1%)\n",
            "  adding: content/robo_chess-4/valid/images/20250602_140847_mp4-0006_jpg.rf.47ebfb0ec7a075b5088d7f875436595e.jpg (deflated 1%)\n",
            "  adding: content/robo_chess-4/valid/images/20250602_131352_mp4-0008_jpg.rf.8dd762e01d47aa7e5e58adb2056b32c8.jpg (deflated 1%)\n",
            "  adding: content/robo_chess-4/valid/images/20250602_140812_mp4-0017_jpg.rf.f22c45d9d9328df70492259b6cf3d253.jpg (deflated 1%)\n",
            "  adding: content/robo_chess-4/valid/images/20250602_140614_mp4-0001_jpg.rf.27761fb6dde332785958503620ad067a.jpg (deflated 0%)\n",
            "  adding: content/robo_chess-4/valid/images/20250602_140741_mp4-0006_jpg.rf.c9eb1060cb075fd65696eaa02ffdd584.jpg (deflated 1%)\n",
            "  adding: content/robo_chess-4/valid/images/20250601_123905_jpg.rf.3790f1f384f71613d3c1653604a97550.jpg (deflated 0%)\n",
            "  adding: content/robo_chess-4/valid/images/20250602_140905_mp4-0007_jpg.rf.8fb4d2e2e49aa7261d491eaadac02ffc.jpg (deflated 1%)\n",
            "  adding: content/robo_chess-4/valid/images/20250602_131352_mp4-0007_jpg.rf.4b93fa20fcfe644eb913620789ac074f.jpg (deflated 1%)\n",
            "  adding: content/robo_chess-4/valid/images/20250602_131517_mp4-0010_jpg.rf.bb04a4333648e05607b4119bbd46164f.jpg (deflated 1%)\n",
            "  adding: content/robo_chess-4/valid/images/20250530_145510_jpg.rf.2f5578f97696182ab09590e8792c05a4.jpg (deflated 0%)\n",
            "  adding: content/robo_chess-4/valid/images/20250602_131615_mp4-0000_jpg.rf.732919cf5c931e6a2e939d2a026e286c.jpg (deflated 1%)\n",
            "  adding: content/robo_chess-4/valid/images/20250602_131320_mp4-0002_jpg.rf.93255425f0b9310eaa28953ecd955353.jpg (deflated 1%)\n",
            "  adding: content/robo_chess-4/valid/images/20250602_140614_mp4-0006_jpg.rf.41bad97e1e71fd5e26ac9a7e6c027615.jpg (deflated 1%)\n",
            "  adding: content/robo_chess-4/valid/images/20250602_131352_mp4-0009_jpg.rf.59769b65f8ac94256b4784da620de935.jpg (deflated 1%)\n",
            "  adding: content/robo_chess-4/valid/images/20250602_140847_mp4-0000_jpg.rf.6951a7c293747b05a60af300ab7de5f9.jpg (deflated 1%)\n",
            "  adding: content/robo_chess-4/valid/images/20250602_140614_mp4-0008_jpg.rf.257c9da245949b20ee467d52bfdbba31.jpg (deflated 1%)\n",
            "  adding: content/robo_chess-4/valid/images/20250602_131320_mp4-0005_jpg.rf.5ea0fdb17084db48a82a03786520b9c0.jpg (deflated 1%)\n",
            "  adding: content/robo_chess-4/valid/images/20250602_140716_mp4-0003_jpg.rf.dadff1f21a326bf947cabff760193fbf.jpg (deflated 1%)\n",
            "  adding: content/robo_chess-4/valid/images/20250602_140716_mp4-0002_jpg.rf.b202759b8de6fa785f9796d7919a571c.jpg (deflated 1%)\n",
            "  adding: content/robo_chess-4/valid/images/20250602_131320_mp4-0000_jpg.rf.8d8c628579f24564472e1ac0eabae1e7.jpg (deflated 1%)\n",
            "  adding: content/robo_chess-4/valid/images/20250530_145403_jpg.rf.9e21fadc8ee7f1fed34c2933356b0660.jpg (deflated 0%)\n",
            "  adding: content/robo_chess-4/valid/images/20250601_124017_jpg.rf.959fd82690aaca815f43d01bba75d341.jpg (deflated 0%)\n",
            "  adding: content/robo_chess-4/valid/images/20250602_140812_mp4-0008_jpg.rf.76cb2e6df4f5f6f98b60f6bbc619d631.jpg (deflated 1%)\n",
            "  adding: content/robo_chess-4/valid/images/20250602_131427_mp4-0002_jpg.rf.7012986f685844605bc7b900eddeeb8e.jpg (deflated 1%)\n",
            "  adding: content/robo_chess-4/valid/images/20250602_140847_mp4-0012_jpg.rf.198a18df026c534c451240d4e469a927.jpg (deflated 1%)\n",
            "  adding: content/robo_chess-4/valid/images/20250530_145416_jpg.rf.262fae2ab93a59362ef9e2d0f955db04.jpg (deflated 1%)\n",
            "  adding: content/robo_chess-4/valid/images/20250602_140716_mp4-0006_jpg.rf.96405aa51bb07a7901c970d8dbda4061.jpg (deflated 1%)\n",
            "  adding: content/robo_chess-4/valid/images/20250602_131257_mp4-0012_jpg.rf.1fedb80bcff8b49c355f9f2e2963b714.jpg (deflated 1%)\n",
            "  adding: content/robo_chess-4/valid/images/20250602_140812_mp4-0010_jpg.rf.bc576a2f63ec6e0f377b89821f1898c8.jpg (deflated 1%)\n",
            "  adding: content/robo_chess-4/valid/images/20250602_131517_mp4-0005_jpg.rf.6a3232157f416bca8b05f5923f5e2731.jpg (deflated 2%)\n",
            "  adding: content/robo_chess-4/valid/images/20250530_145336_jpg.rf.76dc91608b02d9bccb1aa30843e675c7.jpg (deflated 0%)\n",
            "  adding: content/robo_chess-4/valid/images/20250602_140905_mp4-0016_jpg.rf.193572fa3b662acc9e3892f67387d923.jpg (deflated 1%)\n",
            "  adding: content/robo_chess-4/valid/images/20250602_140847_mp4-0011_jpg.rf.3ecf267cde41d394c066f045578d7243.jpg (deflated 1%)\n",
            "  adding: content/robo_chess-4/valid/images/20250602_131448_mp4-0006_jpg.rf.8b108ff4576850580f1fb711982f9845.jpg (deflated 1%)\n",
            "  adding: content/robo_chess-4/valid/images/20250602_131320_mp4-0001_jpg.rf.cdef65482a73e97c3d8ed8411a4ed403.jpg (deflated 1%)\n",
            "  adding: content/robo_chess-4/valid/images/20250602_140614_mp4-0004_jpg.rf.b4fe6cb2dcd4448f885fb0a4226f915f.jpg (deflated 1%)\n",
            "  adding: content/robo_chess-4/valid/images/20250602_131352_mp4-0004_jpg.rf.bc4fc7ee868daca0f61a581541a92784.jpg (deflated 1%)\n",
            "  adding: content/robo_chess-4/valid/images/20250601_123853_jpg.rf.409bc11befa2e686a6e951dfe2880afd.jpg (deflated 0%)\n",
            "  adding: content/robo_chess-4/valid/images/20250602_131615_mp4-0007_jpg.rf.0273171674acf498debcd9920d5983b6.jpg (deflated 1%)\n",
            "  adding: content/robo_chess-4/valid/images/20250602_131257_mp4-0005_jpg.rf.26c3cfe8f69bc00f150a68bdeb2b93b5.jpg (deflated 1%)\n",
            "  adding: content/robo_chess-4/valid/images/20250602_131448_mp4-0000_jpg.rf.1ea338e2815e72ea266f652b6c5c40c8.jpg (deflated 1%)\n",
            "  adding: content/robo_chess-4/valid/images/20250602_140905_mp4-0017_jpg.rf.2415eab97319f1d49d880be990aa8ce5.jpg (deflated 1%)\n",
            "  adding: content/robo_chess-4/valid/images/20250602_131257_mp4-0002_jpg.rf.c2f3c7d04ebafed63d3709e258793b8b.jpg (deflated 1%)\n",
            "  adding: content/robo_chess-4/valid/images/20250602_140652_mp4-0010_jpg.rf.3f9cece687444a52c86b7abbb0f560e6.jpg (deflated 1%)\n",
            "  adding: content/robo_chess-4/valid/images/20250601_123857_jpg.rf.1bce65e662f2f862e59ae05da571b01b.jpg (deflated 0%)\n",
            "  adding: content/robo_chess-4/valid/images/20250602_131427_mp4-0001_jpg.rf.690705f83db9a49712f59be7655b06b6.jpg (deflated 1%)\n",
            "  adding: content/robo_chess-4/valid/images/20250602_140812_mp4-0012_jpg.rf.1eeac87a8ded30e2b4200bc70ecf60cc.jpg (deflated 2%)\n",
            "  adding: content/robo_chess-4/valid/images/20250602_140741_mp4-0002_jpg.rf.a06b627fee67db59c9cf9d58ae69248f.jpg (deflated 1%)\n",
            "  adding: content/robo_chess-4/train/ (stored 0%)\n",
            "  adding: content/robo_chess-4/train/labels/ (stored 0%)\n",
            "  adding: content/robo_chess-4/train/labels/20250602_131517_mp4-0001_jpg.rf.2f6dacc2f8d6a2f986027db3fda2a1f3.txt (deflated 21%)\n",
            "  adding: content/robo_chess-4/train/labels/20250530_145517_jpg.rf.70538204850566b5400510d8822a8ae8.txt (deflated 26%)\n",
            "  adding: content/robo_chess-4/train/labels/20250602_131352_mp4-0000_jpg.rf.9a86707fcf7c0081daebe1a0811886f2.txt (deflated 72%)\n",
            "  adding: content/robo_chess-4/train/labels/20250602_140614_mp4-0003_jpg.rf.aaf772be6aedefda23c2bfb97d580802.txt (deflated 35%)\n",
            "  adding: content/robo_chess-4/train/labels/20250602_131352_mp4-0010_jpg.rf.343703b55e4faaa8491009f421216fba.txt (deflated 18%)\n",
            "  adding: content/robo_chess-4/train/labels/20250530_145315_jpg.rf.0e73df1676898ccb556f77e2a51a0d94.txt (deflated 74%)\n",
            "  adding: content/robo_chess-4/train/labels/20250602_131427_mp4-0000_jpg.rf.138103e2455582864725cea16ca70bad.txt (deflated 36%)\n",
            "  adding: content/robo_chess-4/train/labels/20250602_131320_mp4-0007_jpg.rf.978c33766a80d8df4ab15315f20b944d.txt (deflated 18%)\n",
            "  adding: content/robo_chess-4/train/labels/20250602_140812_mp4-0001_jpg.rf.46383924045e035bcc4cf47b1ba78c8e.txt (deflated 17%)\n",
            "  adding: content/robo_chess-4/train/labels/20250530_145342_jpg.rf.db19948b38b2b50475de22e8401ea756.txt (deflated 70%)\n",
            "  adding: content/robo_chess-4/train/labels/20250602_140812_mp4-0003_jpg.rf.6b8357cdea957e204813d9b99908a1e5.txt (deflated 19%)\n",
            "  adding: content/robo_chess-4/train/labels/20250602_131448_mp4-0007_jpg.rf.91c5772d8d6991c84ac926949138efb8.txt (deflated 61%)\n",
            "  adding: content/robo_chess-4/train/labels/20250602_131517_mp4-0012_jpg.rf.ee31b3206d6d6cbd3687c9c478805329.txt (deflated 16%)\n",
            "  adding: content/robo_chess-4/train/labels/20250601_124015_jpg.rf.9e2a734aba1e9294ab0749ef56666d1f.txt (deflated 72%)\n",
            "  adding: content/robo_chess-4/train/labels/20250602_131615_mp4-0013_jpg.rf.d2b4174efee427cb1d0ccdf69edde688.txt (deflated 67%)\n",
            "  adding: content/robo_chess-4/train/labels/20250601_123828_jpg.rf.f6c5aafe5a2589442364ba7bdbc3849b.txt (deflated 73%)\n",
            "  adding: content/robo_chess-4/train/labels/20250601_123958_jpg.rf.403b488e3c277272f1e9218c5d59d4cd.txt (deflated 69%)\n",
            "  adding: content/robo_chess-4/train/labels/20250602_140614_mp4-0003_jpg.rf.1aa9b4dafc6bbc9095a40864a0b39413.txt (deflated 16%)\n",
            "  adding: content/robo_chess-4/train/labels/20250602_131352_mp4-0014_jpg.rf.2d9813688b09c6b89cff5917411dedbe.txt (deflated 35%)\n",
            "  adding: content/robo_chess-4/train/labels/20250602_140614_mp4-0010_jpg.rf.55a7d446411551c1aece7c97f3e07835.txt (stored 0%)\n",
            "  adding: content/robo_chess-4/train/labels/20250602_140847_mp4-0003_jpg.rf.e0f5e9fb430ae34f9915e1bb4c7526b8.txt (deflated 16%)\n",
            "  adding: content/robo_chess-4/train/labels/20250602_131615_mp4-0004_jpg.rf.5a98c5a3850a45adcfc4748644ed0983.txt (deflated 66%)\n",
            "  adding: content/robo_chess-4/train/labels/20250602_131427_mp4-0007_jpg.rf.25a8b565ff0496d2525325931416828c.txt (deflated 18%)\n",
            "  adding: content/robo_chess-4/train/labels/20250602_131257_mp4-0000_jpg.rf.f2f10bb72d2c9f4ba062bf46e5501840.txt (deflated 70%)\n",
            "  adding: content/robo_chess-4/train/labels/20250530_145358_jpg.rf.9bdd7dc8e48f9d1b71cc01bc03b5f550.txt (deflated 69%)\n",
            "  adding: content/robo_chess-4/train/labels/20250602_140847_mp4-0013_jpg.rf.2afa3db0ab8c9dac563a0da344c85617.txt (deflated 38%)\n",
            "  adding: content/robo_chess-4/train/labels/20250602_131257_mp4-0009_jpg.rf.8f2b738601c29749970f2faef3d21454.txt (deflated 62%)\n",
            "  adding: content/robo_chess-4/train/labels/20250530_145408_jpg.rf.b618e9dceec79f85612c9e0ae82e5122.txt (deflated 71%)\n",
            "  adding: content/robo_chess-4/train/labels/20250602_131320_mp4-0003_jpg.rf.dd936db44e4715629fbf497c229e8338.txt (deflated 40%)\n",
            "  adding: content/robo_chess-4/train/labels/20250602_140905_mp4-0010_jpg.rf.3a8e55cca3eb6ee15d8170324f877449.txt (deflated 62%)\n",
            "  adding: content/robo_chess-4/train/labels/20250602_140614_mp4-0011_jpg.rf.868fa8d87273f47a111999b6a9bb2ca7.txt (deflated 36%)\n",
            "  adding: content/robo_chess-4/train/labels/20250602_140905_mp4-0004_jpg.rf.6de98d895ae8af70c6376838f9aa2d96.txt (deflated 65%)\n",
            "  adding: content/robo_chess-4/train/labels/20250602_131352_mp4-0001_jpg.rf.bc517c130855b5b0c63ed9c7e0da031f.txt (deflated 62%)\n",
            "  adding: content/robo_chess-4/train/labels/20250601_124025_jpg.rf.8028cef644d18acbce5cdcad469b8d89.txt (deflated 69%)\n",
            "  adding: content/robo_chess-4/train/labels/20250602_140905_mp4-0014_jpg.rf.ef0e78b462ce5cb31b86dc540c0ed804.txt (deflated 65%)\n",
            "  adding: content/robo_chess-4/train/labels/20250601_123826_jpg.rf.b2c24f3f96171d8a2317cd36e9928c9b.txt (deflated 69%)\n",
            "  adding: content/robo_chess-4/train/labels/20250602_140905_mp4-0006_jpg.rf.db2092c70d715b6b15d04da26d8b3913.txt (deflated 62%)\n",
            "  adding: content/robo_chess-4/train/labels/20250602_140847_mp4-0004_jpg.rf.48c6c667f7b14eaf803bd9bc5e4f04c5.txt (deflated 41%)\n",
            "  adding: content/robo_chess-4/train/labels/20250602_140847_mp4-0008_jpg.rf.d32858ffc4a0a431f58bcb182a5e7404.txt (deflated 30%)\n",
            "  adding: content/robo_chess-4/train/labels/20250602_140614_mp4-0005_jpg.rf.4e2a581c040675cb36729ff74f74b976.txt (deflated 38%)\n",
            "  adding: content/robo_chess-4/train/labels/20250602_140614_mp4-0012_jpg.rf.9f5d477ec801ad130b206266600316c4.txt (deflated 14%)\n",
            "  adding: content/robo_chess-4/train/labels/20250530_145340_jpg.rf.9f04309c60b239843a2f1cb795148abe.txt (deflated 69%)\n",
            "  adding: content/robo_chess-4/train/labels/20250602_140847_mp4-0010_jpg.rf.89199736ab8ccfc30aad6c05bba7d9e5.txt (deflated 35%)\n",
            "  adding: content/robo_chess-4/train/labels/20250530_145608_jpg.rf.952cf4bfd692942f0313c86f47695d6e.txt (deflated 27%)\n",
            "  adding: content/robo_chess-4/train/labels/20250602_140905_mp4-0018_jpg.rf.e6410e4a183bb494a6d261b900847202.txt (deflated 62%)\n",
            "  adding: content/robo_chess-4/train/labels/20250602_131257_mp4-0009_jpg.rf.9320342af73cd2f4d8d7a43b58fd9604.txt (deflated 73%)\n",
            "  adding: content/robo_chess-4/train/labels/20250602_140614_mp4-0002_jpg.rf.ab2bdb8f134fbc7fc29623d5ba874e47.txt (deflated 36%)\n",
            "  adding: content/robo_chess-4/train/labels/20250602_140905_mp4-0002_jpg.rf.b7246b8db63080320bd878f3c1842195.txt (deflated 63%)\n",
            "  adding: content/robo_chess-4/train/labels/20250602_140847_mp4-0002_jpg.rf.2c0bf57a7cc37be07599bdc5a638e3f7.txt (deflated 35%)\n",
            "  adding: content/robo_chess-4/train/labels/20250602_140741_mp4-0009_jpg.rf.474b27e6c41935a6136416cc8ead4e9b.txt (deflated 33%)\n",
            "  adding: content/robo_chess-4/train/labels/20250602_140741_mp4-0008_jpg.rf.e70ac637b8e03aba06ce5a468c5955e6.txt (deflated 29%)\n",
            "  adding: content/robo_chess-4/train/labels/20250530_145430_jpg.rf.3c7d10ca5ce8789ae460b7f4a72cc703.txt (deflated 52%)\n",
            "  adding: content/robo_chess-4/train/labels/20250602_131448_mp4-0003_jpg.rf.fbece8be496fce005551ac9fae58a1f5.txt (deflated 34%)\n",
            "  adding: content/robo_chess-4/train/labels/20250602_140847_mp4-0014_jpg.rf.28eafa92e96bb2f3ca512c0bb6f63618.txt (deflated 36%)\n",
            "  adding: content/robo_chess-4/train/labels/20250602_140614_mp4-0007_jpg.rf.38eeef11b77577944a2fb358a145c788.txt (deflated 40%)\n",
            "  adding: content/robo_chess-4/train/labels/20250602_131517_mp4-0006_jpg.rf.e610a5caf39f6ff7fa45193b16432b02.txt (deflated 18%)\n",
            "  adding: content/robo_chess-4/train/labels/20250602_140847_mp4-0002_jpg.rf.29142b677fd86cd01f7ce1bd7d5465da.txt (deflated 24%)\n",
            "  adding: content/robo_chess-4/train/labels/20250602_140614_mp4-0011_jpg.rf.875f9314565e04b81cd5b656dd022f7a.txt (deflated 16%)\n",
            "  adding: content/robo_chess-4/train/labels/20250602_140812_mp4-0003_jpg.rf.bb582f5f04497edb820b9dbb44d5c674.txt (deflated 35%)\n",
            "  adding: content/robo_chess-4/train/labels/20250602_131427_mp4-0011_jpg.rf.07c791c019252e76a46214c6439c417b.txt (deflated 19%)\n",
            "  adding: content/robo_chess-4/train/labels/20250601_124007_jpg.rf.0c4c073a99ff12e85a3ee3f4f3277124.txt (deflated 69%)\n",
            "  adding: content/robo_chess-4/train/labels/20250602_131615_mp4-0010_jpg.rf.b4969699c92fcf0182c93c654c6bafb4.txt (deflated 67%)\n",
            "  adding: content/robo_chess-4/train/labels/20250602_131352_mp4-0001_jpg.rf.ec6ff6c44643c7912144cfe0e7a6bfc2.txt (deflated 61%)\n",
            "  adding: content/robo_chess-4/train/labels/20250530_145327_jpg.rf.be86466cc0e164a8c18740a5b1bf0aa7.txt (deflated 68%)\n",
            "  adding: content/robo_chess-4/train/labels/20250602_131615_mp4-0016_jpg.rf.867fb2a6b5b4c6de7759d14db22bcec9.txt (deflated 67%)\n",
            "  adding: content/robo_chess-4/train/labels/20250602_131427_mp4-0010_jpg.rf.280dcb4ad84b49cd127997ceccfb56ec.txt (deflated 58%)\n",
            "  adding: content/robo_chess-4/train/labels/20250602_140905_mp4-0015_jpg.rf.80f99be0bf42e94c8fab07b0bae0e7d8.txt (deflated 65%)\n",
            "  adding: content/robo_chess-4/train/labels/20250602_140614_mp4-0005_jpg.rf.f261c3c8d6b773018844eca69c6efdd5.txt (deflated 27%)\n",
            "  adding: content/robo_chess-4/train/labels/20250602_140847_mp4-0009_jpg.rf.1b4f779e3f319f26ae5599faf49ab8de.txt (deflated 35%)\n",
            "  adding: content/robo_chess-4/train/labels/20250602_140652_mp4-0012_jpg.rf.10fb79be7921d29806e9dda60ff1443e.txt (deflated 37%)\n",
            "  adding: content/robo_chess-4/train/labels/20250602_131320_mp4-0003_jpg.rf.dd199be70dea511601ef4c9c0c8d717f.txt (deflated 35%)\n",
            "  adding: content/robo_chess-4/train/labels/20250601_123834_jpg.rf.6de732bf16f7431c03a4461e9241680c.txt (deflated 69%)\n",
            "  adding: content/robo_chess-4/train/labels/20250602_131320_mp4-0014_jpg.rf.7af94c7ff22a7bb4de9dbcc86929452b.txt (deflated 39%)\n",
            "  adding: content/robo_chess-4/train/labels/20250602_140847_mp4-0001_jpg.rf.65d49b491ebc4d4f29bcbe8507c9e174.txt (deflated 26%)\n",
            "  adding: content/robo_chess-4/train/labels/20250602_131427_mp4-0012_jpg.rf.21169414a17b7716e590908cd2ca2007.txt (deflated 37%)\n",
            "  adding: content/robo_chess-4/train/labels/20250602_140652_mp4-0014_jpg.rf.69d4836e75fd0ac646dd4c7dd3e46ae3.txt (deflated 38%)\n",
            "  adding: content/robo_chess-4/train/labels/20250530_145557_jpg.rf.8d630ddf8ce6861e085e1a01e8712f9f.txt (deflated 49%)\n",
            "  adding: content/robo_chess-4/train/labels/20250602_131320_mp4-0003_jpg.rf.2ae214ed9d892efbf575f741bc75a54d.txt (deflated 15%)\n",
            "  adding: content/robo_chess-4/train/labels/20250602_140812_mp4-0007_jpg.rf.86a6b5156cd946029501d1bd648914eb.txt (deflated 36%)\n",
            "  adding: content/robo_chess-4/train/labels/20250602_131615_mp4-0010_jpg.rf.eab5fbec0b82e697abc9a38b381bd587.txt (deflated 62%)\n",
            "  adding: content/robo_chess-4/train/labels/20250602_131448_mp4-0008_jpg.rf.20e07fc16f09cd93cadee8fd4af4a824.txt (deflated 61%)\n",
            "  adding: content/robo_chess-4/train/labels/20250601_123826_jpg.rf.bb84e176768bba5e3aed5344d63d2523.txt (deflated 69%)\n",
            "  adding: content/robo_chess-4/train/labels/20250602_140812_mp4-0015_jpg.rf.d54f07f4e3be53d0dcacb597a831e08a.txt (deflated 24%)\n",
            "  adding: content/robo_chess-4/train/labels/20250602_140652_mp4-0001_jpg.rf.e408a25a676ff72602bec21438168991.txt (deflated 20%)\n",
            "  adding: content/robo_chess-4/train/labels/20250602_131320_mp4-0013_jpg.rf.89052095fb93c74fe9a6f61b09d2fa6c.txt (deflated 71%)\n",
            "  adding: content/robo_chess-4/train/labels/20250602_131517_mp4-0001_jpg.rf.2469f56405c71b2847c2e6fade8ce167.txt (deflated 36%)\n",
            "  adding: content/robo_chess-4/train/labels/20250602_140652_mp4-0011_jpg.rf.f8af57a140095e0526fa6a5afb5eaa75.txt (deflated 38%)\n",
            "  adding: content/robo_chess-4/train/labels/20250601_123816_jpg.rf.4d93768095efadad7790702b73275922.txt (deflated 69%)\n",
            "  adding: content/robo_chess-4/train/labels/20250602_140812_mp4-0000_jpg.rf.ee1b2a74a65a7b7effef9d2c010aa72d.txt (deflated 28%)\n",
            "  adding: content/robo_chess-4/train/labels/20250602_131352_mp4-0006_jpg.rf.77b87cc2c4ef444e5bbd5879b2670795.txt (deflated 69%)\n",
            "  adding: content/robo_chess-4/train/labels/20250602_140847_mp4-0008_jpg.rf.8e0bb3fe51d6b556f6fc4fff4a73b47a.txt (deflated 35%)\n",
            "  adding: content/robo_chess-4/train/labels/20250602_140905_mp4-0015_jpg.rf.ea01490244eadb30815579bc77f38c83.txt (deflated 65%)\n",
            "  adding: content/robo_chess-4/train/labels/20250602_131615_mp4-0001_jpg.rf.393949a37c9f8da1282ddf7bdd357486.txt (deflated 67%)\n",
            "  adding: content/robo_chess-4/train/labels/20250602_131320_mp4-0008_jpg.rf.8ea9815af76b44e9a810615b5d0aba6d.txt (deflated 36%)\n",
            "  adding: content/robo_chess-4/train/labels/20250602_131352_mp4-0005_jpg.rf.41761914e28ca1821cec004acdaab57a.txt (deflated 23%)\n",
            "  adding: content/robo_chess-4/train/labels/20250602_131427_mp4-0003_jpg.rf.7f8c0cc0ab4a2491e823aac6924de6e3.txt (deflated 35%)\n",
            "  adding: content/robo_chess-4/train/labels/20250602_140905_mp4-0005_jpg.rf.c613d24d91c02a44bda27301e9976094.txt (deflated 65%)\n",
            "  adding: content/robo_chess-4/train/labels/20250602_140812_mp4-0002_jpg.rf.46097bd0c9eecf9b45611a8a3d9f52b7.txt (deflated 41%)\n",
            "  adding: content/robo_chess-4/train/labels/20250602_131517_mp4-0011_jpg.rf.eb0f048ff2cbff3c3d0a9fe7821958d3.txt (deflated 43%)\n",
            "  adding: content/robo_chess-4/train/labels/20250530_145337_jpg.rf.8a7111e234504a951ec65d5b4fc4be9b.txt (deflated 72%)\n",
            "  adding: content/robo_chess-4/train/labels/20250601_123855_jpg.rf.e85172c3accb96e39a0d798b818b016b.txt (deflated 68%)\n",
            "  adding: content/robo_chess-4/train/labels/20250601_124001_jpg.rf.ddeb07a90fb68c30fffe124a74759319.txt (deflated 68%)\n",
            "  adding: content/robo_chess-4/train/labels/20250602_140812_mp4-0013_jpg.rf.ae07a23632f154e7d91b8fcd16afe8ea.txt (deflated 35%)\n",
            "  adding: content/robo_chess-4/train/labels/20250602_140741_mp4-0009_jpg.rf.31524eccdd5b1ead34a66b1bb96ad44d.txt (deflated 14%)\n",
            "  adding: content/robo_chess-4/train/labels/20250602_131448_mp4-0007_jpg.rf.dde096874791f78507539653c282ab67.txt (deflated 71%)\n",
            "  adding: content/robo_chess-4/train/labels/20250602_140741_mp4-0004_jpg.rf.65521ab7d84b79fa881651cb30a3e263.txt (deflated 15%)\n",
            "  adding: content/robo_chess-4/train/labels/20250602_131615_mp4-0010_jpg.rf.cf6671114207438d2e3dd2b8dcf78cbd.txt (deflated 61%)\n",
            "  adding: content/robo_chess-4/train/labels/20250602_131517_mp4-0007_jpg.rf.869167d9071d44555cec9858ea0de1c8.txt (deflated 13%)\n",
            "  adding: content/robo_chess-4/train/labels/20250602_131257_mp4-0009_jpg.rf.5b33be838a2dd7dbc27943feeb538878.txt (deflated 62%)\n",
            "  adding: content/robo_chess-4/train/labels/20250602_140812_mp4-0005_jpg.rf.134d62248e8a9352ea6d5941d2035071.txt (deflated 14%)\n",
            "  adding: content/robo_chess-4/train/labels/20250602_140652_mp4-0013_jpg.rf.72f0f188718ffa458d1206a78733429e.txt (deflated 36%)\n",
            "  adding: content/robo_chess-4/train/labels/20250602_140812_mp4-0000_jpg.rf.dd944aa8735c982b6525a2522e8c7cf9.txt (deflated 35%)\n",
            "  adding: content/robo_chess-4/train/labels/20250602_140716_mp4-0000_jpg.rf.0c7bccacac6ba1e6df117f6e5cbf1ac4.txt (stored 0%)\n",
            "  adding: content/robo_chess-4/train/labels/20250602_131615_mp4-0005_jpg.rf.27082879ef181b8f7e8ea9d1f0bae940.txt (deflated 66%)\n",
            "  adding: content/robo_chess-4/train/labels/20250602_140614_mp4-0007_jpg.rf.68d1df9bb36c017bca3b57e6dcf9be15.txt (deflated 24%)\n",
            "  adding: content/robo_chess-4/train/labels/20250530_145604_jpg.rf.16ef557846c6dfcd63b4ebb70766f96f.txt (deflated 54%)\n",
            "  adding: content/robo_chess-4/train/labels/20250602_131352_mp4-0005_jpg.rf.1891a297822dc9090fd3524fb9bb0408.txt (deflated 32%)\n",
            "  adding: content/robo_chess-4/train/labels/20250530_145347_jpg.rf.b3a41d714bf815c45a0d7afa5c616e44.txt (deflated 69%)\n",
            "  adding: content/robo_chess-4/train/labels/20250602_131352_mp4-0001_jpg.rf.979da706445c8ff3b4d9dce43e8f7906.txt (deflated 71%)\n",
            "  adding: content/robo_chess-4/train/labels/20250530_145445_jpg.rf.06c60808e2c306d290938aa44ee73816.txt (deflated 46%)\n",
            "  adding: content/robo_chess-4/train/labels/20250530_145552_jpg.rf.c83495b3f1f1b8f3d9317d2b7a632cc3.txt (deflated 36%)\n",
            "  adding: content/robo_chess-4/train/labels/20250530_145347_jpg.rf.8a8d9fd64babe58c5753a8e95593859f.txt (deflated 69%)\n",
            "  adding: content/robo_chess-4/train/labels/20250602_140652_mp4-0008_jpg.rf.22b5775dac451e806d5daa95d1e75af4.txt (deflated 23%)\n",
            "  adding: content/robo_chess-4/train/labels/20250602_140741_mp4-0007_jpg.rf.7072ad41bc3cb3e930a41c33a9744ba7.txt (deflated 30%)\n",
            "  adding: content/robo_chess-4/train/labels/20250602_131352_mp4-0005_jpg.rf.8af4e2b664f7a7aa20a3fef4b5534ed2.txt (deflated 39%)\n",
            "  adding: content/robo_chess-4/train/labels/20250602_131427_mp4-0000_jpg.rf.9cf7b7c83608ed7d603aa6ebbda1d286.txt (deflated 26%)\n",
            "  adding: content/robo_chess-4/train/labels/20250602_131427_mp4-0005_jpg.rf.c403fbaed4617cec7b14cc6ee62cc2b5.txt (deflated 34%)\n",
            "  adding: content/robo_chess-4/train/labels/20250602_140905_mp4-0006_jpg.rf.69b5cf3ee2fa318454e3b19dcd8162e4.txt (deflated 62%)\n",
            "  adding: content/robo_chess-4/train/labels/20250602_140652_mp4-0016_jpg.rf.2f17d1c25a184deab7e4c77beb145716.txt (deflated 39%)\n",
            "  adding: content/robo_chess-4/train/labels/20250530_145604_jpg.rf.d6458990b4025bedea976c421dd73833.txt (deflated 51%)\n",
            "  adding: content/robo_chess-4/train/labels/20250602_131257_mp4-0004_jpg.rf.cf261d73f4382835609d0467e520b470.txt (deflated 25%)\n",
            "  adding: content/robo_chess-4/train/labels/20250530_145327_jpg.rf.8256d916d128198d6032def6d675b3ab.txt (deflated 70%)\n",
            "  adding: content/robo_chess-4/train/labels/20250530_145457_jpg.rf.84c0898ed0f894a5eed0be2115469852.txt (deflated 39%)\n",
            "  adding: content/robo_chess-4/train/labels/20250602_140812_mp4-0007_jpg.rf.c9b466fbdd583b6308bd940d6fea4da7.txt (deflated 22%)\n",
            "  adding: content/robo_chess-4/train/labels/20250602_140614_mp4-0012_jpg.rf.76d03c2b18c4a2db6cd1ab6386d8a2a4.txt (deflated 38%)\n",
            "  adding: content/robo_chess-4/train/labels/20250530_145427_jpg.rf.cdea8b9e013d84b5a4c6c9f78c1abbaa.txt (deflated 52%)\n",
            "  adding: content/robo_chess-4/train/labels/20250602_140652_mp4-0013_jpg.rf.1c5123c43493878c9ef5d0f74f36cc26.txt (deflated 44%)\n",
            "  adding: content/robo_chess-4/train/labels/20250602_140741_mp4-0001_jpg.rf.bed35e7eca3d83d644c15046590d57a6.txt (deflated 15%)\n",
            "  adding: content/robo_chess-4/train/labels/20250601_123834_jpg.rf.2c2fd7c3d6a8835b4f60fb2fd357accd.txt (deflated 74%)\n",
            "  adding: content/robo_chess-4/train/labels/20250602_140847_mp4-0003_jpg.rf.b92270e34307a45b943fa113dca86412.txt (deflated 39%)\n",
            "  adding: content/robo_chess-4/train/labels/20250601_123841_jpg.rf.4f2469b418fa695c1bf717d3a952970e.txt (deflated 71%)\n",
            "  adding: content/robo_chess-4/train/labels/20250602_131320_mp4-0015_jpg.rf.7ff639d1e7fb203d8325f9e3764e8494.txt (deflated 38%)\n",
            "  adding: content/robo_chess-4/train/labels/20250602_140812_mp4-0014_jpg.rf.68b110572f7d5406d203dba1274d7d02.txt (deflated 33%)\n",
            "  adding: content/robo_chess-4/train/labels/20250602_131257_mp4-0007_jpg.rf.b2279001780a7402ae4050b40f3f5a2a.txt (deflated 60%)\n",
            "  adding: content/robo_chess-4/train/labels/20250602_140716_mp4-0005_jpg.rf.70ce2b8d28e8d3e1b957db18c795facd.txt (deflated 35%)\n",
            "  adding: content/robo_chess-4/train/labels/20250602_140614_mp4-0013_jpg.rf.6cc040971d51feed51cb20375017e628.txt (deflated 30%)\n",
            "  adding: content/robo_chess-4/train/labels/20250602_131448_mp4-0009_jpg.rf.54e7914a1e94db0db886e793d023f3ce.txt (deflated 60%)\n",
            "  adding: content/robo_chess-4/train/labels/20250602_140812_mp4-0015_jpg.rf.8da82d48875c43c026b62d74215a0d13.txt (deflated 37%)\n",
            "  adding: content/robo_chess-4/train/labels/20250601_124022_jpg.rf.a331bb9db4eadf0faebd89fe86257ced.txt (deflated 69%)\n",
            "  adding: content/robo_chess-4/train/labels/20250602_140652_mp4-0001_jpg.rf.081782524eec3f90509f48568aaeaf7e.txt (deflated 32%)\n",
            "  adding: content/robo_chess-4/train/labels/20250602_140716_mp4-0004_jpg.rf.ba2fea5f1187f4d87cf935f1a7ccf4d0.txt (deflated 15%)\n",
            "  adding: content/robo_chess-4/train/labels/20250602_131517_mp4-0012_jpg.rf.8da6944bb784b74315a70e60c6f75d54.txt (deflated 13%)\n",
            "  adding: content/robo_chess-4/train/labels/20250602_140614_mp4-0010_jpg.rf.f9962d3022dea7b0dc23016ebaefba04.txt (stored 0%)\n",
            "  adding: content/robo_chess-4/train/labels/20250602_140652_mp4-0002_jpg.rf.5796c79eb27989f8e776200cf70f4366.txt (deflated 29%)\n",
            "  adding: content/robo_chess-4/train/labels/20250602_131448_mp4-0007_jpg.rf.08be7f37fa67cb57378bd95ef863d388.txt (deflated 59%)\n",
            "  adding: content/robo_chess-4/train/labels/20250602_131517_mp4-0006_jpg.rf.5deb82a792e2e5324cbbcb5c2d719a76.txt (deflated 25%)\n",
            "  adding: content/robo_chess-4/train/labels/20250602_140652_mp4-0007_jpg.rf.af854255b88dab39676e3ec0f8302644.txt (deflated 37%)\n",
            "  adding: content/robo_chess-4/train/labels/20250602_140812_mp4-0014_jpg.rf.5d4de64a11f7178d507b5b05b46ce12f.txt (deflated 26%)\n",
            "  adding: content/robo_chess-4/train/labels/20250601_124015_jpg.rf.adf3c10a515d73c7b962008096d05deb.txt (deflated 70%)\n",
            "  adding: content/robo_chess-4/train/labels/20250602_131615_mp4-0015_jpg.rf.41e0b2d48aa89f9f93876aeff6c9b80b.txt (deflated 66%)\n",
            "  adding: content/robo_chess-4/train/labels/20250530_145537_jpg.rf.39815f61add553bc8ae78c006fb65ec6.txt (deflated 23%)\n",
            "  adding: content/robo_chess-4/train/labels/20250602_131448_mp4-0003_jpg.rf.b547b7ea49acf377714b30091cc9a1a6.txt (deflated 15%)\n",
            "  adding: content/robo_chess-4/train/labels/20250602_140847_mp4-0010_jpg.rf.0a7a4c1457f1e2469b1904276d537be0.txt (deflated 35%)\n",
            "  adding: content/robo_chess-4/train/labels/20250602_140812_mp4-0000_jpg.rf.4984c3ee8278a2c6277414d94a44d9fb.txt (deflated 36%)\n",
            "  adding: content/robo_chess-4/train/labels/20250602_140847_mp4-0001_jpg.rf.b25986788296f0e5b805bda758b6bb4a.txt (deflated 39%)\n",
            "  adding: content/robo_chess-4/train/labels/20250602_140905_mp4-0001_jpg.rf.5328113180edced4cfbc14e0a84d75b5.txt (deflated 57%)\n",
            "  adding: content/robo_chess-4/train/labels/20250530_145520_jpg.rf.38c02f50d18e0776a8726f8f290ddc09.txt (deflated 37%)\n",
            "  adding: content/robo_chess-4/train/labels/20250601_123958_jpg.rf.f7133dc4f1f7fc6c9ce6c32ba14e975c.txt (deflated 72%)\n",
            "  adding: content/robo_chess-4/train/labels/20250530_145427_jpg.rf.538b71ee74824f4553846cb3cb030cc0.txt (deflated 50%)\n",
            "  adding: content/robo_chess-4/train/labels/20250602_140741_mp4-0005_jpg.rf.601fd74cbc8c91cc08711a6b0b7ba02b.txt (deflated 19%)\n",
            "  adding: content/robo_chess-4/train/labels/20250601_123839_jpg.rf.85b5ee754d8fd31055fe574161ebb6d5.txt (deflated 73%)\n",
            "  adding: content/robo_chess-4/train/labels/20250602_131615_mp4-0006_jpg.rf.e8f67f2b5eb7e45c9f92531515302276.txt (deflated 60%)\n",
            "  adding: content/robo_chess-4/train/labels/20250602_131615_mp4-0011_jpg.rf.1c827a35c1c1452daa77c5749b54b4cf.txt (deflated 63%)\n",
            "  adding: content/robo_chess-4/train/labels/20250602_140741_mp4-0004_jpg.rf.af0902e27b0be15a7c21c5e02f4123b3.txt (deflated 25%)\n",
            "  adding: content/robo_chess-4/train/labels/20250601_123841_jpg.rf.9117b92dc22b0f706450f69568c9dbd7.txt (deflated 68%)\n",
            "  adding: content/robo_chess-4/train/labels/20250602_140614_mp4-0011_jpg.rf.9ae05c63760b3575d0ac07258b11b91c.txt (deflated 33%)\n",
            "  adding: content/robo_chess-4/train/labels/20250602_131352_mp4-0006_jpg.rf.1b377befe215ab93af277cc34dad23a1.txt (deflated 61%)\n",
            "  adding: content/robo_chess-4/train/labels/20250530_145405_jpg.rf.9349cd000355d111815790ab3f7505d2.txt (deflated 72%)\n",
            "  adding: content/robo_chess-4/train/labels/20250602_140905_mp4-0012_jpg.rf.64254bc422785e8e445c26cf59ffee13.txt (deflated 58%)\n",
            "  adding: content/robo_chess-4/train/labels/20250602_140741_mp4-0009_jpg.rf.6e1e99e7103d11667c1404299aa0711d.txt (deflated 33%)\n",
            "  adding: content/robo_chess-4/train/labels/20250602_131427_mp4-0000_jpg.rf.7fe6bb2c2f0eec677b22147a9650253e.txt (deflated 34%)\n",
            "  adding: content/robo_chess-4/train/labels/20250530_145359_jpg.rf.5129be7f6830e076ed33baa24dc7a0b2.txt (deflated 72%)\n",
            "  adding: content/robo_chess-4/train/labels/20250602_140905_mp4-0000_jpg.rf.c8e72eee7b5ac6dd7d1b168b44eb8df1.txt (deflated 40%)\n",
            "  adding: content/robo_chess-4/train/labels/20250602_131257_mp4-0003_jpg.rf.2d3f169109297370027d97a3a46fef94.txt (deflated 61%)\n",
            "  adding: content/robo_chess-4/train/labels/20250530_145430_jpg.rf.d6e34e4e0556522525ee8083e115a799.txt (deflated 51%)\n",
            "  adding: content/robo_chess-4/train/labels/20250602_140614_mp4-0002_jpg.rf.651d37d54042c08b511cf82eee200113.txt (deflated 21%)\n",
            "  adding: content/robo_chess-4/train/labels/20250601_124022_jpg.rf.6d416c8f44eaca7560e5cad57373fb28.txt (deflated 72%)\n",
            "  adding: content/robo_chess-4/train/labels/20250602_131427_mp4-0011_jpg.rf.6c2c7e223e857d3f7efe1bf41197620e.txt (deflated 34%)\n",
            "  adding: content/robo_chess-4/train/labels/20250602_131352_mp4-0011_jpg.rf.bf0e124255b364a610ebe63700caa32f.txt (deflated 39%)\n",
            "  adding: content/robo_chess-4/train/labels/20250602_131352_mp4-0002_jpg.rf.72836a3607560fa08941928273fff2fc.txt (deflated 61%)\n",
            "  adding: content/robo_chess-4/train/labels/20250602_140614_mp4-0009_jpg.rf.15af36045e361de87e4e8b832440aca6.txt (deflated 34%)\n",
            "  adding: content/robo_chess-4/train/labels/20250530_145412_jpg.rf.1f9231abf216674a2c0c13cbf07d3403.txt (deflated 70%)\n",
            "  adding: content/robo_chess-4/train/labels/20250602_140812_mp4-0011_jpg.rf.c0fcced490d7a87d370b1ec82798c0c4.txt (deflated 33%)\n",
            "  adding: content/robo_chess-4/train/labels/20250602_140905_mp4-0003_jpg.rf.ef048d1d24757b9942c0247fc6f16cdc.txt (deflated 62%)\n",
            "  adding: content/robo_chess-4/train/labels/20250602_131257_mp4-0010_jpg.rf.c1b5cb71586c53b54c35050404252367.txt (deflated 11%)\n",
            "  adding: content/robo_chess-4/train/labels/20250601_124007_jpg.rf.417b21d3b17dc42fee889deadfee4c50.txt (deflated 68%)\n",
            "  adding: content/robo_chess-4/train/labels/20250602_131517_mp4-0013_jpg.rf.589f3faeec08ec5dd4f12687e18d1a54.txt (deflated 34%)\n",
            "  adding: content/robo_chess-4/train/labels/20250601_123845_jpg.rf.deb7cef998a80317bd054b81f9df6a31.txt (deflated 73%)\n",
            "  adding: content/robo_chess-4/train/labels/20250602_131427_mp4-0006_jpg.rf.38fc8afe239dff6addd1fa6243bc49dd.txt (deflated 68%)\n",
            "  adding: content/robo_chess-4/train/labels/20250602_131427_mp4-0010_jpg.rf.ac8f6720892c7de67a4378f4fc34d9d3.txt (deflated 66%)\n",
            "  adding: content/robo_chess-4/train/labels/20250602_140652_mp4-0011_jpg.rf.85e3d3068e169a63473cf80fe291809d.txt (deflated 20%)\n",
            "  adding: content/robo_chess-4/train/labels/20250601_124019_jpg.rf.9fed76d60d27d38c3ed9d446a0a17ef1.txt (deflated 72%)\n",
            "  adding: content/robo_chess-4/train/labels/20250602_131427_mp4-0012_jpg.rf.c14b876b1124af97158323618a1c7f78.txt (deflated 19%)\n",
            "  adding: content/robo_chess-4/train/labels/20250601_123954_jpg.rf.aa1c76234215fe0328917281e978f95c.txt (deflated 68%)\n",
            "  adding: content/robo_chess-4/train/labels/20250602_140847_mp4-0002_jpg.rf.752224dfbcacc40e6ef5039eeb16a7f3.txt (deflated 36%)\n",
            "  adding: content/robo_chess-4/train/labels/20250602_131615_mp4-0014_jpg.rf.0bd4fefec4d9b91f90f5ab45879444ee.txt (deflated 67%)\n",
            "  adding: content/robo_chess-4/train/labels/20250601_123950_jpg.rf.af3e31ab949fb4b6b371b9b4688a25d2.txt (deflated 68%)\n",
            "  adding: content/robo_chess-4/train/labels/20250602_131352_mp4-0015_jpg.rf.21d761a2e23fa0dd1d39a05132f773fb.txt (deflated 33%)\n",
            "  adding: content/robo_chess-4/train/labels/20250602_140652_mp4-0012_jpg.rf.4fde79ea009a44cbdbbbf1be4aff890d.txt (deflated 36%)\n",
            "  adding: content/robo_chess-4/train/labels/20250602_140905_mp4-0006_jpg.rf.8fc835d82de9498544ac031f448b0ab5.txt (deflated 63%)\n",
            "  adding: content/robo_chess-4/train/labels/20250602_140905_mp4-0002_jpg.rf.6898352e677d06a1d3b32f32d9c3c85f.txt (deflated 62%)\n",
            "  adding: content/robo_chess-4/train/labels/20250601_123915_jpg.rf.5bc251e13ac8238fdc1270c8e44affcf.txt (deflated 72%)\n",
            "  adding: content/robo_chess-4/train/labels/20250602_140741_mp4-0003_jpg.rf.f2428d3267103288dafba334c1799134.txt (deflated 37%)\n",
            "  adding: content/robo_chess-4/train/labels/20250602_140905_mp4-0015_jpg.rf.45d9512d1943e2b4bc37a8d292dea9e6.txt (deflated 64%)\n",
            "  adding: content/robo_chess-4/train/labels/20250602_140847_mp4-0005_jpg.rf.04da9ec72625b5179935de44f8e0fb7c.txt (deflated 13%)\n",
            "  adding: content/robo_chess-4/train/labels/20250530_145608_jpg.rf.d479eabc320d52f97c9f5f2df44c4eef.txt (deflated 33%)\n",
            "  adding: content/robo_chess-4/train/labels/20250602_140905_mp4-0001_jpg.rf.6056098da2fe54426f2b09bb273c47b7.txt (deflated 61%)\n",
            "  adding: content/robo_chess-4/train/labels/20250602_140812_mp4-0003_jpg.rf.f19a6b27de9b2d250c75823dc8403177.txt (deflated 35%)\n",
            "  adding: content/robo_chess-4/train/labels/20250602_140741_mp4-0003_jpg.rf.e1e848eaf0009e95942f89ad5b14a788.txt (deflated 34%)\n",
            "  adding: content/robo_chess-4/train/labels/20250602_140652_mp4-0000_jpg.rf.e3a1cfcf4557c246809a22f4ecbf1c31.txt (deflated 21%)\n",
            "  adding: content/robo_chess-4/train/labels/20250602_140652_mp4-0005_jpg.rf.1181c6e2c2d50dfd589aeb7b32dac6bd.txt (deflated 33%)\n",
            "  adding: content/robo_chess-4/train/labels/20250602_140905_mp4-0008_jpg.rf.11c1887af188aa6e7b56157cc726417c.txt (deflated 61%)\n",
            "  adding: content/robo_chess-4/train/labels/20250602_140741_mp4-0007_jpg.rf.6b5e6c71d3bc5470518cf18b64165dfb.txt (deflated 29%)\n",
            "  adding: content/robo_chess-4/train/labels/20250602_131352_mp4-0003_jpg.rf.1ac54055724eabd00403f79b692d9877.txt (deflated 18%)\n",
            "  adding: content/robo_chess-4/train/labels/20250602_131257_mp4-0007_jpg.rf.364da5eebb1c98be182b9853879c54b6.txt (deflated 69%)\n",
            "  adding: content/robo_chess-4/train/labels/20250602_140905_mp4-0018_jpg.rf.1820e2ec550e6ba06ca8f6666f6828cb.txt (deflated 64%)\n",
            "  adding: content/robo_chess-4/train/labels/20250530_145447_jpg.rf.a48d68aff25748db7fa7e3f1690b5e84.txt (deflated 52%)\n",
            "  adding: content/robo_chess-4/train/labels/20250602_140905_mp4-0001_jpg.rf.6f8c98a9387ab42ff0e37515ab83e36e.txt (deflated 59%)\n",
            "  adding: content/robo_chess-4/train/labels/20250602_131427_mp4-0011_jpg.rf.ce4b99d02a3f55589abf17153a8a97f3.txt (deflated 29%)\n",
            "  adding: content/robo_chess-4/train/labels/20250602_140905_mp4-0018_jpg.rf.a47759e1ca25d163f4dc2540e0d8f851.txt (deflated 63%)\n",
            "  adding: content/robo_chess-4/train/labels/20250602_131352_mp4-0010_jpg.rf.8d510e37016c0a583c928acb5e66837c.txt (deflated 25%)\n",
            "  adding: content/robo_chess-4/train/labels/20250602_131257_mp4-0013_jpg.rf.68ee4fce99b566ab65f4ab779627ab35.txt (deflated 73%)\n",
            "  adding: content/robo_chess-4/train/labels/20250602_131320_mp4-0009_jpg.rf.2b393087d3dec2ae9ed84a3d3aeabd05.txt (deflated 19%)\n",
            "  adding: content/robo_chess-4/train/labels/20250602_131427_mp4-0006_jpg.rf.9de1d947c25934f0c829f03edb00a7ce.txt (deflated 61%)\n",
            "  adding: content/robo_chess-4/train/labels/20250602_131427_mp4-0005_jpg.rf.445e696b62ebfb6bb24531df7a4d3de4.txt (deflated 18%)\n",
            "  adding: content/robo_chess-4/train/labels/20250602_131448_mp4-0010_jpg.rf.066c098814b74a68b861d46730ac4626.txt (deflated 30%)\n",
            "  adding: content/robo_chess-4/train/labels/20250602_131257_mp4-0014_jpg.rf.e6e4a543eeeecbe796e6e44ca992e41c.txt (deflated 32%)\n",
            "  adding: content/robo_chess-4/train/labels/20250602_140652_mp4-0003_jpg.rf.fbfeac9560d430a87cb86946e09624fb.txt (deflated 32%)\n",
            "  adding: content/robo_chess-4/train/labels/20250602_140741_mp4-0010_jpg.rf.6908bd2afe0bddabca6edc8f836d56a7.txt (deflated 23%)\n",
            "  adding: content/robo_chess-4/train/labels/20250602_131448_mp4-0003_jpg.rf.6e5d98e86dce2c7ef51d388d041ab7b7.txt (deflated 28%)\n",
            "  adding: content/robo_chess-4/train/labels/20250602_131352_mp4-0000_jpg.rf.740dae0099d5e7943c0bec8737d50761.txt (deflated 62%)\n",
            "  adding: content/robo_chess-4/train/labels/20250602_131352_mp4-0015_jpg.rf.499eee2f876fccd8e981186cee117df0.txt (deflated 18%)\n",
            "  adding: content/robo_chess-4/train/labels/20250602_131352_mp4-0014_jpg.rf.8e5d9a6be53f33f62e129e21f416add5.txt (deflated 22%)\n",
            "  adding: content/robo_chess-4/train/labels/20250602_140812_mp4-0001_jpg.rf.0ccce2c425d6e64359f584bfe6bf2cf3.txt (deflated 33%)\n",
            "  adding: content/robo_chess-4/train/labels/20250530_145442_jpg.rf.31e3e073f79b67c5f023b9e33174bd28.txt (deflated 58%)\n",
            "  adding: content/robo_chess-4/train/labels/20250602_131320_mp4-0007_jpg.rf.dd1aaf5197b876e69b694c0e36ae2ab8.txt (deflated 34%)\n",
            "  adding: content/robo_chess-4/train/labels/20250602_140614_mp4-0002_jpg.rf.0915b125dd211941d4e9df15d24499e1.txt (deflated 36%)\n",
            "  adding: content/robo_chess-4/train/labels/20250602_140812_mp4-0007_jpg.rf.05041f9ac9114704d6fee0aae55132e2.txt (deflated 41%)\n",
            "  adding: content/robo_chess-4/train/labels/20250530_145557_jpg.rf.a6aeb78e212c8c5f73f36d3cf3023e9a.txt (deflated 62%)\n",
            "  adding: content/robo_chess-4/train/labels/20250602_140652_mp4-0000_jpg.rf.10e9181ab6d2f905290175c4743fa700.txt (deflated 35%)\n",
            "  adding: content/robo_chess-4/train/labels/20250602_131448_mp4-0002_jpg.rf.5457df89532d05471b3fd9066c1172ff.txt (deflated 41%)\n",
            "  adding: content/robo_chess-4/train/labels/20250602_140847_mp4-0004_jpg.rf.08bb9fdb029a80c13d35f34d3c8b5a2f.txt (deflated 19%)\n",
            "  adding: content/robo_chess-4/train/labels/20250602_140652_mp4-0012_jpg.rf.92bc9cf3918dbdf1c5600da3ff4715f0.txt (deflated 14%)\n",
            "  adding: content/robo_chess-4/train/labels/20250602_140741_mp4-0001_jpg.rf.798110f1fc2c3182662973a3dbfc49f1.txt (deflated 40%)\n",
            "  adding: content/robo_chess-4/train/labels/20250602_140741_mp4-0010_jpg.rf.4152f87e3ddc014acac63f5fe8c6f988.txt (deflated 25%)\n",
            "  adding: content/robo_chess-4/train/labels/20250601_123831_jpg.rf.38e3cbe4717f11c4e9fc1bffa9613933.txt (deflated 69%)\n",
            "  adding: content/robo_chess-4/train/labels/20250601_123915_jpg.rf.3e7067e132718ee4a3e3c1f8fd41855d.txt (deflated 69%)\n",
            "  adding: content/robo_chess-4/train/labels/20250602_131448_mp4-0010_jpg.rf.e7b50e83e99bf232b038ec1d2fc85837.txt (deflated 20%)\n",
            "  adding: content/robo_chess-4/train/labels/20250601_123822_jpg.rf.874bf736e924a6b6effdf4d89817803e.txt (deflated 70%)\n",
            "  adding: content/robo_chess-4/train/labels/20250602_131257_mp4-0014_jpg.rf.2527ca2c27cfcaa21b8ed68cd09bbc84.txt (deflated 37%)\n",
            "  adding: content/robo_chess-4/train/labels/20250602_140847_mp4-0014_jpg.rf.df0b20528f6495aa60cb9a7011419cce.txt (deflated 26%)\n",
            "  adding: content/robo_chess-4/train/labels/20250602_140812_mp4-0002_jpg.rf.6302c767db45a6dc1f0d537efe72f1a6.txt (deflated 13%)\n",
            "  adding: content/robo_chess-4/train/labels/20250602_140905_mp4-0019_jpg.rf.7930671c1acfef12200225f7f6d0998d.txt (deflated 63%)\n",
            "  adding: content/robo_chess-4/train/labels/20250602_140652_mp4-0004_jpg.rf.733276cf41c01037f293541be38d04b9.txt (deflated 25%)\n",
            "  adding: content/robo_chess-4/train/labels/20250602_140905_mp4-0000_jpg.rf.f83ba5d2ebea4e2b20da169d65131dae.txt (deflated 54%)\n",
            "  adding: content/robo_chess-4/train/labels/20250602_140905_mp4-0010_jpg.rf.1b5b6eaa392789ce09d836c5b45e0d27.txt (deflated 62%)\n",
            "  adding: content/robo_chess-4/train/labels/20250601_123950_jpg.rf.98c793f3987fe7e6478a009428c9d4a1.txt (deflated 68%)\n",
            "  adding: content/robo_chess-4/train/labels/20250602_131448_mp4-0010_jpg.rf.fd62fc00ec0296ed7e15838e3f900736.txt (deflated 36%)\n",
            "  adding: content/robo_chess-4/train/labels/20250530_145445_jpg.rf.8340fa93b8e6c62d847f614c34642dd5.txt (deflated 48%)\n",
            "  adding: content/robo_chess-4/train/labels/20250602_140847_mp4-0013_jpg.rf.06a62bb3839a1b84c448225a96f47a07.txt (deflated 20%)\n",
            "  adding: content/robo_chess-4/train/labels/20250602_140652_mp4-0006_jpg.rf.cd15c954e40977a71971361e1c3a7b2b.txt (deflated 35%)\n",
            "  adding: content/robo_chess-4/train/labels/20250602_140812_mp4-0016_jpg.rf.713dcd6f1eeb54b0691e1d8940fe47fa.txt (deflated 33%)\n",
            "  adding: content/robo_chess-4/train/labels/20250602_140716_mp4-0005_jpg.rf.73ab0421846eaf33c8eb795c8b9328fe.txt (deflated 41%)\n",
            "  adding: content/robo_chess-4/train/labels/20250602_140905_mp4-0005_jpg.rf.48be1a9719e21d7a8dbd76b12905ddf1.txt (deflated 64%)\n",
            "  adding: content/robo_chess-4/train/labels/20250530_145445_jpg.rf.2011bc6c7b13afba3ea0ae9a54cc72b5.txt (deflated 53%)\n",
            "  adding: content/robo_chess-4/train/labels/20250602_140652_mp4-0013_jpg.rf.2ac6969f2c5d36fb0daa203778bc7218.txt (deflated 19%)\n",
            "  adding: content/robo_chess-4/train/labels/20250602_140905_mp4-0005_jpg.rf.37a8ec78bfd8cfc50c0bc51fa65ede9d.txt (deflated 64%)\n",
            "  adding: content/robo_chess-4/train/labels/20250602_131352_mp4-0014_jpg.rf.a29f66ebe4a83e5efe6184254a507005.txt (deflated 38%)\n",
            "  adding: content/robo_chess-4/train/labels/20250530_145537_jpg.rf.4345885fbe40960ee30eddad67b29f5a.txt (deflated 40%)\n",
            "  adding: content/robo_chess-4/train/labels/20250602_131615_mp4-0002_jpg.rf.629672489582349697f75ebbdc7fe48e.txt (deflated 67%)\n",
            "  adding: content/robo_chess-4/train/labels/20250530_145457_jpg.rf.03696ad742953b8819411b4228cb7824.txt (deflated 28%)\n",
            "  adding: content/robo_chess-4/train/labels/20250530_145342_jpg.rf.a8e3bff031647133bd170edfa790a1c7.txt (deflated 69%)\n",
            "  adding: content/robo_chess-4/train/labels/20250602_131320_mp4-0013_jpg.rf.d1af39bcd0503fcf6e7d3aff3654aac6.txt (deflated 62%)\n",
            "  adding: content/robo_chess-4/train/labels/20250602_131320_mp4-0014_jpg.rf.3f81b0498091358a6ce32f39b281a036.txt (deflated 18%)\n",
            "  adding: content/robo_chess-4/train/labels/20250602_140614_mp4-0010_jpg.rf.933a50cb635d7b9089526f68039990c4.txt (stored 0%)\n",
            "  adding: content/robo_chess-4/train/labels/20250530_145447_jpg.rf.47decfa5f5962f89da395f26b62d5390.txt (deflated 48%)\n",
            "  adding: content/robo_chess-4/train/labels/20250602_131320_mp4-0012_jpg.rf.36569621f1932754173b0e6fb3279512.txt (deflated 34%)\n",
            "  adding: content/robo_chess-4/train/labels/20250602_140847_mp4-0004_jpg.rf.f32968ae0966058c79122e9cef5de2db.txt (deflated 37%)\n",
            "  adding: content/robo_chess-4/train/labels/20250602_131257_mp4-0010_jpg.rf.ce46eea63a9cdf4a0a13717bee4dcf7c.txt (deflated 38%)\n",
            "  adding: content/robo_chess-4/train/labels/20250602_131320_mp4-0009_jpg.rf.604da0ee15b24e4379451d5dd985a985.txt (deflated 37%)\n",
            "  adding: content/robo_chess-4/train/labels/20250602_140847_mp4-0007_jpg.rf.7043015b3dd6430eaa02117c617f81c7.txt (deflated 38%)\n",
            "  adding: content/robo_chess-4/train/labels/20250602_140905_mp4-0013_jpg.rf.d02d1ee3fe31c9535457da9118095de8.txt (deflated 54%)\n",
            "  adding: content/robo_chess-4/train/labels/20250602_140905_mp4-0019_jpg.rf.212b097b2c8c7f0f7a9c94906d181497.txt (deflated 63%)\n",
            "  adding: content/robo_chess-4/train/labels/20250602_140652_mp4-0014_jpg.rf.9a143e0ff52f66a1ca2b0b0f20903267.txt (deflated 39%)\n",
            "  adding: content/robo_chess-4/train/labels/20250601_124025_jpg.rf.06703bb093fc2a7a4d974648abca8b9b.txt (deflated 72%)\n",
            "  adding: content/robo_chess-4/train/labels/20250602_140847_mp4-0010_jpg.rf.5885e686c36684832fd35d8f0d6bae74.txt (deflated 22%)\n",
            "  adding: content/robo_chess-4/train/labels/20250602_140812_mp4-0015_jpg.rf.cbacd391eb706c16937acdc0ee24e43d.txt (deflated 25%)\n",
            "  adding: content/robo_chess-4/train/labels/20250602_140812_mp4-0002_jpg.rf.e14e210b5a3bded108cb5f48410d7080.txt (deflated 36%)\n",
            "  adding: content/robo_chess-4/train/labels/20250602_140847_mp4-0005_jpg.rf.9376d17acd4b1782baa69a2280bc5494.txt (deflated 35%)\n",
            "  adding: content/robo_chess-4/train/labels/20250602_131615_mp4-0014_jpg.rf.3b8336540e4fa894455360598aae3a40.txt (deflated 64%)\n",
            "  adding: content/robo_chess-4/train/labels/20250602_140812_mp4-0014_jpg.rf.7b4312aa592b21a470948ddc31b6e434.txt (deflated 35%)\n",
            "  adding: content/robo_chess-4/train/labels/20250602_140614_mp4-0009_jpg.rf.b1b0a5dcc016c28b93d6d8f5f56847c1.txt (deflated 33%)\n",
            "  adding: content/robo_chess-4/train/labels/20250602_131352_mp4-0006_jpg.rf.8db6707a1d1a610b4817b1f4f0951867.txt (deflated 61%)\n",
            "  adding: content/robo_chess-4/train/labels/20250602_140905_mp4-0004_jpg.rf.8ed7ddb869d4c29a9e43fdcb2de39947.txt (deflated 65%)\n",
            "  adding: content/robo_chess-4/train/labels/20250601_123828_jpg.rf.9a20dcd11b4d4790f6d8520ebcfdd075.txt (deflated 68%)\n",
            "  adding: content/robo_chess-4/train/labels/20250530_145608_jpg.rf.490cf1d3ca5c86b92ef142e1169bfb7b.txt (deflated 38%)\n",
            "  adding: content/robo_chess-4/train/labels/20250602_131352_mp4-0011_jpg.rf.89d40ee120983dc264f24a83b0dfee35.txt (deflated 31%)\n",
            "  adding: content/robo_chess-4/train/labels/20250530_145408_jpg.rf.84de1f52423ddbfbbd5d57335a847fb5.txt (deflated 72%)\n",
            "  adding: content/robo_chess-4/train/labels/20250602_131427_mp4-0007_jpg.rf.6d74d2ffdfc7424079be27f1a109686d.txt (deflated 27%)\n",
            "  adding: content/robo_chess-4/train/labels/20250602_131427_mp4-0010_jpg.rf.c403fba82c267a0b3c4a506e5cc0dd6f.txt (deflated 60%)\n",
            "  adding: content/robo_chess-4/train/labels/20250602_131257_mp4-0003_jpg.rf.267b7593538d9f2c9ac677ed8a91d517.txt (deflated 60%)\n",
            "  adding: content/robo_chess-4/train/labels/20250601_124019_jpg.rf.3f4a83a2462251d9ae866260946f1585.txt (deflated 70%)\n",
            "  adding: content/robo_chess-4/train/labels/20250602_140741_mp4-0004_jpg.rf.4c1e65cc025965bf607c745578fb3b3e.txt (deflated 44%)\n",
            "  adding: content/robo_chess-4/train/labels/20250602_140905_mp4-0003_jpg.rf.8ccdc07c50f091377d4477e20443e314.txt (deflated 60%)\n",
            "  adding: content/robo_chess-4/train/labels/20250602_140652_mp4-0008_jpg.rf.d8456cf6fe0991e791d7d6431fb200ec.txt (deflated 22%)\n",
            "  adding: content/robo_chess-4/train/labels/20250530_145525_jpg.rf.8d54ebda0e3c056e64551450a18223f1.txt (deflated 18%)\n",
            "  adding: content/robo_chess-4/train/labels/20250530_145504_jpg.rf.1a8cecf7afe88df7859aa3c68292f3e1.txt (deflated 33%)\n",
            "  adding: content/robo_chess-4/train/labels/20250602_131615_mp4-0005_jpg.rf.0abac8430701d1c94d4adf6b3ddab01b.txt (deflated 64%)\n",
            "  adding: content/robo_chess-4/train/labels/20250602_140847_mp4-0014_jpg.rf.44a19c0817e67ab33006261deb8ab7f8.txt (deflated 40%)\n",
            "  adding: content/robo_chess-4/train/labels/20250602_131352_mp4-0012_jpg.rf.a4f4c69403cba031e60d0d63c096157f.txt (deflated 42%)\n",
            "  adding: content/robo_chess-4/train/labels/20250601_123834_jpg.rf.70472c82418bb59b48a4e11ea4a74063.txt (deflated 70%)\n",
            "  adding: content/robo_chess-4/train/labels/20250602_131615_mp4-0016_jpg.rf.128b80ed14acf44bff157283c9532ad9.txt (deflated 65%)\n",
            "  adding: content/robo_chess-4/train/labels/20250602_140652_mp4-0004_jpg.rf.cc1c5e5002703b40af14711489cf1919.txt (deflated 18%)\n",
            "  adding: content/robo_chess-4/train/labels/20250530_145337_jpg.rf.8c156067b4c115c5b71d460939138a4d.txt (deflated 69%)\n",
            "  adding: content/robo_chess-4/train/labels/20250602_131615_mp4-0012_jpg.rf.60ad2523ae25e887d1238a9ef8f5deed.txt (deflated 65%)\n",
            "  adding: content/robo_chess-4/train/labels/20250530_145447_jpg.rf.3c586c425da10a7a06d827ebb9cf4869.txt (deflated 44%)\n",
            "  adding: content/robo_chess-4/train/labels/20250602_140741_mp4-0001_jpg.rf.2a37e765ccea0f1df89c6f2e4c4eea38.txt (deflated 38%)\n",
            "  adding: content/robo_chess-4/train/labels/20250602_140614_mp4-0003_jpg.rf.bc573c72722d91f15386ff7450b55c00.txt (deflated 30%)\n",
            "  adding: content/robo_chess-4/train/labels/20250601_123845_jpg.rf.743400ad62abd9aaf212c571d52ef4d7.txt (deflated 69%)\n",
            "  adding: content/robo_chess-4/train/labels/20250601_123954_jpg.rf.eb46973d63a04aad24dd26316eab26b0.txt (deflated 73%)\n",
            "  adding: content/robo_chess-4/train/labels/20250602_131615_mp4-0011_jpg.rf.1f50d8b7ba7a17cdacb8aad93ca9a398.txt (deflated 76%)\n",
            "  adding: content/robo_chess-4/train/labels/20250602_140741_mp4-0010_jpg.rf.01d943205d640fc72d9703ea7b920337.txt (deflated 36%)\n",
            "  adding: content/robo_chess-4/train/labels/20250602_140812_mp4-0013_jpg.rf.8c1b8bbab818f1e6574972b2d9a4b2b2.txt (deflated 43%)\n",
            "  adding: content/robo_chess-4/train/labels/20250602_131352_mp4-0000_jpg.rf.6931c1696aa37bf71efb2b6572f48f74.txt (deflated 61%)\n",
            "  adding: content/robo_chess-4/train/labels/20250602_140716_mp4-0004_jpg.rf.fbad69a16ec685371b51c4d6e218e761.txt (deflated 35%)\n",
            "  adding: content/robo_chess-4/train/labels/20250602_140614_mp4-0005_jpg.rf.b5d172667f14b003d8eea9ccf2abb61a.txt (deflated 17%)\n",
            "  adding: content/robo_chess-4/train/labels/20250602_131352_mp4-0013_jpg.rf.0429cae73a8e2aa704b5ec0e57dd2adb.txt (deflated 33%)\n",
            "  adding: content/robo_chess-4/train/labels/20250602_131257_mp4-0008_jpg.rf.8364cfe5c61cef2dfff5e06299f0f8de.txt (deflated 38%)\n",
            "  adding: content/robo_chess-4/train/labels/20250602_131448_mp4-0009_jpg.rf.1bf8fc4d1b30e3bfd80d7c418f34cee2.txt (deflated 60%)\n",
            "  adding: content/robo_chess-4/train/labels/20250601_124001_jpg.rf.4cae51227962acc055db234345f4dd8f.txt (deflated 73%)\n",
            "  adding: content/robo_chess-4/train/labels/20250602_131320_mp4-0016_jpg.rf.beb560fc17b88d73b884140357275d5f.txt (deflated 23%)\n",
            "  adding: content/robo_chess-4/train/labels/20250602_131427_mp4-0003_jpg.rf.d3de28975080b63548d901e86e4acd5b.txt (deflated 26%)\n",
            "  adding: content/robo_chess-4/train/labels/20250602_131517_mp4-0012_jpg.rf.d38423f2672ea121abbc6d85bd366be8.txt (deflated 32%)\n",
            "  adding: content/robo_chess-4/train/labels/20250602_140812_mp4-0011_jpg.rf.362cde4e1d54aab7f86aa2c4ddc0f6c9.txt (deflated 18%)\n",
            "  adding: content/robo_chess-4/train/labels/20250601_123831_jpg.rf.0888e3547dd8cdaed916bce8d385da4a.txt (deflated 73%)\n",
            "  adding: content/robo_chess-4/train/labels/20250530_145457_jpg.rf.091a4c9c0052534a2ce7bd24927a02cd.txt (deflated 33%)\n",
            "  adding: content/robo_chess-4/train/labels/20250530_145439_jpg.rf.59e7d0b481a9805806560a7d603469e4.txt (deflated 50%)\n",
            "  adding: content/robo_chess-4/train/labels/20250602_131448_mp4-0008_jpg.rf.f777a69052cb836f38b18cd7a13ec077.txt (deflated 62%)\n",
            "  adding: content/robo_chess-4/train/labels/20250602_140847_mp4-0005_jpg.rf.785897f888dab45a81bdc22465dd97c6.txt (deflated 37%)\n",
            "  adding: content/robo_chess-4/train/labels/20250602_140812_mp4-0001_jpg.rf.94a47b39c7fe89c9d6c98347e352b419.txt (deflated 37%)\n",
            "  adding: content/robo_chess-4/train/labels/20250602_140905_mp4-0004_jpg.rf.ca0d7b0c928072ba5f5058fc8c63abbe.txt (deflated 63%)\n",
            "  adding: content/robo_chess-4/train/labels/20250530_145315_jpg.rf.9da44ae48a43ee52f42ecbe56eb8bdf2.txt (deflated 70%)\n",
            "  adding: content/robo_chess-4/train/labels/20250530_145525_jpg.rf.c5758b917154648a5316049e815c8980.txt (deflated 35%)\n",
            "  adding: content/robo_chess-4/train/labels/20250602_131448_mp4-0005_jpg.rf.649c80f5b6487ecf210fe29ad7b6c21c.txt (deflated 38%)\n",
            "  adding: content/robo_chess-4/train/labels/20250601_123915_jpg.rf.54c22d06c4f7dcaee0abf510d0a7fc82.txt (deflated 68%)\n",
            "  adding: content/robo_chess-4/train/labels/20250601_123950_jpg.rf.8a78e99e9e21e319993b4bf8f2c100bd.txt (deflated 72%)\n",
            "  adding: content/robo_chess-4/train/labels/20250602_131517_mp4-0008_jpg.rf.671c928d6a53e651b75626cee9600e74.txt (deflated 16%)\n",
            "  adding: content/robo_chess-4/train/labels/20250602_131615_mp4-0003_jpg.rf.77eba5c7476c7f98a5bfd4bff30dfa78.txt (deflated 67%)\n",
            "  adding: content/robo_chess-4/train/labels/20250602_131448_mp4-0005_jpg.rf.94c54695dd57c395fdb25129510c4104.txt (deflated 25%)\n",
            "  adding: content/robo_chess-4/train/labels/20250602_140652_mp4-0009_jpg.rf.506fe5d7fd80989f256dc53ba64f8bc8.txt (deflated 38%)\n",
            "  adding: content/robo_chess-4/train/labels/20250530_145442_jpg.rf.c83c8af2fd2cde990c3ae3bac638cd07.txt (deflated 50%)\n",
            "  adding: content/robo_chess-4/train/labels/20250602_140716_mp4-0000_jpg.rf.460ff806c22df944c956eee300c95025.txt (stored 0%)\n",
            "  adding: content/robo_chess-4/train/labels/20250602_131615_mp4-0005_jpg.rf.7153796ac2052f055b5e57a89e2e7024.txt (deflated 66%)\n",
            "  adding: content/robo_chess-4/train/labels/20250602_131615_mp4-0015_jpg.rf.aa68e3cde08bd653aa1b16d1fb424ab6.txt (deflated 64%)\n",
            "  adding: content/robo_chess-4/train/labels/20250602_131615_mp4-0001_jpg.rf.e3b0446dcabcd5cfe21cae04cfedcacb.txt (deflated 69%)\n",
            "  adding: content/robo_chess-4/train/labels/20250530_145557_jpg.rf.b83f788d6867135f23b4ec53f1ce6128.txt (deflated 52%)\n",
            "  adding: content/robo_chess-4/train/labels/20250602_140652_mp4-0007_jpg.rf.e088385d4ee5deecda2b62c8b9c8eb63.txt (deflated 21%)\n",
            "  adding: content/robo_chess-4/train/labels/20250602_131257_mp4-0003_jpg.rf.238e2220e89186dba3e40be89fe29856.txt (deflated 69%)\n",
            "  adding: content/robo_chess-4/train/labels/20250602_131517_mp4-0001_jpg.rf.5a3eaa2d3dba0639c8d4f548caa5a37b.txt (deflated 37%)\n",
            "  adding: content/robo_chess-4/train/labels/20250602_131352_mp4-0003_jpg.rf.52dcf2b924d1b79f108bdfd43f21df46.txt (deflated 35%)\n",
            "  adding: content/robo_chess-4/train/labels/20250602_131320_mp4-0016_jpg.rf.5a77074f06042853a17358a7962d5015.txt (deflated 39%)\n",
            "  adding: content/robo_chess-4/train/labels/20250602_140652_mp4-0017_jpg.rf.b16ab0f5f6391b9dee2ca3663b6afed8.txt (deflated 22%)\n",
            "  adding: content/robo_chess-4/train/labels/20250602_140847_mp4-0013_jpg.rf.19da801e9b84f8f456d7d43fe7a42671.txt (deflated 39%)\n",
            "  adding: content/robo_chess-4/train/labels/20250602_131448_mp4-0009_jpg.rf.8afe0ced8394f95d91c092c011b6d601.txt (deflated 67%)\n",
            "  adding: content/robo_chess-4/train/labels/20250602_131352_mp4-0013_jpg.rf.42a617d6fa500fbbef050e310a03d024.txt (deflated 37%)\n",
            "  adding: content/robo_chess-4/train/labels/20250530_145337_jpg.rf.4b6885c4e9711b3b8c856035dc4c1df9.txt (deflated 69%)\n",
            "  adding: content/robo_chess-4/train/labels/20250530_145517_jpg.rf.fe9089f4380198228fa02e4e6adbedcb.txt (deflated 17%)\n",
            "  adding: content/robo_chess-4/train/labels/20250602_131615_mp4-0004_jpg.rf.b32bf09cbcd77554ef7da81e4c3ddc41.txt (deflated 65%)\n",
            "  adding: content/robo_chess-4/train/labels/20250602_131448_mp4-0002_jpg.rf.e843fc40799820f2306842265912ef04.txt (deflated 37%)\n",
            "  adding: content/robo_chess-4/train/labels/20250602_140614_mp4-0009_jpg.rf.93a2bb00f404a7f9b3df0a34b173cfbe.txt (deflated 14%)\n",
            "  adding: content/robo_chess-4/train/labels/20250602_131257_mp4-0011_jpg.rf.b05116889ce51634c6387a9e84df5cf4.txt (deflated 31%)\n",
            "  adding: content/robo_chess-4/train/labels/20250602_140847_mp4-0007_jpg.rf.e0f84df0593aacf7ed0c134ba7c4965c.txt (deflated 14%)\n",
            "  adding: content/robo_chess-4/train/labels/20250602_140847_mp4-0007_jpg.rf.d9412c82c18027cb92dabe97e6040607.txt (deflated 39%)\n",
            "  adding: content/robo_chess-4/train/labels/20250602_131257_mp4-0008_jpg.rf.ad2945fadb3f296957fa81f99f2a3748.txt (deflated 35%)\n",
            "  adding: content/robo_chess-4/train/labels/20250601_123816_jpg.rf.aca3e1a5a8a5fca98074062a4de379ff.txt (deflated 68%)\n",
            "  adding: content/robo_chess-4/train/labels/20250602_140847_mp4-0009_jpg.rf.89bf3265d10abf57e91a397e657753c3.txt (deflated 35%)\n",
            "  adding: content/robo_chess-4/train/labels/20250602_140652_mp4-0008_jpg.rf.de49394ce69b371fffae5ed7525dc7ff.txt (deflated 29%)\n",
            "  adding: content/robo_chess-4/train/labels/20250602_131427_mp4-0007_jpg.rf.a1472e721866be927c3a391734a209fd.txt (deflated 31%)\n",
            "  adding: content/robo_chess-4/train/labels/20250602_131448_mp4-0008_jpg.rf.15a29503b8f274628bd17b1f3ae5987a.txt (deflated 71%)\n",
            "  adding: content/robo_chess-4/train/labels/20250602_131257_mp4-0000_jpg.rf.9a7d14ab6de50af345ef43397ad21840.txt (deflated 60%)\n",
            "  adding: content/robo_chess-4/train/labels/20250602_140652_mp4-0014_jpg.rf.b324f69aa074430e29fcd54a6bebde6b.txt (deflated 26%)\n",
            "  adding: content/robo_chess-4/train/labels/20250601_123839_jpg.rf.9b7b02860ce692a78d620898587d7df8.txt (deflated 69%)\n",
            "  adding: content/robo_chess-4/train/labels/20250602_140905_mp4-0012_jpg.rf.0b0975206df63e0db317f61fe2b11794.txt (deflated 50%)\n",
            "  adding: content/robo_chess-4/train/labels/20250601_123816_jpg.rf.f966a92497ac49255e32826e57f1d7d3.txt (deflated 73%)\n",
            "  adding: content/robo_chess-4/train/labels/20250602_140716_mp4-0001_jpg.rf.c8bf8d0f0413c98b36a347cc48b0e05d.txt (deflated 36%)\n",
            "  adding: content/robo_chess-4/train/labels/20250602_140614_mp4-0013_jpg.rf.daebe0b5bb4bbaf9ae18645f0570b0f2.txt (deflated 28%)\n",
            "  adding: content/robo_chess-4/train/labels/20250602_131517_mp4-0008_jpg.rf.2ce67f36d55a573606aa4bdccb9f33b9.txt (deflated 34%)\n",
            "  adding: content/robo_chess-4/train/labels/20250530_145408_jpg.rf.f4572ef02c135dedb9f5d35d452a2ab8.txt (deflated 71%)\n",
            "  adding: content/robo_chess-4/train/labels/20250530_145520_jpg.rf.9860f5c1039698a7199f2162aafb9aab.txt (deflated 20%)\n",
            "  adding: content/robo_chess-4/train/labels/20250602_131352_mp4-0012_jpg.rf.083c59c7dfd2fcf1528b109412e53888.txt (deflated 22%)\n",
            "  adding: content/robo_chess-4/train/labels/20250602_131615_mp4-0014_jpg.rf.60b6d6963bb1f1561cdda6dda256abd0.txt (deflated 67%)\n",
            "  adding: content/robo_chess-4/train/labels/20250602_131320_mp4-0015_jpg.rf.93ff4da1940dcd5a60587b4dfad83758.txt (deflated 31%)\n",
            "  adding: content/robo_chess-4/train/labels/20250602_131320_mp4-0008_jpg.rf.740841847edda99ab29768b83f26279c.txt (deflated 13%)\n",
            "  adding: content/robo_chess-4/train/labels/20250530_145412_jpg.rf.73dc9330ada2358a5843437c6a6562f1.txt (deflated 72%)\n",
            "  adding: content/robo_chess-4/train/labels/20250530_145327_jpg.rf.1fe5631b93384f2b3de7313ef8f5f215.txt (deflated 72%)\n",
            "  adding: content/robo_chess-4/train/labels/20250602_140652_mp4-0016_jpg.rf.2e754c7b938097e877aa439b5768437b.txt (deflated 43%)\n",
            "  adding: content/robo_chess-4/train/labels/20250602_131615_mp4-0013_jpg.rf.75f7e58b07ba93b7e901567567e4f1d6.txt (deflated 63%)\n",
            "  adding: content/robo_chess-4/train/labels/20250602_131615_mp4-0015_jpg.rf.ca81bd1837b5886a8b3e4d878bf3a633.txt (deflated 67%)\n",
            "  adding: content/robo_chess-4/train/labels/20250601_124007_jpg.rf.6d2d756beeafb71781b199315af0ea75.txt (deflated 72%)\n",
            "  adding: content/robo_chess-4/train/labels/20250601_123841_jpg.rf.c7bd356cb5e2050701c9bcd826307723.txt (deflated 69%)\n",
            "  adding: content/robo_chess-4/train/labels/20250530_145517_jpg.rf.39581dbe91270f8e89cada910f0dc192.txt (deflated 34%)\n",
            "  adding: content/robo_chess-4/train/labels/20250602_140812_mp4-0005_jpg.rf.328df06caa98d09a1a70e165275cce1b.txt (deflated 35%)\n",
            "  adding: content/robo_chess-4/train/labels/20250530_145439_jpg.rf.e692508c038bfee6203038e78ed743c6.txt (deflated 52%)\n",
            "  adding: content/robo_chess-4/train/labels/20250601_124005_jpg.rf.b5ca7a34c677f08e15135f520f0f170b.txt (deflated 72%)\n",
            "  adding: content/robo_chess-4/train/labels/20250602_131427_mp4-0004_jpg.rf.42a07ed9003492d9ebb6ec39132546bd.txt (deflated 30%)\n",
            "  adding: content/robo_chess-4/train/labels/20250530_145315_jpg.rf.497e6fe12ff97f791b188f16ee5fb686.txt (deflated 69%)\n",
            "  adding: content/robo_chess-4/train/labels/20250602_140716_mp4-0007_jpg.rf.0937aff1c07d5b4c68142f1cf6c142fc.txt (deflated 34%)\n",
            "  adding: content/robo_chess-4/train/labels/20250530_145412_jpg.rf.9e66b114bbb7d284baa688245a7eba3f.txt (deflated 67%)\n",
            "  adding: content/robo_chess-4/train/labels/20250602_140812_mp4-0016_jpg.rf.fe67a0dd7539dacaa75f5fcce7257b5a.txt (deflated 27%)\n",
            "  adding: content/robo_chess-4/train/labels/20250602_131257_mp4-0010_jpg.rf.c0b5094b5d0a0bcc2cb786feb3973428.txt (deflated 29%)\n",
            "  adding: content/robo_chess-4/train/labels/20250530_145342_jpg.rf.db757be10ab9ceaffec2821c9947ecb3.txt (deflated 72%)\n",
            "  adding: content/robo_chess-4/train/labels/20250602_131517_mp4-0011_jpg.rf.b6ed5fcf8094e8091b1e31b719c389e1.txt (deflated 19%)\n",
            "  adding: content/robo_chess-4/train/labels/20250602_131320_mp4-0014_jpg.rf.b72247c9b494aa18b601d9227f9f6139.txt (deflated 35%)\n",
            "  adding: content/robo_chess-4/train/labels/20250602_140716_mp4-0007_jpg.rf.659b9a7629f26c6c374d411e0da4f29a.txt (deflated 37%)\n",
            "  adding: content/robo_chess-4/train/labels/20250602_131427_mp4-0012_jpg.rf.8676d33b688ded6cf93edf8c6e05bb67.txt (deflated 28%)\n",
            "  adding: content/robo_chess-4/train/labels/20250602_140652_mp4-0000_jpg.rf.7351202fa407d481b430ae51d3077c67.txt (deflated 36%)\n",
            "  adding: content/robo_chess-4/train/labels/20250602_140652_mp4-0002_jpg.rf.bb131098235a33896e932d76fbfcbf5e.txt (deflated 20%)\n",
            "  adding: content/robo_chess-4/train/labels/20250530_145520_jpg.rf.fc90d6bca04a99fe7efc1c49be7c32d9.txt (deflated 35%)\n",
            "  adding: content/robo_chess-4/train/labels/20250530_145552_jpg.rf.7dbc0410466b0130b560670b284001af.txt (deflated 33%)\n",
            "  adding: content/robo_chess-4/train/labels/20250602_131257_mp4-0011_jpg.rf.fb02a42280860cbfc02e4e771bbed9c0.txt (deflated 35%)\n",
            "  adding: content/robo_chess-4/train/labels/20250602_131517_mp4-0003_jpg.rf.a3774aa0d49b4ad73e9beb8cceda630b.txt (deflated 24%)\n",
            "  adding: content/robo_chess-4/train/labels/20250602_140905_mp4-0003_jpg.rf.97ede8c4849106a60193797b340f9947.txt (deflated 63%)\n",
            "  adding: content/robo_chess-4/train/labels/20250602_131257_mp4-0000_jpg.rf.c1011f566d8fe49319b2bd6c44a3bacd.txt (deflated 61%)\n",
            "  adding: content/robo_chess-4/train/labels/20250602_140905_mp4-0013_jpg.rf.1ef70c28e50492a6a1cb1a8ae878744f.txt (deflated 61%)\n",
            "  adding: content/robo_chess-4/train/labels/20250602_131448_mp4-0005_jpg.rf.6f6a46002c2779df769022532ccdb1b9.txt (deflated 33%)\n",
            "  adding: content/robo_chess-4/train/labels/20250602_140652_mp4-0009_jpg.rf.a1b7488bb519725ad7209766d933de51.txt (deflated 26%)\n",
            "  adding: content/robo_chess-4/train/labels/20250602_140652_mp4-0005_jpg.rf.68b4f33c154054fd84fe2e7740f3dc1f.txt (deflated 40%)\n",
            "  adding: content/robo_chess-4/train/labels/20250602_140652_mp4-0002_jpg.rf.dbbfae28bf8f3954f120b62057df0997.txt (deflated 19%)\n",
            "  adding: content/robo_chess-4/train/labels/20250601_123855_jpg.rf.ba625988d4bbe3b30df209d8938e29c4.txt (deflated 69%)\n",
            "  adding: content/robo_chess-4/train/labels/20250602_131517_mp4-0009_jpg.rf.3362c782141f82f1633b7abbe1390b7a.txt (deflated 13%)\n",
            "  adding: content/robo_chess-4/train/labels/20250602_131320_mp4-0009_jpg.rf.c673b4c2a15248b8ba34cea3f236121a.txt (deflated 37%)\n",
            "  adding: content/robo_chess-4/train/labels/20250601_123831_jpg.rf.cc52ff0e4ec3dafbb6f8d46fa0b61d3b.txt (deflated 69%)\n",
            "  adding: content/robo_chess-4/train/labels/20250602_131615_mp4-0003_jpg.rf.49026bc928692c5e4fe308f59de80d6e.txt (deflated 68%)\n",
            "  adding: content/robo_chess-4/train/labels/20250601_124015_jpg.rf.1b5b4b924f9b1e9a75a7fe7aa894a9ac.txt (deflated 69%)\n",
            "  adding: content/robo_chess-4/train/labels/20250530_145525_jpg.rf.99b1c2912a05fd76e836097c5be7b7b8.txt (deflated 40%)\n",
            "  adding: content/robo_chess-4/train/labels/20250530_145359_jpg.rf.4bdb6f85b146acf15f311ede0fe2cde3.txt (deflated 69%)\n",
            "  adding: content/robo_chess-4/train/labels/20250601_123958_jpg.rf.6727494958635e6cec4d716dc7bcce72.txt (deflated 73%)\n",
            "  adding: content/robo_chess-4/train/labels/20250601_123954_jpg.rf.068557f4940598b18d0db3a9c9ef9ec3.txt (deflated 72%)\n",
            "  adding: content/robo_chess-4/train/labels/20250602_140847_mp4-0003_jpg.rf.416b5ecf9e536eca5e1fdbdb1f53d818.txt (deflated 37%)\n",
            "  adding: content/robo_chess-4/train/labels/20250602_131615_mp4-0008_jpg.rf.fb0237ffbfd2cff6239f6b9c75de91fb.txt (deflated 62%)\n",
            "  adding: content/robo_chess-4/train/labels/20250530_145427_jpg.rf.e796be8b953687f77d7b4318df3447b4.txt (deflated 50%)\n",
            "  adding: content/robo_chess-4/train/labels/20250530_145358_jpg.rf.f2b0b57273cb2a7c806ab81b63725a5d.txt (deflated 74%)\n",
            "  adding: content/robo_chess-4/train/labels/20250602_140905_mp4-0000_jpg.rf.746cf3081aaa5f4a283b76079a87df58.txt (deflated 41%)\n",
            "  adding: content/robo_chess-4/train/labels/20250602_140905_mp4-0013_jpg.rf.87d1748ca315f10483419065618ee65b.txt (deflated 60%)\n",
            "  adding: content/robo_chess-4/train/labels/20250602_131427_mp4-0004_jpg.rf.2f58f923c107598a19678d70135c8557.txt (deflated 34%)\n",
            "  adding: content/robo_chess-4/train/labels/20250602_140652_mp4-0016_jpg.rf.84cdaf642087e6a824e8c377b795e290.txt (deflated 32%)\n",
            "  adding: content/robo_chess-4/train/labels/20250601_124025_jpg.rf.02551bbf14ebb32fce58fcb859f50128.txt (deflated 69%)\n",
            "  adding: content/robo_chess-4/train/labels/20250530_145504_jpg.rf.c823f5235346bc361cf8dd7ef17fd42a.txt (deflated 35%)\n",
            "  adding: content/robo_chess-4/train/labels/20250602_140741_mp4-0007_jpg.rf.3c675c28b9f1134e769c0fd8c35351d3.txt (deflated 21%)\n",
            "  adding: content/robo_chess-4/train/labels/20250602_131352_mp4-0011_jpg.rf.2d19e0321215d95871a1734b4067aa25.txt (deflated 23%)\n",
            "  adding: content/robo_chess-4/train/labels/20250602_131517_mp4-0007_jpg.rf.a9bdb4d88c33eb8cfd987f1413799ff2.txt (deflated 37%)\n",
            "  adding: content/robo_chess-4/train/labels/20250530_145405_jpg.rf.e9dfe337e9ea74306cccfd66c180fbf0.txt (deflated 68%)\n",
            "  adding: content/robo_chess-4/train/labels/20250602_131615_mp4-0008_jpg.rf.b2ef8612aae92648d8f3fa2cb521a670.txt (deflated 75%)\n",
            "  adding: content/robo_chess-4/train/labels/20250602_140716_mp4-0000_jpg.rf.679ce6431013e0748d0fc63718ac7fbd.txt (stored 0%)\n",
            "  adding: content/robo_chess-4/train/labels/20250602_131320_mp4-0011_jpg.rf.6b08885ef468b47b373ca03b691fb60c.txt (deflated 23%)\n",
            "  adding: content/robo_chess-4/train/labels/20250602_131257_mp4-0011_jpg.rf.6b6b48f8f13c82c05e4d06de7b7095a7.txt (deflated 20%)\n",
            "  adding: content/robo_chess-4/train/labels/20250602_140652_mp4-0007_jpg.rf.f33047261d32c24a4b31160e2bf1d94f.txt (deflated 36%)\n",
            "  adding: content/robo_chess-4/train/labels/20250530_145340_jpg.rf.b1c7a3e61021fec3d44af304c001f2d1.txt (deflated 69%)\n",
            "  adding: content/robo_chess-4/train/labels/20250602_131320_mp4-0012_jpg.rf.030366ec793478b14438a52c4305bc60.txt (deflated 31%)\n",
            "  adding: content/robo_chess-4/train/labels/20250602_131427_mp4-0005_jpg.rf.73d6d744fa1c5b0f724172f0e5bd738f.txt (deflated 36%)\n",
            "  adding: content/robo_chess-4/train/labels/20250530_145552_jpg.rf.fd99931ee91640373b7507f894d18def.txt (deflated 18%)\n",
            "  adding: content/robo_chess-4/train/labels/20250602_140741_mp4-0008_jpg.rf.1197a7cd7537630db64c77d775475352.txt (deflated 34%)\n",
            "  adding: content/robo_chess-4/train/labels/20250601_123845_jpg.rf.2351e279f6545b9bf9512c3a17d6b6af.txt (deflated 69%)\n",
            "  adding: content/robo_chess-4/train/labels/20250602_140741_mp4-0005_jpg.rf.bc1348a9918f11285a69296fb5c371f0.txt (deflated 39%)\n",
            "  adding: content/robo_chess-4/train/labels/20250602_131352_mp4-0012_jpg.rf.badfd2923a8fe58c9682bbc18e6d36e5.txt (deflated 23%)\n",
            "  adding: content/robo_chess-4/train/labels/20250602_131352_mp4-0002_jpg.rf.e4edfaf44e47183444de71e788f6b333.txt (deflated 62%)\n",
            "  adding: content/robo_chess-4/train/labels/20250602_140652_mp4-0006_jpg.rf.cc616ab12c691a8d61b6b1ed13837934.txt (deflated 37%)\n",
            "  adding: content/robo_chess-4/train/labels/20250602_140847_mp4-0009_jpg.rf.73158535d78e37101b832a775ed0ad84.txt (deflated 18%)\n",
            "  adding: content/robo_chess-4/train/labels/20250602_131320_mp4-0008_jpg.rf.d33e4c4b8cea6ec52833c9ccf5d1efdf.txt (deflated 35%)\n",
            "  adding: content/robo_chess-4/train/labels/20250602_131615_mp4-0002_jpg.rf.5ab3acb712052e56ef8d8f53314bd38a.txt (deflated 65%)\n",
            "  adding: content/robo_chess-4/train/labels/20250602_140847_mp4-0008_jpg.rf.46d0ce7372c277933214d4d5538af3f2.txt (deflated 17%)\n",
            "  adding: content/robo_chess-4/train/labels/20250602_131257_mp4-0007_jpg.rf.a1f668f3b41eddbc7d4e34632ba27d6d.txt (deflated 62%)\n",
            "  adding: content/robo_chess-4/train/labels/20250602_140652_mp4-0009_jpg.rf.07fc40e40700c2683022b8a87d393fec.txt (deflated 32%)\n",
            "  adding: content/robo_chess-4/train/labels/20250602_131352_mp4-0015_jpg.rf.9fc9f88911dd9f396917909445a429d9.txt (deflated 40%)\n",
            "  adding: content/robo_chess-4/train/labels/20250602_131352_mp4-0010_jpg.rf.510940d7f2dc29a959847894fba28c7b.txt (deflated 39%)\n",
            "  adding: content/robo_chess-4/train/labels/20250602_131615_mp4-0011_jpg.rf.ef1f8acb59cda37b6032ea80d919319c.txt (deflated 63%)\n",
            "  adding: content/robo_chess-4/train/labels/20250602_140652_mp4-0005_jpg.rf.f499d99eaf5c04a4607f0cb138676547.txt (deflated 16%)\n",
            "  adding: content/robo_chess-4/train/labels/20250602_131257_mp4-0013_jpg.rf.27c77017a65e72ea68643fc955ff6024.txt (deflated 62%)\n",
            "  adding: content/robo_chess-4/train/labels/20250602_131448_mp4-0002_jpg.rf.768af1aa340aece8847cefa8f7b724b1.txt (deflated 24%)\n",
            "  adding: content/robo_chess-4/train/labels/20250601_123839_jpg.rf.f2dcb72053d1f5d035b8ace76a85489d.txt (deflated 69%)\n",
            "  adding: content/robo_chess-4/train/labels/20250602_131615_mp4-0008_jpg.rf.f980f89ef978d3f65dc5c0af3f4d3ca9.txt (deflated 62%)\n",
            "  adding: content/robo_chess-4/train/labels/20250602_140652_mp4-0003_jpg.rf.56133e9be08c8398b09013dc3a180ce8.txt (deflated 32%)\n",
            "  adding: content/robo_chess-4/train/labels/20250602_131320_mp4-0016_jpg.rf.6facffa075d83280c4a196e4bce9ac4f.txt (deflated 33%)\n",
            "  adding: content/robo_chess-4/train/labels/20250602_140812_mp4-0009_jpg.rf.a626685d562e7fced8004cde9221c13b.txt (deflated 16%)\n",
            "  adding: content/robo_chess-4/train/labels/20250602_131352_mp4-0002_jpg.rf.9b5835172babfb69d99718d06a213760.txt (deflated 71%)\n",
            "  adding: content/robo_chess-4/train/labels/20250602_131320_mp4-0011_jpg.rf.1519e80f9617bc6eaee6ced3a417dce5.txt (deflated 31%)\n",
            "  adding: content/robo_chess-4/train/labels/20250602_140716_mp4-0005_jpg.rf.9483857ab864356a25e6a5a949c36337.txt (deflated 20%)\n",
            "  adding: content/robo_chess-4/train/labels/20250530_145347_jpg.rf.5859deeba2cf7604540506652caed531.txt (deflated 72%)\n",
            "  adding: content/robo_chess-4/train/labels/20250602_131615_mp4-0013_jpg.rf.0ab6a5fc580ba0b4003af83d6ba1b134.txt (deflated 65%)\n",
            "  adding: content/robo_chess-4/train/labels/20250602_131517_mp4-0003_jpg.rf.c9b45af8cdb92e0b1f62b4ec93e9ca4d.txt (deflated 12%)\n",
            "  adding: content/robo_chess-4/train/labels/20250602_140812_mp4-0011_jpg.rf.fc446e0c97de17368782d76e7ba2151a.txt (deflated 33%)\n",
            "  adding: content/robo_chess-4/train/labels/20250602_140614_mp4-0013_jpg.rf.3d061d64003bf3a1be8eeca027cdeadc.txt (deflated 24%)\n",
            "  adding: content/robo_chess-4/train/labels/20250602_140652_mp4-0006_jpg.rf.26ac34cccd99daffed454b3aea861e8a.txt (deflated 17%)\n",
            "  adding: content/robo_chess-4/train/labels/20250602_131517_mp4-0013_jpg.rf.2a34bb01795c59019ccfd859a63556b8.txt (deflated 38%)\n",
            "  adding: content/robo_chess-4/train/labels/20250602_131320_mp4-0011_jpg.rf.d4decad58f3b307c7d995ddb499ebad7.txt (deflated 34%)\n",
            "  adding: content/robo_chess-4/train/labels/20250602_131517_mp4-0009_jpg.rf.690ee13ec69f68134fd67ac93066d701.txt (deflated 40%)\n",
            "  adding: content/robo_chess-4/train/labels/20250602_131517_mp4-0006_jpg.rf.2e105ee5f01ef39b7c818a7a29542583.txt (deflated 43%)\n",
            "  adding: content/robo_chess-4/train/labels/20250602_131615_mp4-0012_jpg.rf.dd42f7f912913c29635ac8503fe373b5.txt (deflated 63%)\n",
            "  adding: content/robo_chess-4/train/labels/20250602_140741_mp4-0003_jpg.rf.ae9272accddfd4dac3c8557c100aa4fb.txt (deflated 14%)\n",
            "  adding: content/robo_chess-4/train/labels/20250602_140716_mp4-0001_jpg.rf.9039073cb399f896f53e10578eb70e79.txt (deflated 38%)\n",
            "  adding: content/robo_chess-4/train/labels/20250602_131517_mp4-0007_jpg.rf.1eb3a9047b0b2cd491b4135cee799179.txt (deflated 24%)\n",
            "  adding: content/robo_chess-4/train/labels/20250602_140652_mp4-0011_jpg.rf.4b65a7e4506810777710a31860b031d2.txt (deflated 30%)\n",
            "  adding: content/robo_chess-4/train/labels/20250602_140905_mp4-0012_jpg.rf.0aae8a4d3fde0acfb5621be9123de8c8.txt (deflated 53%)\n",
            "  adding: content/robo_chess-4/train/labels/20250602_131427_mp4-0006_jpg.rf.8005e55f2597c1e871089baa65618b72.txt (deflated 60%)\n",
            "  adding: content/robo_chess-4/train/labels/20250602_140741_mp4-0008_jpg.rf.2fb011aac70fa75f46459342874854ea.txt (deflated 19%)\n",
            "  adding: content/robo_chess-4/train/labels/20250602_131320_mp4-0015_jpg.rf.3e4de7fcdd5f4c228bf7e4deaaf29dbd.txt (deflated 15%)\n",
            "  adding: content/robo_chess-4/train/labels/20250601_123855_jpg.rf.eab028c74d86dacf684c02e6d4a3f841.txt (deflated 72%)\n",
            "  adding: content/robo_chess-4/train/labels/20250602_140812_mp4-0013_jpg.rf.8dc30e6766ae3431f9bc65441d3928f0.txt (deflated 19%)\n",
            "  adding: content/robo_chess-4/train/labels/20250601_124022_jpg.rf.989c6b1ddc139c377ae72e0fee137682.txt (deflated 73%)\n",
            "  adding: content/robo_chess-4/train/labels/20250602_140905_mp4-0019_jpg.rf.b316082cce0ec5f995f67f8c932e6282.txt (deflated 62%)\n",
            "  adding: content/robo_chess-4/train/labels/20250602_131257_mp4-0008_jpg.rf.8041c4a0a07732f6893ba253aad0fd19.txt (deflated 16%)\n",
            "  adding: content/robo_chess-4/train/labels/20250602_131320_mp4-0012_jpg.rf.ef6bd3bec4c9e66fe863154437268ec6.txt (deflated 20%)\n",
            "  adding: content/robo_chess-4/train/labels/20250601_123822_jpg.rf.1c7144c2e57b626986776f5c45136ef5.txt (deflated 69%)\n",
            "  adding: content/robo_chess-4/train/labels/20250602_140905_mp4-0008_jpg.rf.fcd613b78359b2427df0a36e2ce3554c.txt (deflated 62%)\n",
            "  adding: content/robo_chess-4/train/labels/20250602_140905_mp4-0008_jpg.rf.cd6c6f804c2b9380832d17921d6f558c.txt (deflated 63%)\n",
            "  adding: content/robo_chess-4/train/labels/20250602_131615_mp4-0001_jpg.rf.c554c81288d9634207083922e85f4d78.txt (deflated 67%)\n",
            "  adding: content/robo_chess-4/train/labels/20250602_131257_mp4-0004_jpg.rf.a79475ee548114da6a5ef67ea7d106b7.txt (deflated 36%)\n",
            "  adding: content/robo_chess-4/train/labels/20250602_131427_mp4-0004_jpg.rf.379b221989b91dc19337d3a899cd8763.txt (deflated 18%)\n",
            "  adding: content/robo_chess-4/train/labels/20250601_124005_jpg.rf.1beb07f08adedf406183c1dad5895231.txt (deflated 69%)\n",
            "  adding: content/robo_chess-4/train/labels/20250602_140812_mp4-0016_jpg.rf.a2d7079525717f5b1cbeed49dd754678.txt (deflated 23%)\n",
            "  adding: content/robo_chess-4/train/labels/20250602_140614_mp4-0012_jpg.rf.722634c467cde0e5edc80bbaa6b41d17.txt (deflated 37%)\n",
            "  adding: content/robo_chess-4/train/labels/20250602_131257_mp4-0004_jpg.rf.357922b587cbbda65e46a3f81d2c4f90.txt (deflated 34%)\n",
            "  adding: content/robo_chess-4/train/labels/20250602_131517_mp4-0009_jpg.rf.14c3259cfdf803f55e0588c30bc650c2.txt (deflated 35%)\n",
            "  adding: content/robo_chess-4/train/labels/20250602_131517_mp4-0011_jpg.rf.1091e947ab0c0dcbaf536f29bc57dafc.txt (deflated 36%)\n",
            "  adding: content/robo_chess-4/train/labels/20250601_123828_jpg.rf.5e4e452b40f24f4441eef5dfb1d10f67.txt (deflated 72%)\n",
            "  adding: content/robo_chess-4/train/labels/20250530_145430_jpg.rf.519122e7980028bae25aeb4d7b331792.txt (deflated 54%)\n",
            "  adding: content/robo_chess-4/train/labels/20250530_145340_jpg.rf.925c6bb6e90591c682c9203b9f9f039a.txt (deflated 72%)\n",
            "  adding: content/robo_chess-4/train/labels/20250602_140905_mp4-0002_jpg.rf.356c76f9c8647b760082a08250042b67.txt (deflated 61%)\n",
            "  adding: content/robo_chess-4/train/labels/20250530_145604_jpg.rf.2268e71068afb9632f35a73c6cae1c31.txt (deflated 51%)\n",
            "  adding: content/robo_chess-4/train/labels/20250602_131320_mp4-0007_jpg.rf.2326dd224cec303468cbabb322977860.txt (deflated 39%)\n",
            "  adding: content/robo_chess-4/train/labels/20250602_140741_mp4-0005_jpg.rf.8807027eb75f914a2ea1cd56686b7d3c.txt (deflated 30%)\n",
            "  adding: content/robo_chess-4/train/labels/20250602_131615_mp4-0003_jpg.rf.7fe89a83350739a25a27e90cbfced2e6.txt (deflated 67%)\n",
            "  adding: content/robo_chess-4/train/labels/20250602_140716_mp4-0001_jpg.rf.18f23f2099028af6770bde6f556ecb3c.txt (deflated 16%)\n",
            "  adding: content/robo_chess-4/train/labels/20250602_140652_mp4-0003_jpg.rf.d9f3d8ef7caa326a139a07c6538ac0fd.txt (deflated 15%)\n",
            "  adding: content/robo_chess-4/train/labels/20250530_145442_jpg.rf.350843c6beb35b3d781fdde7c1c5c9b0.txt (deflated 48%)\n",
            "  adding: content/robo_chess-4/train/labels/20250602_131257_mp4-0014_jpg.rf.2aa7e61d46a1eb9e46ecd08504434fa8.txt (deflated 16%)\n",
            "  adding: content/robo_chess-4/train/labels/20250602_140652_mp4-0004_jpg.rf.e282274fe0bf93370494ee87b5839c6b.txt (deflated 36%)\n",
            "  adding: content/robo_chess-4/train/labels/20250602_140812_mp4-0009_jpg.rf.cc1d84a6b269c93bba169b030b03dade.txt (deflated 34%)\n",
            "  adding: content/robo_chess-4/train/labels/20250530_145439_jpg.rf.8228fc7aee4aa0dbc1d977dea1cd735b.txt (deflated 53%)\n",
            "  adding: content/robo_chess-4/train/labels/20250602_140812_mp4-0009_jpg.rf.8614a7d4924601a836aee370327ae563.txt (deflated 34%)\n",
            "  adding: content/robo_chess-4/train/labels/20250601_123826_jpg.rf.030810dbe0db5fa765dc6bbbdf8bef04.txt (deflated 73%)\n",
            "  adding: content/robo_chess-4/train/labels/20250601_124019_jpg.rf.de1ba48ba569ecc2870df4f16500d329.txt (deflated 74%)\n",
            "  adding: content/robo_chess-4/train/labels/20250602_140652_mp4-0017_jpg.rf.45cf1154389cf8c7453d072bff9a14ef.txt (deflated 35%)\n",
            "  adding: content/robo_chess-4/train/labels/20250602_131517_mp4-0008_jpg.rf.dc727bd88497b03217f5fda12b223f90.txt (deflated 39%)\n",
            "  adding: content/robo_chess-4/train/labels/20250601_124001_jpg.rf.9d08c008c1a1f845df7ba86770c84c8c.txt (deflated 69%)\n",
            "  adding: content/robo_chess-4/train/labels/20250602_131615_mp4-0006_jpg.rf.7df314f9619354ee2d110f789aada8e9.txt (deflated 63%)\n",
            "  adding: content/robo_chess-4/train/labels/20250602_140614_mp4-0007_jpg.rf.f5bfcc4efc66d92c4077c8f64d624f0f.txt (deflated 37%)\n",
            "  adding: content/robo_chess-4/train/labels/20250602_140905_mp4-0014_jpg.rf.cd98bfeef3f4ee843c1f7a9e50812ec0.txt (deflated 65%)\n",
            "  adding: content/robo_chess-4/train/labels/20250602_131257_mp4-0013_jpg.rf.597f4ae47a3765a170b4dc91da1ca8c9.txt (deflated 62%)\n",
            "  adding: content/robo_chess-4/train/labels/20250602_131615_mp4-0006_jpg.rf.9833b71fc25e7f038960a21cbebe37db.txt (deflated 63%)\n",
            "  adding: content/robo_chess-4/train/labels/20250602_131517_mp4-0013_jpg.rf.10b77c3756be4c63bb0b5a217b87f331.txt (deflated 15%)\n",
            "  adding: content/robo_chess-4/train/labels/20250530_145537_jpg.rf.8cd35560a428bf1a16841392f88dbe3d.txt (deflated 38%)\n",
            "  adding: content/robo_chess-4/train/labels/20250602_131352_mp4-0003_jpg.rf.140edecddfb0704af6497154c6ff370c.txt (deflated 37%)\n",
            "  adding: content/robo_chess-4/train/labels/20250530_145504_jpg.rf.5e2509b464a7ff609096ed7d494e2974.txt (deflated 32%)\n",
            "  adding: content/robo_chess-4/train/labels/20250602_131615_mp4-0012_jpg.rf.9d14e96f741f794c94ec9fa8119e6d26.txt (deflated 66%)\n",
            "  adding: content/robo_chess-4/train/labels/20250601_123822_jpg.rf.7c1dfd1d31b9c3b6605145a0e7bc1374.txt (deflated 73%)\n",
            "  adding: content/robo_chess-4/train/labels/20250602_140716_mp4-0004_jpg.rf.18849cb23ac9ece9f207169b01f120c2.txt (deflated 32%)\n",
            "  adding: content/robo_chess-4/train/labels/20250602_131320_mp4-0013_jpg.rf.1bda9e20a8466147776f7948eab4d736.txt (deflated 61%)\n",
            "  adding: content/robo_chess-4/train/labels/20250602_131615_mp4-0004_jpg.rf.0910394dcaebf823a25b730ecffd616f.txt (deflated 66%)\n",
            "  adding: content/robo_chess-4/train/labels/20250530_145358_jpg.rf.0bec1626fbb01feebcac7bcc5ec5b1bd.txt (deflated 71%)\n",
            "  adding: content/robo_chess-4/train/labels/20250602_140847_mp4-0001_jpg.rf.16dc0dc1f9b2cb27a5ad2f877d0ef333.txt (deflated 29%)\n",
            "  adding: content/robo_chess-4/train/labels/20250601_124005_jpg.rf.62dbb971b7acd294df62d149df10141c.txt (deflated 69%)\n",
            "  adding: content/robo_chess-4/train/labels/20250602_140905_mp4-0010_jpg.rf.8f3b75e826863e14bf9c2d01ef91cba6.txt (deflated 61%)\n",
            "  adding: content/robo_chess-4/train/labels/20250602_131615_mp4-0016_jpg.rf.6546cd14500c0a0d5feb4146811a3f36.txt (deflated 65%)\n",
            "  adding: content/robo_chess-4/train/labels/20250602_131517_mp4-0003_jpg.rf.22a409478dc383a301e80109ec155528.txt (deflated 32%)\n",
            "  adding: content/robo_chess-4/train/labels/20250602_140652_mp4-0017_jpg.rf.35aa61c3333132b49276a7cb0c15f800.txt (deflated 34%)\n",
            "  adding: content/robo_chess-4/train/labels/20250602_131352_mp4-0013_jpg.rf.72ebd24df09be77c93c22ca39bc53a50.txt (deflated 14%)\n",
            "  adding: content/robo_chess-4/train/labels/20250602_140905_mp4-0014_jpg.rf.5c193c1ab7944516ea860c51fe4c4b2b.txt (deflated 64%)\n",
            "  adding: content/robo_chess-4/train/labels/20250602_140652_mp4-0001_jpg.rf.473a12c16deeb836ba2a269cc5a6659c.txt (deflated 23%)\n",
            "  adding: content/robo_chess-4/train/labels/20250530_145405_jpg.rf.eea6c64d287e8d3f89c76a5bdfd8247c.txt (deflated 71%)\n",
            "  adding: content/robo_chess-4/train/labels/20250602_131615_mp4-0002_jpg.rf.c486d5b36b2bd98b4b9171420cbb15ab.txt (deflated 66%)\n",
            "  adding: content/robo_chess-4/train/labels/20250530_145359_jpg.rf.d61476c52ec6433ce1ab2173060fdc24.txt (deflated 69%)\n",
            "  adding: content/robo_chess-4/train/labels/20250602_140812_mp4-0005_jpg.rf.083230259099b640f0573535c374bb78.txt (deflated 40%)\n",
            "  adding: content/robo_chess-4/train/labels/20250602_140716_mp4-0007_jpg.rf.ab9cea0c33f68be961747d8e30b91772.txt (deflated 15%)\n",
            "  adding: content/robo_chess-4/train/labels/20250602_131427_mp4-0003_jpg.rf.fab05f7b043f254be56412bce85bffad.txt (deflated 32%)\n",
            "  adding: content/robo_chess-4/train/labels.cache (deflated 60%)\n",
            "  adding: content/robo_chess-4/train/images/ (stored 0%)\n",
            "  adding: content/robo_chess-4/train/images/20250601_123915_jpg.rf.3e7067e132718ee4a3e3c1f8fd41855d.jpg (deflated 0%)\n",
            "  adding: content/robo_chess-4/train/images/20250601_123845_jpg.rf.743400ad62abd9aaf212c571d52ef4d7.jpg (deflated 0%)\n",
            "  adding: content/robo_chess-4/train/images/20250602_131448_mp4-0007_jpg.rf.91c5772d8d6991c84ac926949138efb8.jpg (deflated 1%)\n",
            "  adding: content/robo_chess-4/train/images/20250602_140847_mp4-0014_jpg.rf.28eafa92e96bb2f3ca512c0bb6f63618.jpg (deflated 2%)\n",
            "  adding: content/robo_chess-4/train/images/20250530_145359_jpg.rf.5129be7f6830e076ed33baa24dc7a0b2.jpg (deflated 0%)\n",
            "  adding: content/robo_chess-4/train/images/20250602_140652_mp4-0002_jpg.rf.bb131098235a33896e932d76fbfcbf5e.jpg (deflated 1%)\n",
            "  adding: content/robo_chess-4/train/images/20250602_140905_mp4-0000_jpg.rf.746cf3081aaa5f4a283b76079a87df58.jpg (deflated 3%)\n",
            "  adding: content/robo_chess-4/train/images/20250602_140905_mp4-0004_jpg.rf.ca0d7b0c928072ba5f5058fc8c63abbe.jpg (deflated 1%)\n",
            "  adding: content/robo_chess-4/train/images/20250602_140652_mp4-0006_jpg.rf.26ac34cccd99daffed454b3aea861e8a.jpg (deflated 1%)\n",
            "  adding: content/robo_chess-4/train/images/20250530_145427_jpg.rf.e796be8b953687f77d7b4318df3447b4.jpg (deflated 1%)\n",
            "  adding: content/robo_chess-4/train/images/20250530_145412_jpg.rf.1f9231abf216674a2c0c13cbf07d3403.jpg (deflated 1%)\n",
            "  adding: content/robo_chess-4/train/images/20250602_140652_mp4-0014_jpg.rf.9a143e0ff52f66a1ca2b0b0f20903267.jpg (deflated 2%)\n",
            "  adding: content/robo_chess-4/train/images/20250602_140614_mp4-0005_jpg.rf.b5d172667f14b003d8eea9ccf2abb61a.jpg (deflated 1%)\n",
            "  adding: content/robo_chess-4/train/images/20250602_131517_mp4-0008_jpg.rf.dc727bd88497b03217f5fda12b223f90.jpg (deflated 1%)\n",
            "  adding: content/robo_chess-4/train/images/20250602_131257_mp4-0009_jpg.rf.9320342af73cd2f4d8d7a43b58fd9604.jpg (deflated 1%)\n",
            "  adding: content/robo_chess-4/train/images/20250602_131320_mp4-0013_jpg.rf.89052095fb93c74fe9a6f61b09d2fa6c.jpg (deflated 1%)\n",
            "  adding: content/robo_chess-4/train/images/20250602_131257_mp4-0011_jpg.rf.fb02a42280860cbfc02e4e771bbed9c0.jpg (deflated 2%)\n",
            "  adding: content/robo_chess-4/train/images/20250530_145525_jpg.rf.99b1c2912a05fd76e836097c5be7b7b8.jpg (deflated 1%)\n",
            "  adding: content/robo_chess-4/train/images/20250601_124015_jpg.rf.adf3c10a515d73c7b962008096d05deb.jpg (deflated 1%)\n",
            "  adding: content/robo_chess-4/train/images/20250530_145608_jpg.rf.d479eabc320d52f97c9f5f2df44c4eef.jpg (deflated 1%)\n",
            "  adding: content/robo_chess-4/train/images/20250530_145439_jpg.rf.e692508c038bfee6203038e78ed743c6.jpg (deflated 1%)\n",
            "  adding: content/robo_chess-4/train/images/20250602_131615_mp4-0014_jpg.rf.3b8336540e4fa894455360598aae3a40.jpg (deflated 1%)\n",
            "  adding: content/robo_chess-4/train/images/20250602_131517_mp4-0003_jpg.rf.22a409478dc383a301e80109ec155528.jpg (deflated 1%)\n",
            "  adding: content/robo_chess-4/train/images/20250530_145608_jpg.rf.490cf1d3ca5c86b92ef142e1169bfb7b.jpg (deflated 0%)\n",
            "  adding: content/robo_chess-4/train/images/20250602_131257_mp4-0013_jpg.rf.597f4ae47a3765a170b4dc91da1ca8c9.jpg (deflated 1%)\n",
            "  adding: content/robo_chess-4/train/images/20250602_131427_mp4-0007_jpg.rf.6d74d2ffdfc7424079be27f1a109686d.jpg (deflated 2%)\n",
            "  adding: content/robo_chess-4/train/images/20250602_140652_mp4-0001_jpg.rf.e408a25a676ff72602bec21438168991.jpg (deflated 1%)\n",
            "  adding: content/robo_chess-4/train/images/20250602_131257_mp4-0004_jpg.rf.a79475ee548114da6a5ef67ea7d106b7.jpg (deflated 2%)\n",
            "  adding: content/robo_chess-4/train/images/20250602_131517_mp4-0009_jpg.rf.14c3259cfdf803f55e0588c30bc650c2.jpg (deflated 2%)\n",
            "  adding: content/robo_chess-4/train/images/20250602_140812_mp4-0015_jpg.rf.8da82d48875c43c026b62d74215a0d13.jpg (deflated 2%)\n",
            "  adding: content/robo_chess-4/train/images/20250530_145430_jpg.rf.3c7d10ca5ce8789ae460b7f4a72cc703.jpg (deflated 1%)\n",
            "  adding: content/robo_chess-4/train/images/20250602_140614_mp4-0011_jpg.rf.9ae05c63760b3575d0ac07258b11b91c.jpg (deflated 3%)\n",
            "  adding: content/robo_chess-4/train/images/20250530_145358_jpg.rf.f2b0b57273cb2a7c806ab81b63725a5d.jpg (deflated 0%)\n",
            "  adding: content/robo_chess-4/train/images/20250602_131615_mp4-0013_jpg.rf.75f7e58b07ba93b7e901567567e4f1d6.jpg (deflated 1%)\n",
            "  adding: content/robo_chess-4/train/images/20250530_145520_jpg.rf.fc90d6bca04a99fe7efc1c49be7c32d9.jpg (deflated 0%)\n",
            "  adding: content/robo_chess-4/train/images/20250601_124025_jpg.rf.06703bb093fc2a7a4d974648abca8b9b.jpg (deflated 0%)\n",
            "  adding: content/robo_chess-4/train/images/20250601_123950_jpg.rf.98c793f3987fe7e6478a009428c9d4a1.jpg (deflated 0%)\n",
            "  adding: content/robo_chess-4/train/images/20250530_145405_jpg.rf.9349cd000355d111815790ab3f7505d2.jpg (deflated 0%)\n",
            "  adding: content/robo_chess-4/train/images/20250602_131352_mp4-0000_jpg.rf.740dae0099d5e7943c0bec8737d50761.jpg (deflated 1%)\n",
            "  adding: content/robo_chess-4/train/images/20250602_131615_mp4-0015_jpg.rf.41e0b2d48aa89f9f93876aeff6c9b80b.jpg (deflated 1%)\n",
            "  adding: content/robo_chess-4/train/images/20250602_140847_mp4-0001_jpg.rf.b25986788296f0e5b805bda758b6bb4a.jpg (deflated 1%)\n",
            "  adding: content/robo_chess-4/train/images/20250602_140652_mp4-0005_jpg.rf.1181c6e2c2d50dfd589aeb7b32dac6bd.jpg (deflated 3%)\n",
            "  adding: content/robo_chess-4/train/images/20250602_131615_mp4-0014_jpg.rf.60b6d6963bb1f1561cdda6dda256abd0.jpg (deflated 1%)\n",
            "  adding: content/robo_chess-4/train/images/20250602_140812_mp4-0002_jpg.rf.e14e210b5a3bded108cb5f48410d7080.jpg (deflated 2%)\n",
            "  adding: content/robo_chess-4/train/images/20250602_140847_mp4-0009_jpg.rf.89bf3265d10abf57e91a397e657753c3.jpg (deflated 2%)\n",
            "  adding: content/robo_chess-4/train/images/20250602_140652_mp4-0009_jpg.rf.a1b7488bb519725ad7209766d933de51.jpg (deflated 1%)\n",
            "  adding: content/robo_chess-4/train/images/20250602_140652_mp4-0005_jpg.rf.f499d99eaf5c04a4607f0cb138676547.jpg (deflated 2%)\n",
            "  adding: content/robo_chess-4/train/images/20250602_140741_mp4-0004_jpg.rf.af0902e27b0be15a7c21c5e02f4123b3.jpg (deflated 1%)\n",
            "  adding: content/robo_chess-4/train/images/20250602_131352_mp4-0006_jpg.rf.77b87cc2c4ef444e5bbd5879b2670795.jpg (deflated 1%)\n",
            "  adding: content/robo_chess-4/train/images/20250602_140905_mp4-0006_jpg.rf.db2092c70d715b6b15d04da26d8b3913.jpg (deflated 2%)\n",
            "  adding: content/robo_chess-4/train/images/20250602_140812_mp4-0005_jpg.rf.083230259099b640f0573535c374bb78.jpg (deflated 1%)\n",
            "  adding: content/robo_chess-4/train/images/20250602_140905_mp4-0015_jpg.rf.80f99be0bf42e94c8fab07b0bae0e7d8.jpg (deflated 1%)\n",
            "  adding: content/robo_chess-4/train/images/20250530_145557_jpg.rf.b83f788d6867135f23b4ec53f1ce6128.jpg (deflated 1%)\n",
            "  adding: content/robo_chess-4/train/images/20250602_140847_mp4-0008_jpg.rf.46d0ce7372c277933214d4d5538af3f2.jpg (deflated 2%)\n",
            "  adding: content/robo_chess-4/train/images/20250602_140652_mp4-0013_jpg.rf.72f0f188718ffa458d1206a78733429e.jpg (deflated 1%)\n",
            "  adding: content/robo_chess-4/train/images/20250602_140741_mp4-0008_jpg.rf.1197a7cd7537630db64c77d775475352.jpg (deflated 2%)\n",
            "  adding: content/robo_chess-4/train/images/20250602_140905_mp4-0010_jpg.rf.8f3b75e826863e14bf9c2d01ef91cba6.jpg (deflated 2%)\n",
            "  adding: content/robo_chess-4/train/images/20250602_131427_mp4-0012_jpg.rf.21169414a17b7716e590908cd2ca2007.jpg (deflated 2%)\n",
            "  adding: content/robo_chess-4/train/images/20250602_140652_mp4-0017_jpg.rf.b16ab0f5f6391b9dee2ca3663b6afed8.jpg (deflated 1%)\n",
            "  adding: content/robo_chess-4/train/images/20250602_131257_mp4-0008_jpg.rf.8041c4a0a07732f6893ba253aad0fd19.jpg (deflated 1%)\n",
            "  adding: content/robo_chess-4/train/images/20250602_131517_mp4-0011_jpg.rf.b6ed5fcf8094e8091b1e31b719c389e1.jpg (deflated 1%)\n",
            "  adding: content/robo_chess-4/train/images/20250602_140847_mp4-0008_jpg.rf.d32858ffc4a0a431f58bcb182a5e7404.jpg (deflated 2%)\n",
            "  adding: content/robo_chess-4/train/images/20250602_140614_mp4-0009_jpg.rf.93a2bb00f404a7f9b3df0a34b173cfbe.jpg (deflated 1%)\n",
            "  adding: content/robo_chess-4/train/images/20250602_131517_mp4-0003_jpg.rf.a3774aa0d49b4ad73e9beb8cceda630b.jpg (deflated 1%)\n",
            "  adding: content/robo_chess-4/train/images/20250602_131427_mp4-0005_jpg.rf.445e696b62ebfb6bb24531df7a4d3de4.jpg (deflated 1%)\n",
            "  adding: content/robo_chess-4/train/images/20250602_140716_mp4-0004_jpg.rf.ba2fea5f1187f4d87cf935f1a7ccf4d0.jpg (deflated 1%)\n",
            "  adding: content/robo_chess-4/train/images/20250602_140905_mp4-0018_jpg.rf.a47759e1ca25d163f4dc2540e0d8f851.jpg (deflated 1%)\n",
            "  adding: content/robo_chess-4/train/images/20250602_140652_mp4-0004_jpg.rf.cc1c5e5002703b40af14711489cf1919.jpg (deflated 1%)\n",
            "  adding: content/robo_chess-4/train/images/20250602_140812_mp4-0000_jpg.rf.dd944aa8735c982b6525a2522e8c7cf9.jpg (deflated 1%)\n",
            "  adding: content/robo_chess-4/train/images/20250602_131257_mp4-0014_jpg.rf.2527ca2c27cfcaa21b8ed68cd09bbc84.jpg (deflated 2%)\n",
            "  adding: content/robo_chess-4/train/images/20250602_140905_mp4-0004_jpg.rf.6de98d895ae8af70c6376838f9aa2d96.jpg (deflated 1%)\n",
            "  adding: content/robo_chess-4/train/images/20250602_131517_mp4-0008_jpg.rf.2ce67f36d55a573606aa4bdccb9f33b9.jpg (deflated 1%)\n",
            "  adding: content/robo_chess-4/train/images/20250602_131427_mp4-0004_jpg.rf.2f58f923c107598a19678d70135c8557.jpg (deflated 1%)\n",
            "  adding: content/robo_chess-4/train/images/20250602_140741_mp4-0001_jpg.rf.bed35e7eca3d83d644c15046590d57a6.jpg (deflated 1%)\n",
            "  adding: content/robo_chess-4/train/images/20250601_123831_jpg.rf.cc52ff0e4ec3dafbb6f8d46fa0b61d3b.jpg (deflated 0%)\n",
            "  adding: content/robo_chess-4/train/images/20250602_140614_mp4-0002_jpg.rf.0915b125dd211941d4e9df15d24499e1.jpg (deflated 1%)\n",
            "  adding: content/robo_chess-4/train/images/20250601_123915_jpg.rf.5bc251e13ac8238fdc1270c8e44affcf.jpg (deflated 0%)\n",
            "  adding: content/robo_chess-4/train/images/20250530_145439_jpg.rf.59e7d0b481a9805806560a7d603469e4.jpg (deflated 0%)\n",
            "  adding: content/robo_chess-4/train/images/20250602_140614_mp4-0003_jpg.rf.1aa9b4dafc6bbc9095a40864a0b39413.jpg (deflated 0%)\n",
            "  adding: content/robo_chess-4/train/images/20250602_140812_mp4-0005_jpg.rf.328df06caa98d09a1a70e165275cce1b.jpg (deflated 1%)\n",
            "  adding: content/robo_chess-4/train/images/20250602_131352_mp4-0003_jpg.rf.1ac54055724eabd00403f79b692d9877.jpg (deflated 1%)\n",
            "  adding: content/robo_chess-4/train/images/20250602_131320_mp4-0013_jpg.rf.1bda9e20a8466147776f7948eab4d736.jpg (deflated 1%)\n",
            "  adding: content/robo_chess-4/train/images/20250601_123841_jpg.rf.c7bd356cb5e2050701c9bcd826307723.jpg (deflated 0%)\n",
            "  adding: content/robo_chess-4/train/images/20250601_124022_jpg.rf.989c6b1ddc139c377ae72e0fee137682.jpg (deflated 0%)\n",
            "  adding: content/robo_chess-4/train/images/20250602_131615_mp4-0001_jpg.rf.c554c81288d9634207083922e85f4d78.jpg (deflated 1%)\n",
            "  adding: content/robo_chess-4/train/images/20250602_131448_mp4-0005_jpg.rf.94c54695dd57c395fdb25129510c4104.jpg (deflated 1%)\n",
            "  adding: content/robo_chess-4/train/images/20250602_131320_mp4-0012_jpg.rf.030366ec793478b14438a52c4305bc60.jpg (deflated 2%)\n",
            "  adding: content/robo_chess-4/train/images/20250530_145537_jpg.rf.4345885fbe40960ee30eddad67b29f5a.jpg (deflated 1%)\n",
            "  adding: content/robo_chess-4/train/images/20250602_140905_mp4-0010_jpg.rf.3a8e55cca3eb6ee15d8170324f877449.jpg (deflated 1%)\n",
            "  adding: content/robo_chess-4/train/images/20250601_124007_jpg.rf.0c4c073a99ff12e85a3ee3f4f3277124.jpg (deflated 0%)\n",
            "  adding: content/robo_chess-4/train/images/20250602_140652_mp4-0003_jpg.rf.56133e9be08c8398b09013dc3a180ce8.jpg (deflated 2%)\n",
            "  adding: content/robo_chess-4/train/images/20250530_145608_jpg.rf.952cf4bfd692942f0313c86f47695d6e.jpg (deflated 0%)\n",
            "  adding: content/robo_chess-4/train/images/20250530_145315_jpg.rf.0e73df1676898ccb556f77e2a51a0d94.jpg (deflated 0%)\n",
            "  adding: content/robo_chess-4/train/images/20250601_123841_jpg.rf.9117b92dc22b0f706450f69568c9dbd7.jpg (deflated 0%)\n",
            "  adding: content/robo_chess-4/train/images/20250602_131615_mp4-0001_jpg.rf.e3b0446dcabcd5cfe21cae04cfedcacb.jpg (deflated 1%)\n",
            "  adding: content/robo_chess-4/train/images/20250602_140614_mp4-0007_jpg.rf.38eeef11b77577944a2fb358a145c788.jpg (deflated 1%)\n",
            "  adding: content/robo_chess-4/train/images/20250601_124007_jpg.rf.6d2d756beeafb71781b199315af0ea75.jpg (deflated 0%)\n",
            "  adding: content/robo_chess-4/train/images/20250602_140652_mp4-0002_jpg.rf.5796c79eb27989f8e776200cf70f4366.jpg (deflated 1%)\n",
            "  adding: content/robo_chess-4/train/images/20250602_140716_mp4-0000_jpg.rf.679ce6431013e0748d0fc63718ac7fbd.jpg (deflated 2%)\n",
            "  adding: content/robo_chess-4/train/images/20250602_140741_mp4-0009_jpg.rf.6e1e99e7103d11667c1404299aa0711d.jpg (deflated 1%)\n",
            "  adding: content/robo_chess-4/train/images/20250602_140812_mp4-0007_jpg.rf.05041f9ac9114704d6fee0aae55132e2.jpg (deflated 2%)\n",
            "  adding: content/robo_chess-4/train/images/20250602_140652_mp4-0000_jpg.rf.7351202fa407d481b430ae51d3077c67.jpg (deflated 1%)\n",
            "  adding: content/robo_chess-4/train/images/20250530_145447_jpg.rf.47decfa5f5962f89da395f26b62d5390.jpg (deflated 1%)\n",
            "  adding: content/robo_chess-4/train/images/20250602_131320_mp4-0014_jpg.rf.7af94c7ff22a7bb4de9dbcc86929452b.jpg (deflated 2%)\n",
            "  adding: content/robo_chess-4/train/images/20250530_145447_jpg.rf.a48d68aff25748db7fa7e3f1690b5e84.jpg (deflated 0%)\n",
            "  adding: content/robo_chess-4/train/images/20250601_123839_jpg.rf.9b7b02860ce692a78d620898587d7df8.jpg (deflated 1%)\n",
            "  adding: content/robo_chess-4/train/images/20250602_131320_mp4-0007_jpg.rf.978c33766a80d8df4ab15315f20b944d.jpg (deflated 1%)\n",
            "  adding: content/robo_chess-4/train/images/20250602_131427_mp4-0000_jpg.rf.9cf7b7c83608ed7d603aa6ebbda1d286.jpg (deflated 1%)\n",
            "  adding: content/robo_chess-4/train/images/20250602_131615_mp4-0010_jpg.rf.eab5fbec0b82e697abc9a38b381bd587.jpg (deflated 1%)\n",
            "  adding: content/robo_chess-4/train/images/20250601_124001_jpg.rf.9d08c008c1a1f845df7ba86770c84c8c.jpg (deflated 0%)\n",
            "  adding: content/robo_chess-4/train/images/20250602_140652_mp4-0004_jpg.rf.e282274fe0bf93370494ee87b5839c6b.jpg (deflated 1%)\n",
            "  adding: content/robo_chess-4/train/images/20250602_131257_mp4-0014_jpg.rf.2aa7e61d46a1eb9e46ecd08504434fa8.jpg (deflated 1%)\n",
            "  adding: content/robo_chess-4/train/images/20250601_123845_jpg.rf.deb7cef998a80317bd054b81f9df6a31.jpg (deflated 0%)\n",
            "  adding: content/robo_chess-4/train/images/20250602_140905_mp4-0001_jpg.rf.5328113180edced4cfbc14e0a84d75b5.jpg (deflated 1%)\n",
            "  adding: content/robo_chess-4/train/images/20250601_123831_jpg.rf.0888e3547dd8cdaed916bce8d385da4a.jpg (deflated 0%)\n",
            "  adding: content/robo_chess-4/train/images/20250530_145504_jpg.rf.1a8cecf7afe88df7859aa3c68292f3e1.jpg (deflated 0%)\n",
            "  adding: content/robo_chess-4/train/images/20250530_145315_jpg.rf.9da44ae48a43ee52f42ecbe56eb8bdf2.jpg (deflated 1%)\n",
            "  adding: content/robo_chess-4/train/images/20250601_124005_jpg.rf.b5ca7a34c677f08e15135f520f0f170b.jpg (deflated 0%)\n",
            "  adding: content/robo_chess-4/train/images/20250602_131615_mp4-0008_jpg.rf.b2ef8612aae92648d8f3fa2cb521a670.jpg (deflated 1%)\n",
            "  adding: content/robo_chess-4/train/images/20250530_145604_jpg.rf.16ef557846c6dfcd63b4ebb70766f96f.jpg (deflated 0%)\n",
            "  adding: content/robo_chess-4/train/images/20250530_145557_jpg.rf.a6aeb78e212c8c5f73f36d3cf3023e9a.jpg (deflated 0%)\n",
            "  adding: content/robo_chess-4/train/images/20250602_131517_mp4-0013_jpg.rf.589f3faeec08ec5dd4f12687e18d1a54.jpg (deflated 2%)\n",
            "  adding: content/robo_chess-4/train/images/20250602_131517_mp4-0001_jpg.rf.2469f56405c71b2847c2e6fade8ce167.jpg (deflated 1%)\n",
            "  adding: content/robo_chess-4/train/images/20250602_131517_mp4-0009_jpg.rf.3362c782141f82f1633b7abbe1390b7a.jpg (deflated 1%)\n",
            "  adding: content/robo_chess-4/train/images/20250602_131517_mp4-0007_jpg.rf.a9bdb4d88c33eb8cfd987f1413799ff2.jpg (deflated 1%)\n",
            "  adding: content/robo_chess-4/train/images/20250602_140652_mp4-0012_jpg.rf.10fb79be7921d29806e9dda60ff1443e.jpg (deflated 1%)\n",
            "  adding: content/robo_chess-4/train/images/20250602_131615_mp4-0002_jpg.rf.5ab3acb712052e56ef8d8f53314bd38a.jpg (deflated 1%)\n",
            "  adding: content/robo_chess-4/train/images/20250602_140812_mp4-0011_jpg.rf.fc446e0c97de17368782d76e7ba2151a.jpg (deflated 2%)\n",
            "  adding: content/robo_chess-4/train/images/20250602_131448_mp4-0002_jpg.rf.768af1aa340aece8847cefa8f7b724b1.jpg (deflated 1%)\n",
            "  adding: content/robo_chess-4/train/images/20250602_140614_mp4-0010_jpg.rf.55a7d446411551c1aece7c97f3e07835.jpg (deflated 1%)\n",
            "  adding: content/robo_chess-4/train/images/20250602_140652_mp4-0012_jpg.rf.92bc9cf3918dbdf1c5600da3ff4715f0.jpg (deflated 1%)\n",
            "  adding: content/robo_chess-4/train/images/20250602_140847_mp4-0003_jpg.rf.416b5ecf9e536eca5e1fdbdb1f53d818.jpg (deflated 2%)\n",
            "  adding: content/robo_chess-4/train/images/20250602_131320_mp4-0016_jpg.rf.6facffa075d83280c4a196e4bce9ac4f.jpg (deflated 3%)\n",
            "  adding: content/robo_chess-4/train/images/20250601_123816_jpg.rf.4d93768095efadad7790702b73275922.jpg (deflated 0%)\n",
            "  adding: content/robo_chess-4/train/images/20250601_123839_jpg.rf.f2dcb72053d1f5d035b8ace76a85489d.jpg (deflated 0%)\n",
            "  adding: content/robo_chess-4/train/images/20250602_131352_mp4-0010_jpg.rf.8d510e37016c0a583c928acb5e66837c.jpg (deflated 1%)\n",
            "  adding: content/robo_chess-4/train/images/20250602_131352_mp4-0012_jpg.rf.083c59c7dfd2fcf1528b109412e53888.jpg (deflated 1%)\n",
            "  adding: content/robo_chess-4/train/images/20250602_140652_mp4-0016_jpg.rf.2e754c7b938097e877aa439b5768437b.jpg (deflated 1%)\n",
            "  adding: content/robo_chess-4/train/images/20250602_140905_mp4-0019_jpg.rf.212b097b2c8c7f0f7a9c94906d181497.jpg (deflated 1%)\n",
            "  adding: content/robo_chess-4/train/images/20250602_131352_mp4-0002_jpg.rf.e4edfaf44e47183444de71e788f6b333.jpg (deflated 2%)\n",
            "  adding: content/robo_chess-4/train/images/20250530_145347_jpg.rf.8a8d9fd64babe58c5753a8e95593859f.jpg (deflated 1%)\n",
            "  adding: content/robo_chess-4/train/images/20250602_140652_mp4-0011_jpg.rf.4b65a7e4506810777710a31860b031d2.jpg (deflated 1%)\n",
            "  adding: content/robo_chess-4/train/images/20250602_131615_mp4-0011_jpg.rf.1f50d8b7ba7a17cdacb8aad93ca9a398.jpg (deflated 1%)\n",
            "  adding: content/robo_chess-4/train/images/20250601_123954_jpg.rf.068557f4940598b18d0db3a9c9ef9ec3.jpg (deflated 1%)\n",
            "  adding: content/robo_chess-4/train/images/20250601_123954_jpg.rf.eb46973d63a04aad24dd26316eab26b0.jpg (deflated 0%)\n",
            "  adding: content/robo_chess-4/train/images/20250602_131352_mp4-0001_jpg.rf.979da706445c8ff3b4d9dce43e8f7906.jpg (deflated 1%)\n",
            "  adding: content/robo_chess-4/train/images/20250530_145525_jpg.rf.c5758b917154648a5316049e815c8980.jpg (deflated 0%)\n",
            "  adding: content/robo_chess-4/train/images/20250602_140741_mp4-0005_jpg.rf.8807027eb75f914a2ea1cd56686b7d3c.jpg (deflated 2%)\n",
            "  adding: content/robo_chess-4/train/images/20250602_140741_mp4-0004_jpg.rf.65521ab7d84b79fa881651cb30a3e263.jpg (deflated 1%)\n",
            "  adding: content/robo_chess-4/train/images/20250602_131257_mp4-0004_jpg.rf.cf261d73f4382835609d0467e520b470.jpg (deflated 1%)\n",
            "  adding: content/robo_chess-4/train/images/20250602_131615_mp4-0002_jpg.rf.629672489582349697f75ebbdc7fe48e.jpg (deflated 1%)\n",
            "  adding: content/robo_chess-4/train/images/20250530_145517_jpg.rf.39581dbe91270f8e89cada910f0dc192.jpg (deflated 0%)\n",
            "  adding: content/robo_chess-4/train/images/20250602_140905_mp4-0019_jpg.rf.7930671c1acfef12200225f7f6d0998d.jpg (deflated 1%)\n",
            "  adding: content/robo_chess-4/train/images/20250602_140652_mp4-0003_jpg.rf.fbfeac9560d430a87cb86946e09624fb.jpg (deflated 1%)\n",
            "  adding: content/robo_chess-4/train/images/20250602_140905_mp4-0003_jpg.rf.97ede8c4849106a60193797b340f9947.jpg (deflated 1%)\n",
            "  adding: content/robo_chess-4/train/images/20250601_124001_jpg.rf.ddeb07a90fb68c30fffe124a74759319.jpg (deflated 0%)\n",
            "  adding: content/robo_chess-4/train/images/20250602_140741_mp4-0003_jpg.rf.f2428d3267103288dafba334c1799134.jpg (deflated 2%)\n",
            "  adding: content/robo_chess-4/train/images/20250602_131352_mp4-0003_jpg.rf.140edecddfb0704af6497154c6ff370c.jpg (deflated 2%)\n",
            "  adding: content/robo_chess-4/train/images/20250602_131257_mp4-0014_jpg.rf.e6e4a543eeeecbe796e6e44ca992e41c.jpg (deflated 2%)\n",
            "  adding: content/robo_chess-4/train/images/20250602_131257_mp4-0009_jpg.rf.5b33be838a2dd7dbc27943feeb538878.jpg (deflated 1%)\n",
            "  adding: content/robo_chess-4/train/images/20250602_131257_mp4-0007_jpg.rf.364da5eebb1c98be182b9853879c54b6.jpg (deflated 1%)\n",
            "  adding: content/robo_chess-4/train/images/20250602_140905_mp4-0014_jpg.rf.cd98bfeef3f4ee843c1f7a9e50812ec0.jpg (deflated 2%)\n",
            "  adding: content/robo_chess-4/train/images/20250601_123839_jpg.rf.85b5ee754d8fd31055fe574161ebb6d5.jpg (deflated 0%)\n",
            "  adding: content/robo_chess-4/train/images/20250602_140741_mp4-0008_jpg.rf.2fb011aac70fa75f46459342874854ea.jpg (deflated 1%)\n",
            "  adding: content/robo_chess-4/train/images/20250602_140614_mp4-0002_jpg.rf.ab2bdb8f134fbc7fc29623d5ba874e47.jpg (deflated 1%)\n",
            "  adding: content/robo_chess-4/train/images/20250602_131427_mp4-0011_jpg.rf.ce4b99d02a3f55589abf17153a8a97f3.jpg (deflated 2%)\n",
            "  adding: content/robo_chess-4/train/images/20250602_131517_mp4-0008_jpg.rf.671c928d6a53e651b75626cee9600e74.jpg (deflated 1%)\n",
            "  adding: content/robo_chess-4/train/images/20250601_124001_jpg.rf.4cae51227962acc055db234345f4dd8f.jpg (deflated 0%)\n",
            "  adding: content/robo_chess-4/train/images/20250601_124019_jpg.rf.9fed76d60d27d38c3ed9d446a0a17ef1.jpg (deflated 0%)\n",
            "  adding: content/robo_chess-4/train/images/20250601_123855_jpg.rf.ba625988d4bbe3b30df209d8938e29c4.jpg (deflated 1%)\n",
            "  adding: content/robo_chess-4/train/images/20250602_140741_mp4-0009_jpg.rf.474b27e6c41935a6136416cc8ead4e9b.jpg (deflated 1%)\n",
            "  adding: content/robo_chess-4/train/images/20250530_145552_jpg.rf.fd99931ee91640373b7507f894d18def.jpg (deflated 0%)\n",
            "  adding: content/robo_chess-4/train/images/20250602_140652_mp4-0012_jpg.rf.4fde79ea009a44cbdbbbf1be4aff890d.jpg (deflated 1%)\n",
            "  adding: content/robo_chess-4/train/images/20250602_131320_mp4-0011_jpg.rf.1519e80f9617bc6eaee6ced3a417dce5.jpg (deflated 2%)\n",
            "  adding: content/robo_chess-4/train/images/20250602_140812_mp4-0016_jpg.rf.fe67a0dd7539dacaa75f5fcce7257b5a.jpg (deflated 2%)\n",
            "  adding: content/robo_chess-4/train/images/20250602_131517_mp4-0003_jpg.rf.c9b45af8cdb92e0b1f62b4ec93e9ca4d.jpg (deflated 1%)\n",
            "  adding: content/robo_chess-4/train/images/20250602_131352_mp4-0005_jpg.rf.1891a297822dc9090fd3524fb9bb0408.jpg (deflated 2%)\n",
            "  adding: content/robo_chess-4/train/images/20250530_145408_jpg.rf.f4572ef02c135dedb9f5d35d452a2ab8.jpg (deflated 1%)\n",
            "  adding: content/robo_chess-4/train/images/20250602_140614_mp4-0012_jpg.rf.722634c467cde0e5edc80bbaa6b41d17.jpg (deflated 2%)\n",
            "  adding: content/robo_chess-4/train/images/20250602_131257_mp4-0003_jpg.rf.267b7593538d9f2c9ac677ed8a91d517.jpg (deflated 1%)\n",
            "  adding: content/robo_chess-4/train/images/20250602_140847_mp4-0013_jpg.rf.19da801e9b84f8f456d7d43fe7a42671.jpg (deflated 2%)\n",
            "  adding: content/robo_chess-4/train/images/20250530_145604_jpg.rf.2268e71068afb9632f35a73c6cae1c31.jpg (deflated 1%)\n",
            "  adding: content/robo_chess-4/train/images/20250602_131320_mp4-0008_jpg.rf.740841847edda99ab29768b83f26279c.jpg (deflated 1%)\n",
            "  adding: content/robo_chess-4/train/images/20250602_140652_mp4-0011_jpg.rf.85e3d3068e169a63473cf80fe291809d.jpg (deflated 1%)\n",
            "  adding: content/robo_chess-4/train/images/20250602_140741_mp4-0005_jpg.rf.bc1348a9918f11285a69296fb5c371f0.jpg (deflated 2%)\n",
            "  adding: content/robo_chess-4/train/images/20250602_140812_mp4-0003_jpg.rf.f19a6b27de9b2d250c75823dc8403177.jpg (deflated 1%)\n",
            "  adding: content/robo_chess-4/train/images/20250602_140812_mp4-0015_jpg.rf.cbacd391eb706c16937acdc0ee24e43d.jpg (deflated 1%)\n",
            "  adding: content/robo_chess-4/train/images/20250602_140652_mp4-0007_jpg.rf.f33047261d32c24a4b31160e2bf1d94f.jpg (deflated 2%)\n",
            "  adding: content/robo_chess-4/train/images/20250602_131427_mp4-0000_jpg.rf.7fe6bb2c2f0eec677b22147a9650253e.jpg (deflated 1%)\n",
            "  adding: content/robo_chess-4/train/images/20250602_140812_mp4-0009_jpg.rf.8614a7d4924601a836aee370327ae563.jpg (deflated 1%)\n",
            "  adding: content/robo_chess-4/train/images/20250602_131257_mp4-0008_jpg.rf.8364cfe5c61cef2dfff5e06299f0f8de.jpg (deflated 2%)\n",
            "  adding: content/robo_chess-4/train/images/20250530_145427_jpg.rf.cdea8b9e013d84b5a4c6c9f78c1abbaa.jpg (deflated 0%)\n",
            "  adding: content/robo_chess-4/train/images/20250602_131448_mp4-0005_jpg.rf.649c80f5b6487ecf210fe29ad7b6c21c.jpg (deflated 1%)\n",
            "  adding: content/robo_chess-4/train/images/20250602_131320_mp4-0014_jpg.rf.b72247c9b494aa18b601d9227f9f6139.jpg (deflated 1%)\n",
            "  adding: content/robo_chess-4/train/images/20250602_131320_mp4-0003_jpg.rf.2ae214ed9d892efbf575f741bc75a54d.jpg (deflated 1%)\n",
            "  adding: content/robo_chess-4/train/images/20250602_140716_mp4-0004_jpg.rf.18849cb23ac9ece9f207169b01f120c2.jpg (deflated 1%)\n",
            "  adding: content/robo_chess-4/train/images/20250602_131615_mp4-0012_jpg.rf.60ad2523ae25e887d1238a9ef8f5deed.jpg (deflated 1%)\n",
            "  adding: content/robo_chess-4/train/images/20250602_140812_mp4-0001_jpg.rf.46383924045e035bcc4cf47b1ba78c8e.jpg (deflated 1%)\n",
            "  adding: content/robo_chess-4/train/images/20250602_131320_mp4-0007_jpg.rf.2326dd224cec303468cbabb322977860.jpg (deflated 1%)\n",
            "  adding: content/robo_chess-4/train/images/20250602_140652_mp4-0009_jpg.rf.506fe5d7fd80989f256dc53ba64f8bc8.jpg (deflated 1%)\n",
            "  adding: content/robo_chess-4/train/images/20250602_131320_mp4-0009_jpg.rf.c673b4c2a15248b8ba34cea3f236121a.jpg (deflated 2%)\n",
            "  adding: content/robo_chess-4/train/images/20250530_145408_jpg.rf.84de1f52423ddbfbbd5d57335a847fb5.jpg (deflated 0%)\n",
            "  adding: content/robo_chess-4/train/images/20250602_140652_mp4-0002_jpg.rf.dbbfae28bf8f3954f120b62057df0997.jpg (deflated 1%)\n",
            "  adding: content/robo_chess-4/train/images/20250602_131615_mp4-0012_jpg.rf.dd42f7f912913c29635ac8503fe373b5.jpg (deflated 1%)\n",
            "  adding: content/robo_chess-4/train/images/20250602_140905_mp4-0013_jpg.rf.87d1748ca315f10483419065618ee65b.jpg (deflated 2%)\n",
            "  adding: content/robo_chess-4/train/images/20250602_140847_mp4-0005_jpg.rf.785897f888dab45a81bdc22465dd97c6.jpg (deflated 1%)\n",
            "  adding: content/robo_chess-4/train/images/20250602_131257_mp4-0004_jpg.rf.357922b587cbbda65e46a3f81d2c4f90.jpg (deflated 1%)\n",
            "  adding: content/robo_chess-4/train/images/20250602_140812_mp4-0011_jpg.rf.c0fcced490d7a87d370b1ec82798c0c4.jpg (deflated 2%)\n",
            "  adding: content/robo_chess-4/train/images/20250601_123822_jpg.rf.1c7144c2e57b626986776f5c45136ef5.jpg (deflated 0%)\n",
            "  adding: content/robo_chess-4/train/images/20250602_140905_mp4-0015_jpg.rf.45d9512d1943e2b4bc37a8d292dea9e6.jpg (deflated 1%)\n",
            "  adding: content/robo_chess-4/train/images/20250602_140716_mp4-0001_jpg.rf.c8bf8d0f0413c98b36a347cc48b0e05d.jpg (deflated 1%)\n",
            "  adding: content/robo_chess-4/train/images/20250602_140716_mp4-0005_jpg.rf.70ce2b8d28e8d3e1b957db18c795facd.jpg (deflated 1%)\n",
            "  adding: content/robo_chess-4/train/images/20250602_131615_mp4-0012_jpg.rf.9d14e96f741f794c94ec9fa8119e6d26.jpg (deflated 1%)\n",
            "  adding: content/robo_chess-4/train/images/20250530_145315_jpg.rf.497e6fe12ff97f791b188f16ee5fb686.jpg (deflated 1%)\n",
            "  adding: content/robo_chess-4/train/images/20250602_140652_mp4-0016_jpg.rf.84cdaf642087e6a824e8c377b795e290.jpg (deflated 1%)\n",
            "  adding: content/robo_chess-4/train/images/20250530_145520_jpg.rf.9860f5c1039698a7199f2162aafb9aab.jpg (deflated 0%)\n",
            "  adding: content/robo_chess-4/train/images/20250530_145347_jpg.rf.5859deeba2cf7604540506652caed531.jpg (deflated 0%)\n",
            "  adding: content/robo_chess-4/train/images/20250602_131615_mp4-0006_jpg.rf.e8f67f2b5eb7e45c9f92531515302276.jpg (deflated 1%)\n",
            "  adding: content/robo_chess-4/train/images/20250602_140812_mp4-0002_jpg.rf.6302c767db45a6dc1f0d537efe72f1a6.jpg (deflated 1%)\n",
            "  adding: content/robo_chess-4/train/images/20250602_131427_mp4-0006_jpg.rf.38fc8afe239dff6addd1fa6243bc49dd.jpg (deflated 1%)\n",
            "  adding: content/robo_chess-4/train/images/20250602_140652_mp4-0008_jpg.rf.22b5775dac451e806d5daa95d1e75af4.jpg (deflated 1%)\n",
            "  adding: content/robo_chess-4/train/images/20250602_140847_mp4-0010_jpg.rf.5885e686c36684832fd35d8f0d6bae74.jpg (deflated 1%)\n",
            "  adding: content/robo_chess-4/train/images/20250602_131320_mp4-0009_jpg.rf.604da0ee15b24e4379451d5dd985a985.jpg (deflated 2%)\n",
            "  adding: content/robo_chess-4/train/images/20250530_145442_jpg.rf.350843c6beb35b3d781fdde7c1c5c9b0.jpg (deflated 1%)\n",
            "  adding: content/robo_chess-4/train/images/20250602_131352_mp4-0010_jpg.rf.510940d7f2dc29a959847894fba28c7b.jpg (deflated 1%)\n",
            "  adding: content/robo_chess-4/train/images/20250602_140741_mp4-0005_jpg.rf.601fd74cbc8c91cc08711a6b0b7ba02b.jpg (deflated 1%)\n",
            "  adding: content/robo_chess-4/train/images/20250602_131257_mp4-0010_jpg.rf.c1b5cb71586c53b54c35050404252367.jpg (deflated 1%)\n",
            "  adding: content/robo_chess-4/train/images/20250530_145430_jpg.rf.d6e34e4e0556522525ee8083e115a799.jpg (deflated 1%)\n",
            "  adding: content/robo_chess-4/train/images/20250602_140741_mp4-0007_jpg.rf.3c675c28b9f1134e769c0fd8c35351d3.jpg (deflated 1%)\n",
            "  adding: content/robo_chess-4/train/images/20250602_140812_mp4-0013_jpg.rf.8c1b8bbab818f1e6574972b2d9a4b2b2.jpg (deflated 2%)\n",
            "  adding: content/robo_chess-4/train/images/20250602_140652_mp4-0004_jpg.rf.733276cf41c01037f293541be38d04b9.jpg (deflated 1%)\n",
            "  adding: content/robo_chess-4/train/images/20250602_131352_mp4-0005_jpg.rf.8af4e2b664f7a7aa20a3fef4b5534ed2.jpg (deflated 3%)\n",
            "  adding: content/robo_chess-4/train/images/20250601_123958_jpg.rf.403b488e3c277272f1e9218c5d59d4cd.jpg (deflated 0%)\n",
            "  adding: content/robo_chess-4/train/images/20250602_131352_mp4-0000_jpg.rf.9a86707fcf7c0081daebe1a0811886f2.jpg (deflated 1%)\n",
            "  adding: content/robo_chess-4/train/images/20250602_140847_mp4-0007_jpg.rf.d9412c82c18027cb92dabe97e6040607.jpg (deflated 2%)\n",
            "  adding: content/robo_chess-4/train/images/20250602_140652_mp4-0009_jpg.rf.07fc40e40700c2683022b8a87d393fec.jpg (deflated 2%)\n",
            "  adding: content/robo_chess-4/train/images/20250602_131352_mp4-0002_jpg.rf.72836a3607560fa08941928273fff2fc.jpg (deflated 2%)\n",
            "  adding: content/robo_chess-4/train/images/20250602_140847_mp4-0010_jpg.rf.0a7a4c1457f1e2469b1904276d537be0.jpg (deflated 1%)\n",
            "  adding: content/robo_chess-4/train/images/20250602_131427_mp4-0003_jpg.rf.fab05f7b043f254be56412bce85bffad.jpg (deflated 2%)\n",
            "  adding: content/robo_chess-4/train/images/20250602_140614_mp4-0010_jpg.rf.933a50cb635d7b9089526f68039990c4.jpg (deflated 3%)\n",
            "  adding: content/robo_chess-4/train/images/20250602_140812_mp4-0009_jpg.rf.cc1d84a6b269c93bba169b030b03dade.jpg (deflated 1%)\n",
            "  adding: content/robo_chess-4/train/images/20250602_140847_mp4-0004_jpg.rf.08bb9fdb029a80c13d35f34d3c8b5a2f.jpg (deflated 1%)\n",
            "  adding: content/robo_chess-4/train/images/20250601_124022_jpg.rf.a331bb9db4eadf0faebd89fe86257ced.jpg (deflated 1%)\n",
            "  adding: content/robo_chess-4/train/images/20250602_131352_mp4-0002_jpg.rf.9b5835172babfb69d99718d06a213760.jpg (deflated 1%)\n",
            "  adding: content/robo_chess-4/train/images/20250602_131448_mp4-0003_jpg.rf.fbece8be496fce005551ac9fae58a1f5.jpg (deflated 1%)\n",
            "  adding: content/robo_chess-4/train/images/20250602_131448_mp4-0010_jpg.rf.066c098814b74a68b861d46730ac4626.jpg (deflated 1%)\n",
            "  adding: content/robo_chess-4/train/images/20250602_140905_mp4-0006_jpg.rf.8fc835d82de9498544ac031f448b0ab5.jpg (deflated 2%)\n",
            "  adding: content/robo_chess-4/train/images/20250530_145439_jpg.rf.8228fc7aee4aa0dbc1d977dea1cd735b.jpg (deflated 1%)\n",
            "  adding: content/robo_chess-4/train/images/20250602_131615_mp4-0011_jpg.rf.ef1f8acb59cda37b6032ea80d919319c.jpg (deflated 1%)\n",
            "  adding: content/robo_chess-4/train/images/20250602_140812_mp4-0000_jpg.rf.ee1b2a74a65a7b7effef9d2c010aa72d.jpg (deflated 1%)\n",
            "  adding: content/robo_chess-4/train/images/20250602_131615_mp4-0003_jpg.rf.77eba5c7476c7f98a5bfd4bff30dfa78.jpg (deflated 1%)\n",
            "  adding: content/robo_chess-4/train/images/20250601_124007_jpg.rf.417b21d3b17dc42fee889deadfee4c50.jpg (deflated 0%)\n",
            "  adding: content/robo_chess-4/train/images/20250602_131615_mp4-0004_jpg.rf.5a98c5a3850a45adcfc4748644ed0983.jpg (deflated 2%)\n",
            "  adding: content/robo_chess-4/train/images/20250602_131615_mp4-0014_jpg.rf.0bd4fefec4d9b91f90f5ab45879444ee.jpg (deflated 1%)\n",
            "  adding: content/robo_chess-4/train/images/20250602_131448_mp4-0010_jpg.rf.fd62fc00ec0296ed7e15838e3f900736.jpg (deflated 2%)\n",
            "  adding: content/robo_chess-4/train/images/20250602_131320_mp4-0012_jpg.rf.ef6bd3bec4c9e66fe863154437268ec6.jpg (deflated 1%)\n",
            "  adding: content/robo_chess-4/train/images/20250602_131352_mp4-0014_jpg.rf.8e5d9a6be53f33f62e129e21f416add5.jpg (deflated 1%)\n",
            "  adding: content/robo_chess-4/train/images/20250602_140905_mp4-0001_jpg.rf.6f8c98a9387ab42ff0e37515ab83e36e.jpg (deflated 2%)\n",
            "  adding: content/robo_chess-4/train/images/20250602_140905_mp4-0005_jpg.rf.48be1a9719e21d7a8dbd76b12905ddf1.jpg (deflated 1%)\n",
            "  adding: content/robo_chess-4/train/images/20250530_145504_jpg.rf.c823f5235346bc361cf8dd7ef17fd42a.jpg (deflated 0%)\n",
            "  adding: content/robo_chess-4/train/images/20250602_140652_mp4-0013_jpg.rf.2ac6969f2c5d36fb0daa203778bc7218.jpg (deflated 1%)\n",
            "  adding: content/robo_chess-4/train/images/20250602_131257_mp4-0008_jpg.rf.ad2945fadb3f296957fa81f99f2a3748.jpg (deflated 2%)\n",
            "  adding: content/robo_chess-4/train/images/20250602_140847_mp4-0013_jpg.rf.06a62bb3839a1b84c448225a96f47a07.jpg (deflated 2%)\n",
            "  adding: content/robo_chess-4/train/images/20250601_123950_jpg.rf.8a78e99e9e21e319993b4bf8f2c100bd.jpg (deflated 0%)\n",
            "  adding: content/robo_chess-4/train/images/20250602_140812_mp4-0001_jpg.rf.94a47b39c7fe89c9d6c98347e352b419.jpg (deflated 1%)\n",
            "  adding: content/robo_chess-4/train/images/20250602_131320_mp4-0014_jpg.rf.3f81b0498091358a6ce32f39b281a036.jpg (deflated 1%)\n",
            "  adding: content/robo_chess-4/train/images/20250602_140905_mp4-0003_jpg.rf.8ccdc07c50f091377d4477e20443e314.jpg (deflated 1%)\n",
            "  adding: content/robo_chess-4/train/images/20250601_123834_jpg.rf.2c2fd7c3d6a8835b4f60fb2fd357accd.jpg (deflated 0%)\n",
            "  adding: content/robo_chess-4/train/images/20250530_145337_jpg.rf.4b6885c4e9711b3b8c856035dc4c1df9.jpg (deflated 1%)\n",
            "  adding: content/robo_chess-4/train/images/20250530_145359_jpg.rf.4bdb6f85b146acf15f311ede0fe2cde3.jpg (deflated 1%)\n",
            "  adding: content/robo_chess-4/train/images/20250601_123845_jpg.rf.2351e279f6545b9bf9512c3a17d6b6af.jpg (deflated 0%)\n",
            "  adding: content/robo_chess-4/train/images/20250602_140652_mp4-0000_jpg.rf.e3a1cfcf4557c246809a22f4ecbf1c31.jpg (deflated 1%)\n",
            "  adding: content/robo_chess-4/train/images/20250530_145337_jpg.rf.8a7111e234504a951ec65d5b4fc4be9b.jpg (deflated 0%)\n",
            "  adding: content/robo_chess-4/train/images/20250602_131320_mp4-0003_jpg.rf.dd936db44e4715629fbf497c229e8338.jpg (deflated 1%)\n",
            "  adding: content/robo_chess-4/train/images/20250602_131615_mp4-0008_jpg.rf.f980f89ef978d3f65dc5c0af3f4d3ca9.jpg (deflated 1%)\n",
            "  adding: content/robo_chess-4/train/images/20250602_140905_mp4-0006_jpg.rf.69b5cf3ee2fa318454e3b19dcd8162e4.jpg (deflated 1%)\n",
            "  adding: content/robo_chess-4/train/images/20250530_145412_jpg.rf.73dc9330ada2358a5843437c6a6562f1.jpg (deflated 1%)\n",
            "  adding: content/robo_chess-4/train/images/20250602_131615_mp4-0006_jpg.rf.7df314f9619354ee2d110f789aada8e9.jpg (deflated 1%)\n",
            "  adding: content/robo_chess-4/train/images/20250602_140847_mp4-0008_jpg.rf.8e0bb3fe51d6b556f6fc4fff4a73b47a.jpg (deflated 2%)\n",
            "  adding: content/robo_chess-4/train/images/20250602_140905_mp4-0010_jpg.rf.1b5b6eaa392789ce09d836c5b45e0d27.jpg (deflated 1%)\n",
            "  adding: content/robo_chess-4/train/images/20250602_140812_mp4-0002_jpg.rf.46097bd0c9eecf9b45611a8a3d9f52b7.jpg (deflated 1%)\n",
            "  adding: content/robo_chess-4/train/images/20250602_131257_mp4-0003_jpg.rf.2d3f169109297370027d97a3a46fef94.jpg (deflated 2%)\n",
            "  adding: content/robo_chess-4/train/images/20250602_131615_mp4-0013_jpg.rf.0ab6a5fc580ba0b4003af83d6ba1b134.jpg (deflated 1%)\n",
            "  adding: content/robo_chess-4/train/images/20250602_140716_mp4-0001_jpg.rf.18f23f2099028af6770bde6f556ecb3c.jpg (deflated 1%)\n",
            "  adding: content/robo_chess-4/train/images/20250602_140716_mp4-0005_jpg.rf.73ab0421846eaf33c8eb795c8b9328fe.jpg (deflated 1%)\n",
            "  adding: content/robo_chess-4/train/images/20250602_140905_mp4-0003_jpg.rf.ef048d1d24757b9942c0247fc6f16cdc.jpg (deflated 1%)\n",
            "  adding: content/robo_chess-4/train/images/20250602_140905_mp4-0012_jpg.rf.64254bc422785e8e445c26cf59ffee13.jpg (deflated 2%)\n",
            "  adding: content/robo_chess-4/train/images/20250530_145442_jpg.rf.31e3e073f79b67c5f023b9e33174bd28.jpg (deflated 0%)\n",
            "  adding: content/robo_chess-4/train/images/20250530_145412_jpg.rf.9e66b114bbb7d284baa688245a7eba3f.jpg (deflated 1%)\n",
            "  adding: content/robo_chess-4/train/images/20250602_140652_mp4-0011_jpg.rf.f8af57a140095e0526fa6a5afb5eaa75.jpg (deflated 1%)\n",
            "  adding: content/robo_chess-4/train/images/20250602_131517_mp4-0001_jpg.rf.5a3eaa2d3dba0639c8d4f548caa5a37b.jpg (deflated 1%)\n",
            "  adding: content/robo_chess-4/train/images/20250602_131320_mp4-0013_jpg.rf.d1af39bcd0503fcf6e7d3aff3654aac6.jpg (deflated 1%)\n",
            "  adding: content/robo_chess-4/train/images/20250602_131352_mp4-0000_jpg.rf.6931c1696aa37bf71efb2b6572f48f74.jpg (deflated 2%)\n",
            "  adding: content/robo_chess-4/train/images/20250530_145408_jpg.rf.b618e9dceec79f85612c9e0ae82e5122.jpg (deflated 1%)\n",
            "  adding: content/robo_chess-4/train/images/20250602_140652_mp4-0006_jpg.rf.cc616ab12c691a8d61b6b1ed13837934.jpg (deflated 2%)\n",
            "  adding: content/robo_chess-4/train/images/20250602_140741_mp4-0003_jpg.rf.e1e848eaf0009e95942f89ad5b14a788.jpg (deflated 2%)\n",
            "  adding: content/robo_chess-4/train/images/20250601_123958_jpg.rf.f7133dc4f1f7fc6c9ce6c32ba14e975c.jpg (deflated 0%)\n",
            "  adding: content/robo_chess-4/train/images/20250602_131517_mp4-0006_jpg.rf.5deb82a792e2e5324cbbcb5c2d719a76.jpg (deflated 1%)\n",
            "  adding: content/robo_chess-4/train/images/20250602_131320_mp4-0015_jpg.rf.7ff639d1e7fb203d8325f9e3764e8494.jpg (deflated 2%)\n",
            "  adding: content/robo_chess-4/train/images/20250602_140716_mp4-0007_jpg.rf.0937aff1c07d5b4c68142f1cf6c142fc.jpg (deflated 2%)\n",
            "  adding: content/robo_chess-4/train/images/20250530_145405_jpg.rf.e9dfe337e9ea74306cccfd66c180fbf0.jpg (deflated 1%)\n",
            "  adding: content/robo_chess-4/train/images/20250602_140905_mp4-0001_jpg.rf.6056098da2fe54426f2b09bb273c47b7.jpg (deflated 2%)\n",
            "  adding: content/robo_chess-4/train/images/20250602_131427_mp4-0010_jpg.rf.c403fba82c267a0b3c4a506e5cc0dd6f.jpg (deflated 1%)\n",
            "  adding: content/robo_chess-4/train/images/20250602_131352_mp4-0014_jpg.rf.a29f66ebe4a83e5efe6184254a507005.jpg (deflated 2%)\n",
            "  adding: content/robo_chess-4/train/images/20250602_140905_mp4-0002_jpg.rf.b7246b8db63080320bd878f3c1842195.jpg (deflated 1%)\n",
            "  adding: content/robo_chess-4/train/images/20250602_140614_mp4-0010_jpg.rf.f9962d3022dea7b0dc23016ebaefba04.jpg (deflated 1%)\n",
            "  adding: content/robo_chess-4/train/images/20250601_123958_jpg.rf.6727494958635e6cec4d716dc7bcce72.jpg (deflated 0%)\n",
            "  adding: content/robo_chess-4/train/images/20250602_131517_mp4-0013_jpg.rf.2a34bb01795c59019ccfd859a63556b8.jpg (deflated 3%)\n",
            "  adding: content/robo_chess-4/train/images/20250602_131615_mp4-0010_jpg.rf.cf6671114207438d2e3dd2b8dcf78cbd.jpg (deflated 1%)\n",
            "  adding: content/robo_chess-4/train/images/20250602_131448_mp4-0007_jpg.rf.dde096874791f78507539653c282ab67.jpg (deflated 1%)\n",
            "  adding: content/robo_chess-4/train/images/20250601_123826_jpg.rf.bb84e176768bba5e3aed5344d63d2523.jpg (deflated 1%)\n",
            "  adding: content/robo_chess-4/train/images/20250601_123915_jpg.rf.54c22d06c4f7dcaee0abf510d0a7fc82.jpg (deflated 1%)\n",
            "  adding: content/robo_chess-4/train/images/20250602_140905_mp4-0012_jpg.rf.0aae8a4d3fde0acfb5621be9123de8c8.jpg (deflated 2%)\n",
            "  adding: content/robo_chess-4/train/images/20250602_131615_mp4-0001_jpg.rf.393949a37c9f8da1282ddf7bdd357486.jpg (deflated 1%)\n",
            "  adding: content/robo_chess-4/train/images/20250602_131257_mp4-0013_jpg.rf.68ee4fce99b566ab65f4ab779627ab35.jpg (deflated 1%)\n",
            "  adding: content/robo_chess-4/train/images/20250602_131427_mp4-0006_jpg.rf.8005e55f2597c1e871089baa65618b72.jpg (deflated 2%)\n",
            "  adding: content/robo_chess-4/train/images/20250602_131427_mp4-0012_jpg.rf.c14b876b1124af97158323618a1c7f78.jpg (deflated 1%)\n",
            "  adding: content/robo_chess-4/train/images/20250601_123831_jpg.rf.38e3cbe4717f11c4e9fc1bffa9613933.jpg (deflated 0%)\n",
            "  adding: content/robo_chess-4/train/images/20250602_131427_mp4-0011_jpg.rf.07c791c019252e76a46214c6439c417b.jpg (deflated 1%)\n",
            "  adding: content/robo_chess-4/train/images/20250602_131615_mp4-0016_jpg.rf.867fb2a6b5b4c6de7759d14db22bcec9.jpg (deflated 1%)\n",
            "  adding: content/robo_chess-4/train/images/20250602_131257_mp4-0007_jpg.rf.a1f668f3b41eddbc7d4e34632ba27d6d.jpg (deflated 2%)\n",
            "  adding: content/robo_chess-4/train/images/20250602_140652_mp4-0013_jpg.rf.1c5123c43493878c9ef5d0f74f36cc26.jpg (deflated 2%)\n",
            "  adding: content/robo_chess-4/train/images/20250602_140614_mp4-0013_jpg.rf.daebe0b5bb4bbaf9ae18645f0570b0f2.jpg (deflated 1%)\n",
            "  adding: content/robo_chess-4/train/images/20250602_140614_mp4-0005_jpg.rf.f261c3c8d6b773018844eca69c6efdd5.jpg (deflated 1%)\n",
            "  adding: content/robo_chess-4/train/images/20250602_140741_mp4-0010_jpg.rf.01d943205d640fc72d9703ea7b920337.jpg (deflated 1%)\n",
            "  adding: content/robo_chess-4/train/images/20250602_131427_mp4-0000_jpg.rf.138103e2455582864725cea16ca70bad.jpg (deflated 1%)\n",
            "  adding: content/robo_chess-4/train/images/20250602_140847_mp4-0007_jpg.rf.7043015b3dd6430eaa02117c617f81c7.jpg (deflated 2%)\n",
            "  adding: content/robo_chess-4/train/images/20250602_140812_mp4-0005_jpg.rf.134d62248e8a9352ea6d5941d2035071.jpg (deflated 1%)\n",
            "  adding: content/robo_chess-4/train/images/20250602_131352_mp4-0006_jpg.rf.1b377befe215ab93af277cc34dad23a1.jpg (deflated 1%)\n",
            "  adding: content/robo_chess-4/train/images/20250530_145442_jpg.rf.c83c8af2fd2cde990c3ae3bac638cd07.jpg (deflated 0%)\n",
            "  adding: content/robo_chess-4/train/images/20250602_140847_mp4-0004_jpg.rf.f32968ae0966058c79122e9cef5de2db.jpg (deflated 1%)\n",
            "  adding: content/robo_chess-4/train/images/20250601_123816_jpg.rf.aca3e1a5a8a5fca98074062a4de379ff.jpg (deflated 1%)\n",
            "  adding: content/robo_chess-4/train/images/20250602_140716_mp4-0007_jpg.rf.ab9cea0c33f68be961747d8e30b91772.jpg (deflated 1%)\n",
            "  adding: content/robo_chess-4/train/images/20250602_140905_mp4-0018_jpg.rf.1820e2ec550e6ba06ca8f6666f6828cb.jpg (deflated 1%)\n",
            "  adding: content/robo_chess-4/train/images/20250602_140812_mp4-0001_jpg.rf.0ccce2c425d6e64359f584bfe6bf2cf3.jpg (deflated 1%)\n",
            "  adding: content/robo_chess-4/train/images/20250602_131517_mp4-0012_jpg.rf.8da6944bb784b74315a70e60c6f75d54.jpg (deflated 2%)\n",
            "  adding: content/robo_chess-4/train/images/20250602_140812_mp4-0016_jpg.rf.a2d7079525717f5b1cbeed49dd754678.jpg (deflated 1%)\n",
            "  adding: content/robo_chess-4/train/images/20250602_140741_mp4-0010_jpg.rf.4152f87e3ddc014acac63f5fe8c6f988.jpg (deflated 1%)\n",
            "  adding: content/robo_chess-4/train/images/20250602_140847_mp4-0001_jpg.rf.16dc0dc1f9b2cb27a5ad2f877d0ef333.jpg (deflated 1%)\n",
            "  adding: content/robo_chess-4/train/images/20250602_140741_mp4-0007_jpg.rf.6b5e6c71d3bc5470518cf18b64165dfb.jpg (deflated 2%)\n",
            "  adding: content/robo_chess-4/train/images/20250602_140812_mp4-0014_jpg.rf.68b110572f7d5406d203dba1274d7d02.jpg (deflated 1%)\n",
            "  adding: content/robo_chess-4/train/images/20250602_140905_mp4-0004_jpg.rf.8ed7ddb869d4c29a9e43fdcb2de39947.jpg (deflated 2%)\n",
            "  adding: content/robo_chess-4/train/images/20250530_145604_jpg.rf.d6458990b4025bedea976c421dd73833.jpg (deflated 1%)\n",
            "  adding: content/robo_chess-4/train/images/20250601_123950_jpg.rf.af3e31ab949fb4b6b371b9b4688a25d2.jpg (deflated 1%)\n",
            "  adding: content/robo_chess-4/train/images/20250602_140741_mp4-0001_jpg.rf.2a37e765ccea0f1df89c6f2e4c4eea38.jpg (deflated 1%)\n",
            "  adding: content/robo_chess-4/train/images/20250602_140847_mp4-0001_jpg.rf.65d49b491ebc4d4f29bcbe8507c9e174.jpg (deflated 1%)\n",
            "  adding: content/robo_chess-4/train/images/20250602_131448_mp4-0002_jpg.rf.e843fc40799820f2306842265912ef04.jpg (deflated 2%)\n",
            "  adding: content/robo_chess-4/train/images/20250602_131615_mp4-0003_jpg.rf.49026bc928692c5e4fe308f59de80d6e.jpg (deflated 1%)\n",
            "  adding: content/robo_chess-4/train/images/20250602_131517_mp4-0006_jpg.rf.e610a5caf39f6ff7fa45193b16432b02.jpg (deflated 1%)\n",
            "  adding: content/robo_chess-4/train/images/20250602_131448_mp4-0009_jpg.rf.54e7914a1e94db0db886e793d023f3ce.jpg (deflated 1%)\n",
            "  adding: content/robo_chess-4/train/images/20250530_145327_jpg.rf.be86466cc0e164a8c18740a5b1bf0aa7.jpg (deflated 1%)\n",
            "  adding: content/robo_chess-4/train/images/20250602_140812_mp4-0013_jpg.rf.8dc30e6766ae3431f9bc65441d3928f0.jpg (deflated 1%)\n",
            "  adding: content/robo_chess-4/train/images/20250602_131257_mp4-0000_jpg.rf.9a7d14ab6de50af345ef43397ad21840.jpg (deflated 2%)\n",
            "  adding: content/robo_chess-4/train/images/20250530_145359_jpg.rf.d61476c52ec6433ce1ab2173060fdc24.jpg (deflated 1%)\n",
            "  adding: content/robo_chess-4/train/images/20250602_131615_mp4-0006_jpg.rf.9833b71fc25e7f038960a21cbebe37db.jpg (deflated 1%)\n",
            "  adding: content/robo_chess-4/train/images/20250602_131448_mp4-0009_jpg.rf.8afe0ced8394f95d91c092c011b6d601.jpg (deflated 1%)\n",
            "  adding: content/robo_chess-4/train/images/20250602_140905_mp4-0005_jpg.rf.c613d24d91c02a44bda27301e9976094.jpg (deflated 1%)\n",
            "  adding: content/robo_chess-4/train/images/20250602_140614_mp4-0012_jpg.rf.76d03c2b18c4a2db6cd1ab6386d8a2a4.jpg (deflated 2%)\n",
            "  adding: content/robo_chess-4/train/images/20250602_131517_mp4-0009_jpg.rf.690ee13ec69f68134fd67ac93066d701.jpg (deflated 1%)\n",
            "  adding: content/robo_chess-4/train/images/20250602_140905_mp4-0013_jpg.rf.d02d1ee3fe31c9535457da9118095de8.jpg (deflated 1%)\n",
            "  adding: content/robo_chess-4/train/images/20250602_140652_mp4-0007_jpg.rf.af854255b88dab39676e3ec0f8302644.jpg (deflated 2%)\n",
            "  adding: content/robo_chess-4/train/images/20250602_140614_mp4-0011_jpg.rf.868fa8d87273f47a111999b6a9bb2ca7.jpg (deflated 2%)\n",
            "  adding: content/robo_chess-4/train/images/20250602_140614_mp4-0009_jpg.rf.b1b0a5dcc016c28b93d6d8f5f56847c1.jpg (deflated 1%)\n",
            "  adding: content/robo_chess-4/train/images/20250530_145537_jpg.rf.8cd35560a428bf1a16841392f88dbe3d.jpg (deflated 1%)\n",
            "  adding: content/robo_chess-4/train/images/20250602_131448_mp4-0002_jpg.rf.5457df89532d05471b3fd9066c1172ff.jpg (deflated 2%)\n",
            "  adding: content/robo_chess-4/train/images/20250601_123828_jpg.rf.9a20dcd11b4d4790f6d8520ebcfdd075.jpg (deflated 0%)\n",
            "  adding: content/robo_chess-4/train/images/20250602_140812_mp4-0014_jpg.rf.5d4de64a11f7178d507b5b05b46ce12f.jpg (deflated 1%)\n",
            "  adding: content/robo_chess-4/train/images/20250602_131615_mp4-0016_jpg.rf.128b80ed14acf44bff157283c9532ad9.jpg (deflated 1%)\n",
            "  adding: content/robo_chess-4/train/images/20250602_131615_mp4-0002_jpg.rf.c486d5b36b2bd98b4b9171420cbb15ab.jpg (deflated 2%)\n",
            "  adding: content/robo_chess-4/train/images/20250602_140652_mp4-0005_jpg.rf.68b4f33c154054fd84fe2e7740f3dc1f.jpg (deflated 2%)\n",
            "  adding: content/robo_chess-4/train/images/20250602_131427_mp4-0010_jpg.rf.280dcb4ad84b49cd127997ceccfb56ec.jpg (deflated 1%)\n",
            "  adding: content/robo_chess-4/train/images/20250602_131427_mp4-0007_jpg.rf.a1472e721866be927c3a391734a209fd.jpg (deflated 1%)\n",
            "  adding: content/robo_chess-4/train/images/20250602_131448_mp4-0007_jpg.rf.08be7f37fa67cb57378bd95ef863d388.jpg (deflated 2%)\n",
            "  adding: content/robo_chess-4/train/images/20250601_124015_jpg.rf.9e2a734aba1e9294ab0749ef56666d1f.jpg (deflated 0%)\n",
            "  adding: content/robo_chess-4/train/images/20250602_131320_mp4-0009_jpg.rf.2b393087d3dec2ae9ed84a3d3aeabd05.jpg (deflated 1%)\n",
            "  adding: content/robo_chess-4/train/images/20250530_145358_jpg.rf.0bec1626fbb01feebcac7bcc5ec5b1bd.jpg (deflated 1%)\n",
            "  adding: content/robo_chess-4/train/images/20250602_131427_mp4-0004_jpg.rf.42a07ed9003492d9ebb6ec39132546bd.jpg (deflated 1%)\n",
            "  adding: content/robo_chess-4/train/images/20250602_131427_mp4-0003_jpg.rf.d3de28975080b63548d901e86e4acd5b.jpg (deflated 1%)\n",
            "  adding: content/robo_chess-4/train/images/20250602_131352_mp4-0013_jpg.rf.72ebd24df09be77c93c22ca39bc53a50.jpg (deflated 1%)\n",
            "  adding: content/robo_chess-4/train/images/20250602_131320_mp4-0007_jpg.rf.dd1aaf5197b876e69b694c0e36ae2ab8.jpg (deflated 2%)\n",
            "  adding: content/robo_chess-4/train/images/20250602_140716_mp4-0007_jpg.rf.659b9a7629f26c6c374d411e0da4f29a.jpg (deflated 2%)\n",
            "  adding: content/robo_chess-4/train/images/20250602_131352_mp4-0011_jpg.rf.bf0e124255b364a610ebe63700caa32f.jpg (deflated 2%)\n",
            "  adding: content/robo_chess-4/train/images/20250602_131257_mp4-0003_jpg.rf.238e2220e89186dba3e40be89fe29856.jpg (deflated 1%)\n",
            "  adding: content/robo_chess-4/train/images/20250602_140847_mp4-0005_jpg.rf.04da9ec72625b5179935de44f8e0fb7c.jpg (deflated 1%)\n",
            "  adding: content/robo_chess-4/train/images/20250602_131427_mp4-0005_jpg.rf.73d6d744fa1c5b0f724172f0e5bd738f.jpg (deflated 1%)\n",
            "  adding: content/robo_chess-4/train/images/20250601_124022_jpg.rf.6d416c8f44eaca7560e5cad57373fb28.jpg (deflated 0%)\n",
            "  adding: content/robo_chess-4/train/images/20250602_131517_mp4-0007_jpg.rf.869167d9071d44555cec9858ea0de1c8.jpg (deflated 1%)\n",
            "  adding: content/robo_chess-4/train/images/20250602_140847_mp4-0003_jpg.rf.e0f5e9fb430ae34f9915e1bb4c7526b8.jpg (deflated 1%)\n",
            "  adding: content/robo_chess-4/train/images/20250601_123822_jpg.rf.874bf736e924a6b6effdf4d89817803e.jpg (deflated 0%)\n",
            "  adding: content/robo_chess-4/train/images/20250602_140741_mp4-0007_jpg.rf.7072ad41bc3cb3e930a41c33a9744ba7.jpg (deflated 1%)\n",
            "  adding: content/robo_chess-4/train/images/20250602_131352_mp4-0015_jpg.rf.21d761a2e23fa0dd1d39a05132f773fb.jpg (deflated 2%)\n",
            "  adding: content/robo_chess-4/train/images/20250601_123826_jpg.rf.b2c24f3f96171d8a2317cd36e9928c9b.jpg (deflated 0%)\n",
            "  adding: content/robo_chess-4/train/images/20250530_145427_jpg.rf.538b71ee74824f4553846cb3cb030cc0.jpg (deflated 1%)\n",
            "  adding: content/robo_chess-4/train/images/20250602_140847_mp4-0003_jpg.rf.b92270e34307a45b943fa113dca86412.jpg (deflated 2%)\n",
            "  adding: content/robo_chess-4/train/images/20250602_140614_mp4-0007_jpg.rf.68d1df9bb36c017bca3b57e6dcf9be15.jpg (deflated 1%)\n",
            "  adding: content/robo_chess-4/train/images/20250602_140905_mp4-0002_jpg.rf.356c76f9c8647b760082a08250042b67.jpg (deflated 1%)\n",
            "  adding: content/robo_chess-4/train/images/20250602_140614_mp4-0009_jpg.rf.15af36045e361de87e4e8b832440aca6.jpg (deflated 1%)\n",
            "  adding: content/robo_chess-4/train/images/20250602_131257_mp4-0010_jpg.rf.ce46eea63a9cdf4a0a13717bee4dcf7c.jpg (deflated 2%)\n",
            "  adding: content/robo_chess-4/train/images/20250602_140812_mp4-0007_jpg.rf.c9b466fbdd583b6308bd940d6fea4da7.jpg (deflated 1%)\n",
            "  adding: content/robo_chess-4/train/images/20250602_140614_mp4-0012_jpg.rf.9f5d477ec801ad130b206266600316c4.jpg (deflated 1%)\n",
            "  adding: content/robo_chess-4/train/images/20250601_123828_jpg.rf.f6c5aafe5a2589442364ba7bdbc3849b.jpg (deflated 0%)\n",
            "  adding: content/robo_chess-4/train/images/20250602_140847_mp4-0004_jpg.rf.48c6c667f7b14eaf803bd9bc5e4f04c5.jpg (deflated 1%)\n",
            "  adding: content/robo_chess-4/train/images/20250602_131320_mp4-0011_jpg.rf.6b08885ef468b47b373ca03b691fb60c.jpg (deflated 2%)\n",
            "  adding: content/robo_chess-4/train/images/20250602_140716_mp4-0000_jpg.rf.460ff806c22df944c956eee300c95025.jpg (deflated 2%)\n",
            "  adding: content/robo_chess-4/train/images/20250602_140652_mp4-0001_jpg.rf.081782524eec3f90509f48568aaeaf7e.jpg (deflated 1%)\n",
            "  adding: content/robo_chess-4/train/images/20250601_123816_jpg.rf.f966a92497ac49255e32826e57f1d7d3.jpg (deflated 0%)\n",
            "  adding: content/robo_chess-4/train/images/20250602_131615_mp4-0008_jpg.rf.fb0237ffbfd2cff6239f6b9c75de91fb.jpg (deflated 1%)\n",
            "  adding: content/robo_chess-4/train/images/20250602_131448_mp4-0009_jpg.rf.1bf8fc4d1b30e3bfd80d7c418f34cee2.jpg (deflated 2%)\n",
            "  adding: content/robo_chess-4/train/images/20250602_131320_mp4-0008_jpg.rf.d33e4c4b8cea6ec52833c9ccf5d1efdf.jpg (deflated 2%)\n",
            "  adding: content/robo_chess-4/train/images/20250601_123834_jpg.rf.70472c82418bb59b48a4e11ea4a74063.jpg (deflated 0%)\n",
            "  adding: content/robo_chess-4/train/images/20250602_140652_mp4-0003_jpg.rf.d9f3d8ef7caa326a139a07c6538ac0fd.jpg (deflated 1%)\n",
            "  adding: content/robo_chess-4/train/images/20250602_131352_mp4-0015_jpg.rf.9fc9f88911dd9f396917909445a429d9.jpg (deflated 2%)\n",
            "  adding: content/robo_chess-4/train/images/20250530_145342_jpg.rf.db19948b38b2b50475de22e8401ea756.jpg (deflated 1%)\n",
            "  adding: content/robo_chess-4/train/images/20250602_140847_mp4-0009_jpg.rf.73158535d78e37101b832a775ed0ad84.jpg (deflated 1%)\n",
            "  adding: content/robo_chess-4/train/images/20250602_140652_mp4-0008_jpg.rf.d8456cf6fe0991e791d7d6431fb200ec.jpg (deflated 1%)\n",
            "  adding: content/robo_chess-4/train/images/20250602_131615_mp4-0010_jpg.rf.b4969699c92fcf0182c93c654c6bafb4.jpg (deflated 1%)\n",
            "  adding: content/robo_chess-4/train/images/20250602_131448_mp4-0008_jpg.rf.15a29503b8f274628bd17b1f3ae5987a.jpg (deflated 1%)\n",
            "  adding: content/robo_chess-4/train/images/20250602_131320_mp4-0015_jpg.rf.93ff4da1940dcd5a60587b4dfad83758.jpg (deflated 2%)\n",
            "  adding: content/robo_chess-4/train/images/20250602_140905_mp4-0019_jpg.rf.b316082cce0ec5f995f67f8c932e6282.jpg (deflated 1%)\n",
            "  adding: content/robo_chess-4/train/images/20250602_131448_mp4-0010_jpg.rf.e7b50e83e99bf232b038ec1d2fc85837.jpg (deflated 1%)\n",
            "  adding: content/robo_chess-4/train/images/20250602_140652_mp4-0017_jpg.rf.45cf1154389cf8c7453d072bff9a14ef.jpg (deflated 2%)\n",
            "  adding: content/robo_chess-4/train/images/20250530_145517_jpg.rf.70538204850566b5400510d8822a8ae8.jpg (deflated 0%)\n",
            "  adding: content/robo_chess-4/train/images/20250602_140905_mp4-0000_jpg.rf.f83ba5d2ebea4e2b20da169d65131dae.jpg (deflated 4%)\n",
            "  adding: content/robo_chess-4/train/images/20250601_123826_jpg.rf.030810dbe0db5fa765dc6bbbdf8bef04.jpg (deflated 0%)\n",
            "  adding: content/robo_chess-4/train/images/20250602_140905_mp4-0008_jpg.rf.cd6c6f804c2b9380832d17921d6f558c.jpg (deflated 2%)\n",
            "  adding: content/robo_chess-4/train/images/20250602_131352_mp4-0015_jpg.rf.499eee2f876fccd8e981186cee117df0.jpg (deflated 2%)\n",
            "  adding: content/robo_chess-4/train/images/20250602_140652_mp4-0017_jpg.rf.35aa61c3333132b49276a7cb0c15f800.jpg (deflated 2%)\n",
            "  adding: content/robo_chess-4/train/images/20250530_145337_jpg.rf.8c156067b4c115c5b71d460939138a4d.jpg (deflated 1%)\n",
            "  adding: content/robo_chess-4/train/images/20250602_140652_mp4-0007_jpg.rf.e088385d4ee5deecda2b62c8b9c8eb63.jpg (deflated 1%)\n",
            "  adding: content/robo_chess-4/train/images/20250602_131615_mp4-0015_jpg.rf.aa68e3cde08bd653aa1b16d1fb424ab6.jpg (deflated 1%)\n",
            "  adding: content/robo_chess-4/train/images/20250602_140716_mp4-0000_jpg.rf.0c7bccacac6ba1e6df117f6e5cbf1ac4.jpg (deflated 1%)\n",
            "  adding: content/robo_chess-4/train/images/20250530_145552_jpg.rf.c83495b3f1f1b8f3d9317d2b7a632cc3.jpg (deflated 1%)\n",
            "  adding: content/robo_chess-4/train/images/20250602_140812_mp4-0013_jpg.rf.ae07a23632f154e7d91b8fcd16afe8ea.jpg (deflated 2%)\n",
            "  adding: content/robo_chess-4/train/images/20250602_140812_mp4-0003_jpg.rf.bb582f5f04497edb820b9dbb44d5c674.jpg (deflated 2%)\n",
            "  adding: content/robo_chess-4/train/images/20250602_131615_mp4-0011_jpg.rf.1c827a35c1c1452daa77c5749b54b4cf.jpg (deflated 1%)\n",
            "  adding: content/robo_chess-4/train/images/20250602_140905_mp4-0002_jpg.rf.6898352e677d06a1d3b32f32d9c3c85f.jpg (deflated 2%)\n",
            "  adding: content/robo_chess-4/train/images/20250602_140614_mp4-0002_jpg.rf.651d37d54042c08b511cf82eee200113.jpg (deflated 0%)\n",
            "  adding: content/robo_chess-4/train/images/20250530_145327_jpg.rf.8256d916d128198d6032def6d675b3ab.jpg (deflated 1%)\n",
            "  adding: content/robo_chess-4/train/images/20250602_131320_mp4-0016_jpg.rf.beb560fc17b88d73b884140357275d5f.jpg (deflated 2%)\n",
            "  adding: content/robo_chess-4/train/images/20250601_124005_jpg.rf.62dbb971b7acd294df62d149df10141c.jpg (deflated 0%)\n",
            "  adding: content/robo_chess-4/train/images/20250530_145342_jpg.rf.a8e3bff031647133bd170edfa790a1c7.jpg (deflated 0%)\n",
            "  adding: content/robo_chess-4/train/images/20250530_145552_jpg.rf.7dbc0410466b0130b560670b284001af.jpg (deflated 1%)\n",
            "  adding: content/robo_chess-4/train/images/20250602_131517_mp4-0011_jpg.rf.eb0f048ff2cbff3c3d0a9fe7821958d3.jpg (deflated 1%)\n",
            "  adding: content/robo_chess-4/train/images/20250530_145340_jpg.rf.925c6bb6e90591c682c9203b9f9f039a.jpg (deflated 0%)\n",
            "  adding: content/robo_chess-4/train/images/20250602_140652_mp4-0000_jpg.rf.10e9181ab6d2f905290175c4743fa700.jpg (deflated 1%)\n",
            "  adding: content/robo_chess-4/train/images/20250602_131448_mp4-0003_jpg.rf.6e5d98e86dce2c7ef51d388d041ab7b7.jpg (deflated 2%)\n",
            "  adding: content/robo_chess-4/train/images/20250602_131320_mp4-0016_jpg.rf.5a77074f06042853a17358a7962d5015.jpg (deflated 3%)\n",
            "  adding: content/robo_chess-4/train/images/20250602_140741_mp4-0003_jpg.rf.ae9272accddfd4dac3c8557c100aa4fb.jpg (deflated 1%)\n",
            "  adding: content/robo_chess-4/train/images/20250602_140812_mp4-0009_jpg.rf.a626685d562e7fced8004cde9221c13b.jpg (deflated 1%)\n",
            "  adding: content/robo_chess-4/train/images/20250602_140812_mp4-0015_jpg.rf.d54f07f4e3be53d0dcacb597a831e08a.jpg (deflated 1%)\n",
            "  adding: content/robo_chess-4/train/images/20250602_131615_mp4-0004_jpg.rf.b32bf09cbcd77554ef7da81e4c3ddc41.jpg (deflated 1%)\n",
            "  adding: content/robo_chess-4/train/images/20250530_145405_jpg.rf.eea6c64d287e8d3f89c76a5bdfd8247c.jpg (deflated 0%)\n",
            "  adding: content/robo_chess-4/train/images/20250602_140716_mp4-0005_jpg.rf.9483857ab864356a25e6a5a949c36337.jpg (deflated 1%)\n",
            "  adding: content/robo_chess-4/train/images/20250602_131352_mp4-0012_jpg.rf.badfd2923a8fe58c9682bbc18e6d36e5.jpg (deflated 2%)\n",
            "  adding: content/robo_chess-4/train/images/20250602_140905_mp4-0008_jpg.rf.fcd613b78359b2427df0a36e2ce3554c.jpg (deflated 2%)\n",
            "  adding: content/robo_chess-4/train/images/20250602_131352_mp4-0011_jpg.rf.89d40ee120983dc264f24a83b0dfee35.jpg (deflated 2%)\n",
            "  adding: content/robo_chess-4/train/images/20250602_140614_mp4-0013_jpg.rf.6cc040971d51feed51cb20375017e628.jpg (deflated 2%)\n",
            "  adding: content/robo_chess-4/train/images/20250602_131352_mp4-0011_jpg.rf.2d19e0321215d95871a1734b4067aa25.jpg (deflated 1%)\n",
            "  adding: content/robo_chess-4/train/images/20250530_145358_jpg.rf.9bdd7dc8e48f9d1b71cc01bc03b5f550.jpg (deflated 1%)\n",
            "  adding: content/robo_chess-4/train/images/20250530_145430_jpg.rf.519122e7980028bae25aeb4d7b331792.jpg (deflated 0%)\n",
            "  adding: content/robo_chess-4/train/images/20250530_145520_jpg.rf.38c02f50d18e0776a8726f8f290ddc09.jpg (deflated 1%)\n",
            "  adding: content/robo_chess-4/train/images/20250530_145445_jpg.rf.06c60808e2c306d290938aa44ee73816.jpg (deflated 1%)\n",
            "  adding: content/robo_chess-4/train/images/20250602_140652_mp4-0001_jpg.rf.473a12c16deeb836ba2a269cc5a6659c.jpg (deflated 1%)\n",
            "  adding: content/robo_chess-4/train/images/20250530_145445_jpg.rf.8340fa93b8e6c62d847f614c34642dd5.jpg (deflated 1%)\n",
            "  adding: content/robo_chess-4/train/images/20250601_124019_jpg.rf.de1ba48ba569ecc2870df4f16500d329.jpg (deflated 0%)\n",
            "  adding: content/robo_chess-4/train/images/20250602_131615_mp4-0005_jpg.rf.7153796ac2052f055b5e57a89e2e7024.jpg (deflated 1%)\n",
            "  adding: content/robo_chess-4/train/images/20250530_145457_jpg.rf.84c0898ed0f894a5eed0be2115469852.jpg (deflated 1%)\n",
            "  adding: content/robo_chess-4/train/images/20250602_140652_mp4-0006_jpg.rf.cd15c954e40977a71971361e1c3a7b2b.jpg (deflated 2%)\n",
            "  adding: content/robo_chess-4/train/images/20250602_140905_mp4-0014_jpg.rf.5c193c1ab7944516ea860c51fe4c4b2b.jpg (deflated 3%)\n",
            "  adding: content/robo_chess-4/train/images/20250602_140716_mp4-0001_jpg.rf.9039073cb399f896f53e10578eb70e79.jpg (deflated 2%)\n",
            "  adding: content/robo_chess-4/train/images/20250602_140905_mp4-0008_jpg.rf.11c1887af188aa6e7b56157cc726417c.jpg (deflated 1%)\n",
            "  adding: content/robo_chess-4/train/images/20250602_131257_mp4-0007_jpg.rf.b2279001780a7402ae4050b40f3f5a2a.jpg (deflated 1%)\n",
            "  adding: content/robo_chess-4/train/images/20250602_131448_mp4-0008_jpg.rf.f777a69052cb836f38b18cd7a13ec077.jpg (deflated 1%)\n",
            "  adding: content/robo_chess-4/train/images/20250602_140812_mp4-0014_jpg.rf.7b4312aa592b21a470948ddc31b6e434.jpg (deflated 2%)\n",
            "  adding: content/robo_chess-4/train/images/20250602_131615_mp4-0004_jpg.rf.0910394dcaebf823a25b730ecffd616f.jpg (deflated 1%)\n",
            "  adding: content/robo_chess-4/train/images/20250530_145537_jpg.rf.39815f61add553bc8ae78c006fb65ec6.jpg (deflated 0%)\n",
            "  adding: content/robo_chess-4/train/images/20250602_140614_mp4-0007_jpg.rf.f5bfcc4efc66d92c4077c8f64d624f0f.jpg (deflated 1%)\n",
            "  adding: content/robo_chess-4/train/images/20250602_131517_mp4-0012_jpg.rf.d38423f2672ea121abbc6d85bd366be8.jpg (deflated 2%)\n",
            "  adding: content/robo_chess-4/train/images/20250602_131352_mp4-0010_jpg.rf.343703b55e4faaa8491009f421216fba.jpg (deflated 1%)\n",
            "  adding: content/robo_chess-4/train/images/20250602_140812_mp4-0000_jpg.rf.4984c3ee8278a2c6277414d94a44d9fb.jpg (deflated 1%)\n",
            "  adding: content/robo_chess-4/train/images/20250602_131352_mp4-0013_jpg.rf.42a617d6fa500fbbef050e310a03d024.jpg (deflated 2%)\n",
            "  adding: content/robo_chess-4/train/images/20250530_145447_jpg.rf.3c586c425da10a7a06d827ebb9cf4869.jpg (deflated 1%)\n",
            "  adding: content/robo_chess-4/train/images/20250602_140614_mp4-0005_jpg.rf.4e2a581c040675cb36729ff74f74b976.jpg (deflated 1%)\n",
            "  adding: content/robo_chess-4/train/images/20250602_140847_mp4-0014_jpg.rf.df0b20528f6495aa60cb9a7011419cce.jpg (deflated 1%)\n",
            "  adding: content/robo_chess-4/train/images/20250602_131517_mp4-0006_jpg.rf.2e105ee5f01ef39b7c818a7a29542583.jpg (deflated 1%)\n",
            "  adding: content/robo_chess-4/train/images/20250602_140847_mp4-0002_jpg.rf.29142b677fd86cd01f7ce1bd7d5465da.jpg (deflated 1%)\n",
            "  adding: content/robo_chess-4/train/images/20250602_131320_mp4-0003_jpg.rf.dd199be70dea511601ef4c9c0c8d717f.jpg (deflated 2%)\n",
            "  adding: content/robo_chess-4/train/images/20250601_124025_jpg.rf.02551bbf14ebb32fce58fcb859f50128.jpg (deflated 1%)\n",
            "  adding: content/robo_chess-4/train/images/20250602_140614_mp4-0011_jpg.rf.875f9314565e04b81cd5b656dd022f7a.jpg (deflated 2%)\n",
            "  adding: content/robo_chess-4/train/images/20250602_140652_mp4-0016_jpg.rf.2f17d1c25a184deab7e4c77beb145716.jpg (deflated 2%)\n",
            "  adding: content/robo_chess-4/train/images/20250530_145347_jpg.rf.b3a41d714bf815c45a0d7afa5c616e44.jpg (deflated 1%)\n",
            "  adding: content/robo_chess-4/train/images/20250530_145340_jpg.rf.9f04309c60b239843a2f1cb795148abe.jpg (deflated 1%)\n",
            "  adding: content/robo_chess-4/train/images/20250602_131517_mp4-0001_jpg.rf.2f6dacc2f8d6a2f986027db3fda2a1f3.jpg (deflated 1%)\n",
            "  adding: content/robo_chess-4/train/images/20250601_124019_jpg.rf.3f4a83a2462251d9ae866260946f1585.jpg (deflated 0%)\n",
            "  adding: content/robo_chess-4/train/images/20250602_131352_mp4-0006_jpg.rf.8db6707a1d1a610b4817b1f4f0951867.jpg (deflated 2%)\n",
            "  adding: content/robo_chess-4/train/images/20250602_140847_mp4-0002_jpg.rf.2c0bf57a7cc37be07599bdc5a638e3f7.jpg (deflated 2%)\n",
            "  adding: content/robo_chess-4/train/images/20250602_140741_mp4-0001_jpg.rf.798110f1fc2c3182662973a3dbfc49f1.jpg (deflated 1%)\n",
            "  adding: content/robo_chess-4/train/images/20250602_131615_mp4-0005_jpg.rf.0abac8430701d1c94d4adf6b3ddab01b.jpg (deflated 1%)\n",
            "  adding: content/robo_chess-4/train/images/20250602_140652_mp4-0014_jpg.rf.69d4836e75fd0ac646dd4c7dd3e46ae3.jpg (deflated 2%)\n",
            "  adding: content/robo_chess-4/train/images/20250602_131320_mp4-0008_jpg.rf.8ea9815af76b44e9a810615b5d0aba6d.jpg (deflated 2%)\n",
            "  adding: content/robo_chess-4/train/images/20250602_131257_mp4-0011_jpg.rf.6b6b48f8f13c82c05e4d06de7b7095a7.jpg (deflated 2%)\n",
            "  adding: content/robo_chess-4/train/images/20250602_140614_mp4-0013_jpg.rf.3d061d64003bf3a1be8eeca027cdeadc.jpg (deflated 2%)\n",
            "  adding: content/robo_chess-4/train/images/20250602_140847_mp4-0007_jpg.rf.e0f84df0593aacf7ed0c134ba7c4965c.jpg (deflated 1%)\n",
            "  adding: content/robo_chess-4/train/images/20250602_131448_mp4-0005_jpg.rf.6f6a46002c2779df769022532ccdb1b9.jpg (deflated 1%)\n",
            "  adding: content/robo_chess-4/train/images/20250602_140905_mp4-0014_jpg.rf.ef0e78b462ce5cb31b86dc540c0ed804.jpg (deflated 1%)\n",
            "  adding: content/robo_chess-4/train/images/20250602_131517_mp4-0012_jpg.rf.ee31b3206d6d6cbd3687c9c478805329.jpg (deflated 1%)\n",
            "  adding: content/robo_chess-4/train/images/20250602_131257_mp4-0009_jpg.rf.8f2b738601c29749970f2faef3d21454.jpg (deflated 1%)\n",
            "  adding: content/robo_chess-4/train/images/20250602_140741_mp4-0008_jpg.rf.e70ac637b8e03aba06ce5a468c5955e6.jpg (deflated 2%)\n",
            "  adding: content/robo_chess-4/train/images/20250602_140741_mp4-0010_jpg.rf.6908bd2afe0bddabca6edc8f836d56a7.jpg (deflated 1%)\n",
            "  adding: content/robo_chess-4/train/images/20250601_124005_jpg.rf.1beb07f08adedf406183c1dad5895231.jpg (deflated 1%)\n",
            "  adding: content/robo_chess-4/train/images/20250602_131320_mp4-0015_jpg.rf.3e4de7fcdd5f4c228bf7e4deaaf29dbd.jpg (deflated 1%)\n",
            "  adding: content/robo_chess-4/train/images/20250602_140812_mp4-0016_jpg.rf.713dcd6f1eeb54b0691e1d8940fe47fa.jpg (deflated 2%)\n",
            "  adding: content/robo_chess-4/train/images/20250602_140716_mp4-0004_jpg.rf.fbad69a16ec685371b51c4d6e218e761.jpg (deflated 1%)\n",
            "  adding: content/robo_chess-4/train/images/20250602_131257_mp4-0010_jpg.rf.c0b5094b5d0a0bcc2cb786feb3973428.jpg (deflated 2%)\n",
            "  adding: content/robo_chess-4/train/images/20250601_123822_jpg.rf.7c1dfd1d31b9c3b6605145a0e7bc1374.jpg (deflated 0%)\n",
            "  adding: content/robo_chess-4/train/images/20250602_140905_mp4-0005_jpg.rf.37a8ec78bfd8cfc50c0bc51fa65ede9d.jpg (deflated 1%)\n",
            "  adding: content/robo_chess-4/train/images/20250530_145340_jpg.rf.b1c7a3e61021fec3d44af304c001f2d1.jpg (deflated 1%)\n",
            "  adding: content/robo_chess-4/train/images/20250601_123841_jpg.rf.4f2469b418fa695c1bf717d3a952970e.jpg (deflated 0%)\n",
            "  adding: content/robo_chess-4/train/images/20250602_131352_mp4-0012_jpg.rf.a4f4c69403cba031e60d0d63c096157f.jpg (deflated 3%)\n",
            "  adding: content/robo_chess-4/train/images/20250602_140812_mp4-0003_jpg.rf.6b8357cdea957e204813d9b99908a1e5.jpg (deflated 1%)\n",
            "  adding: content/robo_chess-4/train/images/20250602_140847_mp4-0014_jpg.rf.44a19c0817e67ab33006261deb8ab7f8.jpg (deflated 2%)\n",
            "  adding: content/robo_chess-4/train/images/20250602_131615_mp4-0016_jpg.rf.6546cd14500c0a0d5feb4146811a3f36.jpg (deflated 2%)\n",
            "  adding: content/robo_chess-4/train/images/20250602_140905_mp4-0012_jpg.rf.0b0975206df63e0db317f61fe2b11794.jpg (deflated 1%)\n",
            "  adding: content/robo_chess-4/train/images/20250601_124025_jpg.rf.8028cef644d18acbce5cdcad469b8d89.jpg (deflated 0%)\n",
            "  adding: content/robo_chess-4/train/images/20250602_140812_mp4-0007_jpg.rf.86a6b5156cd946029501d1bd648914eb.jpg (deflated 1%)\n",
            "  adding: content/robo_chess-4/train/images/20250602_140614_mp4-0003_jpg.rf.bc573c72722d91f15386ff7450b55c00.jpg (deflated 1%)\n",
            "  adding: content/robo_chess-4/train/images/20250602_131517_mp4-0011_jpg.rf.1091e947ab0c0dcbaf536f29bc57dafc.jpg (deflated 1%)\n",
            "  adding: content/robo_chess-4/train/images/20250601_123855_jpg.rf.e85172c3accb96e39a0d798b818b016b.jpg (deflated 0%)\n",
            "  adding: content/robo_chess-4/train/images/20250601_123855_jpg.rf.eab028c74d86dacf684c02e6d4a3f841.jpg (deflated 0%)\n",
            "  adding: content/robo_chess-4/train/images/20250601_123834_jpg.rf.6de732bf16f7431c03a4461e9241680c.jpg (deflated 1%)\n",
            "  adding: content/robo_chess-4/train/images/20250602_131320_mp4-0011_jpg.rf.d4decad58f3b307c7d995ddb499ebad7.jpg (deflated 2%)\n",
            "  adding: content/robo_chess-4/train/images/20250602_140812_mp4-0011_jpg.rf.362cde4e1d54aab7f86aa2c4ddc0f6c9.jpg (deflated 1%)\n",
            "  adding: content/robo_chess-4/train/images/20250602_131320_mp4-0012_jpg.rf.36569621f1932754173b0e6fb3279512.jpg (deflated 2%)\n",
            "  adding: content/robo_chess-4/train/images/20250602_131352_mp4-0013_jpg.rf.0429cae73a8e2aa704b5ec0e57dd2adb.jpg (deflated 1%)\n",
            "  adding: content/robo_chess-4/train/images/20250602_140847_mp4-0013_jpg.rf.2afa3db0ab8c9dac563a0da344c85617.jpg (deflated 2%)\n",
            "  adding: content/robo_chess-4/train/images/20250602_140905_mp4-0000_jpg.rf.c8e72eee7b5ac6dd7d1b168b44eb8df1.jpg (deflated 2%)\n",
            "  adding: content/robo_chess-4/train/images/20250602_131427_mp4-0012_jpg.rf.8676d33b688ded6cf93edf8c6e05bb67.jpg (deflated 1%)\n",
            "  adding: content/robo_chess-4/train/images/20250602_131517_mp4-0007_jpg.rf.1eb3a9047b0b2cd491b4135cee799179.jpg (deflated 1%)\n",
            "  adding: content/robo_chess-4/train/images/20250602_131427_mp4-0006_jpg.rf.9de1d947c25934f0c829f03edb00a7ce.jpg (deflated 2%)\n",
            "  adding: content/robo_chess-4/train/images/20250601_124015_jpg.rf.1b5b4b924f9b1e9a75a7fe7aa894a9ac.jpg (deflated 0%)\n",
            "  adding: content/robo_chess-4/train/images/20250602_131615_mp4-0003_jpg.rf.7fe89a83350739a25a27e90cbfced2e6.jpg (deflated 2%)\n",
            "  adding: content/robo_chess-4/train/images/20250602_131257_mp4-0000_jpg.rf.f2f10bb72d2c9f4ba062bf46e5501840.jpg (deflated 1%)\n",
            "  adding: content/robo_chess-4/train/images/20250602_140652_mp4-0008_jpg.rf.de49394ce69b371fffae5ed7525dc7ff.jpg (deflated 1%)\n",
            "  adding: content/robo_chess-4/train/images/20250602_140847_mp4-0005_jpg.rf.9376d17acd4b1782baa69a2280bc5494.jpg (deflated 1%)\n",
            "  adding: content/robo_chess-4/train/images/20250602_131427_mp4-0011_jpg.rf.6c2c7e223e857d3f7efe1bf41197620e.jpg (deflated 2%)\n",
            "  adding: content/robo_chess-4/train/images/20250602_131615_mp4-0013_jpg.rf.d2b4174efee427cb1d0ccdf69edde688.jpg (deflated 1%)\n",
            "  adding: content/robo_chess-4/train/images/20250530_145327_jpg.rf.1fe5631b93384f2b3de7313ef8f5f215.jpg (deflated 0%)\n",
            "  adding: content/robo_chess-4/train/images/20250602_131352_mp4-0003_jpg.rf.52dcf2b924d1b79f108bdfd43f21df46.jpg (deflated 1%)\n",
            "  adding: content/robo_chess-4/train/images/20250602_131257_mp4-0000_jpg.rf.c1011f566d8fe49319b2bd6c44a3bacd.jpg (deflated 2%)\n",
            "  adding: content/robo_chess-4/train/images/20250530_145342_jpg.rf.db757be10ab9ceaffec2821c9947ecb3.jpg (deflated 0%)\n",
            "  adding: content/robo_chess-4/train/images/20250602_140905_mp4-0015_jpg.rf.ea01490244eadb30815579bc77f38c83.jpg (deflated 1%)\n",
            "  adding: content/robo_chess-4/train/images/20250601_123828_jpg.rf.5e4e452b40f24f4441eef5dfb1d10f67.jpg (deflated 0%)\n",
            "  adding: content/robo_chess-4/train/images/20250530_145517_jpg.rf.fe9089f4380198228fa02e4e6adbedcb.jpg (deflated 0%)\n",
            "  adding: content/robo_chess-4/train/images/20250602_131352_mp4-0014_jpg.rf.2d9813688b09c6b89cff5917411dedbe.jpg (deflated 2%)\n",
            "  adding: content/robo_chess-4/train/images/20250602_131427_mp4-0005_jpg.rf.c403fbaed4617cec7b14cc6ee62cc2b5.jpg (deflated 1%)\n",
            "  adding: content/robo_chess-4/train/images/20250530_145457_jpg.rf.03696ad742953b8819411b4228cb7824.jpg (deflated 0%)\n",
            "  adding: content/robo_chess-4/train/images/20250601_123954_jpg.rf.aa1c76234215fe0328917281e978f95c.jpg (deflated 0%)\n",
            "  adding: content/robo_chess-4/train/images/20250530_145525_jpg.rf.8d54ebda0e3c056e64551450a18223f1.jpg (deflated 0%)\n",
            "  adding: content/robo_chess-4/train/images/20250602_140741_mp4-0009_jpg.rf.31524eccdd5b1ead34a66b1bb96ad44d.jpg (deflated 1%)\n",
            "  adding: content/robo_chess-4/train/images/20250602_131257_mp4-0011_jpg.rf.b05116889ce51634c6387a9e84df5cf4.jpg (deflated 3%)\n",
            "  adding: content/robo_chess-4/train/images/20250530_145457_jpg.rf.091a4c9c0052534a2ce7bd24927a02cd.jpg (deflated 1%)\n",
            "  adding: content/robo_chess-4/train/images/20250602_131427_mp4-0010_jpg.rf.ac8f6720892c7de67a4378f4fc34d9d3.jpg (deflated 1%)\n",
            "  adding: content/robo_chess-4/train/images/20250602_140741_mp4-0004_jpg.rf.4c1e65cc025965bf607c745578fb3b3e.jpg (deflated 1%)\n",
            "  adding: content/robo_chess-4/train/images/20250602_131448_mp4-0008_jpg.rf.20e07fc16f09cd93cadee8fd4af4a824.jpg (deflated 2%)\n",
            "  adding: content/robo_chess-4/train/images/20250602_131615_mp4-0015_jpg.rf.ca81bd1837b5886a8b3e4d878bf3a633.jpg (deflated 1%)\n",
            "  adding: content/robo_chess-4/train/images/20250602_140905_mp4-0013_jpg.rf.1ef70c28e50492a6a1cb1a8ae878744f.jpg (deflated 2%)\n",
            "  adding: content/robo_chess-4/train/images/20250602_131427_mp4-0004_jpg.rf.379b221989b91dc19337d3a899cd8763.jpg (deflated 1%)\n",
            "  adding: content/robo_chess-4/train/images/20250602_140847_mp4-0010_jpg.rf.89199736ab8ccfc30aad6c05bba7d9e5.jpg (deflated 2%)\n",
            "  adding: content/robo_chess-4/train/images/20250530_145504_jpg.rf.5e2509b464a7ff609096ed7d494e2974.jpg (deflated 0%)\n",
            "  adding: content/robo_chess-4/train/images/20250602_131615_mp4-0005_jpg.rf.27082879ef181b8f7e8ea9d1f0bae940.jpg (deflated 1%)\n",
            "  adding: content/robo_chess-4/train/images/20250530_145557_jpg.rf.8d630ddf8ce6861e085e1a01e8712f9f.jpg (deflated 1%)\n",
            "  adding: content/robo_chess-4/train/images/20250602_140652_mp4-0014_jpg.rf.b324f69aa074430e29fcd54a6bebde6b.jpg (deflated 2%)\n",
            "  adding: content/robo_chess-4/train/images/20250602_140847_mp4-0002_jpg.rf.752224dfbcacc40e6ef5039eeb16a7f3.jpg (deflated 1%)\n",
            "  adding: content/robo_chess-4/train/images/20250602_131427_mp4-0003_jpg.rf.7f8c0cc0ab4a2491e823aac6924de6e3.jpg (deflated 1%)\n",
            "  adding: content/robo_chess-4/train/images/20250602_131427_mp4-0007_jpg.rf.25a8b565ff0496d2525325931416828c.jpg (deflated 1%)\n",
            "  adding: content/robo_chess-4/train/images/20250602_131257_mp4-0013_jpg.rf.27c77017a65e72ea68643fc955ff6024.jpg (deflated 2%)\n",
            "  adding: content/robo_chess-4/train/images/20250530_145445_jpg.rf.2011bc6c7b13afba3ea0ae9a54cc72b5.jpg (deflated 0%)\n",
            "  adding: content/robo_chess-4/train/images/20250602_140847_mp4-0009_jpg.rf.1b4f779e3f319f26ae5599faf49ab8de.jpg (deflated 2%)\n",
            "  adding: content/robo_chess-4/train/images/20250602_131448_mp4-0003_jpg.rf.b547b7ea49acf377714b30091cc9a1a6.jpg (deflated 1%)\n",
            "  adding: content/robo_chess-4/train/images/20250602_131352_mp4-0001_jpg.rf.ec6ff6c44643c7912144cfe0e7a6bfc2.jpg (deflated 2%)\n",
            "  adding: content/robo_chess-4/train/images/20250602_131517_mp4-0013_jpg.rf.10b77c3756be4c63bb0b5a217b87f331.jpg (deflated 2%)\n",
            "  adding: content/robo_chess-4/train/images/20250602_131352_mp4-0005_jpg.rf.41761914e28ca1821cec004acdaab57a.jpg (deflated 2%)\n",
            "  adding: content/robo_chess-4/train/images/20250602_140614_mp4-0003_jpg.rf.aaf772be6aedefda23c2bfb97d580802.jpg (deflated 1%)\n",
            "  adding: content/robo_chess-4/train/images/20250602_140905_mp4-0018_jpg.rf.e6410e4a183bb494a6d261b900847202.jpg (deflated 1%)\n",
            "  adding: content/robo_chess-4/train/images/20250602_131352_mp4-0001_jpg.rf.bc517c130855b5b0c63ed9c7e0da031f.jpg (deflated 2%)\n",
            "  adding: content/robo_chess-4/README.roboflow.txt (deflated 52%)\n",
            "  adding: content/drive/ (stored 0%)\n",
            "  adding: content/drive/.shortcut-targets-by-id/ (stored 0%)\n",
            "  adding: content/drive/MyDrive/ (stored 0%)\n",
            "  adding: content/drive/MyDrive/Colab Notebooks/ (stored 0%)\n",
            "  adding: content/drive/.Trash-0/ (stored 0%)\n",
            "  adding: content/drive/.Trash-0/files/ (stored 0%)\n",
            "  adding: content/drive/.Trash-0/info/ (stored 0%)\n",
            "  adding: content/drive/.Encrypted/ (stored 0%)\n",
            "  adding: content/drive/.Encrypted/.shortcut-targets-by-id/ (stored 0%)\n",
            "  adding: content/drive/.Encrypted/MyDrive/ (stored 0%)\n",
            "  adding: content/drive/.Encrypted/MyDrive/Colab Notebooks/ (stored 0%)\n",
            "  adding: content/sample_data/ (stored 0%)\n",
            "  adding: content/sample_data/README.md (deflated 39%)\n",
            "  adding: content/sample_data/anscombe.json (deflated 83%)\n",
            "  adding: content/sample_data/mnist_train_small.csv (deflated 88%)\n",
            "  adding: content/sample_data/mnist_test.csv (deflated 88%)\n",
            "  adding: content/sample_data/california_housing_test.csv (deflated 76%)\n",
            "  adding: content/sample_data/california_housing_train.csv (deflated 79%)\n"
          ]
        },
        {
          "output_type": "display_data",
          "data": {
            "text/plain": [
              "<IPython.core.display.Javascript object>"
            ],
            "application/javascript": [
              "\n",
              "    async function download(id, filename, size) {\n",
              "      if (!google.colab.kernel.accessAllowed) {\n",
              "        return;\n",
              "      }\n",
              "      const div = document.createElement('div');\n",
              "      const label = document.createElement('label');\n",
              "      label.textContent = `Downloading \"${filename}\": `;\n",
              "      div.appendChild(label);\n",
              "      const progress = document.createElement('progress');\n",
              "      progress.max = size;\n",
              "      div.appendChild(progress);\n",
              "      document.body.appendChild(div);\n",
              "\n",
              "      const buffers = [];\n",
              "      let downloaded = 0;\n",
              "\n",
              "      const channel = await google.colab.kernel.comms.open(id);\n",
              "      // Send a message to notify the kernel that we're ready.\n",
              "      channel.send({})\n",
              "\n",
              "      for await (const message of channel.messages) {\n",
              "        // Send a message to notify the kernel that we're ready.\n",
              "        channel.send({})\n",
              "        if (message.buffers) {\n",
              "          for (const buffer of message.buffers) {\n",
              "            buffers.push(buffer);\n",
              "            downloaded += buffer.byteLength;\n",
              "            progress.value = downloaded;\n",
              "          }\n",
              "        }\n",
              "      }\n",
              "      const blob = new Blob(buffers, {type: 'application/binary'});\n",
              "      const a = document.createElement('a');\n",
              "      a.href = window.URL.createObjectURL(blob);\n",
              "      a.download = filename;\n",
              "      div.appendChild(a);\n",
              "      a.click();\n",
              "      div.remove();\n",
              "    }\n",
              "  "
            ]
          },
          "metadata": {}
        },
        {
          "output_type": "display_data",
          "data": {
            "text/plain": [
              "<IPython.core.display.Javascript object>"
            ],
            "application/javascript": [
              "download(\"download_bed83665-f1e7-4d5b-a041-212721553e79\", \"file.zip\", 68812183)"
            ]
          },
          "metadata": {}
        }
      ]
    },
    {
      "cell_type": "code",
      "source": [],
      "metadata": {
        "id": "OXkF-6M75BX0"
      },
      "execution_count": null,
      "outputs": []
    }
  ]
}