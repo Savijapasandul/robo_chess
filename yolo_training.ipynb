{
  "cells": [
    {
      "cell_type": "markdown",
      "metadata": {
        "id": "view-in-github",
        "colab_type": "text"
      },
      "source": [
        "<a href=\"https://colab.research.google.com/github/Savijapasandul/robo_chess/blob/main/yolo_training.ipynb\" target=\"_parent\"><img src=\"https://colab.research.google.com/assets/colab-badge.svg\" alt=\"Open In Colab\"/></a>"
      ]
    },
    {
      "cell_type": "code",
      "source": [
        "!pip install ultralytics\n",
        "from ultralytics import YOLO\n",
        "\n",
        "model = YOLO('yolo11n-seg.pt')\n",
        "\n",
        "results = model.train(data='robo_chess-8/data.yaml', epochs=100, imgsz=640, task='segment')\n",
        "!zip -r /content/file.zip /content\n",
        "from google.colab import files\n",
        "files.download(\"/content/file.zip\")"
      ],
      "metadata": {
        "colab": {
          "base_uri": "https://localhost:8080/",
          "height": 1000
        },
        "id": "jH0EkPQGrIaH",
        "outputId": "7ffe6a48-4f9d-4c32-a3c6-a65f0ce18e02"
      },
      "execution_count": null,
      "outputs": [
        {
          "output_type": "stream",
          "name": "stdout",
          "text": [
            "Requirement already satisfied: ultralytics in /usr/local/lib/python3.11/dist-packages (8.3.154)\n",
            "Requirement already satisfied: numpy>=1.23.0 in /usr/local/lib/python3.11/dist-packages (from ultralytics) (2.0.2)\n",
            "Requirement already satisfied: matplotlib>=3.3.0 in /usr/local/lib/python3.11/dist-packages (from ultralytics) (3.10.0)\n",
            "Requirement already satisfied: opencv-python>=4.6.0 in /usr/local/lib/python3.11/dist-packages (from ultralytics) (4.11.0.86)\n",
            "Requirement already satisfied: pillow>=7.1.2 in /usr/local/lib/python3.11/dist-packages (from ultralytics) (11.2.1)\n",
            "Requirement already satisfied: pyyaml>=5.3.1 in /usr/local/lib/python3.11/dist-packages (from ultralytics) (6.0.2)\n",
            "Requirement already satisfied: requests>=2.23.0 in /usr/local/lib/python3.11/dist-packages (from ultralytics) (2.32.3)\n",
            "Requirement already satisfied: scipy>=1.4.1 in /usr/local/lib/python3.11/dist-packages (from ultralytics) (1.15.3)\n",
            "Requirement already satisfied: torch>=1.8.0 in /usr/local/lib/python3.11/dist-packages (from ultralytics) (2.6.0+cu124)\n",
            "Requirement already satisfied: torchvision>=0.9.0 in /usr/local/lib/python3.11/dist-packages (from ultralytics) (0.21.0+cu124)\n",
            "Requirement already satisfied: tqdm>=4.64.0 in /usr/local/lib/python3.11/dist-packages (from ultralytics) (4.67.1)\n",
            "Requirement already satisfied: psutil in /usr/local/lib/python3.11/dist-packages (from ultralytics) (5.9.5)\n",
            "Requirement already satisfied: py-cpuinfo in /usr/local/lib/python3.11/dist-packages (from ultralytics) (9.0.0)\n",
            "Requirement already satisfied: pandas>=1.1.4 in /usr/local/lib/python3.11/dist-packages (from ultralytics) (2.2.2)\n",
            "Requirement already satisfied: ultralytics-thop>=2.0.0 in /usr/local/lib/python3.11/dist-packages (from ultralytics) (2.0.14)\n",
            "Requirement already satisfied: contourpy>=1.0.1 in /usr/local/lib/python3.11/dist-packages (from matplotlib>=3.3.0->ultralytics) (1.3.2)\n",
            "Requirement already satisfied: cycler>=0.10 in /usr/local/lib/python3.11/dist-packages (from matplotlib>=3.3.0->ultralytics) (0.12.1)\n",
            "Requirement already satisfied: fonttools>=4.22.0 in /usr/local/lib/python3.11/dist-packages (from matplotlib>=3.3.0->ultralytics) (4.58.1)\n",
            "Requirement already satisfied: kiwisolver>=1.3.1 in /usr/local/lib/python3.11/dist-packages (from matplotlib>=3.3.0->ultralytics) (1.4.8)\n",
            "Requirement already satisfied: packaging>=20.0 in /usr/local/lib/python3.11/dist-packages (from matplotlib>=3.3.0->ultralytics) (24.2)\n",
            "Requirement already satisfied: pyparsing>=2.3.1 in /usr/local/lib/python3.11/dist-packages (from matplotlib>=3.3.0->ultralytics) (3.2.3)\n",
            "Requirement already satisfied: python-dateutil>=2.7 in /usr/local/lib/python3.11/dist-packages (from matplotlib>=3.3.0->ultralytics) (2.9.0.post0)\n",
            "Requirement already satisfied: pytz>=2020.1 in /usr/local/lib/python3.11/dist-packages (from pandas>=1.1.4->ultralytics) (2025.2)\n",
            "Requirement already satisfied: tzdata>=2022.7 in /usr/local/lib/python3.11/dist-packages (from pandas>=1.1.4->ultralytics) (2025.2)\n",
            "Requirement already satisfied: charset-normalizer<4,>=2 in /usr/local/lib/python3.11/dist-packages (from requests>=2.23.0->ultralytics) (3.4.2)\n",
            "Requirement already satisfied: idna<4,>=2.5 in /usr/local/lib/python3.11/dist-packages (from requests>=2.23.0->ultralytics) (3.7)\n",
            "Requirement already satisfied: urllib3<3,>=1.21.1 in /usr/local/lib/python3.11/dist-packages (from requests>=2.23.0->ultralytics) (2.4.0)\n",
            "Requirement already satisfied: certifi>=2017.4.17 in /usr/local/lib/python3.11/dist-packages (from requests>=2.23.0->ultralytics) (2025.4.26)\n",
            "Requirement already satisfied: filelock in /usr/local/lib/python3.11/dist-packages (from torch>=1.8.0->ultralytics) (3.18.0)\n",
            "Requirement already satisfied: typing-extensions>=4.10.0 in /usr/local/lib/python3.11/dist-packages (from torch>=1.8.0->ultralytics) (4.14.0)\n",
            "Requirement already satisfied: networkx in /usr/local/lib/python3.11/dist-packages (from torch>=1.8.0->ultralytics) (3.5)\n",
            "Requirement already satisfied: jinja2 in /usr/local/lib/python3.11/dist-packages (from torch>=1.8.0->ultralytics) (3.1.6)\n",
            "Requirement already satisfied: fsspec in /usr/local/lib/python3.11/dist-packages (from torch>=1.8.0->ultralytics) (2025.3.2)\n",
            "Requirement already satisfied: nvidia-cuda-nvrtc-cu12==12.4.127 in /usr/local/lib/python3.11/dist-packages (from torch>=1.8.0->ultralytics) (12.4.127)\n",
            "Requirement already satisfied: nvidia-cuda-runtime-cu12==12.4.127 in /usr/local/lib/python3.11/dist-packages (from torch>=1.8.0->ultralytics) (12.4.127)\n",
            "Requirement already satisfied: nvidia-cuda-cupti-cu12==12.4.127 in /usr/local/lib/python3.11/dist-packages (from torch>=1.8.0->ultralytics) (12.4.127)\n",
            "Requirement already satisfied: nvidia-cudnn-cu12==9.1.0.70 in /usr/local/lib/python3.11/dist-packages (from torch>=1.8.0->ultralytics) (9.1.0.70)\n",
            "Requirement already satisfied: nvidia-cublas-cu12==12.4.5.8 in /usr/local/lib/python3.11/dist-packages (from torch>=1.8.0->ultralytics) (12.4.5.8)\n",
            "Requirement already satisfied: nvidia-cufft-cu12==11.2.1.3 in /usr/local/lib/python3.11/dist-packages (from torch>=1.8.0->ultralytics) (11.2.1.3)\n",
            "Requirement already satisfied: nvidia-curand-cu12==10.3.5.147 in /usr/local/lib/python3.11/dist-packages (from torch>=1.8.0->ultralytics) (10.3.5.147)\n",
            "Requirement already satisfied: nvidia-cusolver-cu12==11.6.1.9 in /usr/local/lib/python3.11/dist-packages (from torch>=1.8.0->ultralytics) (11.6.1.9)\n",
            "Requirement already satisfied: nvidia-cusparse-cu12==12.3.1.170 in /usr/local/lib/python3.11/dist-packages (from torch>=1.8.0->ultralytics) (12.3.1.170)\n",
            "Requirement already satisfied: nvidia-cusparselt-cu12==0.6.2 in /usr/local/lib/python3.11/dist-packages (from torch>=1.8.0->ultralytics) (0.6.2)\n",
            "Requirement already satisfied: nvidia-nccl-cu12==2.21.5 in /usr/local/lib/python3.11/dist-packages (from torch>=1.8.0->ultralytics) (2.21.5)\n",
            "Requirement already satisfied: nvidia-nvtx-cu12==12.4.127 in /usr/local/lib/python3.11/dist-packages (from torch>=1.8.0->ultralytics) (12.4.127)\n",
            "Requirement already satisfied: nvidia-nvjitlink-cu12==12.4.127 in /usr/local/lib/python3.11/dist-packages (from torch>=1.8.0->ultralytics) (12.4.127)\n",
            "Requirement already satisfied: triton==3.2.0 in /usr/local/lib/python3.11/dist-packages (from torch>=1.8.0->ultralytics) (3.2.0)\n",
            "Requirement already satisfied: sympy==1.13.1 in /usr/local/lib/python3.11/dist-packages (from torch>=1.8.0->ultralytics) (1.13.1)\n",
            "Requirement already satisfied: mpmath<1.4,>=1.1.0 in /usr/local/lib/python3.11/dist-packages (from sympy==1.13.1->torch>=1.8.0->ultralytics) (1.3.0)\n",
            "Requirement already satisfied: six>=1.5 in /usr/local/lib/python3.11/dist-packages (from python-dateutil>=2.7->matplotlib>=3.3.0->ultralytics) (1.17.0)\n",
            "Requirement already satisfied: MarkupSafe>=2.0 in /usr/local/lib/python3.11/dist-packages (from jinja2->torch>=1.8.0->ultralytics) (3.0.2)\n",
            "Downloading https://github.com/ultralytics/assets/releases/download/v8.3.0/yolo11n-seg.pt to 'yolo11n-seg.pt'...\n"
          ]
        },
        {
          "output_type": "stream",
          "name": "stderr",
          "text": [
            "100%|██████████| 5.90M/5.90M [00:00<00:00, 120MB/s]"
          ]
        },
        {
          "output_type": "stream",
          "name": "stdout",
          "text": [
            "Ultralytics 8.3.154 🚀 Python-3.11.13 torch-2.6.0+cu124 CUDA:0 (Tesla T4, 15095MiB)\n"
          ]
        },
        {
          "output_type": "stream",
          "name": "stderr",
          "text": [
            "\n"
          ]
        },
        {
          "output_type": "stream",
          "name": "stdout",
          "text": [
            "\u001b[34m\u001b[1mengine/trainer: \u001b[0magnostic_nms=False, amp=True, augment=False, auto_augment=randaugment, batch=16, bgr=0.0, box=7.5, cache=False, cfg=None, classes=None, close_mosaic=10, cls=0.5, conf=None, copy_paste=0.0, copy_paste_mode=flip, cos_lr=False, cutmix=0.0, data=robo_chess-8/data.yaml, degrees=0.0, deterministic=True, device=None, dfl=1.5, dnn=False, dropout=0.0, dynamic=False, embed=None, epochs=100, erasing=0.4, exist_ok=False, fliplr=0.5, flipud=0.0, format=torchscript, fraction=1.0, freeze=None, half=False, hsv_h=0.015, hsv_s=0.7, hsv_v=0.4, imgsz=640, int8=False, iou=0.7, keras=False, kobj=1.0, line_width=None, lr0=0.01, lrf=0.01, mask_ratio=4, max_det=300, mixup=0.0, mode=train, model=yolo11n-seg.pt, momentum=0.937, mosaic=1.0, multi_scale=False, name=train, nbs=64, nms=False, opset=None, optimize=False, optimizer=auto, overlap_mask=True, patience=100, perspective=0.0, plots=True, pose=12.0, pretrained=True, profile=False, project=None, rect=False, resume=False, retina_masks=False, save=True, save_conf=False, save_crop=False, save_dir=runs/segment/train, save_frames=False, save_json=False, save_period=-1, save_txt=False, scale=0.5, seed=0, shear=0.0, show=False, show_boxes=True, show_conf=True, show_labels=True, simplify=True, single_cls=False, source=None, split=val, stream_buffer=False, task=segment, time=None, tracker=botsort.yaml, translate=0.1, val=True, verbose=True, vid_stride=1, visualize=False, warmup_bias_lr=0.1, warmup_epochs=3.0, warmup_momentum=0.8, weight_decay=0.0005, workers=8, workspace=None\n",
            "Overriding model.yaml nc=80 with nc=5\n",
            "\n",
            "                   from  n    params  module                                       arguments                     \n",
            "  0                  -1  1       464  ultralytics.nn.modules.conv.Conv             [3, 16, 3, 2]                 \n",
            "  1                  -1  1      4672  ultralytics.nn.modules.conv.Conv             [16, 32, 3, 2]                \n",
            "  2                  -1  1      6640  ultralytics.nn.modules.block.C3k2            [32, 64, 1, False, 0.25]      \n",
            "  3                  -1  1     36992  ultralytics.nn.modules.conv.Conv             [64, 64, 3, 2]                \n",
            "  4                  -1  1     26080  ultralytics.nn.modules.block.C3k2            [64, 128, 1, False, 0.25]     \n",
            "  5                  -1  1    147712  ultralytics.nn.modules.conv.Conv             [128, 128, 3, 2]              \n",
            "  6                  -1  1     87040  ultralytics.nn.modules.block.C3k2            [128, 128, 1, True]           \n",
            "  7                  -1  1    295424  ultralytics.nn.modules.conv.Conv             [128, 256, 3, 2]              \n",
            "  8                  -1  1    346112  ultralytics.nn.modules.block.C3k2            [256, 256, 1, True]           \n",
            "  9                  -1  1    164608  ultralytics.nn.modules.block.SPPF            [256, 256, 5]                 \n",
            " 10                  -1  1    249728  ultralytics.nn.modules.block.C2PSA           [256, 256, 1]                 \n",
            " 11                  -1  1         0  torch.nn.modules.upsampling.Upsample         [None, 2, 'nearest']          \n",
            " 12             [-1, 6]  1         0  ultralytics.nn.modules.conv.Concat           [1]                           \n",
            " 13                  -1  1    111296  ultralytics.nn.modules.block.C3k2            [384, 128, 1, False]          \n",
            " 14                  -1  1         0  torch.nn.modules.upsampling.Upsample         [None, 2, 'nearest']          \n",
            " 15             [-1, 4]  1         0  ultralytics.nn.modules.conv.Concat           [1]                           \n",
            " 16                  -1  1     32096  ultralytics.nn.modules.block.C3k2            [256, 64, 1, False]           \n",
            " 17                  -1  1     36992  ultralytics.nn.modules.conv.Conv             [64, 64, 3, 2]                \n",
            " 18            [-1, 13]  1         0  ultralytics.nn.modules.conv.Concat           [1]                           \n",
            " 19                  -1  1     86720  ultralytics.nn.modules.block.C3k2            [192, 128, 1, False]          \n",
            " 20                  -1  1    147712  ultralytics.nn.modules.conv.Conv             [128, 128, 3, 2]              \n",
            " 21            [-1, 10]  1         0  ultralytics.nn.modules.conv.Concat           [1]                           \n",
            " 22                  -1  1    378880  ultralytics.nn.modules.block.C3k2            [384, 256, 1, True]           \n",
            " 23        [16, 19, 22]  1    684415  ultralytics.nn.modules.head.Segment          [5, 32, 64, [64, 128, 256]]   \n",
            "YOLO11n-seg summary: 203 layers, 2,843,583 parameters, 2,843,567 gradients, 10.4 GFLOPs\n",
            "\n",
            "Transferred 510/561 items from pretrained weights\n",
            "Freezing layer 'model.23.dfl.conv.weight'\n",
            "\u001b[34m\u001b[1mAMP: \u001b[0mrunning Automatic Mixed Precision (AMP) checks...\n",
            "Downloading https://github.com/ultralytics/assets/releases/download/v8.3.0/yolo11n.pt to 'yolo11n.pt'...\n"
          ]
        },
        {
          "output_type": "stream",
          "name": "stderr",
          "text": [
            "100%|██████████| 5.35M/5.35M [00:00<00:00, 91.8MB/s]\n"
          ]
        },
        {
          "output_type": "stream",
          "name": "stdout",
          "text": [
            "\u001b[34m\u001b[1mAMP: \u001b[0mchecks passed ✅\n",
            "\u001b[34m\u001b[1mtrain: \u001b[0mFast image access ✅ (ping: 0.0±0.0 ms, read: 1183.5±369.7 MB/s, size: 69.0 KB)\n"
          ]
        },
        {
          "output_type": "stream",
          "name": "stderr",
          "text": [
            "\u001b[34m\u001b[1mtrain: \u001b[0mScanning /content/robo_chess-8/train/labels.cache... 57 images, 0 backgrounds, 0 corrupt: 100%|██████████| 57/57 [00:00<?, ?it/s]"
          ]
        },
        {
          "output_type": "stream",
          "name": "stdout",
          "text": [
            "\u001b[34m\u001b[1malbumentations: \u001b[0mBlur(p=0.01, blur_limit=(3, 7)), MedianBlur(p=0.01, blur_limit=(3, 7)), ToGray(p=0.01, method='weighted_average', num_output_channels=3), CLAHE(p=0.01, clip_limit=(1.0, 4.0), tile_grid_size=(8, 8))\n"
          ]
        },
        {
          "output_type": "stream",
          "name": "stderr",
          "text": [
            "\n"
          ]
        },
        {
          "output_type": "stream",
          "name": "stdout",
          "text": [
            "\u001b[34m\u001b[1mval: \u001b[0mFast image access ✅ (ping: 0.0±0.0 ms, read: 418.8±145.1 MB/s, size: 106.7 KB)\n"
          ]
        },
        {
          "output_type": "stream",
          "name": "stderr",
          "text": [
            "\u001b[34m\u001b[1mval: \u001b[0mScanning /content/robo_chess-8/valid/labels.cache... 7 images, 0 backgrounds, 0 corrupt: 100%|██████████| 7/7 [00:00<?, ?it/s]\n"
          ]
        },
        {
          "output_type": "stream",
          "name": "stdout",
          "text": [
            "Plotting labels to runs/segment/train/labels.jpg... \n",
            "\u001b[34m\u001b[1moptimizer:\u001b[0m 'optimizer=auto' found, ignoring 'lr0=0.01' and 'momentum=0.937' and determining best 'optimizer', 'lr0' and 'momentum' automatically... \n",
            "\u001b[34m\u001b[1moptimizer:\u001b[0m AdamW(lr=0.001111, momentum=0.9) with parameter groups 90 weight(decay=0.0), 101 weight(decay=0.0005), 100 bias(decay=0.0)\n",
            "Image sizes 640 train, 640 val\n",
            "Using 2 dataloader workers\n",
            "Logging results to \u001b[1mruns/segment/train\u001b[0m\n",
            "Starting training for 100 epochs...\n",
            "\n",
            "      Epoch    GPU_mem   box_loss   seg_loss   cls_loss   dfl_loss  Instances       Size\n"
          ]
        },
        {
          "output_type": "stream",
          "name": "stderr",
          "text": [
            "      1/100      3.25G      2.349      5.586      3.559      2.385         90        640: 100%|██████████| 4/4 [00:02<00:00,  1.37it/s]\n",
            "                 Class     Images  Instances      Box(P          R      mAP50  mAP50-95)     Mask(P          R      mAP50  mAP50-95): 100%|██████████| 1/1 [00:00<00:00,  1.89it/s]"
          ]
        },
        {
          "output_type": "stream",
          "name": "stdout",
          "text": [
            "                   all          7         35     0.0348      0.714     0.0914     0.0359    0.00236        0.2     0.0186    0.00495\n"
          ]
        },
        {
          "output_type": "stream",
          "name": "stderr",
          "text": [
            "\n"
          ]
        },
        {
          "output_type": "stream",
          "name": "stdout",
          "text": [
            "\n",
            "      Epoch    GPU_mem   box_loss   seg_loss   cls_loss   dfl_loss  Instances       Size\n"
          ]
        },
        {
          "output_type": "stream",
          "name": "stderr",
          "text": [
            "      2/100      3.25G      2.372      5.473      3.581      2.424        116        640: 100%|██████████| 4/4 [00:01<00:00,  2.65it/s]\n",
            "                 Class     Images  Instances      Box(P          R      mAP50  mAP50-95)     Mask(P          R      mAP50  mAP50-95): 100%|██████████| 1/1 [00:00<00:00,  9.05it/s]"
          ]
        },
        {
          "output_type": "stream",
          "name": "stdout",
          "text": [
            "                   all          7         35    0.00873      0.543     0.0525     0.0194    0.00201        0.2     0.0278     0.0071\n"
          ]
        },
        {
          "output_type": "stream",
          "name": "stderr",
          "text": [
            "\n"
          ]
        },
        {
          "output_type": "stream",
          "name": "stdout",
          "text": [
            "\n",
            "      Epoch    GPU_mem   box_loss   seg_loss   cls_loss   dfl_loss  Instances       Size\n"
          ]
        },
        {
          "output_type": "stream",
          "name": "stderr",
          "text": [
            "      3/100      3.25G      2.171      4.719      3.498      2.242         90        640: 100%|██████████| 4/4 [00:01<00:00,  2.01it/s]\n",
            "                 Class     Images  Instances      Box(P          R      mAP50  mAP50-95)     Mask(P          R      mAP50  mAP50-95): 100%|██████████| 1/1 [00:00<00:00,  6.36it/s]"
          ]
        },
        {
          "output_type": "stream",
          "name": "stdout",
          "text": [
            "                   all          7         35    0.00455      0.429     0.0616     0.0356    0.00178        0.2     0.0245     0.0161\n"
          ]
        },
        {
          "output_type": "stream",
          "name": "stderr",
          "text": [
            "\n"
          ]
        },
        {
          "output_type": "stream",
          "name": "stdout",
          "text": [
            "\n",
            "      Epoch    GPU_mem   box_loss   seg_loss   cls_loss   dfl_loss  Instances       Size\n"
          ]
        },
        {
          "output_type": "stream",
          "name": "stderr",
          "text": [
            "      4/100      3.25G      1.831      2.889      3.418      1.954         66        640: 100%|██████████| 4/4 [00:01<00:00,  2.00it/s]\n",
            "                 Class     Images  Instances      Box(P          R      mAP50  mAP50-95)     Mask(P          R      mAP50  mAP50-95): 100%|██████████| 1/1 [00:00<00:00,  5.77it/s]"
          ]
        },
        {
          "output_type": "stream",
          "name": "stdout",
          "text": [
            "                   all          7         35     0.0726      0.543       0.21      0.126    0.00142      0.171      0.128      0.088\n"
          ]
        },
        {
          "output_type": "stream",
          "name": "stderr",
          "text": [
            "\n"
          ]
        },
        {
          "output_type": "stream",
          "name": "stdout",
          "text": [
            "\n",
            "      Epoch    GPU_mem   box_loss   seg_loss   cls_loss   dfl_loss  Instances       Size\n"
          ]
        },
        {
          "output_type": "stream",
          "name": "stderr",
          "text": [
            "      5/100      3.25G      1.506      2.117      3.268        1.7         80        640: 100%|██████████| 4/4 [00:01<00:00,  2.89it/s]\n",
            "                 Class     Images  Instances      Box(P          R      mAP50  mAP50-95)     Mask(P          R      mAP50  mAP50-95): 100%|██████████| 1/1 [00:00<00:00,  8.50it/s]"
          ]
        },
        {
          "output_type": "stream",
          "name": "stdout",
          "text": [
            "                   all          7         35    0.00641      0.543      0.232      0.166    0.00135      0.171      0.171      0.151\n"
          ]
        },
        {
          "output_type": "stream",
          "name": "stderr",
          "text": [
            "\n"
          ]
        },
        {
          "output_type": "stream",
          "name": "stdout",
          "text": [
            "\n",
            "      Epoch    GPU_mem   box_loss   seg_loss   cls_loss   dfl_loss  Instances       Size\n"
          ]
        },
        {
          "output_type": "stream",
          "name": "stderr",
          "text": [
            "      6/100      3.25G      1.555      1.842      3.223      1.706         81        640: 100%|██████████| 4/4 [00:01<00:00,  2.99it/s]\n",
            "                 Class     Images  Instances      Box(P          R      mAP50  mAP50-95)     Mask(P          R      mAP50  mAP50-95): 100%|██████████| 1/1 [00:00<00:00,  7.92it/s]"
          ]
        },
        {
          "output_type": "stream",
          "name": "stdout",
          "text": [
            "                   all          7         35    0.00668      0.571      0.238      0.176    0.00143      0.171      0.171      0.151\n"
          ]
        },
        {
          "output_type": "stream",
          "name": "stderr",
          "text": [
            "\n"
          ]
        },
        {
          "output_type": "stream",
          "name": "stdout",
          "text": [
            "\n",
            "      Epoch    GPU_mem   box_loss   seg_loss   cls_loss   dfl_loss  Instances       Size\n"
          ]
        },
        {
          "output_type": "stream",
          "name": "stderr",
          "text": [
            "      7/100      3.25G      1.494      1.616      3.131      1.669         75        640: 100%|██████████| 4/4 [00:01<00:00,  2.86it/s]\n",
            "                 Class     Images  Instances      Box(P          R      mAP50  mAP50-95)     Mask(P          R      mAP50  mAP50-95): 100%|██████████| 1/1 [00:00<00:00,  9.09it/s]"
          ]
        },
        {
          "output_type": "stream",
          "name": "stdout",
          "text": [
            "                   all          7         35      0.031        0.6      0.285      0.198    0.00174        0.2      0.196      0.163\n"
          ]
        },
        {
          "output_type": "stream",
          "name": "stderr",
          "text": [
            "\n"
          ]
        },
        {
          "output_type": "stream",
          "name": "stdout",
          "text": [
            "\n",
            "      Epoch    GPU_mem   box_loss   seg_loss   cls_loss   dfl_loss  Instances       Size\n"
          ]
        },
        {
          "output_type": "stream",
          "name": "stderr",
          "text": [
            "      8/100      3.25G      1.563      1.362        3.1      1.718         81        640: 100%|██████████| 4/4 [00:01<00:00,  2.98it/s]\n",
            "                 Class     Images  Instances      Box(P          R      mAP50  mAP50-95)     Mask(P          R      mAP50  mAP50-95): 100%|██████████| 1/1 [00:00<00:00,  4.78it/s]"
          ]
        },
        {
          "output_type": "stream",
          "name": "stdout",
          "text": [
            "                   all          7         35     0.0315      0.657      0.301      0.184    0.00194        0.2      0.199      0.171\n"
          ]
        },
        {
          "output_type": "stream",
          "name": "stderr",
          "text": [
            "\n"
          ]
        },
        {
          "output_type": "stream",
          "name": "stdout",
          "text": [
            "\n",
            "      Epoch    GPU_mem   box_loss   seg_loss   cls_loss   dfl_loss  Instances       Size\n"
          ]
        },
        {
          "output_type": "stream",
          "name": "stderr",
          "text": [
            "      9/100      3.25G      1.493      1.259      2.996      1.657         75        640: 100%|██████████| 4/4 [00:01<00:00,  2.70it/s]\n",
            "                 Class     Images  Instances      Box(P          R      mAP50  mAP50-95)     Mask(P          R      mAP50  mAP50-95): 100%|██████████| 1/1 [00:00<00:00,  4.33it/s]"
          ]
        },
        {
          "output_type": "stream",
          "name": "stdout",
          "text": [
            "                   all          7         35      0.017        0.6      0.286      0.189    0.00214        0.2      0.199      0.178\n"
          ]
        },
        {
          "output_type": "stream",
          "name": "stderr",
          "text": [
            "\n"
          ]
        },
        {
          "output_type": "stream",
          "name": "stdout",
          "text": [
            "\n",
            "      Epoch    GPU_mem   box_loss   seg_loss   cls_loss   dfl_loss  Instances       Size\n"
          ]
        },
        {
          "output_type": "stream",
          "name": "stderr",
          "text": [
            "     10/100      3.25G      1.544      1.191       2.93      1.644         80        640: 100%|██████████| 4/4 [00:01<00:00,  2.02it/s]\n",
            "                 Class     Images  Instances      Box(P          R      mAP50  mAP50-95)     Mask(P          R      mAP50  mAP50-95): 100%|██████████| 1/1 [00:00<00:00,  4.02it/s]"
          ]
        },
        {
          "output_type": "stream",
          "name": "stdout",
          "text": [
            "                   all          7         35     0.0221      0.743      0.282      0.153    0.00249        0.2      0.185      0.168\n"
          ]
        },
        {
          "output_type": "stream",
          "name": "stderr",
          "text": [
            "\n"
          ]
        },
        {
          "output_type": "stream",
          "name": "stdout",
          "text": [
            "\n",
            "      Epoch    GPU_mem   box_loss   seg_loss   cls_loss   dfl_loss  Instances       Size\n"
          ]
        },
        {
          "output_type": "stream",
          "name": "stderr",
          "text": [
            "     11/100      3.25G      1.562      1.228      2.897       1.66         92        640: 100%|██████████| 4/4 [00:01<00:00,  2.99it/s]\n",
            "                 Class     Images  Instances      Box(P          R      mAP50  mAP50-95)     Mask(P          R      mAP50  mAP50-95): 100%|██████████| 1/1 [00:00<00:00,  5.57it/s]"
          ]
        },
        {
          "output_type": "stream",
          "name": "stdout",
          "text": [
            "                   all          7         35     0.0164      0.743      0.264      0.179    0.00243      0.171      0.171      0.124\n"
          ]
        },
        {
          "output_type": "stream",
          "name": "stderr",
          "text": [
            "\n"
          ]
        },
        {
          "output_type": "stream",
          "name": "stdout",
          "text": [
            "\n",
            "      Epoch    GPU_mem   box_loss   seg_loss   cls_loss   dfl_loss  Instances       Size\n"
          ]
        },
        {
          "output_type": "stream",
          "name": "stderr",
          "text": [
            "     12/100      3.25G      1.479      1.184      2.809      1.616        117        640: 100%|██████████| 4/4 [00:01<00:00,  2.92it/s]\n",
            "                 Class     Images  Instances      Box(P          R      mAP50  mAP50-95)     Mask(P          R      mAP50  mAP50-95): 100%|██████████| 1/1 [00:00<00:00,  8.51it/s]"
          ]
        },
        {
          "output_type": "stream",
          "name": "stdout",
          "text": [
            "                   all          7         35     0.0179      0.857      0.284      0.195    0.00296      0.171      0.171       0.15\n"
          ]
        },
        {
          "output_type": "stream",
          "name": "stderr",
          "text": [
            "\n"
          ]
        },
        {
          "output_type": "stream",
          "name": "stdout",
          "text": [
            "\n",
            "      Epoch    GPU_mem   box_loss   seg_loss   cls_loss   dfl_loss  Instances       Size\n"
          ]
        },
        {
          "output_type": "stream",
          "name": "stderr",
          "text": [
            "     13/100      3.25G      1.465      1.205      2.739       1.61         87        640: 100%|██████████| 4/4 [00:01<00:00,  2.94it/s]\n",
            "                 Class     Images  Instances      Box(P          R      mAP50  mAP50-95)     Mask(P          R      mAP50  mAP50-95): 100%|██████████| 1/1 [00:00<00:00,  7.69it/s]"
          ]
        },
        {
          "output_type": "stream",
          "name": "stdout",
          "text": [
            "                   all          7         35      0.019      0.914      0.324      0.228    0.00286      0.171      0.171      0.123\n"
          ]
        },
        {
          "output_type": "stream",
          "name": "stderr",
          "text": [
            "\n"
          ]
        },
        {
          "output_type": "stream",
          "name": "stdout",
          "text": [
            "\n",
            "      Epoch    GPU_mem   box_loss   seg_loss   cls_loss   dfl_loss  Instances       Size\n"
          ]
        },
        {
          "output_type": "stream",
          "name": "stderr",
          "text": [
            "     14/100      3.25G      1.459      1.181      2.648      1.604         81        640: 100%|██████████| 4/4 [00:01<00:00,  3.23it/s]\n",
            "                 Class     Images  Instances      Box(P          R      mAP50  mAP50-95)     Mask(P          R      mAP50  mAP50-95): 100%|██████████| 1/1 [00:00<00:00,  4.82it/s]"
          ]
        },
        {
          "output_type": "stream",
          "name": "stdout",
          "text": [
            "                   all          7         35     0.0178      0.886      0.336      0.203    0.00263      0.171      0.154      0.112\n"
          ]
        },
        {
          "output_type": "stream",
          "name": "stderr",
          "text": [
            "\n"
          ]
        },
        {
          "output_type": "stream",
          "name": "stdout",
          "text": [
            "\n",
            "      Epoch    GPU_mem   box_loss   seg_loss   cls_loss   dfl_loss  Instances       Size\n"
          ]
        },
        {
          "output_type": "stream",
          "name": "stderr",
          "text": [
            "     15/100      3.25G      1.488      1.198      2.695       1.61         94        640: 100%|██████████| 4/4 [00:01<00:00,  2.71it/s]\n",
            "                 Class     Images  Instances      Box(P          R      mAP50  mAP50-95)     Mask(P          R      mAP50  mAP50-95): 100%|██████████| 1/1 [00:00<00:00,  8.87it/s]"
          ]
        },
        {
          "output_type": "stream",
          "name": "stdout",
          "text": [
            "                   all          7         35          1      0.106      0.308      0.185          1      0.106      0.199      0.137\n"
          ]
        },
        {
          "output_type": "stream",
          "name": "stderr",
          "text": [
            "\n"
          ]
        },
        {
          "output_type": "stream",
          "name": "stdout",
          "text": [
            "\n",
            "      Epoch    GPU_mem   box_loss   seg_loss   cls_loss   dfl_loss  Instances       Size\n"
          ]
        },
        {
          "output_type": "stream",
          "name": "stderr",
          "text": [
            "     16/100      3.25G      1.417      1.145      2.605      1.573        100        640: 100%|██████████| 4/4 [00:01<00:00,  2.21it/s]\n",
            "                 Class     Images  Instances      Box(P          R      mAP50  mAP50-95)     Mask(P          R      mAP50  mAP50-95): 100%|██████████| 1/1 [00:00<00:00,  3.17it/s]"
          ]
        },
        {
          "output_type": "stream",
          "name": "stdout",
          "text": [
            "                   all          7         35          1      0.115      0.276      0.187          1      0.113      0.191      0.141\n"
          ]
        },
        {
          "output_type": "stream",
          "name": "stderr",
          "text": [
            "\n"
          ]
        },
        {
          "output_type": "stream",
          "name": "stdout",
          "text": [
            "\n",
            "      Epoch    GPU_mem   box_loss   seg_loss   cls_loss   dfl_loss  Instances       Size\n"
          ]
        },
        {
          "output_type": "stream",
          "name": "stderr",
          "text": [
            "     17/100      3.25G      1.408      1.115      2.521      1.556         88        640: 100%|██████████| 4/4 [00:01<00:00,  2.04it/s]\n",
            "                 Class     Images  Instances      Box(P          R      mAP50  mAP50-95)     Mask(P          R      mAP50  mAP50-95): 100%|██████████| 1/1 [00:00<00:00,  8.09it/s]"
          ]
        },
        {
          "output_type": "stream",
          "name": "stdout",
          "text": [
            "                   all          7         35          1      0.132       0.31      0.193          1      0.128      0.171      0.129\n"
          ]
        },
        {
          "output_type": "stream",
          "name": "stderr",
          "text": [
            "\n"
          ]
        },
        {
          "output_type": "stream",
          "name": "stdout",
          "text": [
            "\n",
            "      Epoch    GPU_mem   box_loss   seg_loss   cls_loss   dfl_loss  Instances       Size\n"
          ]
        },
        {
          "output_type": "stream",
          "name": "stderr",
          "text": [
            "     18/100      3.25G      1.395      1.226      2.515      1.535         98        640: 100%|██████████| 4/4 [00:01<00:00,  3.11it/s]\n",
            "                 Class     Images  Instances      Box(P          R      mAP50  mAP50-95)     Mask(P          R      mAP50  mAP50-95): 100%|██████████| 1/1 [00:00<00:00,  4.93it/s]"
          ]
        },
        {
          "output_type": "stream",
          "name": "stdout",
          "text": [
            "                   all          7         35          1      0.191      0.328      0.203          1      0.191      0.199      0.142\n"
          ]
        },
        {
          "output_type": "stream",
          "name": "stderr",
          "text": [
            "\n"
          ]
        },
        {
          "output_type": "stream",
          "name": "stdout",
          "text": [
            "\n",
            "      Epoch    GPU_mem   box_loss   seg_loss   cls_loss   dfl_loss  Instances       Size\n"
          ]
        },
        {
          "output_type": "stream",
          "name": "stderr",
          "text": [
            "     19/100      3.25G      1.337      1.061      2.385      1.503         94        640: 100%|██████████| 4/4 [00:01<00:00,  3.02it/s]\n",
            "                 Class     Images  Instances      Box(P          R      mAP50  mAP50-95)     Mask(P          R      mAP50  mAP50-95): 100%|██████████| 1/1 [00:00<00:00,  7.35it/s]"
          ]
        },
        {
          "output_type": "stream",
          "name": "stdout",
          "text": [
            "                   all          7         35      0.989        0.2       0.31      0.197      0.989        0.2      0.199       0.17\n"
          ]
        },
        {
          "output_type": "stream",
          "name": "stderr",
          "text": [
            "\n"
          ]
        },
        {
          "output_type": "stream",
          "name": "stdout",
          "text": [
            "\n",
            "      Epoch    GPU_mem   box_loss   seg_loss   cls_loss   dfl_loss  Instances       Size\n"
          ]
        },
        {
          "output_type": "stream",
          "name": "stderr",
          "text": [
            "     20/100      3.25G       1.29      1.061      2.337      1.493         80        640: 100%|██████████| 4/4 [00:01<00:00,  3.21it/s]\n",
            "                 Class     Images  Instances      Box(P          R      mAP50  mAP50-95)     Mask(P          R      mAP50  mAP50-95): 100%|██████████| 1/1 [00:00<00:00,  4.31it/s]"
          ]
        },
        {
          "output_type": "stream",
          "name": "stdout",
          "text": [
            "                   all          7         35      0.992        0.2      0.311      0.201      0.992        0.2      0.199      0.181\n"
          ]
        },
        {
          "output_type": "stream",
          "name": "stderr",
          "text": [
            "\n"
          ]
        },
        {
          "output_type": "stream",
          "name": "stdout",
          "text": [
            "\n",
            "      Epoch    GPU_mem   box_loss   seg_loss   cls_loss   dfl_loss  Instances       Size\n"
          ]
        },
        {
          "output_type": "stream",
          "name": "stderr",
          "text": [
            "     21/100      3.25G      1.358       1.13      2.377      1.559         70        640: 100%|██████████| 4/4 [00:01<00:00,  2.95it/s]\n",
            "                 Class     Images  Instances      Box(P          R      mAP50  mAP50-95)     Mask(P          R      mAP50  mAP50-95): 100%|██████████| 1/1 [00:00<00:00,  7.81it/s]"
          ]
        },
        {
          "output_type": "stream",
          "name": "stdout",
          "text": [
            "                   all          7         35      0.998        0.2       0.31      0.189      0.998        0.2      0.199      0.191\n"
          ]
        },
        {
          "output_type": "stream",
          "name": "stderr",
          "text": [
            "\n"
          ]
        },
        {
          "output_type": "stream",
          "name": "stdout",
          "text": [
            "\n",
            "      Epoch    GPU_mem   box_loss   seg_loss   cls_loss   dfl_loss  Instances       Size\n"
          ]
        },
        {
          "output_type": "stream",
          "name": "stderr",
          "text": [
            "     22/100      3.25G      1.312      1.096      2.348      1.488        105        640: 100%|██████████| 4/4 [00:01<00:00,  2.81it/s]\n",
            "                 Class     Images  Instances      Box(P          R      mAP50  mAP50-95)     Mask(P          R      mAP50  mAP50-95): 100%|██████████| 1/1 [00:00<00:00,  8.76it/s]"
          ]
        },
        {
          "output_type": "stream",
          "name": "stdout",
          "text": [
            "                   all          7         35      0.972        0.2      0.282      0.202      0.972        0.2      0.196      0.178\n"
          ]
        },
        {
          "output_type": "stream",
          "name": "stderr",
          "text": [
            "\n"
          ]
        },
        {
          "output_type": "stream",
          "name": "stdout",
          "text": [
            "\n",
            "      Epoch    GPU_mem   box_loss   seg_loss   cls_loss   dfl_loss  Instances       Size\n"
          ]
        },
        {
          "output_type": "stream",
          "name": "stderr",
          "text": [
            "     23/100      3.25G      1.347      1.141      2.278      1.505        110        640: 100%|██████████| 4/4 [00:01<00:00,  2.01it/s]\n",
            "                 Class     Images  Instances      Box(P          R      mAP50  mAP50-95)     Mask(P          R      mAP50  mAP50-95): 100%|██████████| 1/1 [00:00<00:00,  3.72it/s]"
          ]
        },
        {
          "output_type": "stream",
          "name": "stdout",
          "text": [
            "                   all          7         35      0.999        0.2      0.318      0.217      0.999        0.2      0.199      0.173\n"
          ]
        },
        {
          "output_type": "stream",
          "name": "stderr",
          "text": [
            "\n"
          ]
        },
        {
          "output_type": "stream",
          "name": "stdout",
          "text": [
            "\n",
            "      Epoch    GPU_mem   box_loss   seg_loss   cls_loss   dfl_loss  Instances       Size\n"
          ]
        },
        {
          "output_type": "stream",
          "name": "stderr",
          "text": [
            "     24/100      3.25G      1.338      1.023      2.241      1.504         91        640: 100%|██████████| 4/4 [00:01<00:00,  2.75it/s]\n",
            "                 Class     Images  Instances      Box(P          R      mAP50  mAP50-95)     Mask(P          R      mAP50  mAP50-95): 100%|██████████| 1/1 [00:00<00:00,  8.80it/s]"
          ]
        },
        {
          "output_type": "stream",
          "name": "stdout",
          "text": [
            "                   all          7         35      0.998        0.2      0.276        0.2      0.998        0.2      0.199      0.166\n"
          ]
        },
        {
          "output_type": "stream",
          "name": "stderr",
          "text": [
            "\n"
          ]
        },
        {
          "output_type": "stream",
          "name": "stdout",
          "text": [
            "\n",
            "      Epoch    GPU_mem   box_loss   seg_loss   cls_loss   dfl_loss  Instances       Size\n"
          ]
        },
        {
          "output_type": "stream",
          "name": "stderr",
          "text": [
            "     25/100      3.25G      1.272     0.9913      2.227      1.459         93        640: 100%|██████████| 4/4 [00:01<00:00,  3.06it/s]\n",
            "                 Class     Images  Instances      Box(P          R      mAP50  mAP50-95)     Mask(P          R      mAP50  mAP50-95): 100%|██████████| 1/1 [00:00<00:00,  8.69it/s]"
          ]
        },
        {
          "output_type": "stream",
          "name": "stdout",
          "text": [
            "                   all          7         35      0.426      0.286       0.27      0.182      0.999        0.2      0.199      0.156\n"
          ]
        },
        {
          "output_type": "stream",
          "name": "stderr",
          "text": [
            "\n"
          ]
        },
        {
          "output_type": "stream",
          "name": "stdout",
          "text": [
            "\n",
            "      Epoch    GPU_mem   box_loss   seg_loss   cls_loss   dfl_loss  Instances       Size\n"
          ]
        },
        {
          "output_type": "stream",
          "name": "stderr",
          "text": [
            "     26/100      3.25G      1.316      1.049      2.202      1.509         76        640: 100%|██████████| 4/4 [00:01<00:00,  2.84it/s]\n",
            "                 Class     Images  Instances      Box(P          R      mAP50  mAP50-95)     Mask(P          R      mAP50  mAP50-95): 100%|██████████| 1/1 [00:00<00:00,  8.47it/s]"
          ]
        },
        {
          "output_type": "stream",
          "name": "stdout",
          "text": [
            "                   all          7         35      0.227      0.286      0.269      0.145      0.194      0.171      0.193      0.151\n"
          ]
        },
        {
          "output_type": "stream",
          "name": "stderr",
          "text": [
            "\n"
          ]
        },
        {
          "output_type": "stream",
          "name": "stdout",
          "text": [
            "\n",
            "      Epoch    GPU_mem   box_loss   seg_loss   cls_loss   dfl_loss  Instances       Size\n"
          ]
        },
        {
          "output_type": "stream",
          "name": "stderr",
          "text": [
            "     27/100      3.25G      1.218      1.025      2.137      1.424         91        640: 100%|██████████| 4/4 [00:01<00:00,  3.14it/s]\n",
            "                 Class     Images  Instances      Box(P          R      mAP50  mAP50-95)     Mask(P          R      mAP50  mAP50-95): 100%|██████████| 1/1 [00:00<00:00,  6.49it/s]\n"
          ]
        },
        {
          "output_type": "stream",
          "name": "stdout",
          "text": [
            "                   all          7         35      0.197      0.257      0.259      0.152      0.195      0.171      0.172      0.146\n",
            "\n",
            "      Epoch    GPU_mem   box_loss   seg_loss   cls_loss   dfl_loss  Instances       Size\n"
          ]
        },
        {
          "output_type": "stream",
          "name": "stderr",
          "text": [
            "     28/100      3.25G      1.247      1.045      2.109       1.48         82        640: 100%|██████████| 4/4 [00:01<00:00,  3.03it/s]\n",
            "                 Class     Images  Instances      Box(P          R      mAP50  mAP50-95)     Mask(P          R      mAP50  mAP50-95): 100%|██████████| 1/1 [00:00<00:00,  5.83it/s]\n"
          ]
        },
        {
          "output_type": "stream",
          "name": "stdout",
          "text": [
            "                   all          7         35      0.202      0.286      0.262      0.197      0.797      0.171      0.193      0.179\n",
            "\n",
            "      Epoch    GPU_mem   box_loss   seg_loss   cls_loss   dfl_loss  Instances       Size\n"
          ]
        },
        {
          "output_type": "stream",
          "name": "stderr",
          "text": [
            "     29/100      3.25G      1.218      1.058      2.098       1.41         95        640: 100%|██████████| 4/4 [00:01<00:00,  2.53it/s]\n",
            "                 Class     Images  Instances      Box(P          R      mAP50  mAP50-95)     Mask(P          R      mAP50  mAP50-95): 100%|██████████| 1/1 [00:00<00:00,  4.93it/s]"
          ]
        },
        {
          "output_type": "stream",
          "name": "stdout",
          "text": [
            "                   all          7         35      0.214       0.32      0.277      0.198        0.4      0.198      0.199      0.185\n"
          ]
        },
        {
          "output_type": "stream",
          "name": "stderr",
          "text": [
            "\n"
          ]
        },
        {
          "output_type": "stream",
          "name": "stdout",
          "text": [
            "\n",
            "      Epoch    GPU_mem   box_loss   seg_loss   cls_loss   dfl_loss  Instances       Size\n"
          ]
        },
        {
          "output_type": "stream",
          "name": "stderr",
          "text": [
            "     30/100      3.25G      1.266     0.9675      2.077      1.464        103        640: 100%|██████████| 4/4 [00:01<00:00,  2.11it/s]\n",
            "                 Class     Images  Instances      Box(P          R      mAP50  mAP50-95)     Mask(P          R      mAP50  mAP50-95): 100%|██████████| 1/1 [00:00<00:00,  2.90it/s]"
          ]
        },
        {
          "output_type": "stream",
          "name": "stdout",
          "text": [
            "                   all          7         35      0.437      0.314      0.305      0.212      0.799        0.2      0.199      0.188\n"
          ]
        },
        {
          "output_type": "stream",
          "name": "stderr",
          "text": [
            "\n"
          ]
        },
        {
          "output_type": "stream",
          "name": "stdout",
          "text": [
            "\n",
            "      Epoch    GPU_mem   box_loss   seg_loss   cls_loss   dfl_loss  Instances       Size\n"
          ]
        },
        {
          "output_type": "stream",
          "name": "stderr",
          "text": [
            "     31/100      3.25G      1.252      1.024      2.036      1.408        102        640: 100%|██████████| 4/4 [00:01<00:00,  3.00it/s]\n",
            "                 Class     Images  Instances      Box(P          R      mAP50  mAP50-95)     Mask(P          R      mAP50  mAP50-95): 100%|██████████| 1/1 [00:00<00:00,  7.67it/s]"
          ]
        },
        {
          "output_type": "stream",
          "name": "stdout",
          "text": [
            "                   all          7         35      0.472      0.343      0.348      0.233      0.973        0.2      0.196      0.179\n"
          ]
        },
        {
          "output_type": "stream",
          "name": "stderr",
          "text": [
            "\n"
          ]
        },
        {
          "output_type": "stream",
          "name": "stdout",
          "text": [
            "\n",
            "      Epoch    GPU_mem   box_loss   seg_loss   cls_loss   dfl_loss  Instances       Size\n"
          ]
        },
        {
          "output_type": "stream",
          "name": "stderr",
          "text": [
            "     32/100      3.25G      1.204      1.116      2.014       1.41         80        640: 100%|██████████| 4/4 [00:01<00:00,  2.86it/s]\n",
            "                 Class     Images  Instances      Box(P          R      mAP50  mAP50-95)     Mask(P          R      mAP50  mAP50-95): 100%|██████████| 1/1 [00:00<00:00,  8.46it/s]"
          ]
        },
        {
          "output_type": "stream",
          "name": "stdout",
          "text": [
            "                   all          7         35      0.581      0.314      0.307      0.173       0.74        0.2      0.165      0.126\n"
          ]
        },
        {
          "output_type": "stream",
          "name": "stderr",
          "text": [
            "\n"
          ]
        },
        {
          "output_type": "stream",
          "name": "stdout",
          "text": [
            "\n",
            "      Epoch    GPU_mem   box_loss   seg_loss   cls_loss   dfl_loss  Instances       Size\n"
          ]
        },
        {
          "output_type": "stream",
          "name": "stderr",
          "text": [
            "     33/100      3.25G      1.235     0.9794      1.993      1.463         94        640: 100%|██████████| 4/4 [00:01<00:00,  2.83it/s]\n",
            "                 Class     Images  Instances      Box(P          R      mAP50  mAP50-95)     Mask(P          R      mAP50  mAP50-95): 100%|██████████| 1/1 [00:00<00:00,  8.52it/s]"
          ]
        },
        {
          "output_type": "stream",
          "name": "stdout",
          "text": [
            "                   all          7         35      0.275      0.343       0.34      0.232      0.374        0.2      0.196      0.182\n"
          ]
        },
        {
          "output_type": "stream",
          "name": "stderr",
          "text": [
            "\n"
          ]
        },
        {
          "output_type": "stream",
          "name": "stdout",
          "text": [
            "\n",
            "      Epoch    GPU_mem   box_loss   seg_loss   cls_loss   dfl_loss  Instances       Size\n"
          ]
        },
        {
          "output_type": "stream",
          "name": "stderr",
          "text": [
            "     34/100      3.25G      1.151       0.97       1.96      1.365         89        640: 100%|██████████| 4/4 [00:01<00:00,  3.05it/s]\n",
            "                 Class     Images  Instances      Box(P          R      mAP50  mAP50-95)     Mask(P          R      mAP50  mAP50-95): 100%|██████████| 1/1 [00:00<00:00,  6.59it/s]"
          ]
        },
        {
          "output_type": "stream",
          "name": "stdout",
          "text": [
            "                   all          7         35       0.37      0.457      0.369      0.272      0.999        0.2      0.199      0.194\n"
          ]
        },
        {
          "output_type": "stream",
          "name": "stderr",
          "text": [
            "\n"
          ]
        },
        {
          "output_type": "stream",
          "name": "stdout",
          "text": [
            "\n",
            "      Epoch    GPU_mem   box_loss   seg_loss   cls_loss   dfl_loss  Instances       Size\n"
          ]
        },
        {
          "output_type": "stream",
          "name": "stderr",
          "text": [
            "     35/100      3.25G      1.245     0.9583      2.016       1.44         72        640: 100%|██████████| 4/4 [00:01<00:00,  3.08it/s]\n",
            "                 Class     Images  Instances      Box(P          R      mAP50  mAP50-95)     Mask(P          R      mAP50  mAP50-95): 100%|██████████| 1/1 [00:00<00:00,  6.37it/s]\n"
          ]
        },
        {
          "output_type": "stream",
          "name": "stdout",
          "text": [
            "                   all          7         35      0.243      0.505      0.339       0.22      0.973        0.2      0.196      0.155\n",
            "\n",
            "      Epoch    GPU_mem   box_loss   seg_loss   cls_loss   dfl_loss  Instances       Size\n"
          ]
        },
        {
          "output_type": "stream",
          "name": "stderr",
          "text": [
            "     36/100      3.25G      1.194     0.9461      1.965      1.409         75        640: 100%|██████████| 4/4 [00:01<00:00,  2.16it/s]\n",
            "                 Class     Images  Instances      Box(P          R      mAP50  mAP50-95)     Mask(P          R      mAP50  mAP50-95): 100%|██████████| 1/1 [00:00<00:00,  5.19it/s]\n"
          ]
        },
        {
          "output_type": "stream",
          "name": "stdout",
          "text": [
            "                   all          7         35      0.205      0.429      0.318      0.206      0.971        0.2      0.196      0.149\n",
            "\n",
            "      Epoch    GPU_mem   box_loss   seg_loss   cls_loss   dfl_loss  Instances       Size\n"
          ]
        },
        {
          "output_type": "stream",
          "name": "stderr",
          "text": [
            "     37/100      3.25G       1.13     0.8867      1.916      1.383         94        640: 100%|██████████| 4/4 [00:01<00:00,  2.28it/s]\n",
            "                 Class     Images  Instances      Box(P          R      mAP50  mAP50-95)     Mask(P          R      mAP50  mAP50-95): 100%|██████████| 1/1 [00:00<00:00,  8.14it/s]"
          ]
        },
        {
          "output_type": "stream",
          "name": "stdout",
          "text": [
            "                   all          7         35       0.19      0.343      0.312      0.226      0.998        0.2      0.199      0.173\n"
          ]
        },
        {
          "output_type": "stream",
          "name": "stderr",
          "text": [
            "\n"
          ]
        },
        {
          "output_type": "stream",
          "name": "stdout",
          "text": [
            "\n",
            "      Epoch    GPU_mem   box_loss   seg_loss   cls_loss   dfl_loss  Instances       Size\n"
          ]
        },
        {
          "output_type": "stream",
          "name": "stderr",
          "text": [
            "     38/100      3.25G       1.21     0.9415      1.939      1.452        106        640: 100%|██████████| 4/4 [00:01<00:00,  2.97it/s]\n",
            "                 Class     Images  Instances      Box(P          R      mAP50  mAP50-95)     Mask(P          R      mAP50  mAP50-95): 100%|██████████| 1/1 [00:00<00:00,  7.97it/s]"
          ]
        },
        {
          "output_type": "stream",
          "name": "stdout",
          "text": [
            "                   all          7         35      0.207      0.371       0.32      0.236      0.998        0.2      0.199      0.184\n"
          ]
        },
        {
          "output_type": "stream",
          "name": "stderr",
          "text": [
            "\n"
          ]
        },
        {
          "output_type": "stream",
          "name": "stdout",
          "text": [
            "\n",
            "      Epoch    GPU_mem   box_loss   seg_loss   cls_loss   dfl_loss  Instances       Size\n"
          ]
        },
        {
          "output_type": "stream",
          "name": "stderr",
          "text": [
            "     39/100      3.25G      1.176      1.067      1.949      1.418         73        640: 100%|██████████| 4/4 [00:01<00:00,  3.59it/s]\n",
            "                 Class     Images  Instances      Box(P          R      mAP50  mAP50-95)     Mask(P          R      mAP50  mAP50-95): 100%|██████████| 1/1 [00:00<00:00,  3.10it/s]"
          ]
        },
        {
          "output_type": "stream",
          "name": "stdout",
          "text": [
            "                   all          7         35      0.282      0.399      0.309      0.219      0.998        0.2      0.199      0.186\n"
          ]
        },
        {
          "output_type": "stream",
          "name": "stderr",
          "text": [
            "\n"
          ]
        },
        {
          "output_type": "stream",
          "name": "stdout",
          "text": [
            "\n",
            "      Epoch    GPU_mem   box_loss   seg_loss   cls_loss   dfl_loss  Instances       Size\n"
          ]
        },
        {
          "output_type": "stream",
          "name": "stderr",
          "text": [
            "     40/100      3.25G      1.203     0.9277       1.91      1.406         89        640: 100%|██████████| 4/4 [00:01<00:00,  3.03it/s]\n",
            "                 Class     Images  Instances      Box(P          R      mAP50  mAP50-95)     Mask(P          R      mAP50  mAP50-95): 100%|██████████| 1/1 [00:00<00:00,  8.35it/s]"
          ]
        },
        {
          "output_type": "stream",
          "name": "stdout",
          "text": [
            "                   all          7         35      0.298      0.535      0.318      0.221      0.999        0.2      0.199      0.193\n"
          ]
        },
        {
          "output_type": "stream",
          "name": "stderr",
          "text": [
            "\n"
          ]
        },
        {
          "output_type": "stream",
          "name": "stdout",
          "text": [
            "\n",
            "      Epoch    GPU_mem   box_loss   seg_loss   cls_loss   dfl_loss  Instances       Size\n"
          ]
        },
        {
          "output_type": "stream",
          "name": "stderr",
          "text": [
            "     41/100      3.25G      1.136     0.9226       1.86      1.356         81        640: 100%|██████████| 4/4 [00:01<00:00,  2.97it/s]\n",
            "                 Class     Images  Instances      Box(P          R      mAP50  mAP50-95)     Mask(P          R      mAP50  mAP50-95): 100%|██████████| 1/1 [00:00<00:00,  7.35it/s]"
          ]
        },
        {
          "output_type": "stream",
          "name": "stdout",
          "text": [
            "                   all          7         35      0.318      0.449      0.325      0.216      0.999        0.2      0.199      0.194\n"
          ]
        },
        {
          "output_type": "stream",
          "name": "stderr",
          "text": [
            "\n"
          ]
        },
        {
          "output_type": "stream",
          "name": "stdout",
          "text": [
            "\n",
            "      Epoch    GPU_mem   box_loss   seg_loss   cls_loss   dfl_loss  Instances       Size\n"
          ]
        },
        {
          "output_type": "stream",
          "name": "stderr",
          "text": [
            "     42/100      3.25G      1.154     0.9198        1.9      1.385         97        640: 100%|██████████| 4/4 [00:01<00:00,  2.90it/s]\n",
            "                 Class     Images  Instances      Box(P          R      mAP50  mAP50-95)     Mask(P          R      mAP50  mAP50-95): 100%|██████████| 1/1 [00:00<00:00,  8.25it/s]"
          ]
        },
        {
          "output_type": "stream",
          "name": "stdout",
          "text": [
            "                   all          7         35      0.329      0.365      0.352      0.222      0.999        0.2      0.199      0.192\n"
          ]
        },
        {
          "output_type": "stream",
          "name": "stderr",
          "text": [
            "\n"
          ]
        },
        {
          "output_type": "stream",
          "name": "stdout",
          "text": [
            "\n",
            "      Epoch    GPU_mem   box_loss   seg_loss   cls_loss   dfl_loss  Instances       Size\n"
          ]
        },
        {
          "output_type": "stream",
          "name": "stderr",
          "text": [
            "     43/100      3.25G      1.177     0.9484      1.918      1.401        116        640: 100%|██████████| 4/4 [00:01<00:00,  2.00it/s]\n",
            "                 Class     Images  Instances      Box(P          R      mAP50  mAP50-95)     Mask(P          R      mAP50  mAP50-95): 100%|██████████| 1/1 [00:00<00:00,  2.87it/s]"
          ]
        },
        {
          "output_type": "stream",
          "name": "stdout",
          "text": [
            "                   all          7         35      0.426      0.306      0.356      0.227      0.999        0.2      0.199      0.189\n"
          ]
        },
        {
          "output_type": "stream",
          "name": "stderr",
          "text": [
            "\n"
          ]
        },
        {
          "output_type": "stream",
          "name": "stdout",
          "text": [
            "\n",
            "      Epoch    GPU_mem   box_loss   seg_loss   cls_loss   dfl_loss  Instances       Size\n"
          ]
        },
        {
          "output_type": "stream",
          "name": "stderr",
          "text": [
            "     44/100      3.25G      1.101     0.8939      1.815      1.333         82        640: 100%|██████████| 4/4 [00:01<00:00,  2.67it/s]\n",
            "                 Class     Images  Instances      Box(P          R      mAP50  mAP50-95)     Mask(P          R      mAP50  mAP50-95): 100%|██████████| 1/1 [00:00<00:00,  8.32it/s]"
          ]
        },
        {
          "output_type": "stream",
          "name": "stdout",
          "text": [
            "                   all          7         35      0.307      0.356      0.313      0.224      0.999        0.2      0.199      0.191\n"
          ]
        },
        {
          "output_type": "stream",
          "name": "stderr",
          "text": [
            "\n"
          ]
        },
        {
          "output_type": "stream",
          "name": "stdout",
          "text": [
            "\n",
            "      Epoch    GPU_mem   box_loss   seg_loss   cls_loss   dfl_loss  Instances       Size\n"
          ]
        },
        {
          "output_type": "stream",
          "name": "stderr",
          "text": [
            "     45/100      3.25G      1.066     0.8639      1.818      1.306         79        640: 100%|██████████| 4/4 [00:01<00:00,  3.03it/s]\n",
            "                 Class     Images  Instances      Box(P          R      mAP50  mAP50-95)     Mask(P          R      mAP50  mAP50-95): 100%|██████████| 1/1 [00:00<00:00,  8.06it/s]\n"
          ]
        },
        {
          "output_type": "stream",
          "name": "stdout",
          "text": [
            "                   all          7         35      0.259      0.371      0.314      0.204      0.998        0.2      0.199      0.179\n",
            "\n",
            "      Epoch    GPU_mem   box_loss   seg_loss   cls_loss   dfl_loss  Instances       Size\n"
          ]
        },
        {
          "output_type": "stream",
          "name": "stderr",
          "text": [
            "     46/100      3.25G      1.078     0.9342       1.84      1.293        105        640: 100%|██████████| 4/4 [00:01<00:00,  2.99it/s]\n",
            "                 Class     Images  Instances      Box(P          R      mAP50  mAP50-95)     Mask(P          R      mAP50  mAP50-95): 100%|██████████| 1/1 [00:00<00:00,  7.83it/s]"
          ]
        },
        {
          "output_type": "stream",
          "name": "stdout",
          "text": [
            "                   all          7         35      0.288        0.4        0.3      0.209      0.999        0.2      0.199      0.183\n"
          ]
        },
        {
          "output_type": "stream",
          "name": "stderr",
          "text": [
            "\n"
          ]
        },
        {
          "output_type": "stream",
          "name": "stdout",
          "text": [
            "\n",
            "      Epoch    GPU_mem   box_loss   seg_loss   cls_loss   dfl_loss  Instances       Size\n"
          ]
        },
        {
          "output_type": "stream",
          "name": "stderr",
          "text": [
            "     47/100      3.25G      1.064      0.884      1.811      1.309        105        640: 100%|██████████| 4/4 [00:01<00:00,  3.14it/s]\n",
            "                 Class     Images  Instances      Box(P          R      mAP50  mAP50-95)     Mask(P          R      mAP50  mAP50-95): 100%|██████████| 1/1 [00:00<00:00,  5.10it/s]\n"
          ]
        },
        {
          "output_type": "stream",
          "name": "stdout",
          "text": [
            "                   all          7         35      0.263      0.457      0.331      0.239      0.798        0.2      0.199      0.187\n",
            "\n",
            "      Epoch    GPU_mem   box_loss   seg_loss   cls_loss   dfl_loss  Instances       Size\n"
          ]
        },
        {
          "output_type": "stream",
          "name": "stderr",
          "text": [
            "     48/100      3.25G      1.084     0.9329      1.811      1.303         84        640: 100%|██████████| 4/4 [00:01<00:00,  2.53it/s]\n",
            "                 Class     Images  Instances      Box(P          R      mAP50  mAP50-95)     Mask(P          R      mAP50  mAP50-95): 100%|██████████| 1/1 [00:00<00:00,  8.17it/s]"
          ]
        },
        {
          "output_type": "stream",
          "name": "stdout",
          "text": [
            "                   all          7         35      0.276      0.457      0.327      0.236      0.799        0.2      0.199      0.181\n"
          ]
        },
        {
          "output_type": "stream",
          "name": "stderr",
          "text": [
            "\n"
          ]
        },
        {
          "output_type": "stream",
          "name": "stdout",
          "text": [
            "\n",
            "      Epoch    GPU_mem   box_loss   seg_loss   cls_loss   dfl_loss  Instances       Size\n"
          ]
        },
        {
          "output_type": "stream",
          "name": "stderr",
          "text": [
            "     49/100      3.25G      1.027     0.8675      1.773      1.278         82        640: 100%|██████████| 4/4 [00:01<00:00,  2.33it/s]\n",
            "                 Class     Images  Instances      Box(P          R      mAP50  mAP50-95)     Mask(P          R      mAP50  mAP50-95): 100%|██████████| 1/1 [00:00<00:00,  5.20it/s]\n"
          ]
        },
        {
          "output_type": "stream",
          "name": "stdout",
          "text": [
            "                   all          7         35      0.297      0.466      0.343      0.247      0.999        0.2      0.199      0.184\n",
            "\n",
            "      Epoch    GPU_mem   box_loss   seg_loss   cls_loss   dfl_loss  Instances       Size\n"
          ]
        },
        {
          "output_type": "stream",
          "name": "stderr",
          "text": [
            "     50/100      3.25G      1.097     0.8595       1.87      1.353         72        640: 100%|██████████| 4/4 [00:02<00:00,  1.92it/s]\n",
            "                 Class     Images  Instances      Box(P          R      mAP50  mAP50-95)     Mask(P          R      mAP50  mAP50-95): 100%|██████████| 1/1 [00:00<00:00,  5.90it/s]"
          ]
        },
        {
          "output_type": "stream",
          "name": "stdout",
          "text": [
            "                   all          7         35      0.345      0.486      0.368      0.263      0.999        0.2      0.199      0.194\n"
          ]
        },
        {
          "output_type": "stream",
          "name": "stderr",
          "text": [
            "\n"
          ]
        },
        {
          "output_type": "stream",
          "name": "stdout",
          "text": [
            "\n",
            "      Epoch    GPU_mem   box_loss   seg_loss   cls_loss   dfl_loss  Instances       Size\n"
          ]
        },
        {
          "output_type": "stream",
          "name": "stderr",
          "text": [
            "     51/100      3.25G      1.046     0.8394      1.795      1.294         66        640: 100%|██████████| 4/4 [00:01<00:00,  2.86it/s]\n",
            "                 Class     Images  Instances      Box(P          R      mAP50  mAP50-95)     Mask(P          R      mAP50  mAP50-95): 100%|██████████| 1/1 [00:00<00:00,  8.71it/s]"
          ]
        },
        {
          "output_type": "stream",
          "name": "stdout",
          "text": [
            "                   all          7         35       0.36      0.486      0.351      0.258      0.999        0.2      0.199      0.191\n"
          ]
        },
        {
          "output_type": "stream",
          "name": "stderr",
          "text": [
            "\n"
          ]
        },
        {
          "output_type": "stream",
          "name": "stdout",
          "text": [
            "\n",
            "      Epoch    GPU_mem   box_loss   seg_loss   cls_loss   dfl_loss  Instances       Size\n"
          ]
        },
        {
          "output_type": "stream",
          "name": "stderr",
          "text": [
            "     52/100      3.25G      1.136     0.9964      1.831      1.325         94        640: 100%|██████████| 4/4 [00:01<00:00,  2.99it/s]\n",
            "                 Class     Images  Instances      Box(P          R      mAP50  mAP50-95)     Mask(P          R      mAP50  mAP50-95): 100%|██████████| 1/1 [00:00<00:00,  6.55it/s]"
          ]
        },
        {
          "output_type": "stream",
          "name": "stdout",
          "text": [
            "                   all          7         35      0.275      0.422      0.327      0.235      0.998        0.2      0.199      0.191\n"
          ]
        },
        {
          "output_type": "stream",
          "name": "stderr",
          "text": [
            "\n"
          ]
        },
        {
          "output_type": "stream",
          "name": "stdout",
          "text": [
            "\n",
            "      Epoch    GPU_mem   box_loss   seg_loss   cls_loss   dfl_loss  Instances       Size\n"
          ]
        },
        {
          "output_type": "stream",
          "name": "stderr",
          "text": [
            "     53/100      3.25G       1.05     0.9207       1.77      1.286        103        640: 100%|██████████| 4/4 [00:01<00:00,  2.99it/s]\n",
            "                 Class     Images  Instances      Box(P          R      mAP50  mAP50-95)     Mask(P          R      mAP50  mAP50-95): 100%|██████████| 1/1 [00:00<00:00,  8.17it/s]"
          ]
        },
        {
          "output_type": "stream",
          "name": "stdout",
          "text": [
            "                   all          7         35      0.231      0.371      0.306      0.221      0.998        0.2      0.199      0.183\n"
          ]
        },
        {
          "output_type": "stream",
          "name": "stderr",
          "text": [
            "\n"
          ]
        },
        {
          "output_type": "stream",
          "name": "stdout",
          "text": [
            "\n",
            "      Epoch    GPU_mem   box_loss   seg_loss   cls_loss   dfl_loss  Instances       Size\n"
          ]
        },
        {
          "output_type": "stream",
          "name": "stderr",
          "text": [
            "     54/100      3.25G      1.075     0.9368      1.776      1.312         93        640: 100%|██████████| 4/4 [00:01<00:00,  3.05it/s]\n",
            "                 Class     Images  Instances      Box(P          R      mAP50  mAP50-95)     Mask(P          R      mAP50  mAP50-95): 100%|██████████| 1/1 [00:00<00:00,  6.21it/s]\n"
          ]
        },
        {
          "output_type": "stream",
          "name": "stdout",
          "text": [
            "                   all          7         35      0.247      0.429      0.321      0.212      0.997        0.2      0.199      0.178\n",
            "\n",
            "      Epoch    GPU_mem   box_loss   seg_loss   cls_loss   dfl_loss  Instances       Size\n"
          ]
        },
        {
          "output_type": "stream",
          "name": "stderr",
          "text": [
            "     55/100      3.25G      1.087      0.945      1.783      1.316         99        640: 100%|██████████| 4/4 [00:01<00:00,  2.84it/s]\n",
            "                 Class     Images  Instances      Box(P          R      mAP50  mAP50-95)     Mask(P          R      mAP50  mAP50-95): 100%|██████████| 1/1 [00:00<00:00,  7.69it/s]"
          ]
        },
        {
          "output_type": "stream",
          "name": "stdout",
          "text": [
            "                   all          7         35      0.329       0.28      0.335      0.216      0.998        0.2      0.199      0.179\n"
          ]
        },
        {
          "output_type": "stream",
          "name": "stderr",
          "text": [
            "\n"
          ]
        },
        {
          "output_type": "stream",
          "name": "stdout",
          "text": [
            "\n",
            "      Epoch    GPU_mem   box_loss   seg_loss   cls_loss   dfl_loss  Instances       Size\n"
          ]
        },
        {
          "output_type": "stream",
          "name": "stderr",
          "text": [
            "     56/100      3.25G      1.025     0.9035      1.727      1.243        109        640: 100%|██████████| 4/4 [00:01<00:00,  2.14it/s]\n",
            "                 Class     Images  Instances      Box(P          R      mAP50  mAP50-95)     Mask(P          R      mAP50  mAP50-95): 100%|██████████| 1/1 [00:00<00:00,  3.96it/s]"
          ]
        },
        {
          "output_type": "stream",
          "name": "stdout",
          "text": [
            "                   all          7         35      0.235      0.457      0.334      0.219      0.997        0.2      0.199      0.177\n"
          ]
        },
        {
          "output_type": "stream",
          "name": "stderr",
          "text": [
            "\n"
          ]
        },
        {
          "output_type": "stream",
          "name": "stdout",
          "text": [
            "\n",
            "      Epoch    GPU_mem   box_loss   seg_loss   cls_loss   dfl_loss  Instances       Size\n"
          ]
        },
        {
          "output_type": "stream",
          "name": "stderr",
          "text": [
            "     57/100      3.25G      1.061     0.9218      1.746      1.259        103        640: 100%|██████████| 4/4 [00:01<00:00,  2.09it/s]\n",
            "                 Class     Images  Instances      Box(P          R      mAP50  mAP50-95)     Mask(P          R      mAP50  mAP50-95): 100%|██████████| 1/1 [00:00<00:00,  8.51it/s]"
          ]
        },
        {
          "output_type": "stream",
          "name": "stdout",
          "text": [
            "                   all          7         35      0.227      0.486      0.329      0.211      0.993        0.2      0.199       0.16\n"
          ]
        },
        {
          "output_type": "stream",
          "name": "stderr",
          "text": [
            "\n"
          ]
        },
        {
          "output_type": "stream",
          "name": "stdout",
          "text": [
            "\n",
            "      Epoch    GPU_mem   box_loss   seg_loss   cls_loss   dfl_loss  Instances       Size\n"
          ]
        },
        {
          "output_type": "stream",
          "name": "stderr",
          "text": [
            "     58/100      3.25G      1.057     0.8825      1.783      1.298         86        640: 100%|██████████| 4/4 [00:01<00:00,  3.03it/s]\n",
            "                 Class     Images  Instances      Box(P          R      mAP50  mAP50-95)     Mask(P          R      mAP50  mAP50-95): 100%|██████████| 1/1 [00:00<00:00,  8.27it/s]"
          ]
        },
        {
          "output_type": "stream",
          "name": "stdout",
          "text": [
            "                   all          7         35      0.199      0.429      0.304      0.211      0.993        0.2      0.199      0.175\n"
          ]
        },
        {
          "output_type": "stream",
          "name": "stderr",
          "text": [
            "\n"
          ]
        },
        {
          "output_type": "stream",
          "name": "stdout",
          "text": [
            "\n",
            "      Epoch    GPU_mem   box_loss   seg_loss   cls_loss   dfl_loss  Instances       Size\n"
          ]
        },
        {
          "output_type": "stream",
          "name": "stderr",
          "text": [
            "     59/100      3.25G      1.046     0.8836      1.749       1.26         83        640: 100%|██████████| 4/4 [00:01<00:00,  3.05it/s]\n",
            "                 Class     Images  Instances      Box(P          R      mAP50  mAP50-95)     Mask(P          R      mAP50  mAP50-95): 100%|██████████| 1/1 [00:00<00:00,  8.62it/s]"
          ]
        },
        {
          "output_type": "stream",
          "name": "stdout",
          "text": [
            "                   all          7         35      0.259       0.44      0.303      0.222      0.999        0.2      0.199      0.185\n"
          ]
        },
        {
          "output_type": "stream",
          "name": "stderr",
          "text": [
            "\n"
          ]
        },
        {
          "output_type": "stream",
          "name": "stdout",
          "text": [
            "\n",
            "      Epoch    GPU_mem   box_loss   seg_loss   cls_loss   dfl_loss  Instances       Size\n"
          ]
        },
        {
          "output_type": "stream",
          "name": "stderr",
          "text": [
            "     60/100      3.25G      1.035     0.9127       1.72      1.271         91        640: 100%|██████████| 4/4 [00:01<00:00,  3.01it/s]\n",
            "                 Class     Images  Instances      Box(P          R      mAP50  mAP50-95)     Mask(P          R      mAP50  mAP50-95): 100%|██████████| 1/1 [00:00<00:00,  8.87it/s]"
          ]
        },
        {
          "output_type": "stream",
          "name": "stdout",
          "text": [
            "                   all          7         35      0.248      0.436      0.309      0.229      0.999        0.2      0.199      0.182\n"
          ]
        },
        {
          "output_type": "stream",
          "name": "stderr",
          "text": [
            "\n"
          ]
        },
        {
          "output_type": "stream",
          "name": "stdout",
          "text": [
            "\n",
            "      Epoch    GPU_mem   box_loss   seg_loss   cls_loss   dfl_loss  Instances       Size\n"
          ]
        },
        {
          "output_type": "stream",
          "name": "stderr",
          "text": [
            "     61/100      3.25G      1.021     0.8138      1.751      1.298         78        640: 100%|██████████| 4/4 [00:01<00:00,  2.83it/s]\n",
            "                 Class     Images  Instances      Box(P          R      mAP50  mAP50-95)     Mask(P          R      mAP50  mAP50-95): 100%|██████████| 1/1 [00:00<00:00,  8.45it/s]"
          ]
        },
        {
          "output_type": "stream",
          "name": "stdout",
          "text": [
            "                   all          7         35      0.271      0.514      0.346      0.235      0.999        0.2      0.199      0.178\n"
          ]
        },
        {
          "output_type": "stream",
          "name": "stderr",
          "text": [
            "\n"
          ]
        },
        {
          "output_type": "stream",
          "name": "stdout",
          "text": [
            "\n",
            "      Epoch    GPU_mem   box_loss   seg_loss   cls_loss   dfl_loss  Instances       Size\n"
          ]
        },
        {
          "output_type": "stream",
          "name": "stderr",
          "text": [
            "     62/100      3.25G     0.9803     0.8711       1.71      1.239         95        640: 100%|██████████| 4/4 [00:01<00:00,  3.02it/s]\n",
            "                 Class     Images  Instances      Box(P          R      mAP50  mAP50-95)     Mask(P          R      mAP50  mAP50-95): 100%|██████████| 1/1 [00:00<00:00,  7.78it/s]\n"
          ]
        },
        {
          "output_type": "stream",
          "name": "stdout",
          "text": [
            "                   all          7         35      0.311      0.502      0.352      0.261      0.999        0.2      0.199      0.182\n",
            "\n",
            "      Epoch    GPU_mem   box_loss   seg_loss   cls_loss   dfl_loss  Instances       Size\n"
          ]
        },
        {
          "output_type": "stream",
          "name": "stderr",
          "text": [
            "     63/100      3.25G     0.9834     0.8478      1.685       1.25        114        640: 100%|██████████| 4/4 [00:01<00:00,  2.09it/s]\n",
            "                 Class     Images  Instances      Box(P          R      mAP50  mAP50-95)     Mask(P          R      mAP50  mAP50-95): 100%|██████████| 1/1 [00:00<00:00,  4.05it/s]"
          ]
        },
        {
          "output_type": "stream",
          "name": "stdout",
          "text": [
            "                   all          7         35      0.325      0.514      0.362      0.265      0.999        0.2      0.199       0.19\n"
          ]
        },
        {
          "output_type": "stream",
          "name": "stderr",
          "text": [
            "\n"
          ]
        },
        {
          "output_type": "stream",
          "name": "stdout",
          "text": [
            "\n",
            "      Epoch    GPU_mem   box_loss   seg_loss   cls_loss   dfl_loss  Instances       Size\n"
          ]
        },
        {
          "output_type": "stream",
          "name": "stderr",
          "text": [
            "     64/100      3.25G      1.005     0.8668      1.734      1.274        104        640: 100%|██████████| 4/4 [00:01<00:00,  2.69it/s]\n",
            "                 Class     Images  Instances      Box(P          R      mAP50  mAP50-95)     Mask(P          R      mAP50  mAP50-95): 100%|██████████| 1/1 [00:00<00:00,  6.57it/s]\n"
          ]
        },
        {
          "output_type": "stream",
          "name": "stdout",
          "text": [
            "                   all          7         35      0.319      0.516      0.388      0.297      0.999        0.2      0.199      0.196\n",
            "\n",
            "      Epoch    GPU_mem   box_loss   seg_loss   cls_loss   dfl_loss  Instances       Size\n"
          ]
        },
        {
          "output_type": "stream",
          "name": "stderr",
          "text": [
            "     65/100      3.25G      1.003     0.8887       1.67      1.244        135        640: 100%|██████████| 4/4 [00:01<00:00,  3.12it/s]\n",
            "                 Class     Images  Instances      Box(P          R      mAP50  mAP50-95)     Mask(P          R      mAP50  mAP50-95): 100%|██████████| 1/1 [00:00<00:00,  6.53it/s]"
          ]
        },
        {
          "output_type": "stream",
          "name": "stdout",
          "text": [
            "                   all          7         35      0.321      0.486      0.382      0.299      0.999        0.2      0.199      0.195\n"
          ]
        },
        {
          "output_type": "stream",
          "name": "stderr",
          "text": [
            "\n"
          ]
        },
        {
          "output_type": "stream",
          "name": "stdout",
          "text": [
            "\n",
            "      Epoch    GPU_mem   box_loss   seg_loss   cls_loss   dfl_loss  Instances       Size\n"
          ]
        },
        {
          "output_type": "stream",
          "name": "stderr",
          "text": [
            "     66/100      3.25G      1.012     0.8521        1.7      1.262         87        640: 100%|██████████| 4/4 [00:01<00:00,  2.93it/s]\n",
            "                 Class     Images  Instances      Box(P          R      mAP50  mAP50-95)     Mask(P          R      mAP50  mAP50-95): 100%|██████████| 1/1 [00:00<00:00,  7.01it/s]\n"
          ]
        },
        {
          "output_type": "stream",
          "name": "stdout",
          "text": [
            "                   all          7         35      0.319      0.486      0.392      0.297      0.999        0.2      0.199      0.195\n",
            "\n",
            "      Epoch    GPU_mem   box_loss   seg_loss   cls_loss   dfl_loss  Instances       Size\n"
          ]
        },
        {
          "output_type": "stream",
          "name": "stderr",
          "text": [
            "     67/100      3.25G     0.9107     0.8287      1.645      1.197         94        640: 100%|██████████| 4/4 [00:01<00:00,  2.83it/s]\n",
            "                 Class     Images  Instances      Box(P          R      mAP50  mAP50-95)     Mask(P          R      mAP50  mAP50-95): 100%|██████████| 1/1 [00:00<00:00,  8.81it/s]"
          ]
        },
        {
          "output_type": "stream",
          "name": "stdout",
          "text": [
            "                   all          7         35      0.309       0.45      0.349      0.277      0.998        0.2      0.199      0.195\n"
          ]
        },
        {
          "output_type": "stream",
          "name": "stderr",
          "text": [
            "\n"
          ]
        },
        {
          "output_type": "stream",
          "name": "stdout",
          "text": [
            "\n",
            "      Epoch    GPU_mem   box_loss   seg_loss   cls_loss   dfl_loss  Instances       Size\n"
          ]
        },
        {
          "output_type": "stream",
          "name": "stderr",
          "text": [
            "     68/100      3.25G     0.9742     0.8548      1.675      1.223         74        640: 100%|██████████| 4/4 [00:01<00:00,  2.97it/s]\n",
            "                 Class     Images  Instances      Box(P          R      mAP50  mAP50-95)     Mask(P          R      mAP50  mAP50-95): 100%|██████████| 1/1 [00:00<00:00,  8.67it/s]"
          ]
        },
        {
          "output_type": "stream",
          "name": "stdout",
          "text": [
            "                   all          7         35      0.308      0.514       0.34       0.26      0.998        0.2      0.199      0.194\n"
          ]
        },
        {
          "output_type": "stream",
          "name": "stderr",
          "text": [
            "\n"
          ]
        },
        {
          "output_type": "stream",
          "name": "stdout",
          "text": [
            "\n",
            "      Epoch    GPU_mem   box_loss   seg_loss   cls_loss   dfl_loss  Instances       Size\n"
          ]
        },
        {
          "output_type": "stream",
          "name": "stderr",
          "text": [
            "     69/100      3.25G     0.9772     0.8766      1.669      1.234         91        640: 100%|██████████| 4/4 [00:01<00:00,  2.39it/s]\n",
            "                 Class     Images  Instances      Box(P          R      mAP50  mAP50-95)     Mask(P          R      mAP50  mAP50-95): 100%|██████████| 1/1 [00:00<00:00,  3.90it/s]"
          ]
        },
        {
          "output_type": "stream",
          "name": "stdout",
          "text": [
            "                   all          7         35      0.314      0.457      0.333       0.26      0.999        0.2      0.199      0.194\n"
          ]
        },
        {
          "output_type": "stream",
          "name": "stderr",
          "text": [
            "\n"
          ]
        },
        {
          "output_type": "stream",
          "name": "stdout",
          "text": [
            "\n",
            "      Epoch    GPU_mem   box_loss   seg_loss   cls_loss   dfl_loss  Instances       Size\n"
          ]
        },
        {
          "output_type": "stream",
          "name": "stderr",
          "text": [
            "     70/100      3.25G      0.945     0.8596       1.65      1.227         79        640: 100%|██████████| 4/4 [00:02<00:00,  1.88it/s]\n",
            "                 Class     Images  Instances      Box(P          R      mAP50  mAP50-95)     Mask(P          R      mAP50  mAP50-95): 100%|██████████| 1/1 [00:00<00:00,  7.91it/s]\n"
          ]
        },
        {
          "output_type": "stream",
          "name": "stdout",
          "text": [
            "                   all          7         35       0.33       0.52      0.337      0.272      0.999        0.2      0.199      0.194\n",
            "\n",
            "      Epoch    GPU_mem   box_loss   seg_loss   cls_loss   dfl_loss  Instances       Size\n"
          ]
        },
        {
          "output_type": "stream",
          "name": "stderr",
          "text": [
            "     71/100      3.25G      1.009      0.878      1.671      1.273         80        640: 100%|██████████| 4/4 [00:01<00:00,  2.87it/s]\n",
            "                 Class     Images  Instances      Box(P          R      mAP50  mAP50-95)     Mask(P          R      mAP50  mAP50-95): 100%|██████████| 1/1 [00:00<00:00,  7.51it/s]"
          ]
        },
        {
          "output_type": "stream",
          "name": "stdout",
          "text": [
            "                   all          7         35      0.301        0.6      0.332      0.262      0.999        0.2      0.199      0.195\n"
          ]
        },
        {
          "output_type": "stream",
          "name": "stderr",
          "text": [
            "\n"
          ]
        },
        {
          "output_type": "stream",
          "name": "stdout",
          "text": [
            "\n",
            "      Epoch    GPU_mem   box_loss   seg_loss   cls_loss   dfl_loss  Instances       Size\n"
          ]
        },
        {
          "output_type": "stream",
          "name": "stderr",
          "text": [
            "     72/100      3.25G     0.9747     0.8981      1.657      1.224         91        640: 100%|██████████| 4/4 [00:01<00:00,  2.94it/s]\n",
            "                 Class     Images  Instances      Box(P          R      mAP50  mAP50-95)     Mask(P          R      mAP50  mAP50-95): 100%|██████████| 1/1 [00:00<00:00,  8.65it/s]"
          ]
        },
        {
          "output_type": "stream",
          "name": "stdout",
          "text": [
            "                   all          7         35      0.293      0.486      0.359      0.271      0.999        0.2      0.199      0.194\n"
          ]
        },
        {
          "output_type": "stream",
          "name": "stderr",
          "text": [
            "\n"
          ]
        },
        {
          "output_type": "stream",
          "name": "stdout",
          "text": [
            "\n",
            "      Epoch    GPU_mem   box_loss   seg_loss   cls_loss   dfl_loss  Instances       Size\n"
          ]
        },
        {
          "output_type": "stream",
          "name": "stderr",
          "text": [
            "     73/100      3.25G     0.9554     0.8413      1.619      1.222         94        640: 100%|██████████| 4/4 [00:01<00:00,  3.47it/s]\n",
            "                 Class     Images  Instances      Box(P          R      mAP50  mAP50-95)     Mask(P          R      mAP50  mAP50-95): 100%|██████████| 1/1 [00:00<00:00,  3.87it/s]"
          ]
        },
        {
          "output_type": "stream",
          "name": "stdout",
          "text": [
            "                   all          7         35      0.269        0.4      0.377      0.292      0.999        0.2      0.199      0.195\n"
          ]
        },
        {
          "output_type": "stream",
          "name": "stderr",
          "text": [
            "\n"
          ]
        },
        {
          "output_type": "stream",
          "name": "stdout",
          "text": [
            "\n",
            "      Epoch    GPU_mem   box_loss   seg_loss   cls_loss   dfl_loss  Instances       Size\n"
          ]
        },
        {
          "output_type": "stream",
          "name": "stderr",
          "text": [
            "     74/100      3.25G     0.9616     0.8132       1.65      1.231         65        640: 100%|██████████| 4/4 [00:01<00:00,  2.99it/s]\n",
            "                 Class     Images  Instances      Box(P          R      mAP50  mAP50-95)     Mask(P          R      mAP50  mAP50-95): 100%|██████████| 1/1 [00:00<00:00,  8.65it/s]"
          ]
        },
        {
          "output_type": "stream",
          "name": "stdout",
          "text": [
            "                   all          7         35      0.273      0.457      0.382      0.301      0.999        0.2      0.199      0.196\n"
          ]
        },
        {
          "output_type": "stream",
          "name": "stderr",
          "text": [
            "\n"
          ]
        },
        {
          "output_type": "stream",
          "name": "stdout",
          "text": [
            "\n",
            "      Epoch    GPU_mem   box_loss   seg_loss   cls_loss   dfl_loss  Instances       Size\n"
          ]
        },
        {
          "output_type": "stream",
          "name": "stderr",
          "text": [
            "     75/100      3.25G     0.9367     0.8467      1.577      1.199         93        640: 100%|██████████| 4/4 [00:01<00:00,  3.01it/s]\n",
            "                 Class     Images  Instances      Box(P          R      mAP50  mAP50-95)     Mask(P          R      mAP50  mAP50-95): 100%|██████████| 1/1 [00:00<00:00,  7.46it/s]"
          ]
        },
        {
          "output_type": "stream",
          "name": "stdout",
          "text": [
            "                   all          7         35      0.282      0.478      0.371      0.286      0.998        0.2      0.199      0.196\n"
          ]
        },
        {
          "output_type": "stream",
          "name": "stderr",
          "text": [
            "\n"
          ]
        },
        {
          "output_type": "stream",
          "name": "stdout",
          "text": [
            "\n",
            "      Epoch    GPU_mem   box_loss   seg_loss   cls_loss   dfl_loss  Instances       Size\n"
          ]
        },
        {
          "output_type": "stream",
          "name": "stderr",
          "text": [
            "     76/100      3.25G     0.9939     0.9205      1.659      1.239        110        640: 100%|██████████| 4/4 [00:01<00:00,  2.10it/s]\n",
            "                 Class     Images  Instances      Box(P          R      mAP50  mAP50-95)     Mask(P          R      mAP50  mAP50-95): 100%|██████████| 1/1 [00:00<00:00,  3.10it/s]"
          ]
        },
        {
          "output_type": "stream",
          "name": "stdout",
          "text": [
            "                   all          7         35       0.33      0.532      0.361      0.285      0.999        0.2      0.199      0.196\n"
          ]
        },
        {
          "output_type": "stream",
          "name": "stderr",
          "text": [
            "\n"
          ]
        },
        {
          "output_type": "stream",
          "name": "stdout",
          "text": [
            "\n",
            "      Epoch    GPU_mem   box_loss   seg_loss   cls_loss   dfl_loss  Instances       Size\n"
          ]
        },
        {
          "output_type": "stream",
          "name": "stderr",
          "text": [
            "     77/100      3.25G     0.9484     0.8334      1.633      1.234        109        640: 100%|██████████| 4/4 [00:01<00:00,  2.24it/s]\n",
            "                 Class     Images  Instances      Box(P          R      mAP50  mAP50-95)     Mask(P          R      mAP50  mAP50-95): 100%|██████████| 1/1 [00:00<00:00,  7.56it/s]"
          ]
        },
        {
          "output_type": "stream",
          "name": "stdout",
          "text": [
            "                   all          7         35      0.326      0.534      0.362      0.293      0.999        0.2      0.199      0.195\n"
          ]
        },
        {
          "output_type": "stream",
          "name": "stderr",
          "text": [
            "\n"
          ]
        },
        {
          "output_type": "stream",
          "name": "stdout",
          "text": [
            "\n",
            "      Epoch    GPU_mem   box_loss   seg_loss   cls_loss   dfl_loss  Instances       Size\n"
          ]
        },
        {
          "output_type": "stream",
          "name": "stderr",
          "text": [
            "     78/100      3.25G     0.9316     0.8497      1.642      1.205         95        640: 100%|██████████| 4/4 [00:01<00:00,  2.87it/s]\n",
            "                 Class     Images  Instances      Box(P          R      mAP50  mAP50-95)     Mask(P          R      mAP50  mAP50-95): 100%|██████████| 1/1 [00:00<00:00,  8.34it/s]"
          ]
        },
        {
          "output_type": "stream",
          "name": "stdout",
          "text": [
            "                   all          7         35      0.391      0.483       0.41      0.319      0.999        0.2      0.199      0.194\n"
          ]
        },
        {
          "output_type": "stream",
          "name": "stderr",
          "text": [
            "\n"
          ]
        },
        {
          "output_type": "stream",
          "name": "stdout",
          "text": [
            "\n",
            "      Epoch    GPU_mem   box_loss   seg_loss   cls_loss   dfl_loss  Instances       Size\n"
          ]
        },
        {
          "output_type": "stream",
          "name": "stderr",
          "text": [
            "     79/100      3.25G      0.947      0.824      1.616      1.221         78        640: 100%|██████████| 4/4 [00:01<00:00,  2.98it/s]\n",
            "                 Class     Images  Instances      Box(P          R      mAP50  mAP50-95)     Mask(P          R      mAP50  mAP50-95): 100%|██████████| 1/1 [00:00<00:00,  8.69it/s]"
          ]
        },
        {
          "output_type": "stream",
          "name": "stdout",
          "text": [
            "                   all          7         35      0.403       0.47      0.435      0.337      0.999        0.2      0.199      0.189\n"
          ]
        },
        {
          "output_type": "stream",
          "name": "stderr",
          "text": [
            "\n"
          ]
        },
        {
          "output_type": "stream",
          "name": "stdout",
          "text": [
            "\n",
            "      Epoch    GPU_mem   box_loss   seg_loss   cls_loss   dfl_loss  Instances       Size\n"
          ]
        },
        {
          "output_type": "stream",
          "name": "stderr",
          "text": [
            "     80/100      3.25G     0.9114     0.8103      1.605      1.194         96        640: 100%|██████████| 4/4 [00:01<00:00,  3.02it/s]\n",
            "                 Class     Images  Instances      Box(P          R      mAP50  mAP50-95)     Mask(P          R      mAP50  mAP50-95): 100%|██████████| 1/1 [00:00<00:00,  8.12it/s]"
          ]
        },
        {
          "output_type": "stream",
          "name": "stdout",
          "text": [
            "                   all          7         35      0.378      0.429      0.436      0.335      0.999        0.2      0.199      0.193\n"
          ]
        },
        {
          "output_type": "stream",
          "name": "stderr",
          "text": [
            "\n"
          ]
        },
        {
          "output_type": "stream",
          "name": "stdout",
          "text": [
            "\n",
            "      Epoch    GPU_mem   box_loss   seg_loss   cls_loss   dfl_loss  Instances       Size\n"
          ]
        },
        {
          "output_type": "stream",
          "name": "stderr",
          "text": [
            "     81/100      3.25G     0.8801      0.833      1.587      1.183         86        640: 100%|██████████| 4/4 [00:01<00:00,  2.96it/s]\n",
            "                 Class     Images  Instances      Box(P          R      mAP50  mAP50-95)     Mask(P          R      mAP50  mAP50-95): 100%|██████████| 1/1 [00:00<00:00,  8.30it/s]"
          ]
        },
        {
          "output_type": "stream",
          "name": "stdout",
          "text": [
            "                   all          7         35      0.367      0.437       0.44       0.32      0.999        0.2      0.199      0.193\n"
          ]
        },
        {
          "output_type": "stream",
          "name": "stderr",
          "text": [
            "\n"
          ]
        },
        {
          "output_type": "stream",
          "name": "stdout",
          "text": [
            "\n",
            "      Epoch    GPU_mem   box_loss   seg_loss   cls_loss   dfl_loss  Instances       Size\n"
          ]
        },
        {
          "output_type": "stream",
          "name": "stderr",
          "text": [
            "     82/100      3.25G      0.888     0.8281      1.598      1.195         87        640: 100%|██████████| 4/4 [00:01<00:00,  3.01it/s]\n",
            "                 Class     Images  Instances      Box(P          R      mAP50  mAP50-95)     Mask(P          R      mAP50  mAP50-95): 100%|██████████| 1/1 [00:00<00:00,  6.16it/s]\n"
          ]
        },
        {
          "output_type": "stream",
          "name": "stdout",
          "text": [
            "                   all          7         35      0.381      0.429      0.421      0.327      0.999        0.2      0.199      0.193\n",
            "\n",
            "      Epoch    GPU_mem   box_loss   seg_loss   cls_loss   dfl_loss  Instances       Size\n"
          ]
        },
        {
          "output_type": "stream",
          "name": "stderr",
          "text": [
            "     83/100      3.25G     0.8964     0.8354      1.605      1.186         89        640: 100%|██████████| 4/4 [00:02<00:00,  1.97it/s]\n",
            "                 Class     Images  Instances      Box(P          R      mAP50  mAP50-95)     Mask(P          R      mAP50  mAP50-95): 100%|██████████| 1/1 [00:00<00:00,  3.21it/s]"
          ]
        },
        {
          "output_type": "stream",
          "name": "stdout",
          "text": [
            "                   all          7         35      0.368      0.514      0.427      0.322      0.999        0.2      0.199      0.193\n"
          ]
        },
        {
          "output_type": "stream",
          "name": "stderr",
          "text": [
            "\n"
          ]
        },
        {
          "output_type": "stream",
          "name": "stdout",
          "text": [
            "\n",
            "      Epoch    GPU_mem   box_loss   seg_loss   cls_loss   dfl_loss  Instances       Size\n"
          ]
        },
        {
          "output_type": "stream",
          "name": "stderr",
          "text": [
            "     84/100      3.25G     0.9322     0.8438      1.601       1.22         99        640: 100%|██████████| 4/4 [00:01<00:00,  3.14it/s]\n",
            "                 Class     Images  Instances      Box(P          R      mAP50  mAP50-95)     Mask(P          R      mAP50  mAP50-95): 100%|██████████| 1/1 [00:00<00:00,  4.82it/s]"
          ]
        },
        {
          "output_type": "stream",
          "name": "stdout",
          "text": [
            "                   all          7         35      0.356      0.499      0.435      0.333      0.999        0.2      0.199      0.196\n"
          ]
        },
        {
          "output_type": "stream",
          "name": "stderr",
          "text": [
            "\n"
          ]
        },
        {
          "output_type": "stream",
          "name": "stdout",
          "text": [
            "\n",
            "      Epoch    GPU_mem   box_loss   seg_loss   cls_loss   dfl_loss  Instances       Size\n"
          ]
        },
        {
          "output_type": "stream",
          "name": "stderr",
          "text": [
            "     85/100      3.25G     0.8497     0.8202       1.55      1.155         96        640: 100%|██████████| 4/4 [00:01<00:00,  2.86it/s]\n",
            "                 Class     Images  Instances      Box(P          R      mAP50  mAP50-95)     Mask(P          R      mAP50  mAP50-95): 100%|██████████| 1/1 [00:00<00:00,  8.61it/s]"
          ]
        },
        {
          "output_type": "stream",
          "name": "stdout",
          "text": [
            "                   all          7         35      0.506        0.4      0.452      0.343      0.999        0.2      0.199      0.196\n"
          ]
        },
        {
          "output_type": "stream",
          "name": "stderr",
          "text": [
            "\n"
          ]
        },
        {
          "output_type": "stream",
          "name": "stdout",
          "text": [
            "\n",
            "      Epoch    GPU_mem   box_loss   seg_loss   cls_loss   dfl_loss  Instances       Size\n"
          ]
        },
        {
          "output_type": "stream",
          "name": "stderr",
          "text": [
            "     86/100      3.25G     0.9112     0.8525      1.557      1.177        100        640: 100%|██████████| 4/4 [00:01<00:00,  2.93it/s]\n",
            "                 Class     Images  Instances      Box(P          R      mAP50  mAP50-95)     Mask(P          R      mAP50  mAP50-95): 100%|██████████| 1/1 [00:00<00:00,  9.15it/s]"
          ]
        },
        {
          "output_type": "stream",
          "name": "stdout",
          "text": [
            "                   all          7         35      0.582      0.398       0.46      0.357      0.999        0.2      0.199      0.196\n"
          ]
        },
        {
          "output_type": "stream",
          "name": "stderr",
          "text": [
            "\n"
          ]
        },
        {
          "output_type": "stream",
          "name": "stdout",
          "text": [
            "\n",
            "      Epoch    GPU_mem   box_loss   seg_loss   cls_loss   dfl_loss  Instances       Size\n"
          ]
        },
        {
          "output_type": "stream",
          "name": "stderr",
          "text": [
            "     87/100      3.25G     0.9294     0.9084      1.592      1.194         87        640: 100%|██████████| 4/4 [00:01<00:00,  3.07it/s]\n",
            "                 Class     Images  Instances      Box(P          R      mAP50  mAP50-95)     Mask(P          R      mAP50  mAP50-95): 100%|██████████| 1/1 [00:00<00:00,  4.84it/s]"
          ]
        },
        {
          "output_type": "stream",
          "name": "stdout",
          "text": [
            "                   all          7         35      0.523      0.402      0.477      0.359      0.999        0.2      0.199      0.196\n"
          ]
        },
        {
          "output_type": "stream",
          "name": "stderr",
          "text": [
            "\n"
          ]
        },
        {
          "output_type": "stream",
          "name": "stdout",
          "text": [
            "\n",
            "      Epoch    GPU_mem   box_loss   seg_loss   cls_loss   dfl_loss  Instances       Size\n"
          ]
        },
        {
          "output_type": "stream",
          "name": "stderr",
          "text": [
            "     88/100      3.25G     0.9297     0.8627      1.599      1.207         75        640: 100%|██████████| 4/4 [00:01<00:00,  2.97it/s]\n",
            "                 Class     Images  Instances      Box(P          R      mAP50  mAP50-95)     Mask(P          R      mAP50  mAP50-95): 100%|██████████| 1/1 [00:00<00:00,  8.75it/s]"
          ]
        },
        {
          "output_type": "stream",
          "name": "stdout",
          "text": [
            "                   all          7         35      0.503      0.408       0.47       0.33      0.999        0.2      0.199      0.193\n"
          ]
        },
        {
          "output_type": "stream",
          "name": "stderr",
          "text": [
            "\n"
          ]
        },
        {
          "output_type": "stream",
          "name": "stdout",
          "text": [
            "\n",
            "      Epoch    GPU_mem   box_loss   seg_loss   cls_loss   dfl_loss  Instances       Size\n"
          ]
        },
        {
          "output_type": "stream",
          "name": "stderr",
          "text": [
            "     89/100      3.25G     0.8939     0.8529      1.549      1.188         92        640: 100%|██████████| 4/4 [00:01<00:00,  2.18it/s]\n",
            "                 Class     Images  Instances      Box(P          R      mAP50  mAP50-95)     Mask(P          R      mAP50  mAP50-95): 100%|██████████| 1/1 [00:00<00:00,  4.29it/s]"
          ]
        },
        {
          "output_type": "stream",
          "name": "stdout",
          "text": [
            "                   all          7         35       0.46      0.457      0.458      0.329      0.999        0.2      0.199      0.192\n"
          ]
        },
        {
          "output_type": "stream",
          "name": "stderr",
          "text": [
            "\n"
          ]
        },
        {
          "output_type": "stream",
          "name": "stdout",
          "text": [
            "\n",
            "      Epoch    GPU_mem   box_loss   seg_loss   cls_loss   dfl_loss  Instances       Size\n"
          ]
        },
        {
          "output_type": "stream",
          "name": "stderr",
          "text": [
            "     90/100      3.25G     0.8848     0.7933      1.559      1.186         90        640: 100%|██████████| 4/4 [00:01<00:00,  2.07it/s]\n",
            "                 Class     Images  Instances      Box(P          R      mAP50  mAP50-95)     Mask(P          R      mAP50  mAP50-95): 100%|██████████| 1/1 [00:00<00:00,  5.77it/s]"
          ]
        },
        {
          "output_type": "stream",
          "name": "stdout",
          "text": [
            "                   all          7         35      0.454      0.457      0.448      0.327      0.999        0.2      0.199      0.193\n"
          ]
        },
        {
          "output_type": "stream",
          "name": "stderr",
          "text": [
            "\n"
          ]
        },
        {
          "output_type": "stream",
          "name": "stdout",
          "text": [
            "Closing dataloader mosaic\n",
            "\u001b[34m\u001b[1malbumentations: \u001b[0mBlur(p=0.01, blur_limit=(3, 7)), MedianBlur(p=0.01, blur_limit=(3, 7)), ToGray(p=0.01, method='weighted_average', num_output_channels=3), CLAHE(p=0.01, clip_limit=(1.0, 4.0), tile_grid_size=(8, 8))\n",
            "\n",
            "      Epoch    GPU_mem   box_loss   seg_loss   cls_loss   dfl_loss  Instances       Size\n"
          ]
        },
        {
          "output_type": "stream",
          "name": "stderr",
          "text": [
            "     91/100      3.25G     0.8868     0.7329      1.905      1.362         43        640: 100%|██████████| 4/4 [00:02<00:00,  1.37it/s]\n",
            "                 Class     Images  Instances      Box(P          R      mAP50  mAP50-95)     Mask(P          R      mAP50  mAP50-95): 100%|██████████| 1/1 [00:00<00:00,  1.89it/s]"
          ]
        },
        {
          "output_type": "stream",
          "name": "stdout",
          "text": [
            "                   all          7         35      0.412      0.449      0.444      0.324      0.999        0.2      0.199      0.192\n"
          ]
        },
        {
          "output_type": "stream",
          "name": "stderr",
          "text": [
            "\n"
          ]
        },
        {
          "output_type": "stream",
          "name": "stdout",
          "text": [
            "\n",
            "      Epoch    GPU_mem   box_loss   seg_loss   cls_loss   dfl_loss  Instances       Size\n"
          ]
        },
        {
          "output_type": "stream",
          "name": "stderr",
          "text": [
            "     92/100      3.25G     0.7511     0.6317      1.753      1.187         43        640: 100%|██████████| 4/4 [00:01<00:00,  3.51it/s]\n",
            "                 Class     Images  Instances      Box(P          R      mAP50  mAP50-95)     Mask(P          R      mAP50  mAP50-95): 100%|██████████| 1/1 [00:00<00:00,  7.83it/s]"
          ]
        },
        {
          "output_type": "stream",
          "name": "stdout",
          "text": [
            "                   all          7         35       0.41      0.457      0.442      0.322      0.999        0.2      0.199      0.192\n"
          ]
        },
        {
          "output_type": "stream",
          "name": "stderr",
          "text": [
            "\n"
          ]
        },
        {
          "output_type": "stream",
          "name": "stdout",
          "text": [
            "\n",
            "      Epoch    GPU_mem   box_loss   seg_loss   cls_loss   dfl_loss  Instances       Size\n"
          ]
        },
        {
          "output_type": "stream",
          "name": "stderr",
          "text": [
            "     93/100      3.25G     0.8402      0.612      1.825      1.296         41        640: 100%|██████████| 4/4 [00:01<00:00,  3.50it/s]\n",
            "                 Class     Images  Instances      Box(P          R      mAP50  mAP50-95)     Mask(P          R      mAP50  mAP50-95): 100%|██████████| 1/1 [00:00<00:00,  8.38it/s]"
          ]
        },
        {
          "output_type": "stream",
          "name": "stdout",
          "text": [
            "                   all          7         35      0.402       0.43      0.447      0.329      0.999        0.2      0.199      0.192\n"
          ]
        },
        {
          "output_type": "stream",
          "name": "stderr",
          "text": [
            "\n"
          ]
        },
        {
          "output_type": "stream",
          "name": "stdout",
          "text": [
            "\n",
            "      Epoch    GPU_mem   box_loss   seg_loss   cls_loss   dfl_loss  Instances       Size\n"
          ]
        },
        {
          "output_type": "stream",
          "name": "stderr",
          "text": [
            "     94/100      3.25G      0.796     0.7173      1.782      1.238         42        640: 100%|██████████| 4/4 [00:01<00:00,  3.43it/s]\n",
            "                 Class     Images  Instances      Box(P          R      mAP50  mAP50-95)     Mask(P          R      mAP50  mAP50-95): 100%|██████████| 1/1 [00:00<00:00,  8.73it/s]"
          ]
        },
        {
          "output_type": "stream",
          "name": "stdout",
          "text": [
            "                   all          7         35      0.478        0.4      0.449      0.334      0.999        0.2      0.199      0.192\n"
          ]
        },
        {
          "output_type": "stream",
          "name": "stderr",
          "text": [
            "\n"
          ]
        },
        {
          "output_type": "stream",
          "name": "stdout",
          "text": [
            "\n",
            "      Epoch    GPU_mem   box_loss   seg_loss   cls_loss   dfl_loss  Instances       Size\n"
          ]
        },
        {
          "output_type": "stream",
          "name": "stderr",
          "text": [
            "     95/100      3.25G     0.7938      0.639      1.787      1.271         38        640: 100%|██████████| 4/4 [00:01<00:00,  2.24it/s]\n",
            "                 Class     Images  Instances      Box(P          R      mAP50  mAP50-95)     Mask(P          R      mAP50  mAP50-95): 100%|██████████| 1/1 [00:00<00:00,  6.16it/s]\n"
          ]
        },
        {
          "output_type": "stream",
          "name": "stdout",
          "text": [
            "                   all          7         35      0.446        0.4      0.443      0.342      0.999        0.2      0.199      0.196\n",
            "\n",
            "      Epoch    GPU_mem   box_loss   seg_loss   cls_loss   dfl_loss  Instances       Size\n"
          ]
        },
        {
          "output_type": "stream",
          "name": "stderr",
          "text": [
            "     96/100      3.25G     0.8866     0.6591      1.878      1.399         38        640: 100%|██████████| 4/4 [00:01<00:00,  3.12it/s]\n",
            "                 Class     Images  Instances      Box(P          R      mAP50  mAP50-95)     Mask(P          R      mAP50  mAP50-95): 100%|██████████| 1/1 [00:00<00:00,  8.34it/s]"
          ]
        },
        {
          "output_type": "stream",
          "name": "stdout",
          "text": [
            "                   all          7         35      0.414        0.4       0.45      0.343      0.999        0.2      0.199      0.195\n"
          ]
        },
        {
          "output_type": "stream",
          "name": "stderr",
          "text": [
            "\n"
          ]
        },
        {
          "output_type": "stream",
          "name": "stdout",
          "text": [
            "\n",
            "      Epoch    GPU_mem   box_loss   seg_loss   cls_loss   dfl_loss  Instances       Size\n"
          ]
        },
        {
          "output_type": "stream",
          "name": "stderr",
          "text": [
            "     97/100      3.25G      0.774     0.6145      1.729      1.294         43        640: 100%|██████████| 4/4 [00:01<00:00,  3.47it/s]\n",
            "                 Class     Images  Instances      Box(P          R      mAP50  mAP50-95)     Mask(P          R      mAP50  mAP50-95): 100%|██████████| 1/1 [00:00<00:00,  5.49it/s]"
          ]
        },
        {
          "output_type": "stream",
          "name": "stdout",
          "text": [
            "                   all          7         35      0.403        0.4      0.447      0.343      0.999        0.2      0.199      0.196\n"
          ]
        },
        {
          "output_type": "stream",
          "name": "stderr",
          "text": [
            "\n"
          ]
        },
        {
          "output_type": "stream",
          "name": "stdout",
          "text": [
            "\n",
            "      Epoch    GPU_mem   box_loss   seg_loss   cls_loss   dfl_loss  Instances       Size\n"
          ]
        },
        {
          "output_type": "stream",
          "name": "stderr",
          "text": [
            "     98/100      3.25G     0.7698     0.6988      1.776      1.256         41        640: 100%|██████████| 4/4 [00:01<00:00,  3.64it/s]\n",
            "                 Class     Images  Instances      Box(P          R      mAP50  mAP50-95)     Mask(P          R      mAP50  mAP50-95): 100%|██████████| 1/1 [00:00<00:00,  6.57it/s]"
          ]
        },
        {
          "output_type": "stream",
          "name": "stdout",
          "text": [
            "                   all          7         35      0.357      0.543      0.448      0.345      0.999        0.2      0.199      0.196\n"
          ]
        },
        {
          "output_type": "stream",
          "name": "stderr",
          "text": [
            "\n"
          ]
        },
        {
          "output_type": "stream",
          "name": "stdout",
          "text": [
            "\n",
            "      Epoch    GPU_mem   box_loss   seg_loss   cls_loss   dfl_loss  Instances       Size\n"
          ]
        },
        {
          "output_type": "stream",
          "name": "stderr",
          "text": [
            "     99/100      3.25G       0.84       0.69      1.836      1.373         41        640: 100%|██████████| 4/4 [00:01<00:00,  3.64it/s]\n",
            "                 Class     Images  Instances      Box(P          R      mAP50  mAP50-95)     Mask(P          R      mAP50  mAP50-95): 100%|██████████| 1/1 [00:00<00:00,  8.16it/s]"
          ]
        },
        {
          "output_type": "stream",
          "name": "stdout",
          "text": [
            "                   all          7         35      0.353      0.543      0.446      0.344      0.999        0.2      0.199      0.196\n"
          ]
        },
        {
          "output_type": "stream",
          "name": "stderr",
          "text": [
            "\n"
          ]
        },
        {
          "output_type": "stream",
          "name": "stdout",
          "text": [
            "\n",
            "      Epoch    GPU_mem   box_loss   seg_loss   cls_loss   dfl_loss  Instances       Size\n"
          ]
        },
        {
          "output_type": "stream",
          "name": "stderr",
          "text": [
            "    100/100      3.25G     0.8221     0.6205      1.782      1.363         41        640: 100%|██████████| 4/4 [00:01<00:00,  3.53it/s]\n",
            "                 Class     Images  Instances      Box(P          R      mAP50  mAP50-95)     Mask(P          R      mAP50  mAP50-95): 100%|██████████| 1/1 [00:00<00:00,  8.08it/s]"
          ]
        },
        {
          "output_type": "stream",
          "name": "stdout",
          "text": [
            "                   all          7         35      0.374      0.557      0.447      0.344      0.999        0.2      0.199      0.196\n"
          ]
        },
        {
          "output_type": "stream",
          "name": "stderr",
          "text": [
            "\n"
          ]
        },
        {
          "output_type": "stream",
          "name": "stdout",
          "text": [
            "\n",
            "100 epochs completed in 0.059 hours.\n",
            "Optimizer stripped from runs/segment/train/weights/last.pt, 6.0MB\n",
            "Optimizer stripped from runs/segment/train/weights/best.pt, 6.0MB\n",
            "\n",
            "Validating runs/segment/train/weights/best.pt...\n",
            "Ultralytics 8.3.154 🚀 Python-3.11.13 torch-2.6.0+cu124 CUDA:0 (Tesla T4, 15095MiB)\n",
            "YOLO11n-seg summary (fused): 113 layers, 2,835,543 parameters, 0 gradients, 10.2 GFLOPs\n"
          ]
        },
        {
          "output_type": "stream",
          "name": "stderr",
          "text": [
            "\r                 Class     Images  Instances      Box(P          R      mAP50  mAP50-95)     Mask(P          R      mAP50  mAP50-95):   0%|          | 0/1 [00:00<?, ?it/s]"
          ]
        },
        {
          "output_type": "stream",
          "name": "stdout",
          "text": [
            "WARNING ⚠️ Limiting validation plots to first 50 items per image for speed...\n",
            "WARNING ⚠️ Limiting validation plots to first 50 items per image for speed...\n",
            "WARNING ⚠️ Limiting validation plots to first 50 items per image for speed...\n",
            "WARNING ⚠️ Limiting validation plots to first 50 items per image for speed...\n",
            "WARNING ⚠️ Limiting validation plots to first 50 items per image for speed...\n",
            "WARNING ⚠️ Limiting validation plots to first 50 items per image for speed...\n",
            "WARNING ⚠️ Limiting validation plots to first 50 items per image for speed...\n"
          ]
        },
        {
          "output_type": "stream",
          "name": "stderr",
          "text": [
            "                 Class     Images  Instances      Box(P          R      mAP50  mAP50-95)     Mask(P          R      mAP50  mAP50-95): 100%|██████████| 1/1 [00:00<00:00,  7.22it/s]\n"
          ]
        },
        {
          "output_type": "stream",
          "name": "stdout",
          "text": [
            "                   all          7         35      0.523      0.403      0.477      0.361      0.999        0.2      0.199      0.196\n",
            "            chessboard          7          7      0.904          1      0.995      0.963      0.993          1      0.995      0.979\n",
            "                    p1          7          7      0.539      0.286      0.417      0.217          1          0          0          0\n",
            "                    p2          7          7          0          0      0.133     0.0916          1          0          0          0\n",
            "                    p3          7          7      0.674      0.299      0.447      0.316          1          0          0          0\n",
            "                    p4          7          7      0.496      0.429      0.395      0.217          1          0          0          0\n",
            "Speed: 0.2ms preprocess, 4.0ms inference, 0.0ms loss, 3.4ms postprocess per image\n",
            "Results saved to \u001b[1mruns/segment/train\u001b[0m\n",
            "updating: content/ (stored 0%)\n",
            "updating: content/.config/ (stored 0%)\n",
            "updating: content/.config/.last_update_check.json (deflated 22%)\n",
            "updating: content/.config/logs/ (stored 0%)\n",
            "updating: content/.config/logs/2025.06.11/ (stored 0%)\n",
            "updating: content/.config/logs/2025.06.11/13.37.27.755669.log (deflated 56%)\n",
            "updating: content/.config/logs/2025.06.11/13.37.18.763091.log (deflated 58%)\n",
            "updating: content/.config/logs/2025.06.11/13.37.08.919149.log (deflated 58%)\n",
            "updating: content/.config/logs/2025.06.11/13.37.27.125319.log (deflated 58%)\n",
            "updating: content/.config/logs/2025.06.11/13.36.48.453813.log (deflated 93%)\n",
            "updating: content/.config/logs/2025.06.11/13.37.17.609931.log (deflated 87%)\n",
            "updating: content/.config/.last_opt_in_prompt.yaml (stored 0%)\n",
            "updating: content/.config/config_sentinel (stored 0%)\n",
            "updating: content/.config/hidden_gcloud_config_universe_descriptor_data_cache_configs.db (deflated 97%)\n",
            "updating: content/.config/.last_survey_prompt.yaml (stored 0%)\n",
            "updating: content/.config/active_config (stored 0%)\n",
            "updating: content/.config/configurations/ (stored 0%)\n",
            "updating: content/.config/configurations/config_default (deflated 15%)\n",
            "updating: content/.config/gce (stored 0%)\n",
            "updating: content/.config/default_configs.db (deflated 98%)\n",
            "updating: content/yolo11n.pt (deflated 11%)\n",
            "updating: content/runs/ (stored 0%)\n",
            "updating: content/runs/detect/ (stored 0%)\n",
            "updating: content/runs/detect/train/ (stored 0%)\n",
            "updating: content/runs/detect/train/labels.jpg (deflated 20%)\n",
            "updating: content/runs/detect/train/weights/ (stored 0%)\n",
            "updating: content/runs/detect/train/weights/best.pt (deflated 10%)\n",
            "updating: content/runs/detect/train/weights/last.pt (deflated 10%)\n",
            "updating: content/runs/detect/train/val_batch0_pred.jpg (deflated 6%)\n",
            "updating: content/runs/detect/train/train_batch2.jpg (deflated 2%)\n",
            "updating: content/runs/detect/train/results.csv (deflated 62%)\n",
            "updating: content/runs/detect/train/train_batch1.jpg (deflated 2%)\n",
            "updating: content/runs/detect/train/confusion_matrix.png (deflated 33%)\n",
            "updating: content/runs/detect/train/R_curve.png (deflated 12%)\n",
            "updating: content/runs/detect/train/results.png (deflated 7%)\n",
            "updating: content/runs/detect/train/confusion_matrix_normalized.png (deflated 26%)\n",
            "updating: content/runs/detect/train/train_batch362.jpg (deflated 6%)\n",
            "updating: content/runs/detect/train/train_batch361.jpg (deflated 4%)\n",
            "updating: content/runs/detect/train/train_batch0.jpg (deflated 3%)\n",
            "updating: content/runs/detect/train/val_batch0_labels.jpg (deflated 7%)\n",
            "updating: content/runs/detect/train/args.yaml (deflated 53%)\n",
            "updating: content/runs/detect/train/P_curve.png (deflated 8%)\n",
            "updating: content/runs/detect/train/labels_correlogram.jpg (deflated 52%)\n",
            "updating: content/runs/detect/train/train_batch360.jpg (deflated 5%)\n",
            "updating: content/runs/detect/train/F1_curve.png (deflated 9%)\n",
            "updating: content/runs/detect/train/PR_curve.png (deflated 20%)\n",
            "updating: content/drive/ (stored 0%)\n",
            "updating: content/drive/MyDrive/ (stored 0%)\n",
            "updating: content/drive/MyDrive/Colab Notebooks/ (stored 0%)\n",
            "updating: content/drive/.shortcut-targets-by-id/ (stored 0%)\n",
            "updating: content/drive/.Trash-0/ (stored 0%)\n",
            "updating: content/drive/.Trash-0/files/ (stored 0%)\n",
            "updating: content/drive/.Trash-0/info/ (stored 0%)\n",
            "updating: content/drive/.Encrypted/ (stored 0%)\n",
            "updating: content/drive/.Encrypted/MyDrive/ (stored 0%)\n",
            "updating: content/drive/.Encrypted/MyDrive/Colab Notebooks/ (stored 0%)\n",
            "updating: content/drive/.Encrypted/.shortcut-targets-by-id/ (stored 0%)\n",
            "updating: content/robo_chess-8/ (stored 0%)\n",
            "updating: content/robo_chess-8/data.yaml (deflated 37%)\n",
            "updating: content/robo_chess-8/train/ (stored 0%)\n",
            "updating: content/robo_chess-8/train/labels.cache (deflated 64%)\n",
            "updating: content/robo_chess-8/train/images/ (stored 0%)\n",
            "updating: content/robo_chess-8/train/images/20250612_170348_mp4-0009_jpg.rf.54260b2f59ef4ba96ecef55fa840e189.jpg (deflated 0%)\n",
            "updating: content/robo_chess-8/train/images/20250612_170348_mp4-0025_jpg.rf.9a07dbe6f874508d3a753df428f0e7a4.jpg (deflated 1%)\n",
            "updating: content/robo_chess-8/train/images/20250612_170348_mp4-0020_jpg.rf.58d3fb1b631143cc9d400b58e0be46ec.jpg (deflated 0%)\n",
            "updating: content/robo_chess-8/train/images/chessboard_mp4-0003_jpg.rf.97d405517d3cfe14e3475f3b23407266.jpg (deflated 1%)\n",
            "updating: content/robo_chess-8/train/images/20250612_170348_mp4-0025_jpg.rf.5a9f7afa01eed886bc6954e190d1937f.jpg (deflated 0%)\n",
            "updating: content/robo_chess-8/train/images/20250612_170348_mp4-0021_jpg.rf.2f0a8f6b30ea6c7d218842cf8a07ed7c.jpg (deflated 0%)\n",
            "updating: content/robo_chess-8/train/images/chessboard_mp4-0003_jpg.rf.897cff5104d9da57d686085eacc8120d.jpg (deflated 1%)\n",
            "updating: content/robo_chess-8/train/images/chessboard_mp4-0002_jpg.rf.a98dda0eac35db17c574aa741d7ad87a.jpg (deflated 1%)\n",
            "updating: content/robo_chess-8/train/images/20250612_170348_mp4-0015_jpg.rf.5d30d8504bf64763f097ad35d3a0680a.jpg (deflated 0%)\n",
            "updating: content/robo_chess-8/train/images/20250612_170348_mp4-0021_jpg.rf.18a49471cd8098a72ccebf09ddacc7cf.jpg (deflated 0%)\n",
            "updating: content/robo_chess-8/train/images/20250612_170338_jpg.rf.9400243bc58334dddc9699253c88f1a3.jpg (deflated 0%)\n",
            "updating: content/robo_chess-8/train/images/20250612_170348_mp4-0015_jpg.rf.7b120cf59ef0c4b65e158fb3b47105ee.jpg (deflated 0%)\n",
            "updating: content/robo_chess-8/train/images/chessboard_mp4-0007_jpg.rf.61b7b98056970a7e0855b8044fd7755b.jpg (deflated 1%)\n",
            "updating: content/robo_chess-8/train/images/chessboard_mp4-0007_jpg.rf.c313811e217555978e258d941685ba2c.jpg (deflated 1%)\n",
            "updating: content/robo_chess-8/train/images/20250612_170348_mp4-0022_jpg.rf.7e4e39d5c1a243738ebcf6028f3d1496.jpg (deflated 0%)\n",
            "updating: content/robo_chess-8/train/images/20250612_170318_jpg.rf.d501590bfe9ab86f57e51eb6d06a6429.jpg (deflated 0%)\n",
            "updating: content/robo_chess-8/train/images/20250612_170348_mp4-0020_jpg.rf.38a944e926da070c1bfe07b3cfbfbc28.jpg (deflated 0%)\n",
            "updating: content/robo_chess-8/train/images/chessboard_mp4-0014_jpg.rf.c3c4a6118b1d1b17b8c06cd6124743b2.jpg (deflated 1%)\n",
            "updating: content/robo_chess-8/train/images/chessboard_mp4-0000_jpg.rf.3811bcd1718b8cc3ec6c5dcdd9337a74.jpg (deflated 1%)\n",
            "updating: content/robo_chess-8/train/images/20250612_170348_mp4-0009_jpg.rf.c98438234c85dbf5218199c0fa4f07b7.jpg (deflated 0%)\n",
            "updating: content/robo_chess-8/train/images/20250612_170329_jpg.rf.c6496bf0c9d7ebb13b854dd08c5b27f4.jpg (deflated 0%)\n",
            "updating: content/robo_chess-8/train/images/20250612_170348_mp4-0008_jpg.rf.71cde03a1610a5dfa02b0597b5d563be.jpg (deflated 0%)\n",
            "updating: content/robo_chess-8/train/images/20250612_170348_mp4-0022_jpg.rf.e15afc0c4c644a6689ccdd0e7cf4e919.jpg (deflated 0%)\n",
            "updating: content/robo_chess-8/train/images/chessboard_mp4-0007_jpg.rf.e5833a561410387529ac00aadeeddce9.jpg (deflated 1%)\n",
            "updating: content/robo_chess-8/train/images/20250612_170348_mp4-0009_jpg.rf.b1c7bc74dfdc2fa195cd6e13b865e1c0.jpg (deflated 0%)\n",
            "updating: content/robo_chess-8/train/images/chessboard_mp4-0013_jpg.rf.92ae306fdf3af4b64948d3a4f98b5b58.jpg (deflated 1%)\n",
            "updating: content/robo_chess-8/train/images/chessboard_mp4-0011_jpg.rf.3f3d8147fff8e44401150109cbf65ca4.jpg (deflated 1%)\n",
            "updating: content/robo_chess-8/train/images/chessboard_mp4-0012_jpg.rf.353d7b802af73393cf871b3e3dcad38f.jpg (deflated 1%)\n",
            "updating: content/robo_chess-8/train/images/20250612_170338_jpg.rf.d7d5043e14f20ba05344c959cf670a5d.jpg (deflated 0%)\n",
            "updating: content/robo_chess-8/train/images/20250612_170348_mp4-0007_jpg.rf.5e70a5920ca3fa803ce5b63dbf1e0f82.jpg (deflated 0%)\n",
            "updating: content/robo_chess-8/train/images/20250612_170348_mp4-0007_jpg.rf.1a7df731dec472ae15dededeea43c921.jpg (deflated 0%)\n",
            "updating: content/robo_chess-8/train/images/chessboard_mp4-0000_jpg.rf.d4d362d234b011e424c66133c67a91df.jpg (deflated 2%)\n",
            "updating: content/robo_chess-8/train/images/20250612_170348_mp4-0020_jpg.rf.05b14930dc0e95a469c1d620ea310757.jpg (deflated 1%)\n",
            "updating: content/robo_chess-8/train/images/20250612_170348_mp4-0022_jpg.rf.6cd810943929fdb20f2cb140cfe2473f.jpg (deflated 0%)\n",
            "updating: content/robo_chess-8/train/images/chessboard_mp4-0012_jpg.rf.fb0d8a6edddee86156746e8e206889e4.jpg (deflated 1%)\n",
            "updating: content/robo_chess-8/train/images/chessboard_mp4-0002_jpg.rf.3e44c9ad0f18ae1d4a3462a1adcb83db.jpg (deflated 1%)\n",
            "updating: content/robo_chess-8/train/images/20250612_170329_jpg.rf.a658d99b56c29e4d29e7383c22893f94.jpg (deflated 0%)\n",
            "updating: content/robo_chess-8/train/images/20250612_170338_jpg.rf.e5921f688a2f89654d6cb518cadcdbf9.jpg (deflated 0%)\n",
            "updating: content/robo_chess-8/train/images/chessboard_mp4-0014_jpg.rf.359fd108c555772a562f9fb0e8e2a972.jpg (deflated 1%)\n",
            "updating: content/robo_chess-8/train/images/20250612_170348_mp4-0008_jpg.rf.76db48c9c0bea32a7b73400425c805fd.jpg (deflated 0%)\n",
            "updating: content/robo_chess-8/train/images/20250612_170348_mp4-0007_jpg.rf.4e22a60d32cad3610e6f4e29e1f98460.jpg (deflated 0%)\n",
            "updating: content/robo_chess-8/train/images/chessboard_mp4-0011_jpg.rf.fd96e8608767b5c27505ceb933558729.jpg (deflated 1%)\n",
            "updating: content/robo_chess-8/train/images/chessboard_mp4-0011_jpg.rf.da5c2f54e9e0f95fbaf20abf77c9b772.jpg (deflated 1%)\n",
            "updating: content/robo_chess-8/train/images/chessboard_mp4-0002_jpg.rf.75fd8583ddcfbf5c064f58206c803e4c.jpg (deflated 1%)\n",
            "updating: content/robo_chess-8/train/images/20250612_170348_mp4-0025_jpg.rf.6f887893e8ea02be247df4c4f45103f9.jpg (deflated 0%)\n",
            "updating: content/robo_chess-8/train/images/20250612_170329_jpg.rf.84c0fe4cc336b7535e60cdc06935fe08.jpg (deflated 0%)\n",
            "updating: content/robo_chess-8/train/images/chessboard_mp4-0000_jpg.rf.8dda5a02bcc17d05154572b905a4fadb.jpg (deflated 2%)\n",
            "updating: content/robo_chess-8/train/images/20250612_170348_mp4-0015_jpg.rf.cc3690632d7dd80166b0dd377669a9ed.jpg (deflated 0%)\n",
            "updating: content/robo_chess-8/train/images/20250612_170318_jpg.rf.ed9dd7717e9af8c85121c026cc778fa0.jpg (deflated 0%)\n",
            "updating: content/robo_chess-8/train/images/20250612_170348_mp4-0008_jpg.rf.217a7b3956e0db5b71fbffc62c4777f0.jpg (deflated 0%)\n",
            "updating: content/robo_chess-8/train/images/20250612_170348_mp4-0021_jpg.rf.7418fbde73c469f7cacbaaf34b2e0d0e.jpg (deflated 1%)\n",
            "updating: content/robo_chess-8/train/images/chessboard_mp4-0003_jpg.rf.85ed631116adba1976357bf899471381.jpg (deflated 1%)\n",
            "updating: content/robo_chess-8/train/images/chessboard_mp4-0014_jpg.rf.981e63da985a4b24403b7d7efa65f80e.jpg (deflated 0%)\n",
            "updating: content/robo_chess-8/train/images/chessboard_mp4-0012_jpg.rf.5e01c2cdcc1ff71e6cb203ada1a4459c.jpg (deflated 1%)\n",
            "updating: content/robo_chess-8/train/images/chessboard_mp4-0013_jpg.rf.f602d32d8a1ce775164b930236e08390.jpg (deflated 1%)\n",
            "updating: content/robo_chess-8/train/images/20250612_170318_jpg.rf.4a8b97e21b68f9292d8427064d4b8ddd.jpg (deflated 0%)\n",
            "updating: content/robo_chess-8/train/images/chessboard_mp4-0013_jpg.rf.d704421407f703818ca2c0eb2e3625d6.jpg (deflated 1%)\n",
            "updating: content/robo_chess-8/train/labels/ (stored 0%)\n",
            "updating: content/robo_chess-8/train/labels/20250612_170348_mp4-0015_jpg.rf.5d30d8504bf64763f097ad35d3a0680a.txt (deflated 60%)\n",
            "updating: content/robo_chess-8/train/labels/chessboard_mp4-0003_jpg.rf.97d405517d3cfe14e3475f3b23407266.txt (deflated 59%)\n",
            "updating: content/robo_chess-8/train/labels/chessboard_mp4-0011_jpg.rf.3f3d8147fff8e44401150109cbf65ca4.txt (deflated 63%)\n",
            "updating: content/robo_chess-8/train/labels/chessboard_mp4-0007_jpg.rf.e5833a561410387529ac00aadeeddce9.txt (deflated 59%)\n",
            "updating: content/robo_chess-8/train/labels/20250612_170348_mp4-0021_jpg.rf.7418fbde73c469f7cacbaaf34b2e0d0e.txt (deflated 64%)\n",
            "updating: content/robo_chess-8/train/labels/chessboard_mp4-0013_jpg.rf.d704421407f703818ca2c0eb2e3625d6.txt (deflated 62%)\n",
            "updating: content/robo_chess-8/train/labels/chessboard_mp4-0003_jpg.rf.897cff5104d9da57d686085eacc8120d.txt (deflated 59%)\n",
            "updating: content/robo_chess-8/train/labels/chessboard_mp4-0000_jpg.rf.3811bcd1718b8cc3ec6c5dcdd9337a74.txt (deflated 63%)\n",
            "updating: content/robo_chess-8/train/labels/20250612_170348_mp4-0025_jpg.rf.6f887893e8ea02be247df4c4f45103f9.txt (deflated 60%)\n",
            "updating: content/robo_chess-8/train/labels/chessboard_mp4-0012_jpg.rf.fb0d8a6edddee86156746e8e206889e4.txt (deflated 58%)\n",
            "updating: content/robo_chess-8/train/labels/20250612_170348_mp4-0022_jpg.rf.e15afc0c4c644a6689ccdd0e7cf4e919.txt (deflated 62%)\n",
            "updating: content/robo_chess-8/train/labels/20250612_170348_mp4-0021_jpg.rf.2f0a8f6b30ea6c7d218842cf8a07ed7c.txt (deflated 58%)\n",
            "updating: content/robo_chess-8/train/labels/chessboard_mp4-0012_jpg.rf.5e01c2cdcc1ff71e6cb203ada1a4459c.txt (deflated 57%)\n",
            "updating: content/robo_chess-8/train/labels/chessboard_mp4-0000_jpg.rf.d4d362d234b011e424c66133c67a91df.txt (deflated 59%)\n",
            "updating: content/robo_chess-8/train/labels/20250612_170318_jpg.rf.4a8b97e21b68f9292d8427064d4b8ddd.txt (deflated 64%)\n",
            "updating: content/robo_chess-8/train/labels/chessboard_mp4-0014_jpg.rf.359fd108c555772a562f9fb0e8e2a972.txt (deflated 61%)\n",
            "updating: content/robo_chess-8/train/labels/chessboard_mp4-0013_jpg.rf.92ae306fdf3af4b64948d3a4f98b5b58.txt (deflated 59%)\n",
            "updating: content/robo_chess-8/train/labels/chessboard_mp4-0013_jpg.rf.f602d32d8a1ce775164b930236e08390.txt (deflated 60%)\n",
            "updating: content/robo_chess-8/train/labels/20250612_170329_jpg.rf.c6496bf0c9d7ebb13b854dd08c5b27f4.txt (deflated 60%)\n",
            "updating: content/robo_chess-8/train/labels/20250612_170348_mp4-0007_jpg.rf.1a7df731dec472ae15dededeea43c921.txt (deflated 56%)\n",
            "updating: content/robo_chess-8/train/labels/20250612_170348_mp4-0009_jpg.rf.b1c7bc74dfdc2fa195cd6e13b865e1c0.txt (deflated 61%)\n",
            "updating: content/robo_chess-8/train/labels/20250612_170348_mp4-0007_jpg.rf.4e22a60d32cad3610e6f4e29e1f98460.txt (deflated 62%)\n",
            "updating: content/robo_chess-8/train/labels/chessboard_mp4-0002_jpg.rf.75fd8583ddcfbf5c064f58206c803e4c.txt (deflated 61%)\n",
            "updating: content/robo_chess-8/train/labels/chessboard_mp4-0007_jpg.rf.61b7b98056970a7e0855b8044fd7755b.txt (deflated 56%)\n",
            "updating: content/robo_chess-8/train/labels/20250612_170348_mp4-0022_jpg.rf.7e4e39d5c1a243738ebcf6028f3d1496.txt (deflated 60%)\n",
            "updating: content/robo_chess-8/train/labels/chessboard_mp4-0011_jpg.rf.da5c2f54e9e0f95fbaf20abf77c9b772.txt (deflated 61%)\n",
            "updating: content/robo_chess-8/train/labels/20250612_170348_mp4-0020_jpg.rf.58d3fb1b631143cc9d400b58e0be46ec.txt (deflated 59%)\n",
            "updating: content/robo_chess-8/train/labels/20250612_170348_mp4-0009_jpg.rf.54260b2f59ef4ba96ecef55fa840e189.txt (deflated 62%)\n",
            "updating: content/robo_chess-8/train/labels/20250612_170348_mp4-0025_jpg.rf.5a9f7afa01eed886bc6954e190d1937f.txt (deflated 59%)\n",
            "updating: content/robo_chess-8/train/labels/chessboard_mp4-0003_jpg.rf.85ed631116adba1976357bf899471381.txt (deflated 61%)\n",
            "updating: content/robo_chess-8/train/labels/20250612_170348_mp4-0020_jpg.rf.38a944e926da070c1bfe07b3cfbfbc28.txt (deflated 61%)\n",
            "updating: content/robo_chess-8/train/labels/20250612_170348_mp4-0021_jpg.rf.18a49471cd8098a72ccebf09ddacc7cf.txt (deflated 58%)\n",
            "updating: content/robo_chess-8/train/labels/20250612_170338_jpg.rf.9400243bc58334dddc9699253c88f1a3.txt (deflated 62%)\n",
            "updating: content/robo_chess-8/train/labels/20250612_170348_mp4-0015_jpg.rf.cc3690632d7dd80166b0dd377669a9ed.txt (deflated 62%)\n",
            "updating: content/robo_chess-8/train/labels/20250612_170348_mp4-0022_jpg.rf.6cd810943929fdb20f2cb140cfe2473f.txt (deflated 60%)\n",
            "updating: content/robo_chess-8/train/labels/20250612_170318_jpg.rf.d501590bfe9ab86f57e51eb6d06a6429.txt (deflated 60%)\n",
            "updating: content/robo_chess-8/train/labels/chessboard_mp4-0012_jpg.rf.353d7b802af73393cf871b3e3dcad38f.txt (deflated 61%)\n",
            "updating: content/robo_chess-8/train/labels/20250612_170348_mp4-0015_jpg.rf.7b120cf59ef0c4b65e158fb3b47105ee.txt (deflated 61%)\n",
            "updating: content/robo_chess-8/train/labels/20250612_170329_jpg.rf.84c0fe4cc336b7535e60cdc06935fe08.txt (deflated 59%)\n",
            "updating: content/robo_chess-8/train/labels/chessboard_mp4-0014_jpg.rf.981e63da985a4b24403b7d7efa65f80e.txt (deflated 60%)\n",
            "updating: content/robo_chess-8/train/labels/chessboard_mp4-0002_jpg.rf.3e44c9ad0f18ae1d4a3462a1adcb83db.txt (deflated 61%)\n",
            "updating: content/robo_chess-8/train/labels/chessboard_mp4-0000_jpg.rf.8dda5a02bcc17d05154572b905a4fadb.txt (deflated 57%)\n",
            "updating: content/robo_chess-8/train/labels/20250612_170338_jpg.rf.d7d5043e14f20ba05344c959cf670a5d.txt (deflated 60%)\n",
            "updating: content/robo_chess-8/train/labels/chessboard_mp4-0011_jpg.rf.fd96e8608767b5c27505ceb933558729.txt (deflated 63%)\n",
            "updating: content/robo_chess-8/train/labels/chessboard_mp4-0014_jpg.rf.c3c4a6118b1d1b17b8c06cd6124743b2.txt (deflated 61%)\n",
            "updating: content/robo_chess-8/train/labels/20250612_170318_jpg.rf.ed9dd7717e9af8c85121c026cc778fa0.txt (deflated 61%)\n",
            "updating: content/robo_chess-8/train/labels/20250612_170348_mp4-0025_jpg.rf.9a07dbe6f874508d3a753df428f0e7a4.txt (deflated 60%)\n",
            "updating: content/robo_chess-8/train/labels/20250612_170348_mp4-0009_jpg.rf.c98438234c85dbf5218199c0fa4f07b7.txt (deflated 57%)\n",
            "updating: content/robo_chess-8/train/labels/20250612_170329_jpg.rf.a658d99b56c29e4d29e7383c22893f94.txt (deflated 61%)\n",
            "updating: content/robo_chess-8/train/labels/20250612_170348_mp4-0008_jpg.rf.217a7b3956e0db5b71fbffc62c4777f0.txt (deflated 61%)\n",
            "updating: content/robo_chess-8/train/labels/chessboard_mp4-0007_jpg.rf.c313811e217555978e258d941685ba2c.txt (deflated 61%)\n",
            "updating: content/robo_chess-8/train/labels/20250612_170348_mp4-0008_jpg.rf.71cde03a1610a5dfa02b0597b5d563be.txt (deflated 61%)\n",
            "updating: content/robo_chess-8/train/labels/20250612_170348_mp4-0007_jpg.rf.5e70a5920ca3fa803ce5b63dbf1e0f82.txt (deflated 59%)\n",
            "updating: content/robo_chess-8/train/labels/20250612_170338_jpg.rf.e5921f688a2f89654d6cb518cadcdbf9.txt (deflated 60%)\n",
            "updating: content/robo_chess-8/train/labels/20250612_170348_mp4-0020_jpg.rf.05b14930dc0e95a469c1d620ea310757.txt (deflated 60%)\n",
            "updating: content/robo_chess-8/train/labels/20250612_170348_mp4-0008_jpg.rf.76db48c9c0bea32a7b73400425c805fd.txt (deflated 60%)\n",
            "updating: content/robo_chess-8/train/labels/chessboard_mp4-0002_jpg.rf.a98dda0eac35db17c574aa741d7ad87a.txt (deflated 60%)\n",
            "updating: content/robo_chess-8/valid/ (stored 0%)\n",
            "updating: content/robo_chess-8/valid/labels.cache (deflated 59%)\n",
            "updating: content/robo_chess-8/valid/images/ (stored 0%)\n",
            "updating: content/robo_chess-8/valid/images/chessboard_mp4-0008_jpg.rf.02459b1345322d76ac89337ab5d2ea5d.jpg (deflated 1%)\n",
            "updating: content/robo_chess-8/valid/images/20250612_170333_jpg.rf.7a08a1244dce2df4982b37710928646d.jpg (deflated 0%)\n",
            "updating: content/robo_chess-8/valid/images/20250612_170348_mp4-0031_jpg.rf.0f4aca0b7c7b69690e6f0574ea709093.jpg (deflated 0%)\n",
            "updating: content/robo_chess-8/valid/images/20250612_170348_mp4-0016_jpg.rf.b58e26fe98c3ccc5ffcf855b3f895bd1.jpg (deflated 0%)\n",
            "updating: content/robo_chess-8/valid/images/chessboard_mp4-0015_jpg.rf.c4f61daac7933454637cc184203a9508.jpg (deflated 1%)\n",
            "updating: content/robo_chess-8/valid/images/20250612_170348_mp4-0024_jpg.rf.78107dc31994a113be73d1052457a176.jpg (deflated 0%)\n",
            "updating: content/robo_chess-8/valid/images/chessboard_mp4-0005_jpg.rf.335d9d5ce8f8f8dfd3af7afb138b340d.jpg (deflated 0%)\n",
            "updating: content/robo_chess-8/valid/labels/ (stored 0%)\n",
            "updating: content/robo_chess-8/valid/labels/chessboard_mp4-0008_jpg.rf.02459b1345322d76ac89337ab5d2ea5d.txt (deflated 60%)\n",
            "updating: content/robo_chess-8/valid/labels/20250612_170348_mp4-0016_jpg.rf.b58e26fe98c3ccc5ffcf855b3f895bd1.txt (deflated 58%)\n",
            "updating: content/robo_chess-8/valid/labels/20250612_170348_mp4-0024_jpg.rf.78107dc31994a113be73d1052457a176.txt (deflated 61%)\n",
            "updating: content/robo_chess-8/valid/labels/20250612_170333_jpg.rf.7a08a1244dce2df4982b37710928646d.txt (deflated 63%)\n",
            "updating: content/robo_chess-8/valid/labels/chessboard_mp4-0005_jpg.rf.335d9d5ce8f8f8dfd3af7afb138b340d.txt (deflated 61%)\n",
            "updating: content/robo_chess-8/valid/labels/20250612_170348_mp4-0031_jpg.rf.0f4aca0b7c7b69690e6f0574ea709093.txt (deflated 59%)\n",
            "updating: content/robo_chess-8/valid/labels/chessboard_mp4-0015_jpg.rf.c4f61daac7933454637cc184203a9508.txt (deflated 61%)\n",
            "updating: content/robo_chess-8/README.dataset.txt (deflated 14%)\n",
            "updating: content/robo_chess-8/README.roboflow.txt (deflated 52%)\n",
            "updating: content/robo_chess-8/test/ (stored 0%)\n",
            "updating: content/robo_chess-8/test/images/ (stored 0%)\n",
            "updating: content/robo_chess-8/test/images/chessboard_mp4-0006_jpg.rf.f827b1bd8025618d00fe6609009792db.jpg (deflated 0%)\n",
            "updating: content/robo_chess-8/test/images/20250612_170348_mp4-0023_jpg.rf.0808ff91ea86c82fcb131d55b4d74b67.jpg (deflated 0%)\n",
            "updating: content/robo_chess-8/test/labels/ (stored 0%)\n",
            "updating: content/robo_chess-8/test/labels/20250612_170348_mp4-0023_jpg.rf.0808ff91ea86c82fcb131d55b4d74b67.txt (deflated 59%)\n",
            "updating: content/robo_chess-8/test/labels/chessboard_mp4-0006_jpg.rf.f827b1bd8025618d00fe6609009792db.txt (deflated 59%)\n",
            "updating: content/sample_data/ (stored 0%)\n",
            "updating: content/sample_data/README.md (deflated 39%)\n",
            "updating: content/sample_data/anscombe.json (deflated 83%)\n",
            "updating: content/sample_data/california_housing_train.csv (deflated 79%)\n",
            "updating: content/sample_data/mnist_train_small.csv (deflated 88%)\n",
            "updating: content/sample_data/california_housing_test.csv (deflated 76%)\n",
            "updating: content/sample_data/mnist_test.csv (deflated 88%)\n",
            "  adding: content/.ipynb_checkpoints/ (stored 0%)\n",
            "  adding: content/yolo11n-seg.pt (deflated 11%)\n",
            "  adding: content/runs/segment/ (stored 0%)\n",
            "  adding: content/runs/segment/train/ (stored 0%)\n",
            "  adding: content/runs/segment/train/labels.jpg (deflated 20%)\n",
            "  adding: content/runs/segment/train/weights/ (stored 0%)\n",
            "  adding: content/runs/segment/train/weights/best.pt (deflated 10%)\n",
            "  adding: content/runs/segment/train/weights/last.pt (deflated 10%)\n",
            "  adding: content/runs/segment/train/MaskPR_curve.png (deflated 26%)\n",
            "  adding: content/runs/segment/train/val_batch0_pred.jpg (deflated 7%)\n",
            "  adding: content/runs/segment/train/MaskF1_curve.png (deflated 18%)\n",
            "  adding: content/runs/segment/train/MaskR_curve.png (deflated 21%)\n",
            "  adding: content/runs/segment/train/train_batch2.jpg (deflated 2%)\n",
            "  adding: content/runs/segment/train/results.csv (deflated 63%)\n",
            "  adding: content/runs/segment/train/train_batch1.jpg (deflated 2%)\n",
            "  adding: content/runs/segment/train/confusion_matrix.png (deflated 34%)\n",
            "  adding: content/runs/segment/train/results.png (deflated 7%)\n",
            "  adding: content/runs/segment/train/confusion_matrix_normalized.png (deflated 27%)\n",
            "  adding: content/runs/segment/train/train_batch362.jpg (deflated 6%)\n",
            "  adding: content/runs/segment/train/train_batch361.jpg (deflated 4%)\n",
            "  adding: content/runs/segment/train/train_batch0.jpg (deflated 2%)\n",
            "  adding: content/runs/segment/train/val_batch0_labels.jpg (deflated 7%)\n",
            "  adding: content/runs/segment/train/args.yaml (deflated 53%)\n",
            "  adding: content/runs/segment/train/MaskP_curve.png (deflated 15%)\n",
            "  adding: content/runs/segment/train/labels_correlogram.jpg (deflated 52%)\n",
            "  adding: content/runs/segment/train/train_batch360.jpg (deflated 4%)\n"
          ]
        },
        {
          "output_type": "display_data",
          "data": {
            "text/plain": [
              "<IPython.core.display.Javascript object>"
            ],
            "application/javascript": [
              "\n",
              "    async function download(id, filename, size) {\n",
              "      if (!google.colab.kernel.accessAllowed) {\n",
              "        return;\n",
              "      }\n",
              "      const div = document.createElement('div');\n",
              "      const label = document.createElement('label');\n",
              "      label.textContent = `Downloading \"${filename}\": `;\n",
              "      div.appendChild(label);\n",
              "      const progress = document.createElement('progress');\n",
              "      progress.max = size;\n",
              "      div.appendChild(progress);\n",
              "      document.body.appendChild(div);\n",
              "\n",
              "      const buffers = [];\n",
              "      let downloaded = 0;\n",
              "\n",
              "      const channel = await google.colab.kernel.comms.open(id);\n",
              "      // Send a message to notify the kernel that we're ready.\n",
              "      channel.send({})\n",
              "\n",
              "      for await (const message of channel.messages) {\n",
              "        // Send a message to notify the kernel that we're ready.\n",
              "        channel.send({})\n",
              "        if (message.buffers) {\n",
              "          for (const buffer of message.buffers) {\n",
              "            buffers.push(buffer);\n",
              "            downloaded += buffer.byteLength;\n",
              "            progress.value = downloaded;\n",
              "          }\n",
              "        }\n",
              "      }\n",
              "      const blob = new Blob(buffers, {type: 'application/binary'});\n",
              "      const a = document.createElement('a');\n",
              "      a.href = window.URL.createObjectURL(blob);\n",
              "      a.download = filename;\n",
              "      div.appendChild(a);\n",
              "      a.click();\n",
              "      div.remove();\n",
              "    }\n",
              "  "
            ]
          },
          "metadata": {}
        },
        {
          "output_type": "display_data",
          "data": {
            "text/plain": [
              "<IPython.core.display.Javascript object>"
            ],
            "application/javascript": [
              "download(\"download_d459bb1c-f5c1-42a2-84b9-91494506f9b6\", \"file.zip\", 57991756)"
            ]
          },
          "metadata": {}
        }
      ]
    },
    {
      "cell_type": "code",
      "source": [],
      "metadata": {
        "id": "8pIqclQirfs3"
      },
      "execution_count": null,
      "outputs": []
    }
  ],
  "metadata": {
    "accelerator": "GPU",
    "colab": {
      "gpuType": "T4",
      "provenance": [],
      "mount_file_id": "https://github.com/Savijapasandul/robo_chess/blob/main/chess_grid_detection_tracking.ipynb",
      "authorship_tag": "ABX9TyNnOCcKV931G+DCaEQWZVE7",
      "include_colab_link": true
    },
    "kernelspec": {
      "display_name": ".venv",
      "language": "python",
      "name": "python3"
    },
    "language_info": {
      "name": "python",
      "version": "3.12.3"
    }
  },
  "nbformat": 4,
  "nbformat_minor": 0
}