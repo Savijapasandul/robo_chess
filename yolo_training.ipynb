{
  "cells": [
    {
      "cell_type": "markdown",
      "metadata": {
        "id": "view-in-github",
        "colab_type": "text"
      },
      "source": [
        "<a href=\"https://colab.research.google.com/github/Savijapasandul/robo_chess/blob/main/yolo_training.ipynb\" target=\"_parent\"><img src=\"https://colab.research.google.com/assets/colab-badge.svg\" alt=\"Open In Colab\"/></a>"
      ]
    },
    {
      "cell_type": "code",
      "source": [
        "!pip install roboflow\n",
        "\n",
        "from roboflow import Roboflow\n",
        "rf = Roboflow(api_key=\"k3A3mnyIf2w3F2fjWMxG\")\n",
        "project = rf.workspace(\"savijas-workspace\").project(\"robochess-qgkkg\")\n",
        "version = project.version(2)\n",
        "dataset = version.download(\"yolov11\")\n",
        ""
      ],
      "metadata": {
        "id": "8pIqclQirfs3",
        "outputId": "56f21471-0f93-443b-ba91-3de711fd2fb5",
        "colab": {
          "base_uri": "https://localhost:8080/"
        }
      },
      "execution_count": 1,
      "outputs": [
        {
          "output_type": "stream",
          "name": "stdout",
          "text": [
            "Collecting roboflow\n",
            "  Downloading roboflow-1.1.66-py3-none-any.whl.metadata (9.7 kB)\n",
            "Requirement already satisfied: certifi in /usr/local/lib/python3.11/dist-packages (from roboflow) (2025.4.26)\n",
            "Collecting idna==3.7 (from roboflow)\n",
            "  Downloading idna-3.7-py3-none-any.whl.metadata (9.9 kB)\n",
            "Requirement already satisfied: cycler in /usr/local/lib/python3.11/dist-packages (from roboflow) (0.12.1)\n",
            "Requirement already satisfied: kiwisolver>=1.3.1 in /usr/local/lib/python3.11/dist-packages (from roboflow) (1.4.8)\n",
            "Requirement already satisfied: matplotlib in /usr/local/lib/python3.11/dist-packages (from roboflow) (3.10.0)\n",
            "Requirement already satisfied: numpy>=1.18.5 in /usr/local/lib/python3.11/dist-packages (from roboflow) (2.0.2)\n",
            "Collecting opencv-python-headless==4.10.0.84 (from roboflow)\n",
            "  Downloading opencv_python_headless-4.10.0.84-cp37-abi3-manylinux_2_17_x86_64.manylinux2014_x86_64.whl.metadata (20 kB)\n",
            "Requirement already satisfied: Pillow>=7.1.2 in /usr/local/lib/python3.11/dist-packages (from roboflow) (11.2.1)\n",
            "Collecting pillow-heif>=0.18.0 (from roboflow)\n",
            "  Downloading pillow_heif-0.22.0-cp311-cp311-manylinux_2_17_x86_64.manylinux2014_x86_64.whl.metadata (9.6 kB)\n",
            "Requirement already satisfied: python-dateutil in /usr/local/lib/python3.11/dist-packages (from roboflow) (2.9.0.post0)\n",
            "Collecting python-dotenv (from roboflow)\n",
            "  Downloading python_dotenv-1.1.0-py3-none-any.whl.metadata (24 kB)\n",
            "Requirement already satisfied: requests in /usr/local/lib/python3.11/dist-packages (from roboflow) (2.32.3)\n",
            "Requirement already satisfied: six in /usr/local/lib/python3.11/dist-packages (from roboflow) (1.17.0)\n",
            "Requirement already satisfied: urllib3>=1.26.6 in /usr/local/lib/python3.11/dist-packages (from roboflow) (2.4.0)\n",
            "Requirement already satisfied: tqdm>=4.41.0 in /usr/local/lib/python3.11/dist-packages (from roboflow) (4.67.1)\n",
            "Requirement already satisfied: PyYAML>=5.3.1 in /usr/local/lib/python3.11/dist-packages (from roboflow) (6.0.2)\n",
            "Requirement already satisfied: requests-toolbelt in /usr/local/lib/python3.11/dist-packages (from roboflow) (1.0.0)\n",
            "Collecting filetype (from roboflow)\n",
            "  Downloading filetype-1.2.0-py2.py3-none-any.whl.metadata (6.5 kB)\n",
            "Requirement already satisfied: contourpy>=1.0.1 in /usr/local/lib/python3.11/dist-packages (from matplotlib->roboflow) (1.3.2)\n",
            "Requirement already satisfied: fonttools>=4.22.0 in /usr/local/lib/python3.11/dist-packages (from matplotlib->roboflow) (4.58.2)\n",
            "Requirement already satisfied: packaging>=20.0 in /usr/local/lib/python3.11/dist-packages (from matplotlib->roboflow) (24.2)\n",
            "Requirement already satisfied: pyparsing>=2.3.1 in /usr/local/lib/python3.11/dist-packages (from matplotlib->roboflow) (3.2.3)\n",
            "Requirement already satisfied: charset-normalizer<4,>=2 in /usr/local/lib/python3.11/dist-packages (from requests->roboflow) (3.4.2)\n",
            "Downloading roboflow-1.1.66-py3-none-any.whl (86 kB)\n",
            "\u001b[2K   \u001b[90m━━━━━━━━━━━━━━━━━━━━━━━━━━━━━━━━━━━━━━━━\u001b[0m \u001b[32m86.7/86.7 kB\u001b[0m \u001b[31m952.8 kB/s\u001b[0m eta \u001b[36m0:00:00\u001b[0m\n",
            "\u001b[?25hDownloading idna-3.7-py3-none-any.whl (66 kB)\n",
            "\u001b[2K   \u001b[90m━━━━━━━━━━━━━━━━━━━━━━━━━━━━━━━━━━━━━━━━\u001b[0m \u001b[32m66.8/66.8 kB\u001b[0m \u001b[31m4.8 MB/s\u001b[0m eta \u001b[36m0:00:00\u001b[0m\n",
            "\u001b[?25hDownloading opencv_python_headless-4.10.0.84-cp37-abi3-manylinux_2_17_x86_64.manylinux2014_x86_64.whl (49.9 MB)\n",
            "\u001b[2K   \u001b[90m━━━━━━━━━━━━━━━━━━━━━━━━━━━━━━━━━━━━━━━━\u001b[0m \u001b[32m49.9/49.9 MB\u001b[0m \u001b[31m11.0 MB/s\u001b[0m eta \u001b[36m0:00:00\u001b[0m\n",
            "\u001b[?25hDownloading pillow_heif-0.22.0-cp311-cp311-manylinux_2_17_x86_64.manylinux2014_x86_64.whl (7.8 MB)\n",
            "\u001b[2K   \u001b[90m━━━━━━━━━━━━━━━━━━━━━━━━━━━━━━━━━━━━━━━━\u001b[0m \u001b[32m7.8/7.8 MB\u001b[0m \u001b[31m71.4 MB/s\u001b[0m eta \u001b[36m0:00:00\u001b[0m\n",
            "\u001b[?25hDownloading filetype-1.2.0-py2.py3-none-any.whl (19 kB)\n",
            "Downloading python_dotenv-1.1.0-py3-none-any.whl (20 kB)\n",
            "Installing collected packages: filetype, python-dotenv, pillow-heif, opencv-python-headless, idna, roboflow\n",
            "  Attempting uninstall: opencv-python-headless\n",
            "    Found existing installation: opencv-python-headless 4.11.0.86\n",
            "    Uninstalling opencv-python-headless-4.11.0.86:\n",
            "      Successfully uninstalled opencv-python-headless-4.11.0.86\n",
            "  Attempting uninstall: idna\n",
            "    Found existing installation: idna 3.10\n",
            "    Uninstalling idna-3.10:\n",
            "      Successfully uninstalled idna-3.10\n",
            "Successfully installed filetype-1.2.0 idna-3.7 opencv-python-headless-4.10.0.84 pillow-heif-0.22.0 python-dotenv-1.1.0 roboflow-1.1.66\n",
            "loading Roboflow workspace...\n",
            "loading Roboflow project...\n"
          ]
        },
        {
          "output_type": "stream",
          "name": "stderr",
          "text": [
            "Downloading Dataset Version Zip in robochess-2 to yolov11:: 100%|██████████| 19270/19270 [00:00<00:00, 38485.88it/s]"
          ]
        },
        {
          "output_type": "stream",
          "name": "stdout",
          "text": [
            "\n"
          ]
        },
        {
          "output_type": "stream",
          "name": "stderr",
          "text": [
            "\n",
            "Extracting Dataset Version Zip to robochess-2 in yolov11:: 100%|██████████| 424/424 [00:00<00:00, 5909.57it/s]\n"
          ]
        }
      ]
    },
    {
      "cell_type": "code",
      "source": [
        "!pip install ultralytics\n",
        "from ultralytics import YOLO\n",
        "\n",
        "model = YOLO('yolo11n.pt')\n",
        "results = model.train(data='robochess-2/data.yaml', epochs=100, imgsz=640, task='detect')\n",
        "\n",
        "model = YOLO('yolo11n-seg.pt')\n",
        "results = model.train(data='robochess-2/data.yaml', epochs=100, imgsz=640, task='segment')\n",
        "\n",
        "!zip -r /content/file.zip /content\n",
        "from google.colab import files\n",
        "files.download(\"/content/file.zip\")"
      ],
      "metadata": {
        "id": "je7_eoRi6n7t",
        "outputId": "e9024859-5845-481f-fbf5-f7093119196e",
        "colab": {
          "base_uri": "https://localhost:8080/",
          "height": 1000
        }
      },
      "execution_count": 3,
      "outputs": [
        {
          "output_type": "stream",
          "name": "stdout",
          "text": [
            "Collecting ultralytics\n",
            "  Using cached ultralytics-8.3.156-py3-none-any.whl.metadata (37 kB)\n",
            "Requirement already satisfied: numpy>=1.23.0 in /usr/local/lib/python3.11/dist-packages (from ultralytics) (2.0.2)\n",
            "Requirement already satisfied: matplotlib>=3.3.0 in /usr/local/lib/python3.11/dist-packages (from ultralytics) (3.10.0)\n",
            "Requirement already satisfied: opencv-python>=4.6.0 in /usr/local/lib/python3.11/dist-packages (from ultralytics) (4.11.0.86)\n",
            "Requirement already satisfied: pillow>=7.1.2 in /usr/local/lib/python3.11/dist-packages (from ultralytics) (11.2.1)\n",
            "Requirement already satisfied: pyyaml>=5.3.1 in /usr/local/lib/python3.11/dist-packages (from ultralytics) (6.0.2)\n",
            "Requirement already satisfied: requests>=2.23.0 in /usr/local/lib/python3.11/dist-packages (from ultralytics) (2.32.3)\n",
            "Requirement already satisfied: scipy>=1.4.1 in /usr/local/lib/python3.11/dist-packages (from ultralytics) (1.15.3)\n",
            "Requirement already satisfied: torch>=1.8.0 in /usr/local/lib/python3.11/dist-packages (from ultralytics) (2.6.0+cu124)\n",
            "Requirement already satisfied: torchvision>=0.9.0 in /usr/local/lib/python3.11/dist-packages (from ultralytics) (0.21.0+cu124)\n",
            "Requirement already satisfied: tqdm>=4.64.0 in /usr/local/lib/python3.11/dist-packages (from ultralytics) (4.67.1)\n",
            "Requirement already satisfied: psutil in /usr/local/lib/python3.11/dist-packages (from ultralytics) (5.9.5)\n",
            "Requirement already satisfied: py-cpuinfo in /usr/local/lib/python3.11/dist-packages (from ultralytics) (9.0.0)\n",
            "Requirement already satisfied: pandas>=1.1.4 in /usr/local/lib/python3.11/dist-packages (from ultralytics) (2.2.2)\n",
            "Collecting ultralytics-thop>=2.0.0 (from ultralytics)\n",
            "  Using cached ultralytics_thop-2.0.14-py3-none-any.whl.metadata (9.4 kB)\n",
            "Requirement already satisfied: contourpy>=1.0.1 in /usr/local/lib/python3.11/dist-packages (from matplotlib>=3.3.0->ultralytics) (1.3.2)\n",
            "Requirement already satisfied: cycler>=0.10 in /usr/local/lib/python3.11/dist-packages (from matplotlib>=3.3.0->ultralytics) (0.12.1)\n",
            "Requirement already satisfied: fonttools>=4.22.0 in /usr/local/lib/python3.11/dist-packages (from matplotlib>=3.3.0->ultralytics) (4.58.2)\n",
            "Requirement already satisfied: kiwisolver>=1.3.1 in /usr/local/lib/python3.11/dist-packages (from matplotlib>=3.3.0->ultralytics) (1.4.8)\n",
            "Requirement already satisfied: packaging>=20.0 in /usr/local/lib/python3.11/dist-packages (from matplotlib>=3.3.0->ultralytics) (24.2)\n",
            "Requirement already satisfied: pyparsing>=2.3.1 in /usr/local/lib/python3.11/dist-packages (from matplotlib>=3.3.0->ultralytics) (3.2.3)\n",
            "Requirement already satisfied: python-dateutil>=2.7 in /usr/local/lib/python3.11/dist-packages (from matplotlib>=3.3.0->ultralytics) (2.9.0.post0)\n",
            "Requirement already satisfied: pytz>=2020.1 in /usr/local/lib/python3.11/dist-packages (from pandas>=1.1.4->ultralytics) (2025.2)\n",
            "Requirement already satisfied: tzdata>=2022.7 in /usr/local/lib/python3.11/dist-packages (from pandas>=1.1.4->ultralytics) (2025.2)\n",
            "Requirement already satisfied: charset-normalizer<4,>=2 in /usr/local/lib/python3.11/dist-packages (from requests>=2.23.0->ultralytics) (3.4.2)\n",
            "Requirement already satisfied: idna<4,>=2.5 in /usr/local/lib/python3.11/dist-packages (from requests>=2.23.0->ultralytics) (3.7)\n",
            "Requirement already satisfied: urllib3<3,>=1.21.1 in /usr/local/lib/python3.11/dist-packages (from requests>=2.23.0->ultralytics) (2.4.0)\n",
            "Requirement already satisfied: certifi>=2017.4.17 in /usr/local/lib/python3.11/dist-packages (from requests>=2.23.0->ultralytics) (2025.4.26)\n",
            "Requirement already satisfied: filelock in /usr/local/lib/python3.11/dist-packages (from torch>=1.8.0->ultralytics) (3.18.0)\n",
            "Requirement already satisfied: typing-extensions>=4.10.0 in /usr/local/lib/python3.11/dist-packages (from torch>=1.8.0->ultralytics) (4.14.0)\n",
            "Requirement already satisfied: networkx in /usr/local/lib/python3.11/dist-packages (from torch>=1.8.0->ultralytics) (3.5)\n",
            "Requirement already satisfied: jinja2 in /usr/local/lib/python3.11/dist-packages (from torch>=1.8.0->ultralytics) (3.1.6)\n",
            "Requirement already satisfied: fsspec in /usr/local/lib/python3.11/dist-packages (from torch>=1.8.0->ultralytics) (2025.3.2)\n",
            "Collecting nvidia-cuda-nvrtc-cu12==12.4.127 (from torch>=1.8.0->ultralytics)\n",
            "  Using cached nvidia_cuda_nvrtc_cu12-12.4.127-py3-none-manylinux2014_x86_64.whl.metadata (1.5 kB)\n",
            "Collecting nvidia-cuda-runtime-cu12==12.4.127 (from torch>=1.8.0->ultralytics)\n",
            "  Using cached nvidia_cuda_runtime_cu12-12.4.127-py3-none-manylinux2014_x86_64.whl.metadata (1.5 kB)\n",
            "Collecting nvidia-cuda-cupti-cu12==12.4.127 (from torch>=1.8.0->ultralytics)\n",
            "  Using cached nvidia_cuda_cupti_cu12-12.4.127-py3-none-manylinux2014_x86_64.whl.metadata (1.6 kB)\n",
            "Collecting nvidia-cudnn-cu12==9.1.0.70 (from torch>=1.8.0->ultralytics)\n",
            "  Using cached nvidia_cudnn_cu12-9.1.0.70-py3-none-manylinux2014_x86_64.whl.metadata (1.6 kB)\n",
            "Collecting nvidia-cublas-cu12==12.4.5.8 (from torch>=1.8.0->ultralytics)\n",
            "  Using cached nvidia_cublas_cu12-12.4.5.8-py3-none-manylinux2014_x86_64.whl.metadata (1.5 kB)\n",
            "Collecting nvidia-cufft-cu12==11.2.1.3 (from torch>=1.8.0->ultralytics)\n",
            "  Using cached nvidia_cufft_cu12-11.2.1.3-py3-none-manylinux2014_x86_64.whl.metadata (1.5 kB)\n",
            "Collecting nvidia-curand-cu12==10.3.5.147 (from torch>=1.8.0->ultralytics)\n",
            "  Using cached nvidia_curand_cu12-10.3.5.147-py3-none-manylinux2014_x86_64.whl.metadata (1.5 kB)\n",
            "Collecting nvidia-cusolver-cu12==11.6.1.9 (from torch>=1.8.0->ultralytics)\n",
            "  Using cached nvidia_cusolver_cu12-11.6.1.9-py3-none-manylinux2014_x86_64.whl.metadata (1.6 kB)\n",
            "Collecting nvidia-cusparse-cu12==12.3.1.170 (from torch>=1.8.0->ultralytics)\n",
            "  Using cached nvidia_cusparse_cu12-12.3.1.170-py3-none-manylinux2014_x86_64.whl.metadata (1.6 kB)\n",
            "Requirement already satisfied: nvidia-cusparselt-cu12==0.6.2 in /usr/local/lib/python3.11/dist-packages (from torch>=1.8.0->ultralytics) (0.6.2)\n",
            "Requirement already satisfied: nvidia-nccl-cu12==2.21.5 in /usr/local/lib/python3.11/dist-packages (from torch>=1.8.0->ultralytics) (2.21.5)\n",
            "Requirement already satisfied: nvidia-nvtx-cu12==12.4.127 in /usr/local/lib/python3.11/dist-packages (from torch>=1.8.0->ultralytics) (12.4.127)\n",
            "Collecting nvidia-nvjitlink-cu12==12.4.127 (from torch>=1.8.0->ultralytics)\n",
            "  Using cached nvidia_nvjitlink_cu12-12.4.127-py3-none-manylinux2014_x86_64.whl.metadata (1.5 kB)\n",
            "Requirement already satisfied: triton==3.2.0 in /usr/local/lib/python3.11/dist-packages (from torch>=1.8.0->ultralytics) (3.2.0)\n",
            "Requirement already satisfied: sympy==1.13.1 in /usr/local/lib/python3.11/dist-packages (from torch>=1.8.0->ultralytics) (1.13.1)\n",
            "Requirement already satisfied: mpmath<1.4,>=1.1.0 in /usr/local/lib/python3.11/dist-packages (from sympy==1.13.1->torch>=1.8.0->ultralytics) (1.3.0)\n",
            "Requirement already satisfied: six>=1.5 in /usr/local/lib/python3.11/dist-packages (from python-dateutil>=2.7->matplotlib>=3.3.0->ultralytics) (1.17.0)\n",
            "Requirement already satisfied: MarkupSafe>=2.0 in /usr/local/lib/python3.11/dist-packages (from jinja2->torch>=1.8.0->ultralytics) (3.0.2)\n",
            "Using cached ultralytics-8.3.156-py3-none-any.whl (1.0 MB)\n",
            "Downloading nvidia_cublas_cu12-12.4.5.8-py3-none-manylinux2014_x86_64.whl (363.4 MB)\n",
            "\u001b[2K   \u001b[90m━━━━━━━━━━━━━━━━━━━━━━━━━━━━━━━━━━━━━━━━\u001b[0m \u001b[32m363.4/363.4 MB\u001b[0m \u001b[31m3.9 MB/s\u001b[0m eta \u001b[36m0:00:00\u001b[0m\n",
            "\u001b[?25hDownloading nvidia_cuda_cupti_cu12-12.4.127-py3-none-manylinux2014_x86_64.whl (13.8 MB)\n",
            "\u001b[2K   \u001b[90m━━━━━━━━━━━━━━━━━━━━━━━━━━━━━━━━━━━━━━━━\u001b[0m \u001b[32m13.8/13.8 MB\u001b[0m \u001b[31m123.6 MB/s\u001b[0m eta \u001b[36m0:00:00\u001b[0m\n",
            "\u001b[?25hDownloading nvidia_cuda_nvrtc_cu12-12.4.127-py3-none-manylinux2014_x86_64.whl (24.6 MB)\n",
            "\u001b[2K   \u001b[90m━━━━━━━━━━━━━━━━━━━━━━━━━━━━━━━━━━━━━━━━\u001b[0m \u001b[32m24.6/24.6 MB\u001b[0m \u001b[31m96.0 MB/s\u001b[0m eta \u001b[36m0:00:00\u001b[0m\n",
            "\u001b[?25hDownloading nvidia_cuda_runtime_cu12-12.4.127-py3-none-manylinux2014_x86_64.whl (883 kB)\n",
            "\u001b[2K   \u001b[90m━━━━━━━━━━━━━━━━━━━━━━━━━━━━━━━━━━━━━━━━\u001b[0m \u001b[32m883.7/883.7 kB\u001b[0m \u001b[31m67.2 MB/s\u001b[0m eta \u001b[36m0:00:00\u001b[0m\n",
            "\u001b[?25hDownloading nvidia_cudnn_cu12-9.1.0.70-py3-none-manylinux2014_x86_64.whl (664.8 MB)\n",
            "\u001b[2K   \u001b[90m━━━━━━━━━━━━━━━━━━━━━━━━━━━━━━━━━━━━━━━━\u001b[0m \u001b[32m664.8/664.8 MB\u001b[0m \u001b[31m1.4 MB/s\u001b[0m eta \u001b[36m0:00:00\u001b[0m\n",
            "\u001b[?25hDownloading nvidia_cufft_cu12-11.2.1.3-py3-none-manylinux2014_x86_64.whl (211.5 MB)\n",
            "\u001b[2K   \u001b[90m━━━━━━━━━━━━━━━━━━━━━━━━━━━━━━━━━━━━━━━━\u001b[0m \u001b[32m211.5/211.5 MB\u001b[0m \u001b[31m5.4 MB/s\u001b[0m eta \u001b[36m0:00:00\u001b[0m\n",
            "\u001b[?25hDownloading nvidia_curand_cu12-10.3.5.147-py3-none-manylinux2014_x86_64.whl (56.3 MB)\n",
            "\u001b[2K   \u001b[90m━━━━━━━━━━━━━━━━━━━━━━━━━━━━━━━━━━━━━━━━\u001b[0m \u001b[32m56.3/56.3 MB\u001b[0m \u001b[31m12.6 MB/s\u001b[0m eta \u001b[36m0:00:00\u001b[0m\n",
            "\u001b[?25hDownloading nvidia_cusolver_cu12-11.6.1.9-py3-none-manylinux2014_x86_64.whl (127.9 MB)\n",
            "\u001b[2K   \u001b[90m━━━━━━━━━━━━━━━━━━━━━━━━━━━━━━━━━━━━━━━━\u001b[0m \u001b[32m127.9/127.9 MB\u001b[0m \u001b[31m7.3 MB/s\u001b[0m eta \u001b[36m0:00:00\u001b[0m\n",
            "\u001b[?25hDownloading nvidia_cusparse_cu12-12.3.1.170-py3-none-manylinux2014_x86_64.whl (207.5 MB)\n",
            "\u001b[2K   \u001b[90m━━━━━━━━━━━━━━━━━━━━━━━━━━━━━━━━━━━━━━━━\u001b[0m \u001b[32m207.5/207.5 MB\u001b[0m \u001b[31m5.6 MB/s\u001b[0m eta \u001b[36m0:00:00\u001b[0m\n",
            "\u001b[?25hDownloading nvidia_nvjitlink_cu12-12.4.127-py3-none-manylinux2014_x86_64.whl (21.1 MB)\n",
            "\u001b[2K   \u001b[90m━━━━━━━━━━━━━━━━━━━━━━━━━━━━━━━━━━━━━━━━\u001b[0m \u001b[32m21.1/21.1 MB\u001b[0m \u001b[31m104.8 MB/s\u001b[0m eta \u001b[36m0:00:00\u001b[0m\n",
            "\u001b[?25hDownloading ultralytics_thop-2.0.14-py3-none-any.whl (26 kB)\n",
            "Installing collected packages: nvidia-nvjitlink-cu12, nvidia-curand-cu12, nvidia-cufft-cu12, nvidia-cuda-runtime-cu12, nvidia-cuda-nvrtc-cu12, nvidia-cuda-cupti-cu12, nvidia-cublas-cu12, nvidia-cusparse-cu12, nvidia-cudnn-cu12, nvidia-cusolver-cu12, ultralytics-thop, ultralytics\n",
            "  Attempting uninstall: nvidia-nvjitlink-cu12\n",
            "    Found existing installation: nvidia-nvjitlink-cu12 12.5.82\n",
            "    Uninstalling nvidia-nvjitlink-cu12-12.5.82:\n",
            "      Successfully uninstalled nvidia-nvjitlink-cu12-12.5.82\n",
            "  Attempting uninstall: nvidia-curand-cu12\n",
            "    Found existing installation: nvidia-curand-cu12 10.3.6.82\n",
            "    Uninstalling nvidia-curand-cu12-10.3.6.82:\n",
            "      Successfully uninstalled nvidia-curand-cu12-10.3.6.82\n",
            "  Attempting uninstall: nvidia-cufft-cu12\n",
            "    Found existing installation: nvidia-cufft-cu12 11.2.3.61\n",
            "    Uninstalling nvidia-cufft-cu12-11.2.3.61:\n",
            "      Successfully uninstalled nvidia-cufft-cu12-11.2.3.61\n",
            "  Attempting uninstall: nvidia-cuda-runtime-cu12\n",
            "    Found existing installation: nvidia-cuda-runtime-cu12 12.5.82\n",
            "    Uninstalling nvidia-cuda-runtime-cu12-12.5.82:\n",
            "      Successfully uninstalled nvidia-cuda-runtime-cu12-12.5.82\n",
            "  Attempting uninstall: nvidia-cuda-nvrtc-cu12\n",
            "    Found existing installation: nvidia-cuda-nvrtc-cu12 12.5.82\n",
            "    Uninstalling nvidia-cuda-nvrtc-cu12-12.5.82:\n",
            "      Successfully uninstalled nvidia-cuda-nvrtc-cu12-12.5.82\n",
            "  Attempting uninstall: nvidia-cuda-cupti-cu12\n",
            "    Found existing installation: nvidia-cuda-cupti-cu12 12.5.82\n",
            "    Uninstalling nvidia-cuda-cupti-cu12-12.5.82:\n",
            "      Successfully uninstalled nvidia-cuda-cupti-cu12-12.5.82\n",
            "  Attempting uninstall: nvidia-cublas-cu12\n",
            "    Found existing installation: nvidia-cublas-cu12 12.5.3.2\n",
            "    Uninstalling nvidia-cublas-cu12-12.5.3.2:\n",
            "      Successfully uninstalled nvidia-cublas-cu12-12.5.3.2\n",
            "  Attempting uninstall: nvidia-cusparse-cu12\n",
            "    Found existing installation: nvidia-cusparse-cu12 12.5.1.3\n",
            "    Uninstalling nvidia-cusparse-cu12-12.5.1.3:\n",
            "      Successfully uninstalled nvidia-cusparse-cu12-12.5.1.3\n",
            "  Attempting uninstall: nvidia-cudnn-cu12\n",
            "    Found existing installation: nvidia-cudnn-cu12 9.3.0.75\n",
            "    Uninstalling nvidia-cudnn-cu12-9.3.0.75:\n",
            "      Successfully uninstalled nvidia-cudnn-cu12-9.3.0.75\n",
            "  Attempting uninstall: nvidia-cusolver-cu12\n",
            "    Found existing installation: nvidia-cusolver-cu12 11.6.3.83\n",
            "    Uninstalling nvidia-cusolver-cu12-11.6.3.83:\n",
            "      Successfully uninstalled nvidia-cusolver-cu12-11.6.3.83\n",
            "Successfully installed nvidia-cublas-cu12-12.4.5.8 nvidia-cuda-cupti-cu12-12.4.127 nvidia-cuda-nvrtc-cu12-12.4.127 nvidia-cuda-runtime-cu12-12.4.127 nvidia-cudnn-cu12-9.1.0.70 nvidia-cufft-cu12-11.2.1.3 nvidia-curand-cu12-10.3.5.147 nvidia-cusolver-cu12-11.6.1.9 nvidia-cusparse-cu12-12.3.1.170 nvidia-nvjitlink-cu12-12.4.127 ultralytics-8.3.156 ultralytics-thop-2.0.14\n",
            "Creating new Ultralytics Settings v0.0.6 file ✅ \n",
            "View Ultralytics Settings with 'yolo settings' or at '/root/.config/Ultralytics/settings.json'\n",
            "Update Settings with 'yolo settings key=value', i.e. 'yolo settings runs_dir=path/to/dir'. For help see https://docs.ultralytics.com/quickstart/#ultralytics-settings.\n",
            "Downloading https://github.com/ultralytics/assets/releases/download/v8.3.0/yolo11n.pt to 'yolo11n.pt'...\n"
          ]
        },
        {
          "output_type": "stream",
          "name": "stderr",
          "text": [
            "100%|██████████| 5.35M/5.35M [00:00<00:00, 99.4MB/s]\n"
          ]
        },
        {
          "output_type": "stream",
          "name": "stdout",
          "text": [
            "Ultralytics 8.3.156 🚀 Python-3.11.13 torch-2.6.0+cu124 CUDA:0 (Tesla T4, 15095MiB)\n",
            "\u001b[34m\u001b[1mengine/trainer: \u001b[0magnostic_nms=False, amp=True, augment=False, auto_augment=randaugment, batch=16, bgr=0.0, box=7.5, cache=False, cfg=None, classes=None, close_mosaic=10, cls=0.5, conf=None, copy_paste=0.0, copy_paste_mode=flip, cos_lr=False, cutmix=0.0, data=robochess-2/data.yaml, degrees=0.0, deterministic=True, device=None, dfl=1.5, dnn=False, dropout=0.0, dynamic=False, embed=None, epochs=100, erasing=0.4, exist_ok=False, fliplr=0.5, flipud=0.0, format=torchscript, fraction=1.0, freeze=None, half=False, hsv_h=0.015, hsv_s=0.7, hsv_v=0.4, imgsz=640, int8=False, iou=0.7, keras=False, kobj=1.0, line_width=None, lr0=0.01, lrf=0.01, mask_ratio=4, max_det=300, mixup=0.0, mode=train, model=yolo11n.pt, momentum=0.937, mosaic=1.0, multi_scale=False, name=train, nbs=64, nms=False, opset=None, optimize=False, optimizer=auto, overlap_mask=True, patience=100, perspective=0.0, plots=True, pose=12.0, pretrained=True, profile=False, project=None, rect=False, resume=False, retina_masks=False, save=True, save_conf=False, save_crop=False, save_dir=runs/detect/train, save_frames=False, save_json=False, save_period=-1, save_txt=False, scale=0.5, seed=0, shear=0.0, show=False, show_boxes=True, show_conf=True, show_labels=True, simplify=True, single_cls=False, source=None, split=val, stream_buffer=False, task=detect, time=None, tracker=botsort.yaml, translate=0.1, val=True, verbose=True, vid_stride=1, visualize=False, warmup_bias_lr=0.1, warmup_epochs=3.0, warmup_momentum=0.8, weight_decay=0.0005, workers=8, workspace=None\n",
            "Downloading https://ultralytics.com/assets/Arial.ttf to '/root/.config/Ultralytics/Arial.ttf'...\n"
          ]
        },
        {
          "output_type": "stream",
          "name": "stderr",
          "text": [
            "100%|██████████| 755k/755k [00:00<00:00, 24.3MB/s]"
          ]
        },
        {
          "output_type": "stream",
          "name": "stdout",
          "text": [
            "Overriding model.yaml nc=80 with nc=1\n",
            "\n",
            "                   from  n    params  module                                       arguments                     \n",
            "  0                  -1  1       464  ultralytics.nn.modules.conv.Conv             [3, 16, 3, 2]                 \n",
            "  1                  -1  1      4672  ultralytics.nn.modules.conv.Conv             [16, 32, 3, 2]                \n",
            "  2                  -1  1      6640  ultralytics.nn.modules.block.C3k2            [32, 64, 1, False, 0.25]      \n",
            "  3                  -1  1     36992  ultralytics.nn.modules.conv.Conv             [64, 64, 3, 2]                \n",
            "  4                  -1  1     26080  ultralytics.nn.modules.block.C3k2            [64, 128, 1, False, 0.25]     \n",
            "  5                  -1  1    147712  ultralytics.nn.modules.conv.Conv             [128, 128, 3, 2]              \n",
            "  6                  -1  1     87040  ultralytics.nn.modules.block.C3k2            [128, 128, 1, True]           \n",
            "  7                  -1  1    295424  ultralytics.nn.modules.conv.Conv             [128, 256, 3, 2]              \n",
            "  8                  -1  1    346112  ultralytics.nn.modules.block.C3k2            [256, 256, 1, True]           \n",
            "  9                  -1  1    164608  ultralytics.nn.modules.block.SPPF            [256, 256, 5]                 \n",
            " 10                  -1  1    249728  ultralytics.nn.modules.block.C2PSA           [256, 256, 1]                 \n",
            " 11                  -1  1         0  torch.nn.modules.upsampling.Upsample         [None, 2, 'nearest']          \n"
          ]
        },
        {
          "output_type": "stream",
          "name": "stderr",
          "text": [
            "\n"
          ]
        },
        {
          "output_type": "stream",
          "name": "stdout",
          "text": [
            " 12             [-1, 6]  1         0  ultralytics.nn.modules.conv.Concat           [1]                           \n",
            " 13                  -1  1    111296  ultralytics.nn.modules.block.C3k2            [384, 128, 1, False]          \n",
            " 14                  -1  1         0  torch.nn.modules.upsampling.Upsample         [None, 2, 'nearest']          \n",
            " 15             [-1, 4]  1         0  ultralytics.nn.modules.conv.Concat           [1]                           \n",
            " 16                  -1  1     32096  ultralytics.nn.modules.block.C3k2            [256, 64, 1, False]           \n",
            " 17                  -1  1     36992  ultralytics.nn.modules.conv.Conv             [64, 64, 3, 2]                \n",
            " 18            [-1, 13]  1         0  ultralytics.nn.modules.conv.Concat           [1]                           \n",
            " 19                  -1  1     86720  ultralytics.nn.modules.block.C3k2            [192, 128, 1, False]          \n",
            " 20                  -1  1    147712  ultralytics.nn.modules.conv.Conv             [128, 128, 3, 2]              \n",
            " 21            [-1, 10]  1         0  ultralytics.nn.modules.conv.Concat           [1]                           \n",
            " 22                  -1  1    378880  ultralytics.nn.modules.block.C3k2            [384, 256, 1, True]           \n",
            " 23        [16, 19, 22]  1    430867  ultralytics.nn.modules.head.Detect           [1, [64, 128, 256]]           \n",
            "YOLO11n summary: 181 layers, 2,590,035 parameters, 2,590,019 gradients, 6.4 GFLOPs\n",
            "\n",
            "Transferred 448/499 items from pretrained weights\n",
            "Freezing layer 'model.23.dfl.conv.weight'\n",
            "\u001b[34m\u001b[1mAMP: \u001b[0mrunning Automatic Mixed Precision (AMP) checks...\n",
            "\u001b[34m\u001b[1mAMP: \u001b[0mchecks passed ✅\n",
            "\u001b[34m\u001b[1mtrain: \u001b[0mFast image access ✅ (ping: 0.0±0.0 ms, read: 172.3±308.7 MB/s, size: 79.1 KB)\n"
          ]
        },
        {
          "output_type": "stream",
          "name": "stderr",
          "text": [
            "\u001b[34m\u001b[1mtrain: \u001b[0mScanning /content/robochess-2/train/labels... 180 images, 0 backgrounds, 0 corrupt: 100%|██████████| 180/180 [00:00<00:00, 568.05it/s]"
          ]
        },
        {
          "output_type": "stream",
          "name": "stdout",
          "text": [
            "\u001b[34m\u001b[1mtrain: \u001b[0mNew cache created: /content/robochess-2/train/labels.cache\n"
          ]
        },
        {
          "output_type": "stream",
          "name": "stderr",
          "text": [
            "\n"
          ]
        },
        {
          "output_type": "stream",
          "name": "stdout",
          "text": [
            "\u001b[34m\u001b[1malbumentations: \u001b[0mBlur(p=0.01, blur_limit=(3, 7)), MedianBlur(p=0.01, blur_limit=(3, 7)), ToGray(p=0.01, method='weighted_average', num_output_channels=3), CLAHE(p=0.01, clip_limit=(1.0, 4.0), tile_grid_size=(8, 8))\n",
            "\u001b[34m\u001b[1mval: \u001b[0mFast image access ✅ (ping: 0.0±0.0 ms, read: 52.8±62.5 MB/s, size: 101.8 KB)\n"
          ]
        },
        {
          "output_type": "stream",
          "name": "stderr",
          "text": [
            "\u001b[34m\u001b[1mval: \u001b[0mScanning /content/robochess-2/valid/labels... 17 images, 0 backgrounds, 0 corrupt: 100%|██████████| 17/17 [00:00<00:00, 380.99it/s]"
          ]
        },
        {
          "output_type": "stream",
          "name": "stdout",
          "text": [
            "\u001b[34m\u001b[1mval: \u001b[0mNew cache created: /content/robochess-2/valid/labels.cache\n"
          ]
        },
        {
          "output_type": "stream",
          "name": "stderr",
          "text": [
            "\n"
          ]
        },
        {
          "output_type": "stream",
          "name": "stdout",
          "text": [
            "Plotting labels to runs/detect/train/labels.jpg... \n",
            "\u001b[34m\u001b[1moptimizer:\u001b[0m 'optimizer=auto' found, ignoring 'lr0=0.01' and 'momentum=0.937' and determining best 'optimizer', 'lr0' and 'momentum' automatically... \n",
            "\u001b[34m\u001b[1moptimizer:\u001b[0m AdamW(lr=0.002, momentum=0.9) with parameter groups 81 weight(decay=0.0), 88 weight(decay=0.0005), 87 bias(decay=0.0)\n",
            "Image sizes 640 train, 640 val\n",
            "Using 2 dataloader workers\n",
            "Logging results to \u001b[1mruns/detect/train\u001b[0m\n",
            "Starting training for 100 epochs...\n",
            "\n",
            "      Epoch    GPU_mem   box_loss   cls_loss   dfl_loss  Instances       Size\n"
          ]
        },
        {
          "output_type": "stream",
          "name": "stderr",
          "text": [
            "      1/100      2.31G      1.821      3.049      2.176          8        640: 100%|██████████| 12/12 [00:06<00:00,  1.88it/s]\n",
            "                 Class     Images  Instances      Box(P          R      mAP50  mAP50-95): 100%|██████████| 1/1 [00:01<00:00,  1.30s/it]"
          ]
        },
        {
          "output_type": "stream",
          "name": "stdout",
          "text": [
            "                   all         17         17    0.00333          1       0.69      0.392\n"
          ]
        },
        {
          "output_type": "stream",
          "name": "stderr",
          "text": [
            "\n"
          ]
        },
        {
          "output_type": "stream",
          "name": "stdout",
          "text": [
            "\n",
            "      Epoch    GPU_mem   box_loss   cls_loss   dfl_loss  Instances       Size\n"
          ]
        },
        {
          "output_type": "stream",
          "name": "stderr",
          "text": [
            "      2/100      2.32G     0.8931      2.125      1.252         10        640: 100%|██████████| 12/12 [00:03<00:00,  3.93it/s]\n",
            "                 Class     Images  Instances      Box(P          R      mAP50  mAP50-95): 100%|██████████| 1/1 [00:00<00:00,  3.96it/s]"
          ]
        },
        {
          "output_type": "stream",
          "name": "stdout",
          "text": [
            "                   all         17         17    0.00333          1      0.961      0.774\n"
          ]
        },
        {
          "output_type": "stream",
          "name": "stderr",
          "text": [
            "\n"
          ]
        },
        {
          "output_type": "stream",
          "name": "stdout",
          "text": [
            "\n",
            "      Epoch    GPU_mem   box_loss   cls_loss   dfl_loss  Instances       Size\n"
          ]
        },
        {
          "output_type": "stream",
          "name": "stderr",
          "text": [
            "      3/100      2.34G     0.7254      1.426      1.118         11        640: 100%|██████████| 12/12 [00:03<00:00,  3.93it/s]\n",
            "                 Class     Images  Instances      Box(P          R      mAP50  mAP50-95): 100%|██████████| 1/1 [00:00<00:00,  4.91it/s]"
          ]
        },
        {
          "output_type": "stream",
          "name": "stdout",
          "text": [
            "                   all         17         17      0.315          1      0.995      0.692\n"
          ]
        },
        {
          "output_type": "stream",
          "name": "stderr",
          "text": [
            "\n"
          ]
        },
        {
          "output_type": "stream",
          "name": "stdout",
          "text": [
            "\n",
            "      Epoch    GPU_mem   box_loss   cls_loss   dfl_loss  Instances       Size\n"
          ]
        },
        {
          "output_type": "stream",
          "name": "stderr",
          "text": [
            "      4/100      2.36G     0.6723      1.131       1.07          9        640: 100%|██████████| 12/12 [00:04<00:00,  2.97it/s]\n",
            "                 Class     Images  Instances      Box(P          R      mAP50  mAP50-95): 100%|██████████| 1/1 [00:00<00:00,  3.91it/s]"
          ]
        },
        {
          "output_type": "stream",
          "name": "stdout",
          "text": [
            "                   all         17         17          1      0.844      0.966      0.803\n"
          ]
        },
        {
          "output_type": "stream",
          "name": "stderr",
          "text": [
            "\n"
          ]
        },
        {
          "output_type": "stream",
          "name": "stdout",
          "text": [
            "\n",
            "      Epoch    GPU_mem   box_loss   cls_loss   dfl_loss  Instances       Size\n"
          ]
        },
        {
          "output_type": "stream",
          "name": "stderr",
          "text": [
            "      5/100      2.38G     0.6978      1.059      1.084         10        640: 100%|██████████| 12/12 [00:02<00:00,  4.03it/s]\n",
            "                 Class     Images  Instances      Box(P          R      mAP50  mAP50-95): 100%|██████████| 1/1 [00:00<00:00,  4.77it/s]"
          ]
        },
        {
          "output_type": "stream",
          "name": "stdout",
          "text": [
            "                   all         17         17          1      0.623      0.977      0.804\n"
          ]
        },
        {
          "output_type": "stream",
          "name": "stderr",
          "text": [
            "\n"
          ]
        },
        {
          "output_type": "stream",
          "name": "stdout",
          "text": [
            "\n",
            "      Epoch    GPU_mem   box_loss   cls_loss   dfl_loss  Instances       Size\n"
          ]
        },
        {
          "output_type": "stream",
          "name": "stderr",
          "text": [
            "      6/100      2.39G     0.6621     0.9667      1.048         12        640: 100%|██████████| 12/12 [00:03<00:00,  3.94it/s]\n",
            "                 Class     Images  Instances      Box(P          R      mAP50  mAP50-95): 100%|██████████| 1/1 [00:00<00:00,  4.35it/s]"
          ]
        },
        {
          "output_type": "stream",
          "name": "stdout",
          "text": [
            "                   all         17         17      0.803      0.882      0.943      0.775\n"
          ]
        },
        {
          "output_type": "stream",
          "name": "stderr",
          "text": [
            "\n"
          ]
        },
        {
          "output_type": "stream",
          "name": "stdout",
          "text": [
            "\n",
            "      Epoch    GPU_mem   box_loss   cls_loss   dfl_loss  Instances       Size\n"
          ]
        },
        {
          "output_type": "stream",
          "name": "stderr",
          "text": [
            "      7/100      2.41G     0.6265     0.9073      1.047         14        640: 100%|██████████| 12/12 [00:03<00:00,  3.44it/s]\n",
            "                 Class     Images  Instances      Box(P          R      mAP50  mAP50-95): 100%|██████████| 1/1 [00:00<00:00,  2.16it/s]"
          ]
        },
        {
          "output_type": "stream",
          "name": "stdout",
          "text": [
            "                   all         17         17      0.889      0.941       0.98      0.692\n"
          ]
        },
        {
          "output_type": "stream",
          "name": "stderr",
          "text": [
            "\n"
          ]
        },
        {
          "output_type": "stream",
          "name": "stdout",
          "text": [
            "\n",
            "      Epoch    GPU_mem   box_loss   cls_loss   dfl_loss  Instances       Size\n"
          ]
        },
        {
          "output_type": "stream",
          "name": "stderr",
          "text": [
            "      8/100      2.42G     0.6389     0.9278      1.049         14        640: 100%|██████████| 12/12 [00:02<00:00,  4.04it/s]\n",
            "                 Class     Images  Instances      Box(P          R      mAP50  mAP50-95): 100%|██████████| 1/1 [00:00<00:00,  6.59it/s]\n"
          ]
        },
        {
          "output_type": "stream",
          "name": "stdout",
          "text": [
            "                   all         17         17      0.979          1      0.995      0.807\n",
            "\n",
            "      Epoch    GPU_mem   box_loss   cls_loss   dfl_loss  Instances       Size\n"
          ]
        },
        {
          "output_type": "stream",
          "name": "stderr",
          "text": [
            "      9/100      2.43G     0.6873     0.8895      1.077          7        640: 100%|██████████| 12/12 [00:02<00:00,  4.04it/s]\n",
            "                 Class     Images  Instances      Box(P          R      mAP50  mAP50-95): 100%|██████████| 1/1 [00:00<00:00,  3.80it/s]"
          ]
        },
        {
          "output_type": "stream",
          "name": "stdout",
          "text": [
            "                   all         17         17      0.925          1      0.989      0.755\n"
          ]
        },
        {
          "output_type": "stream",
          "name": "stderr",
          "text": [
            "\n"
          ]
        },
        {
          "output_type": "stream",
          "name": "stdout",
          "text": [
            "\n",
            "      Epoch    GPU_mem   box_loss   cls_loss   dfl_loss  Instances       Size\n"
          ]
        },
        {
          "output_type": "stream",
          "name": "stderr",
          "text": [
            "     10/100      2.45G     0.6245     0.7836      1.038         11        640: 100%|██████████| 12/12 [00:02<00:00,  4.27it/s]\n",
            "                 Class     Images  Instances      Box(P          R      mAP50  mAP50-95): 100%|██████████| 1/1 [00:00<00:00,  2.52it/s]"
          ]
        },
        {
          "output_type": "stream",
          "name": "stdout",
          "text": [
            "                   all         17         17      0.939          1      0.956      0.828\n"
          ]
        },
        {
          "output_type": "stream",
          "name": "stderr",
          "text": [
            "\n"
          ]
        },
        {
          "output_type": "stream",
          "name": "stdout",
          "text": [
            "\n",
            "      Epoch    GPU_mem   box_loss   cls_loss   dfl_loss  Instances       Size\n"
          ]
        },
        {
          "output_type": "stream",
          "name": "stderr",
          "text": [
            "     11/100      2.46G     0.6336     0.7582      1.047          8        640: 100%|██████████| 12/12 [00:03<00:00,  3.29it/s]\n",
            "                 Class     Images  Instances      Box(P          R      mAP50  mAP50-95): 100%|██████████| 1/1 [00:00<00:00,  4.94it/s]"
          ]
        },
        {
          "output_type": "stream",
          "name": "stdout",
          "text": [
            "                   all         17         17      0.941      0.936      0.969      0.731\n"
          ]
        },
        {
          "output_type": "stream",
          "name": "stderr",
          "text": [
            "\n"
          ]
        },
        {
          "output_type": "stream",
          "name": "stdout",
          "text": [
            "\n",
            "      Epoch    GPU_mem   box_loss   cls_loss   dfl_loss  Instances       Size\n"
          ]
        },
        {
          "output_type": "stream",
          "name": "stderr",
          "text": [
            "     12/100      2.48G     0.5959     0.7207      1.015          7        640: 100%|██████████| 12/12 [00:03<00:00,  3.99it/s]\n",
            "                 Class     Images  Instances      Box(P          R      mAP50  mAP50-95): 100%|██████████| 1/1 [00:00<00:00,  4.78it/s]"
          ]
        },
        {
          "output_type": "stream",
          "name": "stdout",
          "text": [
            "                   all         17         17      0.972      0.882      0.947      0.744\n"
          ]
        },
        {
          "output_type": "stream",
          "name": "stderr",
          "text": [
            "\n"
          ]
        },
        {
          "output_type": "stream",
          "name": "stdout",
          "text": [
            "\n",
            "      Epoch    GPU_mem   box_loss   cls_loss   dfl_loss  Instances       Size\n"
          ]
        },
        {
          "output_type": "stream",
          "name": "stderr",
          "text": [
            "     13/100      2.49G     0.6082     0.6885      1.038         11        640: 100%|██████████| 12/12 [00:02<00:00,  4.04it/s]\n",
            "                 Class     Images  Instances      Box(P          R      mAP50  mAP50-95): 100%|██████████| 1/1 [00:00<00:00,  5.01it/s]"
          ]
        },
        {
          "output_type": "stream",
          "name": "stdout",
          "text": [
            "                   all         17         17      0.933          1      0.989      0.795\n"
          ]
        },
        {
          "output_type": "stream",
          "name": "stderr",
          "text": [
            "\n"
          ]
        },
        {
          "output_type": "stream",
          "name": "stdout",
          "text": [
            "\n",
            "      Epoch    GPU_mem   box_loss   cls_loss   dfl_loss  Instances       Size\n"
          ]
        },
        {
          "output_type": "stream",
          "name": "stderr",
          "text": [
            "     14/100      2.51G     0.5885     0.6449      1.005         10        640: 100%|██████████| 12/12 [00:03<00:00,  3.15it/s]\n",
            "                 Class     Images  Instances      Box(P          R      mAP50  mAP50-95): 100%|██████████| 1/1 [00:00<00:00,  3.95it/s]"
          ]
        },
        {
          "output_type": "stream",
          "name": "stdout",
          "text": [
            "                   all         17         17      0.922          1      0.986      0.862\n"
          ]
        },
        {
          "output_type": "stream",
          "name": "stderr",
          "text": [
            "\n"
          ]
        },
        {
          "output_type": "stream",
          "name": "stdout",
          "text": [
            "\n",
            "      Epoch    GPU_mem   box_loss   cls_loss   dfl_loss  Instances       Size\n"
          ]
        },
        {
          "output_type": "stream",
          "name": "stderr",
          "text": [
            "     15/100      2.53G     0.6121     0.6345      1.045         10        640: 100%|██████████| 12/12 [00:03<00:00,  3.94it/s]\n",
            "                 Class     Images  Instances      Box(P          R      mAP50  mAP50-95): 100%|██████████| 1/1 [00:00<00:00,  6.69it/s]\n"
          ]
        },
        {
          "output_type": "stream",
          "name": "stdout",
          "text": [
            "                   all         17         17          1      0.877      0.986      0.754\n",
            "\n",
            "      Epoch    GPU_mem   box_loss   cls_loss   dfl_loss  Instances       Size\n"
          ]
        },
        {
          "output_type": "stream",
          "name": "stderr",
          "text": [
            "     16/100      2.54G     0.6025      0.632      1.041         11        640: 100%|██████████| 12/12 [00:02<00:00,  4.18it/s]\n",
            "                 Class     Images  Instances      Box(P          R      mAP50  mAP50-95): 100%|██████████| 1/1 [00:00<00:00,  4.46it/s]"
          ]
        },
        {
          "output_type": "stream",
          "name": "stdout",
          "text": [
            "                   all         17         17      0.996          1      0.995      0.852\n"
          ]
        },
        {
          "output_type": "stream",
          "name": "stderr",
          "text": [
            "\n"
          ]
        },
        {
          "output_type": "stream",
          "name": "stdout",
          "text": [
            "\n",
            "      Epoch    GPU_mem   box_loss   cls_loss   dfl_loss  Instances       Size\n"
          ]
        },
        {
          "output_type": "stream",
          "name": "stderr",
          "text": [
            "     17/100      2.55G      0.584     0.6045      1.018          9        640: 100%|██████████| 12/12 [00:03<00:00,  3.64it/s]\n",
            "                 Class     Images  Instances      Box(P          R      mAP50  mAP50-95): 100%|██████████| 1/1 [00:00<00:00,  2.93it/s]"
          ]
        },
        {
          "output_type": "stream",
          "name": "stdout",
          "text": [
            "                   all         17         17      0.993          1      0.995      0.869\n"
          ]
        },
        {
          "output_type": "stream",
          "name": "stderr",
          "text": [
            "\n"
          ]
        },
        {
          "output_type": "stream",
          "name": "stdout",
          "text": [
            "\n",
            "      Epoch    GPU_mem   box_loss   cls_loss   dfl_loss  Instances       Size\n"
          ]
        },
        {
          "output_type": "stream",
          "name": "stderr",
          "text": [
            "     18/100      2.57G     0.5741     0.5989      1.012          6        640: 100%|██████████| 12/12 [00:03<00:00,  3.77it/s]\n",
            "                 Class     Images  Instances      Box(P          R      mAP50  mAP50-95): 100%|██████████| 1/1 [00:00<00:00,  4.66it/s]"
          ]
        },
        {
          "output_type": "stream",
          "name": "stdout",
          "text": [
            "                   all         17         17      0.996          1      0.995      0.899\n"
          ]
        },
        {
          "output_type": "stream",
          "name": "stderr",
          "text": [
            "\n"
          ]
        },
        {
          "output_type": "stream",
          "name": "stdout",
          "text": [
            "\n",
            "      Epoch    GPU_mem   box_loss   cls_loss   dfl_loss  Instances       Size\n"
          ]
        },
        {
          "output_type": "stream",
          "name": "stderr",
          "text": [
            "     19/100      2.58G     0.5443     0.5381      1.005         12        640: 100%|██████████| 12/12 [00:02<00:00,  4.20it/s]\n",
            "                 Class     Images  Instances      Box(P          R      mAP50  mAP50-95): 100%|██████████| 1/1 [00:00<00:00,  3.54it/s]"
          ]
        },
        {
          "output_type": "stream",
          "name": "stdout",
          "text": [
            "                   all         17         17      0.996          1      0.995       0.91\n"
          ]
        },
        {
          "output_type": "stream",
          "name": "stderr",
          "text": [
            "\n"
          ]
        },
        {
          "output_type": "stream",
          "name": "stdout",
          "text": [
            "\n",
            "      Epoch    GPU_mem   box_loss   cls_loss   dfl_loss  Instances       Size\n"
          ]
        },
        {
          "output_type": "stream",
          "name": "stderr",
          "text": [
            "     20/100       2.6G     0.5265     0.5111     0.9818         11        640: 100%|██████████| 12/12 [00:02<00:00,  4.20it/s]\n",
            "                 Class     Images  Instances      Box(P          R      mAP50  mAP50-95): 100%|██████████| 1/1 [00:00<00:00,  4.03it/s]"
          ]
        },
        {
          "output_type": "stream",
          "name": "stdout",
          "text": [
            "                   all         17         17      0.995          1      0.995      0.887\n"
          ]
        },
        {
          "output_type": "stream",
          "name": "stderr",
          "text": [
            "\n"
          ]
        },
        {
          "output_type": "stream",
          "name": "stdout",
          "text": [
            "\n",
            "      Epoch    GPU_mem   box_loss   cls_loss   dfl_loss  Instances       Size\n"
          ]
        },
        {
          "output_type": "stream",
          "name": "stderr",
          "text": [
            "     21/100      2.61G     0.5344     0.5578          1          5        640: 100%|██████████| 12/12 [00:03<00:00,  3.06it/s]\n",
            "                 Class     Images  Instances      Box(P          R      mAP50  mAP50-95): 100%|██████████| 1/1 [00:00<00:00,  3.48it/s]"
          ]
        },
        {
          "output_type": "stream",
          "name": "stdout",
          "text": [
            "                   all         17         17      0.996          1      0.995      0.967\n"
          ]
        },
        {
          "output_type": "stream",
          "name": "stderr",
          "text": [
            "\n"
          ]
        },
        {
          "output_type": "stream",
          "name": "stdout",
          "text": [
            "\n",
            "      Epoch    GPU_mem   box_loss   cls_loss   dfl_loss  Instances       Size\n"
          ]
        },
        {
          "output_type": "stream",
          "name": "stderr",
          "text": [
            "     22/100      2.63G     0.4888     0.5056     0.9755         10        640: 100%|██████████| 12/12 [00:02<00:00,  4.01it/s]\n",
            "                 Class     Images  Instances      Box(P          R      mAP50  mAP50-95): 100%|██████████| 1/1 [00:00<00:00,  6.05it/s]\n"
          ]
        },
        {
          "output_type": "stream",
          "name": "stdout",
          "text": [
            "                   all         17         17      0.996          1      0.995      0.929\n",
            "\n",
            "      Epoch    GPU_mem   box_loss   cls_loss   dfl_loss  Instances       Size\n"
          ]
        },
        {
          "output_type": "stream",
          "name": "stderr",
          "text": [
            "     23/100      2.64G     0.5222     0.4955      1.003          9        640: 100%|██████████| 12/12 [00:03<00:00,  3.93it/s]\n",
            "                 Class     Images  Instances      Box(P          R      mAP50  mAP50-95): 100%|██████████| 1/1 [00:00<00:00,  4.69it/s]"
          ]
        },
        {
          "output_type": "stream",
          "name": "stdout",
          "text": [
            "                   all         17         17      0.996          1      0.995      0.921\n"
          ]
        },
        {
          "output_type": "stream",
          "name": "stderr",
          "text": [
            "\n"
          ]
        },
        {
          "output_type": "stream",
          "name": "stdout",
          "text": [
            "\n",
            "      Epoch    GPU_mem   box_loss   cls_loss   dfl_loss  Instances       Size\n"
          ]
        },
        {
          "output_type": "stream",
          "name": "stderr",
          "text": [
            "     24/100      2.66G     0.4758     0.4557     0.9694         10        640: 100%|██████████| 12/12 [00:03<00:00,  3.22it/s]\n",
            "                 Class     Images  Instances      Box(P          R      mAP50  mAP50-95): 100%|██████████| 1/1 [00:00<00:00,  2.43it/s]"
          ]
        },
        {
          "output_type": "stream",
          "name": "stdout",
          "text": [
            "                   all         17         17      0.955          1      0.995      0.933\n"
          ]
        },
        {
          "output_type": "stream",
          "name": "stderr",
          "text": [
            "\n"
          ]
        },
        {
          "output_type": "stream",
          "name": "stdout",
          "text": [
            "\n",
            "      Epoch    GPU_mem   box_loss   cls_loss   dfl_loss  Instances       Size\n"
          ]
        },
        {
          "output_type": "stream",
          "name": "stderr",
          "text": [
            "     25/100      2.67G      0.485     0.4622     0.9565         12        640: 100%|██████████| 12/12 [00:02<00:00,  4.23it/s]\n",
            "                 Class     Images  Instances      Box(P          R      mAP50  mAP50-95): 100%|██████████| 1/1 [00:00<00:00,  4.06it/s]"
          ]
        },
        {
          "output_type": "stream",
          "name": "stdout",
          "text": [
            "                   all         17         17      0.976          1      0.995      0.944\n"
          ]
        },
        {
          "output_type": "stream",
          "name": "stderr",
          "text": [
            "\n"
          ]
        },
        {
          "output_type": "stream",
          "name": "stdout",
          "text": [
            "\n",
            "      Epoch    GPU_mem   box_loss   cls_loss   dfl_loss  Instances       Size\n"
          ]
        },
        {
          "output_type": "stream",
          "name": "stderr",
          "text": [
            "     26/100      2.69G     0.5236     0.4811      0.981          8        640: 100%|██████████| 12/12 [00:02<00:00,  4.01it/s]\n",
            "                 Class     Images  Instances      Box(P          R      mAP50  mAP50-95): 100%|██████████| 1/1 [00:00<00:00,  6.20it/s]"
          ]
        },
        {
          "output_type": "stream",
          "name": "stdout",
          "text": [
            "                   all         17         17      0.991          1      0.995      0.942\n"
          ]
        },
        {
          "output_type": "stream",
          "name": "stderr",
          "text": [
            "\n"
          ]
        },
        {
          "output_type": "stream",
          "name": "stdout",
          "text": [
            "\n",
            "      Epoch    GPU_mem   box_loss   cls_loss   dfl_loss  Instances       Size\n"
          ]
        },
        {
          "output_type": "stream",
          "name": "stderr",
          "text": [
            "     27/100       2.7G     0.4996     0.4491     0.9782          9        640: 100%|██████████| 12/12 [00:03<00:00,  3.83it/s]\n",
            "                 Class     Images  Instances      Box(P          R      mAP50  mAP50-95): 100%|██████████| 1/1 [00:00<00:00,  2.87it/s]"
          ]
        },
        {
          "output_type": "stream",
          "name": "stdout",
          "text": [
            "                   all         17         17      0.986      0.941      0.992      0.917\n"
          ]
        },
        {
          "output_type": "stream",
          "name": "stderr",
          "text": [
            "\n"
          ]
        },
        {
          "output_type": "stream",
          "name": "stdout",
          "text": [
            "\n",
            "      Epoch    GPU_mem   box_loss   cls_loss   dfl_loss  Instances       Size\n"
          ]
        },
        {
          "output_type": "stream",
          "name": "stderr",
          "text": [
            "     28/100      2.72G     0.4825      0.437     0.9546         10        640: 100%|██████████| 12/12 [00:03<00:00,  3.49it/s]\n",
            "                 Class     Images  Instances      Box(P          R      mAP50  mAP50-95): 100%|██████████| 1/1 [00:00<00:00,  4.56it/s]"
          ]
        },
        {
          "output_type": "stream",
          "name": "stdout",
          "text": [
            "                   all         17         17      0.996          1      0.995      0.927\n"
          ]
        },
        {
          "output_type": "stream",
          "name": "stderr",
          "text": [
            "\n"
          ]
        },
        {
          "output_type": "stream",
          "name": "stdout",
          "text": [
            "\n",
            "      Epoch    GPU_mem   box_loss   cls_loss   dfl_loss  Instances       Size\n"
          ]
        },
        {
          "output_type": "stream",
          "name": "stderr",
          "text": [
            "     29/100      2.73G      0.494     0.4409     0.9778          8        640: 100%|██████████| 12/12 [00:02<00:00,  4.08it/s]\n",
            "                 Class     Images  Instances      Box(P          R      mAP50  mAP50-95): 100%|██████████| 1/1 [00:00<00:00,  4.79it/s]"
          ]
        },
        {
          "output_type": "stream",
          "name": "stdout",
          "text": [
            "                   all         17         17      0.996          1      0.995      0.926\n"
          ]
        },
        {
          "output_type": "stream",
          "name": "stderr",
          "text": [
            "\n"
          ]
        },
        {
          "output_type": "stream",
          "name": "stdout",
          "text": [
            "\n",
            "      Epoch    GPU_mem   box_loss   cls_loss   dfl_loss  Instances       Size\n"
          ]
        },
        {
          "output_type": "stream",
          "name": "stderr",
          "text": [
            "     30/100      2.75G     0.5065     0.4132     0.9768          7        640: 100%|██████████| 12/12 [00:02<00:00,  4.14it/s]\n",
            "                 Class     Images  Instances      Box(P          R      mAP50  mAP50-95): 100%|██████████| 1/1 [00:00<00:00,  4.88it/s]"
          ]
        },
        {
          "output_type": "stream",
          "name": "stdout",
          "text": [
            "                   all         17         17      0.997          1      0.995      0.972\n"
          ]
        },
        {
          "output_type": "stream",
          "name": "stderr",
          "text": [
            "\n"
          ]
        },
        {
          "output_type": "stream",
          "name": "stdout",
          "text": [
            "\n",
            "      Epoch    GPU_mem   box_loss   cls_loss   dfl_loss  Instances       Size\n"
          ]
        },
        {
          "output_type": "stream",
          "name": "stderr",
          "text": [
            "     31/100      2.76G     0.4385     0.3998      0.953         10        640: 100%|██████████| 12/12 [00:04<00:00,  2.94it/s]\n",
            "                 Class     Images  Instances      Box(P          R      mAP50  mAP50-95): 100%|██████████| 1/1 [00:00<00:00,  5.39it/s]"
          ]
        },
        {
          "output_type": "stream",
          "name": "stdout",
          "text": [
            "                   all         17         17      0.997          1      0.995      0.955\n"
          ]
        },
        {
          "output_type": "stream",
          "name": "stderr",
          "text": [
            "\n"
          ]
        },
        {
          "output_type": "stream",
          "name": "stdout",
          "text": [
            "\n",
            "      Epoch    GPU_mem   box_loss   cls_loss   dfl_loss  Instances       Size\n"
          ]
        },
        {
          "output_type": "stream",
          "name": "stderr",
          "text": [
            "     32/100      2.78G     0.4472     0.3957     0.9619          7        640: 100%|██████████| 12/12 [00:03<00:00,  3.95it/s]\n",
            "                 Class     Images  Instances      Box(P          R      mAP50  mAP50-95): 100%|██████████| 1/1 [00:00<00:00,  4.98it/s]"
          ]
        },
        {
          "output_type": "stream",
          "name": "stdout",
          "text": [
            "                   all         17         17      0.996          1      0.995      0.932\n"
          ]
        },
        {
          "output_type": "stream",
          "name": "stderr",
          "text": [
            "\n"
          ]
        },
        {
          "output_type": "stream",
          "name": "stdout",
          "text": [
            "\n",
            "      Epoch    GPU_mem   box_loss   cls_loss   dfl_loss  Instances       Size\n"
          ]
        },
        {
          "output_type": "stream",
          "name": "stderr",
          "text": [
            "     33/100      2.79G     0.4136     0.3731     0.9425         10        640: 100%|██████████| 12/12 [00:03<00:00,  3.95it/s]\n",
            "                 Class     Images  Instances      Box(P          R      mAP50  mAP50-95): 100%|██████████| 1/1 [00:00<00:00,  6.39it/s]"
          ]
        },
        {
          "output_type": "stream",
          "name": "stdout",
          "text": [
            "                   all         17         17      0.995          1      0.995      0.959\n"
          ]
        },
        {
          "output_type": "stream",
          "name": "stderr",
          "text": [
            "\n"
          ]
        },
        {
          "output_type": "stream",
          "name": "stdout",
          "text": [
            "\n",
            "      Epoch    GPU_mem   box_loss   cls_loss   dfl_loss  Instances       Size\n"
          ]
        },
        {
          "output_type": "stream",
          "name": "stderr",
          "text": [
            "     34/100       2.8G     0.4362     0.3834     0.9377          7        640: 100%|██████████| 12/12 [00:03<00:00,  3.90it/s]\n",
            "                 Class     Images  Instances      Box(P          R      mAP50  mAP50-95): 100%|██████████| 1/1 [00:00<00:00,  2.11it/s]"
          ]
        },
        {
          "output_type": "stream",
          "name": "stdout",
          "text": [
            "                   all         17         17      0.995          1      0.995      0.957\n"
          ]
        },
        {
          "output_type": "stream",
          "name": "stderr",
          "text": [
            "\n"
          ]
        },
        {
          "output_type": "stream",
          "name": "stdout",
          "text": [
            "\n",
            "      Epoch    GPU_mem   box_loss   cls_loss   dfl_loss  Instances       Size\n"
          ]
        },
        {
          "output_type": "stream",
          "name": "stderr",
          "text": [
            "     35/100      2.82G     0.4319     0.3626     0.9502          5        640: 100%|██████████| 12/12 [00:03<00:00,  3.97it/s]\n",
            "                 Class     Images  Instances      Box(P          R      mAP50  mAP50-95): 100%|██████████| 1/1 [00:00<00:00,  4.35it/s]"
          ]
        },
        {
          "output_type": "stream",
          "name": "stdout",
          "text": [
            "                   all         17         17      0.997          1      0.995      0.969\n"
          ]
        },
        {
          "output_type": "stream",
          "name": "stderr",
          "text": [
            "\n"
          ]
        },
        {
          "output_type": "stream",
          "name": "stdout",
          "text": [
            "\n",
            "      Epoch    GPU_mem   box_loss   cls_loss   dfl_loss  Instances       Size\n"
          ]
        },
        {
          "output_type": "stream",
          "name": "stderr",
          "text": [
            "     36/100      2.84G     0.4438     0.3839     0.9415         10        640: 100%|██████████| 12/12 [00:03<00:00,  3.97it/s]\n",
            "                 Class     Images  Instances      Box(P          R      mAP50  mAP50-95): 100%|██████████| 1/1 [00:00<00:00,  4.21it/s]"
          ]
        },
        {
          "output_type": "stream",
          "name": "stdout",
          "text": [
            "                   all         17         17      0.996          1      0.995      0.979\n"
          ]
        },
        {
          "output_type": "stream",
          "name": "stderr",
          "text": [
            "\n"
          ]
        },
        {
          "output_type": "stream",
          "name": "stdout",
          "text": [
            "\n",
            "      Epoch    GPU_mem   box_loss   cls_loss   dfl_loss  Instances       Size\n"
          ]
        },
        {
          "output_type": "stream",
          "name": "stderr",
          "text": [
            "     37/100      2.85G     0.4374     0.3814     0.9425         12        640: 100%|██████████| 12/12 [00:03<00:00,  3.98it/s]\n",
            "                 Class     Images  Instances      Box(P          R      mAP50  mAP50-95): 100%|██████████| 1/1 [00:00<00:00,  2.89it/s]"
          ]
        },
        {
          "output_type": "stream",
          "name": "stdout",
          "text": [
            "                   all         17         17      0.996          1      0.995      0.984\n"
          ]
        },
        {
          "output_type": "stream",
          "name": "stderr",
          "text": [
            "\n"
          ]
        },
        {
          "output_type": "stream",
          "name": "stdout",
          "text": [
            "\n",
            "      Epoch    GPU_mem   box_loss   cls_loss   dfl_loss  Instances       Size\n"
          ]
        },
        {
          "output_type": "stream",
          "name": "stderr",
          "text": [
            "     38/100      2.86G     0.4034     0.3516     0.9357          5        640: 100%|██████████| 12/12 [00:03<00:00,  3.29it/s]\n",
            "                 Class     Images  Instances      Box(P          R      mAP50  mAP50-95): 100%|██████████| 1/1 [00:00<00:00,  3.63it/s]"
          ]
        },
        {
          "output_type": "stream",
          "name": "stdout",
          "text": [
            "                   all         17         17      0.997          1      0.995       0.97\n"
          ]
        },
        {
          "output_type": "stream",
          "name": "stderr",
          "text": [
            "\n"
          ]
        },
        {
          "output_type": "stream",
          "name": "stdout",
          "text": [
            "\n",
            "      Epoch    GPU_mem   box_loss   cls_loss   dfl_loss  Instances       Size\n"
          ]
        },
        {
          "output_type": "stream",
          "name": "stderr",
          "text": [
            "     39/100      2.88G     0.4074     0.3517      0.934         12        640: 100%|██████████| 12/12 [00:02<00:00,  4.04it/s]\n",
            "                 Class     Images  Instances      Box(P          R      mAP50  mAP50-95): 100%|██████████| 1/1 [00:00<00:00,  5.21it/s]\n"
          ]
        },
        {
          "output_type": "stream",
          "name": "stdout",
          "text": [
            "                   all         17         17      0.997          1      0.995      0.946\n",
            "\n",
            "      Epoch    GPU_mem   box_loss   cls_loss   dfl_loss  Instances       Size\n"
          ]
        },
        {
          "output_type": "stream",
          "name": "stderr",
          "text": [
            "     40/100      2.89G     0.4072     0.3485     0.9491          9        640: 100%|██████████| 12/12 [00:03<00:00,  3.96it/s]\n",
            "                 Class     Images  Instances      Box(P          R      mAP50  mAP50-95): 100%|██████████| 1/1 [00:00<00:00,  4.52it/s]"
          ]
        },
        {
          "output_type": "stream",
          "name": "stdout",
          "text": [
            "                   all         17         17      0.997          1      0.995      0.967\n"
          ]
        },
        {
          "output_type": "stream",
          "name": "stderr",
          "text": [
            "\n"
          ]
        },
        {
          "output_type": "stream",
          "name": "stdout",
          "text": [
            "\n",
            "      Epoch    GPU_mem   box_loss   cls_loss   dfl_loss  Instances       Size\n"
          ]
        },
        {
          "output_type": "stream",
          "name": "stderr",
          "text": [
            "     41/100      2.91G     0.4024     0.3515     0.9223         11        640: 100%|██████████| 12/12 [00:04<00:00,  2.99it/s]\n",
            "                 Class     Images  Instances      Box(P          R      mAP50  mAP50-95): 100%|██████████| 1/1 [00:00<00:00,  3.57it/s]"
          ]
        },
        {
          "output_type": "stream",
          "name": "stdout",
          "text": [
            "                   all         17         17      0.997          1      0.995      0.962\n"
          ]
        },
        {
          "output_type": "stream",
          "name": "stderr",
          "text": [
            "\n"
          ]
        },
        {
          "output_type": "stream",
          "name": "stdout",
          "text": [
            "\n",
            "      Epoch    GPU_mem   box_loss   cls_loss   dfl_loss  Instances       Size\n"
          ]
        },
        {
          "output_type": "stream",
          "name": "stderr",
          "text": [
            "     42/100      2.92G     0.4134      0.361     0.9464         11        640: 100%|██████████| 12/12 [00:02<00:00,  4.01it/s]\n",
            "                 Class     Images  Instances      Box(P          R      mAP50  mAP50-95): 100%|██████████| 1/1 [00:00<00:00,  5.13it/s]\n"
          ]
        },
        {
          "output_type": "stream",
          "name": "stdout",
          "text": [
            "                   all         17         17      0.997          1      0.995      0.938\n",
            "\n",
            "      Epoch    GPU_mem   box_loss   cls_loss   dfl_loss  Instances       Size\n"
          ]
        },
        {
          "output_type": "stream",
          "name": "stderr",
          "text": [
            "     43/100      2.94G     0.3979      0.344     0.9391          7        640: 100%|██████████| 12/12 [00:02<00:00,  4.21it/s]\n",
            "                 Class     Images  Instances      Box(P          R      mAP50  mAP50-95): 100%|██████████| 1/1 [00:00<00:00,  5.15it/s]\n"
          ]
        },
        {
          "output_type": "stream",
          "name": "stdout",
          "text": [
            "                   all         17         17      0.997          1      0.995      0.936\n",
            "\n",
            "      Epoch    GPU_mem   box_loss   cls_loss   dfl_loss  Instances       Size\n"
          ]
        },
        {
          "output_type": "stream",
          "name": "stderr",
          "text": [
            "     44/100      2.95G     0.4046     0.3332     0.9387         12        640: 100%|██████████| 12/12 [00:03<00:00,  3.95it/s]\n",
            "                 Class     Images  Instances      Box(P          R      mAP50  mAP50-95): 100%|██████████| 1/1 [00:00<00:00,  2.55it/s]"
          ]
        },
        {
          "output_type": "stream",
          "name": "stdout",
          "text": [
            "                   all         17         17      0.997          1      0.995      0.973\n"
          ]
        },
        {
          "output_type": "stream",
          "name": "stderr",
          "text": [
            "\n"
          ]
        },
        {
          "output_type": "stream",
          "name": "stdout",
          "text": [
            "\n",
            "      Epoch    GPU_mem   box_loss   cls_loss   dfl_loss  Instances       Size\n"
          ]
        },
        {
          "output_type": "stream",
          "name": "stderr",
          "text": [
            "     45/100      2.97G     0.3808     0.3185     0.9129         11        640: 100%|██████████| 12/12 [00:03<00:00,  3.59it/s]\n",
            "                 Class     Images  Instances      Box(P          R      mAP50  mAP50-95): 100%|██████████| 1/1 [00:00<00:00,  6.55it/s]"
          ]
        },
        {
          "output_type": "stream",
          "name": "stdout",
          "text": [
            "                   all         17         17      0.996          1      0.995       0.99\n"
          ]
        },
        {
          "output_type": "stream",
          "name": "stderr",
          "text": [
            "\n"
          ]
        },
        {
          "output_type": "stream",
          "name": "stdout",
          "text": [
            "\n",
            "      Epoch    GPU_mem   box_loss   cls_loss   dfl_loss  Instances       Size\n"
          ]
        },
        {
          "output_type": "stream",
          "name": "stderr",
          "text": [
            "     46/100      2.98G     0.3742     0.3134     0.9266         12        640: 100%|██████████| 12/12 [00:02<00:00,  4.07it/s]\n",
            "                 Class     Images  Instances      Box(P          R      mAP50  mAP50-95): 100%|██████████| 1/1 [00:00<00:00,  5.13it/s]"
          ]
        },
        {
          "output_type": "stream",
          "name": "stdout",
          "text": [
            "                   all         17         17      0.997          1      0.995      0.995\n"
          ]
        },
        {
          "output_type": "stream",
          "name": "stderr",
          "text": [
            "\n"
          ]
        },
        {
          "output_type": "stream",
          "name": "stdout",
          "text": [
            "\n",
            "      Epoch    GPU_mem   box_loss   cls_loss   dfl_loss  Instances       Size\n"
          ]
        },
        {
          "output_type": "stream",
          "name": "stderr",
          "text": [
            "     47/100         3G     0.4105     0.3267     0.9561         12        640: 100%|██████████| 12/12 [00:02<00:00,  4.15it/s]\n",
            "                 Class     Images  Instances      Box(P          R      mAP50  mAP50-95): 100%|██████████| 1/1 [00:00<00:00,  3.47it/s]"
          ]
        },
        {
          "output_type": "stream",
          "name": "stdout",
          "text": [
            "                   all         17         17      0.997          1      0.995      0.988\n"
          ]
        },
        {
          "output_type": "stream",
          "name": "stderr",
          "text": [
            "\n"
          ]
        },
        {
          "output_type": "stream",
          "name": "stdout",
          "text": [
            "\n",
            "      Epoch    GPU_mem   box_loss   cls_loss   dfl_loss  Instances       Size\n"
          ]
        },
        {
          "output_type": "stream",
          "name": "stderr",
          "text": [
            "     48/100      3.01G     0.3835     0.3226     0.9192          7        640: 100%|██████████| 12/12 [00:03<00:00,  3.00it/s]\n",
            "                 Class     Images  Instances      Box(P          R      mAP50  mAP50-95): 100%|██████████| 1/1 [00:00<00:00,  3.11it/s]"
          ]
        },
        {
          "output_type": "stream",
          "name": "stdout",
          "text": [
            "                   all         17         17      0.997          1      0.995      0.957\n"
          ]
        },
        {
          "output_type": "stream",
          "name": "stderr",
          "text": [
            "\n"
          ]
        },
        {
          "output_type": "stream",
          "name": "stdout",
          "text": [
            "\n",
            "      Epoch    GPU_mem   box_loss   cls_loss   dfl_loss  Instances       Size\n"
          ]
        },
        {
          "output_type": "stream",
          "name": "stderr",
          "text": [
            "     49/100      3.03G     0.3982      0.325     0.9423         13        640: 100%|██████████| 12/12 [00:02<00:00,  4.48it/s]\n",
            "                 Class     Images  Instances      Box(P          R      mAP50  mAP50-95): 100%|██████████| 1/1 [00:00<00:00,  3.67it/s]"
          ]
        },
        {
          "output_type": "stream",
          "name": "stdout",
          "text": [
            "                   all         17         17      0.997          1      0.995      0.981\n"
          ]
        },
        {
          "output_type": "stream",
          "name": "stderr",
          "text": [
            "\n"
          ]
        },
        {
          "output_type": "stream",
          "name": "stdout",
          "text": [
            "\n",
            "      Epoch    GPU_mem   box_loss   cls_loss   dfl_loss  Instances       Size\n"
          ]
        },
        {
          "output_type": "stream",
          "name": "stderr",
          "text": [
            "     50/100      3.04G     0.3817     0.3107     0.9295          9        640: 100%|██████████| 12/12 [00:02<00:00,  4.28it/s]\n",
            "                 Class     Images  Instances      Box(P          R      mAP50  mAP50-95): 100%|██████████| 1/1 [00:00<00:00,  3.59it/s]"
          ]
        },
        {
          "output_type": "stream",
          "name": "stdout",
          "text": [
            "                   all         17         17      0.997          1      0.995      0.979\n"
          ]
        },
        {
          "output_type": "stream",
          "name": "stderr",
          "text": [
            "\n"
          ]
        },
        {
          "output_type": "stream",
          "name": "stdout",
          "text": [
            "\n",
            "      Epoch    GPU_mem   box_loss   cls_loss   dfl_loss  Instances       Size\n"
          ]
        },
        {
          "output_type": "stream",
          "name": "stderr",
          "text": [
            "     51/100      3.06G     0.3631      0.292     0.9249          9        640: 100%|██████████| 12/12 [00:03<00:00,  3.49it/s]\n",
            "                 Class     Images  Instances      Box(P          R      mAP50  mAP50-95): 100%|██████████| 1/1 [00:00<00:00,  2.61it/s]"
          ]
        },
        {
          "output_type": "stream",
          "name": "stdout",
          "text": [
            "                   all         17         17      0.997          1      0.995      0.981\n"
          ]
        },
        {
          "output_type": "stream",
          "name": "stderr",
          "text": [
            "\n"
          ]
        },
        {
          "output_type": "stream",
          "name": "stdout",
          "text": [
            "\n",
            "      Epoch    GPU_mem   box_loss   cls_loss   dfl_loss  Instances       Size\n"
          ]
        },
        {
          "output_type": "stream",
          "name": "stderr",
          "text": [
            "     52/100      3.07G     0.3778     0.2986     0.9316         13        640: 100%|██████████| 12/12 [00:02<00:00,  4.06it/s]\n",
            "                 Class     Images  Instances      Box(P          R      mAP50  mAP50-95): 100%|██████████| 1/1 [00:00<00:00,  4.22it/s]"
          ]
        },
        {
          "output_type": "stream",
          "name": "stdout",
          "text": [
            "                   all         17         17      0.995          1      0.995      0.984\n"
          ]
        },
        {
          "output_type": "stream",
          "name": "stderr",
          "text": [
            "\n"
          ]
        },
        {
          "output_type": "stream",
          "name": "stdout",
          "text": [
            "\n",
            "      Epoch    GPU_mem   box_loss   cls_loss   dfl_loss  Instances       Size\n"
          ]
        },
        {
          "output_type": "stream",
          "name": "stderr",
          "text": [
            "     53/100      3.09G     0.3575     0.2955     0.9345          9        640: 100%|██████████| 12/12 [00:02<00:00,  4.21it/s]\n",
            "                 Class     Images  Instances      Box(P          R      mAP50  mAP50-95): 100%|██████████| 1/1 [00:00<00:00,  3.51it/s]"
          ]
        },
        {
          "output_type": "stream",
          "name": "stdout",
          "text": [
            "                   all         17         17      0.995          1      0.995      0.982\n"
          ]
        },
        {
          "output_type": "stream",
          "name": "stderr",
          "text": [
            "\n"
          ]
        },
        {
          "output_type": "stream",
          "name": "stdout",
          "text": [
            "\n",
            "      Epoch    GPU_mem   box_loss   cls_loss   dfl_loss  Instances       Size\n"
          ]
        },
        {
          "output_type": "stream",
          "name": "stderr",
          "text": [
            "     54/100       3.1G     0.3875     0.3092     0.9281          9        640: 100%|██████████| 12/12 [00:03<00:00,  3.99it/s]\n",
            "                 Class     Images  Instances      Box(P          R      mAP50  mAP50-95): 100%|██████████| 1/1 [00:00<00:00,  3.16it/s]"
          ]
        },
        {
          "output_type": "stream",
          "name": "stdout",
          "text": [
            "                   all         17         17      0.996          1      0.995      0.989\n"
          ]
        },
        {
          "output_type": "stream",
          "name": "stderr",
          "text": [
            "\n"
          ]
        },
        {
          "output_type": "stream",
          "name": "stdout",
          "text": [
            "\n",
            "      Epoch    GPU_mem   box_loss   cls_loss   dfl_loss  Instances       Size\n"
          ]
        },
        {
          "output_type": "stream",
          "name": "stderr",
          "text": [
            "     55/100      3.12G     0.3934     0.3295     0.9381          5        640: 100%|██████████| 12/12 [00:03<00:00,  3.20it/s]\n",
            "                 Class     Images  Instances      Box(P          R      mAP50  mAP50-95): 100%|██████████| 1/1 [00:00<00:00,  4.20it/s]"
          ]
        },
        {
          "output_type": "stream",
          "name": "stdout",
          "text": [
            "                   all         17         17      0.996          1      0.995      0.975\n"
          ]
        },
        {
          "output_type": "stream",
          "name": "stderr",
          "text": [
            "\n"
          ]
        },
        {
          "output_type": "stream",
          "name": "stdout",
          "text": [
            "\n",
            "      Epoch    GPU_mem   box_loss   cls_loss   dfl_loss  Instances       Size\n"
          ]
        },
        {
          "output_type": "stream",
          "name": "stderr",
          "text": [
            "     56/100      3.13G     0.3841     0.3009     0.9231         10        640: 100%|██████████| 12/12 [00:02<00:00,  4.16it/s]\n",
            "                 Class     Images  Instances      Box(P          R      mAP50  mAP50-95): 100%|██████████| 1/1 [00:00<00:00,  4.65it/s]"
          ]
        },
        {
          "output_type": "stream",
          "name": "stdout",
          "text": [
            "                   all         17         17      0.997          1      0.995       0.99\n"
          ]
        },
        {
          "output_type": "stream",
          "name": "stderr",
          "text": [
            "\n"
          ]
        },
        {
          "output_type": "stream",
          "name": "stdout",
          "text": [
            "\n",
            "      Epoch    GPU_mem   box_loss   cls_loss   dfl_loss  Instances       Size\n"
          ]
        },
        {
          "output_type": "stream",
          "name": "stderr",
          "text": [
            "     57/100      3.15G     0.3835     0.3149     0.9013         14        640: 100%|██████████| 12/12 [00:02<00:00,  4.27it/s]\n",
            "                 Class     Images  Instances      Box(P          R      mAP50  mAP50-95): 100%|██████████| 1/1 [00:00<00:00,  4.01it/s]"
          ]
        },
        {
          "output_type": "stream",
          "name": "stdout",
          "text": [
            "                   all         17         17      0.996          1      0.995      0.971\n"
          ]
        },
        {
          "output_type": "stream",
          "name": "stderr",
          "text": [
            "\n"
          ]
        },
        {
          "output_type": "stream",
          "name": "stdout",
          "text": [
            "\n",
            "      Epoch    GPU_mem   box_loss   cls_loss   dfl_loss  Instances       Size\n"
          ]
        },
        {
          "output_type": "stream",
          "name": "stderr",
          "text": [
            "     58/100      3.16G     0.3512     0.2857     0.9055          9        640: 100%|██████████| 12/12 [00:03<00:00,  3.12it/s]\n",
            "                 Class     Images  Instances      Box(P          R      mAP50  mAP50-95): 100%|██████████| 1/1 [00:00<00:00,  3.14it/s]"
          ]
        },
        {
          "output_type": "stream",
          "name": "stdout",
          "text": [
            "                   all         17         17      0.997          1      0.995      0.964\n"
          ]
        },
        {
          "output_type": "stream",
          "name": "stderr",
          "text": [
            "\n"
          ]
        },
        {
          "output_type": "stream",
          "name": "stdout",
          "text": [
            "\n",
            "      Epoch    GPU_mem   box_loss   cls_loss   dfl_loss  Instances       Size\n"
          ]
        },
        {
          "output_type": "stream",
          "name": "stderr",
          "text": [
            "     59/100      3.18G     0.3629     0.2968     0.9135          7        640: 100%|██████████| 12/12 [00:02<00:00,  4.22it/s]\n",
            "                 Class     Images  Instances      Box(P          R      mAP50  mAP50-95): 100%|██████████| 1/1 [00:00<00:00,  3.46it/s]"
          ]
        },
        {
          "output_type": "stream",
          "name": "stdout",
          "text": [
            "                   all         17         17      0.997          1      0.995      0.975\n"
          ]
        },
        {
          "output_type": "stream",
          "name": "stderr",
          "text": [
            "\n"
          ]
        },
        {
          "output_type": "stream",
          "name": "stdout",
          "text": [
            "\n",
            "      Epoch    GPU_mem   box_loss   cls_loss   dfl_loss  Instances       Size\n"
          ]
        },
        {
          "output_type": "stream",
          "name": "stderr",
          "text": [
            "     60/100      3.19G     0.3338     0.2822     0.8968          9        640: 100%|██████████| 12/12 [00:02<00:00,  4.01it/s]\n",
            "                 Class     Images  Instances      Box(P          R      mAP50  mAP50-95): 100%|██████████| 1/1 [00:00<00:00,  5.12it/s]"
          ]
        },
        {
          "output_type": "stream",
          "name": "stdout",
          "text": [
            "                   all         17         17      0.997          1      0.995       0.98\n"
          ]
        },
        {
          "output_type": "stream",
          "name": "stderr",
          "text": [
            "\n"
          ]
        },
        {
          "output_type": "stream",
          "name": "stdout",
          "text": [
            "\n",
            "      Epoch    GPU_mem   box_loss   cls_loss   dfl_loss  Instances       Size\n"
          ]
        },
        {
          "output_type": "stream",
          "name": "stderr",
          "text": [
            "     61/100      3.21G     0.3576     0.2876     0.9065          8        640: 100%|██████████| 12/12 [00:03<00:00,  3.65it/s]\n",
            "                 Class     Images  Instances      Box(P          R      mAP50  mAP50-95): 100%|██████████| 1/1 [00:00<00:00,  2.91it/s]"
          ]
        },
        {
          "output_type": "stream",
          "name": "stdout",
          "text": [
            "                   all         17         17      0.997          1      0.995      0.973\n"
          ]
        },
        {
          "output_type": "stream",
          "name": "stderr",
          "text": [
            "\n"
          ]
        },
        {
          "output_type": "stream",
          "name": "stdout",
          "text": [
            "\n",
            "      Epoch    GPU_mem   box_loss   cls_loss   dfl_loss  Instances       Size\n"
          ]
        },
        {
          "output_type": "stream",
          "name": "stderr",
          "text": [
            "     62/100      3.22G      0.348     0.2713     0.9148         11        640: 100%|██████████| 12/12 [00:03<00:00,  3.82it/s]\n",
            "                 Class     Images  Instances      Box(P          R      mAP50  mAP50-95): 100%|██████████| 1/1 [00:00<00:00,  3.91it/s]"
          ]
        },
        {
          "output_type": "stream",
          "name": "stdout",
          "text": [
            "                   all         17         17      0.997          1      0.995      0.977\n"
          ]
        },
        {
          "output_type": "stream",
          "name": "stderr",
          "text": [
            "\n"
          ]
        },
        {
          "output_type": "stream",
          "name": "stdout",
          "text": [
            "\n",
            "      Epoch    GPU_mem   box_loss   cls_loss   dfl_loss  Instances       Size\n"
          ]
        },
        {
          "output_type": "stream",
          "name": "stderr",
          "text": [
            "     63/100      3.23G     0.3735     0.3044     0.9307          5        640: 100%|██████████| 12/12 [00:02<00:00,  4.11it/s]\n",
            "                 Class     Images  Instances      Box(P          R      mAP50  mAP50-95): 100%|██████████| 1/1 [00:00<00:00,  5.01it/s]"
          ]
        },
        {
          "output_type": "stream",
          "name": "stdout",
          "text": [
            "                   all         17         17      0.997          1      0.995      0.995\n"
          ]
        },
        {
          "output_type": "stream",
          "name": "stderr",
          "text": [
            "\n"
          ]
        },
        {
          "output_type": "stream",
          "name": "stdout",
          "text": [
            "\n",
            "      Epoch    GPU_mem   box_loss   cls_loss   dfl_loss  Instances       Size\n"
          ]
        },
        {
          "output_type": "stream",
          "name": "stderr",
          "text": [
            "     64/100      3.25G     0.3425      0.266     0.8984         10        640: 100%|██████████| 12/12 [00:02<00:00,  4.06it/s]\n",
            "                 Class     Images  Instances      Box(P          R      mAP50  mAP50-95): 100%|██████████| 1/1 [00:00<00:00,  4.22it/s]"
          ]
        },
        {
          "output_type": "stream",
          "name": "stdout",
          "text": [
            "                   all         17         17      0.997          1      0.995      0.979\n"
          ]
        },
        {
          "output_type": "stream",
          "name": "stderr",
          "text": [
            "\n"
          ]
        },
        {
          "output_type": "stream",
          "name": "stdout",
          "text": [
            "\n",
            "      Epoch    GPU_mem   box_loss   cls_loss   dfl_loss  Instances       Size\n"
          ]
        },
        {
          "output_type": "stream",
          "name": "stderr",
          "text": [
            "     65/100      3.27G     0.3417     0.2694     0.9152         12        640: 100%|██████████| 12/12 [00:03<00:00,  3.03it/s]\n",
            "                 Class     Images  Instances      Box(P          R      mAP50  mAP50-95): 100%|██████████| 1/1 [00:00<00:00,  4.10it/s]"
          ]
        },
        {
          "output_type": "stream",
          "name": "stdout",
          "text": [
            "                   all         17         17      0.997          1      0.995      0.984\n"
          ]
        },
        {
          "output_type": "stream",
          "name": "stderr",
          "text": [
            "\n"
          ]
        },
        {
          "output_type": "stream",
          "name": "stdout",
          "text": [
            "\n",
            "      Epoch    GPU_mem   box_loss   cls_loss   dfl_loss  Instances       Size\n"
          ]
        },
        {
          "output_type": "stream",
          "name": "stderr",
          "text": [
            "     66/100      3.28G     0.3243     0.2565     0.8998          8        640: 100%|██████████| 12/12 [00:02<00:00,  4.01it/s]\n",
            "                 Class     Images  Instances      Box(P          R      mAP50  mAP50-95): 100%|██████████| 1/1 [00:00<00:00,  6.17it/s]"
          ]
        },
        {
          "output_type": "stream",
          "name": "stdout",
          "text": [
            "                   all         17         17      0.997          1      0.995      0.989\n"
          ]
        },
        {
          "output_type": "stream",
          "name": "stderr",
          "text": [
            "\n"
          ]
        },
        {
          "output_type": "stream",
          "name": "stdout",
          "text": [
            "\n",
            "      Epoch    GPU_mem   box_loss   cls_loss   dfl_loss  Instances       Size\n"
          ]
        },
        {
          "output_type": "stream",
          "name": "stderr",
          "text": [
            "     67/100      3.29G     0.3313     0.2532     0.9219          9        640: 100%|██████████| 12/12 [00:02<00:00,  4.07it/s]\n",
            "                 Class     Images  Instances      Box(P          R      mAP50  mAP50-95): 100%|██████████| 1/1 [00:00<00:00,  4.66it/s]"
          ]
        },
        {
          "output_type": "stream",
          "name": "stdout",
          "text": [
            "                   all         17         17      0.997          1      0.995      0.995\n"
          ]
        },
        {
          "output_type": "stream",
          "name": "stderr",
          "text": [
            "\n"
          ]
        },
        {
          "output_type": "stream",
          "name": "stdout",
          "text": [
            "\n",
            "      Epoch    GPU_mem   box_loss   cls_loss   dfl_loss  Instances       Size\n"
          ]
        },
        {
          "output_type": "stream",
          "name": "stderr",
          "text": [
            "     68/100      3.31G     0.3357     0.2666     0.9079          9        640: 100%|██████████| 12/12 [00:03<00:00,  3.12it/s]\n",
            "                 Class     Images  Instances      Box(P          R      mAP50  mAP50-95): 100%|██████████| 1/1 [00:00<00:00,  2.76it/s]"
          ]
        },
        {
          "output_type": "stream",
          "name": "stdout",
          "text": [
            "                   all         17         17      0.997          1      0.995      0.995\n"
          ]
        },
        {
          "output_type": "stream",
          "name": "stderr",
          "text": [
            "\n"
          ]
        },
        {
          "output_type": "stream",
          "name": "stdout",
          "text": [
            "\n",
            "      Epoch    GPU_mem   box_loss   cls_loss   dfl_loss  Instances       Size\n"
          ]
        },
        {
          "output_type": "stream",
          "name": "stderr",
          "text": [
            "     69/100      3.32G     0.3212     0.2565     0.8958         13        640: 100%|██████████| 12/12 [00:02<00:00,  4.02it/s]\n",
            "                 Class     Images  Instances      Box(P          R      mAP50  mAP50-95): 100%|██████████| 1/1 [00:00<00:00,  4.37it/s]"
          ]
        },
        {
          "output_type": "stream",
          "name": "stdout",
          "text": [
            "                   all         17         17      0.997          1      0.995      0.995\n"
          ]
        },
        {
          "output_type": "stream",
          "name": "stderr",
          "text": [
            "\n"
          ]
        },
        {
          "output_type": "stream",
          "name": "stdout",
          "text": [
            "\n",
            "      Epoch    GPU_mem   box_loss   cls_loss   dfl_loss  Instances       Size\n"
          ]
        },
        {
          "output_type": "stream",
          "name": "stderr",
          "text": [
            "     70/100      3.34G     0.3305     0.2514     0.8994         11        640: 100%|██████████| 12/12 [00:02<00:00,  4.10it/s]\n",
            "                 Class     Images  Instances      Box(P          R      mAP50  mAP50-95): 100%|██████████| 1/1 [00:00<00:00,  4.60it/s]"
          ]
        },
        {
          "output_type": "stream",
          "name": "stdout",
          "text": [
            "                   all         17         17      0.997          1      0.995      0.995\n"
          ]
        },
        {
          "output_type": "stream",
          "name": "stderr",
          "text": [
            "\n"
          ]
        },
        {
          "output_type": "stream",
          "name": "stdout",
          "text": [
            "\n",
            "      Epoch    GPU_mem   box_loss   cls_loss   dfl_loss  Instances       Size\n"
          ]
        },
        {
          "output_type": "stream",
          "name": "stderr",
          "text": [
            "     71/100      3.35G     0.3301     0.2569     0.8968         12        640: 100%|██████████| 12/12 [00:03<00:00,  3.82it/s]\n",
            "                 Class     Images  Instances      Box(P          R      mAP50  mAP50-95): 100%|██████████| 1/1 [00:00<00:00,  2.92it/s]"
          ]
        },
        {
          "output_type": "stream",
          "name": "stdout",
          "text": [
            "                   all         17         17      0.997          1      0.995      0.995\n"
          ]
        },
        {
          "output_type": "stream",
          "name": "stderr",
          "text": [
            "\n"
          ]
        },
        {
          "output_type": "stream",
          "name": "stdout",
          "text": [
            "\n",
            "      Epoch    GPU_mem   box_loss   cls_loss   dfl_loss  Instances       Size\n"
          ]
        },
        {
          "output_type": "stream",
          "name": "stderr",
          "text": [
            "     72/100      3.37G     0.3091     0.2448     0.9023          9        640: 100%|██████████| 12/12 [00:03<00:00,  3.63it/s]\n",
            "                 Class     Images  Instances      Box(P          R      mAP50  mAP50-95): 100%|██████████| 1/1 [00:00<00:00,  4.26it/s]"
          ]
        },
        {
          "output_type": "stream",
          "name": "stdout",
          "text": [
            "                   all         17         17      0.997          1      0.995      0.995\n"
          ]
        },
        {
          "output_type": "stream",
          "name": "stderr",
          "text": [
            "\n"
          ]
        },
        {
          "output_type": "stream",
          "name": "stdout",
          "text": [
            "\n",
            "      Epoch    GPU_mem   box_loss   cls_loss   dfl_loss  Instances       Size\n"
          ]
        },
        {
          "output_type": "stream",
          "name": "stderr",
          "text": [
            "     73/100      3.38G     0.3285     0.2543     0.9056         12        640: 100%|██████████| 12/12 [00:02<00:00,  4.06it/s]\n",
            "                 Class     Images  Instances      Box(P          R      mAP50  mAP50-95): 100%|██████████| 1/1 [00:00<00:00,  4.65it/s]"
          ]
        },
        {
          "output_type": "stream",
          "name": "stdout",
          "text": [
            "                   all         17         17      0.997          1      0.995      0.995\n"
          ]
        },
        {
          "output_type": "stream",
          "name": "stderr",
          "text": [
            "\n"
          ]
        },
        {
          "output_type": "stream",
          "name": "stdout",
          "text": [
            "\n",
            "      Epoch    GPU_mem   box_loss   cls_loss   dfl_loss  Instances       Size\n"
          ]
        },
        {
          "output_type": "stream",
          "name": "stderr",
          "text": [
            "     74/100       3.4G     0.3075      0.247     0.8865         11        640: 100%|██████████| 12/12 [00:02<00:00,  4.13it/s]\n",
            "                 Class     Images  Instances      Box(P          R      mAP50  mAP50-95): 100%|██████████| 1/1 [00:00<00:00,  3.78it/s]"
          ]
        },
        {
          "output_type": "stream",
          "name": "stdout",
          "text": [
            "                   all         17         17      0.997          1      0.995      0.995\n"
          ]
        },
        {
          "output_type": "stream",
          "name": "stderr",
          "text": [
            "\n"
          ]
        },
        {
          "output_type": "stream",
          "name": "stdout",
          "text": [
            "\n",
            "      Epoch    GPU_mem   box_loss   cls_loss   dfl_loss  Instances       Size\n"
          ]
        },
        {
          "output_type": "stream",
          "name": "stderr",
          "text": [
            "     75/100      3.41G     0.3182     0.2513     0.9108         11        640: 100%|██████████| 12/12 [00:03<00:00,  3.08it/s]\n",
            "                 Class     Images  Instances      Box(P          R      mAP50  mAP50-95): 100%|██████████| 1/1 [00:00<00:00,  3.79it/s]"
          ]
        },
        {
          "output_type": "stream",
          "name": "stdout",
          "text": [
            "                   all         17         17      0.997          1      0.995      0.985\n"
          ]
        },
        {
          "output_type": "stream",
          "name": "stderr",
          "text": [
            "\n"
          ]
        },
        {
          "output_type": "stream",
          "name": "stdout",
          "text": [
            "\n",
            "      Epoch    GPU_mem   box_loss   cls_loss   dfl_loss  Instances       Size\n"
          ]
        },
        {
          "output_type": "stream",
          "name": "stderr",
          "text": [
            "     76/100      3.43G     0.3169     0.2405     0.8978         11        640: 100%|██████████| 12/12 [00:02<00:00,  4.07it/s]\n",
            "                 Class     Images  Instances      Box(P          R      mAP50  mAP50-95): 100%|██████████| 1/1 [00:00<00:00,  6.80it/s]"
          ]
        },
        {
          "output_type": "stream",
          "name": "stdout",
          "text": [
            "                   all         17         17      0.997          1      0.995      0.995\n"
          ]
        },
        {
          "output_type": "stream",
          "name": "stderr",
          "text": [
            "\n"
          ]
        },
        {
          "output_type": "stream",
          "name": "stdout",
          "text": [
            "\n",
            "      Epoch    GPU_mem   box_loss   cls_loss   dfl_loss  Instances       Size\n"
          ]
        },
        {
          "output_type": "stream",
          "name": "stderr",
          "text": [
            "     77/100      3.44G     0.3291     0.2549     0.9094          9        640: 100%|██████████| 12/12 [00:02<00:00,  4.01it/s]\n",
            "                 Class     Images  Instances      Box(P          R      mAP50  mAP50-95): 100%|██████████| 1/1 [00:00<00:00,  4.99it/s]"
          ]
        },
        {
          "output_type": "stream",
          "name": "stdout",
          "text": [
            "                   all         17         17      0.997          1      0.995      0.995\n"
          ]
        },
        {
          "output_type": "stream",
          "name": "stderr",
          "text": [
            "\n"
          ]
        },
        {
          "output_type": "stream",
          "name": "stdout",
          "text": [
            "\n",
            "      Epoch    GPU_mem   box_loss   cls_loss   dfl_loss  Instances       Size\n"
          ]
        },
        {
          "output_type": "stream",
          "name": "stderr",
          "text": [
            "     78/100      3.46G     0.2854     0.2394     0.8978         11        640: 100%|██████████| 12/12 [00:03<00:00,  3.07it/s]\n",
            "                 Class     Images  Instances      Box(P          R      mAP50  mAP50-95): 100%|██████████| 1/1 [00:00<00:00,  2.60it/s]"
          ]
        },
        {
          "output_type": "stream",
          "name": "stdout",
          "text": [
            "                   all         17         17      0.997          1      0.995      0.991\n"
          ]
        },
        {
          "output_type": "stream",
          "name": "stderr",
          "text": [
            "\n"
          ]
        },
        {
          "output_type": "stream",
          "name": "stdout",
          "text": [
            "\n",
            "      Epoch    GPU_mem   box_loss   cls_loss   dfl_loss  Instances       Size\n"
          ]
        },
        {
          "output_type": "stream",
          "name": "stderr",
          "text": [
            "     79/100      3.47G     0.3089     0.2367      0.906         11        640: 100%|██████████| 12/12 [00:02<00:00,  4.07it/s]\n",
            "                 Class     Images  Instances      Box(P          R      mAP50  mAP50-95): 100%|██████████| 1/1 [00:00<00:00,  4.21it/s]"
          ]
        },
        {
          "output_type": "stream",
          "name": "stdout",
          "text": [
            "                   all         17         17      0.997          1      0.995      0.986\n"
          ]
        },
        {
          "output_type": "stream",
          "name": "stderr",
          "text": [
            "\n"
          ]
        },
        {
          "output_type": "stream",
          "name": "stdout",
          "text": [
            "\n",
            "      Epoch    GPU_mem   box_loss   cls_loss   dfl_loss  Instances       Size\n"
          ]
        },
        {
          "output_type": "stream",
          "name": "stderr",
          "text": [
            "     80/100      3.49G      0.307     0.2554     0.9212          9        640: 100%|██████████| 12/12 [00:03<00:00,  3.94it/s]\n",
            "                 Class     Images  Instances      Box(P          R      mAP50  mAP50-95): 100%|██████████| 1/1 [00:00<00:00,  5.10it/s]\n"
          ]
        },
        {
          "output_type": "stream",
          "name": "stdout",
          "text": [
            "                   all         17         17      0.997          1      0.995      0.985\n",
            "\n",
            "      Epoch    GPU_mem   box_loss   cls_loss   dfl_loss  Instances       Size\n"
          ]
        },
        {
          "output_type": "stream",
          "name": "stderr",
          "text": [
            "     81/100       3.5G     0.2943     0.2362     0.8952          7        640: 100%|██████████| 12/12 [00:03<00:00,  3.74it/s]\n",
            "                 Class     Images  Instances      Box(P          R      mAP50  mAP50-95): 100%|██████████| 1/1 [00:00<00:00,  3.42it/s]"
          ]
        },
        {
          "output_type": "stream",
          "name": "stdout",
          "text": [
            "                   all         17         17      0.997          1      0.995      0.995\n"
          ]
        },
        {
          "output_type": "stream",
          "name": "stderr",
          "text": [
            "\n"
          ]
        },
        {
          "output_type": "stream",
          "name": "stdout",
          "text": [
            "\n",
            "      Epoch    GPU_mem   box_loss   cls_loss   dfl_loss  Instances       Size\n"
          ]
        },
        {
          "output_type": "stream",
          "name": "stderr",
          "text": [
            "     82/100      3.52G     0.3163     0.2541     0.9076         14        640: 100%|██████████| 12/12 [00:03<00:00,  3.37it/s]\n",
            "                 Class     Images  Instances      Box(P          R      mAP50  mAP50-95): 100%|██████████| 1/1 [00:00<00:00,  5.07it/s]"
          ]
        },
        {
          "output_type": "stream",
          "name": "stdout",
          "text": [
            "                   all         17         17      0.997          1      0.995      0.995\n"
          ]
        },
        {
          "output_type": "stream",
          "name": "stderr",
          "text": [
            "\n"
          ]
        },
        {
          "output_type": "stream",
          "name": "stdout",
          "text": [
            "\n",
            "      Epoch    GPU_mem   box_loss   cls_loss   dfl_loss  Instances       Size\n"
          ]
        },
        {
          "output_type": "stream",
          "name": "stderr",
          "text": [
            "     83/100      3.53G     0.3035     0.2429     0.8926         15        640: 100%|██████████| 12/12 [00:02<00:00,  4.08it/s]\n",
            "                 Class     Images  Instances      Box(P          R      mAP50  mAP50-95): 100%|██████████| 1/1 [00:00<00:00,  3.85it/s]"
          ]
        },
        {
          "output_type": "stream",
          "name": "stdout",
          "text": [
            "                   all         17         17      0.997          1      0.995      0.986\n"
          ]
        },
        {
          "output_type": "stream",
          "name": "stderr",
          "text": [
            "\n"
          ]
        },
        {
          "output_type": "stream",
          "name": "stdout",
          "text": [
            "\n",
            "      Epoch    GPU_mem   box_loss   cls_loss   dfl_loss  Instances       Size\n"
          ]
        },
        {
          "output_type": "stream",
          "name": "stderr",
          "text": [
            "     84/100      3.55G      0.311     0.2485     0.8927          8        640: 100%|██████████| 12/12 [00:03<00:00,  4.00it/s]\n",
            "                 Class     Images  Instances      Box(P          R      mAP50  mAP50-95): 100%|██████████| 1/1 [00:00<00:00,  4.33it/s]"
          ]
        },
        {
          "output_type": "stream",
          "name": "stdout",
          "text": [
            "                   all         17         17      0.997          1      0.995      0.985\n"
          ]
        },
        {
          "output_type": "stream",
          "name": "stderr",
          "text": [
            "\n"
          ]
        },
        {
          "output_type": "stream",
          "name": "stdout",
          "text": [
            "\n",
            "      Epoch    GPU_mem   box_loss   cls_loss   dfl_loss  Instances       Size\n"
          ]
        },
        {
          "output_type": "stream",
          "name": "stderr",
          "text": [
            "     85/100      3.56G     0.2759     0.2313     0.8975         12        640: 100%|██████████| 12/12 [00:03<00:00,  3.14it/s]\n",
            "                 Class     Images  Instances      Box(P          R      mAP50  mAP50-95): 100%|██████████| 1/1 [00:00<00:00,  4.37it/s]"
          ]
        },
        {
          "output_type": "stream",
          "name": "stdout",
          "text": [
            "                   all         17         17      0.997          1      0.995      0.995\n"
          ]
        },
        {
          "output_type": "stream",
          "name": "stderr",
          "text": [
            "\n"
          ]
        },
        {
          "output_type": "stream",
          "name": "stdout",
          "text": [
            "\n",
            "      Epoch    GPU_mem   box_loss   cls_loss   dfl_loss  Instances       Size\n"
          ]
        },
        {
          "output_type": "stream",
          "name": "stderr",
          "text": [
            "     86/100      3.58G     0.3043     0.2343     0.8795         10        640: 100%|██████████| 12/12 [00:02<00:00,  4.11it/s]\n",
            "                 Class     Images  Instances      Box(P          R      mAP50  mAP50-95): 100%|██████████| 1/1 [00:00<00:00,  3.77it/s]"
          ]
        },
        {
          "output_type": "stream",
          "name": "stdout",
          "text": [
            "                   all         17         17      0.997          1      0.995      0.995\n"
          ]
        },
        {
          "output_type": "stream",
          "name": "stderr",
          "text": [
            "\n"
          ]
        },
        {
          "output_type": "stream",
          "name": "stdout",
          "text": [
            "\n",
            "      Epoch    GPU_mem   box_loss   cls_loss   dfl_loss  Instances       Size\n"
          ]
        },
        {
          "output_type": "stream",
          "name": "stderr",
          "text": [
            "     87/100      3.59G     0.3009     0.2212     0.8827          9        640: 100%|██████████| 12/12 [00:02<00:00,  4.20it/s]\n",
            "                 Class     Images  Instances      Box(P          R      mAP50  mAP50-95): 100%|██████████| 1/1 [00:00<00:00,  5.38it/s]"
          ]
        },
        {
          "output_type": "stream",
          "name": "stdout",
          "text": [
            "                   all         17         17      0.997          1      0.995       0.98\n"
          ]
        },
        {
          "output_type": "stream",
          "name": "stderr",
          "text": [
            "\n"
          ]
        },
        {
          "output_type": "stream",
          "name": "stdout",
          "text": [
            "\n",
            "      Epoch    GPU_mem   box_loss   cls_loss   dfl_loss  Instances       Size\n"
          ]
        },
        {
          "output_type": "stream",
          "name": "stderr",
          "text": [
            "     88/100       3.6G     0.2733     0.2212     0.8848          6        640: 100%|██████████| 12/12 [00:03<00:00,  3.39it/s]\n",
            "                 Class     Images  Instances      Box(P          R      mAP50  mAP50-95): 100%|██████████| 1/1 [00:00<00:00,  2.61it/s]"
          ]
        },
        {
          "output_type": "stream",
          "name": "stdout",
          "text": [
            "                   all         17         17      0.997          1      0.995       0.99\n"
          ]
        },
        {
          "output_type": "stream",
          "name": "stderr",
          "text": [
            "\n"
          ]
        },
        {
          "output_type": "stream",
          "name": "stdout",
          "text": [
            "\n",
            "      Epoch    GPU_mem   box_loss   cls_loss   dfl_loss  Instances       Size\n"
          ]
        },
        {
          "output_type": "stream",
          "name": "stderr",
          "text": [
            "     89/100      3.62G     0.2652     0.2121     0.8905         10        640: 100%|██████████| 12/12 [00:03<00:00,  3.92it/s]\n",
            "                 Class     Images  Instances      Box(P          R      mAP50  mAP50-95): 100%|██████████| 1/1 [00:00<00:00,  5.57it/s]"
          ]
        },
        {
          "output_type": "stream",
          "name": "stdout",
          "text": [
            "                   all         17         17      0.997          1      0.995      0.995\n"
          ]
        },
        {
          "output_type": "stream",
          "name": "stderr",
          "text": [
            "\n"
          ]
        },
        {
          "output_type": "stream",
          "name": "stdout",
          "text": [
            "\n",
            "      Epoch    GPU_mem   box_loss   cls_loss   dfl_loss  Instances       Size\n"
          ]
        },
        {
          "output_type": "stream",
          "name": "stderr",
          "text": [
            "     90/100      3.63G     0.2533     0.2094     0.8695         10        640: 100%|██████████| 12/12 [00:02<00:00,  4.04it/s]\n",
            "                 Class     Images  Instances      Box(P          R      mAP50  mAP50-95): 100%|██████████| 1/1 [00:00<00:00,  4.11it/s]"
          ]
        },
        {
          "output_type": "stream",
          "name": "stdout",
          "text": [
            "                   all         17         17      0.997          1      0.995      0.995\n"
          ]
        },
        {
          "output_type": "stream",
          "name": "stderr",
          "text": [
            "\n"
          ]
        },
        {
          "output_type": "stream",
          "name": "stdout",
          "text": [
            "Closing dataloader mosaic\n",
            "\u001b[34m\u001b[1malbumentations: \u001b[0mBlur(p=0.01, blur_limit=(3, 7)), MedianBlur(p=0.01, blur_limit=(3, 7)), ToGray(p=0.01, method='weighted_average', num_output_channels=3), CLAHE(p=0.01, clip_limit=(1.0, 4.0), tile_grid_size=(8, 8))\n",
            "\n",
            "      Epoch    GPU_mem   box_loss   cls_loss   dfl_loss  Instances       Size\n"
          ]
        },
        {
          "output_type": "stream",
          "name": "stderr",
          "text": [
            "     91/100      3.74G     0.2176     0.2477     0.8716          4        640: 100%|██████████| 12/12 [00:05<00:00,  2.27it/s]\n",
            "                 Class     Images  Instances      Box(P          R      mAP50  mAP50-95): 100%|██████████| 1/1 [00:00<00:00,  2.62it/s]"
          ]
        },
        {
          "output_type": "stream",
          "name": "stdout",
          "text": [
            "                   all         17         17      0.997          1      0.995      0.995\n"
          ]
        },
        {
          "output_type": "stream",
          "name": "stderr",
          "text": [
            "\n"
          ]
        },
        {
          "output_type": "stream",
          "name": "stdout",
          "text": [
            "\n",
            "      Epoch    GPU_mem   box_loss   cls_loss   dfl_loss  Instances       Size\n"
          ]
        },
        {
          "output_type": "stream",
          "name": "stderr",
          "text": [
            "     92/100      3.76G     0.2064     0.2107     0.8668          4        640: 100%|██████████| 12/12 [00:02<00:00,  4.22it/s]\n",
            "                 Class     Images  Instances      Box(P          R      mAP50  mAP50-95): 100%|██████████| 1/1 [00:00<00:00,  6.20it/s]"
          ]
        },
        {
          "output_type": "stream",
          "name": "stdout",
          "text": [
            "                   all         17         17      0.997          1      0.995      0.995\n"
          ]
        },
        {
          "output_type": "stream",
          "name": "stderr",
          "text": [
            "\n"
          ]
        },
        {
          "output_type": "stream",
          "name": "stdout",
          "text": [
            "\n",
            "      Epoch    GPU_mem   box_loss   cls_loss   dfl_loss  Instances       Size\n"
          ]
        },
        {
          "output_type": "stream",
          "name": "stderr",
          "text": [
            "     93/100      3.78G     0.1975     0.2024     0.8658          4        640: 100%|██████████| 12/12 [00:02<00:00,  4.15it/s]\n",
            "                 Class     Images  Instances      Box(P          R      mAP50  mAP50-95): 100%|██████████| 1/1 [00:00<00:00,  5.79it/s]"
          ]
        },
        {
          "output_type": "stream",
          "name": "stdout",
          "text": [
            "                   all         17         17      0.997          1      0.995      0.995\n"
          ]
        },
        {
          "output_type": "stream",
          "name": "stderr",
          "text": [
            "\n"
          ]
        },
        {
          "output_type": "stream",
          "name": "stdout",
          "text": [
            "\n",
            "      Epoch    GPU_mem   box_loss   cls_loss   dfl_loss  Instances       Size\n"
          ]
        },
        {
          "output_type": "stream",
          "name": "stderr",
          "text": [
            "     94/100      3.79G     0.2035     0.2007     0.8782          4        640: 100%|██████████| 12/12 [00:02<00:00,  4.31it/s]\n",
            "                 Class     Images  Instances      Box(P          R      mAP50  mAP50-95): 100%|██████████| 1/1 [00:00<00:00,  3.36it/s]"
          ]
        },
        {
          "output_type": "stream",
          "name": "stdout",
          "text": [
            "                   all         17         17      0.997          1      0.995      0.995\n"
          ]
        },
        {
          "output_type": "stream",
          "name": "stderr",
          "text": [
            "\n"
          ]
        },
        {
          "output_type": "stream",
          "name": "stdout",
          "text": [
            "\n",
            "      Epoch    GPU_mem   box_loss   cls_loss   dfl_loss  Instances       Size\n"
          ]
        },
        {
          "output_type": "stream",
          "name": "stderr",
          "text": [
            "     95/100       3.8G     0.2006     0.1997     0.8516          4        640: 100%|██████████| 12/12 [00:03<00:00,  3.32it/s]\n",
            "                 Class     Images  Instances      Box(P          R      mAP50  mAP50-95): 100%|██████████| 1/1 [00:00<00:00,  4.42it/s]"
          ]
        },
        {
          "output_type": "stream",
          "name": "stdout",
          "text": [
            "                   all         17         17      0.997          1      0.995      0.995\n"
          ]
        },
        {
          "output_type": "stream",
          "name": "stderr",
          "text": [
            "\n"
          ]
        },
        {
          "output_type": "stream",
          "name": "stdout",
          "text": [
            "\n",
            "      Epoch    GPU_mem   box_loss   cls_loss   dfl_loss  Instances       Size\n"
          ]
        },
        {
          "output_type": "stream",
          "name": "stderr",
          "text": [
            "     96/100      3.82G      0.205     0.1932     0.8627          4        640: 100%|██████████| 12/12 [00:02<00:00,  4.47it/s]\n",
            "                 Class     Images  Instances      Box(P          R      mAP50  mAP50-95): 100%|██████████| 1/1 [00:00<00:00,  3.78it/s]"
          ]
        },
        {
          "output_type": "stream",
          "name": "stdout",
          "text": [
            "                   all         17         17      0.997          1      0.995      0.995\n"
          ]
        },
        {
          "output_type": "stream",
          "name": "stderr",
          "text": [
            "\n"
          ]
        },
        {
          "output_type": "stream",
          "name": "stdout",
          "text": [
            "\n",
            "      Epoch    GPU_mem   box_loss   cls_loss   dfl_loss  Instances       Size\n"
          ]
        },
        {
          "output_type": "stream",
          "name": "stderr",
          "text": [
            "     97/100      3.83G     0.1887     0.1861     0.8346          4        640: 100%|██████████| 12/12 [00:02<00:00,  4.28it/s]\n",
            "                 Class     Images  Instances      Box(P          R      mAP50  mAP50-95): 100%|██████████| 1/1 [00:00<00:00,  6.62it/s]\n"
          ]
        },
        {
          "output_type": "stream",
          "name": "stdout",
          "text": [
            "                   all         17         17      0.997          1      0.995      0.995\n",
            "\n",
            "      Epoch    GPU_mem   box_loss   cls_loss   dfl_loss  Instances       Size\n"
          ]
        },
        {
          "output_type": "stream",
          "name": "stderr",
          "text": [
            "     98/100      3.85G     0.2022     0.1921     0.8487          4        640: 100%|██████████| 12/12 [00:03<00:00,  3.56it/s]\n",
            "                 Class     Images  Instances      Box(P          R      mAP50  mAP50-95): 100%|██████████| 1/1 [00:00<00:00,  2.90it/s]"
          ]
        },
        {
          "output_type": "stream",
          "name": "stdout",
          "text": [
            "                   all         17         17      0.997          1      0.995      0.995\n"
          ]
        },
        {
          "output_type": "stream",
          "name": "stderr",
          "text": [
            "\n"
          ]
        },
        {
          "output_type": "stream",
          "name": "stdout",
          "text": [
            "\n",
            "      Epoch    GPU_mem   box_loss   cls_loss   dfl_loss  Instances       Size\n"
          ]
        },
        {
          "output_type": "stream",
          "name": "stderr",
          "text": [
            "     99/100      3.86G     0.1953     0.1949     0.8692          4        640: 100%|██████████| 12/12 [00:02<00:00,  4.34it/s]\n",
            "                 Class     Images  Instances      Box(P          R      mAP50  mAP50-95): 100%|██████████| 1/1 [00:00<00:00,  6.19it/s]"
          ]
        },
        {
          "output_type": "stream",
          "name": "stdout",
          "text": [
            "                   all         17         17      0.997          1      0.995      0.995\n"
          ]
        },
        {
          "output_type": "stream",
          "name": "stderr",
          "text": [
            "\n"
          ]
        },
        {
          "output_type": "stream",
          "name": "stdout",
          "text": [
            "\n",
            "      Epoch    GPU_mem   box_loss   cls_loss   dfl_loss  Instances       Size\n"
          ]
        },
        {
          "output_type": "stream",
          "name": "stderr",
          "text": [
            "    100/100      3.88G     0.1879      0.184     0.8587          4        640: 100%|██████████| 12/12 [00:02<00:00,  4.19it/s]\n",
            "                 Class     Images  Instances      Box(P          R      mAP50  mAP50-95): 100%|██████████| 1/1 [00:00<00:00,  6.17it/s]\n"
          ]
        },
        {
          "output_type": "stream",
          "name": "stdout",
          "text": [
            "                   all         17         17      0.997          1      0.995      0.995\n",
            "\n",
            "100 epochs completed in 0.108 hours.\n",
            "Optimizer stripped from runs/detect/train/weights/last.pt, 5.5MB\n",
            "Optimizer stripped from runs/detect/train/weights/best.pt, 5.5MB\n",
            "\n",
            "Validating runs/detect/train/weights/best.pt...\n",
            "Ultralytics 8.3.156 🚀 Python-3.11.13 torch-2.6.0+cu124 CUDA:0 (Tesla T4, 15095MiB)\n",
            "YOLO11n summary (fused): 100 layers, 2,582,347 parameters, 0 gradients, 6.3 GFLOPs\n"
          ]
        },
        {
          "output_type": "stream",
          "name": "stderr",
          "text": [
            "                 Class     Images  Instances      Box(P          R      mAP50  mAP50-95): 100%|██████████| 1/1 [00:00<00:00,  7.25it/s]\n"
          ]
        },
        {
          "output_type": "stream",
          "name": "stdout",
          "text": [
            "                   all         17         17      0.997          1      0.995      0.995\n",
            "Speed: 0.2ms preprocess, 2.1ms inference, 0.0ms loss, 1.3ms postprocess per image\n",
            "Results saved to \u001b[1mruns/detect/train\u001b[0m\n",
            "Downloading https://github.com/ultralytics/assets/releases/download/v8.3.0/yolo11n-seg.pt to 'yolo11n-seg.pt'...\n"
          ]
        },
        {
          "output_type": "stream",
          "name": "stderr",
          "text": [
            "100%|██████████| 5.90M/5.90M [00:00<00:00, 119MB/s]"
          ]
        },
        {
          "output_type": "stream",
          "name": "stdout",
          "text": [
            "Ultralytics 8.3.156 🚀 Python-3.11.13 torch-2.6.0+cu124 CUDA:0 (Tesla T4, 15095MiB)\n",
            "\u001b[34m\u001b[1mengine/trainer: \u001b[0magnostic_nms=False, amp=True, augment=False, auto_augment=randaugment, batch=16, bgr=0.0, box=7.5, cache=False, cfg=None, classes=None, close_mosaic=10, cls=0.5, conf=None, copy_paste=0.0, copy_paste_mode=flip, cos_lr=False, cutmix=0.0, data=robochess-2/data.yaml, degrees=0.0, deterministic=True, device=None, dfl=1.5, dnn=False, dropout=0.0, dynamic=False, embed=None, epochs=100, erasing=0.4, exist_ok=False, fliplr=0.5, flipud=0.0, format=torchscript, fraction=1.0, freeze=None, half=False, hsv_h=0.015, hsv_s=0.7, hsv_v=0.4, imgsz=640, int8=False, iou=0.7, keras=False, kobj=1.0, line_width=None, lr0=0.01, lrf=0.01, mask_ratio=4, max_det=300, mixup=0.0, mode=train, model=yolo11n-seg.pt, momentum=0.937, mosaic=1.0, multi_scale=False, name=train, nbs=64, nms=False, opset=None, optimize=False, optimizer=auto, overlap_mask=True, patience=100, perspective=0.0, plots=True, pose=12.0, pretrained=True, profile=False, project=None, rect=False, resume=False, retina_masks=False, save=True, save_conf=False, save_crop=False, save_dir=runs/segment/train, save_frames=False, save_json=False, save_period=-1, save_txt=False, scale=0.5, seed=0, shear=0.0, show=False, show_boxes=True, show_conf=True, show_labels=True, simplify=True, single_cls=False, source=None, split=val, stream_buffer=False, task=segment, time=None, tracker=botsort.yaml, translate=0.1, val=True, verbose=True, vid_stride=1, visualize=False, warmup_bias_lr=0.1, warmup_epochs=3.0, warmup_momentum=0.8, weight_decay=0.0005, workers=8, workspace=None\n",
            "Overriding model.yaml nc=80 with nc=1\n",
            "\n",
            "                   from  n    params  module                                       arguments                     \n",
            "  0                  -1  1       464  ultralytics.nn.modules.conv.Conv             [3, 16, 3, 2]                 \n",
            "  1                  -1  1      4672  ultralytics.nn.modules.conv.Conv             [16, 32, 3, 2]                \n",
            "  2                  -1  1      6640  ultralytics.nn.modules.block.C3k2            [32, 64, 1, False, 0.25]      \n",
            "  3                  -1  1     36992  ultralytics.nn.modules.conv.Conv             [64, 64, 3, 2]                \n",
            "  4                  -1  1     26080  ultralytics.nn.modules.block.C3k2            [64, 128, 1, False, 0.25]     \n",
            "  5                  -1  1    147712  ultralytics.nn.modules.conv.Conv             [128, 128, 3, 2]              \n",
            "  6                  -1  1     87040  ultralytics.nn.modules.block.C3k2            [128, 128, 1, True]           \n"
          ]
        },
        {
          "output_type": "stream",
          "name": "stderr",
          "text": [
            "\n"
          ]
        },
        {
          "output_type": "stream",
          "name": "stdout",
          "text": [
            "  7                  -1  1    295424  ultralytics.nn.modules.conv.Conv             [128, 256, 3, 2]              \n",
            "  8                  -1  1    346112  ultralytics.nn.modules.block.C3k2            [256, 256, 1, True]           \n",
            "  9                  -1  1    164608  ultralytics.nn.modules.block.SPPF            [256, 256, 5]                 \n",
            " 10                  -1  1    249728  ultralytics.nn.modules.block.C2PSA           [256, 256, 1]                 \n",
            " 11                  -1  1         0  torch.nn.modules.upsampling.Upsample         [None, 2, 'nearest']          \n",
            " 12             [-1, 6]  1         0  ultralytics.nn.modules.conv.Concat           [1]                           \n",
            " 13                  -1  1    111296  ultralytics.nn.modules.block.C3k2            [384, 128, 1, False]          \n",
            " 14                  -1  1         0  torch.nn.modules.upsampling.Upsample         [None, 2, 'nearest']          \n",
            " 15             [-1, 4]  1         0  ultralytics.nn.modules.conv.Concat           [1]                           \n",
            " 16                  -1  1     32096  ultralytics.nn.modules.block.C3k2            [256, 64, 1, False]           \n",
            " 17                  -1  1     36992  ultralytics.nn.modules.conv.Conv             [64, 64, 3, 2]                \n",
            " 18            [-1, 13]  1         0  ultralytics.nn.modules.conv.Concat           [1]                           \n",
            " 19                  -1  1     86720  ultralytics.nn.modules.block.C3k2            [192, 128, 1, False]          \n",
            " 20                  -1  1    147712  ultralytics.nn.modules.conv.Conv             [128, 128, 3, 2]              \n",
            " 21            [-1, 10]  1         0  ultralytics.nn.modules.conv.Concat           [1]                           \n",
            " 22                  -1  1    378880  ultralytics.nn.modules.block.C3k2            [384, 256, 1, True]           \n",
            " 23        [16, 19, 22]  1    683635  ultralytics.nn.modules.head.Segment          [1, 32, 64, [64, 128, 256]]   \n",
            "YOLO11n-seg summary: 203 layers, 2,842,803 parameters, 2,842,787 gradients, 10.4 GFLOPs\n",
            "\n",
            "Transferred 510/561 items from pretrained weights\n",
            "Freezing layer 'model.23.dfl.conv.weight'\n",
            "\u001b[34m\u001b[1mAMP: \u001b[0mrunning Automatic Mixed Precision (AMP) checks...\n",
            "\u001b[34m\u001b[1mAMP: \u001b[0mchecks passed ✅\n",
            "\u001b[34m\u001b[1mtrain: \u001b[0mFast image access ✅ (ping: 0.0±0.0 ms, read: 1190.6±410.3 MB/s, size: 79.1 KB)\n"
          ]
        },
        {
          "output_type": "stream",
          "name": "stderr",
          "text": [
            "\u001b[34m\u001b[1mtrain: \u001b[0mScanning /content/robochess-2/train/labels.cache... 180 images, 0 backgrounds, 0 corrupt: 100%|██████████| 180/180 [00:00<?, ?it/s]"
          ]
        },
        {
          "output_type": "stream",
          "name": "stdout",
          "text": [
            "\u001b[34m\u001b[1malbumentations: \u001b[0mBlur(p=0.01, blur_limit=(3, 7)), MedianBlur(p=0.01, blur_limit=(3, 7)), ToGray(p=0.01, method='weighted_average', num_output_channels=3), CLAHE(p=0.01, clip_limit=(1.0, 4.0), tile_grid_size=(8, 8))\n"
          ]
        },
        {
          "output_type": "stream",
          "name": "stderr",
          "text": [
            "\n"
          ]
        },
        {
          "output_type": "stream",
          "name": "stdout",
          "text": [
            "\u001b[34m\u001b[1mval: \u001b[0mFast image access ✅ (ping: 0.0±0.0 ms, read: 441.6±86.6 MB/s, size: 101.8 KB)\n"
          ]
        },
        {
          "output_type": "stream",
          "name": "stderr",
          "text": [
            "\u001b[34m\u001b[1mval: \u001b[0mScanning /content/robochess-2/valid/labels.cache... 17 images, 0 backgrounds, 0 corrupt: 100%|██████████| 17/17 [00:00<?, ?it/s]\n"
          ]
        },
        {
          "output_type": "stream",
          "name": "stdout",
          "text": [
            "Plotting labels to runs/segment/train/labels.jpg... \n",
            "\u001b[34m\u001b[1moptimizer:\u001b[0m 'optimizer=auto' found, ignoring 'lr0=0.01' and 'momentum=0.937' and determining best 'optimizer', 'lr0' and 'momentum' automatically... \n",
            "\u001b[34m\u001b[1moptimizer:\u001b[0m AdamW(lr=0.002, momentum=0.9) with parameter groups 90 weight(decay=0.0), 101 weight(decay=0.0005), 100 bias(decay=0.0)\n",
            "Image sizes 640 train, 640 val\n",
            "Using 2 dataloader workers\n",
            "Logging results to \u001b[1mruns/segment/train\u001b[0m\n",
            "Starting training for 100 epochs...\n",
            "\n",
            "      Epoch    GPU_mem   box_loss   seg_loss   cls_loss   dfl_loss  Instances       Size\n"
          ]
        },
        {
          "output_type": "stream",
          "name": "stderr",
          "text": [
            "      1/100      2.91G      1.762      4.507      3.057      2.132          8        640: 100%|██████████| 12/12 [00:06<00:00,  1.75it/s]\n",
            "                 Class     Images  Instances      Box(P          R      mAP50  mAP50-95)     Mask(P          R      mAP50  mAP50-95): 100%|██████████| 1/1 [00:00<00:00,  3.04it/s]"
          ]
        },
        {
          "output_type": "stream",
          "name": "stdout",
          "text": [
            "                   all         17         17    0.00333          1      0.585      0.295    0.00333          1      0.677       0.32\n"
          ]
        },
        {
          "output_type": "stream",
          "name": "stderr",
          "text": [
            "\n"
          ]
        },
        {
          "output_type": "stream",
          "name": "stdout",
          "text": [
            "\n",
            "      Epoch    GPU_mem   box_loss   seg_loss   cls_loss   dfl_loss  Instances       Size\n"
          ]
        },
        {
          "output_type": "stream",
          "name": "stderr",
          "text": [
            "      2/100      3.02G     0.7916      1.364      2.167      1.196         10        640: 100%|██████████| 12/12 [00:03<00:00,  3.10it/s]\n",
            "                 Class     Images  Instances      Box(P          R      mAP50  mAP50-95)     Mask(P          R      mAP50  mAP50-95): 100%|██████████| 1/1 [00:00<00:00,  2.93it/s]"
          ]
        },
        {
          "output_type": "stream",
          "name": "stdout",
          "text": [
            "                   all         17         17    0.00333          1      0.941      0.703    0.00333          1      0.941      0.718\n"
          ]
        },
        {
          "output_type": "stream",
          "name": "stderr",
          "text": [
            "\n"
          ]
        },
        {
          "output_type": "stream",
          "name": "stdout",
          "text": [
            "\n",
            "      Epoch    GPU_mem   box_loss   seg_loss   cls_loss   dfl_loss  Instances       Size\n"
          ]
        },
        {
          "output_type": "stream",
          "name": "stderr",
          "text": [
            "      3/100      3.02G     0.6412     0.9062      1.468       1.07         11        640: 100%|██████████| 12/12 [00:03<00:00,  3.08it/s]\n",
            "                 Class     Images  Instances      Box(P          R      mAP50  mAP50-95)     Mask(P          R      mAP50  mAP50-95): 100%|██████████| 1/1 [00:00<00:00,  3.60it/s]"
          ]
        },
        {
          "output_type": "stream",
          "name": "stdout",
          "text": [
            "                   all         17         17    0.00333          1      0.693      0.414    0.00235      0.706      0.475      0.166\n"
          ]
        },
        {
          "output_type": "stream",
          "name": "stderr",
          "text": [
            "\n"
          ]
        },
        {
          "output_type": "stream",
          "name": "stdout",
          "text": [
            "\n",
            "      Epoch    GPU_mem   box_loss   seg_loss   cls_loss   dfl_loss  Instances       Size\n"
          ]
        },
        {
          "output_type": "stream",
          "name": "stderr",
          "text": [
            "      4/100      3.02G     0.6268     0.7057      1.103      1.053          9        640: 100%|██████████| 12/12 [00:04<00:00,  2.45it/s]\n",
            "                 Class     Images  Instances      Box(P          R      mAP50  mAP50-95)     Mask(P          R      mAP50  mAP50-95): 100%|██████████| 1/1 [00:00<00:00,  2.94it/s]"
          ]
        },
        {
          "output_type": "stream",
          "name": "stdout",
          "text": [
            "                   all         17         17    0.00429          1      0.336      0.231    0.00429          1      0.333      0.265\n"
          ]
        },
        {
          "output_type": "stream",
          "name": "stderr",
          "text": [
            "\n"
          ]
        },
        {
          "output_type": "stream",
          "name": "stdout",
          "text": [
            "\n",
            "      Epoch    GPU_mem   box_loss   seg_loss   cls_loss   dfl_loss  Instances       Size\n"
          ]
        },
        {
          "output_type": "stream",
          "name": "stderr",
          "text": [
            "      5/100      3.02G     0.6598     0.6842      1.014      1.052         10        640: 100%|██████████| 12/12 [00:03<00:00,  3.21it/s]\n",
            "                 Class     Images  Instances      Box(P          R      mAP50  mAP50-95)     Mask(P          R      mAP50  mAP50-95): 100%|██████████| 1/1 [00:00<00:00,  2.99it/s]"
          ]
        },
        {
          "output_type": "stream",
          "name": "stdout",
          "text": [
            "                   all         17         17      0.195      0.235      0.287      0.225      0.195      0.235      0.287      0.255\n"
          ]
        },
        {
          "output_type": "stream",
          "name": "stderr",
          "text": [
            "\n"
          ]
        },
        {
          "output_type": "stream",
          "name": "stdout",
          "text": [
            "\n",
            "      Epoch    GPU_mem   box_loss   seg_loss   cls_loss   dfl_loss  Instances       Size\n"
          ]
        },
        {
          "output_type": "stream",
          "name": "stderr",
          "text": [
            "      6/100      3.02G     0.6224     0.6356     0.9593      1.023         12        640: 100%|██████████| 12/12 [00:04<00:00,  2.76it/s]\n",
            "                 Class     Images  Instances      Box(P          R      mAP50  mAP50-95)     Mask(P          R      mAP50  mAP50-95): 100%|██████████| 1/1 [00:00<00:00,  2.02it/s]"
          ]
        },
        {
          "output_type": "stream",
          "name": "stdout",
          "text": [
            "                   all         17         17      0.669      0.832      0.812      0.692      0.669      0.832      0.812      0.796\n"
          ]
        },
        {
          "output_type": "stream",
          "name": "stderr",
          "text": [
            "\n"
          ]
        },
        {
          "output_type": "stream",
          "name": "stdout",
          "text": [
            "\n",
            "      Epoch    GPU_mem   box_loss   seg_loss   cls_loss   dfl_loss  Instances       Size\n"
          ]
        },
        {
          "output_type": "stream",
          "name": "stderr",
          "text": [
            "      7/100      3.02G     0.5947     0.5774     0.8698      1.026         14        640: 100%|██████████| 12/12 [00:04<00:00,  2.73it/s]\n",
            "                 Class     Images  Instances      Box(P          R      mAP50  mAP50-95)     Mask(P          R      mAP50  mAP50-95): 100%|██████████| 1/1 [00:00<00:00,  4.00it/s]"
          ]
        },
        {
          "output_type": "stream",
          "name": "stdout",
          "text": [
            "                   all         17         17      0.848      0.588      0.751      0.452      0.848      0.588      0.671      0.378\n"
          ]
        },
        {
          "output_type": "stream",
          "name": "stderr",
          "text": [
            "\n"
          ]
        },
        {
          "output_type": "stream",
          "name": "stdout",
          "text": [
            "\n",
            "      Epoch    GPU_mem   box_loss   seg_loss   cls_loss   dfl_loss  Instances       Size\n"
          ]
        },
        {
          "output_type": "stream",
          "name": "stderr",
          "text": [
            "      8/100      3.02G     0.6178     0.6514     0.8912      1.024         14        640: 100%|██████████| 12/12 [00:03<00:00,  3.24it/s]\n",
            "                 Class     Images  Instances      Box(P          R      mAP50  mAP50-95)     Mask(P          R      mAP50  mAP50-95): 100%|██████████| 1/1 [00:00<00:00,  3.66it/s]"
          ]
        },
        {
          "output_type": "stream",
          "name": "stdout",
          "text": [
            "                   all         17         17          1       0.98      0.995      0.853          1       0.98      0.995      0.899\n"
          ]
        },
        {
          "output_type": "stream",
          "name": "stderr",
          "text": [
            "\n"
          ]
        },
        {
          "output_type": "stream",
          "name": "stdout",
          "text": [
            "\n",
            "      Epoch    GPU_mem   box_loss   seg_loss   cls_loss   dfl_loss  Instances       Size\n"
          ]
        },
        {
          "output_type": "stream",
          "name": "stderr",
          "text": [
            "      9/100      3.02G     0.6851     0.6383     0.9005      1.057          7        640: 100%|██████████| 12/12 [00:04<00:00,  2.48it/s]\n",
            "                 Class     Images  Instances      Box(P          R      mAP50  mAP50-95)     Mask(P          R      mAP50  mAP50-95): 100%|██████████| 1/1 [00:00<00:00,  3.32it/s]"
          ]
        },
        {
          "output_type": "stream",
          "name": "stdout",
          "text": [
            "                   all         17         17      0.894          1      0.983      0.769      0.894          1      0.983      0.921\n"
          ]
        },
        {
          "output_type": "stream",
          "name": "stderr",
          "text": [
            "\n"
          ]
        },
        {
          "output_type": "stream",
          "name": "stdout",
          "text": [
            "\n",
            "      Epoch    GPU_mem   box_loss   seg_loss   cls_loss   dfl_loss  Instances       Size\n"
          ]
        },
        {
          "output_type": "stream",
          "name": "stderr",
          "text": [
            "     10/100      3.02G     0.5596     0.5423     0.7313      1.001         11        640: 100%|██████████| 12/12 [00:03<00:00,  3.18it/s]\n",
            "                 Class     Images  Instances      Box(P          R      mAP50  mAP50-95)     Mask(P          R      mAP50  mAP50-95): 100%|██████████| 1/1 [00:00<00:00,  3.44it/s]"
          ]
        },
        {
          "output_type": "stream",
          "name": "stdout",
          "text": [
            "                   all         17         17          1      0.994      0.995      0.857      0.989      0.941      0.961      0.936\n"
          ]
        },
        {
          "output_type": "stream",
          "name": "stderr",
          "text": [
            "\n"
          ]
        },
        {
          "output_type": "stream",
          "name": "stdout",
          "text": [
            "\n",
            "      Epoch    GPU_mem   box_loss   seg_loss   cls_loss   dfl_loss  Instances       Size\n"
          ]
        },
        {
          "output_type": "stream",
          "name": "stderr",
          "text": [
            "     11/100      3.02G     0.6308     0.6274     0.7449      1.033          8        640: 100%|██████████| 12/12 [00:03<00:00,  3.06it/s]\n",
            "                 Class     Images  Instances      Box(P          R      mAP50  mAP50-95)     Mask(P          R      mAP50  mAP50-95): 100%|██████████| 1/1 [00:00<00:00,  2.29it/s]"
          ]
        },
        {
          "output_type": "stream",
          "name": "stdout",
          "text": [
            "                   all         17         17      0.944      0.999      0.982      0.827      0.944      0.999      0.982      0.968\n"
          ]
        },
        {
          "output_type": "stream",
          "name": "stderr",
          "text": [
            "\n"
          ]
        },
        {
          "output_type": "stream",
          "name": "stdout",
          "text": [
            "\n",
            "      Epoch    GPU_mem   box_loss   seg_loss   cls_loss   dfl_loss  Instances       Size\n"
          ]
        },
        {
          "output_type": "stream",
          "name": "stderr",
          "text": [
            "     12/100      3.02G      0.578     0.5235     0.6992      1.008          7        640: 100%|██████████| 12/12 [00:04<00:00,  2.84it/s]\n",
            "                 Class     Images  Instances      Box(P          R      mAP50  mAP50-95)     Mask(P          R      mAP50  mAP50-95): 100%|██████████| 1/1 [00:00<00:00,  3.34it/s]"
          ]
        },
        {
          "output_type": "stream",
          "name": "stdout",
          "text": [
            "                   all         17         17      0.999          1      0.995      0.932      0.999          1      0.995      0.893\n"
          ]
        },
        {
          "output_type": "stream",
          "name": "stderr",
          "text": [
            "\n"
          ]
        },
        {
          "output_type": "stream",
          "name": "stdout",
          "text": [
            "\n",
            "      Epoch    GPU_mem   box_loss   seg_loss   cls_loss   dfl_loss  Instances       Size\n"
          ]
        },
        {
          "output_type": "stream",
          "name": "stderr",
          "text": [
            "     13/100      3.02G     0.5541      0.528     0.6507     0.9989         11        640: 100%|██████████| 12/12 [00:03<00:00,  3.19it/s]\n",
            "                 Class     Images  Instances      Box(P          R      mAP50  mAP50-95)     Mask(P          R      mAP50  mAP50-95): 100%|██████████| 1/1 [00:00<00:00,  3.77it/s]"
          ]
        },
        {
          "output_type": "stream",
          "name": "stdout",
          "text": [
            "                   all         17         17      0.995          1      0.995      0.839      0.936      0.941      0.931      0.719\n"
          ]
        },
        {
          "output_type": "stream",
          "name": "stderr",
          "text": [
            "\n"
          ]
        },
        {
          "output_type": "stream",
          "name": "stdout",
          "text": [
            "\n",
            "      Epoch    GPU_mem   box_loss   seg_loss   cls_loss   dfl_loss  Instances       Size\n"
          ]
        },
        {
          "output_type": "stream",
          "name": "stderr",
          "text": [
            "     14/100      3.02G     0.5908     0.5556     0.6416      1.011         10        640: 100%|██████████| 12/12 [00:04<00:00,  2.67it/s]\n",
            "                 Class     Images  Instances      Box(P          R      mAP50  mAP50-95)     Mask(P          R      mAP50  mAP50-95): 100%|██████████| 1/1 [00:00<00:00,  1.78it/s]"
          ]
        },
        {
          "output_type": "stream",
          "name": "stdout",
          "text": [
            "                   all         17         17       0.94          1      0.992      0.895       0.94          1      0.992      0.938\n"
          ]
        },
        {
          "output_type": "stream",
          "name": "stderr",
          "text": [
            "\n"
          ]
        },
        {
          "output_type": "stream",
          "name": "stdout",
          "text": [
            "\n",
            "      Epoch    GPU_mem   box_loss   seg_loss   cls_loss   dfl_loss  Instances       Size\n"
          ]
        },
        {
          "output_type": "stream",
          "name": "stderr",
          "text": [
            "     15/100      3.02G      0.562     0.5178     0.6256      1.008         10        640: 100%|██████████| 12/12 [00:03<00:00,  3.19it/s]\n",
            "                 Class     Images  Instances      Box(P          R      mAP50  mAP50-95)     Mask(P          R      mAP50  mAP50-95): 100%|██████████| 1/1 [00:00<00:00,  3.85it/s]"
          ]
        },
        {
          "output_type": "stream",
          "name": "stdout",
          "text": [
            "                   all         17         17      0.931          1      0.989      0.856      0.931          1      0.989      0.954\n"
          ]
        },
        {
          "output_type": "stream",
          "name": "stderr",
          "text": [
            "\n"
          ]
        },
        {
          "output_type": "stream",
          "name": "stdout",
          "text": [
            "\n",
            "      Epoch    GPU_mem   box_loss   seg_loss   cls_loss   dfl_loss  Instances       Size\n"
          ]
        },
        {
          "output_type": "stream",
          "name": "stderr",
          "text": [
            "     16/100      3.02G     0.5441     0.5019     0.5777      1.002         11        640: 100%|██████████| 12/12 [00:03<00:00,  3.17it/s]\n",
            "                 Class     Images  Instances      Box(P          R      mAP50  mAP50-95)     Mask(P          R      mAP50  mAP50-95): 100%|██████████| 1/1 [00:00<00:00,  3.51it/s]"
          ]
        },
        {
          "output_type": "stream",
          "name": "stdout",
          "text": [
            "                   all         17         17      0.994          1      0.995      0.878      0.994          1      0.995      0.976\n"
          ]
        },
        {
          "output_type": "stream",
          "name": "stderr",
          "text": [
            "\n"
          ]
        },
        {
          "output_type": "stream",
          "name": "stdout",
          "text": [
            "\n",
            "      Epoch    GPU_mem   box_loss   seg_loss   cls_loss   dfl_loss  Instances       Size\n"
          ]
        },
        {
          "output_type": "stream",
          "name": "stderr",
          "text": [
            "     17/100      3.02G     0.5389     0.4705     0.5846     0.9909          9        640: 100%|██████████| 12/12 [00:04<00:00,  2.45it/s]\n",
            "                 Class     Images  Instances      Box(P          R      mAP50  mAP50-95)     Mask(P          R      mAP50  mAP50-95): 100%|██████████| 1/1 [00:00<00:00,  3.84it/s]"
          ]
        },
        {
          "output_type": "stream",
          "name": "stdout",
          "text": [
            "                   all         17         17      0.985          1      0.995      0.912      0.985          1      0.995      0.976\n"
          ]
        },
        {
          "output_type": "stream",
          "name": "stderr",
          "text": [
            "\n"
          ]
        },
        {
          "output_type": "stream",
          "name": "stdout",
          "text": [
            "\n",
            "      Epoch    GPU_mem   box_loss   seg_loss   cls_loss   dfl_loss  Instances       Size\n"
          ]
        },
        {
          "output_type": "stream",
          "name": "stderr",
          "text": [
            "     18/100      3.02G      0.553     0.5143     0.5859     0.9993          6        640: 100%|██████████| 12/12 [00:03<00:00,  3.14it/s]\n",
            "                 Class     Images  Instances      Box(P          R      mAP50  mAP50-95)     Mask(P          R      mAP50  mAP50-95): 100%|██████████| 1/1 [00:00<00:00,  3.74it/s]"
          ]
        },
        {
          "output_type": "stream",
          "name": "stdout",
          "text": [
            "                   all         17         17      0.977          1      0.995      0.899      0.977          1      0.995      0.983\n"
          ]
        },
        {
          "output_type": "stream",
          "name": "stderr",
          "text": [
            "\n"
          ]
        },
        {
          "output_type": "stream",
          "name": "stdout",
          "text": [
            "\n",
            "      Epoch    GPU_mem   box_loss   seg_loss   cls_loss   dfl_loss  Instances       Size\n"
          ]
        },
        {
          "output_type": "stream",
          "name": "stderr",
          "text": [
            "     19/100      3.02G      0.513     0.4952     0.5195     0.9851         12        640: 100%|██████████| 12/12 [00:03<00:00,  3.13it/s]\n",
            "                 Class     Images  Instances      Box(P          R      mAP50  mAP50-95)     Mask(P          R      mAP50  mAP50-95): 100%|██████████| 1/1 [00:00<00:00,  2.21it/s]"
          ]
        },
        {
          "output_type": "stream",
          "name": "stdout",
          "text": [
            "                   all         17         17      0.996          1      0.995      0.927      0.996          1      0.995      0.995\n"
          ]
        },
        {
          "output_type": "stream",
          "name": "stderr",
          "text": [
            "\n"
          ]
        },
        {
          "output_type": "stream",
          "name": "stdout",
          "text": [
            "\n",
            "      Epoch    GPU_mem   box_loss   seg_loss   cls_loss   dfl_loss  Instances       Size\n"
          ]
        },
        {
          "output_type": "stream",
          "name": "stderr",
          "text": [
            "     20/100      3.02G      0.495     0.4323     0.4848     0.9648         11        640: 100%|██████████| 12/12 [00:04<00:00,  2.84it/s]\n",
            "                 Class     Images  Instances      Box(P          R      mAP50  mAP50-95)     Mask(P          R      mAP50  mAP50-95): 100%|██████████| 1/1 [00:00<00:00,  3.23it/s]"
          ]
        },
        {
          "output_type": "stream",
          "name": "stdout",
          "text": [
            "                   all         17         17      0.965          1      0.995      0.931      0.965          1      0.995      0.989\n"
          ]
        },
        {
          "output_type": "stream",
          "name": "stderr",
          "text": [
            "\n"
          ]
        },
        {
          "output_type": "stream",
          "name": "stdout",
          "text": [
            "\n",
            "      Epoch    GPU_mem   box_loss   seg_loss   cls_loss   dfl_loss  Instances       Size\n"
          ]
        },
        {
          "output_type": "stream",
          "name": "stderr",
          "text": [
            "     21/100      3.02G     0.5144     0.4533     0.5557     0.9923          5        640: 100%|██████████| 12/12 [00:03<00:00,  3.21it/s]\n",
            "                 Class     Images  Instances      Box(P          R      mAP50  mAP50-95)     Mask(P          R      mAP50  mAP50-95): 100%|██████████| 1/1 [00:00<00:00,  3.87it/s]"
          ]
        },
        {
          "output_type": "stream",
          "name": "stdout",
          "text": [
            "                   all         17         17      0.969          1      0.995      0.932      0.969          1      0.995       0.99\n"
          ]
        },
        {
          "output_type": "stream",
          "name": "stderr",
          "text": [
            "\n"
          ]
        },
        {
          "output_type": "stream",
          "name": "stdout",
          "text": [
            "\n",
            "      Epoch    GPU_mem   box_loss   seg_loss   cls_loss   dfl_loss  Instances       Size\n"
          ]
        },
        {
          "output_type": "stream",
          "name": "stderr",
          "text": [
            "     22/100      3.02G     0.5352     0.4832      0.527      1.009         10        640: 100%|██████████| 12/12 [00:04<00:00,  2.61it/s]\n",
            "                 Class     Images  Instances      Box(P          R      mAP50  mAP50-95)     Mask(P          R      mAP50  mAP50-95): 100%|██████████| 1/1 [00:00<00:00,  2.60it/s]"
          ]
        },
        {
          "output_type": "stream",
          "name": "stdout",
          "text": [
            "                   all         17         17      0.994          1      0.995      0.945      0.994          1      0.995      0.995\n"
          ]
        },
        {
          "output_type": "stream",
          "name": "stderr",
          "text": [
            "\n"
          ]
        },
        {
          "output_type": "stream",
          "name": "stdout",
          "text": [
            "\n",
            "      Epoch    GPU_mem   box_loss   seg_loss   cls_loss   dfl_loss  Instances       Size\n"
          ]
        },
        {
          "output_type": "stream",
          "name": "stderr",
          "text": [
            "     23/100      3.02G      0.526     0.4909     0.5028     0.9945          9        640: 100%|██████████| 12/12 [00:03<00:00,  3.19it/s]\n",
            "                 Class     Images  Instances      Box(P          R      mAP50  mAP50-95)     Mask(P          R      mAP50  mAP50-95): 100%|██████████| 1/1 [00:00<00:00,  4.11it/s]"
          ]
        },
        {
          "output_type": "stream",
          "name": "stdout",
          "text": [
            "                   all         17         17      0.992          1      0.995       0.92      0.992          1      0.995      0.983\n"
          ]
        },
        {
          "output_type": "stream",
          "name": "stderr",
          "text": [
            "\n"
          ]
        },
        {
          "output_type": "stream",
          "name": "stdout",
          "text": [
            "\n",
            "      Epoch    GPU_mem   box_loss   seg_loss   cls_loss   dfl_loss  Instances       Size\n"
          ]
        },
        {
          "output_type": "stream",
          "name": "stderr",
          "text": [
            "     24/100      3.02G     0.4549      0.391     0.4555     0.9621         10        640: 100%|██████████| 12/12 [00:03<00:00,  3.20it/s]\n",
            "                 Class     Images  Instances      Box(P          R      mAP50  mAP50-95)     Mask(P          R      mAP50  mAP50-95): 100%|██████████| 1/1 [00:00<00:00,  3.97it/s]"
          ]
        },
        {
          "output_type": "stream",
          "name": "stdout",
          "text": [
            "                   all         17         17      0.995          1      0.995      0.929      0.995          1      0.995      0.995\n"
          ]
        },
        {
          "output_type": "stream",
          "name": "stderr",
          "text": [
            "\n"
          ]
        },
        {
          "output_type": "stream",
          "name": "stdout",
          "text": [
            "\n",
            "      Epoch    GPU_mem   box_loss   seg_loss   cls_loss   dfl_loss  Instances       Size\n"
          ]
        },
        {
          "output_type": "stream",
          "name": "stderr",
          "text": [
            "     25/100      3.02G     0.4623     0.4676     0.4411     0.9364         12        640: 100%|██████████| 12/12 [00:04<00:00,  2.54it/s]\n",
            "                 Class     Images  Instances      Box(P          R      mAP50  mAP50-95)     Mask(P          R      mAP50  mAP50-95): 100%|██████████| 1/1 [00:00<00:00,  3.75it/s]"
          ]
        },
        {
          "output_type": "stream",
          "name": "stdout",
          "text": [
            "                   all         17         17      0.997          1      0.995      0.942      0.997          1      0.995      0.995\n"
          ]
        },
        {
          "output_type": "stream",
          "name": "stderr",
          "text": [
            "\n"
          ]
        },
        {
          "output_type": "stream",
          "name": "stdout",
          "text": [
            "\n",
            "      Epoch    GPU_mem   box_loss   seg_loss   cls_loss   dfl_loss  Instances       Size\n"
          ]
        },
        {
          "output_type": "stream",
          "name": "stderr",
          "text": [
            "     26/100      3.02G     0.4762     0.4267     0.4548      0.951          8        640: 100%|██████████| 12/12 [00:03<00:00,  3.15it/s]\n",
            "                 Class     Images  Instances      Box(P          R      mAP50  mAP50-95)     Mask(P          R      mAP50  mAP50-95): 100%|██████████| 1/1 [00:00<00:00,  3.57it/s]"
          ]
        },
        {
          "output_type": "stream",
          "name": "stdout",
          "text": [
            "                   all         17         17      0.943          1      0.995      0.923      0.943          1      0.995      0.981\n"
          ]
        },
        {
          "output_type": "stream",
          "name": "stderr",
          "text": [
            "\n"
          ]
        },
        {
          "output_type": "stream",
          "name": "stdout",
          "text": [
            "\n",
            "      Epoch    GPU_mem   box_loss   seg_loss   cls_loss   dfl_loss  Instances       Size\n"
          ]
        },
        {
          "output_type": "stream",
          "name": "stderr",
          "text": [
            "     27/100      3.02G     0.4273     0.4262     0.4347     0.9422          9        640: 100%|██████████| 12/12 [00:03<00:00,  3.17it/s]\n",
            "                 Class     Images  Instances      Box(P          R      mAP50  mAP50-95)     Mask(P          R      mAP50  mAP50-95): 100%|██████████| 1/1 [00:00<00:00,  2.06it/s]"
          ]
        },
        {
          "output_type": "stream",
          "name": "stdout",
          "text": [
            "                   all         17         17      0.996          1      0.995      0.968      0.996          1      0.995      0.995\n"
          ]
        },
        {
          "output_type": "stream",
          "name": "stderr",
          "text": [
            "\n"
          ]
        },
        {
          "output_type": "stream",
          "name": "stdout",
          "text": [
            "\n",
            "      Epoch    GPU_mem   box_loss   seg_loss   cls_loss   dfl_loss  Instances       Size\n"
          ]
        },
        {
          "output_type": "stream",
          "name": "stderr",
          "text": [
            "     28/100      3.02G      0.456     0.4121     0.4307       0.94         10        640: 100%|██████████| 12/12 [00:04<00:00,  2.76it/s]\n",
            "                 Class     Images  Instances      Box(P          R      mAP50  mAP50-95)     Mask(P          R      mAP50  mAP50-95): 100%|██████████| 1/1 [00:00<00:00,  3.60it/s]"
          ]
        },
        {
          "output_type": "stream",
          "name": "stdout",
          "text": [
            "                   all         17         17      0.994          1      0.995      0.904      0.994          1      0.995      0.988\n"
          ]
        },
        {
          "output_type": "stream",
          "name": "stderr",
          "text": [
            "\n"
          ]
        },
        {
          "output_type": "stream",
          "name": "stdout",
          "text": [
            "\n",
            "      Epoch    GPU_mem   box_loss   seg_loss   cls_loss   dfl_loss  Instances       Size\n"
          ]
        },
        {
          "output_type": "stream",
          "name": "stderr",
          "text": [
            "     29/100      3.02G     0.4414     0.4224     0.4155     0.9489          8        640: 100%|██████████| 12/12 [00:03<00:00,  3.26it/s]\n",
            "                 Class     Images  Instances      Box(P          R      mAP50  mAP50-95)     Mask(P          R      mAP50  mAP50-95): 100%|██████████| 1/1 [00:00<00:00,  3.92it/s]"
          ]
        },
        {
          "output_type": "stream",
          "name": "stdout",
          "text": [
            "                   all         17         17      0.995          1      0.995      0.928      0.995          1      0.995      0.995\n"
          ]
        },
        {
          "output_type": "stream",
          "name": "stderr",
          "text": [
            "\n"
          ]
        },
        {
          "output_type": "stream",
          "name": "stdout",
          "text": [
            "\n",
            "      Epoch    GPU_mem   box_loss   seg_loss   cls_loss   dfl_loss  Instances       Size\n"
          ]
        },
        {
          "output_type": "stream",
          "name": "stderr",
          "text": [
            "     30/100      3.02G     0.4352     0.3936     0.3959     0.9429          7        640: 100%|██████████| 12/12 [00:04<00:00,  2.63it/s]\n",
            "                 Class     Images  Instances      Box(P          R      mAP50  mAP50-95)     Mask(P          R      mAP50  mAP50-95): 100%|██████████| 1/1 [00:00<00:00,  2.27it/s]"
          ]
        },
        {
          "output_type": "stream",
          "name": "stdout",
          "text": [
            "                   all         17         17      0.995          1      0.995      0.949      0.995          1      0.995      0.995\n"
          ]
        },
        {
          "output_type": "stream",
          "name": "stderr",
          "text": [
            "\n"
          ]
        },
        {
          "output_type": "stream",
          "name": "stdout",
          "text": [
            "\n",
            "      Epoch    GPU_mem   box_loss   seg_loss   cls_loss   dfl_loss  Instances       Size\n"
          ]
        },
        {
          "output_type": "stream",
          "name": "stderr",
          "text": [
            "     31/100      3.02G     0.4259     0.3612     0.3943     0.9395         10        640: 100%|██████████| 12/12 [00:03<00:00,  3.22it/s]\n",
            "                 Class     Images  Instances      Box(P          R      mAP50  mAP50-95)     Mask(P          R      mAP50  mAP50-95): 100%|██████████| 1/1 [00:00<00:00,  3.68it/s]"
          ]
        },
        {
          "output_type": "stream",
          "name": "stdout",
          "text": [
            "                   all         17         17      0.996          1      0.995      0.954      0.996          1      0.995      0.995\n"
          ]
        },
        {
          "output_type": "stream",
          "name": "stderr",
          "text": [
            "\n"
          ]
        },
        {
          "output_type": "stream",
          "name": "stdout",
          "text": [
            "\n",
            "      Epoch    GPU_mem   box_loss   seg_loss   cls_loss   dfl_loss  Instances       Size\n"
          ]
        },
        {
          "output_type": "stream",
          "name": "stderr",
          "text": [
            "     32/100      3.02G     0.4237     0.3728     0.3984     0.9481          7        640: 100%|██████████| 12/12 [00:03<00:00,  3.23it/s]\n",
            "                 Class     Images  Instances      Box(P          R      mAP50  mAP50-95)     Mask(P          R      mAP50  mAP50-95): 100%|██████████| 1/1 [00:00<00:00,  3.97it/s]"
          ]
        },
        {
          "output_type": "stream",
          "name": "stdout",
          "text": [
            "                   all         17         17      0.996          1      0.995      0.915      0.996          1      0.995      0.995\n"
          ]
        },
        {
          "output_type": "stream",
          "name": "stderr",
          "text": [
            "\n"
          ]
        },
        {
          "output_type": "stream",
          "name": "stdout",
          "text": [
            "\n",
            "      Epoch    GPU_mem   box_loss   seg_loss   cls_loss   dfl_loss  Instances       Size\n"
          ]
        },
        {
          "output_type": "stream",
          "name": "stderr",
          "text": [
            "     33/100      3.02G     0.4159       0.37     0.3863     0.9471         10        640: 100%|██████████| 12/12 [00:04<00:00,  2.56it/s]\n",
            "                 Class     Images  Instances      Box(P          R      mAP50  mAP50-95)     Mask(P          R      mAP50  mAP50-95): 100%|██████████| 1/1 [00:00<00:00,  3.50it/s]"
          ]
        },
        {
          "output_type": "stream",
          "name": "stdout",
          "text": [
            "                   all         17         17      0.995          1      0.995      0.943      0.995          1      0.995      0.995\n"
          ]
        },
        {
          "output_type": "stream",
          "name": "stderr",
          "text": [
            "\n"
          ]
        },
        {
          "output_type": "stream",
          "name": "stdout",
          "text": [
            "\n",
            "      Epoch    GPU_mem   box_loss   seg_loss   cls_loss   dfl_loss  Instances       Size\n"
          ]
        },
        {
          "output_type": "stream",
          "name": "stderr",
          "text": [
            "     34/100      3.02G     0.4011     0.3816     0.3748     0.9243          7        640: 100%|██████████| 12/12 [00:03<00:00,  3.20it/s]\n",
            "                 Class     Images  Instances      Box(P          R      mAP50  mAP50-95)     Mask(P          R      mAP50  mAP50-95): 100%|██████████| 1/1 [00:00<00:00,  3.64it/s]"
          ]
        },
        {
          "output_type": "stream",
          "name": "stdout",
          "text": [
            "                   all         17         17      0.995          1      0.995      0.946      0.995          1      0.995      0.995\n"
          ]
        },
        {
          "output_type": "stream",
          "name": "stderr",
          "text": [
            "\n"
          ]
        },
        {
          "output_type": "stream",
          "name": "stdout",
          "text": [
            "\n",
            "      Epoch    GPU_mem   box_loss   seg_loss   cls_loss   dfl_loss  Instances       Size\n"
          ]
        },
        {
          "output_type": "stream",
          "name": "stderr",
          "text": [
            "     35/100      3.02G     0.4247     0.3773     0.3744     0.9444          5        640: 100%|██████████| 12/12 [00:03<00:00,  3.21it/s]\n",
            "                 Class     Images  Instances      Box(P          R      mAP50  mAP50-95)     Mask(P          R      mAP50  mAP50-95): 100%|██████████| 1/1 [00:00<00:00,  3.69it/s]"
          ]
        },
        {
          "output_type": "stream",
          "name": "stdout",
          "text": [
            "                   all         17         17      0.997          1      0.995      0.967      0.997          1      0.995      0.995\n"
          ]
        },
        {
          "output_type": "stream",
          "name": "stderr",
          "text": [
            "\n"
          ]
        },
        {
          "output_type": "stream",
          "name": "stdout",
          "text": [
            "\n",
            "      Epoch    GPU_mem   box_loss   seg_loss   cls_loss   dfl_loss  Instances       Size\n"
          ]
        },
        {
          "output_type": "stream",
          "name": "stderr",
          "text": [
            "     36/100      3.02G     0.4339     0.4178     0.3754      0.938         10        640: 100%|██████████| 12/12 [00:04<00:00,  2.70it/s]\n",
            "                 Class     Images  Instances      Box(P          R      mAP50  mAP50-95)     Mask(P          R      mAP50  mAP50-95): 100%|██████████| 1/1 [00:00<00:00,  4.20it/s]"
          ]
        },
        {
          "output_type": "stream",
          "name": "stdout",
          "text": [
            "                   all         17         17      0.997          1      0.995      0.988      0.997          1      0.995      0.995\n"
          ]
        },
        {
          "output_type": "stream",
          "name": "stderr",
          "text": [
            "\n"
          ]
        },
        {
          "output_type": "stream",
          "name": "stdout",
          "text": [
            "\n",
            "      Epoch    GPU_mem   box_loss   seg_loss   cls_loss   dfl_loss  Instances       Size\n"
          ]
        },
        {
          "output_type": "stream",
          "name": "stderr",
          "text": [
            "     37/100      3.02G     0.4168     0.3966     0.3739     0.9384         12        640: 100%|██████████| 12/12 [00:03<00:00,  3.25it/s]\n",
            "                 Class     Images  Instances      Box(P          R      mAP50  mAP50-95)     Mask(P          R      mAP50  mAP50-95): 100%|██████████| 1/1 [00:00<00:00,  3.45it/s]"
          ]
        },
        {
          "output_type": "stream",
          "name": "stdout",
          "text": [
            "                   all         17         17      0.995          1      0.995       0.96      0.995          1      0.995      0.995\n"
          ]
        },
        {
          "output_type": "stream",
          "name": "stderr",
          "text": [
            "\n"
          ]
        },
        {
          "output_type": "stream",
          "name": "stdout",
          "text": [
            "\n",
            "      Epoch    GPU_mem   box_loss   seg_loss   cls_loss   dfl_loss  Instances       Size\n"
          ]
        },
        {
          "output_type": "stream",
          "name": "stderr",
          "text": [
            "     38/100      3.02G     0.4009     0.3648      0.356     0.9331          5        640: 100%|██████████| 12/12 [00:04<00:00,  2.70it/s]\n",
            "                 Class     Images  Instances      Box(P          R      mAP50  mAP50-95)     Mask(P          R      mAP50  mAP50-95): 100%|██████████| 1/1 [00:00<00:00,  2.28it/s]"
          ]
        },
        {
          "output_type": "stream",
          "name": "stdout",
          "text": [
            "                   all         17         17      0.986          1      0.995      0.968      0.986          1      0.995      0.995\n"
          ]
        },
        {
          "output_type": "stream",
          "name": "stderr",
          "text": [
            "\n"
          ]
        },
        {
          "output_type": "stream",
          "name": "stdout",
          "text": [
            "\n",
            "      Epoch    GPU_mem   box_loss   seg_loss   cls_loss   dfl_loss  Instances       Size\n"
          ]
        },
        {
          "output_type": "stream",
          "name": "stderr",
          "text": [
            "     39/100      3.02G     0.4019     0.3837     0.3446     0.9244         12        640: 100%|██████████| 12/12 [00:03<00:00,  3.19it/s]\n",
            "                 Class     Images  Instances      Box(P          R      mAP50  mAP50-95)     Mask(P          R      mAP50  mAP50-95): 100%|██████████| 1/1 [00:00<00:00,  4.24it/s]"
          ]
        },
        {
          "output_type": "stream",
          "name": "stdout",
          "text": [
            "                   all         17         17      0.995          1      0.995      0.947      0.995          1      0.995      0.985\n"
          ]
        },
        {
          "output_type": "stream",
          "name": "stderr",
          "text": [
            "\n"
          ]
        },
        {
          "output_type": "stream",
          "name": "stdout",
          "text": [
            "\n",
            "      Epoch    GPU_mem   box_loss   seg_loss   cls_loss   dfl_loss  Instances       Size\n"
          ]
        },
        {
          "output_type": "stream",
          "name": "stderr",
          "text": [
            "     40/100      3.02G     0.3967     0.3726     0.3504     0.9344          9        640: 100%|██████████| 12/12 [00:03<00:00,  3.19it/s]\n",
            "                 Class     Images  Instances      Box(P          R      mAP50  mAP50-95)     Mask(P          R      mAP50  mAP50-95): 100%|██████████| 1/1 [00:00<00:00,  3.64it/s]"
          ]
        },
        {
          "output_type": "stream",
          "name": "stdout",
          "text": [
            "                   all         17         17      0.996          1      0.995      0.925      0.996          1      0.995      0.995\n"
          ]
        },
        {
          "output_type": "stream",
          "name": "stderr",
          "text": [
            "\n"
          ]
        },
        {
          "output_type": "stream",
          "name": "stdout",
          "text": [
            "\n",
            "      Epoch    GPU_mem   box_loss   seg_loss   cls_loss   dfl_loss  Instances       Size\n"
          ]
        },
        {
          "output_type": "stream",
          "name": "stderr",
          "text": [
            "     41/100      3.02G      0.388      0.399      0.347     0.9157         11        640: 100%|██████████| 12/12 [00:04<00:00,  2.46it/s]\n",
            "                 Class     Images  Instances      Box(P          R      mAP50  mAP50-95)     Mask(P          R      mAP50  mAP50-95): 100%|██████████| 1/1 [00:00<00:00,  3.67it/s]"
          ]
        },
        {
          "output_type": "stream",
          "name": "stdout",
          "text": [
            "                   all         17         17      0.997          1      0.995      0.937      0.997          1      0.995       0.98\n"
          ]
        },
        {
          "output_type": "stream",
          "name": "stderr",
          "text": [
            "\n"
          ]
        },
        {
          "output_type": "stream",
          "name": "stdout",
          "text": [
            "\n",
            "      Epoch    GPU_mem   box_loss   seg_loss   cls_loss   dfl_loss  Instances       Size\n"
          ]
        },
        {
          "output_type": "stream",
          "name": "stderr",
          "text": [
            "     42/100      3.02G     0.4015     0.3689      0.353     0.9427         11        640: 100%|██████████| 12/12 [00:03<00:00,  3.22it/s]\n",
            "                 Class     Images  Instances      Box(P          R      mAP50  mAP50-95)     Mask(P          R      mAP50  mAP50-95): 100%|██████████| 1/1 [00:00<00:00,  3.80it/s]"
          ]
        },
        {
          "output_type": "stream",
          "name": "stdout",
          "text": [
            "                   all         17         17      0.997          1      0.995      0.971      0.997          1      0.995      0.995\n"
          ]
        },
        {
          "output_type": "stream",
          "name": "stderr",
          "text": [
            "\n"
          ]
        },
        {
          "output_type": "stream",
          "name": "stdout",
          "text": [
            "\n",
            "      Epoch    GPU_mem   box_loss   seg_loss   cls_loss   dfl_loss  Instances       Size\n"
          ]
        },
        {
          "output_type": "stream",
          "name": "stderr",
          "text": [
            "     43/100      3.02G     0.3792     0.3472     0.3379     0.9391          7        640: 100%|██████████| 12/12 [00:03<00:00,  3.14it/s]\n",
            "                 Class     Images  Instances      Box(P          R      mAP50  mAP50-95)     Mask(P          R      mAP50  mAP50-95): 100%|██████████| 1/1 [00:00<00:00,  4.31it/s]"
          ]
        },
        {
          "output_type": "stream",
          "name": "stdout",
          "text": [
            "                   all         17         17      0.997          1      0.995      0.975      0.997          1      0.995      0.995\n"
          ]
        },
        {
          "output_type": "stream",
          "name": "stderr",
          "text": [
            "\n"
          ]
        },
        {
          "output_type": "stream",
          "name": "stdout",
          "text": [
            "\n",
            "      Epoch    GPU_mem   box_loss   seg_loss   cls_loss   dfl_loss  Instances       Size\n"
          ]
        },
        {
          "output_type": "stream",
          "name": "stderr",
          "text": [
            "     44/100      3.02G     0.3924     0.3818     0.3425     0.9392         12        640: 100%|██████████| 12/12 [00:04<00:00,  2.63it/s]\n",
            "                 Class     Images  Instances      Box(P          R      mAP50  mAP50-95)     Mask(P          R      mAP50  mAP50-95): 100%|██████████| 1/1 [00:00<00:00,  3.25it/s]"
          ]
        },
        {
          "output_type": "stream",
          "name": "stdout",
          "text": [
            "                   all         17         17      0.991          1      0.995      0.974      0.991          1      0.995      0.995\n"
          ]
        },
        {
          "output_type": "stream",
          "name": "stderr",
          "text": [
            "\n"
          ]
        },
        {
          "output_type": "stream",
          "name": "stdout",
          "text": [
            "\n",
            "      Epoch    GPU_mem   box_loss   seg_loss   cls_loss   dfl_loss  Instances       Size\n"
          ]
        },
        {
          "output_type": "stream",
          "name": "stderr",
          "text": [
            "     45/100      3.02G     0.3605      0.341     0.3184     0.9088         11        640: 100%|██████████| 12/12 [00:03<00:00,  3.23it/s]\n",
            "                 Class     Images  Instances      Box(P          R      mAP50  mAP50-95)     Mask(P          R      mAP50  mAP50-95): 100%|██████████| 1/1 [00:00<00:00,  4.24it/s]"
          ]
        },
        {
          "output_type": "stream",
          "name": "stdout",
          "text": [
            "                   all         17         17      0.997          1      0.995       0.96      0.997          1      0.995      0.995\n"
          ]
        },
        {
          "output_type": "stream",
          "name": "stderr",
          "text": [
            "\n"
          ]
        },
        {
          "output_type": "stream",
          "name": "stdout",
          "text": [
            "\n",
            "      Epoch    GPU_mem   box_loss   seg_loss   cls_loss   dfl_loss  Instances       Size\n"
          ]
        },
        {
          "output_type": "stream",
          "name": "stderr",
          "text": [
            "     46/100      3.02G     0.3678     0.3344     0.3146     0.9295         12        640: 100%|██████████| 12/12 [00:04<00:00,  2.77it/s]\n",
            "                 Class     Images  Instances      Box(P          R      mAP50  mAP50-95)     Mask(P          R      mAP50  mAP50-95): 100%|██████████| 1/1 [00:00<00:00,  2.25it/s]"
          ]
        },
        {
          "output_type": "stream",
          "name": "stdout",
          "text": [
            "                   all         17         17      0.994          1      0.995      0.974      0.994          1      0.995      0.995\n"
          ]
        },
        {
          "output_type": "stream",
          "name": "stderr",
          "text": [
            "\n"
          ]
        },
        {
          "output_type": "stream",
          "name": "stdout",
          "text": [
            "\n",
            "      Epoch    GPU_mem   box_loss   seg_loss   cls_loss   dfl_loss  Instances       Size\n"
          ]
        },
        {
          "output_type": "stream",
          "name": "stderr",
          "text": [
            "     47/100      3.02G     0.3889     0.3971     0.3369     0.9424         12        640: 100%|██████████| 12/12 [00:03<00:00,  3.24it/s]\n",
            "                 Class     Images  Instances      Box(P          R      mAP50  mAP50-95)     Mask(P          R      mAP50  mAP50-95): 100%|██████████| 1/1 [00:00<00:00,  3.54it/s]"
          ]
        },
        {
          "output_type": "stream",
          "name": "stdout",
          "text": [
            "                   all         17         17      0.996          1      0.995      0.954      0.996          1      0.995      0.995\n"
          ]
        },
        {
          "output_type": "stream",
          "name": "stderr",
          "text": [
            "\n"
          ]
        },
        {
          "output_type": "stream",
          "name": "stdout",
          "text": [
            "\n",
            "      Epoch    GPU_mem   box_loss   seg_loss   cls_loss   dfl_loss  Instances       Size\n"
          ]
        },
        {
          "output_type": "stream",
          "name": "stderr",
          "text": [
            "     48/100      3.02G     0.3782     0.3586     0.3193     0.9152          7        640: 100%|██████████| 12/12 [00:03<00:00,  3.19it/s]\n",
            "                 Class     Images  Instances      Box(P          R      mAP50  mAP50-95)     Mask(P          R      mAP50  mAP50-95): 100%|██████████| 1/1 [00:00<00:00,  3.46it/s]"
          ]
        },
        {
          "output_type": "stream",
          "name": "stdout",
          "text": [
            "                   all         17         17      0.994          1      0.995      0.961      0.994          1      0.995      0.995\n"
          ]
        },
        {
          "output_type": "stream",
          "name": "stderr",
          "text": [
            "\n"
          ]
        },
        {
          "output_type": "stream",
          "name": "stdout",
          "text": [
            "\n",
            "      Epoch    GPU_mem   box_loss   seg_loss   cls_loss   dfl_loss  Instances       Size\n"
          ]
        },
        {
          "output_type": "stream",
          "name": "stderr",
          "text": [
            "     49/100      3.02G     0.3751     0.3208     0.3146     0.9349         13        640: 100%|██████████| 12/12 [00:04<00:00,  2.56it/s]\n",
            "                 Class     Images  Instances      Box(P          R      mAP50  mAP50-95)     Mask(P          R      mAP50  mAP50-95): 100%|██████████| 1/1 [00:00<00:00,  2.80it/s]"
          ]
        },
        {
          "output_type": "stream",
          "name": "stdout",
          "text": [
            "                   all         17         17      0.996          1      0.995       0.99      0.996          1      0.995      0.995\n"
          ]
        },
        {
          "output_type": "stream",
          "name": "stderr",
          "text": [
            "\n"
          ]
        },
        {
          "output_type": "stream",
          "name": "stdout",
          "text": [
            "\n",
            "      Epoch    GPU_mem   box_loss   seg_loss   cls_loss   dfl_loss  Instances       Size\n"
          ]
        },
        {
          "output_type": "stream",
          "name": "stderr",
          "text": [
            "     50/100      3.02G     0.3751     0.3468      0.313     0.9145          9        640: 100%|██████████| 12/12 [00:03<00:00,  3.04it/s]\n",
            "                 Class     Images  Instances      Box(P          R      mAP50  mAP50-95)     Mask(P          R      mAP50  mAP50-95): 100%|██████████| 1/1 [00:00<00:00,  4.32it/s]"
          ]
        },
        {
          "output_type": "stream",
          "name": "stdout",
          "text": [
            "                   all         17         17      0.992          1      0.995      0.986      0.992          1      0.995      0.995\n"
          ]
        },
        {
          "output_type": "stream",
          "name": "stderr",
          "text": [
            "\n"
          ]
        },
        {
          "output_type": "stream",
          "name": "stdout",
          "text": [
            "\n",
            "      Epoch    GPU_mem   box_loss   seg_loss   cls_loss   dfl_loss  Instances       Size\n"
          ]
        },
        {
          "output_type": "stream",
          "name": "stderr",
          "text": [
            "     51/100      3.02G     0.3499      0.316     0.3051     0.9231          9        640: 100%|██████████| 12/12 [00:03<00:00,  3.23it/s]\n",
            "                 Class     Images  Instances      Box(P          R      mAP50  mAP50-95)     Mask(P          R      mAP50  mAP50-95): 100%|██████████| 1/1 [00:00<00:00,  3.46it/s]"
          ]
        },
        {
          "output_type": "stream",
          "name": "stdout",
          "text": [
            "                   all         17         17      0.997          1      0.995      0.988      0.997          1      0.995      0.995\n"
          ]
        },
        {
          "output_type": "stream",
          "name": "stderr",
          "text": [
            "\n"
          ]
        },
        {
          "output_type": "stream",
          "name": "stdout",
          "text": [
            "\n",
            "      Epoch    GPU_mem   box_loss   seg_loss   cls_loss   dfl_loss  Instances       Size\n"
          ]
        },
        {
          "output_type": "stream",
          "name": "stderr",
          "text": [
            "     52/100      3.02G     0.3577      0.359     0.3005     0.9184         13        640: 100%|██████████| 12/12 [00:04<00:00,  2.57it/s]\n",
            "                 Class     Images  Instances      Box(P          R      mAP50  mAP50-95)     Mask(P          R      mAP50  mAP50-95): 100%|██████████| 1/1 [00:00<00:00,  3.57it/s]"
          ]
        },
        {
          "output_type": "stream",
          "name": "stdout",
          "text": [
            "                   all         17         17      0.997          1      0.995      0.955      0.997          1      0.995      0.995\n"
          ]
        },
        {
          "output_type": "stream",
          "name": "stderr",
          "text": [
            "\n"
          ]
        },
        {
          "output_type": "stream",
          "name": "stdout",
          "text": [
            "\n",
            "      Epoch    GPU_mem   box_loss   seg_loss   cls_loss   dfl_loss  Instances       Size\n"
          ]
        },
        {
          "output_type": "stream",
          "name": "stderr",
          "text": [
            "     53/100      3.02G      0.348     0.3219     0.2976     0.9349          9        640: 100%|██████████| 12/12 [00:03<00:00,  3.21it/s]\n",
            "                 Class     Images  Instances      Box(P          R      mAP50  mAP50-95)     Mask(P          R      mAP50  mAP50-95): 100%|██████████| 1/1 [00:00<00:00,  3.67it/s]"
          ]
        },
        {
          "output_type": "stream",
          "name": "stdout",
          "text": [
            "                   all         17         17      0.997          1      0.995      0.989      0.997          1      0.995      0.995\n"
          ]
        },
        {
          "output_type": "stream",
          "name": "stderr",
          "text": [
            "\n"
          ]
        },
        {
          "output_type": "stream",
          "name": "stdout",
          "text": [
            "\n",
            "      Epoch    GPU_mem   box_loss   seg_loss   cls_loss   dfl_loss  Instances       Size\n"
          ]
        },
        {
          "output_type": "stream",
          "name": "stderr",
          "text": [
            "     54/100      3.02G     0.3609     0.3446     0.3014     0.9221          9        640: 100%|██████████| 12/12 [00:04<00:00,  2.88it/s]\n",
            "                 Class     Images  Instances      Box(P          R      mAP50  mAP50-95)     Mask(P          R      mAP50  mAP50-95): 100%|██████████| 1/1 [00:00<00:00,  2.00it/s]"
          ]
        },
        {
          "output_type": "stream",
          "name": "stdout",
          "text": [
            "                   all         17         17      0.997          1      0.995      0.982      0.997          1      0.995      0.995\n"
          ]
        },
        {
          "output_type": "stream",
          "name": "stderr",
          "text": [
            "\n"
          ]
        },
        {
          "output_type": "stream",
          "name": "stdout",
          "text": [
            "\n",
            "      Epoch    GPU_mem   box_loss   seg_loss   cls_loss   dfl_loss  Instances       Size\n"
          ]
        },
        {
          "output_type": "stream",
          "name": "stderr",
          "text": [
            "     55/100      3.02G     0.3607     0.3673     0.3192     0.9305          5        640: 100%|██████████| 12/12 [00:03<00:00,  3.21it/s]\n",
            "                 Class     Images  Instances      Box(P          R      mAP50  mAP50-95)     Mask(P          R      mAP50  mAP50-95): 100%|██████████| 1/1 [00:00<00:00,  3.15it/s]"
          ]
        },
        {
          "output_type": "stream",
          "name": "stdout",
          "text": [
            "                   all         17         17      0.996          1      0.995       0.99      0.996          1      0.995      0.995\n"
          ]
        },
        {
          "output_type": "stream",
          "name": "stderr",
          "text": [
            "\n"
          ]
        },
        {
          "output_type": "stream",
          "name": "stdout",
          "text": [
            "\n",
            "      Epoch    GPU_mem   box_loss   seg_loss   cls_loss   dfl_loss  Instances       Size\n"
          ]
        },
        {
          "output_type": "stream",
          "name": "stderr",
          "text": [
            "     56/100      3.02G     0.3653     0.3999     0.3112     0.9259         10        640: 100%|██████████| 12/12 [00:03<00:00,  3.17it/s]\n",
            "                 Class     Images  Instances      Box(P          R      mAP50  mAP50-95)     Mask(P          R      mAP50  mAP50-95): 100%|██████████| 1/1 [00:00<00:00,  4.15it/s]"
          ]
        },
        {
          "output_type": "stream",
          "name": "stdout",
          "text": [
            "                   all         17         17      0.995          1      0.995      0.987      0.995          1      0.995      0.995\n"
          ]
        },
        {
          "output_type": "stream",
          "name": "stderr",
          "text": [
            "\n"
          ]
        },
        {
          "output_type": "stream",
          "name": "stdout",
          "text": [
            "\n",
            "      Epoch    GPU_mem   box_loss   seg_loss   cls_loss   dfl_loss  Instances       Size\n"
          ]
        },
        {
          "output_type": "stream",
          "name": "stderr",
          "text": [
            "     57/100      3.02G     0.3626     0.3691     0.2998     0.8961         14        640: 100%|██████████| 12/12 [00:04<00:00,  2.47it/s]\n",
            "                 Class     Images  Instances      Box(P          R      mAP50  mAP50-95)     Mask(P          R      mAP50  mAP50-95): 100%|██████████| 1/1 [00:00<00:00,  4.23it/s]"
          ]
        },
        {
          "output_type": "stream",
          "name": "stdout",
          "text": [
            "                   all         17         17      0.997          1      0.995      0.974      0.997          1      0.995      0.995\n"
          ]
        },
        {
          "output_type": "stream",
          "name": "stderr",
          "text": [
            "\n"
          ]
        },
        {
          "output_type": "stream",
          "name": "stdout",
          "text": [
            "\n",
            "      Epoch    GPU_mem   box_loss   seg_loss   cls_loss   dfl_loss  Instances       Size\n"
          ]
        },
        {
          "output_type": "stream",
          "name": "stderr",
          "text": [
            "     58/100      3.02G     0.3411     0.3369     0.2848     0.9051          9        640: 100%|██████████| 12/12 [00:03<00:00,  3.30it/s]\n",
            "                 Class     Images  Instances      Box(P          R      mAP50  mAP50-95)     Mask(P          R      mAP50  mAP50-95): 100%|██████████| 1/1 [00:00<00:00,  2.95it/s]"
          ]
        },
        {
          "output_type": "stream",
          "name": "stdout",
          "text": [
            "                   all         17         17      0.997          1      0.995      0.969      0.997          1      0.995      0.995\n"
          ]
        },
        {
          "output_type": "stream",
          "name": "stderr",
          "text": [
            "\n"
          ]
        },
        {
          "output_type": "stream",
          "name": "stdout",
          "text": [
            "\n",
            "      Epoch    GPU_mem   box_loss   seg_loss   cls_loss   dfl_loss  Instances       Size\n"
          ]
        },
        {
          "output_type": "stream",
          "name": "stderr",
          "text": [
            "     59/100      3.02G     0.3393     0.3173     0.2857     0.9085          7        640: 100%|██████████| 12/12 [00:03<00:00,  3.26it/s]\n",
            "                 Class     Images  Instances      Box(P          R      mAP50  mAP50-95)     Mask(P          R      mAP50  mAP50-95): 100%|██████████| 1/1 [00:00<00:00,  3.12it/s]"
          ]
        },
        {
          "output_type": "stream",
          "name": "stdout",
          "text": [
            "                   all         17         17      0.997          1      0.995      0.976      0.997          1      0.995      0.995\n"
          ]
        },
        {
          "output_type": "stream",
          "name": "stderr",
          "text": [
            "\n"
          ]
        },
        {
          "output_type": "stream",
          "name": "stdout",
          "text": [
            "\n",
            "      Epoch    GPU_mem   box_loss   seg_loss   cls_loss   dfl_loss  Instances       Size\n"
          ]
        },
        {
          "output_type": "stream",
          "name": "stderr",
          "text": [
            "     60/100      3.02G     0.3252      0.335      0.277     0.8995          9        640: 100%|██████████| 12/12 [00:04<00:00,  2.55it/s]\n",
            "                 Class     Images  Instances      Box(P          R      mAP50  mAP50-95)     Mask(P          R      mAP50  mAP50-95): 100%|██████████| 1/1 [00:00<00:00,  3.40it/s]"
          ]
        },
        {
          "output_type": "stream",
          "name": "stdout",
          "text": [
            "                   all         17         17      0.997          1      0.995      0.984      0.997          1      0.995      0.995\n"
          ]
        },
        {
          "output_type": "stream",
          "name": "stderr",
          "text": [
            "\n"
          ]
        },
        {
          "output_type": "stream",
          "name": "stdout",
          "text": [
            "\n",
            "      Epoch    GPU_mem   box_loss   seg_loss   cls_loss   dfl_loss  Instances       Size\n"
          ]
        },
        {
          "output_type": "stream",
          "name": "stderr",
          "text": [
            "     61/100      3.02G     0.3433     0.3067     0.2816     0.9086          8        640: 100%|██████████| 12/12 [00:03<00:00,  3.30it/s]\n",
            "                 Class     Images  Instances      Box(P          R      mAP50  mAP50-95)     Mask(P          R      mAP50  mAP50-95): 100%|██████████| 1/1 [00:00<00:00,  3.52it/s]"
          ]
        },
        {
          "output_type": "stream",
          "name": "stdout",
          "text": [
            "                   all         17         17      0.997          1      0.995      0.982      0.997          1      0.995      0.995\n"
          ]
        },
        {
          "output_type": "stream",
          "name": "stderr",
          "text": [
            "\n"
          ]
        },
        {
          "output_type": "stream",
          "name": "stdout",
          "text": [
            "\n",
            "      Epoch    GPU_mem   box_loss   seg_loss   cls_loss   dfl_loss  Instances       Size\n"
          ]
        },
        {
          "output_type": "stream",
          "name": "stderr",
          "text": [
            "     62/100      3.02G     0.3401      0.311     0.2656     0.9147         11        640: 100%|██████████| 12/12 [00:03<00:00,  3.03it/s]\n",
            "                 Class     Images  Instances      Box(P          R      mAP50  mAP50-95)     Mask(P          R      mAP50  mAP50-95): 100%|██████████| 1/1 [00:00<00:00,  2.80it/s]"
          ]
        },
        {
          "output_type": "stream",
          "name": "stdout",
          "text": [
            "                   all         17         17      0.996          1      0.995      0.978      0.996          1      0.995      0.995\n"
          ]
        },
        {
          "output_type": "stream",
          "name": "stderr",
          "text": [
            "\n"
          ]
        },
        {
          "output_type": "stream",
          "name": "stdout",
          "text": [
            "\n",
            "      Epoch    GPU_mem   box_loss   seg_loss   cls_loss   dfl_loss  Instances       Size\n"
          ]
        },
        {
          "output_type": "stream",
          "name": "stderr",
          "text": [
            "     63/100      3.02G     0.3404     0.3505     0.2919     0.9224          5        640: 100%|██████████| 12/12 [00:04<00:00,  2.85it/s]\n",
            "                 Class     Images  Instances      Box(P          R      mAP50  mAP50-95)     Mask(P          R      mAP50  mAP50-95): 100%|██████████| 1/1 [00:00<00:00,  3.78it/s]"
          ]
        },
        {
          "output_type": "stream",
          "name": "stdout",
          "text": [
            "                   all         17         17      0.997          1      0.995      0.995      0.997          1      0.995      0.995\n"
          ]
        },
        {
          "output_type": "stream",
          "name": "stderr",
          "text": [
            "\n"
          ]
        },
        {
          "output_type": "stream",
          "name": "stdout",
          "text": [
            "\n",
            "      Epoch    GPU_mem   box_loss   seg_loss   cls_loss   dfl_loss  Instances       Size\n"
          ]
        },
        {
          "output_type": "stream",
          "name": "stderr",
          "text": [
            "     64/100      3.02G     0.3216     0.3133     0.2671     0.8933         10        640: 100%|██████████| 12/12 [00:03<00:00,  3.04it/s]\n",
            "                 Class     Images  Instances      Box(P          R      mAP50  mAP50-95)     Mask(P          R      mAP50  mAP50-95): 100%|██████████| 1/1 [00:00<00:00,  4.07it/s]"
          ]
        },
        {
          "output_type": "stream",
          "name": "stdout",
          "text": [
            "                   all         17         17      0.997          1      0.995      0.989      0.997          1      0.995      0.995\n"
          ]
        },
        {
          "output_type": "stream",
          "name": "stderr",
          "text": [
            "\n"
          ]
        },
        {
          "output_type": "stream",
          "name": "stdout",
          "text": [
            "\n",
            "      Epoch    GPU_mem   box_loss   seg_loss   cls_loss   dfl_loss  Instances       Size\n"
          ]
        },
        {
          "output_type": "stream",
          "name": "stderr",
          "text": [
            "     65/100      3.02G     0.3197     0.3015     0.2852     0.9104         12        640: 100%|██████████| 12/12 [00:04<00:00,  2.55it/s]\n",
            "                 Class     Images  Instances      Box(P          R      mAP50  mAP50-95)     Mask(P          R      mAP50  mAP50-95): 100%|██████████| 1/1 [00:00<00:00,  3.75it/s]"
          ]
        },
        {
          "output_type": "stream",
          "name": "stdout",
          "text": [
            "                   all         17         17      0.997          1      0.995      0.995      0.997          1      0.995      0.995\n"
          ]
        },
        {
          "output_type": "stream",
          "name": "stderr",
          "text": [
            "\n"
          ]
        },
        {
          "output_type": "stream",
          "name": "stdout",
          "text": [
            "\n",
            "      Epoch    GPU_mem   box_loss   seg_loss   cls_loss   dfl_loss  Instances       Size\n"
          ]
        },
        {
          "output_type": "stream",
          "name": "stderr",
          "text": [
            "     66/100      3.02G     0.3181     0.3097     0.2652     0.8984          8        640: 100%|██████████| 12/12 [00:03<00:00,  3.20it/s]\n",
            "                 Class     Images  Instances      Box(P          R      mAP50  mAP50-95)     Mask(P          R      mAP50  mAP50-95): 100%|██████████| 1/1 [00:00<00:00,  4.02it/s]"
          ]
        },
        {
          "output_type": "stream",
          "name": "stdout",
          "text": [
            "                   all         17         17      0.997          1      0.995      0.988      0.997          1      0.995      0.995\n"
          ]
        },
        {
          "output_type": "stream",
          "name": "stderr",
          "text": [
            "\n"
          ]
        },
        {
          "output_type": "stream",
          "name": "stdout",
          "text": [
            "\n",
            "      Epoch    GPU_mem   box_loss   seg_loss   cls_loss   dfl_loss  Instances       Size\n"
          ]
        },
        {
          "output_type": "stream",
          "name": "stderr",
          "text": [
            "     67/100      3.02G     0.3183     0.3028     0.2556     0.9236          9        640: 100%|██████████| 12/12 [00:03<00:00,  3.26it/s]\n",
            "                 Class     Images  Instances      Box(P          R      mAP50  mAP50-95)     Mask(P          R      mAP50  mAP50-95): 100%|██████████| 1/1 [00:00<00:00,  4.23it/s]"
          ]
        },
        {
          "output_type": "stream",
          "name": "stdout",
          "text": [
            "                   all         17         17      0.997          1      0.995       0.99      0.997          1      0.995      0.995\n"
          ]
        },
        {
          "output_type": "stream",
          "name": "stderr",
          "text": [
            "\n"
          ]
        },
        {
          "output_type": "stream",
          "name": "stdout",
          "text": [
            "\n",
            "      Epoch    GPU_mem   box_loss   seg_loss   cls_loss   dfl_loss  Instances       Size\n"
          ]
        },
        {
          "output_type": "stream",
          "name": "stderr",
          "text": [
            "     68/100      3.02G     0.3259     0.3049     0.2643     0.9049          9        640: 100%|██████████| 12/12 [00:04<00:00,  2.51it/s]\n",
            "                 Class     Images  Instances      Box(P          R      mAP50  mAP50-95)     Mask(P          R      mAP50  mAP50-95): 100%|██████████| 1/1 [00:00<00:00,  3.83it/s]"
          ]
        },
        {
          "output_type": "stream",
          "name": "stdout",
          "text": [
            "                   all         17         17      0.996          1      0.995      0.963      0.996          1      0.995      0.995\n"
          ]
        },
        {
          "output_type": "stream",
          "name": "stderr",
          "text": [
            "\n"
          ]
        },
        {
          "output_type": "stream",
          "name": "stdout",
          "text": [
            "\n",
            "      Epoch    GPU_mem   box_loss   seg_loss   cls_loss   dfl_loss  Instances       Size\n"
          ]
        },
        {
          "output_type": "stream",
          "name": "stderr",
          "text": [
            "     69/100      3.02G      0.315     0.3188     0.2589     0.8895         13        640: 100%|██████████| 12/12 [00:03<00:00,  3.26it/s]\n",
            "                 Class     Images  Instances      Box(P          R      mAP50  mAP50-95)     Mask(P          R      mAP50  mAP50-95): 100%|██████████| 1/1 [00:00<00:00,  3.48it/s]"
          ]
        },
        {
          "output_type": "stream",
          "name": "stdout",
          "text": [
            "                   all         17         17      0.996          1      0.995       0.99      0.996          1      0.995      0.995\n"
          ]
        },
        {
          "output_type": "stream",
          "name": "stderr",
          "text": [
            "\n"
          ]
        },
        {
          "output_type": "stream",
          "name": "stdout",
          "text": [
            "\n",
            "      Epoch    GPU_mem   box_loss   seg_loss   cls_loss   dfl_loss  Instances       Size\n"
          ]
        },
        {
          "output_type": "stream",
          "name": "stderr",
          "text": [
            "     70/100      3.02G     0.3103     0.3102     0.2548     0.8951         11        640: 100%|██████████| 12/12 [00:03<00:00,  3.22it/s]\n",
            "                 Class     Images  Instances      Box(P          R      mAP50  mAP50-95)     Mask(P          R      mAP50  mAP50-95): 100%|██████████| 1/1 [00:00<00:00,  2.92it/s]"
          ]
        },
        {
          "output_type": "stream",
          "name": "stdout",
          "text": [
            "                   all         17         17      0.996          1      0.995       0.99      0.996          1      0.995      0.995\n"
          ]
        },
        {
          "output_type": "stream",
          "name": "stderr",
          "text": [
            "\n"
          ]
        },
        {
          "output_type": "stream",
          "name": "stdout",
          "text": [
            "\n",
            "      Epoch    GPU_mem   box_loss   seg_loss   cls_loss   dfl_loss  Instances       Size\n"
          ]
        },
        {
          "output_type": "stream",
          "name": "stderr",
          "text": [
            "     71/100      3.02G     0.3194     0.3225     0.2605      0.901         12        640: 100%|██████████| 12/12 [00:04<00:00,  2.71it/s]\n",
            "                 Class     Images  Instances      Box(P          R      mAP50  mAP50-95)     Mask(P          R      mAP50  mAP50-95): 100%|██████████| 1/1 [00:00<00:00,  3.71it/s]"
          ]
        },
        {
          "output_type": "stream",
          "name": "stdout",
          "text": [
            "                   all         17         17      0.997          1      0.995      0.981      0.997          1      0.995      0.995\n"
          ]
        },
        {
          "output_type": "stream",
          "name": "stderr",
          "text": [
            "\n"
          ]
        },
        {
          "output_type": "stream",
          "name": "stdout",
          "text": [
            "\n",
            "      Epoch    GPU_mem   box_loss   seg_loss   cls_loss   dfl_loss  Instances       Size\n"
          ]
        },
        {
          "output_type": "stream",
          "name": "stderr",
          "text": [
            "     72/100      3.02G     0.2968     0.2825     0.2447     0.9003          9        640: 100%|██████████| 12/12 [00:03<00:00,  3.13it/s]\n",
            "                 Class     Images  Instances      Box(P          R      mAP50  mAP50-95)     Mask(P          R      mAP50  mAP50-95): 100%|██████████| 1/1 [00:00<00:00,  4.65it/s]"
          ]
        },
        {
          "output_type": "stream",
          "name": "stdout",
          "text": [
            "                   all         17         17      0.997          1      0.995      0.995      0.997          1      0.995      0.995\n"
          ]
        },
        {
          "output_type": "stream",
          "name": "stderr",
          "text": [
            "\n"
          ]
        },
        {
          "output_type": "stream",
          "name": "stdout",
          "text": [
            "\n",
            "      Epoch    GPU_mem   box_loss   seg_loss   cls_loss   dfl_loss  Instances       Size\n"
          ]
        },
        {
          "output_type": "stream",
          "name": "stderr",
          "text": [
            "     73/100      3.02G     0.3147     0.3294     0.2574     0.9026         12        640: 100%|██████████| 12/12 [00:04<00:00,  2.68it/s]\n",
            "                 Class     Images  Instances      Box(P          R      mAP50  mAP50-95)     Mask(P          R      mAP50  mAP50-95): 100%|██████████| 1/1 [00:00<00:00,  2.36it/s]"
          ]
        },
        {
          "output_type": "stream",
          "name": "stdout",
          "text": [
            "                   all         17         17      0.997          1      0.995       0.99      0.997          1      0.995      0.995\n"
          ]
        },
        {
          "output_type": "stream",
          "name": "stderr",
          "text": [
            "\n"
          ]
        },
        {
          "output_type": "stream",
          "name": "stdout",
          "text": [
            "\n",
            "      Epoch    GPU_mem   box_loss   seg_loss   cls_loss   dfl_loss  Instances       Size\n"
          ]
        },
        {
          "output_type": "stream",
          "name": "stderr",
          "text": [
            "     74/100      3.02G     0.2948     0.2718     0.2446     0.8847         11        640: 100%|██████████| 12/12 [00:03<00:00,  3.19it/s]\n",
            "                 Class     Images  Instances      Box(P          R      mAP50  mAP50-95)     Mask(P          R      mAP50  mAP50-95): 100%|██████████| 1/1 [00:00<00:00,  4.23it/s]"
          ]
        },
        {
          "output_type": "stream",
          "name": "stdout",
          "text": [
            "                   all         17         17      0.997          1      0.995       0.99      0.997          1      0.995      0.995\n"
          ]
        },
        {
          "output_type": "stream",
          "name": "stderr",
          "text": [
            "\n"
          ]
        },
        {
          "output_type": "stream",
          "name": "stdout",
          "text": [
            "\n",
            "      Epoch    GPU_mem   box_loss   seg_loss   cls_loss   dfl_loss  Instances       Size\n"
          ]
        },
        {
          "output_type": "stream",
          "name": "stderr",
          "text": [
            "     75/100      3.02G     0.3006     0.3059     0.2469     0.9003         11        640: 100%|██████████| 12/12 [00:03<00:00,  3.14it/s]\n",
            "                 Class     Images  Instances      Box(P          R      mAP50  mAP50-95)     Mask(P          R      mAP50  mAP50-95): 100%|██████████| 1/1 [00:00<00:00,  3.44it/s]"
          ]
        },
        {
          "output_type": "stream",
          "name": "stdout",
          "text": [
            "                   all         17         17      0.997          1      0.995      0.984      0.997          1      0.995      0.995\n"
          ]
        },
        {
          "output_type": "stream",
          "name": "stderr",
          "text": [
            "\n"
          ]
        },
        {
          "output_type": "stream",
          "name": "stdout",
          "text": [
            "\n",
            "      Epoch    GPU_mem   box_loss   seg_loss   cls_loss   dfl_loss  Instances       Size\n"
          ]
        },
        {
          "output_type": "stream",
          "name": "stderr",
          "text": [
            "     76/100      3.02G     0.3148     0.2984     0.2553     0.8992         11        640: 100%|██████████| 12/12 [00:04<00:00,  2.59it/s]\n",
            "                 Class     Images  Instances      Box(P          R      mAP50  mAP50-95)     Mask(P          R      mAP50  mAP50-95): 100%|██████████| 1/1 [00:00<00:00,  2.60it/s]"
          ]
        },
        {
          "output_type": "stream",
          "name": "stdout",
          "text": [
            "                   all         17         17      0.997          1      0.995       0.99      0.997          1      0.995      0.995\n"
          ]
        },
        {
          "output_type": "stream",
          "name": "stderr",
          "text": [
            "\n"
          ]
        },
        {
          "output_type": "stream",
          "name": "stdout",
          "text": [
            "\n",
            "      Epoch    GPU_mem   box_loss   seg_loss   cls_loss   dfl_loss  Instances       Size\n"
          ]
        },
        {
          "output_type": "stream",
          "name": "stderr",
          "text": [
            "     77/100      3.02G      0.326     0.3066     0.2577     0.9115          9        640: 100%|██████████| 12/12 [00:03<00:00,  3.23it/s]\n",
            "                 Class     Images  Instances      Box(P          R      mAP50  mAP50-95)     Mask(P          R      mAP50  mAP50-95): 100%|██████████| 1/1 [00:00<00:00,  3.23it/s]"
          ]
        },
        {
          "output_type": "stream",
          "name": "stdout",
          "text": [
            "                   all         17         17      0.997          1      0.995      0.976      0.997          1      0.995      0.995\n"
          ]
        },
        {
          "output_type": "stream",
          "name": "stderr",
          "text": [
            "\n"
          ]
        },
        {
          "output_type": "stream",
          "name": "stdout",
          "text": [
            "\n",
            "      Epoch    GPU_mem   box_loss   seg_loss   cls_loss   dfl_loss  Instances       Size\n"
          ]
        },
        {
          "output_type": "stream",
          "name": "stderr",
          "text": [
            "     78/100      3.02G     0.2827     0.2717     0.2397     0.8944         11        640: 100%|██████████| 12/12 [00:03<00:00,  3.22it/s]\n",
            "                 Class     Images  Instances      Box(P          R      mAP50  mAP50-95)     Mask(P          R      mAP50  mAP50-95): 100%|██████████| 1/1 [00:00<00:00,  2.58it/s]"
          ]
        },
        {
          "output_type": "stream",
          "name": "stdout",
          "text": [
            "                   all         17         17      0.997          1      0.995       0.99      0.997          1      0.995      0.995\n"
          ]
        },
        {
          "output_type": "stream",
          "name": "stderr",
          "text": [
            "\n"
          ]
        },
        {
          "output_type": "stream",
          "name": "stdout",
          "text": [
            "\n",
            "      Epoch    GPU_mem   box_loss   seg_loss   cls_loss   dfl_loss  Instances       Size\n"
          ]
        },
        {
          "output_type": "stream",
          "name": "stderr",
          "text": [
            "     79/100      3.02G     0.2837     0.2703     0.2331     0.9013         11        640: 100%|██████████| 12/12 [00:04<00:00,  2.74it/s]\n",
            "                 Class     Images  Instances      Box(P          R      mAP50  mAP50-95)     Mask(P          R      mAP50  mAP50-95): 100%|██████████| 1/1 [00:00<00:00,  3.62it/s]"
          ]
        },
        {
          "output_type": "stream",
          "name": "stdout",
          "text": [
            "                   all         17         17      0.997          1      0.995       0.99      0.997          1      0.995      0.995\n"
          ]
        },
        {
          "output_type": "stream",
          "name": "stderr",
          "text": [
            "\n"
          ]
        },
        {
          "output_type": "stream",
          "name": "stdout",
          "text": [
            "\n",
            "      Epoch    GPU_mem   box_loss   seg_loss   cls_loss   dfl_loss  Instances       Size\n"
          ]
        },
        {
          "output_type": "stream",
          "name": "stderr",
          "text": [
            "     80/100      3.02G     0.3021     0.2907     0.2435     0.9177          9        640: 100%|██████████| 12/12 [00:03<00:00,  3.24it/s]\n",
            "                 Class     Images  Instances      Box(P          R      mAP50  mAP50-95)     Mask(P          R      mAP50  mAP50-95): 100%|██████████| 1/1 [00:00<00:00,  4.21it/s]"
          ]
        },
        {
          "output_type": "stream",
          "name": "stdout",
          "text": [
            "                   all         17         17      0.997          1      0.995      0.995      0.997          1      0.995      0.995\n"
          ]
        },
        {
          "output_type": "stream",
          "name": "stderr",
          "text": [
            "\n"
          ]
        },
        {
          "output_type": "stream",
          "name": "stdout",
          "text": [
            "\n",
            "      Epoch    GPU_mem   box_loss   seg_loss   cls_loss   dfl_loss  Instances       Size\n"
          ]
        },
        {
          "output_type": "stream",
          "name": "stderr",
          "text": [
            "     81/100      3.02G     0.2911     0.2829     0.2393     0.8946          7        640: 100%|██████████| 12/12 [00:04<00:00,  2.74it/s]\n",
            "                 Class     Images  Instances      Box(P          R      mAP50  mAP50-95)     Mask(P          R      mAP50  mAP50-95): 100%|██████████| 1/1 [00:00<00:00,  2.14it/s]"
          ]
        },
        {
          "output_type": "stream",
          "name": "stdout",
          "text": [
            "                   all         17         17      0.997          1      0.995      0.995      0.997          1      0.995      0.995\n"
          ]
        },
        {
          "output_type": "stream",
          "name": "stderr",
          "text": [
            "\n"
          ]
        },
        {
          "output_type": "stream",
          "name": "stdout",
          "text": [
            "\n",
            "      Epoch    GPU_mem   box_loss   seg_loss   cls_loss   dfl_loss  Instances       Size\n"
          ]
        },
        {
          "output_type": "stream",
          "name": "stderr",
          "text": [
            "     82/100      3.02G     0.2959     0.3193     0.2435     0.9096         14        640: 100%|██████████| 12/12 [00:03<00:00,  3.24it/s]\n",
            "                 Class     Images  Instances      Box(P          R      mAP50  mAP50-95)     Mask(P          R      mAP50  mAP50-95): 100%|██████████| 1/1 [00:00<00:00,  4.37it/s]"
          ]
        },
        {
          "output_type": "stream",
          "name": "stdout",
          "text": [
            "                   all         17         17      0.997          1      0.995      0.995      0.997          1      0.995      0.995\n"
          ]
        },
        {
          "output_type": "stream",
          "name": "stderr",
          "text": [
            "\n"
          ]
        },
        {
          "output_type": "stream",
          "name": "stdout",
          "text": [
            "\n",
            "      Epoch    GPU_mem   box_loss   seg_loss   cls_loss   dfl_loss  Instances       Size\n"
          ]
        },
        {
          "output_type": "stream",
          "name": "stderr",
          "text": [
            "     83/100      3.02G     0.2806     0.3273     0.2385     0.8849         15        640: 100%|██████████| 12/12 [00:03<00:00,  3.18it/s]\n",
            "                 Class     Images  Instances      Box(P          R      mAP50  mAP50-95)     Mask(P          R      mAP50  mAP50-95): 100%|██████████| 1/1 [00:00<00:00,  3.81it/s]"
          ]
        },
        {
          "output_type": "stream",
          "name": "stdout",
          "text": [
            "                   all         17         17      0.997          1      0.995      0.995      0.997          1      0.995      0.995\n"
          ]
        },
        {
          "output_type": "stream",
          "name": "stderr",
          "text": [
            "\n"
          ]
        },
        {
          "output_type": "stream",
          "name": "stdout",
          "text": [
            "\n",
            "      Epoch    GPU_mem   box_loss   seg_loss   cls_loss   dfl_loss  Instances       Size\n"
          ]
        },
        {
          "output_type": "stream",
          "name": "stderr",
          "text": [
            "     84/100      3.02G     0.2892     0.2726      0.235     0.8926          8        640: 100%|██████████| 12/12 [00:04<00:00,  2.47it/s]\n",
            "                 Class     Images  Instances      Box(P          R      mAP50  mAP50-95)     Mask(P          R      mAP50  mAP50-95): 100%|██████████| 1/1 [00:00<00:00,  3.92it/s]"
          ]
        },
        {
          "output_type": "stream",
          "name": "stdout",
          "text": [
            "                   all         17         17      0.997          1      0.995      0.995      0.997          1      0.995      0.995\n"
          ]
        },
        {
          "output_type": "stream",
          "name": "stderr",
          "text": [
            "\n"
          ]
        },
        {
          "output_type": "stream",
          "name": "stdout",
          "text": [
            "\n",
            "      Epoch    GPU_mem   box_loss   seg_loss   cls_loss   dfl_loss  Instances       Size\n"
          ]
        },
        {
          "output_type": "stream",
          "name": "stderr",
          "text": [
            "     85/100      3.02G     0.2648     0.2907     0.2252     0.8944         12        640: 100%|██████████| 12/12 [00:03<00:00,  3.30it/s]\n",
            "                 Class     Images  Instances      Box(P          R      mAP50  mAP50-95)     Mask(P          R      mAP50  mAP50-95): 100%|██████████| 1/1 [00:00<00:00,  3.94it/s]"
          ]
        },
        {
          "output_type": "stream",
          "name": "stdout",
          "text": [
            "                   all         17         17      0.997          1      0.995      0.995      0.997          1      0.995      0.995\n"
          ]
        },
        {
          "output_type": "stream",
          "name": "stderr",
          "text": [
            "\n"
          ]
        },
        {
          "output_type": "stream",
          "name": "stdout",
          "text": [
            "\n",
            "      Epoch    GPU_mem   box_loss   seg_loss   cls_loss   dfl_loss  Instances       Size\n"
          ]
        },
        {
          "output_type": "stream",
          "name": "stderr",
          "text": [
            "     86/100      3.02G     0.3035     0.3081     0.2343     0.8774         10        640: 100%|██████████| 12/12 [00:03<00:00,  3.27it/s]\n",
            "                 Class     Images  Instances      Box(P          R      mAP50  mAP50-95)     Mask(P          R      mAP50  mAP50-95): 100%|██████████| 1/1 [00:00<00:00,  3.12it/s]"
          ]
        },
        {
          "output_type": "stream",
          "name": "stdout",
          "text": [
            "                   all         17         17      0.997          1      0.995      0.995      0.997          1      0.995      0.995\n"
          ]
        },
        {
          "output_type": "stream",
          "name": "stderr",
          "text": [
            "\n"
          ]
        },
        {
          "output_type": "stream",
          "name": "stdout",
          "text": [
            "\n",
            "      Epoch    GPU_mem   box_loss   seg_loss   cls_loss   dfl_loss  Instances       Size\n"
          ]
        },
        {
          "output_type": "stream",
          "name": "stderr",
          "text": [
            "     87/100      3.02G     0.2753     0.3016     0.2183     0.8753          9        640: 100%|██████████| 12/12 [00:04<00:00,  2.66it/s]\n",
            "                 Class     Images  Instances      Box(P          R      mAP50  mAP50-95)     Mask(P          R      mAP50  mAP50-95): 100%|██████████| 1/1 [00:00<00:00,  4.59it/s]"
          ]
        },
        {
          "output_type": "stream",
          "name": "stdout",
          "text": [
            "                   all         17         17      0.997          1      0.995      0.995      0.997          1      0.995      0.995\n"
          ]
        },
        {
          "output_type": "stream",
          "name": "stderr",
          "text": [
            "\n"
          ]
        },
        {
          "output_type": "stream",
          "name": "stdout",
          "text": [
            "\n",
            "      Epoch    GPU_mem   box_loss   seg_loss   cls_loss   dfl_loss  Instances       Size\n"
          ]
        },
        {
          "output_type": "stream",
          "name": "stderr",
          "text": [
            "     88/100      3.02G     0.2634     0.2745     0.2218      0.882          6        640: 100%|██████████| 12/12 [00:03<00:00,  3.24it/s]\n",
            "                 Class     Images  Instances      Box(P          R      mAP50  mAP50-95)     Mask(P          R      mAP50  mAP50-95): 100%|██████████| 1/1 [00:00<00:00,  4.09it/s]"
          ]
        },
        {
          "output_type": "stream",
          "name": "stdout",
          "text": [
            "                   all         17         17      0.997          1      0.995      0.995      0.997          1      0.995      0.995\n"
          ]
        },
        {
          "output_type": "stream",
          "name": "stderr",
          "text": [
            "\n"
          ]
        },
        {
          "output_type": "stream",
          "name": "stdout",
          "text": [
            "\n",
            "      Epoch    GPU_mem   box_loss   seg_loss   cls_loss   dfl_loss  Instances       Size\n"
          ]
        },
        {
          "output_type": "stream",
          "name": "stderr",
          "text": [
            "     89/100      3.02G     0.2652     0.2486     0.2237     0.8917         10        640: 100%|██████████| 12/12 [00:04<00:00,  2.81it/s]\n",
            "                 Class     Images  Instances      Box(P          R      mAP50  mAP50-95)     Mask(P          R      mAP50  mAP50-95): 100%|██████████| 1/1 [00:00<00:00,  2.37it/s]"
          ]
        },
        {
          "output_type": "stream",
          "name": "stdout",
          "text": [
            "                   all         17         17      0.997          1      0.995      0.995      0.997          1      0.995      0.995\n"
          ]
        },
        {
          "output_type": "stream",
          "name": "stderr",
          "text": [
            "\n"
          ]
        },
        {
          "output_type": "stream",
          "name": "stdout",
          "text": [
            "\n",
            "      Epoch    GPU_mem   box_loss   seg_loss   cls_loss   dfl_loss  Instances       Size\n"
          ]
        },
        {
          "output_type": "stream",
          "name": "stderr",
          "text": [
            "     90/100      3.02G     0.2584     0.2593     0.2213     0.8676         10        640: 100%|██████████| 12/12 [00:03<00:00,  3.24it/s]\n",
            "                 Class     Images  Instances      Box(P          R      mAP50  mAP50-95)     Mask(P          R      mAP50  mAP50-95): 100%|██████████| 1/1 [00:00<00:00,  3.67it/s]"
          ]
        },
        {
          "output_type": "stream",
          "name": "stdout",
          "text": [
            "                   all         17         17      0.997          1      0.995      0.991      0.997          1      0.995      0.995\n"
          ]
        },
        {
          "output_type": "stream",
          "name": "stderr",
          "text": [
            "\n"
          ]
        },
        {
          "output_type": "stream",
          "name": "stdout",
          "text": [
            "Closing dataloader mosaic\n",
            "\u001b[34m\u001b[1malbumentations: \u001b[0mBlur(p=0.01, blur_limit=(3, 7)), MedianBlur(p=0.01, blur_limit=(3, 7)), ToGray(p=0.01, method='weighted_average', num_output_channels=3), CLAHE(p=0.01, clip_limit=(1.0, 4.0), tile_grid_size=(8, 8))\n",
            "\n",
            "      Epoch    GPU_mem   box_loss   seg_loss   cls_loss   dfl_loss  Instances       Size\n"
          ]
        },
        {
          "output_type": "stream",
          "name": "stderr",
          "text": [
            "     91/100      3.02G     0.2397      0.183     0.2588        0.9          4        640: 100%|██████████| 12/12 [00:06<00:00,  1.90it/s]\n",
            "                 Class     Images  Instances      Box(P          R      mAP50  mAP50-95)     Mask(P          R      mAP50  mAP50-95): 100%|██████████| 1/1 [00:00<00:00,  2.42it/s]"
          ]
        },
        {
          "output_type": "stream",
          "name": "stdout",
          "text": [
            "                   all         17         17      0.997          1      0.995      0.995      0.997          1      0.995      0.995\n"
          ]
        },
        {
          "output_type": "stream",
          "name": "stderr",
          "text": [
            "\n"
          ]
        },
        {
          "output_type": "stream",
          "name": "stdout",
          "text": [
            "\n",
            "      Epoch    GPU_mem   box_loss   seg_loss   cls_loss   dfl_loss  Instances       Size\n"
          ]
        },
        {
          "output_type": "stream",
          "name": "stderr",
          "text": [
            "     92/100      3.02G     0.2297     0.1753     0.2451     0.8948          4        640: 100%|██████████| 12/12 [00:03<00:00,  3.18it/s]\n",
            "                 Class     Images  Instances      Box(P          R      mAP50  mAP50-95)     Mask(P          R      mAP50  mAP50-95): 100%|██████████| 1/1 [00:00<00:00,  3.71it/s]"
          ]
        },
        {
          "output_type": "stream",
          "name": "stdout",
          "text": [
            "                   all         17         17      0.997          1      0.995      0.995      0.997          1      0.995      0.995\n"
          ]
        },
        {
          "output_type": "stream",
          "name": "stderr",
          "text": [
            "\n"
          ]
        },
        {
          "output_type": "stream",
          "name": "stdout",
          "text": [
            "\n",
            "      Epoch    GPU_mem   box_loss   seg_loss   cls_loss   dfl_loss  Instances       Size\n"
          ]
        },
        {
          "output_type": "stream",
          "name": "stderr",
          "text": [
            "     93/100      3.02G     0.2141     0.1839     0.2325     0.8865          4        640: 100%|██████████| 12/12 [00:03<00:00,  3.26it/s]\n",
            "                 Class     Images  Instances      Box(P          R      mAP50  mAP50-95)     Mask(P          R      mAP50  mAP50-95): 100%|██████████| 1/1 [00:00<00:00,  3.94it/s]"
          ]
        },
        {
          "output_type": "stream",
          "name": "stdout",
          "text": [
            "                   all         17         17      0.997          1      0.995      0.995      0.997          1      0.995      0.995\n"
          ]
        },
        {
          "output_type": "stream",
          "name": "stderr",
          "text": [
            "\n"
          ]
        },
        {
          "output_type": "stream",
          "name": "stdout",
          "text": [
            "\n",
            "      Epoch    GPU_mem   box_loss   seg_loss   cls_loss   dfl_loss  Instances       Size\n"
          ]
        },
        {
          "output_type": "stream",
          "name": "stderr",
          "text": [
            "     94/100      3.02G     0.2226     0.1763     0.2323     0.8999          4        640: 100%|██████████| 12/12 [00:04<00:00,  2.74it/s]\n",
            "                 Class     Images  Instances      Box(P          R      mAP50  mAP50-95)     Mask(P          R      mAP50  mAP50-95): 100%|██████████| 1/1 [00:00<00:00,  3.07it/s]"
          ]
        },
        {
          "output_type": "stream",
          "name": "stdout",
          "text": [
            "                   all         17         17      0.997          1      0.995      0.995      0.997          1      0.995      0.995\n"
          ]
        },
        {
          "output_type": "stream",
          "name": "stderr",
          "text": [
            "\n"
          ]
        },
        {
          "output_type": "stream",
          "name": "stdout",
          "text": [
            "\n",
            "      Epoch    GPU_mem   box_loss   seg_loss   cls_loss   dfl_loss  Instances       Size\n"
          ]
        },
        {
          "output_type": "stream",
          "name": "stderr",
          "text": [
            "     95/100      3.02G     0.2059     0.1709     0.2148     0.8653          4        640: 100%|██████████| 12/12 [00:03<00:00,  3.41it/s]\n",
            "                 Class     Images  Instances      Box(P          R      mAP50  mAP50-95)     Mask(P          R      mAP50  mAP50-95): 100%|██████████| 1/1 [00:00<00:00,  4.88it/s]"
          ]
        },
        {
          "output_type": "stream",
          "name": "stdout",
          "text": [
            "                   all         17         17      0.997          1      0.995      0.995      0.997          1      0.995      0.995\n"
          ]
        },
        {
          "output_type": "stream",
          "name": "stderr",
          "text": [
            "\n"
          ]
        },
        {
          "output_type": "stream",
          "name": "stdout",
          "text": [
            "\n",
            "      Epoch    GPU_mem   box_loss   seg_loss   cls_loss   dfl_loss  Instances       Size\n"
          ]
        },
        {
          "output_type": "stream",
          "name": "stderr",
          "text": [
            "     96/100      3.02G     0.2087     0.1703     0.2156     0.8725          4        640: 100%|██████████| 12/12 [00:03<00:00,  3.37it/s]\n",
            "                 Class     Images  Instances      Box(P          R      mAP50  mAP50-95)     Mask(P          R      mAP50  mAP50-95): 100%|██████████| 1/1 [00:00<00:00,  5.13it/s]\n"
          ]
        },
        {
          "output_type": "stream",
          "name": "stdout",
          "text": [
            "                   all         17         17      0.997          1      0.995      0.995      0.997          1      0.995      0.995\n",
            "\n",
            "      Epoch    GPU_mem   box_loss   seg_loss   cls_loss   dfl_loss  Instances       Size\n"
          ]
        },
        {
          "output_type": "stream",
          "name": "stderr",
          "text": [
            "     97/100      3.02G     0.1847     0.1764     0.1975     0.8366          4        640: 100%|██████████| 12/12 [00:04<00:00,  2.69it/s]\n",
            "                 Class     Images  Instances      Box(P          R      mAP50  mAP50-95)     Mask(P          R      mAP50  mAP50-95): 100%|██████████| 1/1 [00:00<00:00,  4.02it/s]"
          ]
        },
        {
          "output_type": "stream",
          "name": "stdout",
          "text": [
            "                   all         17         17      0.997          1      0.995      0.995      0.997          1      0.995      0.995\n"
          ]
        },
        {
          "output_type": "stream",
          "name": "stderr",
          "text": [
            "\n"
          ]
        },
        {
          "output_type": "stream",
          "name": "stdout",
          "text": [
            "\n",
            "      Epoch    GPU_mem   box_loss   seg_loss   cls_loss   dfl_loss  Instances       Size\n"
          ]
        },
        {
          "output_type": "stream",
          "name": "stderr",
          "text": [
            "     98/100      3.02G     0.2028     0.1822     0.2045     0.8601          4        640: 100%|██████████| 12/12 [00:03<00:00,  3.40it/s]\n",
            "                 Class     Images  Instances      Box(P          R      mAP50  mAP50-95)     Mask(P          R      mAP50  mAP50-95): 100%|██████████| 1/1 [00:00<00:00,  4.46it/s]"
          ]
        },
        {
          "output_type": "stream",
          "name": "stdout",
          "text": [
            "                   all         17         17      0.997          1      0.995      0.995      0.997          1      0.995      0.995\n"
          ]
        },
        {
          "output_type": "stream",
          "name": "stderr",
          "text": [
            "\n"
          ]
        },
        {
          "output_type": "stream",
          "name": "stdout",
          "text": [
            "\n",
            "      Epoch    GPU_mem   box_loss   seg_loss   cls_loss   dfl_loss  Instances       Size\n"
          ]
        },
        {
          "output_type": "stream",
          "name": "stderr",
          "text": [
            "     99/100      3.02G     0.1976      0.164     0.2146      0.883          4        640: 100%|██████████| 12/12 [00:03<00:00,  3.50it/s]\n",
            "                 Class     Images  Instances      Box(P          R      mAP50  mAP50-95)     Mask(P          R      mAP50  mAP50-95): 100%|██████████| 1/1 [00:00<00:00,  4.34it/s]"
          ]
        },
        {
          "output_type": "stream",
          "name": "stdout",
          "text": [
            "                   all         17         17      0.997          1      0.995      0.995      0.997          1      0.995      0.995\n"
          ]
        },
        {
          "output_type": "stream",
          "name": "stderr",
          "text": [
            "\n"
          ]
        },
        {
          "output_type": "stream",
          "name": "stdout",
          "text": [
            "\n",
            "      Epoch    GPU_mem   box_loss   seg_loss   cls_loss   dfl_loss  Instances       Size\n"
          ]
        },
        {
          "output_type": "stream",
          "name": "stderr",
          "text": [
            "    100/100      3.02G     0.1957     0.1779     0.1977     0.8717          4        640: 100%|██████████| 12/12 [00:04<00:00,  2.63it/s]\n",
            "                 Class     Images  Instances      Box(P          R      mAP50  mAP50-95)     Mask(P          R      mAP50  mAP50-95): 100%|██████████| 1/1 [00:00<00:00,  4.86it/s]"
          ]
        },
        {
          "output_type": "stream",
          "name": "stdout",
          "text": [
            "                   all         17         17      0.997          1      0.995      0.995      0.997          1      0.995      0.995\n"
          ]
        },
        {
          "output_type": "stream",
          "name": "stderr",
          "text": [
            "\n"
          ]
        },
        {
          "output_type": "stream",
          "name": "stdout",
          "text": [
            "\n",
            "100 epochs completed in 0.135 hours.\n",
            "Optimizer stripped from runs/segment/train/weights/last.pt, 6.0MB\n",
            "Optimizer stripped from runs/segment/train/weights/best.pt, 6.0MB\n",
            "\n",
            "Validating runs/segment/train/weights/best.pt...\n",
            "Ultralytics 8.3.156 🚀 Python-3.11.13 torch-2.6.0+cu124 CUDA:0 (Tesla T4, 15095MiB)\n",
            "YOLO11n-seg summary (fused): 113 layers, 2,834,763 parameters, 0 gradients, 10.2 GFLOPs\n"
          ]
        },
        {
          "output_type": "stream",
          "name": "stderr",
          "text": [
            "                 Class     Images  Instances      Box(P          R      mAP50  mAP50-95)     Mask(P          R      mAP50  mAP50-95): 100%|██████████| 1/1 [00:00<00:00,  4.82it/s]\n"
          ]
        },
        {
          "output_type": "stream",
          "name": "stdout",
          "text": [
            "                   all         17         17      0.997          1      0.995      0.995      0.997          1      0.995      0.995\n",
            "Speed: 0.2ms preprocess, 3.9ms inference, 0.0ms loss, 2.4ms postprocess per image\n",
            "Results saved to \u001b[1mruns/segment/train\u001b[0m\n",
            "  adding: content/ (stored 0%)\n",
            "  adding: content/.config/ (stored 0%)\n",
            "  adding: content/.config/logs/ (stored 0%)\n",
            "  adding: content/.config/logs/2025.06.13/ (stored 0%)\n",
            "  adding: content/.config/logs/2025.06.13/13.36.09.534235.log (deflated 57%)\n",
            "  adding: content/.config/logs/2025.06.13/13.35.49.985502.log (deflated 58%)\n",
            "  adding: content/.config/logs/2025.06.13/13.36.00.379649.log (deflated 58%)\n",
            "  adding: content/.config/logs/2025.06.13/13.35.59.150341.log (deflated 87%)\n",
            "  adding: content/.config/logs/2025.06.13/13.36.10.274137.log (deflated 56%)\n",
            "  adding: content/.config/logs/2025.06.13/13.35.28.984086.log (deflated 93%)\n",
            "  adding: content/.config/config_sentinel (stored 0%)\n",
            "  adding: content/.config/hidden_gcloud_config_universe_descriptor_data_cache_configs.db (deflated 97%)\n",
            "  adding: content/.config/gce (stored 0%)\n",
            "  adding: content/.config/default_configs.db (deflated 98%)\n",
            "  adding: content/.config/.last_update_check.json (deflated 22%)\n",
            "  adding: content/.config/active_config (stored 0%)\n",
            "  adding: content/.config/.last_opt_in_prompt.yaml (stored 0%)\n",
            "  adding: content/.config/configurations/ (stored 0%)\n",
            "  adding: content/.config/configurations/config_default (deflated 15%)\n",
            "  adding: content/.config/.last_survey_prompt.yaml (stored 0%)\n",
            "  adding: content/runs/ (stored 0%)\n",
            "  adding: content/runs/detect/ (stored 0%)\n",
            "  adding: content/runs/detect/train/ (stored 0%)\n",
            "  adding: content/runs/detect/train/labels_correlogram.jpg (deflated 49%)\n",
            "  adding: content/runs/detect/train/labels.jpg (deflated 37%)\n",
            "  adding: content/runs/detect/train/val_batch0_pred.jpg (deflated 4%)\n",
            "  adding: content/runs/detect/train/weights/ (stored 0%)\n",
            "  adding: content/runs/detect/train/weights/best.pt (deflated 10%)\n",
            "  adding: content/runs/detect/train/weights/last.pt (deflated 10%)\n",
            "  adding: content/runs/detect/train/F1_curve.png (deflated 19%)\n",
            "  adding: content/runs/detect/train/train_batch0.jpg (deflated 2%)\n",
            "  adding: content/runs/detect/train/train_batch1081.jpg (deflated 6%)\n",
            "  adding: content/runs/detect/train/P_curve.png (deflated 24%)\n",
            "  adding: content/runs/detect/train/val_batch0_labels.jpg (deflated 4%)\n",
            "  adding: content/runs/detect/train/R_curve.png (deflated 21%)\n",
            "  adding: content/runs/detect/train/confusion_matrix_normalized.png (deflated 37%)\n",
            "  adding: content/runs/detect/train/results.png (deflated 9%)\n",
            "  adding: content/runs/detect/train/train_batch1080.jpg (deflated 5%)\n",
            "  adding: content/runs/detect/train/train_batch1.jpg (deflated 2%)\n",
            "  adding: content/runs/detect/train/train_batch1082.jpg (deflated 4%)\n",
            "  adding: content/runs/detect/train/confusion_matrix.png (deflated 38%)\n",
            "  adding: content/runs/detect/train/results.csv (deflated 65%)\n",
            "  adding: content/runs/detect/train/args.yaml (deflated 53%)\n",
            "  adding: content/runs/detect/train/PR_curve.png (deflated 29%)\n",
            "  adding: content/runs/detect/train/train_batch2.jpg (deflated 2%)\n",
            "  adding: content/runs/segment/ (stored 0%)\n",
            "  adding: content/runs/segment/train/ (stored 0%)\n",
            "  adding: content/runs/segment/train/labels_correlogram.jpg (deflated 49%)\n",
            "  adding: content/runs/segment/train/MaskP_curve.png (deflated 24%)\n",
            "  adding: content/runs/segment/train/labels.jpg (deflated 37%)\n",
            "  adding: content/runs/segment/train/val_batch0_pred.jpg (deflated 4%)\n",
            "  adding: content/runs/segment/train/weights/ (stored 0%)\n",
            "  adding: content/runs/segment/train/weights/best.pt (deflated 10%)\n",
            "  adding: content/runs/segment/train/weights/last.pt (deflated 10%)\n",
            "  adding: content/runs/segment/train/train_batch0.jpg (deflated 2%)\n",
            "  adding: content/runs/segment/train/train_batch1081.jpg (deflated 6%)\n",
            "  adding: content/runs/segment/train/val_batch0_labels.jpg (deflated 4%)\n",
            "  adding: content/runs/segment/train/confusion_matrix_normalized.png (deflated 37%)\n",
            "  adding: content/runs/segment/train/results.png (deflated 9%)\n",
            "  adding: content/runs/segment/train/train_batch1080.jpg (deflated 5%)\n",
            "  adding: content/runs/segment/train/train_batch1.jpg (deflated 2%)\n",
            "  adding: content/runs/segment/train/MaskF1_curve.png (deflated 20%)\n",
            "  adding: content/runs/segment/train/train_batch1082.jpg (deflated 4%)\n",
            "  adding: content/runs/segment/train/confusion_matrix.png (deflated 38%)\n",
            "  adding: content/runs/segment/train/results.csv (deflated 67%)\n",
            "  adding: content/runs/segment/train/args.yaml (deflated 53%)\n",
            "  adding: content/runs/segment/train/MaskPR_curve.png (deflated 29%)\n",
            "  adding: content/runs/segment/train/MaskR_curve.png (deflated 22%)\n",
            "  adding: content/runs/segment/train/train_batch2.jpg (deflated 1%)\n",
            "  adding: content/yolo11n.pt (deflated 11%)\n",
            "  adding: content/yolo11n-seg.pt (deflated 11%)\n",
            "  adding: content/robochess-2/ (stored 0%)\n",
            "  adding: content/robochess-2/valid/ (stored 0%)\n",
            "  adding: content/robochess-2/valid/labels.cache (deflated 64%)\n",
            "  adding: content/robochess-2/valid/images/ (stored 0%)\n",
            "  adding: content/robochess-2/valid/images/20250613_123112_mp4-0028_jpg.rf.690cd8249a78e07e0b4edc9a367f5e7c.jpg (deflated 0%)\n",
            "  adding: content/robochess-2/valid/images/20250613_123228_mp4-0002_jpg.rf.98902644ef49c103e70747a3ff3b77b8.jpg (deflated 0%)\n",
            "  adding: content/robochess-2/valid/images/20250613_123112_mp4-0008_jpg.rf.524da544dc0b14c37c90c1215dda2e8d.jpg (deflated 0%)\n",
            "  adding: content/robochess-2/valid/images/20250613_123112_mp4-0016_jpg.rf.5382da10861bbd8de942b387170c49ed.jpg (deflated 0%)\n",
            "  adding: content/robochess-2/valid/images/20250613_122814_mp4-0019_jpg.rf.9c6a72f63af40a9b0fb60037c3f6d7b9.jpg (deflated 0%)\n",
            "  adding: content/robochess-2/valid/images/2025-06-17-131157_jpg.rf.e83b342bb74aeb2366d89e0498d0c75b.jpg (deflated 0%)\n",
            "  adding: content/robochess-2/valid/images/20250613_123112_mp4-0039_jpg.rf.8aca8283b788aa7e6abeeeeb0e9690f5.jpg (deflated 0%)\n",
            "  adding: content/robochess-2/valid/images/20250613_122814_mp4-0018_jpg.rf.49485c7f6336c5e287830870a487427c.jpg (deflated 0%)\n",
            "  adding: content/robochess-2/valid/images/20250613_123228_mp4-0017_jpg.rf.ab5cd171954d50c1cc0310668c05ace1.jpg (deflated 0%)\n",
            "  adding: content/robochess-2/valid/images/20250613_123112_mp4-0031_jpg.rf.dbf141e725dbb3586510cfb3f8e76b04.jpg (deflated 0%)\n",
            "  adding: content/robochess-2/valid/images/20250613_123112_mp4-0032_jpg.rf.44c1d0ab54d380cd78657ff28400e023.jpg (deflated 0%)\n",
            "  adding: content/robochess-2/valid/images/20250613_123112_mp4-0029_jpg.rf.fafe4b6dc0c389292ba3d3e4053488fa.jpg (deflated 0%)\n",
            "  adding: content/robochess-2/valid/images/20250613_123112_mp4-0018_jpg.rf.8d5e8b84c0a798969c7926ab8512d78e.jpg (deflated 0%)\n",
            "  adding: content/robochess-2/valid/images/20250613_123228_mp4-0006_jpg.rf.11203cf84520648cdce9fbee94ae0a0f.jpg (deflated 0%)\n",
            "  adding: content/robochess-2/valid/images/20250613_122814_mp4-0006_jpg.rf.9762d722e5e86bf1e7d954cbbadc9016.jpg (deflated 0%)\n",
            "  adding: content/robochess-2/valid/images/20250613_123228_mp4-0015_jpg.rf.79ad41c850d271a4cef60ecd98de0443.jpg (deflated 0%)\n",
            "  adding: content/robochess-2/valid/images/20250613_123228_mp4-0021_jpg.rf.43a65e264df792306691a8fb861ed5bc.jpg (deflated 0%)\n",
            "  adding: content/robochess-2/valid/labels/ (stored 0%)\n",
            "  adding: content/robochess-2/valid/labels/20250613_123112_mp4-0028_jpg.rf.690cd8249a78e07e0b4edc9a367f5e7c.txt (deflated 46%)\n",
            "  adding: content/robochess-2/valid/labels/20250613_123112_mp4-0008_jpg.rf.524da544dc0b14c37c90c1215dda2e8d.txt (deflated 53%)\n",
            "  adding: content/robochess-2/valid/labels/20250613_122814_mp4-0006_jpg.rf.9762d722e5e86bf1e7d954cbbadc9016.txt (deflated 50%)\n",
            "  adding: content/robochess-2/valid/labels/20250613_123228_mp4-0006_jpg.rf.11203cf84520648cdce9fbee94ae0a0f.txt (deflated 51%)\n",
            "  adding: content/robochess-2/valid/labels/20250613_123112_mp4-0032_jpg.rf.44c1d0ab54d380cd78657ff28400e023.txt (deflated 51%)\n",
            "  adding: content/robochess-2/valid/labels/20250613_123112_mp4-0039_jpg.rf.8aca8283b788aa7e6abeeeeb0e9690f5.txt (deflated 51%)\n",
            "  adding: content/robochess-2/valid/labels/20250613_122814_mp4-0018_jpg.rf.49485c7f6336c5e287830870a487427c.txt (deflated 53%)\n",
            "  adding: content/robochess-2/valid/labels/20250613_123228_mp4-0017_jpg.rf.ab5cd171954d50c1cc0310668c05ace1.txt (deflated 51%)\n",
            "  adding: content/robochess-2/valid/labels/2025-06-17-131157_jpg.rf.e83b342bb74aeb2366d89e0498d0c75b.txt (deflated 49%)\n",
            "  adding: content/robochess-2/valid/labels/20250613_123112_mp4-0018_jpg.rf.8d5e8b84c0a798969c7926ab8512d78e.txt (deflated 52%)\n",
            "  adding: content/robochess-2/valid/labels/20250613_123228_mp4-0021_jpg.rf.43a65e264df792306691a8fb861ed5bc.txt (deflated 55%)\n",
            "  adding: content/robochess-2/valid/labels/20250613_123112_mp4-0016_jpg.rf.5382da10861bbd8de942b387170c49ed.txt (deflated 53%)\n",
            "  adding: content/robochess-2/valid/labels/20250613_123112_mp4-0029_jpg.rf.fafe4b6dc0c389292ba3d3e4053488fa.txt (deflated 54%)\n",
            "  adding: content/robochess-2/valid/labels/20250613_123228_mp4-0002_jpg.rf.98902644ef49c103e70747a3ff3b77b8.txt (deflated 51%)\n",
            "  adding: content/robochess-2/valid/labels/20250613_122814_mp4-0019_jpg.rf.9c6a72f63af40a9b0fb60037c3f6d7b9.txt (deflated 56%)\n",
            "  adding: content/robochess-2/valid/labels/20250613_123112_mp4-0031_jpg.rf.dbf141e725dbb3586510cfb3f8e76b04.txt (deflated 53%)\n",
            "  adding: content/robochess-2/valid/labels/20250613_123228_mp4-0015_jpg.rf.79ad41c850d271a4cef60ecd98de0443.txt (deflated 51%)\n",
            "  adding: content/robochess-2/README.roboflow.txt (deflated 52%)\n",
            "  adding: content/robochess-2/train/ (stored 0%)\n",
            "  adding: content/robochess-2/train/labels.cache (deflated 72%)\n",
            "  adding: content/robochess-2/train/images/ (stored 0%)\n",
            "  adding: content/robochess-2/train/images/20250613_123228_mp4-0024_jpg.rf.ab6bc53e129679c6f8cd474d0ff261fd.jpg (deflated 0%)\n",
            "  adding: content/robochess-2/train/images/20250613_123228_mp4-0019_jpg.rf.f0451e2beb5220fdcd04e17d982f3f3d.jpg (deflated 0%)\n",
            "  adding: content/robochess-2/train/images/20250613_122814_mp4-0004_jpg.rf.401e7ba2d40c7c330dee790e1ec3ea0b.jpg (deflated 0%)\n",
            "  adding: content/robochess-2/train/images/20250613_123112_mp4-0006_jpg.rf.1e469c85a4cba9eaa1da11e11e352e9a.jpg (deflated 0%)\n",
            "  adding: content/robochess-2/train/images/20250613_123112_mp4-0005_jpg.rf.c1163bd7cdf5754491f3a80277e8fd1a.jpg (deflated 0%)\n",
            "  adding: content/robochess-2/train/images/2025-06-17-130927_jpg.rf.b344a71b249938d9cfed1d3729f81f86.jpg (deflated 0%)\n",
            "  adding: content/robochess-2/train/images/20250613_123112_mp4-0038_jpg.rf.6c4e314f413fee31602163c67042f2e1.jpg (deflated 1%)\n",
            "  adding: content/robochess-2/train/images/20250613_123112_mp4-0040_jpg.rf.d0c3e3f7b2ee81335b104bfff7480f69.jpg (deflated 1%)\n",
            "  adding: content/robochess-2/train/images/20250613_123228_mp4-0023_jpg.rf.39abe8263a1138c5729b352de9aa2c15.jpg (deflated 0%)\n",
            "  adding: content/robochess-2/train/images/2025-06-17-131212_jpg.rf.ddf701b037c0fd4ed5229031ad939176.jpg (deflated 0%)\n",
            "  adding: content/robochess-2/train/images/20250613_123228_mp4-0012_jpg.rf.27e4a8a0700f1b2eee03030415b0c3bb.jpg (deflated 0%)\n",
            "  adding: content/robochess-2/train/images/2025-06-17-131212_jpg.rf.54bc13c48c5c5c85062dbbe1470c3008.jpg (deflated 0%)\n",
            "  adding: content/robochess-2/train/images/20250613_122814_mp4-0013_jpg.rf.3330dc3234f9add68aa7d6e57426300e.jpg (deflated 0%)\n",
            "  adding: content/robochess-2/train/images/20250613_123112_mp4-0035_jpg.rf.2eb0ea350e91c06694554dc6472241c5.jpg (deflated 0%)\n",
            "  adding: content/robochess-2/train/images/20250613_122814_mp4-0008_jpg.rf.2795f450ae8b0e64457e62faff0b357f.jpg (deflated 0%)\n",
            "  adding: content/robochess-2/train/images/20250613_123112_mp4-0022_jpg.rf.89bac212d9c877a598fbe43a854603a7.jpg (deflated 0%)\n",
            "  adding: content/robochess-2/train/images/20250613_123228_mp4-0013_jpg.rf.1f38957b58b0fff65e971b48bc3bbec9.jpg (deflated 0%)\n",
            "  adding: content/robochess-2/train/images/20250613_123112_mp4-0003_jpg.rf.b2f7b88bc571fcecde1808d4177b9943.jpg (deflated 0%)\n",
            "  adding: content/robochess-2/train/images/2025-06-17-130918_jpg.rf.45624c23c4448765c20b9d6d68aac288.jpg (deflated 0%)\n",
            "  adding: content/robochess-2/train/images/20250613_123112_mp4-0013_jpg.rf.9d0d2a4b36076c1d8b033ede517249b3.jpg (deflated 0%)\n",
            "  adding: content/robochess-2/train/images/20250613_123228_mp4-0001_jpg.rf.5d2a48b558b241cfb91cf407ad5afe25.jpg (deflated 0%)\n",
            "  adding: content/robochess-2/train/images/20250613_123228_mp4-0007_jpg.rf.c0c54ca71aed0adf819ef1c493c48b78.jpg (deflated 0%)\n",
            "  adding: content/robochess-2/train/images/20250613_123112_mp4-0013_jpg.rf.d20ac076f773c21397ab8033c7c4a30e.jpg (deflated 0%)\n",
            "  adding: content/robochess-2/train/images/20250613_123228_mp4-0012_jpg.rf.d4e37bcada17751ea965fcbc147d3eb5.jpg (deflated 0%)\n",
            "  adding: content/robochess-2/train/images/20250613_123228_mp4-0010_jpg.rf.23b796681eb485dc81f5d59e7afef645.jpg (deflated 0%)\n",
            "  adding: content/robochess-2/train/images/20250613_122814_mp4-0008_jpg.rf.8751e1288e37f041ca28e2576ca0e987.jpg (deflated 0%)\n",
            "  adding: content/robochess-2/train/images/20250613_122814_mp4-0016_jpg.rf.538df45d4b62e21b38b1ca08ba364c67.jpg (deflated 0%)\n",
            "  adding: content/robochess-2/train/images/20250613_123228_mp4-0024_jpg.rf.ee58aff4609d3617d73ad863a6c9bcf6.jpg (deflated 0%)\n",
            "  adding: content/robochess-2/train/images/20250613_123112_mp4-0025_jpg.rf.1e63fed4d707c3e47e6f4dfa7da3910e.jpg (deflated 0%)\n",
            "  adding: content/robochess-2/train/images/20250613_123112_mp4-0024_jpg.rf.99f1dd8a570296c3b1d719a0dc768e12.jpg (deflated 0%)\n",
            "  adding: content/robochess-2/train/images/20250613_123112_mp4-0002_jpg.rf.d4c03462470d90d8bed78d86fffea312.jpg (deflated 0%)\n",
            "  adding: content/robochess-2/train/images/20250613_123112_mp4-0009_jpg.rf.4ee637c5347f2b45c4fa3e39933ff9e0.jpg (deflated 0%)\n",
            "  adding: content/robochess-2/train/images/20250613_123112_mp4-0037_jpg.rf.5f35b4ca5b7da75bfdc1d71bb4fd78e5.jpg (deflated 0%)\n",
            "  adding: content/robochess-2/train/images/20250613_123112_mp4-0035_jpg.rf.fd8e95c138e68623702bfa92b2a5d71e.jpg (deflated 1%)\n",
            "  adding: content/robochess-2/train/images/2025-06-17-130927_jpg.rf.915b8c67ee5f60dff2c1a67eeec5d3d8.jpg (deflated 0%)\n",
            "  adding: content/robochess-2/train/images/20250613_123112_mp4-0034_jpg.rf.d05425940bd01a931ed821eabe238766.jpg (deflated 1%)\n",
            "  adding: content/robochess-2/train/images/20250613_123112_mp4-0000_jpg.rf.afde79b2fe134d8b6324eb759d8518a3.jpg (deflated 0%)\n",
            "  adding: content/robochess-2/train/images/20250613_123112_mp4-0019_jpg.rf.1f595719f9041f2864dc01a6f73a5940.jpg (deflated 0%)\n",
            "  adding: content/robochess-2/train/images/20250613_123228_mp4-0010_jpg.rf.a38dd3de90734d16eb8bb280e7261d5c.jpg (deflated 0%)\n",
            "  adding: content/robochess-2/train/images/20250613_123228_mp4-0024_jpg.rf.9e8a2ae67e16e5b91dfc82f532c9b47a.jpg (deflated 1%)\n",
            "  adding: content/robochess-2/train/images/20250613_122814_mp4-0009_jpg.rf.44412fd0293979ad7af29920c61a3f89.jpg (deflated 0%)\n",
            "  adding: content/robochess-2/train/images/20250613_123228_mp4-0004_jpg.rf.cec8c78b3e0b6973e1f811255551820e.jpg (deflated 0%)\n",
            "  adding: content/robochess-2/train/images/20250613_123228_mp4-0003_jpg.rf.104370df07d75865e847225ca465a660.jpg (deflated 0%)\n",
            "  adding: content/robochess-2/train/images/20250613_123112_mp4-0005_jpg.rf.10a065e6755afc9b24537e277038aea2.jpg (deflated 1%)\n",
            "  adding: content/robochess-2/train/images/20250613_123228_mp4-0001_jpg.rf.4ce21e2e10e751c2ae59d1fa2eedcbff.jpg (deflated 0%)\n",
            "  adding: content/robochess-2/train/images/20250613_123228_mp4-0014_jpg.rf.0a8589ea735bd7b595ed11e76ac1821e.jpg (deflated 0%)\n",
            "  adding: content/robochess-2/train/images/20250613_123112_mp4-0010_jpg.rf.e2a29f41fe6ba3f62294aa9a2c4d6715.jpg (deflated 0%)\n",
            "  adding: content/robochess-2/train/images/20250613_122814_mp4-0012_jpg.rf.1b3a09ea658c72464ea094abf9c1cd50.jpg (deflated 0%)\n",
            "  adding: content/robochess-2/train/images/20250613_123112_mp4-0040_jpg.rf.7cbe105ba070ca6d3b8923a89a588d4b.jpg (deflated 0%)\n",
            "  adding: content/robochess-2/train/images/20250613_123228_mp4-0025_jpg.rf.377d354951c54b93a7a5e02e3c70eeea.jpg (deflated 0%)\n",
            "  adding: content/robochess-2/train/images/20250613_123112_mp4-0004_jpg.rf.bd2b79072a96f5e0fcce06f6c007ba22.jpg (deflated 0%)\n",
            "  adding: content/robochess-2/train/images/20250613_123228_mp4-0018_jpg.rf.ca7348f57129478406e0cfef8b64780b.jpg (deflated 0%)\n",
            "  adding: content/robochess-2/train/images/20250613_123112_mp4-0000_jpg.rf.aa55e83dddcec899a98bc54ed370ded8.jpg (deflated 0%)\n",
            "  adding: content/robochess-2/train/images/20250613_123228_mp4-0022_jpg.rf.a599187b1c3a85d7380abfea97d0b903.jpg (deflated 0%)\n",
            "  adding: content/robochess-2/train/images/20250613_123228_mp4-0018_jpg.rf.92d40dd85db305c644028002fe60eb6a.jpg (deflated 0%)\n",
            "  adding: content/robochess-2/train/images/20250613_123228_mp4-0003_jpg.rf.6c95632e72605a3f0f07c121d28d98e1.jpg (deflated 1%)\n",
            "  adding: content/robochess-2/train/images/20250613_123112_mp4-0009_jpg.rf.5eecc633d2e8d2c55d2feb7d4fd729ba.jpg (deflated 1%)\n",
            "  adding: content/robochess-2/train/images/2025-06-17-131208_jpg.rf.7e9fcaaaea2afd4de365f3920cb21620.jpg (deflated 1%)\n",
            "  adding: content/robochess-2/train/images/2025-06-17-130918_jpg.rf.6f83d715bed60d0f23fbfb7110cc882e.jpg (deflated 1%)\n",
            "  adding: content/robochess-2/train/images/20250613_122814_mp4-0003_jpg.rf.19fc03bf0d65a550194e98861d61142b.jpg (deflated 0%)\n",
            "  adding: content/robochess-2/train/images/20250613_122814_mp4-0005_jpg.rf.3408121617413455660c371859229baf.jpg (deflated 0%)\n",
            "  adding: content/robochess-2/train/images/20250613_122814_mp4-0013_jpg.rf.6c6444dd06d6c33f7096cd28f4ab7f2b.jpg (deflated 0%)\n",
            "  adding: content/robochess-2/train/images/20250613_123228_mp4-0005_jpg.rf.293cd6c56b8c1a893fc625f7d54f9c0d.jpg (deflated 0%)\n",
            "  adding: content/robochess-2/train/images/20250613_123228_mp4-0004_jpg.rf.dc1c3a53cce320ec67402e26be6a9d4c.jpg (deflated 0%)\n",
            "  adding: content/robochess-2/train/images/20250613_123112_mp4-0040_jpg.rf.12bdfbfc7943f7430d545ba1be57e69e.jpg (deflated 0%)\n",
            "  adding: content/robochess-2/train/images/20250613_123112_mp4-0027_jpg.rf.ad8ede59f884530427c4629a1d2d455b.jpg (deflated 0%)\n",
            "  adding: content/robochess-2/train/images/20250613_123112_mp4-0041_jpg.rf.1d6d2f58e27b16391702e69af5e81c5f.jpg (deflated 0%)\n",
            "  adding: content/robochess-2/train/images/20250613_122814_mp4-0016_jpg.rf.2c451d5d79109fa8d6eca5dec6707ebe.jpg (deflated 0%)\n",
            "  adding: content/robochess-2/train/images/20250613_123228_mp4-0008_jpg.rf.77236ab136f711ac07effdbc6f1f6b62.jpg (deflated 0%)\n",
            "  adding: content/robochess-2/train/images/20250613_123112_mp4-0019_jpg.rf.c9fabe445a9972b885a71ce338af683b.jpg (deflated 0%)\n",
            "  adding: content/robochess-2/train/images/20250613_123228_mp4-0013_jpg.rf.d9cd79f3e7e53989467bafec69cd0ebd.jpg (deflated 0%)\n",
            "  adding: content/robochess-2/train/images/20250613_123112_mp4-0012_jpg.rf.5a4a846752212a00cbc005e50945dd07.jpg (deflated 0%)\n",
            "  adding: content/robochess-2/train/images/20250613_122814_mp4-0014_jpg.rf.e2130641aab79ac251d91c340c8dc9f8.jpg (deflated 0%)\n",
            "  adding: content/robochess-2/train/images/20250613_122814_mp4-0004_jpg.rf.47489402fa039034c514558446933d80.jpg (deflated 1%)\n",
            "  adding: content/robochess-2/train/images/20250613_123228_mp4-0022_jpg.rf.419e654dfd31ed6fc59e7a8a383308c1.jpg (deflated 0%)\n",
            "  adding: content/robochess-2/train/images/20250613_123112_mp4-0042_jpg.rf.890e283b82e24123434b2e48ad77ffa6.jpg (deflated 0%)\n",
            "  adding: content/robochess-2/train/images/20250613_123112_mp4-0000_jpg.rf.dfdc7d595a608eaf817cbd6248478209.jpg (deflated 0%)\n",
            "  adding: content/robochess-2/train/images/20250613_123112_mp4-0007_jpg.rf.8ff61b68bd6806804d63cd402ea35137.jpg (deflated 0%)\n",
            "  adding: content/robochess-2/train/images/20250613_122814_mp4-0009_jpg.rf.245cf60d02f4f39ba33af5a4fca13d31.jpg (deflated 1%)\n",
            "  adding: content/robochess-2/train/images/20250613_123112_mp4-0036_jpg.rf.5d42a0997952abae297e9781e9a0babd.jpg (deflated 0%)\n",
            "  adding: content/robochess-2/train/images/20250613_123112_mp4-0025_jpg.rf.11b6d5e5e10a13b4426893c5b4f74d5b.jpg (deflated 1%)\n",
            "  adding: content/robochess-2/train/images/20250613_123228_mp4-0000_jpg.rf.e9314a24e9e7cef75b67b6cfb05502ca.jpg (deflated 0%)\n",
            "  adding: content/robochess-2/train/images/20250613_122814_mp4-0005_jpg.rf.13ecdfc4f4536bd0fea7086ea9d7aed5.jpg (deflated 0%)\n",
            "  adding: content/robochess-2/train/images/20250613_123112_mp4-0003_jpg.rf.fcc7efd7d1a32194874b37d68aaf2a28.jpg (deflated 0%)\n",
            "  adding: content/robochess-2/train/images/20250613_123228_mp4-0023_jpg.rf.f6b7c0833bcdea71692d916c5fc1837e.jpg (deflated 1%)\n",
            "  adding: content/robochess-2/train/images/20250613_123112_mp4-0005_jpg.rf.91ae3a39ea47c57ec2c808e83923ca4c.jpg (deflated 0%)\n",
            "  adding: content/robochess-2/train/images/20250613_123112_mp4-0001_jpg.rf.24c29441e44e53fb93effb0c4265fc92.jpg (deflated 0%)\n",
            "  adding: content/robochess-2/train/images/20250613_123112_mp4-0003_jpg.rf.749461501fdb53e76761dac9ffed6b64.jpg (deflated 0%)\n",
            "  adding: content/robochess-2/train/images/20250613_123112_mp4-0024_jpg.rf.ee012740f8a6a5fd42d8223be40ea585.jpg (deflated 0%)\n",
            "  adding: content/robochess-2/train/images/20250613_123112_mp4-0038_jpg.rf.158cbc3aa324cd93f94682a30b043657.jpg (deflated 0%)\n",
            "  adding: content/robochess-2/train/images/20250613_123112_mp4-0002_jpg.rf.5aef6bac02c0c2cccc0eda6ac4c2e079.jpg (deflated 0%)\n",
            "  adding: content/robochess-2/train/images/20250613_122814_mp4-0003_jpg.rf.2d3d1c9ff3045b4965c4ca38e38f745b.jpg (deflated 0%)\n",
            "  adding: content/robochess-2/train/images/20250613_123112_mp4-0022_jpg.rf.ee40d1649d14466809a45d5c034b4967.jpg (deflated 0%)\n",
            "  adding: content/robochess-2/train/images/20250613_123112_mp4-0010_jpg.rf.41290730d49c9e541e134dd586194ff2.jpg (deflated 1%)\n",
            "  adding: content/robochess-2/train/images/20250613_123112_mp4-0027_jpg.rf.8b9c59c786ea3d40bb995e40f62e0aab.jpg (deflated 0%)\n",
            "  adding: content/robochess-2/train/images/20250613_123112_mp4-0037_jpg.rf.4da433881ca3947a492e3dcebdd247ea.jpg (deflated 0%)\n",
            "  adding: content/robochess-2/train/images/20250613_122814_mp4-0014_jpg.rf.cc97e1e84fb307773a61db6963d4ab1a.jpg (deflated 0%)\n",
            "  adding: content/robochess-2/train/images/20250613_122814_mp4-0010_jpg.rf.aacbd62b03c5297a64759f37f2750093.jpg (deflated 1%)\n",
            "  adding: content/robochess-2/train/images/20250613_123112_mp4-0038_jpg.rf.5d24a3bce750d20fefd4f993449dad3d.jpg (deflated 1%)\n",
            "  adding: content/robochess-2/train/images/20250613_123112_mp4-0004_jpg.rf.ee55373065c60b4516cc72de8117664f.jpg (deflated 0%)\n",
            "  adding: content/robochess-2/train/images/2025-06-17-130918_jpg.rf.ce1dca40243f5e57d5a88c3278600fa3.jpg (deflated 0%)\n",
            "  adding: content/robochess-2/train/images/20250613_123228_mp4-0003_jpg.rf.cd9e165532ecc21decb21e6e3447ef52.jpg (deflated 0%)\n",
            "  adding: content/robochess-2/train/images/20250613_123228_mp4-0008_jpg.rf.faf722f5b10ba01dfa04abe29a33d463.jpg (deflated 0%)\n",
            "  adding: content/robochess-2/train/images/20250613_123112_mp4-0013_jpg.rf.71405330531caf7484efd8dd71f56d62.jpg (deflated 0%)\n",
            "  adding: content/robochess-2/train/images/20250613_123112_mp4-0036_jpg.rf.e0a0ce249b4b5565db6c6c33d5726f4d.jpg (deflated 0%)\n",
            "  adding: content/robochess-2/train/images/20250613_123228_mp4-0000_jpg.rf.07f3601755f9bfbd432e54bf03343c7c.jpg (deflated 0%)\n",
            "  adding: content/robochess-2/train/images/20250613_123228_mp4-0007_jpg.rf.86378fdf214d7b9d329f0f93e85fd226.jpg (deflated 0%)\n",
            "  adding: content/robochess-2/train/images/20250613_123112_mp4-0035_jpg.rf.969f3131413f8466cce3736d3107e836.jpg (deflated 0%)\n",
            "  adding: content/robochess-2/train/images/20250613_123228_mp4-0014_jpg.rf.19de9cf7b51f816143abb0baee3d9359.jpg (deflated 0%)\n",
            "  adding: content/robochess-2/train/images/20250613_123112_mp4-0015_jpg.rf.5cd7a3e9710af5b77264a4cdad164a40.jpg (deflated 0%)\n",
            "  adding: content/robochess-2/train/images/20250613_123112_mp4-0009_jpg.rf.3df1c46d82c7f02080a5631c5505a319.jpg (deflated 0%)\n",
            "  adding: content/robochess-2/train/images/20250613_123112_mp4-0001_jpg.rf.a43d234e9b8c2a704051baf67f8cb3f3.jpg (deflated 0%)\n",
            "  adding: content/robochess-2/train/images/20250613_122814_mp4-0003_jpg.rf.bdc74d3a0b3d01a7a781dc07574c6121.jpg (deflated 0%)\n",
            "  adding: content/robochess-2/train/images/20250613_122814_mp4-0004_jpg.rf.ed9698130c58817f30cdfe18ae04e931.jpg (deflated 0%)\n",
            "  adding: content/robochess-2/train/images/20250613_123112_mp4-0021_jpg.rf.83c12cafbbd264f84e327100a7670bbb.jpg (deflated 0%)\n",
            "  adding: content/robochess-2/train/images/20250613_123228_mp4-0007_jpg.rf.c1762c6da9625bca9360a9d6a6e2ef75.jpg (deflated 0%)\n",
            "  adding: content/robochess-2/train/images/20250613_123228_mp4-0008_jpg.rf.f55d3a0506e0429bb3a43369142f5777.jpg (deflated 1%)\n",
            "  adding: content/robochess-2/train/images/20250613_123112_mp4-0042_jpg.rf.6ee78d5930da490fc104d6ab5eb02e8b.jpg (deflated 0%)\n",
            "  adding: content/robochess-2/train/images/20250613_123228_mp4-0016_jpg.rf.2467186c5cd7d54c58d14d7597ad49c2.jpg (deflated 0%)\n",
            "  adding: content/robochess-2/train/images/20250613_123228_mp4-0016_jpg.rf.f37f8a7296f6327d038755f87fac3551.jpg (deflated 0%)\n",
            "  adding: content/robochess-2/train/images/20250613_122814_mp4-0008_jpg.rf.b4b46aecec9ff8c64517614bdc8b6422.jpg (deflated 0%)\n",
            "  adding: content/robochess-2/train/images/20250613_122814_mp4-0009_jpg.rf.c2a309a7ebe5b28dc6aceee7b441d20a.jpg (deflated 0%)\n",
            "  adding: content/robochess-2/train/images/20250613_122814_mp4-0013_jpg.rf.547d99602be136036ff7d0f8ef55c55d.jpg (deflated 0%)\n",
            "  adding: content/robochess-2/train/images/20250613_123228_mp4-0016_jpg.rf.3ca8f1eb9a201f21f31b6e3fc353c6b0.jpg (deflated 0%)\n",
            "  adding: content/robochess-2/train/images/20250613_123112_mp4-0012_jpg.rf.aa0ce6bce3c3662ed8451b7aa8f14a30.jpg (deflated 0%)\n",
            "  adding: content/robochess-2/train/images/20250613_122814_mp4-0005_jpg.rf.cee491d0519a31a17bb6435732bfb946.jpg (deflated 1%)\n",
            "  adding: content/robochess-2/train/images/20250613_123112_mp4-0041_jpg.rf.dd37bb7745f4d20cb8eca862fd722aa1.jpg (deflated 0%)\n",
            "  adding: content/robochess-2/train/images/20250613_123228_mp4-0004_jpg.rf.c437b379868d76b211599af57e572b9d.jpg (deflated 0%)\n",
            "  adding: content/robochess-2/train/images/20250613_123112_mp4-0012_jpg.rf.eb6df5c2552b14b0894405cf7916ad43.jpg (deflated 0%)\n",
            "  adding: content/robochess-2/train/images/20250613_123112_mp4-0015_jpg.rf.610f6188cd4562599b37f4ee444d18c3.jpg (deflated 0%)\n",
            "  adding: content/robochess-2/train/images/20250613_123112_mp4-0024_jpg.rf.bdaa2dd66f4c134f2778e75ce7ab08ee.jpg (deflated 1%)\n",
            "  adding: content/robochess-2/train/images/20250613_123112_mp4-0006_jpg.rf.5272cf4b552b681f08f43bf1ded58936.jpg (deflated 0%)\n",
            "  adding: content/robochess-2/train/images/20250613_123228_mp4-0019_jpg.rf.d8eb119f232fd014ec59738e67bfda0d.jpg (deflated 0%)\n",
            "  adding: content/robochess-2/train/images/20250613_123228_mp4-0005_jpg.rf.3cb49dee4043c8b9c3e2a65884e73bcd.jpg (deflated 0%)\n",
            "  adding: content/robochess-2/train/images/20250613_123112_mp4-0022_jpg.rf.d8916daf893b7544563908317c43b512.jpg (deflated 0%)\n",
            "  adding: content/robochess-2/train/images/2025-06-17-131212_jpg.rf.457e9377514bac0a17772d10c9968d64.jpg (deflated 1%)\n",
            "  adding: content/robochess-2/train/images/20250613_122814_mp4-0015_jpg.rf.6e412077785bf2ef58c3e7c027790999.jpg (deflated 0%)\n",
            "  adding: content/robochess-2/train/images/20250613_122814_mp4-0015_jpg.rf.0beeb62c1579bb865c8b5eb8f8ad00de.jpg (deflated 0%)\n",
            "  adding: content/robochess-2/train/images/20250613_123228_mp4-0025_jpg.rf.d32c622e392b917d07a058efc4e7fe29.jpg (deflated 0%)\n",
            "  adding: content/robochess-2/train/images/20250613_123228_mp4-0012_jpg.rf.abeb42541d9e3343ea71ab5d8932894c.jpg (deflated 0%)\n",
            "  adding: content/robochess-2/train/images/20250613_123112_mp4-0004_jpg.rf.b5345753d2495e3c863b5bc88fc0cd00.jpg (deflated 0%)\n",
            "  adding: content/robochess-2/train/images/20250613_122814_mp4-0010_jpg.rf.a98ba9a8d4c68367bf9f4183dbd9ad6a.jpg (deflated 1%)\n",
            "  adding: content/robochess-2/train/images/2025-06-17-130927_jpg.rf.e887139050b3572f90898dd9effc2ac8.jpg (deflated 0%)\n",
            "  adding: content/robochess-2/train/images/20250613_123112_mp4-0021_jpg.rf.be7cf8f4ba4b32c1630debfd4f4448cf.jpg (deflated 0%)\n",
            "  adding: content/robochess-2/train/images/20250613_123112_mp4-0041_jpg.rf.21d2da73c7d7de044c8742a4e63cc636.jpg (deflated 0%)\n",
            "  adding: content/robochess-2/train/images/20250613_123112_mp4-0027_jpg.rf.8255c54aa37968bf93ccfdfddbb5aa1b.jpg (deflated 0%)\n",
            "  adding: content/robochess-2/train/images/20250613_123112_mp4-0002_jpg.rf.83908d640e6d2a1fe167a2b565822305.jpg (deflated 1%)\n",
            "  adding: content/robochess-2/train/images/20250613_123112_mp4-0010_jpg.rf.374de40034b486593656321057bd4be7.jpg (deflated 0%)\n",
            "  adding: content/robochess-2/train/images/20250613_123112_mp4-0007_jpg.rf.28614e4a68d59b8dd515999ed9077a25.jpg (deflated 0%)\n",
            "  adding: content/robochess-2/train/images/20250613_123112_mp4-0019_jpg.rf.53ffdcc2300b16281d0109d7d94d7ebd.jpg (deflated 0%)\n",
            "  adding: content/robochess-2/train/images/20250613_123228_mp4-0022_jpg.rf.dc88c38262b443a36d6cc14c56741caa.jpg (deflated 1%)\n",
            "  adding: content/robochess-2/train/images/20250613_123112_mp4-0021_jpg.rf.c35671cb981df780eb73ad90827ca10f.jpg (deflated 0%)\n",
            "  adding: content/robochess-2/train/images/20250613_123228_mp4-0005_jpg.rf.3736c2f45a3351b0570ac0c7d932d393.jpg (deflated 0%)\n",
            "  adding: content/robochess-2/train/images/20250613_122814_mp4-0012_jpg.rf.883d79ea3e0fd64c8a9df30b84734617.jpg (deflated 0%)\n",
            "  adding: content/robochess-2/train/images/20250613_122814_mp4-0010_jpg.rf.cf76da8cab6324058090d4cad15fab6b.jpg (deflated 0%)\n",
            "  adding: content/robochess-2/train/images/20250613_123228_mp4-0010_jpg.rf.52feda9a509aad149ddf6789872913b5.jpg (deflated 0%)\n",
            "  adding: content/robochess-2/train/images/20250613_123112_mp4-0007_jpg.rf.b24034ab32a4f3d836da590867213180.jpg (deflated 0%)\n",
            "  adding: content/robochess-2/train/images/20250613_123228_mp4-0018_jpg.rf.aa27ae86271715977c7fd2372dc95fdd.jpg (deflated 1%)\n",
            "  adding: content/robochess-2/train/images/20250613_123228_mp4-0025_jpg.rf.3f7651928f8c60824149395563ff52eb.jpg (deflated 1%)\n",
            "  adding: content/robochess-2/train/images/20250613_123112_mp4-0037_jpg.rf.1c393968dbcdf64204905754c51ca2fd.jpg (deflated 0%)\n",
            "  adding: content/robochess-2/train/images/20250613_122814_mp4-0016_jpg.rf.4e18b0bd78b812013558743d4ed4cdf6.jpg (deflated 1%)\n",
            "  adding: content/robochess-2/train/images/20250613_123228_mp4-0023_jpg.rf.de75a26d759d5c2ff8bd9752db3a016c.jpg (deflated 0%)\n",
            "  adding: content/robochess-2/train/images/20250613_123228_mp4-0001_jpg.rf.bc26975f6bfbe6ec9d77aa581ce6d5b4.jpg (deflated 1%)\n",
            "  adding: content/robochess-2/train/images/20250613_123112_mp4-0006_jpg.rf.cb0ec616bd3a2cefdd2b644299d4271f.jpg (deflated 0%)\n",
            "  adding: content/robochess-2/train/images/20250613_123112_mp4-0042_jpg.rf.897e806b2d2b99ba72b06d7a11a14836.jpg (deflated 1%)\n",
            "  adding: content/robochess-2/train/images/20250613_123112_mp4-0036_jpg.rf.0079538ea8bedb096455dac9a2a3b6ad.jpg (deflated 1%)\n",
            "  adding: content/robochess-2/train/images/2025-06-17-131208_jpg.rf.9b231387ddd13a4ee0699f90d01d3bfe.jpg (deflated 0%)\n",
            "  adding: content/robochess-2/train/images/20250613_123112_mp4-0025_jpg.rf.a02439ee6c97a8eec6209ae542a123b6.jpg (deflated 0%)\n",
            "  adding: content/robochess-2/train/images/20250613_123228_mp4-0013_jpg.rf.efada83d54bcb188b408743c1b3b4166.jpg (deflated 0%)\n",
            "  adding: content/robochess-2/train/images/20250613_123112_mp4-0001_jpg.rf.cdb38118c5429a9f4faa5092dfe07739.jpg (deflated 0%)\n",
            "  adding: content/robochess-2/train/images/20250613_122814_mp4-0014_jpg.rf.6ba819636833bf64dfda2b87cfdcd348.jpg (deflated 0%)\n",
            "  adding: content/robochess-2/train/images/20250613_123112_mp4-0034_jpg.rf.233d07f418c742e06473ded1e6c126f2.jpg (deflated 1%)\n",
            "  adding: content/robochess-2/train/images/20250613_123228_mp4-0014_jpg.rf.75389fcf18ae7743b3fa0c3bc4231c93.jpg (deflated 1%)\n",
            "  adding: content/robochess-2/train/images/20250613_122814_mp4-0015_jpg.rf.6c258cdec70e95a28028be9e71dab5ce.jpg (deflated 0%)\n",
            "  adding: content/robochess-2/train/images/2025-06-17-131208_jpg.rf.f3254add3aa6cd570586e9f6b58b5144.jpg (deflated 0%)\n",
            "  adding: content/robochess-2/train/images/20250613_123228_mp4-0019_jpg.rf.106eb251365c437330420f9f2cc57624.jpg (deflated 1%)\n",
            "  adding: content/robochess-2/train/images/20250613_123112_mp4-0015_jpg.rf.328b8d21c5ae6b0ba65db55b565edea5.jpg (deflated 0%)\n",
            "  adding: content/robochess-2/train/images/20250613_122814_mp4-0012_jpg.rf.d97439812338b1204ec5efe5437370dd.jpg (deflated 0%)\n",
            "  adding: content/robochess-2/train/images/20250613_123228_mp4-0000_jpg.rf.4d84df12babe1d94a183bca53f9742c4.jpg (deflated 0%)\n",
            "  adding: content/robochess-2/train/images/20250613_123112_mp4-0034_jpg.rf.ef7b38d1e75c0212d80d0254b5a34d8b.jpg (deflated 0%)\n",
            "  adding: content/robochess-2/train/labels/ (stored 0%)\n",
            "  adding: content/robochess-2/train/labels/20250613_122814_mp4-0009_jpg.rf.44412fd0293979ad7af29920c61a3f89.txt (deflated 54%)\n",
            "  adding: content/robochess-2/train/labels/20250613_123112_mp4-0036_jpg.rf.e0a0ce249b4b5565db6c6c33d5726f4d.txt (deflated 51%)\n",
            "  adding: content/robochess-2/train/labels/20250613_123228_mp4-0025_jpg.rf.377d354951c54b93a7a5e02e3c70eeea.txt (deflated 51%)\n",
            "  adding: content/robochess-2/train/labels/20250613_123228_mp4-0019_jpg.rf.f0451e2beb5220fdcd04e17d982f3f3d.txt (deflated 53%)\n",
            "  adding: content/robochess-2/train/labels/2025-06-17-130927_jpg.rf.915b8c67ee5f60dff2c1a67eeec5d3d8.txt (deflated 51%)\n",
            "  adding: content/robochess-2/train/labels/20250613_122814_mp4-0009_jpg.rf.245cf60d02f4f39ba33af5a4fca13d31.txt (deflated 50%)\n",
            "  adding: content/robochess-2/train/labels/20250613_122814_mp4-0010_jpg.rf.cf76da8cab6324058090d4cad15fab6b.txt (deflated 53%)\n",
            "  adding: content/robochess-2/train/labels/20250613_122814_mp4-0003_jpg.rf.19fc03bf0d65a550194e98861d61142b.txt (deflated 50%)\n",
            "  adding: content/robochess-2/train/labels/20250613_123228_mp4-0001_jpg.rf.5d2a48b558b241cfb91cf407ad5afe25.txt (deflated 53%)\n",
            "  adding: content/robochess-2/train/labels/20250613_123112_mp4-0009_jpg.rf.4ee637c5347f2b45c4fa3e39933ff9e0.txt (deflated 49%)\n",
            "  adding: content/robochess-2/train/labels/20250613_123112_mp4-0021_jpg.rf.83c12cafbbd264f84e327100a7670bbb.txt (deflated 50%)\n",
            "  adding: content/robochess-2/train/labels/20250613_123112_mp4-0001_jpg.rf.24c29441e44e53fb93effb0c4265fc92.txt (deflated 51%)\n",
            "  adding: content/robochess-2/train/labels/20250613_123228_mp4-0024_jpg.rf.ee58aff4609d3617d73ad863a6c9bcf6.txt (deflated 49%)\n",
            "  adding: content/robochess-2/train/labels/20250613_123228_mp4-0016_jpg.rf.2467186c5cd7d54c58d14d7597ad49c2.txt (deflated 52%)\n",
            "  adding: content/robochess-2/train/labels/20250613_123112_mp4-0037_jpg.rf.1c393968dbcdf64204905754c51ca2fd.txt (deflated 51%)\n",
            "  adding: content/robochess-2/train/labels/2025-06-17-131212_jpg.rf.54bc13c48c5c5c85062dbbe1470c3008.txt (deflated 50%)\n",
            "  adding: content/robochess-2/train/labels/20250613_123228_mp4-0008_jpg.rf.faf722f5b10ba01dfa04abe29a33d463.txt (deflated 51%)\n",
            "  adding: content/robochess-2/train/labels/20250613_123112_mp4-0012_jpg.rf.5a4a846752212a00cbc005e50945dd07.txt (deflated 50%)\n",
            "  adding: content/robochess-2/train/labels/20250613_123228_mp4-0004_jpg.rf.dc1c3a53cce320ec67402e26be6a9d4c.txt (deflated 49%)\n",
            "  adding: content/robochess-2/train/labels/20250613_123112_mp4-0005_jpg.rf.c1163bd7cdf5754491f3a80277e8fd1a.txt (deflated 45%)\n",
            "  adding: content/robochess-2/train/labels/20250613_122814_mp4-0003_jpg.rf.2d3d1c9ff3045b4965c4ca38e38f745b.txt (deflated 50%)\n",
            "  adding: content/robochess-2/train/labels/20250613_123112_mp4-0027_jpg.rf.8b9c59c786ea3d40bb995e40f62e0aab.txt (deflated 52%)\n",
            "  adding: content/robochess-2/train/labels/20250613_122814_mp4-0013_jpg.rf.547d99602be136036ff7d0f8ef55c55d.txt (deflated 49%)\n",
            "  adding: content/robochess-2/train/labels/20250613_123112_mp4-0012_jpg.rf.aa0ce6bce3c3662ed8451b7aa8f14a30.txt (deflated 52%)\n",
            "  adding: content/robochess-2/train/labels/20250613_123228_mp4-0007_jpg.rf.c1762c6da9625bca9360a9d6a6e2ef75.txt (deflated 48%)\n",
            "  adding: content/robochess-2/train/labels/20250613_123112_mp4-0003_jpg.rf.fcc7efd7d1a32194874b37d68aaf2a28.txt (deflated 50%)\n",
            "  adding: content/robochess-2/train/labels/20250613_123228_mp4-0023_jpg.rf.f6b7c0833bcdea71692d916c5fc1837e.txt (deflated 52%)\n",
            "  adding: content/robochess-2/train/labels/20250613_123112_mp4-0042_jpg.rf.897e806b2d2b99ba72b06d7a11a14836.txt (deflated 52%)\n",
            "  adding: content/robochess-2/train/labels/20250613_123228_mp4-0004_jpg.rf.cec8c78b3e0b6973e1f811255551820e.txt (deflated 52%)\n",
            "  adding: content/robochess-2/train/labels/20250613_123228_mp4-0010_jpg.rf.52feda9a509aad149ddf6789872913b5.txt (deflated 52%)\n",
            "  adding: content/robochess-2/train/labels/20250613_123112_mp4-0005_jpg.rf.91ae3a39ea47c57ec2c808e83923ca4c.txt (deflated 53%)\n",
            "  adding: content/robochess-2/train/labels/20250613_123112_mp4-0019_jpg.rf.1f595719f9041f2864dc01a6f73a5940.txt (deflated 50%)\n",
            "  adding: content/robochess-2/train/labels/20250613_123228_mp4-0014_jpg.rf.0a8589ea735bd7b595ed11e76ac1821e.txt (deflated 52%)\n",
            "  adding: content/robochess-2/train/labels/20250613_123112_mp4-0019_jpg.rf.c9fabe445a9972b885a71ce338af683b.txt (deflated 52%)\n",
            "  adding: content/robochess-2/train/labels/20250613_123112_mp4-0010_jpg.rf.41290730d49c9e541e134dd586194ff2.txt (deflated 51%)\n",
            "  adding: content/robochess-2/train/labels/20250613_123112_mp4-0022_jpg.rf.89bac212d9c877a598fbe43a854603a7.txt (deflated 50%)\n",
            "  adding: content/robochess-2/train/labels/20250613_123228_mp4-0025_jpg.rf.d32c622e392b917d07a058efc4e7fe29.txt (deflated 53%)\n",
            "  adding: content/robochess-2/train/labels/20250613_122814_mp4-0014_jpg.rf.e2130641aab79ac251d91c340c8dc9f8.txt (deflated 50%)\n",
            "  adding: content/robochess-2/train/labels/2025-06-17-131212_jpg.rf.ddf701b037c0fd4ed5229031ad939176.txt (deflated 53%)\n",
            "  adding: content/robochess-2/train/labels/20250613_123228_mp4-0003_jpg.rf.6c95632e72605a3f0f07c121d28d98e1.txt (deflated 48%)\n",
            "  adding: content/robochess-2/train/labels/20250613_123228_mp4-0022_jpg.rf.dc88c38262b443a36d6cc14c56741caa.txt (deflated 52%)\n",
            "  adding: content/robochess-2/train/labels/20250613_123112_mp4-0006_jpg.rf.1e469c85a4cba9eaa1da11e11e352e9a.txt (deflated 51%)\n",
            "  adding: content/robochess-2/train/labels/20250613_123228_mp4-0005_jpg.rf.293cd6c56b8c1a893fc625f7d54f9c0d.txt (deflated 50%)\n",
            "  adding: content/robochess-2/train/labels/20250613_122814_mp4-0013_jpg.rf.3330dc3234f9add68aa7d6e57426300e.txt (deflated 51%)\n",
            "  adding: content/robochess-2/train/labels/20250613_123112_mp4-0041_jpg.rf.1d6d2f58e27b16391702e69af5e81c5f.txt (deflated 52%)\n",
            "  adding: content/robochess-2/train/labels/20250613_122814_mp4-0008_jpg.rf.2795f450ae8b0e64457e62faff0b357f.txt (deflated 51%)\n",
            "  adding: content/robochess-2/train/labels/20250613_123112_mp4-0001_jpg.rf.a43d234e9b8c2a704051baf67f8cb3f3.txt (deflated 53%)\n",
            "  adding: content/robochess-2/train/labels/20250613_123228_mp4-0005_jpg.rf.3cb49dee4043c8b9c3e2a65884e73bcd.txt (deflated 50%)\n",
            "  adding: content/robochess-2/train/labels/20250613_123228_mp4-0023_jpg.rf.39abe8263a1138c5729b352de9aa2c15.txt (deflated 56%)\n",
            "  adding: content/robochess-2/train/labels/20250613_123228_mp4-0019_jpg.rf.106eb251365c437330420f9f2cc57624.txt (deflated 53%)\n",
            "  adding: content/robochess-2/train/labels/20250613_122814_mp4-0012_jpg.rf.883d79ea3e0fd64c8a9df30b84734617.txt (deflated 49%)\n",
            "  adding: content/robochess-2/train/labels/20250613_123112_mp4-0009_jpg.rf.5eecc633d2e8d2c55d2feb7d4fd729ba.txt (deflated 54%)\n",
            "  adding: content/robochess-2/train/labels/20250613_122814_mp4-0015_jpg.rf.6c258cdec70e95a28028be9e71dab5ce.txt (deflated 50%)\n",
            "  adding: content/robochess-2/train/labels/20250613_123112_mp4-0024_jpg.rf.99f1dd8a570296c3b1d719a0dc768e12.txt (deflated 50%)\n",
            "  adding: content/robochess-2/train/labels/20250613_123228_mp4-0025_jpg.rf.3f7651928f8c60824149395563ff52eb.txt (deflated 52%)\n",
            "  adding: content/robochess-2/train/labels/20250613_122814_mp4-0016_jpg.rf.4e18b0bd78b812013558743d4ed4cdf6.txt (deflated 52%)\n",
            "  adding: content/robochess-2/train/labels/20250613_123112_mp4-0013_jpg.rf.9d0d2a4b36076c1d8b033ede517249b3.txt (deflated 51%)\n",
            "  adding: content/robochess-2/train/labels/20250613_123112_mp4-0036_jpg.rf.0079538ea8bedb096455dac9a2a3b6ad.txt (deflated 51%)\n",
            "  adding: content/robochess-2/train/labels/20250613_123112_mp4-0040_jpg.rf.7cbe105ba070ca6d3b8923a89a588d4b.txt (deflated 51%)\n",
            "  adding: content/robochess-2/train/labels/20250613_123228_mp4-0012_jpg.rf.27e4a8a0700f1b2eee03030415b0c3bb.txt (deflated 54%)\n",
            "  adding: content/robochess-2/train/labels/20250613_122814_mp4-0016_jpg.rf.538df45d4b62e21b38b1ca08ba364c67.txt (deflated 52%)\n",
            "  adding: content/robochess-2/train/labels/20250613_123112_mp4-0009_jpg.rf.3df1c46d82c7f02080a5631c5505a319.txt (deflated 52%)\n",
            "  adding: content/robochess-2/train/labels/20250613_123228_mp4-0010_jpg.rf.a38dd3de90734d16eb8bb280e7261d5c.txt (deflated 51%)\n",
            "  adding: content/robochess-2/train/labels/20250613_123112_mp4-0007_jpg.rf.b24034ab32a4f3d836da590867213180.txt (deflated 52%)\n",
            "  adding: content/robochess-2/train/labels/20250613_123112_mp4-0007_jpg.rf.8ff61b68bd6806804d63cd402ea35137.txt (deflated 51%)\n",
            "  adding: content/robochess-2/train/labels/20250613_122814_mp4-0013_jpg.rf.6c6444dd06d6c33f7096cd28f4ab7f2b.txt (deflated 51%)\n",
            "  adding: content/robochess-2/train/labels/20250613_123228_mp4-0023_jpg.rf.de75a26d759d5c2ff8bd9752db3a016c.txt (deflated 45%)\n",
            "  adding: content/robochess-2/train/labels/20250613_123112_mp4-0004_jpg.rf.bd2b79072a96f5e0fcce06f6c007ba22.txt (deflated 55%)\n",
            "  adding: content/robochess-2/train/labels/20250613_123112_mp4-0040_jpg.rf.d0c3e3f7b2ee81335b104bfff7480f69.txt (deflated 52%)\n",
            "  adding: content/robochess-2/train/labels/20250613_122814_mp4-0003_jpg.rf.bdc74d3a0b3d01a7a781dc07574c6121.txt (deflated 48%)\n",
            "  adding: content/robochess-2/train/labels/2025-06-17-131208_jpg.rf.7e9fcaaaea2afd4de365f3920cb21620.txt (deflated 51%)\n",
            "  adding: content/robochess-2/train/labels/20250613_123112_mp4-0000_jpg.rf.afde79b2fe134d8b6324eb759d8518a3.txt (deflated 51%)\n",
            "  adding: content/robochess-2/train/labels/20250613_123112_mp4-0035_jpg.rf.969f3131413f8466cce3736d3107e836.txt (deflated 53%)\n",
            "  adding: content/robochess-2/train/labels/20250613_123112_mp4-0022_jpg.rf.d8916daf893b7544563908317c43b512.txt (deflated 43%)\n",
            "  adding: content/robochess-2/train/labels/20250613_122814_mp4-0010_jpg.rf.a98ba9a8d4c68367bf9f4183dbd9ad6a.txt (deflated 50%)\n",
            "  adding: content/robochess-2/train/labels/2025-06-17-131208_jpg.rf.9b231387ddd13a4ee0699f90d01d3bfe.txt (deflated 52%)\n",
            "  adding: content/robochess-2/train/labels/20250613_123228_mp4-0008_jpg.rf.77236ab136f711ac07effdbc6f1f6b62.txt (deflated 49%)\n",
            "  adding: content/robochess-2/train/labels/20250613_123112_mp4-0003_jpg.rf.b2f7b88bc571fcecde1808d4177b9943.txt (deflated 51%)\n",
            "  adding: content/robochess-2/train/labels/20250613_122814_mp4-0010_jpg.rf.aacbd62b03c5297a64759f37f2750093.txt (deflated 51%)\n",
            "  adding: content/robochess-2/train/labels/20250613_123112_mp4-0005_jpg.rf.10a065e6755afc9b24537e277038aea2.txt (deflated 49%)\n",
            "  adding: content/robochess-2/train/labels/20250613_123228_mp4-0008_jpg.rf.f55d3a0506e0429bb3a43369142f5777.txt (deflated 51%)\n",
            "  adding: content/robochess-2/train/labels/20250613_123228_mp4-0014_jpg.rf.19de9cf7b51f816143abb0baee3d9359.txt (deflated 52%)\n",
            "  adding: content/robochess-2/train/labels/20250613_123228_mp4-0024_jpg.rf.9e8a2ae67e16e5b91dfc82f532c9b47a.txt (deflated 51%)\n",
            "  adding: content/robochess-2/train/labels/20250613_123228_mp4-0018_jpg.rf.92d40dd85db305c644028002fe60eb6a.txt (deflated 50%)\n",
            "  adding: content/robochess-2/train/labels/20250613_123112_mp4-0021_jpg.rf.c35671cb981df780eb73ad90827ca10f.txt (deflated 56%)\n",
            "  adding: content/robochess-2/train/labels/20250613_123112_mp4-0035_jpg.rf.fd8e95c138e68623702bfa92b2a5d71e.txt (deflated 53%)\n",
            "  adding: content/robochess-2/train/labels/20250613_123112_mp4-0035_jpg.rf.2eb0ea350e91c06694554dc6472241c5.txt (deflated 51%)\n",
            "  adding: content/robochess-2/train/labels/20250613_122814_mp4-0005_jpg.rf.13ecdfc4f4536bd0fea7086ea9d7aed5.txt (deflated 51%)\n",
            "  adding: content/robochess-2/train/labels/20250613_123112_mp4-0002_jpg.rf.83908d640e6d2a1fe167a2b565822305.txt (deflated 52%)\n",
            "  adding: content/robochess-2/train/labels/20250613_122814_mp4-0005_jpg.rf.cee491d0519a31a17bb6435732bfb946.txt (deflated 50%)\n",
            "  adding: content/robochess-2/train/labels/20250613_123112_mp4-0012_jpg.rf.eb6df5c2552b14b0894405cf7916ad43.txt (deflated 50%)\n",
            "  adding: content/robochess-2/train/labels/20250613_123112_mp4-0007_jpg.rf.28614e4a68d59b8dd515999ed9077a25.txt (deflated 49%)\n",
            "  adding: content/robochess-2/train/labels/20250613_123112_mp4-0003_jpg.rf.749461501fdb53e76761dac9ffed6b64.txt (deflated 51%)\n",
            "  adding: content/robochess-2/train/labels/20250613_123112_mp4-0010_jpg.rf.374de40034b486593656321057bd4be7.txt (deflated 50%)\n",
            "  adding: content/robochess-2/train/labels/20250613_123228_mp4-0000_jpg.rf.4d84df12babe1d94a183bca53f9742c4.txt (deflated 52%)\n",
            "  adding: content/robochess-2/train/labels/20250613_123228_mp4-0018_jpg.rf.aa27ae86271715977c7fd2372dc95fdd.txt (deflated 50%)\n",
            "  adding: content/robochess-2/train/labels/20250613_123112_mp4-0042_jpg.rf.890e283b82e24123434b2e48ad77ffa6.txt (deflated 55%)\n",
            "  adding: content/robochess-2/train/labels/20250613_123112_mp4-0002_jpg.rf.d4c03462470d90d8bed78d86fffea312.txt (deflated 51%)\n",
            "  adding: content/robochess-2/train/labels/20250613_123112_mp4-0038_jpg.rf.6c4e314f413fee31602163c67042f2e1.txt (deflated 50%)\n",
            "  adding: content/robochess-2/train/labels/20250613_123228_mp4-0012_jpg.rf.d4e37bcada17751ea965fcbc147d3eb5.txt (deflated 51%)\n",
            "  adding: content/robochess-2/train/labels/20250613_123112_mp4-0019_jpg.rf.53ffdcc2300b16281d0109d7d94d7ebd.txt (deflated 48%)\n",
            "  adding: content/robochess-2/train/labels/2025-06-17-131208_jpg.rf.f3254add3aa6cd570586e9f6b58b5144.txt (deflated 55%)\n",
            "  adding: content/robochess-2/train/labels/20250613_123112_mp4-0015_jpg.rf.328b8d21c5ae6b0ba65db55b565edea5.txt (deflated 49%)\n",
            "  adding: content/robochess-2/train/labels/20250613_123228_mp4-0007_jpg.rf.c0c54ca71aed0adf819ef1c493c48b78.txt (deflated 49%)\n",
            "  adding: content/robochess-2/train/labels/20250613_123228_mp4-0003_jpg.rf.cd9e165532ecc21decb21e6e3447ef52.txt (deflated 52%)\n",
            "  adding: content/robochess-2/train/labels/20250613_123112_mp4-0000_jpg.rf.aa55e83dddcec899a98bc54ed370ded8.txt (deflated 51%)\n",
            "  adding: content/robochess-2/train/labels/20250613_123228_mp4-0016_jpg.rf.3ca8f1eb9a201f21f31b6e3fc353c6b0.txt (deflated 52%)\n",
            "  adding: content/robochess-2/train/labels/20250613_123112_mp4-0013_jpg.rf.d20ac076f773c21397ab8033c7c4a30e.txt (deflated 52%)\n",
            "  adding: content/robochess-2/train/labels/20250613_123112_mp4-0002_jpg.rf.5aef6bac02c0c2cccc0eda6ac4c2e079.txt (deflated 51%)\n",
            "  adding: content/robochess-2/train/labels/20250613_122814_mp4-0004_jpg.rf.401e7ba2d40c7c330dee790e1ec3ea0b.txt (deflated 46%)\n",
            "  adding: content/robochess-2/train/labels/20250613_123228_mp4-0022_jpg.rf.419e654dfd31ed6fc59e7a8a383308c1.txt (deflated 44%)\n",
            "  adding: content/robochess-2/train/labels/20250613_123112_mp4-0001_jpg.rf.cdb38118c5429a9f4faa5092dfe07739.txt (deflated 49%)\n",
            "  adding: content/robochess-2/train/labels/2025-06-17-130927_jpg.rf.e887139050b3572f90898dd9effc2ac8.txt (deflated 50%)\n",
            "  adding: content/robochess-2/train/labels/20250613_123112_mp4-0013_jpg.rf.71405330531caf7484efd8dd71f56d62.txt (deflated 53%)\n",
            "  adding: content/robochess-2/train/labels/20250613_123228_mp4-0013_jpg.rf.efada83d54bcb188b408743c1b3b4166.txt (deflated 51%)\n",
            "  adding: content/robochess-2/train/labels/20250613_123112_mp4-0000_jpg.rf.dfdc7d595a608eaf817cbd6248478209.txt (deflated 50%)\n",
            "  adding: content/robochess-2/train/labels/20250613_123112_mp4-0025_jpg.rf.a02439ee6c97a8eec6209ae542a123b6.txt (deflated 47%)\n",
            "  adding: content/robochess-2/train/labels/20250613_123228_mp4-0007_jpg.rf.86378fdf214d7b9d329f0f93e85fd226.txt (deflated 51%)\n",
            "  adding: content/robochess-2/train/labels/20250613_122814_mp4-0015_jpg.rf.0beeb62c1579bb865c8b5eb8f8ad00de.txt (deflated 51%)\n",
            "  adding: content/robochess-2/train/labels/20250613_123228_mp4-0013_jpg.rf.1f38957b58b0fff65e971b48bc3bbec9.txt (deflated 52%)\n",
            "  adding: content/robochess-2/train/labels/20250613_122814_mp4-0016_jpg.rf.2c451d5d79109fa8d6eca5dec6707ebe.txt (deflated 52%)\n",
            "  adding: content/robochess-2/train/labels/20250613_123228_mp4-0012_jpg.rf.abeb42541d9e3343ea71ab5d8932894c.txt (deflated 54%)\n",
            "  adding: content/robochess-2/train/labels/20250613_123112_mp4-0010_jpg.rf.e2a29f41fe6ba3f62294aa9a2c4d6715.txt (deflated 54%)\n",
            "  adding: content/robochess-2/train/labels/20250613_123112_mp4-0041_jpg.rf.dd37bb7745f4d20cb8eca862fd722aa1.txt (deflated 49%)\n",
            "  adding: content/robochess-2/train/labels/20250613_123228_mp4-0022_jpg.rf.a599187b1c3a85d7380abfea97d0b903.txt (deflated 53%)\n",
            "  adding: content/robochess-2/train/labels/20250613_123228_mp4-0018_jpg.rf.ca7348f57129478406e0cfef8b64780b.txt (deflated 45%)\n",
            "  adding: content/robochess-2/train/labels/2025-06-17-131212_jpg.rf.457e9377514bac0a17772d10c9968d64.txt (deflated 51%)\n",
            "  adding: content/robochess-2/train/labels/20250613_123112_mp4-0004_jpg.rf.b5345753d2495e3c863b5bc88fc0cd00.txt (deflated 50%)\n",
            "  adding: content/robochess-2/train/labels/20250613_122814_mp4-0008_jpg.rf.b4b46aecec9ff8c64517614bdc8b6422.txt (deflated 50%)\n",
            "  adding: content/robochess-2/train/labels/20250613_123112_mp4-0006_jpg.rf.cb0ec616bd3a2cefdd2b644299d4271f.txt (deflated 51%)\n",
            "  adding: content/robochess-2/train/labels/20250613_123228_mp4-0000_jpg.rf.07f3601755f9bfbd432e54bf03343c7c.txt (deflated 46%)\n",
            "  adding: content/robochess-2/train/labels/20250613_123228_mp4-0024_jpg.rf.ab6bc53e129679c6f8cd474d0ff261fd.txt (deflated 52%)\n",
            "  adding: content/robochess-2/train/labels/20250613_123112_mp4-0034_jpg.rf.233d07f418c742e06473ded1e6c126f2.txt (deflated 51%)\n",
            "  adding: content/robochess-2/train/labels/20250613_123228_mp4-0001_jpg.rf.bc26975f6bfbe6ec9d77aa581ce6d5b4.txt (deflated 51%)\n",
            "  adding: content/robochess-2/train/labels/20250613_123112_mp4-0037_jpg.rf.4da433881ca3947a492e3dcebdd247ea.txt (deflated 54%)\n",
            "  adding: content/robochess-2/train/labels/20250613_123228_mp4-0000_jpg.rf.e9314a24e9e7cef75b67b6cfb05502ca.txt (deflated 51%)\n",
            "  adding: content/robochess-2/train/labels/20250613_123228_mp4-0005_jpg.rf.3736c2f45a3351b0570ac0c7d932d393.txt (deflated 50%)\n",
            "  adding: content/robochess-2/train/labels/20250613_123112_mp4-0015_jpg.rf.5cd7a3e9710af5b77264a4cdad164a40.txt (deflated 45%)\n",
            "  adding: content/robochess-2/train/labels/20250613_123112_mp4-0036_jpg.rf.5d42a0997952abae297e9781e9a0babd.txt (deflated 51%)\n",
            "  adding: content/robochess-2/train/labels/20250613_123112_mp4-0015_jpg.rf.610f6188cd4562599b37f4ee444d18c3.txt (deflated 51%)\n",
            "  adding: content/robochess-2/train/labels/20250613_123112_mp4-0038_jpg.rf.5d24a3bce750d20fefd4f993449dad3d.txt (deflated 53%)\n",
            "  adding: content/robochess-2/train/labels/20250613_123112_mp4-0034_jpg.rf.d05425940bd01a931ed821eabe238766.txt (deflated 52%)\n",
            "  adding: content/robochess-2/train/labels/2025-06-17-130918_jpg.rf.6f83d715bed60d0f23fbfb7110cc882e.txt (deflated 54%)\n",
            "  adding: content/robochess-2/train/labels/20250613_123112_mp4-0006_jpg.rf.5272cf4b552b681f08f43bf1ded58936.txt (deflated 44%)\n",
            "  adding: content/robochess-2/train/labels/20250613_123112_mp4-0034_jpg.rf.ef7b38d1e75c0212d80d0254b5a34d8b.txt (deflated 52%)\n",
            "  adding: content/robochess-2/train/labels/20250613_123112_mp4-0042_jpg.rf.6ee78d5930da490fc104d6ab5eb02e8b.txt (deflated 52%)\n",
            "  adding: content/robochess-2/train/labels/20250613_123228_mp4-0003_jpg.rf.104370df07d75865e847225ca465a660.txt (deflated 49%)\n",
            "  adding: content/robochess-2/train/labels/20250613_122814_mp4-0004_jpg.rf.47489402fa039034c514558446933d80.txt (deflated 51%)\n",
            "  adding: content/robochess-2/train/labels/20250613_122814_mp4-0012_jpg.rf.d97439812338b1204ec5efe5437370dd.txt (deflated 52%)\n",
            "  adding: content/robochess-2/train/labels/20250613_122814_mp4-0009_jpg.rf.c2a309a7ebe5b28dc6aceee7b441d20a.txt (deflated 50%)\n",
            "  adding: content/robochess-2/train/labels/20250613_123112_mp4-0022_jpg.rf.ee40d1649d14466809a45d5c034b4967.txt (deflated 52%)\n",
            "  adding: content/robochess-2/train/labels/20250613_123112_mp4-0024_jpg.rf.ee012740f8a6a5fd42d8223be40ea585.txt (deflated 52%)\n",
            "  adding: content/robochess-2/train/labels/20250613_123112_mp4-0027_jpg.rf.8255c54aa37968bf93ccfdfddbb5aa1b.txt (deflated 53%)\n",
            "  adding: content/robochess-2/train/labels/20250613_123112_mp4-0037_jpg.rf.5f35b4ca5b7da75bfdc1d71bb4fd78e5.txt (deflated 51%)\n",
            "  adding: content/robochess-2/train/labels/20250613_123112_mp4-0004_jpg.rf.ee55373065c60b4516cc72de8117664f.txt (deflated 50%)\n",
            "  adding: content/robochess-2/train/labels/20250613_122814_mp4-0012_jpg.rf.1b3a09ea658c72464ea094abf9c1cd50.txt (deflated 51%)\n",
            "  adding: content/robochess-2/train/labels/20250613_122814_mp4-0014_jpg.rf.6ba819636833bf64dfda2b87cfdcd348.txt (deflated 47%)\n",
            "  adding: content/robochess-2/train/labels/20250613_123228_mp4-0019_jpg.rf.d8eb119f232fd014ec59738e67bfda0d.txt (deflated 51%)\n",
            "  adding: content/robochess-2/train/labels/20250613_123112_mp4-0041_jpg.rf.21d2da73c7d7de044c8742a4e63cc636.txt (deflated 52%)\n",
            "  adding: content/robochess-2/train/labels/20250613_123112_mp4-0038_jpg.rf.158cbc3aa324cd93f94682a30b043657.txt (deflated 49%)\n",
            "  adding: content/robochess-2/train/labels/20250613_122814_mp4-0015_jpg.rf.6e412077785bf2ef58c3e7c027790999.txt (deflated 50%)\n",
            "  adding: content/robochess-2/train/labels/20250613_123112_mp4-0040_jpg.rf.12bdfbfc7943f7430d545ba1be57e69e.txt (deflated 49%)\n",
            "  adding: content/robochess-2/train/labels/20250613_123112_mp4-0025_jpg.rf.1e63fed4d707c3e47e6f4dfa7da3910e.txt (deflated 53%)\n",
            "  adding: content/robochess-2/train/labels/2025-06-17-130927_jpg.rf.b344a71b249938d9cfed1d3729f81f86.txt (deflated 52%)\n",
            "  adding: content/robochess-2/train/labels/20250613_123112_mp4-0024_jpg.rf.bdaa2dd66f4c134f2778e75ce7ab08ee.txt (deflated 53%)\n",
            "  adding: content/robochess-2/train/labels/20250613_123112_mp4-0025_jpg.rf.11b6d5e5e10a13b4426893c5b4f74d5b.txt (deflated 50%)\n",
            "  adding: content/robochess-2/train/labels/20250613_123228_mp4-0014_jpg.rf.75389fcf18ae7743b3fa0c3bc4231c93.txt (deflated 52%)\n",
            "  adding: content/robochess-2/train/labels/20250613_122814_mp4-0014_jpg.rf.cc97e1e84fb307773a61db6963d4ab1a.txt (deflated 53%)\n",
            "  adding: content/robochess-2/train/labels/20250613_122814_mp4-0008_jpg.rf.8751e1288e37f041ca28e2576ca0e987.txt (deflated 51%)\n",
            "  adding: content/robochess-2/train/labels/20250613_123228_mp4-0004_jpg.rf.c437b379868d76b211599af57e572b9d.txt (deflated 50%)\n",
            "  adding: content/robochess-2/train/labels/20250613_123228_mp4-0010_jpg.rf.23b796681eb485dc81f5d59e7afef645.txt (deflated 52%)\n",
            "  adding: content/robochess-2/train/labels/20250613_123112_mp4-0027_jpg.rf.ad8ede59f884530427c4629a1d2d455b.txt (deflated 50%)\n",
            "  adding: content/robochess-2/train/labels/20250613_123228_mp4-0016_jpg.rf.f37f8a7296f6327d038755f87fac3551.txt (deflated 52%)\n",
            "  adding: content/robochess-2/train/labels/20250613_122814_mp4-0004_jpg.rf.ed9698130c58817f30cdfe18ae04e931.txt (deflated 59%)\n",
            "  adding: content/robochess-2/train/labels/20250613_123112_mp4-0021_jpg.rf.be7cf8f4ba4b32c1630debfd4f4448cf.txt (deflated 54%)\n",
            "  adding: content/robochess-2/train/labels/20250613_122814_mp4-0005_jpg.rf.3408121617413455660c371859229baf.txt (deflated 54%)\n",
            "  adding: content/robochess-2/train/labels/20250613_123228_mp4-0001_jpg.rf.4ce21e2e10e751c2ae59d1fa2eedcbff.txt (deflated 50%)\n",
            "  adding: content/robochess-2/train/labels/2025-06-17-130918_jpg.rf.ce1dca40243f5e57d5a88c3278600fa3.txt (deflated 52%)\n",
            "  adding: content/robochess-2/train/labels/2025-06-17-130918_jpg.rf.45624c23c4448765c20b9d6d68aac288.txt (deflated 55%)\n",
            "  adding: content/robochess-2/train/labels/20250613_123228_mp4-0013_jpg.rf.d9cd79f3e7e53989467bafec69cd0ebd.txt (deflated 52%)\n",
            "  adding: content/robochess-2/README.dataset.txt (deflated 18%)\n",
            "  adding: content/robochess-2/data.yaml (deflated 38%)\n",
            "  adding: content/robochess-2/test/ (stored 0%)\n",
            "  adding: content/robochess-2/test/images/ (stored 0%)\n",
            "  adding: content/robochess-2/test/images/20250613_123112_mp4-0017_jpg.rf.04b34c0356ffd2f2396da97ea9445fcb.jpg (deflated 0%)\n",
            "  adding: content/robochess-2/test/images/20250613_123112_mp4-0023_jpg.rf.e787330822a9152405edce35d1228a19.jpg (deflated 0%)\n",
            "  adding: content/robochess-2/test/images/20250613_123112_mp4-0030_jpg.rf.e09ae2a889dbd3042d59cb063a0fc498.jpg (deflated 0%)\n",
            "  adding: content/robochess-2/test/images/20250613_123228_mp4-0009_jpg.rf.29758faaf4780fbb8c719a8ed6ba8485.jpg (deflated 0%)\n",
            "  adding: content/robochess-2/test/images/20250613_123112_mp4-0011_jpg.rf.b380164a9394bb92ca47c77f6ad6393f.jpg (deflated 0%)\n",
            "  adding: content/robochess-2/test/images/20250613_122814_mp4-0011_jpg.rf.70a1786ddd9ce304952de2dceada1161.jpg (deflated 0%)\n",
            "  adding: content/robochess-2/test/images/20250613_123228_mp4-0011_jpg.rf.d281b9c6605bd477f8a1a1b137c2d1a3.jpg (deflated 0%)\n",
            "  adding: content/robochess-2/test/images/20250613_123228_mp4-0020_jpg.rf.670132f1f634f97e8190044e0ce14fbd.jpg (deflated 0%)\n",
            "  adding: content/robochess-2/test/images/2025-06-17-130922_jpg.rf.fed72235fd41726ba952c3f286c71d07.jpg (deflated 0%)\n",
            "  adding: content/robochess-2/test/labels/ (stored 0%)\n",
            "  adding: content/robochess-2/test/labels/20250613_123112_mp4-0023_jpg.rf.e787330822a9152405edce35d1228a19.txt (deflated 55%)\n",
            "  adding: content/robochess-2/test/labels/20250613_123228_mp4-0020_jpg.rf.670132f1f634f97e8190044e0ce14fbd.txt (deflated 51%)\n",
            "  adding: content/robochess-2/test/labels/20250613_122814_mp4-0011_jpg.rf.70a1786ddd9ce304952de2dceada1161.txt (deflated 53%)\n",
            "  adding: content/robochess-2/test/labels/20250613_123112_mp4-0030_jpg.rf.e09ae2a889dbd3042d59cb063a0fc498.txt (deflated 52%)\n",
            "  adding: content/robochess-2/test/labels/20250613_123112_mp4-0011_jpg.rf.b380164a9394bb92ca47c77f6ad6393f.txt (deflated 50%)\n",
            "  adding: content/robochess-2/test/labels/20250613_123228_mp4-0011_jpg.rf.d281b9c6605bd477f8a1a1b137c2d1a3.txt (deflated 49%)\n",
            "  adding: content/robochess-2/test/labels/2025-06-17-130922_jpg.rf.fed72235fd41726ba952c3f286c71d07.txt (deflated 52%)\n",
            "  adding: content/robochess-2/test/labels/20250613_123112_mp4-0017_jpg.rf.04b34c0356ffd2f2396da97ea9445fcb.txt (deflated 53%)\n",
            "  adding: content/robochess-2/test/labels/20250613_123228_mp4-0009_jpg.rf.29758faaf4780fbb8c719a8ed6ba8485.txt (deflated 51%)\n",
            "  adding: content/sample_data/ (stored 0%)\n",
            "  adding: content/sample_data/anscombe.json (deflated 83%)\n",
            "  adding: content/sample_data/README.md (deflated 39%)\n",
            "  adding: content/sample_data/california_housing_train.csv (deflated 79%)\n",
            "  adding: content/sample_data/california_housing_test.csv (deflated 76%)\n",
            "  adding: content/sample_data/mnist_test.csv (deflated 88%)\n",
            "  adding: content/sample_data/mnist_train_small.csv (deflated 88%)\n"
          ]
        },
        {
          "output_type": "display_data",
          "data": {
            "text/plain": [
              "<IPython.core.display.Javascript object>"
            ],
            "application/javascript": [
              "\n",
              "    async function download(id, filename, size) {\n",
              "      if (!google.colab.kernel.accessAllowed) {\n",
              "        return;\n",
              "      }\n",
              "      const div = document.createElement('div');\n",
              "      const label = document.createElement('label');\n",
              "      label.textContent = `Downloading \"${filename}\": `;\n",
              "      div.appendChild(label);\n",
              "      const progress = document.createElement('progress');\n",
              "      progress.max = size;\n",
              "      div.appendChild(progress);\n",
              "      document.body.appendChild(div);\n",
              "\n",
              "      const buffers = [];\n",
              "      let downloaded = 0;\n",
              "\n",
              "      const channel = await google.colab.kernel.comms.open(id);\n",
              "      // Send a message to notify the kernel that we're ready.\n",
              "      channel.send({})\n",
              "\n",
              "      for await (const message of channel.messages) {\n",
              "        // Send a message to notify the kernel that we're ready.\n",
              "        channel.send({})\n",
              "        if (message.buffers) {\n",
              "          for (const buffer of message.buffers) {\n",
              "            buffers.push(buffer);\n",
              "            downloaded += buffer.byteLength;\n",
              "            progress.value = downloaded;\n",
              "          }\n",
              "        }\n",
              "      }\n",
              "      const blob = new Blob(buffers, {type: 'application/binary'});\n",
              "      const a = document.createElement('a');\n",
              "      a.href = window.URL.createObjectURL(blob);\n",
              "      a.download = filename;\n",
              "      div.appendChild(a);\n",
              "      a.click();\n",
              "      div.remove();\n",
              "    }\n",
              "  "
            ]
          },
          "metadata": {}
        },
        {
          "output_type": "display_data",
          "data": {
            "text/plain": [
              "<IPython.core.display.Javascript object>"
            ],
            "application/javascript": [
              "download(\"download_f3864d7f-9866-47bf-9ceb-20f584073a9f\", \"file.zip\", 72818619)"
            ]
          },
          "metadata": {}
        }
      ]
    },
    {
      "cell_type": "code",
      "source": [],
      "metadata": {
        "id": "u5M_Xi849BVw"
      },
      "execution_count": null,
      "outputs": []
    }
  ],
  "metadata": {
    "accelerator": "GPU",
    "colab": {
      "gpuType": "T4",
      "provenance": [],
      "mount_file_id": "https://github.com/Savijapasandul/robo_chess/blob/main/chess_grid_detection_tracking.ipynb",
      "authorship_tag": "ABX9TyPEpQQaA/JQ+5S7eyEg1zI0",
      "include_colab_link": true
    },
    "kernelspec": {
      "display_name": ".venv",
      "language": "python",
      "name": "python3"
    },
    "language_info": {
      "name": "python",
      "version": "3.12.3"
    }
  },
  "nbformat": 4,
  "nbformat_minor": 0
}